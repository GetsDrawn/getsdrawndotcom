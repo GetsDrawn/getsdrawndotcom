{
 "cells": [
  {
   "cell_type": "markdown",
   "metadata": {},
   "source": [
    "<h1>Nikola GetsDrawn</h1>"
   ]
  },
  {
   "cell_type": "markdown",
   "metadata": {},
   "source": [
    "This is a python script to generate the website GetsDrawn. It takes data from /r/RedditGetsDrawn and makes something awesome. It uses the Nikola web framework in to make a website that is mobile friendly. \n",
    "\n",
    "The script has been rewritten several times and developed over time \n",
    "\n",
    "The first script for rgdsnatch was written after I got banned from posting my artwork on /r/RedditGetsDrawn. The plan was to create a new site that displayed stuff from /r/RedditGetsDrawn. \n",
    "\n",
    "Currently it only displays the most recent 25 items on redditgetsdrawn. The script looks at the newest 25 reference photos on RedditGetsDrawn. It focuses only on jpeg/png images and ignores and links to none .jpg or .png ending files. \n",
    "It is needed to instead of ignoring them files - get the image or images in some cases, from the link.\n",
    "The photos are always submitted from imgur.\n",
    "Still filter out the i.imgur files, but take the links and filter them through a python imgur module returning the .jpeg or .png files. \n",
    "\n",
    "\n",
    "This is moving forward from rgdsnatch.py because I am stuck on it.  \n",
    "\n",
    "TODO\n",
    "\n",
    "Fix the links that don't link to png/jpeg and link to webaddress. \n",
    "Needs to get the images that are at that web address and embed them.\n",
    "\n",
    "Display artwork submitted under the images. \n",
    "\n",
    "Upload artwork to user. Sends them a message on redditgetsdrawn with links. \n",
    "\n",
    "More pandas\n",
    "\n",
    "Saves reference images to imgs/year/month/day/reference/username-reference.png\n",
    "\n",
    "Saves art images to imgs/year/month/day/art/username-line-bw-colour.png \n",
    "\n",
    "Creates index.html file with:\n",
    "Title of site and logo: GetsDrawn\n",
    "Last updated date and time. \n",
    "\n",
    "Path of image file /imgs/year/month/day/username-reference.png. \n",
    "(This needs changed to just their username).\n",
    "\n",
    "Save off .meta data from reddit of each photo, saving it to reference folder.\n",
    "username-yrmnthday.meta - contains info such as author, title, upvotes, downvotes.\n",
    "Currently saving .meta files to a meta folder - along side art and reference. \n",
    "\n",
    "Folder sorting system of files. \n",
    "websitename/index.html-style.css-imgs/YEAR(15)-MONTH(2)-DAY(4)/art-reference-meta\n",
    "Inside art folder\n",
    "Currently it generates USERNAME-line/bw/colour.png 50/50 white files. Maybe should be getting art replies from reddit?\n",
    "\n",
    "Inside reference folder\n",
    "Reference fold is working decent. \n",
    "it creates USERNAME-reference.png / jpeg files. \n",
    "\n",
    "Currently saves username-line-bw-colour.png to imgs folder. Instead get it to save to imgs/year/month/day/usernames.png.\n",
    "Script checks the year/month/day and if folder isnt created, it creates it. If folder is there, exit. \n",
    "Maybe get the reference image and save it with the line/bw/color.pngs\n",
    "\n",
    "The script now filters the jpeg and png image and skips links to imgur pages. This needs to be fixed by getting the images from the imgur pages.\n",
    "It renames the image files to the redditor username followed by a -reference tag (and ending with png of course).\n",
    "It opens these files up with PIL and checks the sizes. \n",
    "It needs to resize the images that are larger than 800px to 800px.\n",
    "These images need to be linked in the index.html instead of the imgur altenatives. \n",
    "\n",
    "Instead of the jpeg/png files on imgur they are downloaded to the server with this script. \n",
    "\n",
    "Filter through as images are getting downloaded and if it has been less than certain time or if the image has been submitted before \n",
    "\n",
    "Extending the subreddits it gets data from to cycle though a list, run script though list of subreddits.\n",
    "\n",
    "Browse certain days - Current day by default but option to scroll through other days.\n",
    "\n",
    "Filters - male/female/animals/couples etc\n",
    "Function that returns only male portraits. \n",
    "tags to add to photos. \n",
    "Filter images with tags\n",
    "\n",
    "\n"
   ]
  },
  {
   "cell_type": "code",
   "execution_count": 3,
   "metadata": {
    "collapsed": false
   },
   "outputs": [],
   "source": [
    "import os \n",
    "import requests\n",
    "from bs4 import BeautifulSoup\n",
    "import re\n",
    "import json\n",
    "import time\n",
    "import praw\n",
    "from time import gmtime, strftime\n",
    "#import nose\n",
    "#import unittest\n",
    "#import numpy as np\n",
    "#import pandas as pd\n",
    "#from pandas import *\n",
    "#from PIL import Image\n",
    "#from pprint import pprint\n",
    "#import pyttsx\n",
    "import shutil\n",
    "\n",
    "import getpass"
   ]
  },
  {
   "cell_type": "code",
   "execution_count": 4,
   "metadata": {
    "collapsed": false
   },
   "outputs": [],
   "source": [
    "myusr = getpass.getuser()"
   ]
  },
  {
   "cell_type": "code",
   "execution_count": 5,
   "metadata": {
    "collapsed": false
   },
   "outputs": [],
   "source": [
    "gtsdrndir = ('/home/' + myusr + '/getsdrawn/')"
   ]
  },
  {
   "cell_type": "code",
   "execution_count": 7,
   "metadata": {
    "collapsed": false
   },
   "outputs": [],
   "source": [
    "os.chdir(gtsdrndir)"
   ]
  },
  {
   "cell_type": "code",
   "execution_count": 8,
   "metadata": {
    "collapsed": false
   },
   "outputs": [],
   "source": [
    "r = praw.Reddit(user_agent='getsdrawndotcom')"
   ]
  },
  {
   "cell_type": "code",
   "execution_count": 9,
   "metadata": {
    "collapsed": true
   },
   "outputs": [],
   "source": [
    "bodycom = []\n",
    "bodyicv = dict()"
   ]
  },
  {
   "cell_type": "code",
   "execution_count": 10,
   "metadata": {
    "collapsed": true
   },
   "outputs": [],
   "source": [
    "#beginz = pyttsx.init()"
   ]
  },
  {
   "cell_type": "code",
   "execution_count": 11,
   "metadata": {
    "collapsed": true
   },
   "outputs": [],
   "source": [
    "#bodycom "
   ]
  },
  {
   "cell_type": "code",
   "execution_count": 12,
   "metadata": {
    "collapsed": true
   },
   "outputs": [],
   "source": [
    "getnewr = r.get_subreddit('redditgetsdrawn')"
   ]
  },
  {
   "cell_type": "code",
   "execution_count": 13,
   "metadata": {
    "collapsed": true
   },
   "outputs": [],
   "source": [
    "rdnew = getnewr.get_new()"
   ]
  },
  {
   "cell_type": "code",
   "execution_count": 14,
   "metadata": {
    "collapsed": true
   },
   "outputs": [],
   "source": [
    "lisrgc = []\n",
    "lisauth = []"
   ]
  },
  {
   "cell_type": "code",
   "execution_count": 15,
   "metadata": {
    "collapsed": true
   },
   "outputs": [],
   "source": [
    "for uz in rdnew:\n",
    "    #print uz\n",
    "    lisrgc.append(uz)"
   ]
  },
  {
   "cell_type": "code",
   "execution_count": 16,
   "metadata": {
    "collapsed": true
   },
   "outputs": [],
   "source": [
    "gtdrndic = dict()"
   ]
  },
  {
   "cell_type": "code",
   "execution_count": 17,
   "metadata": {
    "collapsed": true
   },
   "outputs": [],
   "source": [
    "imgdir = ('/home/' + myusr + '/getsdrawn/galleries/')"
   ]
  },
  {
   "cell_type": "code",
   "execution_count": 19,
   "metadata": {
    "collapsed": false
   },
   "outputs": [],
   "source": [
    "artlist = os.listdir(imgdir)"
   ]
  },
  {
   "cell_type": "code",
   "execution_count": 20,
   "metadata": {
    "collapsed": true
   },
   "outputs": [],
   "source": [
    "from time import time"
   ]
  },
  {
   "cell_type": "code",
   "execution_count": 21,
   "metadata": {
    "collapsed": true
   },
   "outputs": [],
   "source": [
    "yearz = strftime(\"%y\", gmtime())\n",
    "monthz = strftime(\"%m\", gmtime())\n",
    "dayz = strftime(\"%d\", gmtime())\n",
    "\n",
    "\n",
    "#strftime(\"%y %m %d\", gmtime())\n",
    "\n"
   ]
  },
  {
   "cell_type": "code",
   "execution_count": 22,
   "metadata": {
    "collapsed": true
   },
   "outputs": [],
   "source": [
    "#imgzdir = ('')\n",
    "yrzpat = (imgdir + yearz)\n",
    "monzpath = (yrzpat + '/' + monthz)\n",
    "dayzpath = (monzpath + '/' + dayz)\n",
    "#rmgzdays = (dayzpath + '/reference')\n",
    "#imgzdays = (dayzpath + '/art')\n",
    "#metzdays = (dayzpath + '/meta')\n",
    "\n",
    "repathz = (imgdir + yearz + '/' + monthz + '/' + dayz + '/')"
   ]
  },
  {
   "cell_type": "code",
   "execution_count": 23,
   "metadata": {
    "collapsed": true
   },
   "outputs": [],
   "source": [
    "fulyr = yearz + '-' + monthz + '-' + dayz + '-reference'"
   ]
  },
  {
   "cell_type": "code",
   "execution_count": 24,
   "metadata": {
    "collapsed": false
   },
   "outputs": [],
   "source": [
    "dateful = yearz + '/' + monthz + '/' + dayz"
   ]
  },
  {
   "cell_type": "code",
   "execution_count": 25,
   "metadata": {
    "collapsed": false
   },
   "outputs": [],
   "source": [
    "def ospacheck():\n",
    "    if os.path.isdir(imgdir + yearz) == True:\n",
    "        print ('its true')\n",
    "    else:\n",
    "        print ('its false')\n",
    "        os.mkdir(imgdir + yearz)\n",
    "    "
   ]
  },
  {
   "cell_type": "code",
   "execution_count": 26,
   "metadata": {
    "collapsed": false
   },
   "outputs": [
    {
     "name": "stdout",
     "output_type": "stream",
     "text": [
      "its false\n"
     ]
    }
   ],
   "source": [
    "ospacheck()"
   ]
  },
  {
   "cell_type": "code",
   "execution_count": 27,
   "metadata": {
    "collapsed": true
   },
   "outputs": [],
   "source": [
    "#if os.path.isdir(imgzdir + yearz) == True:\n",
    "#    print 'its true'\n",
    "#else:\n",
    "#    print 'its false'\n",
    "#    os.mkdir(imgzdir + yearz)"
   ]
  },
  {
   "cell_type": "code",
   "execution_count": 28,
   "metadata": {
    "collapsed": false
   },
   "outputs": [
    {
     "name": "stdout",
     "output_type": "stream",
     "text": [
      "its false\n"
     ]
    }
   ],
   "source": [
    "if os.path.isdir(monzpath) == True:\n",
    "    print ('its true')\n",
    "else:\n",
    "    print ('its false')\n",
    "    os.mkdir(monzpath)\n",
    "\n",
    "#os.mkdir(monzpath)"
   ]
  },
  {
   "cell_type": "code",
   "execution_count": 29,
   "metadata": {
    "collapsed": false
   },
   "outputs": [
    {
     "name": "stdout",
     "output_type": "stream",
     "text": [
      "its false\n"
     ]
    }
   ],
   "source": [
    "if os.path.isdir(dayzpath) == True:\n",
    "    print ('its true')\n",
    "else:\n",
    "    print ('its false')\n",
    "    os.mkdir(dayzpath)\n",
    "\n",
    "#os.mkdir(dayzpath)"
   ]
  },
  {
   "cell_type": "code",
   "execution_count": 30,
   "metadata": {
    "collapsed": true
   },
   "outputs": [],
   "source": [
    "rmgzdays = (dayzpath + '/reference')\n",
    "#imgzdays = (dayzpath + '/art')\n",
    "#metzdays = (dayzpath + '/meta')"
   ]
  },
  {
   "cell_type": "markdown",
   "metadata": {},
   "source": [
    "Instead of creating these white images, why not download the art replies of the reference photo."
   ]
  },
  {
   "cell_type": "markdown",
   "metadata": {},
   "source": [
    "I want to save the list of usernames that submit images as png files in a dir. \n",
    "Currently when I call the list of authors it returns Redditor(user_name='theusername'). I want to return 'theusername'.\n",
    "Once this is resolved I can add '-line.png' '-bw.png' '-colour.png' to each folder. "
   ]
  },
  {
   "cell_type": "code",
   "execution_count": 31,
   "metadata": {
    "collapsed": true
   },
   "outputs": [],
   "source": [
    "namlis = []"
   ]
  },
  {
   "cell_type": "code",
   "execution_count": 32,
   "metadata": {
    "collapsed": false
   },
   "outputs": [],
   "source": [
    "#opsinz = open('/home/wcmckee/visignsys/index.meta', 'r')\n",
    "#panz = opsinz.read()"
   ]
  },
  {
   "cell_type": "code",
   "execution_count": 80,
   "metadata": {
    "collapsed": false
   },
   "outputs": [],
   "source": [
    "oppost = open('/home/' + myusr + '/getsdrawn/posts/' + fulyr + '.md', 'w')"
   ]
  },
  {
   "cell_type": "code",
   "execution_count": null,
   "metadata": {
    "collapsed": true
   },
   "outputs": [],
   "source": []
  },
  {
   "cell_type": "code",
   "execution_count": 81,
   "metadata": {
    "collapsed": false
   },
   "outputs": [
    {
     "name": "stdout",
     "output_type": "stream",
     "text": [
      "http://b.thumbs.redditmedia.com/3BZoIQ7uTLUGY3He4HpZYAc00wGLaT0vX7JbDuMaxhg.jpg\n",
      "Sometimes I dress like an elf for no reason..let's see some art of me in a proper elvish setting!\n",
      "Sometimes I dress like an elf for no reason..let's see some art of me in a proper elvish setting!\n",
      "![Valier_](/galleries/16/03/06/Valier_-reference-thumb.jpg)\n",
      "\n",
      "[Valier_](https://reddit.com/u/Valier_)\n",
      "\n",
      "\n",
      "http://b.thumbs.redditmedia.com/-bB2NW5f6zlj2PkRh9l0mOOCstq2YnJWd0C_-kjZNqg.jpg\n",
      "Bought a green light and took some pictures. I would be honored if someone drew this picture of me\n",
      "Bought a green light and took some pictures. I would be honored if someone drew this picture of me\n",
      "![thechinasaur](/galleries/16/03/06/thechinasaur-reference-thumb.jpg)\n",
      "\n",
      "[thechinasaur](https://reddit.com/u/thechinasaur)\n",
      "\n",
      "\n",
      "http://b.thumbs.redditmedia.com/OQqlYrrgFzyDairmCc7FB-Quu-YG8iBe0ya24Zg74vo.jpg\n",
      "I would be delighted to see your take on this photo of my son!\n",
      "I would be delighted to see your take on this photo of my son!\n",
      "![AStencilForYou](/galleries/16/03/06/AStencilForYou-reference-thumb.jpg)\n",
      "\n",
      "[AStencilForYou](https://reddit.com/u/AStencilForYou)\n",
      "\n",
      "\n",
      "http://b.thumbs.redditmedia.com/tqYQJ9ZRXVYQ_Tsl4MCBu0i1QJlULVpmWBfXw5Z3-3A.jpg\n",
      "Hi RGD - Would You Draw My Pup? Any style welcome\n",
      "Hi RGD - Would You Draw My Pup? Any style welcome\n",
      "![Tinzebra](/galleries/16/03/06/Tinzebra-reference-thumb.jpg)\n",
      "\n",
      "[Tinzebra](https://reddit.com/u/Tinzebra)\n",
      "\n",
      "\n",
      "http://b.thumbs.redditmedia.com/a7U_SzvU_CO2jMta_NZmTYqY4AXD8csxuX6seeyOmWE.jpg\n",
      "Love to see any style of my friend and I at comic con\n",
      "Love to see any style of my friend and I at comic con\n",
      "![hafuufaha](/galleries/16/03/06/hafuufaha-reference-thumb.jpg)\n",
      "\n",
      "[hafuufaha](https://reddit.com/u/hafuufaha)\n",
      "\n",
      "\n",
      "http://b.thumbs.redditmedia.com/EHlHtHrhjxOE4HwXy_dTLVLTaWIGoqmmj_-rQ0I7_lQ.jpg\n",
      "I would be so grateful if someone took the time to draw this photo of my grandma and I. It's my favorite picture I have with her.\n",
      "I would be so grateful if someone took the time to draw this photo of my grandma and I. It's my favorite picture I have with her.\n",
      "![kendradiane88](/galleries/16/03/06/kendradiane88-reference-thumb.jpg)\n",
      "\n",
      "[kendradiane88](https://reddit.com/u/kendradiane88)\n",
      "\n",
      "\n",
      "http://b.thumbs.redditmedia.com/kC-Hfrf4XTSGjqSQAI3qXqTr0wyi0bGCsFZzgxTLMzc.jpg\n",
      "Would anyone draw my grandpa? Its one of my favorite pictures of him being goofy. Picture was taken 8-10 years ago.\n",
      "Would anyone draw my grandpa? Its one of my favorite pictures of him being goofy. Picture was taken 8-10 years ago.\n",
      "![girlinthespecks](/galleries/16/03/06/girlinthespecks-reference-thumb.jpg)\n",
      "\n",
      "[girlinthespecks](https://reddit.com/u/girlinthespecks)\n",
      "\n",
      "\n",
      "http://a.thumbs.redditmedia.com/yMmvdcxnO3koXqvepyEVwlAuWd-jMaBsRGs6ETUGef4.jpg\n",
      "Dear artists, let's draw someone beautiful, this pretty person is my best friend.\n",
      "Dear artists, let's draw someone beautiful, this pretty person is my best friend.\n",
      "![pitbullxp](/galleries/16/03/06/pitbullxp-reference-thumb.jpg)\n",
      "\n",
      "[pitbullxp](https://reddit.com/u/pitbullxp)\n",
      "\n",
      "\n",
      "http://b.thumbs.redditmedia.com/EsoODfrs2Jwh_nxiw2htmaf_3HOlRBneLy9_n0ndHgo.jpg\n",
      "Will you turn me into a fairy? Please draw me in any style.\n",
      "Will you turn me into a fairy? Please draw me in any style.\n",
      "![Holy_Headlines](/galleries/16/03/06/Holy_Headlines-reference-thumb.jpg)\n",
      "\n",
      "[Holy_Headlines](https://reddit.com/u/Holy_Headlines)\n",
      "\n",
      "\n",
      "http://b.thumbs.redditmedia.com/97vZRw-OTgRc1B9jBFYKAbTRT9v0bXVzndTmX_Oxyzw.jpg\n",
      "draw me redditers! any style. but prefer digital c:\n",
      "draw me redditers! any style. but prefer digital c:\n",
      "![galaxitekitten](/galleries/16/03/06/galaxitekitten-reference-thumb.jpg)\n",
      "\n",
      "[galaxitekitten](https://reddit.com/u/galaxitekitten)\n",
      "\n",
      "\n",
      "http://a.thumbs.redditmedia.com/wHMORYzFyKi6zgQ43rM9ZwMLkb4FgJswOQvh19z-as0.jpg\n",
      "Would anyone draw my girlfriend and me? Thanks!\n",
      "Would anyone draw my girlfriend and me? Thanks!\n",
      "![Whainaut](/galleries/16/03/06/Whainaut-reference-thumb.jpg)\n",
      "\n",
      "[Whainaut](https://reddit.com/u/Whainaut)\n",
      "\n",
      "\n",
      "http://a.thumbs.redditmedia.com/OG9vtBwWnQ5bYRwsDiLLWpax8dZuKxgRZ6tAXzrr3w4.jpg\n",
      "I thought my expression in this photo was interesting. Anyone want to draw me?\n",
      "I thought my expression in this photo was interesting. Anyone want to draw me?\n",
      "![reptasmic](/galleries/16/03/06/reptasmic-reference-thumb.jpg)\n",
      "\n",
      "[reptasmic](https://reddit.com/u/reptasmic)\n",
      "\n",
      "\n",
      "http://b.thumbs.redditmedia.com/7vk0Q3tuIAa0wUfyYrSBlxgThWBpul5mZCMBn-BB3Qw.jpg\n",
      "Would love to get a picture of myself or my thoughtful dog. Enjoy!\n",
      "Would love to get a picture of myself or my thoughtful dog. Enjoy!\n",
      "![Dynge](/galleries/16/03/06/Dynge-reference-thumb.jpg)\n",
      "\n",
      "[Dynge](https://reddit.com/u/Dynge)\n",
      "\n",
      "\n",
      "http://b.thumbs.redditmedia.com/gWNwClvp9gTkhJX2skKi_EUIkguTIHLI2gyCmLGEn4Y.jpg\n",
      "Myself, my boyfriend and our furry child Koda 😻\n",
      "Myself, my boyfriend and our furry child Koda 😻\n",
      "![Sinisterkid1992](/galleries/16/03/06/Sinisterkid1992-reference-thumb.jpg)\n",
      "\n",
      "[Sinisterkid1992](https://reddit.com/u/Sinisterkid1992)\n",
      "\n",
      "\n",
      "http://a.thumbs.redditmedia.com/ZA8eholIngHOPcDlIHBjuZYMR5MVF3UorDFA54zESA4.jpg\n",
      "Can someone draw my family?\n",
      "Can someone draw my family?\n",
      "![Donnol](/galleries/16/03/06/Donnol-reference-thumb.jpg)\n",
      "\n",
      "[Donnol](https://reddit.com/u/Donnol)\n",
      "\n",
      "\n",
      "http://b.thumbs.redditmedia.com/_kXkdSRjJciXSwrbRjlYdNCerCyHDQYYcRaE-3lOpDA.jpg\n",
      "I anyone gets the chance I would love to see this picture of me chilling with a camel drawn!\n",
      "I anyone gets the chance I would love to see this picture of me chilling with a camel drawn!\n",
      "![TinyStormSlayer](/galleries/16/03/06/TinyStormSlayer-reference-thumb.jpg)\n",
      "\n",
      "[TinyStormSlayer](https://reddit.com/u/TinyStormSlayer)\n",
      "\n",
      "\n",
      "http://a.thumbs.redditmedia.com/SmGqnFDlI1ksZYUTz4OO_hB7CJUYUhHvaqLvQBJLfW0.jpg\n",
      "A snap of me dumping water on my buddy accidentally turned awesome. Would be great if someone drew this!\n",
      "A snap of me dumping water on my buddy accidentally turned awesome. Would be great if someone drew this!\n",
      "![SenseiSirloin](/galleries/16/03/06/SenseiSirloin-reference-thumb.jpg)\n",
      "\n",
      "[SenseiSirloin](https://reddit.com/u/SenseiSirloin)\n",
      "\n",
      "\n",
      "http://b.thumbs.redditmedia.com/4N6VwM_czlOpqBVWduGTYNTaxflO0q5g8My8qpIEgWI.jpg\n",
      "I would love to see a cartoon version of me or anything artistic :3 (I had to draw on my shirt to remove text sorry xD)\n",
      "I would love to see a cartoon version of me or anything artistic :3 (I had to draw on my shirt to remove text sorry xD)\n",
      "![TechiCanadian](/galleries/16/03/06/TechiCanadian-reference-thumb.jpg)\n",
      "\n",
      "[TechiCanadian](https://reddit.com/u/TechiCanadian)\n",
      "\n",
      "\n",
      "http://b.thumbs.redditmedia.com/H-Gm-gZZVMmZUrPLRMM4PYdIIqLyjC7D0HKpIFZVNIU.jpg\n",
      "Anyone care to draw this picture of myself all bundled up?\n",
      "Anyone care to draw this picture of myself all bundled up?\n",
      "![idreamofdinos](/galleries/16/03/06/idreamofdinos-reference-thumb.jpg)\n",
      "\n",
      "[idreamofdinos](https://reddit.com/u/idreamofdinos)\n",
      "\n",
      "\n",
      "http://b.thumbs.redditmedia.com/yrGQ28JxmbHrKmrYueaP9idTP5ywL0J00mWyyi9rhlQ.jpg\n",
      "Would anyone like to draw my girlfriend in glasses as it's snowing?\n",
      "Would anyone like to draw my girlfriend in glasses as it's snowing?\n",
      "![NebPhiChi](/galleries/16/03/06/NebPhiChi-reference-thumb.jpg)\n",
      "\n",
      "[NebPhiChi](https://reddit.com/u/NebPhiChi)\n",
      "\n",
      "\n",
      "http://b.thumbs.redditmedia.com/Ti4NqNy3rstJvCtHMTOTEz8iNf-hZzub39-9eYJ15As.jpg\n",
      "Would anyone like to draw me and my best friend? Sorry it's upside down...\n",
      "Would anyone like to draw me and my best friend? Sorry it's upside down...\n",
      "![Lacking_Inspiration](/galleries/16/03/06/Lacking_Inspiration-reference-thumb.jpg)\n",
      "\n",
      "[Lacking_Inspiration](https://reddit.com/u/Lacking_Inspiration)\n",
      "\n",
      "\n",
      "http://b.thumbs.redditmedia.com/aKOTLYn40uH8XzsI9LBzfJqrQfrzSJgd1NWsors8EoM.jpg\n",
      "Would love it if someone had a crack at this photo of my boyfriend!\n",
      "Would love it if someone had a crack at this photo of my boyfriend!\n",
      "![JamminSammich](/galleries/16/03/06/JamminSammich-reference-thumb.jpg)\n",
      "\n",
      "[JamminSammich](https://reddit.com/u/JamminSammich)\n",
      "\n",
      "\n",
      "http://b.thumbs.redditmedia.com/uXeiE-jqprvgAfHlFlhbET3vstLnlAt0Rr6ZLKbOwCE.jpg\n",
      "Hey you gifted bunch, would you like to take a swing at this picture of my half beard / half shaven face?\n",
      "Hey you gifted bunch, would you like to take a swing at this picture of my half beard / half shaven face?\n",
      "![i_accidently_reddit](/galleries/16/03/06/i_accidently_reddit-reference-thumb.jpg)\n",
      "\n",
      "[i_accidently_reddit](https://reddit.com/u/i_accidently_reddit)\n",
      "\n",
      "\n",
      "http://b.thumbs.redditmedia.com/yTJ1QWDmHiMEEZF5yOUrcIh6blowAIwS7NEsgKM7WCU.jpg\n",
      "Would love if one of you awesome people could draw my nieces for me.\n",
      "Would love if one of you awesome people could draw my nieces for me.\n",
      "![___BFMV___](/galleries/16/03/06/___BFMV___-reference-thumb.jpg)\n",
      "\n",
      "[___BFMV___](https://reddit.com/u/___BFMV___)\n",
      "\n",
      "\n",
      "http://a.thumbs.redditmedia.com/9wRnkPzq9ZAKu9QHNq_v0CeyleYhLhTyyu7_sxSxeZ0.jpg\n",
      "I love my hair/make up today! I'd love to be drawn in your favourite style!\n",
      "I love my hair/make up today! I'd love to be drawn in your favourite style!\n",
      "![Looeez](/galleries/16/03/06/Looeez-reference-thumb.jpg)\n",
      "\n",
      "[Looeez](https://reddit.com/u/Looeez)\n",
      "\n",
      "\n"
     ]
    }
   ],
   "source": [
    "for rdz in lisrgc:\n",
    "    print(rdz.thumbnail)\n",
    "    print(rdz.title)\n",
    "    #print(rdz.author)\n",
    "    #urlthumb = rdz.thumbnail\n",
    "    #response = requests.get(urlthumb, stream=True)\n",
    "    #with open(repathz + str(rdz.author) + '-reference-thumb.jpg', 'wb') as out_file:\n",
    "    #    shutil.copyfileobj(response.raw, out_file)\n",
    "    #    del response\n",
    "    #oppost.write(('!' + '[' + toda.strip('.jpg') + '](' + galpath + toda + ')\\n\\n' + '[' + toda.strip('-reference.jpg') + ']' + '(https://reddit.com/u/' + toda.strip('-reference.jpg') + ')' + '\\n\\n'))\n",
    "    print(rdz.title + '\\n![' + str(rdz.author) + '](' + galpath + str(rdz.author) + '-reference-thumb.jpg)\\n\\n[' + str(rdz.author) + '](https://reddit.com/u/' + str(rdz.author) + ')\\n\\n')\n",
    "    oppost.write((rdz.title + '\\n\\n![' + str(rdz.author) + '](' + galpath + str(rdz.author) + '-reference-thumb.jpg)\\n\\n[' + str(rdz.author) + '](https://reddit.com/u/' + str(rdz.author) + ')\\n\\n'))"
   ]
  },
  {
   "cell_type": "code",
   "execution_count": 82,
   "metadata": {
    "collapsed": true
   },
   "outputs": [],
   "source": [
    "oppost.close()"
   ]
  },
  {
   "cell_type": "code",
   "execution_count": 33,
   "metadata": {
    "collapsed": false
   },
   "outputs": [
    {
     "name": "stdout",
     "output_type": "stream",
     "text": [
      "http://i.imgur.com/YKO7psz.jpg\n"
     ]
    },
    {
     "name": "stderr",
     "output_type": "stream",
     "text": [
      "/usr/local/lib/python3.4/dist-packages/ipykernel/__main__.py:12: ResourceWarning: unclosed <socket.socket fd=39, family=AddressFamily.AF_INET, type=SocketType.SOCK_STREAM, proto=6, laddr=('192.168.1.19', 54807), raddr=('103.245.222.193', 80)>\n"
     ]
    },
    {
     "name": "stdout",
     "output_type": "stream",
     "text": [
      "http://i.imgur.com/0VVjx5s.jpg\n"
     ]
    },
    {
     "name": "stderr",
     "output_type": "stream",
     "text": [
      "/usr/local/lib/python3.4/dist-packages/ipykernel/__main__.py:12: ResourceWarning: unclosed <socket.socket fd=37, family=AddressFamily.AF_INET, type=SocketType.SOCK_STREAM, proto=6, laddr=('192.168.1.19', 54809), raddr=('103.245.222.193', 80)>\n"
     ]
    },
    {
     "name": "stdout",
     "output_type": "stream",
     "text": [
      "http://i.imgur.com/dcZWM73.jpg\n"
     ]
    },
    {
     "name": "stderr",
     "output_type": "stream",
     "text": [
      "/usr/local/lib/python3.4/dist-packages/ipykernel/__main__.py:12: ResourceWarning: unclosed <socket.socket fd=37, family=AddressFamily.AF_INET, type=SocketType.SOCK_STREAM, proto=6, laddr=('192.168.1.19', 54810), raddr=('103.245.222.193', 80)>\n"
     ]
    }
   ],
   "source": [
    "#panz()\n",
    "for rdz in lisrgc:\n",
    "    (rdz.title)\n",
    "    #a(rdz.url)\n",
    "    if 'http://i.imgur.com' and '.jpg' in rdz.url:\n",
    "        #print rdz.url\n",
    "        print (rdz.url)\n",
    "        url = rdz.url\n",
    "        response = requests.get(url, stream=True)\n",
    "        with open(repathz + str(rdz.author) + '-reference.jpg', 'wb') as out_file:\n",
    "            shutil.copyfileobj(response.raw, out_file)\n",
    "            del response"
   ]
  },
  {
   "cell_type": "code",
   "execution_count": 34,
   "metadata": {
    "collapsed": false
   },
   "outputs": [],
   "source": [
    "imgtoday = os.listdir(repathz)"
   ]
  },
  {
   "cell_type": "code",
   "execution_count": 35,
   "metadata": {
    "collapsed": false
   },
   "outputs": [
    {
     "name": "stderr",
     "output_type": "stream",
     "text": [
      "/usr/local/lib/python3.4/dist-packages/IPython/core/formatters.py:92: DeprecationWarning: DisplayFormatter._ipython_display_formatter_default is deprecated: use @default decorator instead.\n",
      "  def _ipython_display_formatter_default(self):\n",
      "/usr/local/lib/python3.4/dist-packages/IPython/core/formatters.py:98: DeprecationWarning: DisplayFormatter._formatters_default is deprecated: use @default decorator instead.\n",
      "  def _formatters_default(self):\n",
      "/usr/local/lib/python3.4/dist-packages/IPython/core/formatters.py:677: DeprecationWarning: PlainTextFormatter._deferred_printers_default is deprecated: use @default decorator instead.\n",
      "  def _deferred_printers_default(self):\n",
      "/usr/local/lib/python3.4/dist-packages/IPython/core/formatters.py:669: DeprecationWarning: PlainTextFormatter._singleton_printers_default is deprecated: use @default decorator instead.\n",
      "  def _singleton_printers_default(self):\n",
      "/usr/local/lib/python3.4/dist-packages/IPython/core/formatters.py:672: DeprecationWarning: PlainTextFormatter._type_printers_default is deprecated: use @default decorator instead.\n",
      "  def _type_printers_default(self):\n",
      "/usr/local/lib/python3.4/dist-packages/IPython/core/formatters.py:669: DeprecationWarning: PlainTextFormatter._singleton_printers_default is deprecated: use @default decorator instead.\n",
      "  def _singleton_printers_default(self):\n",
      "/usr/local/lib/python3.4/dist-packages/IPython/core/formatters.py:672: DeprecationWarning: PlainTextFormatter._type_printers_default is deprecated: use @default decorator instead.\n",
      "  def _type_printers_default(self):\n",
      "/usr/local/lib/python3.4/dist-packages/IPython/core/formatters.py:677: DeprecationWarning: PlainTextFormatter._deferred_printers_default is deprecated: use @default decorator instead.\n",
      "  def _deferred_printers_default(self):\n"
     ]
    },
    {
     "data": {
      "text/plain": [
       "['SenseiSirloin-reference.jpg',\n",
       " 'AStencilForYou-reference.jpg',\n",
       " 'Tinzebra-reference.jpg']"
      ]
     },
     "execution_count": 35,
     "metadata": {},
     "output_type": "execute_result"
    }
   ],
   "source": [
    "imgtoday"
   ]
  },
  {
   "cell_type": "code",
   "execution_count": 36,
   "metadata": {
    "collapsed": true
   },
   "outputs": [],
   "source": [
    "galpath = ('/galleries/' + dateful + '/')"
   ]
  },
  {
   "cell_type": "code",
   "execution_count": 37,
   "metadata": {
    "collapsed": false
   },
   "outputs": [
    {
     "data": {
      "text/plain": [
       "'/galleries/16/03/06/'"
      ]
     },
     "execution_count": 37,
     "metadata": {},
     "output_type": "execute_result"
    }
   ],
   "source": [
    "galpath"
   ]
  },
  {
   "cell_type": "code",
   "execution_count": null,
   "metadata": {
    "collapsed": false
   },
   "outputs": [],
   "source": []
  },
  {
   "cell_type": "code",
   "execution_count": 38,
   "metadata": {
    "collapsed": false
   },
   "outputs": [],
   "source": [
    "fultdaz = dayz + '/' + monthz + '/' +strftime('%Y')"
   ]
  },
  {
   "cell_type": "code",
   "execution_count": 41,
   "metadata": {
    "collapsed": true
   },
   "outputs": [],
   "source": [
    "oppost.close()"
   ]
  },
  {
   "cell_type": "code",
   "execution_count": 42,
   "metadata": {
    "collapsed": true
   },
   "outputs": [],
   "source": [
    "rstme = ('.. title: ' + fulyr + ' \\n' + '.. slug: ' + fulyr+ ' \\n' + '.. date: ' + fultdaz)"
   ]
  },
  {
   "cell_type": "code",
   "execution_count": 43,
   "metadata": {
    "collapsed": false
   },
   "outputs": [],
   "source": [
    "opmeta = open('/home/' + myusr + '/getsdrawn/posts/' + fulyr + '.meta', 'w')"
   ]
  },
  {
   "cell_type": "code",
   "execution_count": 44,
   "metadata": {
    "collapsed": false
   },
   "outputs": [
    {
     "data": {
      "text/plain": [
       "78"
      ]
     },
     "execution_count": 44,
     "metadata": {},
     "output_type": "execute_result"
    }
   ],
   "source": [
    "opmeta.write(rstme)"
   ]
  },
  {
   "cell_type": "code",
   "execution_count": 45,
   "metadata": {
    "collapsed": true
   },
   "outputs": [],
   "source": [
    "opmeta.close()"
   ]
  },
  {
   "cell_type": "code",
   "execution_count": 46,
   "metadata": {
    "collapsed": true
   },
   "outputs": [],
   "source": [
    "os.chdir('/home/' + myusr + '/getsdrawn')"
   ]
  },
  {
   "cell_type": "code",
   "execution_count": 47,
   "metadata": {
    "collapsed": false
   },
   "outputs": [
    {
     "data": {
      "text/plain": [
       "0"
      ]
     },
     "execution_count": 47,
     "metadata": {},
     "output_type": "execute_result"
    }
   ],
   "source": [
    "os.system('nikola build')"
   ]
  },
  {
   "cell_type": "code",
   "execution_count": null,
   "metadata": {
    "collapsed": true
   },
   "outputs": [],
   "source": []
  },
  {
   "cell_type": "code",
   "execution_count": null,
   "metadata": {
    "collapsed": true
   },
   "outputs": [],
   "source": []
  }
 ],
 "metadata": {
  "kernelspec": {
   "display_name": "Python 3",
   "language": "python",
   "name": "python3"
  },
  "language_info": {
   "codemirror_mode": {
    "name": "ipython",
    "version": 3
   },
   "file_extension": ".py",
   "mimetype": "text/x-python",
   "name": "python",
   "nbconvert_exporter": "python",
   "pygments_lexer": "ipython3",
   "version": "3.4.2"
  }
 },
 "nbformat": 4,
 "nbformat_minor": 0
}
