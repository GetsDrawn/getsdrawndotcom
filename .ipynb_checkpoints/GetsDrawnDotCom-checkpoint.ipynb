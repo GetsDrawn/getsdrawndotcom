{
 "metadata": {
  "name": "",
  "signature": "sha256:48b8014b241771cc31c9902654f883ece972e6f7e26f38cfced19c1c48258411"
 },
 "nbformat": 3,
 "nbformat_minor": 0,
 "worksheets": [
  {
   "cells": [
    {
     "cell_type": "markdown",
     "metadata": {},
     "source": [
      "<h1>GetsDrawn DotCom</h1>"
     ]
    },
    {
     "cell_type": "markdown",
     "metadata": {},
     "source": [
      "This is a python script to generate the website GetsDrawn. It takes data from /r/RedditGetsDrawn and makes something awesome.\n",
      "\n",
      "The script has envolved and been rewritten several times. \n",
      "\n",
      "The first script for rgdsnatch was written after I got banned from posting my artwork on /r/RedditGetsDrawn. The plan was to create a new site that displayed stuff from /r/RedditGetsDrawn. \n",
      "\n",
      "Currently it only displays the most recent 25 items on redditgetsdrawn.\n",
      "\n",
      "This is moving forward from rgdsnatch.py because I am stuck on it.  \n",
      "\n",
      "TODO\n",
      "\n",
      "Fix the links that don't link to png/jpeg and link to webaddress. \n",
      "Needs to get the images that are at that web address and embed them.\n",
      "\n",
      "Display artwork submitted under the images. \n",
      "\n",
      "Upload artwork to user. Sends them a message on redditgetsdrawn with links. \n",
      "\n",
      "More pandas\n",
      "\n",
      "\n",
      "Currently saves username-line-bw-colour.png to imgs folder. Instead get it to save to imgs/year/month/day/usernames.png.\n",
      "Script checks the year/month/day and if folder isnt created, it creates it. If folder is there, exit. \n",
      "Maybe get the reference image and save it with the line/bw/color.pngs\n",
      "\n",
      "The script now filters the jpeg and png image and skips links to imgur pages. This needs to be fixed by getting the images from the imgur pages.\n",
      "It renames the image files to the redditor username followed by a -reference tag (and ending with png of course).\n",
      "It opens these files up with PIL and checks the sizes. \n",
      "It needs to resize the images that are larger than 800px to 800px.\n",
      "These images need to be linked in the index.html instead of the imgur altenatives. \n"
     ]
    },
    {
     "cell_type": "code",
     "collapsed": false,
     "input": [
      "import os \n",
      "import requests\n",
      "from bs4 import BeautifulSoup\n",
      "import re\n",
      "import json\n",
      "import time\n",
      "import praw\n",
      "import dominate\n",
      "from dominate.tags import * \n",
      "from time import gmtime, strftime\n",
      "#import nose\n",
      "#import unittest\n",
      "import numpy as np\n",
      "import pandas as pd\n",
      "from pandas import *\n",
      "from PIL import Image\n",
      "from pprint import pprint\n",
      "#import pyttsx\n",
      "import shutil"
     ],
     "language": "python",
     "metadata": {},
     "outputs": [],
     "prompt_number": 54
    },
    {
     "cell_type": "code",
     "collapsed": false,
     "input": [
      "gtsdrndir = ('/home/wcmckee/getsdrawndotcom')"
     ],
     "language": "python",
     "metadata": {},
     "outputs": [],
     "prompt_number": 55
    },
    {
     "cell_type": "code",
     "collapsed": false,
     "input": [
      "os.chdir(gtsdrndir)"
     ],
     "language": "python",
     "metadata": {},
     "outputs": [],
     "prompt_number": 56
    },
    {
     "cell_type": "code",
     "collapsed": false,
     "input": [
      "r = praw.Reddit(user_agent='getsdrawndotcom')"
     ],
     "language": "python",
     "metadata": {},
     "outputs": [],
     "prompt_number": 57
    },
    {
     "cell_type": "code",
     "collapsed": false,
     "input": [
      "#getmin = r.get_redditor('itwillbemine')"
     ],
     "language": "python",
     "metadata": {},
     "outputs": [],
     "prompt_number": 58
    },
    {
     "cell_type": "code",
     "collapsed": false,
     "input": [
      "#mincom = getmin.get_comments()"
     ],
     "language": "python",
     "metadata": {},
     "outputs": [],
     "prompt_number": 59
    },
    {
     "cell_type": "code",
     "collapsed": false,
     "input": [
      "#engine = pyttsx.init()\n",
      "\n",
      "#engine.say('The quick brown fox jumped over the lazy dog.')\n",
      "#engine.runAndWait()"
     ],
     "language": "python",
     "metadata": {},
     "outputs": [],
     "prompt_number": 60
    },
    {
     "cell_type": "code",
     "collapsed": false,
     "input": [
      "#shtweet = []"
     ],
     "language": "python",
     "metadata": {},
     "outputs": [],
     "prompt_number": 61
    },
    {
     "cell_type": "code",
     "collapsed": false,
     "input": [
      "#for mi in mincom:\n",
      "#    print mi\n",
      "#    shtweet.append(mi)"
     ],
     "language": "python",
     "metadata": {},
     "outputs": [],
     "prompt_number": 62
    },
    {
     "cell_type": "code",
     "collapsed": false,
     "input": [
      "bodycom = []\n",
      "bodyicv = dict()"
     ],
     "language": "python",
     "metadata": {},
     "outputs": [],
     "prompt_number": 63
    },
    {
     "cell_type": "code",
     "collapsed": false,
     "input": [
      "#beginz = pyttsx.init()"
     ],
     "language": "python",
     "metadata": {},
     "outputs": [],
     "prompt_number": 64
    },
    {
     "cell_type": "code",
     "collapsed": false,
     "input": [
      "#for shtz in shtweet:\n",
      "#    print shtz.downs\n",
      "#    print shtz.ups\n",
      "#    print shtz.body\n",
      "#    print shtz.replies\n",
      "    #beginz.say(shtz.author)\n",
      "    #beginz.say(shtz.body)\n",
      "    #beginz.runAndWait()\n",
      "    \n",
      "#    bodycom.append(shtz.body)\n",
      "    #bodyic"
     ],
     "language": "python",
     "metadata": {},
     "outputs": [],
     "prompt_number": 65
    },
    {
     "cell_type": "code",
     "collapsed": false,
     "input": [
      "#bodycom "
     ],
     "language": "python",
     "metadata": {},
     "outputs": [],
     "prompt_number": 66
    },
    {
     "cell_type": "code",
     "collapsed": false,
     "input": [
      "getnewr = r.get_subreddit('redditgetsdrawn')"
     ],
     "language": "python",
     "metadata": {},
     "outputs": [],
     "prompt_number": 67
    },
    {
     "cell_type": "code",
     "collapsed": false,
     "input": [
      "rdnew = getnewr.get_new()"
     ],
     "language": "python",
     "metadata": {},
     "outputs": [],
     "prompt_number": 68
    },
    {
     "cell_type": "code",
     "collapsed": false,
     "input": [
      "lisrgc = []\n",
      "lisauth = []"
     ],
     "language": "python",
     "metadata": {},
     "outputs": [],
     "prompt_number": 69
    },
    {
     "cell_type": "code",
     "collapsed": false,
     "input": [
      "for uz in rdnew:\n",
      "    #print uz\n",
      "    lisrgc.append(uz)"
     ],
     "language": "python",
     "metadata": {},
     "outputs": [],
     "prompt_number": 70
    },
    {
     "cell_type": "code",
     "collapsed": false,
     "input": [
      "gtdrndic = dict()"
     ],
     "language": "python",
     "metadata": {},
     "outputs": [],
     "prompt_number": 71
    },
    {
     "cell_type": "code",
     "collapsed": false,
     "input": [
      "imgdir = ('/home/wcmckee/getsdrawndotcom/imgs')"
     ],
     "language": "python",
     "metadata": {},
     "outputs": [],
     "prompt_number": 72
    },
    {
     "cell_type": "code",
     "collapsed": false,
     "input": [
      "artlist = os.listdir(imgdir)"
     ],
     "language": "python",
     "metadata": {},
     "outputs": [],
     "prompt_number": 73
    },
    {
     "cell_type": "code",
     "collapsed": false,
     "input": [
      "from time import time"
     ],
     "language": "python",
     "metadata": {},
     "outputs": [],
     "prompt_number": 74
    },
    {
     "cell_type": "code",
     "collapsed": false,
     "input": [
      "yearz = strftime(\"%y\", gmtime())\n",
      "monthz = strftime(\"%m\", gmtime())\n",
      "dayz = strftime(\"%d\", gmtime())\n",
      "\n",
      "\n",
      "#strftime(\"%y %m %d\", gmtime())\n",
      "\n"
     ],
     "language": "python",
     "metadata": {},
     "outputs": [],
     "prompt_number": 75
    },
    {
     "cell_type": "code",
     "collapsed": false,
     "input": [
      "imgzdir = ('/home/wcmckee/getsdrawndotcom/imgs/')\n",
      "yrzpat = (imgzdir + yearz)\n",
      "monzpath = (yrzpat + '/' + monthz)\n",
      "dayzpath = (monzpath + '/' + dayz)\n",
      "rmgzdays = (dayzpath + '/reference')\n",
      "imgzdays = (dayzpath + '/art')"
     ],
     "language": "python",
     "metadata": {},
     "outputs": [],
     "prompt_number": 76
    },
    {
     "cell_type": "code",
     "collapsed": false,
     "input": [
      "def ospacheck():\n",
      "    if os.path.isdir(imgzdir + yearz) == True:\n",
      "        print 'its true'\n",
      "    else:\n",
      "        print 'its false'\n",
      "        os.mkdir(imgzdir + yearz)\n",
      "    "
     ],
     "language": "python",
     "metadata": {},
     "outputs": [],
     "prompt_number": 77
    },
    {
     "cell_type": "code",
     "collapsed": false,
     "input": [
      "ospacheck()"
     ],
     "language": "python",
     "metadata": {},
     "outputs": [
      {
       "output_type": "stream",
       "stream": "stdout",
       "text": [
        "its true\n"
       ]
      }
     ],
     "prompt_number": 78
    },
    {
     "cell_type": "code",
     "collapsed": false,
     "input": [
      "#if os.path.isdir(imgzdir + yearz) == True:\n",
      "#    print 'its true'\n",
      "#else:\n",
      "#    print 'its false'\n",
      "#    os.mkdir(imgzdir + yearz)"
     ],
     "language": "python",
     "metadata": {},
     "outputs": [],
     "prompt_number": 79
    },
    {
     "cell_type": "code",
     "collapsed": false,
     "input": [
      "if os.path.isdir(monzpath) == True:\n",
      "    print 'its true'\n",
      "else:\n",
      "    print 'its false'\n",
      "    os.mkdir(monzpath)\n",
      "\n",
      "#os.mkdir(monzpath)"
     ],
     "language": "python",
     "metadata": {},
     "outputs": [
      {
       "output_type": "stream",
       "stream": "stdout",
       "text": [
        "its true\n"
       ]
      }
     ],
     "prompt_number": 80
    },
    {
     "cell_type": "code",
     "collapsed": false,
     "input": [
      "if os.path.isdir(dayzpath) == True:\n",
      "    print 'its true'\n",
      "else:\n",
      "    print 'its false'\n",
      "    os.mkdir(dayzpath)\n",
      "\n",
      "#os.mkdir(dayzpath)"
     ],
     "language": "python",
     "metadata": {},
     "outputs": [
      {
       "output_type": "stream",
       "stream": "stdout",
       "text": [
        "its true\n"
       ]
      }
     ],
     "prompt_number": 81
    },
    {
     "cell_type": "code",
     "collapsed": true,
     "input": [
      "if os.path.isdir(imgzdays) == True:\n",
      "    print 'its true'\n",
      "else:\n",
      "    print 'its false'\n",
      "    os.mkdir(imgzdays)"
     ],
     "language": "python",
     "metadata": {},
     "outputs": [
      {
       "output_type": "stream",
       "stream": "stdout",
       "text": [
        "its true\n"
       ]
      }
     ],
     "prompt_number": 82
    },
    {
     "cell_type": "code",
     "collapsed": false,
     "input": [
      "if os.path.isdir(rmgzdays) == True:\n",
      "    print 'its true'\n",
      "else:\n",
      "    print 'its false'\n",
      "    os.mkdir(rmgzdays)"
     ],
     "language": "python",
     "metadata": {},
     "outputs": [
      {
       "output_type": "stream",
       "stream": "stdout",
       "text": [
        "its true\n"
       ]
      }
     ],
     "prompt_number": 83
    },
    {
     "cell_type": "code",
     "collapsed": false,
     "input": [
      "#artlist"
     ],
     "language": "python",
     "metadata": {},
     "outputs": [],
     "prompt_number": 84
    },
    {
     "cell_type": "code",
     "collapsed": false,
     "input": [
      "httpad = ('http://getsdrawn.com/imgs')"
     ],
     "language": "python",
     "metadata": {},
     "outputs": [],
     "prompt_number": 85
    },
    {
     "cell_type": "code",
     "collapsed": false,
     "input": [
      "#im = Image.new(\"RGB\", (512, 512), \"white\")\n",
      "#im.save(file + \".thumbnail\", \"JPEG\")"
     ],
     "language": "python",
     "metadata": {},
     "outputs": [],
     "prompt_number": 86
    },
    {
     "cell_type": "code",
     "collapsed": false,
     "input": [
      "for lisr in lisrgc:\n",
      "    gtdrndic.update({'title': lisr.title})\n",
      "    lisauth.append(str(lisr.author))\n"
     ],
     "language": "python",
     "metadata": {},
     "outputs": [],
     "prompt_number": 87
    },
    {
     "cell_type": "code",
     "collapsed": false,
     "input": [
      "rmgzdays = (dayzpath + '/reference')\n",
      "imgzdays = (dayzpath + '/art')"
     ],
     "language": "python",
     "metadata": {},
     "outputs": [],
     "prompt_number": 88
    },
    {
     "cell_type": "code",
     "collapsed": false,
     "input": [
      "os.chdir(imgzdays)"
     ],
     "language": "python",
     "metadata": {},
     "outputs": [],
     "prompt_number": 89
    },
    {
     "cell_type": "code",
     "collapsed": false,
     "input": [
      "imgzdays"
     ],
     "language": "python",
     "metadata": {},
     "outputs": [
      {
       "metadata": {},
       "output_type": "pyout",
       "prompt_number": 90,
       "text": [
        "'/home/wcmckee/getsdrawndotcom/imgs/14/12/20/art'"
       ]
      }
     ],
     "prompt_number": 90
    },
    {
     "cell_type": "code",
     "collapsed": false,
     "input": [
      "#os.listdir(dayzpath)"
     ],
     "language": "python",
     "metadata": {},
     "outputs": [],
     "prompt_number": 91
    },
    {
     "cell_type": "code",
     "collapsed": false,
     "input": [
      "for lisa in lisauth:\n",
      "    #print lisa + '-line.png'\n",
      "    im = Image.new(\"RGB\", (512, 512), \"white\")\n",
      "    im.save(lisa + '-line.png')\n",
      "    im = Image.new(\"RGB\", (512, 512), \"white\")\n",
      "    im.save(lisa + '-bw.png')\n",
      "\n",
      "    #print lisa + '-bw.png'\n",
      "    im = Image.new(\"RGB\", (512, 512), \"white\")\n",
      "    im.save(lisa + '-colour.png')\n",
      "\n",
      "    #print lisa + '-colour.png'"
     ],
     "language": "python",
     "metadata": {},
     "outputs": [],
     "prompt_number": 92
    },
    {
     "cell_type": "code",
     "collapsed": false,
     "input": [
      "os.listdir('/home/wcmckee/getsdrawndotcom/imgs')"
     ],
     "language": "python",
     "metadata": {},
     "outputs": [
      {
       "metadata": {},
       "output_type": "pyout",
       "prompt_number": 93,
       "text": [
        "['ravensymoneislife-line.png',\n",
        " 'RunOttawa613-bw.png',\n",
        " 'fuzz_e_bear-colour.png',\n",
        " 'fuzz_e_bear-bw.png',\n",
        " 'iloveariiii-line.png',\n",
        " 'plainclotheswoman-bw.png',\n",
        " 'alikonagurl83-line.png',\n",
        " 'starienite-colour.png',\n",
        " 'neszero-line.png',\n",
        " 'OrangeCloud-line.png',\n",
        " 'JEWPACOLYPSE-line.png',\n",
        " 'OhGollyG-line.png',\n",
        " 'JoisofLife-bw.png',\n",
        " 'alikonagurl83-colour.png',\n",
        " 'DemTurtlesCom-line.png',\n",
        " 'ravensymoneislife-bw.png',\n",
        " 'sirenmika-bw.png',\n",
        " 'lordneojoker-bw.png',\n",
        " 'Quackattackaggie-bw.png',\n",
        " 'youwinabagel-line.png',\n",
        " 'iloveariiii-bw.png',\n",
        " 'THORGNASH-bw.png',\n",
        " 'Salerno1717-bw.png',\n",
        " 'shripityshripit-bw.png',\n",
        " 'ofalco-colour.png',\n",
        " 'youwinabagel-colour.png',\n",
        " 'Imbie81-colour.png',\n",
        " 'Se7enOne-line.png',\n",
        " 'youwinabagel-bw.png',\n",
        " 'JEWPACOLYPSE-colour.png',\n",
        " 'seahorseVT-bw.png',\n",
        " 'celest123-line.png',\n",
        " 'The_Beaner-bw.png',\n",
        " 'arequest554-line.png',\n",
        " 'MrsEvil-bw.png',\n",
        " 'GymIsFun-bw.png',\n",
        " 'TD2705-colour.png',\n",
        " 'iamwolf777-line.png',\n",
        " 'RunOttawa613-colour.png',\n",
        " 'uhhhname-bw.png',\n",
        " 'RunOttawa613-line.png',\n",
        " 'sirenmika-colour.png',\n",
        " 'ghoztcum-line.png',\n",
        " 'labatomi-bw.png',\n",
        " 'OhGollyG-colour.png',\n",
        " 'lordneojoker-colour.png',\n",
        " 'shripityshripit-line.png',\n",
        " 'GymIsFun-line.png',\n",
        " 'BonAnchovy-bw.png',\n",
        " 'labatomi-line.png',\n",
        " 'ofalco-line.png',\n",
        " 'neszero-bw.png',\n",
        " 'BonAnchovy-colour.png',\n",
        " 'THORGNASH-line.png',\n",
        " 'Mailing_a_Bear-colour.png',\n",
        " 'REALchampagnePAPI-colour.png',\n",
        " 'REALchampagnePAPI-bw.png',\n",
        " 'JEWPACOLYPSE-bw.png',\n",
        " 'bulgarianutter-colour.png',\n",
        " 'plainclotheswoman-colour.png',\n",
        " 'GymIsFun-colour.png',\n",
        " 'LongDistanceGuyy-line.png',\n",
        " 'CapDance-bw.png',\n",
        " 'iloveariiii-colour.png',\n",
        " 'ravensymoneislife-colour.png',\n",
        " 'OhLydia-colour.png',\n",
        " 'OrangeCloud-bw.png',\n",
        " 'crayolalightblue-bw.png',\n",
        " '_jazmin-bw.png',\n",
        " 'DemTurtlesCom-bw.png',\n",
        " 'BeyondMars-colour.png',\n",
        " 'crayolalightblue-colour.png',\n",
        " 'uhhhname-line.png',\n",
        " 'The_Beaner-line.png',\n",
        " 'MrsEvil-line.png',\n",
        " 'crayolalightblue-line.png',\n",
        " 'CapDance-colour.png',\n",
        " 'JoisofLife-colour.png',\n",
        " 'BeyondMars-bw.png',\n",
        " 'Mailing_a_Bear-bw.png',\n",
        " 'THORGNASH-colour.png',\n",
        " 'MrsEvil-colour.png',\n",
        " 'iamwolf777-bw.png',\n",
        " '14',\n",
        " 'ofalco-bw.png',\n",
        " 'jerrytt-bw.png',\n",
        " 'OhGollyG-bw.png',\n",
        " 'Imbie81-bw.png',\n",
        " 'fuzz_e_bear-line.png',\n",
        " 'arequest554-bw.png',\n",
        " 'Se7enOne-colour.png',\n",
        " 'iamwolf777-colour.png',\n",
        " '12',\n",
        " 'Quackattackaggie-line.png',\n",
        " 'Jasperthecat77-bw.png',\n",
        " 'OhLydia-bw.png',\n",
        " 'Se7enOne-bw.png',\n",
        " 'sirenmika-line.png',\n",
        " 'lordneojoker-line.png',\n",
        " 'LongDistanceGuyy-colour.png',\n",
        " 'jerrytt-colour.png',\n",
        " 'Dreababii-bw.png',\n",
        " 'BeyondMars-line.png',\n",
        " 'ghoztcum-bw.png',\n",
        " 'uhhhname-colour.png',\n",
        " '_jazmin-colour.png',\n",
        " 'alikonagurl83-bw.png',\n",
        " 'AdamBarnhouse-colour.png',\n",
        " 'Quackattackaggie-colour.png',\n",
        " 'Jasperthecat77-line.png',\n",
        " 'The_Beaner-colour.png',\n",
        " 'starienite-line.png',\n",
        " 'jerrytt-line.png',\n",
        " 'Salerno1717-colour.png',\n",
        " 'Salerno1717-line.png',\n",
        " 'Dreababii-line.png',\n",
        " 'LongDistanceGuyy-bw.png',\n",
        " 'seahorseVT-line.png',\n",
        " 'OhLydia-line.png',\n",
        " 'AdamBarnhouse-bw.png',\n",
        " 'Dreababii-colour.png',\n",
        " 'celest123-bw.png',\n",
        " 'labatomi-colour.png',\n",
        " 'starienite-bw.png',\n",
        " 'OrangeCloud-colour.png',\n",
        " 'ghoztcum-colour.png',\n",
        " 'neszero-colour.png',\n",
        " 'REALchampagnePAPI-line.png',\n",
        " 'DemTurtlesCom-colour.png',\n",
        " 'BonAnchovy-line.png',\n",
        " 'bulgarianutter-line.png',\n",
        " 'TD2705-line.png',\n",
        " 'Jasperthecat77-colour.png',\n",
        " 'Imbie81-line.png',\n",
        " 'CapDance-line.png',\n",
        " 'seahorseVT-colour.png',\n",
        " 'JoisofLife-line.png',\n",
        " 'plainclotheswoman-line.png',\n",
        " '_jazmin-line.png',\n",
        " 'Mailing_a_Bear-line.png',\n",
        " 'TD2705-bw.png',\n",
        " 'arequest554-colour.png',\n",
        " 'shripityshripit-colour.png',\n",
        " 'bulgarianutter-bw.png',\n",
        " 'celest123-colour.png',\n",
        " 'AdamBarnhouse-line.png']"
       ]
      }
     ],
     "prompt_number": 93
    },
    {
     "cell_type": "code",
     "collapsed": false,
     "input": [
      "lisauth"
     ],
     "language": "python",
     "metadata": {},
     "outputs": []
    },
    {
     "cell_type": "markdown",
     "metadata": {},
     "source": [
      "I want to save the list of usernames that submit images as png files in a dir. \n",
      "Currently when I call the list of authors it returns Redditor(user_name='theusername'). I want to return 'theusername'.\n",
      "Once this is resolved I can add '-line.png' '-bw.png' '-colour.png' to each folder. "
     ]
    },
    {
     "cell_type": "code",
     "collapsed": false,
     "input": [
      "lisr.author"
     ],
     "language": "python",
     "metadata": {},
     "outputs": []
    },
    {
     "cell_type": "code",
     "collapsed": false,
     "input": [
      "namlis = []"
     ],
     "language": "python",
     "metadata": {},
     "outputs": []
    },
    {
     "cell_type": "code",
     "collapsed": false,
     "input": [
      "opsinz = open('/home/wcmckee/visignsys/index.meta', 'r')\n",
      "panz = opsinz.read()"
     ],
     "language": "python",
     "metadata": {},
     "outputs": []
    },
    {
     "cell_type": "code",
     "collapsed": false,
     "input": [
      "os.chdir(rmgzdays)"
     ],
     "language": "python",
     "metadata": {},
     "outputs": []
    },
    {
     "cell_type": "code",
     "collapsed": false,
     "input": [
      "#panz()\n",
      "for rdz in lisrgc:\n",
      "    (rdz.title)\n",
      "    #a(rdz.url)\n",
      "    if 'http://i.imgur.com' in rdz.url:\n",
      "        #print rdz.url\n",
      "        print (rdz.url)\n",
      "        url = rdz.url\n",
      "        response = requests.get(url, stream=True)\n",
      "        with open(str(rdz.author) + '-reference.png', 'wb') as out_file:\n",
      "            shutil.copyfileobj(response.raw, out_file)\n",
      "            del response"
     ],
     "language": "python",
     "metadata": {},
     "outputs": []
    },
    {
     "cell_type": "code",
     "collapsed": false,
     "input": [
      "apsize = []"
     ],
     "language": "python",
     "metadata": {},
     "outputs": [],
     "prompt_number": 47
    },
    {
     "cell_type": "code",
     "collapsed": false,
     "input": [
      "basewidth = 600"
     ],
     "language": "python",
     "metadata": {},
     "outputs": [],
     "prompt_number": 102
    },
    {
     "cell_type": "code",
     "collapsed": false,
     "input": [
      "for rmglis in os.listdir(rmgzdays):\n",
      "    print rmglis\n",
      "    print im.size\n",
      "    apsize.append(im.size)"
     ],
     "language": "python",
     "metadata": {},
     "outputs": [
      {
       "output_type": "stream",
       "stream": "stdout",
       "text": [
        "AwesomePahsome-reference.png\n",
        "(512, 512)\n",
        "Livyathan-reference.png\n",
        "(512, 512)\n",
        "RainyWeathers-reference.png\n",
        "(512, 512)\n",
        "makebelievepoet-reference.png\n",
        "(512, 512)\n",
        "elcielo17-reference.png\n",
        "(512, 512)\n",
        "pokewneedle-reference.png\n",
        "(512, 512)\n",
        "airbrush_wizard-reference.png\n",
        "(512, 512)\n",
        "ChrisTaliaferro-reference.png\n",
        "(512, 512)\n",
        "TTG_Zebra_Donkey-reference.png\n",
        "(512, 512)\n",
        "Tjalle60-reference.png\n",
        "(512, 512)\n",
        "Cfar1994-reference.png\n",
        "(512, 512)\n",
        "HoustonSoda2-reference.png\n",
        "(512, 512)\n"
       ]
      }
     ],
     "prompt_number": 103
    },
    {
     "cell_type": "code",
     "collapsed": false,
     "input": [
      "#basewidth = 300\n",
      "#img = Image.open('somepic.jpg')\n",
      "#wpercent = (basewidth/float(img.size[0]))\n",
      "#hsize = int((float(img.size[1])*float(wpercent)))\n",
      "#img = img.resize((basewidth,hsize), PIL.Image.ANTIALIAS)\n",
      "#img.save('sompic.jpg')"
     ],
     "language": "python",
     "metadata": {},
     "outputs": [],
     "prompt_number": 106
    },
    {
     "cell_type": "code",
     "collapsed": false,
     "input": [
      "for numz in apsize:\n",
      "    print numz[0]\n",
      "    if numz[0] > 800:\n",
      "        print ('greater than 800')\n",
      "    else:\n",
      "        print ('less than 800!')"
     ],
     "language": "python",
     "metadata": {},
     "outputs": [
      {
       "output_type": "stream",
       "stream": "stdout",
       "text": [
        "900\n",
        "greater than 800\n",
        "900\n",
        "greater than 800\n",
        "400\n",
        "less than 800!\n",
        "2625\n",
        "greater than 800\n",
        "4000\n",
        "greater than 800\n",
        "640\n",
        "less than 800!\n",
        "1335\n",
        "greater than 800\n",
        "1456\n",
        "greater than 800\n",
        "900\n",
        "greater than 800\n",
        "3264\n",
        "greater than 800\n",
        "1608\n",
        "greater than 800\n",
        "640\n",
        "less than 800!\n",
        "900\n",
        "greater than 800\n",
        "900\n",
        "greater than 800\n",
        "400\n",
        "less than 800!\n",
        "2625\n",
        "greater than 800\n",
        "4000\n",
        "greater than 800\n",
        "640\n",
        "less than 800!\n",
        "1335\n",
        "greater than 800\n",
        "1456\n",
        "greater than 800\n",
        "900\n",
        "greater than 800\n",
        "3264\n",
        "greater than 800\n",
        "1608\n",
        "greater than 800\n",
        "640\n",
        "less than 800!\n",
        "512\n",
        "less than 800!\n",
        "512\n",
        "less than 800!\n",
        "512\n",
        "less than 800!\n",
        "512\n",
        "less than 800!\n",
        "512\n",
        "less than 800!\n",
        "512\n",
        "less than 800!\n",
        "512\n",
        "less than 800!\n",
        "512\n",
        "less than 800!\n",
        "512\n",
        "less than 800!\n",
        "512\n",
        "less than 800!\n",
        "512\n",
        "less than 800!\n",
        "512\n",
        "less than 800!\n",
        "512\n",
        "less than 800!\n",
        "512\n",
        "less than 800!\n",
        "512\n",
        "less than 800!\n",
        "512\n",
        "less than 800!\n",
        "512\n",
        "less than 800!\n",
        "512\n",
        "less than 800!\n",
        "512\n",
        "less than 800!\n",
        "512\n",
        "less than 800!\n",
        "512\n",
        "less than 800!\n",
        "512\n",
        "less than 800!\n",
        "512\n",
        "less than 800!\n",
        "512\n",
        "less than 800!\n"
       ]
      }
     ],
     "prompt_number": 107
    },
    {
     "cell_type": "code",
     "collapsed": false,
     "input": [],
     "language": "python",
     "metadata": {},
     "outputs": [],
     "prompt_number": 107
    },
    {
     "cell_type": "code",
     "collapsed": false,
     "input": [
      "doc = dominate.document(title='GetsDrawn')\n",
      "\n",
      "with doc.head:\n",
      "    link(rel='stylesheet', href='style.css')\n",
      "    script(type='text/javascript', src='script.js')\n",
      "    \n",
      "    with div():\n",
      "        attr(cls='header')\n",
      "        h1('GetsDrawn')\n",
      "        p(img('imgs/getsdrawn-bw.png', src='imgs/getsdrawn-bw.png'))\n",
      "        h1('Updated ', strftime(\"%a, %d %b %Y %H:%M:%S +0000\", gmtime()))\n",
      "        p(panz)\n",
      "        p(bodycom)\n",
      "    \n",
      "    \n",
      "\n",
      "with doc:\n",
      "    with div(id='body').add(ol()):\n",
      "        for rdz in lisrgc:\n",
      "            h1(rdz.title)\n",
      "            #a(rdz.url)\n",
      "            if 'http://i.imgur.com' in rdz.url:\n",
      "                #print rdz.url\n",
      "                p(img(rdz.url, src='%s' % rdz.url))\n",
      "                \n",
      "            #print rdz.url\n",
      "            #if '.jpg' in rdz.url:\n",
      "            #    img(rdz.urlz)\n",
      "            #else:\n",
      "            #    a(rdz.urlz)\n",
      "            h1(str(rdz.author))\n",
      "            \n",
      "            #li(img(i.lower(), src='%s' % i))\n",
      "\n",
      "    with div():\n",
      "        attr(cls='body')\n",
      "        p('GetsDrawn is open source')\n",
      "        a('https://github.com/wcmckee/wcmckee')\n",
      "        a('https://reddit.com/r/redditgetsdrawn')\n",
      "\n",
      "#print doc"
     ],
     "language": "python",
     "metadata": {},
     "outputs": [],
     "prompt_number": 108
    },
    {
     "cell_type": "code",
     "collapsed": false,
     "input": [
      "gtdrndic"
     ],
     "language": "python",
     "metadata": {},
     "outputs": [
      {
       "metadata": {},
       "output_type": "pyout",
       "prompt_number": 109,
       "text": [
        "{'title': u'Need pics drawn of my 3 kiddos for a gift for my hubby...thanks!!!'}"
       ]
      }
     ],
     "prompt_number": 109
    },
    {
     "cell_type": "code",
     "collapsed": false,
     "input": [
      "docre = doc.render()"
     ],
     "language": "python",
     "metadata": {},
     "outputs": [],
     "prompt_number": 110
    },
    {
     "cell_type": "code",
     "collapsed": false,
     "input": [
      "#s = docre.decode('ascii', 'ignore')"
     ],
     "language": "python",
     "metadata": {},
     "outputs": [],
     "prompt_number": 111
    },
    {
     "cell_type": "code",
     "collapsed": false,
     "input": [
      "yourstring = docre.encode('ascii', 'ignore').decode('ascii')"
     ],
     "language": "python",
     "metadata": {},
     "outputs": [],
     "prompt_number": 112
    },
    {
     "cell_type": "code",
     "collapsed": false,
     "input": [
      "indfil = ('/home/wcmckee/getsdrawndotcom/index.html')"
     ],
     "language": "python",
     "metadata": {},
     "outputs": [],
     "prompt_number": 113
    },
    {
     "cell_type": "code",
     "collapsed": false,
     "input": [
      "mkind = open(indfil, 'w')\n",
      "mkind.write(yourstring)\n",
      "mkind.close()"
     ],
     "language": "python",
     "metadata": {},
     "outputs": [],
     "prompt_number": 114
    },
    {
     "cell_type": "code",
     "collapsed": false,
     "input": [
      "#os.system('scp -r /home/wcmckee/getsdrawndotcom/ wcmckee@getsdrawn.com:/home/wcmckee/getsdrawndotcom')"
     ],
     "language": "python",
     "metadata": {},
     "outputs": [],
     "prompt_number": 115
    },
    {
     "cell_type": "code",
     "collapsed": false,
     "input": [
      "#rsync -azP source destination"
     ],
     "language": "python",
     "metadata": {},
     "outputs": [],
     "prompt_number": 117
    },
    {
     "cell_type": "code",
     "collapsed": false,
     "input": [
      "updatehtm = raw_input('Update index? Y/n')\n",
      "updateref = raw_input('Update reference? Y/n')\n",
      "\n",
      "if 'y' or '' in updatehtm:\n",
      "    os.system('scp -r /home/wcmckee/getsdrawndotcom/index.html wcmckee@getsdrawn.com:/home/wcmckee/getsdrawndotcom/index.html')\n",
      "elif 'n' in updatehtm:\n",
      "    print 'not uploading'\n",
      "if 'y' or '' in updateref:\n",
      "    os.system('rsync -azP /home/wcmckee/getsdrawndotcom/ wcmckee@getsdrawn.com:/home/wcmckee/getsdrawndotcom/')"
     ],
     "language": "python",
     "metadata": {},
     "outputs": [
      {
       "name": "stdout",
       "output_type": "stream",
       "stream": "stdout",
       "text": [
        "Update index? Y/ny\n"
       ]
      },
      {
       "name": "stdout",
       "output_type": "stream",
       "stream": "stdout",
       "text": [
        "Update reference? Y/nn\n"
       ]
      }
     ]
    },
    {
     "cell_type": "code",
     "collapsed": false,
     "input": [
      "os.system('scp -r /home/wcmckee/getsdrawndotcom/index.html wcmckee@getsdrawn.com:/home/wcmckee/getsdrawndotcom/index.html')"
     ],
     "language": "python",
     "metadata": {},
     "outputs": []
    },
    {
     "cell_type": "code",
     "collapsed": false,
     "input": [
      "os.system('scp -r /home/wcmckee/getsdrawndotcom/style.css wcmckee@getsdrawn.com:/home/wcmckee/getsdrawndotcom/style.css')"
     ],
     "language": "python",
     "metadata": {},
     "outputs": [
      {
       "metadata": {},
       "output_type": "pyout",
       "prompt_number": 208,
       "text": [
        "256"
       ]
      }
     ],
     "prompt_number": 208
    },
    {
     "cell_type": "code",
     "collapsed": false,
     "input": [],
     "language": "python",
     "metadata": {},
     "outputs": [],
     "prompt_number": 208
    },
    {
     "cell_type": "code",
     "collapsed": false,
     "input": [],
     "language": "python",
     "metadata": {},
     "outputs": []
    }
   ],
   "metadata": {}
  }
 ]
}