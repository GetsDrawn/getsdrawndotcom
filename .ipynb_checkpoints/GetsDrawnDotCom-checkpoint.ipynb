{
 "metadata": {
  "name": "",
  "signature": "sha256:cb80660cf7b8df5897c44b57077b6969d02846b6df497c9c131eb55475b0655f"
 },
 "nbformat": 3,
 "nbformat_minor": 0,
 "worksheets": [
  {
   "cells": [
    {
     "cell_type": "markdown",
     "metadata": {},
     "source": [
      "<h1>GetsDrawn DotCom</h1>"
     ]
    },
    {
     "cell_type": "markdown",
     "metadata": {},
     "source": [
      "This is a python script to generate the website GetsDrawn. It takes data from /r/RedditGetsDrawn and makes something awesome.\n",
      "\n",
      "The script has envolved and been rewritten several times. \n",
      "\n",
      "The first script for rgdsnatch was written after I got banned from posting my artwork on /r/RedditGetsDrawn. The plan was to create a new site that displayed stuff from /r/RedditGetsDrawn. \n",
      "\n",
      "Currently it only displays the most recent 25 items on redditgetsdrawn.\n",
      "\n",
      "This is moving forward from rgdsnatch.py because I am stuck on it.  \n",
      "\n",
      "TODO\n",
      "\n",
      "Fix the links that don't link to png/jpeg and link to webaddress. \n",
      "Needs to get the images that are at that web address and embed them.\n",
      "\n",
      "Display artwork submitted under the images. \n",
      "\n",
      "Upload artwork to user. Sends them a message on redditgetsdrawn with links. \n",
      "\n",
      "More pandas\n",
      "\n",
      "Saves reference images to imgs/year/month/day/reference/username-reference.png\n",
      "\n",
      "Saves art images to imgs/year/month/day/art/username-line-bw-colour.png \n",
      "\n",
      "Creates index.html file with:\n",
      "Title of site and logo: GetsDrawn\n",
      "Last updated date and time. \n",
      "\n",
      "Path of image file /imgs/year/month/day/username-reference.png. \n",
      "(This needs changed to just their username).\n",
      "\n",
      "Save off .meta data from reddit of each photo, saving it to reference folder.\n",
      "username-yrmnthday.meta - contains info such as author, title, upvotes, downvotes.\n",
      "\n",
      "Currently saves username-line-bw-colour.png to imgs folder. Instead get it to save to imgs/year/month/day/usernames.png.\n",
      "Script checks the year/month/day and if folder isnt created, it creates it. If folder is there, exit. \n",
      "Maybe get the reference image and save it with the line/bw/color.pngs\n",
      "\n",
      "The script now filters the jpeg and png image and skips links to imgur pages. This needs to be fixed by getting the images from the imgur pages.\n",
      "It renames the image files to the redditor username followed by a -reference tag (and ending with png of course).\n",
      "It opens these files up with PIL and checks the sizes. \n",
      "It needs to resize the images that are larger than 800px to 800px.\n",
      "These images need to be linked in the index.html instead of the imgur altenatives. \n",
      "\n",
      "Extending the subreddits it gets data from to cycle though a list, run script though list of subreddits.\n",
      "\n",
      "Browse certain days - Current day by default but option to scroll through other days\n"
     ]
    },
    {
     "cell_type": "code",
     "collapsed": true,
     "input": [
      "import os \n",
      "import requests\n",
      "from bs4 import BeautifulSoup\n",
      "import re\n",
      "import json\n",
      "import time\n",
      "import praw\n",
      "import dominate\n",
      "from dominate.tags import * \n",
      "from time import gmtime, strftime\n",
      "#import nose\n",
      "#import unittest\n",
      "import numpy as np\n",
      "import pandas as pd\n",
      "from pandas import *\n",
      "from PIL import Image\n",
      "from pprint import pprint\n",
      "#import pyttsx\n",
      "import shutil"
     ],
     "language": "python",
     "metadata": {},
     "outputs": [],
     "prompt_number": 576
    },
    {
     "cell_type": "code",
     "collapsed": true,
     "input": [
      "gtsdrndir = ('/home/wcmckee/getsdrawndotcom')"
     ],
     "language": "python",
     "metadata": {},
     "outputs": [],
     "prompt_number": 577
    },
    {
     "cell_type": "code",
     "collapsed": true,
     "input": [
      "os.chdir(gtsdrndir)"
     ],
     "language": "python",
     "metadata": {},
     "outputs": [],
     "prompt_number": 578
    },
    {
     "cell_type": "code",
     "collapsed": true,
     "input": [
      "r = praw.Reddit(user_agent='getsdrawndotcom')"
     ],
     "language": "python",
     "metadata": {},
     "outputs": [],
     "prompt_number": 579
    },
    {
     "cell_type": "code",
     "collapsed": true,
     "input": [
      "#getmin = r.get_redditor('itwillbemine')"
     ],
     "language": "python",
     "metadata": {},
     "outputs": [],
     "prompt_number": 580
    },
    {
     "cell_type": "code",
     "collapsed": true,
     "input": [
      "#mincom = getmin.get_comments()"
     ],
     "language": "python",
     "metadata": {},
     "outputs": [],
     "prompt_number": 581
    },
    {
     "cell_type": "code",
     "collapsed": true,
     "input": [
      "#engine = pyttsx.init()\n",
      "\n",
      "#engine.say('The quick brown fox jumped over the lazy dog.')\n",
      "#engine.runAndWait()"
     ],
     "language": "python",
     "metadata": {},
     "outputs": [],
     "prompt_number": 582
    },
    {
     "cell_type": "code",
     "collapsed": true,
     "input": [
      "#shtweet = []"
     ],
     "language": "python",
     "metadata": {},
     "outputs": [],
     "prompt_number": 583
    },
    {
     "cell_type": "code",
     "collapsed": true,
     "input": [
      "#for mi in mincom:\n",
      "#    print mi\n",
      "#    shtweet.append(mi)"
     ],
     "language": "python",
     "metadata": {},
     "outputs": [],
     "prompt_number": 584
    },
    {
     "cell_type": "code",
     "collapsed": true,
     "input": [
      "bodycom = []\n",
      "bodyicv = dict()"
     ],
     "language": "python",
     "metadata": {},
     "outputs": [],
     "prompt_number": 585
    },
    {
     "cell_type": "code",
     "collapsed": true,
     "input": [
      "#beginz = pyttsx.init()"
     ],
     "language": "python",
     "metadata": {},
     "outputs": [],
     "prompt_number": 586
    },
    {
     "cell_type": "code",
     "collapsed": true,
     "input": [
      "#for shtz in shtweet:\n",
      "#    print shtz.downs\n",
      "#    print shtz.ups\n",
      "#    print shtz.body\n",
      "#    print shtz.replies\n",
      "    #beginz.say(shtz.author)\n",
      "    #beginz.say(shtz.body)\n",
      "    #beginz.runAndWait()\n",
      "    \n",
      "#    bodycom.append(shtz.body)\n",
      "    #bodyic"
     ],
     "language": "python",
     "metadata": {},
     "outputs": [],
     "prompt_number": 587
    },
    {
     "cell_type": "code",
     "collapsed": true,
     "input": [
      "#bodycom "
     ],
     "language": "python",
     "metadata": {},
     "outputs": [],
     "prompt_number": 588
    },
    {
     "cell_type": "code",
     "collapsed": true,
     "input": [
      "getnewr = r.get_subreddit('redditgetsdrawn')"
     ],
     "language": "python",
     "metadata": {},
     "outputs": [],
     "prompt_number": 589
    },
    {
     "cell_type": "code",
     "collapsed": true,
     "input": [
      "rdnew = getnewr.get_new()"
     ],
     "language": "python",
     "metadata": {},
     "outputs": [],
     "prompt_number": 590
    },
    {
     "cell_type": "code",
     "collapsed": true,
     "input": [
      "lisrgc = []\n",
      "lisauth = []"
     ],
     "language": "python",
     "metadata": {},
     "outputs": [],
     "prompt_number": 591
    },
    {
     "cell_type": "code",
     "collapsed": true,
     "input": [
      "for uz in rdnew:\n",
      "    #print uz\n",
      "    lisrgc.append(uz)"
     ],
     "language": "python",
     "metadata": {},
     "outputs": [],
     "prompt_number": 592
    },
    {
     "cell_type": "code",
     "collapsed": true,
     "input": [
      "gtdrndic = dict()"
     ],
     "language": "python",
     "metadata": {},
     "outputs": [],
     "prompt_number": 593
    },
    {
     "cell_type": "code",
     "collapsed": true,
     "input": [
      "imgdir = ('/home/wcmckee/getsdrawndotcom/imgs')"
     ],
     "language": "python",
     "metadata": {},
     "outputs": [],
     "prompt_number": 594
    },
    {
     "cell_type": "code",
     "collapsed": true,
     "input": [
      "artlist = os.listdir(imgdir)"
     ],
     "language": "python",
     "metadata": {},
     "outputs": [],
     "prompt_number": 595
    },
    {
     "cell_type": "code",
     "collapsed": true,
     "input": [
      "from time import time"
     ],
     "language": "python",
     "metadata": {},
     "outputs": [],
     "prompt_number": 596
    },
    {
     "cell_type": "code",
     "collapsed": true,
     "input": [
      "yearz = strftime(\"%y\", gmtime())\n",
      "monthz = strftime(\"%m\", gmtime())\n",
      "dayz = strftime(\"%d\", gmtime())\n",
      "\n",
      "\n",
      "#strftime(\"%y %m %d\", gmtime())\n",
      "\n"
     ],
     "language": "python",
     "metadata": {},
     "outputs": [],
     "prompt_number": 597
    },
    {
     "cell_type": "code",
     "collapsed": true,
     "input": [
      "imgzdir = ('imgs/')\n",
      "yrzpat = (imgzdir + yearz)\n",
      "monzpath = (yrzpat + '/' + monthz)\n",
      "dayzpath = (monzpath + '/' + dayz)\n",
      "rmgzdays = (dayzpath + '/reference')\n",
      "imgzdays = (dayzpath + '/art')\n",
      "\n",
      "repathz = ('imgs/' + yearz + '/' + monthz + '/' + dayz + '/')"
     ],
     "language": "python",
     "metadata": {},
     "outputs": [],
     "prompt_number": 598
    },
    {
     "cell_type": "code",
     "collapsed": true,
     "input": [],
     "language": "python",
     "metadata": {},
     "outputs": [],
     "prompt_number": 598
    },
    {
     "cell_type": "code",
     "collapsed": true,
     "input": [
      "imgzdays"
     ],
     "language": "python",
     "metadata": {},
     "outputs": [
      {
       "metadata": {},
       "output_type": "pyout",
       "prompt_number": 599,
       "text": [
        "'imgs/15/01/02/art'"
       ]
      }
     ],
     "prompt_number": 599
    },
    {
     "cell_type": "code",
     "collapsed": true,
     "input": [
      "repathz"
     ],
     "language": "python",
     "metadata": {},
     "outputs": [
      {
       "metadata": {},
       "output_type": "pyout",
       "prompt_number": 600,
       "text": [
        "'imgs/15/01/02/'"
       ]
      }
     ],
     "prompt_number": 600
    },
    {
     "cell_type": "code",
     "collapsed": true,
     "input": [
      "def ospacheck():\n",
      "    if os.path.isdir(imgzdir + yearz) == True:\n",
      "        print 'its true'\n",
      "    else:\n",
      "        print 'its false'\n",
      "        os.mkdir(imgzdir + yearz)\n",
      "    "
     ],
     "language": "python",
     "metadata": {},
     "outputs": [],
     "prompt_number": 601
    },
    {
     "cell_type": "code",
     "collapsed": true,
     "input": [
      "ospacheck()"
     ],
     "language": "python",
     "metadata": {},
     "outputs": [
      {
       "output_type": "stream",
       "stream": "stdout",
       "text": [
        "its true\n"
       ]
      }
     ],
     "prompt_number": 602
    },
    {
     "cell_type": "code",
     "collapsed": true,
     "input": [
      "#if os.path.isdir(imgzdir + yearz) == True:\n",
      "#    print 'its true'\n",
      "#else:\n",
      "#    print 'its false'\n",
      "#    os.mkdir(imgzdir + yearz)"
     ],
     "language": "python",
     "metadata": {},
     "outputs": [],
     "prompt_number": 603
    },
    {
     "cell_type": "code",
     "collapsed": true,
     "input": [
      "if os.path.isdir(monzpath) == True:\n",
      "    print 'its true'\n",
      "else:\n",
      "    print 'its false'\n",
      "    os.mkdir(monzpath)\n",
      "\n",
      "#os.mkdir(monzpath)"
     ],
     "language": "python",
     "metadata": {},
     "outputs": [
      {
       "output_type": "stream",
       "stream": "stdout",
       "text": [
        "its true\n"
       ]
      }
     ],
     "prompt_number": 604
    },
    {
     "cell_type": "code",
     "collapsed": true,
     "input": [
      "if os.path.isdir(dayzpath) == True:\n",
      "    print 'its true'\n",
      "else:\n",
      "    print 'its false'\n",
      "    os.mkdir(dayzpath)\n",
      "\n",
      "#os.mkdir(dayzpath)"
     ],
     "language": "python",
     "metadata": {},
     "outputs": [
      {
       "output_type": "stream",
       "stream": "stdout",
       "text": [
        "its true\n"
       ]
      }
     ],
     "prompt_number": 605
    },
    {
     "cell_type": "code",
     "collapsed": false,
     "input": [
      "if os.path.isdir(imgzdays) == True:\n",
      "    print 'its true'\n",
      "else:\n",
      "    print 'its false'\n",
      "    os.mkdir(imgzdays)"
     ],
     "language": "python",
     "metadata": {},
     "outputs": [
      {
       "output_type": "stream",
       "stream": "stdout",
       "text": [
        "its true\n"
       ]
      }
     ],
     "prompt_number": 606
    },
    {
     "cell_type": "code",
     "collapsed": true,
     "input": [
      "if os.path.isdir(rmgzdays) == True:\n",
      "    print 'its true'\n",
      "else:\n",
      "    print 'its false'\n",
      "    os.mkdir(rmgzdays)"
     ],
     "language": "python",
     "metadata": {},
     "outputs": [
      {
       "output_type": "stream",
       "stream": "stdout",
       "text": [
        "its true\n"
       ]
      }
     ],
     "prompt_number": 607
    },
    {
     "cell_type": "code",
     "collapsed": true,
     "input": [],
     "language": "python",
     "metadata": {},
     "outputs": []
    },
    {
     "cell_type": "code",
     "collapsed": true,
     "input": [
      "#artlist"
     ],
     "language": "python",
     "metadata": {},
     "outputs": [],
     "prompt_number": 608
    },
    {
     "cell_type": "code",
     "collapsed": true,
     "input": [
      "httpad = ('http://getsdrawn.com/imgs')"
     ],
     "language": "python",
     "metadata": {},
     "outputs": [],
     "prompt_number": 609
    },
    {
     "cell_type": "code",
     "collapsed": true,
     "input": [
      "#im = Image.new(\"RGB\", (512, 512), \"white\")\n",
      "#im.save(file + \".thumbnail\", \"JPEG\")"
     ],
     "language": "python",
     "metadata": {},
     "outputs": [],
     "prompt_number": 610
    },
    {
     "cell_type": "code",
     "collapsed": true,
     "input": [
      "for lisr in lisrgc:\n",
      "    gtdrndic.update({'title': lisr.title})\n",
      "    lisauth.append(str(lisr.author))\n"
     ],
     "language": "python",
     "metadata": {},
     "outputs": [],
     "prompt_number": 611
    },
    {
     "cell_type": "code",
     "collapsed": true,
     "input": [
      "rmgzdays = (dayzpath + '/reference')\n",
      "imgzdays = (dayzpath + '/art')\n",
      "metazdays = (dayzpath + '/meta')"
     ],
     "language": "python",
     "metadata": {},
     "outputs": [],
     "prompt_number": 612
    },
    {
     "cell_type": "code",
     "collapsed": true,
     "input": [
      "os.chdir(imgzdays)"
     ],
     "language": "python",
     "metadata": {},
     "outputs": [],
     "prompt_number": 613
    },
    {
     "cell_type": "code",
     "collapsed": true,
     "input": [
      "rmgzdays"
     ],
     "language": "python",
     "metadata": {},
     "outputs": [
      {
       "metadata": {},
       "output_type": "pyout",
       "prompt_number": 614,
       "text": [
        "'imgs/15/01/02/reference'"
       ]
      }
     ],
     "prompt_number": 614
    },
    {
     "cell_type": "code",
     "collapsed": true,
     "input": [
      "#os.listdir(dayzpath)"
     ],
     "language": "python",
     "metadata": {},
     "outputs": [],
     "prompt_number": 615
    },
    {
     "cell_type": "code",
     "collapsed": true,
     "input": [
      "for lisa in lisauth:\n",
      "    #print lisa + '-line.png'\n",
      "    im = Image.new(\"RGB\", (512, 512), \"white\")\n",
      "    im.save(lisa + '-line.png')\n",
      "    im = Image.new(\"RGB\", (512, 512), \"white\")\n",
      "    im.save(lisa + '-bw.png')\n",
      "\n",
      "    #print lisa + '-bw.png'\n",
      "    im = Image.new(\"RGB\", (512, 512), \"white\")\n",
      "    im.save(lisa + '-colour.png')\n",
      "\n",
      "    #print lisa + '-colour.png'"
     ],
     "language": "python",
     "metadata": {},
     "outputs": [],
     "prompt_number": 616
    },
    {
     "cell_type": "code",
     "collapsed": true,
     "input": [
      "os.listdir('/home/wcmckee/getsdrawndotcom/imgs')"
     ],
     "language": "python",
     "metadata": {},
     "outputs": [
      {
       "metadata": {},
       "output_type": "pyout",
       "prompt_number": 617,
       "text": [
        "['getsdrawn-bw.png', '12', '15', '14']"
       ]
      }
     ],
     "prompt_number": 617
    },
    {
     "cell_type": "code",
     "collapsed": true,
     "input": [
      "lisauth"
     ],
     "language": "python",
     "metadata": {},
     "outputs": [
      {
       "metadata": {},
       "output_type": "pyout",
       "prompt_number": 618,
       "text": [
        "['artymads',\n",
        " 'monsoon42',\n",
        " 'VotreEsUneChaussure',\n",
        " 'alwaysreigning',\n",
        " 'Ardorouseyes',\n",
        " 'RobVegas',\n",
        " 'Plastic-Is-Fantastic',\n",
        " 'Fuck1_Marry1_Kill1',\n",
        " 'zoeypants2012',\n",
        " 'mrturdferguson',\n",
        " 'everythingiseeishere',\n",
        " 'Vangunn',\n",
        " 'RedLegsRone',\n",
        " 'Morgi_',\n",
        " 'demonicpig',\n",
        " 'kollapstradixionales',\n",
        " 'xeddier',\n",
        " 'Nakittina',\n",
        " 'Toasted_Badger',\n",
        " 'DaywalkerManifesto',\n",
        " 'HuggingTheJellyfish',\n",
        " 'PoseidonsTrident',\n",
        " 'Mooka27',\n",
        " 'benbrandt22',\n",
        " 'ultimate_hedonist']"
       ]
      }
     ],
     "prompt_number": 618
    },
    {
     "cell_type": "markdown",
     "metadata": {},
     "source": [
      "I want to save the list of usernames that submit images as png files in a dir. \n",
      "Currently when I call the list of authors it returns Redditor(user_name='theusername'). I want to return 'theusername'.\n",
      "Once this is resolved I can add '-line.png' '-bw.png' '-colour.png' to each folder. "
     ]
    },
    {
     "cell_type": "code",
     "collapsed": true,
     "input": [
      "lisr.author"
     ],
     "language": "python",
     "metadata": {},
     "outputs": [
      {
       "metadata": {},
       "output_type": "pyout",
       "prompt_number": 619,
       "text": [
        "Redditor(user_name='ultimate_hedonist')"
       ]
      }
     ],
     "prompt_number": 619
    },
    {
     "cell_type": "code",
     "collapsed": true,
     "input": [
      "namlis = []"
     ],
     "language": "python",
     "metadata": {},
     "outputs": [],
     "prompt_number": 620
    },
    {
     "cell_type": "code",
     "collapsed": true,
     "input": [
      "opsinz = open('/home/wcmckee/visignsys/index.meta', 'r')\n",
      "panz = opsinz.read()"
     ],
     "language": "python",
     "metadata": {},
     "outputs": [],
     "prompt_number": 621
    },
    {
     "cell_type": "code",
     "collapsed": true,
     "input": [
      "os.chdir('/home/wcmckee/getsdrawndotcom/' + rmgzdays)"
     ],
     "language": "python",
     "metadata": {},
     "outputs": [],
     "prompt_number": 622
    },
    {
     "cell_type": "code",
     "collapsed": true,
     "input": [
      "#panz()\n",
      "for rdz in lisrgc:\n",
      "    (rdz.title)\n",
      "    #a(rdz.url)\n",
      "    if 'http://i.imgur.com' in rdz.url:\n",
      "        #print rdz.url\n",
      "        print (rdz.url)\n",
      "        url = rdz.url\n",
      "        response = requests.get(url, stream=True)\n",
      "        with open(str(rdz.author) + '-reference.png', 'wb') as out_file:\n",
      "            shutil.copyfileobj(response.raw, out_file)\n",
      "            del response"
     ],
     "language": "python",
     "metadata": {},
     "outputs": [
      {
       "output_type": "stream",
       "stream": "stdout",
       "text": [
        "http://i.imgur.com/TNOSpSP.jpg\n",
        "http://i.imgur.com/P9bCsaj.jpg"
       ]
      },
      {
       "output_type": "stream",
       "stream": "stdout",
       "text": [
        "\n",
        "http://i.imgur.com/wx03Y2E.jpg"
       ]
      },
      {
       "output_type": "stream",
       "stream": "stdout",
       "text": [
        "\n",
        "http://i.imgur.com/WrKlbmL.jpg"
       ]
      },
      {
       "output_type": "stream",
       "stream": "stdout",
       "text": [
        "\n",
        "http://i.imgur.com/aJLbh2u.jpg"
       ]
      },
      {
       "output_type": "stream",
       "stream": "stdout",
       "text": [
        "\n",
        "http://i.imgur.com/i3mFSUO.jpg?1"
       ]
      },
      {
       "output_type": "stream",
       "stream": "stdout",
       "text": [
        "\n",
        "http://i.imgur.com/ytCQJWb.jpg"
       ]
      },
      {
       "output_type": "stream",
       "stream": "stdout",
       "text": [
        "\n",
        "http://i.imgur.com/wHwGj0e.jpg"
       ]
      },
      {
       "output_type": "stream",
       "stream": "stdout",
       "text": [
        "\n",
        "http://i.imgur.com/j5UTWoW.jpg"
       ]
      },
      {
       "output_type": "stream",
       "stream": "stdout",
       "text": [
        "\n",
        "http://i.imgur.com/NofXPh9.png"
       ]
      },
      {
       "output_type": "stream",
       "stream": "stdout",
       "text": [
        "\n",
        "http://i.imgur.com/N9daGIP.jpg"
       ]
      },
      {
       "output_type": "stream",
       "stream": "stdout",
       "text": [
        "\n",
        "http://i.imgur.com/OdMPASg.jpg"
       ]
      },
      {
       "output_type": "stream",
       "stream": "stdout",
       "text": [
        "\n",
        "http://i.imgur.com/weweVUe.jpg"
       ]
      },
      {
       "output_type": "stream",
       "stream": "stdout",
       "text": [
        "\n",
        "http://i.imgur.com/sfdYmTk.jpg"
       ]
      },
      {
       "output_type": "stream",
       "stream": "stdout",
       "text": [
        "\n",
        "http://i.imgur.com/6qOYHoA.jpg"
       ]
      },
      {
       "output_type": "stream",
       "stream": "stdout",
       "text": [
        "\n",
        "http://i.imgur.com/MhcuFUk.jpg"
       ]
      },
      {
       "output_type": "stream",
       "stream": "stdout",
       "text": [
        "\n",
        "http://i.imgur.com/j130EXf.jpg"
       ]
      },
      {
       "output_type": "stream",
       "stream": "stdout",
       "text": [
        "\n"
       ]
      }
     ],
     "prompt_number": 623
    },
    {
     "cell_type": "code",
     "collapsed": true,
     "input": [
      "apsize = []"
     ],
     "language": "python",
     "metadata": {},
     "outputs": [],
     "prompt_number": 624
    },
    {
     "cell_type": "code",
     "collapsed": true,
     "input": [
      "aptype = []"
     ],
     "language": "python",
     "metadata": {},
     "outputs": [],
     "prompt_number": 625
    },
    {
     "cell_type": "code",
     "collapsed": true,
     "input": [
      "basewidth = 600"
     ],
     "language": "python",
     "metadata": {},
     "outputs": [],
     "prompt_number": 626
    },
    {
     "cell_type": "code",
     "collapsed": true,
     "input": [
      "imgdict = dict()"
     ],
     "language": "python",
     "metadata": {},
     "outputs": [],
     "prompt_number": 627
    },
    {
     "cell_type": "code",
     "collapsed": true,
     "input": [
      "for rmglis in os.listdir('/home/wcmckee/getsdrawndotcom/' + rmgzdays):\n",
      "    print rmglis\n",
      "    im = Image.open(rmglis)\n",
      "    print im.size\n",
      "    imgdict.update({rmglis : im.size})\n",
      "    #im.thumbnail(size, Image.ANTIALIAS)\n",
      "    #im.save(file + \".thumbnail\", \"JPEG\")\n",
      "    apsize.append(im.size)\n",
      "    aptype.append(rmglis)"
     ],
     "language": "python",
     "metadata": {},
     "outputs": [
      {
       "output_type": "stream",
       "stream": "stdout",
       "text": [
        "Fuck1_Marry1_Kill1-reference.png\n",
        "(2448, 3264)\n",
        "ReptileLover82-reference.png\n",
        "(900, 1200)\n",
        "Vegglimer-reference.png\n",
        "(621, 861)\n",
        "ctmedic-reference.png\n",
        "(1024, 1024)\n",
        "westendbestend-reference.png\n",
        "(668, 960)\n",
        "startages-reference.png\n",
        "(1849, 1525)\n",
        "vicbond004-reference.png\n",
        "(3264, 2448)\n",
        "PolishAce-reference.png\n",
        "(1148, 1148)\n",
        "qtpie2000-reference.png\n",
        "(960, 1280)\n",
        "PitbullGirl-reference.png\n",
        "(960, 778)\n",
        "zoeypants2012-reference.png\n",
        "(720, 1280)\n",
        "ReoutS-reference.png\n",
        "(1188, 2036)\n",
        "Kritter2490-reference.png\n",
        "(1361, 2048)\n",
        "PharmerRob-reference.png\n",
        "(720, 960)\n",
        "JosephHughes-reference.png\n",
        "(581, 1032)\n",
        "Boobbuffet-reference.png\n",
        "(150, 150)\n",
        "luckybunnyhop-reference.png\n",
        "(1080, 1920)\n",
        "Toasted_Badger-reference.png\n",
        "(960, 1280)\n",
        "Pipvault-reference.png\n",
        "(2448, 3264)\n",
        "crobertt2-reference.png\n",
        "(1024, 768)\n",
        "xeddier-reference.png\n",
        "(960, 540)\n",
        "Ladyloulou-reference.png\n",
        "(819, 1024)"
       ]
      },
      {
       "output_type": "stream",
       "stream": "stdout",
       "text": [
        "\n",
        "Plastic-Is-Fantastic-reference.png\n",
        "(640, 640)\n",
        "3_Toed_Hooker-reference.png\n",
        "(1366, 2048)\n",
        "whizzo3031-reference.png\n",
        "(479, 356)\n",
        "iloveariiii-reference.png\n",
        "(768, 1024)\n",
        "HuggingTheJellyfish-reference.png\n",
        "(729, 1095)\n",
        "honeybri-reference.png\n",
        "(959, 538)\n",
        "mrturdferguson-reference.png\n",
        "(1861, 2687)\n",
        "VotreEsUneChaussure-reference.png\n",
        "(480, 640)\n",
        "themodporcupine-reference.png\n",
        "(711, 473)\n",
        "DaywalkerManifesto-reference.png\n",
        "(640, 1136)\n",
        "Ardorouseyes-reference.png\n",
        "(675, 1200)\n",
        "demonicpig-reference.png\n",
        "(2048, 1536)\n",
        "alwaysreigning-reference.png\n",
        "(720, 1280)\n",
        "TheUnknownUsername-reference.png\n",
        "(778, 1280)\n",
        "Joefishjones-reference.png\n",
        "(1080, 720)\n",
        "Stalli0nDuck-reference.png\n",
        "(960, 640)\n",
        "Nakittina-reference.png\n",
        "(720, 1280)\n",
        "Grammatical_Aneurysm-reference.png\n",
        "(355, 473)\n",
        "Morgi_-reference.png\n",
        "(2448, 2448)\n",
        "Eneyek-reference.png\n",
        "(2048, 1366)\n",
        "Ratkus-reference.png\n",
        "(960, 960)\n",
        "gross_caricature-reference.png\n",
        "(480, 640)\n",
        "poooooooooooooo0op-reference.png\n",
        "(900, 1200)\n",
        "Dinosaurlover75-reference.png\n",
        "(4128, 2322)\n",
        "PenguinsGoMeow-reference.png\n",
        "(3110, 2073)\n",
        "mrcoplo-reference.png\n",
        "(1365, 2048)\n",
        "mad_squabbles-reference.png\n",
        "(4128, 2322)\n",
        "kollapstradixionales-reference.png\n",
        "(734, 787)\n",
        "ultimate_hedonist-reference.png\n",
        "(1080, 1920)\n",
        "leeleechanda-reference.png\n",
        "(479, 479)\n",
        "PoseidonsTrident-reference.png\n",
        "(1080, 1039)\n",
        "TheDarlis-reference.png\n",
        "(2448, 3264)\n",
        "mrz5000-reference.png\n",
        "(960, 1280)"
       ]
      },
      {
       "output_type": "stream",
       "stream": "stdout",
       "text": [
        "\n"
       ]
      }
     ],
     "prompt_number": 628
    },
    {
     "cell_type": "code",
     "collapsed": true,
     "input": [
      "for imdva in imgdict.values():\n",
      "    #print imdva\n",
      "    for deva in imdva:\n",
      "        #print deva\n",
      "        if deva < 1000:\n",
      "            print 'omg less than 1000'\n",
      "        else:\n",
      "            print 'omg more than 1000'\n",
      "            print deva / 2\n",
      "            #print imgdict.values\n",
      "            # Needs to update imgdict.values with this new number. Must halve height also."
     ],
     "language": "python",
     "metadata": {},
     "outputs": [
      {
       "output_type": "stream",
       "stream": "stdout",
       "text": [
        "omg more than 1000\n",
        "1632\n",
        "omg more than 1000\n",
        "1224\n",
        "omg more than 1000\n",
        "2064\n",
        "omg more than 1000\n",
        "1161\n",
        "omg less than 1000\n",
        "omg less than 1000\n",
        "omg more than 1000\n",
        "540\n",
        "omg less than 1000\n",
        "omg more than 1000\n",
        "574\n",
        "omg more than 1000\n",
        "574\n",
        "omg more than 1000\n",
        "540\n",
        "omg more than 1000\n",
        "960\n",
        "omg more than 1000\n",
        "680\n",
        "omg more than 1000\n",
        "1024\n",
        "omg more than 1000\n",
        "540\n",
        "omg more than 1000\n",
        "519\n",
        "omg less than 1000\n",
        "omg less than 1000\n",
        "omg less than 1000\n",
        "omg less than 1000\n",
        "omg less than 1000\n",
        "omg less than 1000\n",
        "omg more than 1000\n",
        "1024\n",
        "omg more than 1000\n",
        "768\n",
        "omg less than 1000\n",
        "omg less than 1000\n",
        "omg less than 1000\n",
        "omg less than 1000\n",
        "omg more than 1000\n",
        "2064\n",
        "omg more than 1000\n",
        "1161\n",
        "omg less than 1000\n",
        "omg less than 1000\n",
        "omg less than 1000\n",
        "omg more than 1000\n",
        "640\n",
        "omg less than 1000\n",
        "omg less than 1000\n",
        "omg less than 1000\n",
        "omg less than 1000\n",
        "omg more than 1000\n",
        "1224\n",
        "omg more than 1000\n",
        "1632\n",
        "omg less than 1000\n",
        "omg less than 1000\n",
        "omg more than 1000\n",
        "1555\n",
        "omg more than 1000\n",
        "1036\n",
        "omg less than 1000\n",
        "omg less than 1000\n",
        "omg more than 1000\n",
        "540\n",
        "omg more than 1000\n",
        "960\n",
        "omg less than 1000\n",
        "omg more than 1000\n",
        "640\n",
        "omg less than 1000\n",
        "omg more than 1000\n",
        "600\n",
        "omg more than 1000\n",
        "512\n",
        "omg less than 1000\n",
        "omg less than 1000\n",
        "omg less than 1000\n",
        "omg less than 1000\n",
        "omg more than 1000\n",
        "512\n",
        "omg less than 1000\n",
        "omg less than 1000\n",
        "omg less than 1000\n",
        "omg less than 1000\n",
        "omg more than 1000\n",
        "512\n",
        "omg more than 1000\n",
        "512\n",
        "omg less than 1000\n",
        "omg more than 1000\n",
        "600\n",
        "omg less than 1000\n",
        "omg more than 1000\n",
        "600\n",
        "omg less than 1000\n",
        "omg more than 1000\n",
        "640\n",
        "omg less than 1000\n",
        "omg more than 1000\n",
        "640\n",
        "omg more than 1000\n",
        "682\n",
        "omg more than 1000\n",
        "1024\n",
        "omg more than 1000\n",
        "594\n",
        "omg more than 1000\n",
        "1018\n",
        "omg less than 1000\n",
        "omg more than 1000\n",
        "640\n",
        "omg more than 1000\n",
        "1224\n",
        "omg more than 1000\n",
        "1632\n",
        "omg less than 1000\n",
        "omg less than 1000\n",
        "omg less than 1000\n",
        "omg more than 1000\n",
        "640\n",
        "omg more than 1000\n",
        "1224\n",
        "omg more than 1000\n",
        "1632\n",
        "omg less than 1000\n",
        "omg less than 1000\n",
        "omg less than 1000\n",
        "omg more than 1000\n",
        "512\n",
        "omg less than 1000\n",
        "omg more than 1000\n",
        "516\n",
        "omg more than 1000\n",
        "1224\n",
        "omg more than 1000\n",
        "1224\n",
        "omg more than 1000\n",
        "924\n",
        "omg more than 1000\n",
        "762\n",
        "omg less than 1000\n",
        "omg less than 1000\n",
        "omg more than 1000\n",
        "1024\n",
        "omg more than 1000\n",
        "683\n",
        "omg less than 1000\n",
        "omg more than 1000\n",
        "568\n",
        "omg more than 1000\n",
        "683\n",
        "omg more than 1000\n",
        "1024\n",
        "omg more than 1000\n",
        "930\n",
        "omg more than 1000\n",
        "1343\n",
        "omg less than 1000\n",
        "omg more than 1000\n",
        "547\n",
        "omg less than 1000\n",
        "omg more than 1000\n",
        "640\n"
       ]
      }
     ],
     "prompt_number": 629
    },
    {
     "cell_type": "code",
     "collapsed": true,
     "input": [
      "#basewidth = 300\n",
      "#img = Image.open('somepic.jpg')\n",
      "#wpercent = (basewidth/float(img.size[0]))\n",
      "#hsize = int((float(img.size[1])*float(wpercent)))\n",
      "#img = img.resize((basewidth,hsize), PIL.Image.ANTIALIAS)\n",
      "#img.save('sompic.jpg')"
     ],
     "language": "python",
     "metadata": {},
     "outputs": [],
     "prompt_number": 630
    },
    {
     "cell_type": "code",
     "collapsed": true,
     "input": [
      "for numz in apsize:\n",
      "    print numz[0]\n",
      "    if numz[0] > 800:\n",
      "        print ('greater than 800')\n",
      "    else:\n",
      "        print ('less than 800!')"
     ],
     "language": "python",
     "metadata": {},
     "outputs": [
      {
       "output_type": "stream",
       "stream": "stdout",
       "text": [
        "2448\n",
        "greater than 800\n",
        "900\n",
        "greater than 800\n",
        "621\n",
        "less than 800!\n",
        "1024\n",
        "greater than 800\n",
        "668\n",
        "less than 800!\n",
        "1849\n",
        "greater than 800\n",
        "3264\n",
        "greater than 800\n",
        "1148\n",
        "greater than 800\n",
        "960\n",
        "greater than 800\n",
        "960\n",
        "greater than 800\n",
        "720\n",
        "less than 800!\n",
        "1188\n",
        "greater than 800\n",
        "1361\n",
        "greater than 800\n",
        "720\n",
        "less than 800!\n",
        "581\n",
        "less than 800!\n",
        "150\n",
        "less than 800!\n",
        "1080\n",
        "greater than 800\n",
        "960\n",
        "greater than 800\n",
        "2448\n",
        "greater than 800\n",
        "1024\n",
        "greater than 800\n",
        "960\n",
        "greater than 800\n",
        "819\n",
        "greater than 800\n",
        "640\n",
        "less than 800!\n",
        "1366\n",
        "greater than 800\n",
        "479\n",
        "less than 800!\n",
        "768\n",
        "less than 800!\n",
        "729\n",
        "less than 800!\n",
        "959\n",
        "greater than 800\n",
        "1861\n",
        "greater than 800\n",
        "480\n",
        "less than 800!\n",
        "711\n",
        "less than 800!\n",
        "640\n",
        "less than 800!\n",
        "675\n",
        "less than 800!\n",
        "2048\n",
        "greater than 800\n",
        "720\n",
        "less than 800!\n",
        "778\n",
        "less than 800!\n",
        "1080\n",
        "greater than 800\n",
        "960\n",
        "greater than 800\n",
        "720\n",
        "less than 800!\n",
        "355\n",
        "less than 800!\n",
        "2448\n",
        "greater than 800\n",
        "2048\n",
        "greater than 800\n",
        "960\n",
        "greater than 800\n",
        "480\n",
        "less than 800!\n",
        "900\n",
        "greater than 800\n",
        "4128\n",
        "greater than 800\n",
        "3110\n",
        "greater than 800\n",
        "1365\n",
        "greater than 800\n",
        "4128\n",
        "greater than 800\n",
        "734\n",
        "less than 800!\n",
        "1080\n",
        "greater than 800\n",
        "479\n",
        "less than 800!\n",
        "1080\n",
        "greater than 800\n",
        "2448\n",
        "greater than 800\n",
        "960\n",
        "greater than 800\n"
       ]
      }
     ],
     "prompt_number": 631
    },
    {
     "cell_type": "code",
     "collapsed": true,
     "input": [
      "reliz = []"
     ],
     "language": "python",
     "metadata": {},
     "outputs": [],
     "prompt_number": 632
    },
    {
     "cell_type": "code",
     "collapsed": true,
     "input": [
      "for refls in os.listdir('/home/wcmckee/getsdrawndotcom/' + rmgzdays):\n",
      "    #print rmgzdays + refls\n",
      "    reliz.append(rmgzdays + '/' + refls)"
     ],
     "language": "python",
     "metadata": {},
     "outputs": [],
     "prompt_number": 633
    },
    {
     "cell_type": "code",
     "collapsed": true,
     "input": [],
     "language": "python",
     "metadata": {},
     "outputs": [],
     "prompt_number": 633
    },
    {
     "cell_type": "code",
     "collapsed": true,
     "input": [
      "reliz"
     ],
     "language": "python",
     "metadata": {},
     "outputs": [
      {
       "metadata": {},
       "output_type": "pyout",
       "prompt_number": 634,
       "text": [
        "['imgs/15/01/02/reference/Fuck1_Marry1_Kill1-reference.png',\n",
        " 'imgs/15/01/02/reference/ReptileLover82-reference.png',\n",
        " 'imgs/15/01/02/reference/Vegglimer-reference.png',\n",
        " 'imgs/15/01/02/reference/ctmedic-reference.png',\n",
        " 'imgs/15/01/02/reference/westendbestend-reference.png',\n",
        " 'imgs/15/01/02/reference/startages-reference.png',\n",
        " 'imgs/15/01/02/reference/vicbond004-reference.png',\n",
        " 'imgs/15/01/02/reference/PolishAce-reference.png',\n",
        " 'imgs/15/01/02/reference/qtpie2000-reference.png',\n",
        " 'imgs/15/01/02/reference/PitbullGirl-reference.png',\n",
        " 'imgs/15/01/02/reference/zoeypants2012-reference.png',\n",
        " 'imgs/15/01/02/reference/ReoutS-reference.png',\n",
        " 'imgs/15/01/02/reference/Kritter2490-reference.png',\n",
        " 'imgs/15/01/02/reference/PharmerRob-reference.png',\n",
        " 'imgs/15/01/02/reference/JosephHughes-reference.png',\n",
        " 'imgs/15/01/02/reference/Boobbuffet-reference.png',\n",
        " 'imgs/15/01/02/reference/luckybunnyhop-reference.png',\n",
        " 'imgs/15/01/02/reference/Toasted_Badger-reference.png',\n",
        " 'imgs/15/01/02/reference/Pipvault-reference.png',\n",
        " 'imgs/15/01/02/reference/crobertt2-reference.png',\n",
        " 'imgs/15/01/02/reference/xeddier-reference.png',\n",
        " 'imgs/15/01/02/reference/Ladyloulou-reference.png',\n",
        " 'imgs/15/01/02/reference/Plastic-Is-Fantastic-reference.png',\n",
        " 'imgs/15/01/02/reference/3_Toed_Hooker-reference.png',\n",
        " 'imgs/15/01/02/reference/whizzo3031-reference.png',\n",
        " 'imgs/15/01/02/reference/iloveariiii-reference.png',\n",
        " 'imgs/15/01/02/reference/HuggingTheJellyfish-reference.png',\n",
        " 'imgs/15/01/02/reference/honeybri-reference.png',\n",
        " 'imgs/15/01/02/reference/mrturdferguson-reference.png',\n",
        " 'imgs/15/01/02/reference/VotreEsUneChaussure-reference.png',\n",
        " 'imgs/15/01/02/reference/themodporcupine-reference.png',\n",
        " 'imgs/15/01/02/reference/DaywalkerManifesto-reference.png',\n",
        " 'imgs/15/01/02/reference/Ardorouseyes-reference.png',\n",
        " 'imgs/15/01/02/reference/demonicpig-reference.png',\n",
        " 'imgs/15/01/02/reference/alwaysreigning-reference.png',\n",
        " 'imgs/15/01/02/reference/TheUnknownUsername-reference.png',\n",
        " 'imgs/15/01/02/reference/Joefishjones-reference.png',\n",
        " 'imgs/15/01/02/reference/Stalli0nDuck-reference.png',\n",
        " 'imgs/15/01/02/reference/Nakittina-reference.png',\n",
        " 'imgs/15/01/02/reference/Grammatical_Aneurysm-reference.png',\n",
        " 'imgs/15/01/02/reference/Morgi_-reference.png',\n",
        " 'imgs/15/01/02/reference/Eneyek-reference.png',\n",
        " 'imgs/15/01/02/reference/Ratkus-reference.png',\n",
        " 'imgs/15/01/02/reference/gross_caricature-reference.png',\n",
        " 'imgs/15/01/02/reference/poooooooooooooo0op-reference.png',\n",
        " 'imgs/15/01/02/reference/Dinosaurlover75-reference.png',\n",
        " 'imgs/15/01/02/reference/PenguinsGoMeow-reference.png',\n",
        " 'imgs/15/01/02/reference/mrcoplo-reference.png',\n",
        " 'imgs/15/01/02/reference/mad_squabbles-reference.png',\n",
        " 'imgs/15/01/02/reference/kollapstradixionales-reference.png',\n",
        " 'imgs/15/01/02/reference/ultimate_hedonist-reference.png',\n",
        " 'imgs/15/01/02/reference/leeleechanda-reference.png',\n",
        " 'imgs/15/01/02/reference/PoseidonsTrident-reference.png',\n",
        " 'imgs/15/01/02/reference/TheDarlis-reference.png',\n",
        " 'imgs/15/01/02/reference/mrz5000-reference.png']"
       ]
      }
     ],
     "prompt_number": 634
    },
    {
     "cell_type": "code",
     "collapsed": true,
     "input": [
      "aptype"
     ],
     "language": "python",
     "metadata": {},
     "outputs": [
      {
       "metadata": {},
       "output_type": "pyout",
       "prompt_number": 635,
       "text": [
        "['Fuck1_Marry1_Kill1-reference.png',\n",
        " 'ReptileLover82-reference.png',\n",
        " 'Vegglimer-reference.png',\n",
        " 'ctmedic-reference.png',\n",
        " 'westendbestend-reference.png',\n",
        " 'startages-reference.png',\n",
        " 'vicbond004-reference.png',\n",
        " 'PolishAce-reference.png',\n",
        " 'qtpie2000-reference.png',\n",
        " 'PitbullGirl-reference.png',\n",
        " 'zoeypants2012-reference.png',\n",
        " 'ReoutS-reference.png',\n",
        " 'Kritter2490-reference.png',\n",
        " 'PharmerRob-reference.png',\n",
        " 'JosephHughes-reference.png',\n",
        " 'Boobbuffet-reference.png',\n",
        " 'luckybunnyhop-reference.png',\n",
        " 'Toasted_Badger-reference.png',\n",
        " 'Pipvault-reference.png',\n",
        " 'crobertt2-reference.png',\n",
        " 'xeddier-reference.png',\n",
        " 'Ladyloulou-reference.png',\n",
        " 'Plastic-Is-Fantastic-reference.png',\n",
        " '3_Toed_Hooker-reference.png',\n",
        " 'whizzo3031-reference.png',\n",
        " 'iloveariiii-reference.png',\n",
        " 'HuggingTheJellyfish-reference.png',\n",
        " 'honeybri-reference.png',\n",
        " 'mrturdferguson-reference.png',\n",
        " 'VotreEsUneChaussure-reference.png',\n",
        " 'themodporcupine-reference.png',\n",
        " 'DaywalkerManifesto-reference.png',\n",
        " 'Ardorouseyes-reference.png',\n",
        " 'demonicpig-reference.png',\n",
        " 'alwaysreigning-reference.png',\n",
        " 'TheUnknownUsername-reference.png',\n",
        " 'Joefishjones-reference.png',\n",
        " 'Stalli0nDuck-reference.png',\n",
        " 'Nakittina-reference.png',\n",
        " 'Grammatical_Aneurysm-reference.png',\n",
        " 'Morgi_-reference.png',\n",
        " 'Eneyek-reference.png',\n",
        " 'Ratkus-reference.png',\n",
        " 'gross_caricature-reference.png',\n",
        " 'poooooooooooooo0op-reference.png',\n",
        " 'Dinosaurlover75-reference.png',\n",
        " 'PenguinsGoMeow-reference.png',\n",
        " 'mrcoplo-reference.png',\n",
        " 'mad_squabbles-reference.png',\n",
        " 'kollapstradixionales-reference.png',\n",
        " 'ultimate_hedonist-reference.png',\n",
        " 'leeleechanda-reference.png',\n",
        " 'PoseidonsTrident-reference.png',\n",
        " 'TheDarlis-reference.png',\n",
        " 'mrz5000-reference.png']"
       ]
      }
     ],
     "prompt_number": 635
    },
    {
     "cell_type": "code",
     "collapsed": true,
     "input": [
      "opad = open('/home/wcmckee/ad.html', 'r')"
     ],
     "language": "python",
     "metadata": {},
     "outputs": [],
     "prompt_number": 636
    },
    {
     "cell_type": "code",
     "collapsed": true,
     "input": [
      "opred = opad.read()"
     ],
     "language": "python",
     "metadata": {},
     "outputs": [],
     "prompt_number": 648
    },
    {
     "cell_type": "code",
     "collapsed": true,
     "input": [
      "str2 = opred.replace(\"\\n\", \"\")"
     ],
     "language": "python",
     "metadata": {},
     "outputs": [],
     "prompt_number": 649
    },
    {
     "cell_type": "code",
     "collapsed": true,
     "input": [
      "str2"
     ],
     "language": "python",
     "metadata": {},
     "outputs": [
      {
       "metadata": {},
       "output_type": "pyout",
       "prompt_number": 650,
       "text": [
        "'<script async src=\"//pagead2.googlesyndication.com/pagead/js/adsbygoogle.js\"></script><!-- header --><ins class=\"adsbygoogle\"     style=\"display:inline-block;width:970px;height:250px\"     data-ad-client=\"ca-pub-2716205862465403\"     data-ad-slot=\"3994067148\"></ins><script>(adsbygoogle = window.adsbygoogle || []).push({});</script>'"
       ]
      }
     ],
     "prompt_number": 650
    },
    {
     "cell_type": "code",
     "collapsed": true,
     "input": [
      "doc = dominate.document(title='GetsDrawn')\n",
      "\n",
      "with doc.head:\n",
      "    link(rel='stylesheet', href='style.css')\n",
      "    script(type ='text/javascript', src='script.js')\n",
      "    str(str2)\n",
      "    \n",
      "    with div():\n",
      "        attr(cls='header')\n",
      "        h1('GetsDrawn')\n",
      "        p(img('imgs/getsdrawn-bw.png', src='imgs/getsdrawn-bw.png'))\n",
      "        #p(img('imgs/15/01/02/ReptileLover82-reference.png', src= 'imgs/15/01/02/ReptileLover82-reference.png'))\n",
      "        h1('Updated ', strftime(\"%a, %d %b %Y %H:%M:%S +0000\", gmtime()))\n",
      "        p(panz)\n",
      "        p(bodycom)\n",
      "    \n",
      "    \n",
      "\n",
      "with doc:\n",
      "    with div(id='body').add(ol()):\n",
      "        for rdz in reliz:\n",
      "            #h1(rdz.title)\n",
      "            #a(rdz.url)\n",
      "            #p(img(rdz, src='%s' % rdz))\n",
      "            print rdz\n",
      "            p(img(rdz, src = rdz))\n",
      "            p(rdz)\n",
      "\n",
      "\n",
      "                \n",
      "            #print rdz.url\n",
      "            #if '.jpg' in rdz.url:\n",
      "            #    img(rdz.urlz)\n",
      "            #else:\n",
      "            #    a(rdz.urlz)\n",
      "            #h1(str(rdz.author))\n",
      "            \n",
      "            #li(img(i.lower(), src='%s' % i))\n",
      "\n",
      "    with div():\n",
      "        attr(cls='body')\n",
      "        p('GetsDrawn is open source')\n",
      "        a('https://github.com/wcmckee/wcmckee')\n",
      "        a('https://reddit.com/r/redditgetsdrawn')\n",
      "\n",
      "#print doc"
     ],
     "language": "python",
     "metadata": {},
     "outputs": [
      {
       "output_type": "stream",
       "stream": "stdout",
       "text": [
        "imgs/15/01/02/reference/Fuck1_Marry1_Kill1-reference.png\n",
        "imgs/15/01/02/reference/ReptileLover82-reference.png\n",
        "imgs/15/01/02/reference/Vegglimer-reference.png\n",
        "imgs/15/01/02/reference/ctmedic-reference.png\n",
        "imgs/15/01/02/reference/westendbestend-reference.png\n",
        "imgs/15/01/02/reference/startages-reference.png\n",
        "imgs/15/01/02/reference/vicbond004-reference.png\n",
        "imgs/15/01/02/reference/PolishAce-reference.png\n",
        "imgs/15/01/02/reference/qtpie2000-reference.png\n",
        "imgs/15/01/02/reference/PitbullGirl-reference.png\n",
        "imgs/15/01/02/reference/zoeypants2012-reference.png\n",
        "imgs/15/01/02/reference/ReoutS-reference.png\n",
        "imgs/15/01/02/reference/Kritter2490-reference.png\n",
        "imgs/15/01/02/reference/PharmerRob-reference.png\n",
        "imgs/15/01/02/reference/JosephHughes-reference.png\n",
        "imgs/15/01/02/reference/Boobbuffet-reference.png\n",
        "imgs/15/01/02/reference/luckybunnyhop-reference.png\n",
        "imgs/15/01/02/reference/Toasted_Badger-reference.png\n",
        "imgs/15/01/02/reference/Pipvault-reference.png\n",
        "imgs/15/01/02/reference/crobertt2-reference.png\n",
        "imgs/15/01/02/reference/xeddier-reference.png\n",
        "imgs/15/01/02/reference/Ladyloulou-reference.png\n",
        "imgs/15/01/02/reference/Plastic-Is-Fantastic-reference.png\n",
        "imgs/15/01/02/reference/3_Toed_Hooker-reference.png\n",
        "imgs/15/01/02/reference/whizzo3031-reference.png\n",
        "imgs/15/01/02/reference/iloveariiii-reference.png\n",
        "imgs/15/01/02/reference/HuggingTheJellyfish-reference.png\n",
        "imgs/15/01/02/reference/honeybri-reference.png\n",
        "imgs/15/01/02/reference/mrturdferguson-reference.png\n",
        "imgs/15/01/02/reference/VotreEsUneChaussure-reference.png\n",
        "imgs/15/01/02/reference/themodporcupine-reference.png\n",
        "imgs/15/01/02/reference/DaywalkerManifesto-reference.png\n",
        "imgs/15/01/02/reference/Ardorouseyes-reference.png\n",
        "imgs/15/01/02/reference/demonicpig-reference.png\n",
        "imgs/15/01/02/reference/alwaysreigning-reference.png\n",
        "imgs/15/01/02/reference/TheUnknownUsername-reference.png\n",
        "imgs/15/01/02/reference/Joefishjones-reference.png\n",
        "imgs/15/01/02/reference/Stalli0nDuck-reference.png\n",
        "imgs/15/01/02/reference/Nakittina-reference.png\n",
        "imgs/15/01/02/reference/Grammatical_Aneurysm-reference.png\n",
        "imgs/15/01/02/reference/Morgi_-reference.png\n",
        "imgs/15/01/02/reference/Eneyek-reference.png\n",
        "imgs/15/01/02/reference/Ratkus-reference.png\n",
        "imgs/15/01/02/reference/gross_caricature-reference.png\n",
        "imgs/15/01/02/reference/poooooooooooooo0op-reference.png\n",
        "imgs/15/01/02/reference/Dinosaurlover75-reference.png\n",
        "imgs/15/01/02/reference/PenguinsGoMeow-reference.png\n",
        "imgs/15/01/02/reference/mrcoplo-reference.png\n",
        "imgs/15/01/02/reference/mad_squabbles-reference.png\n",
        "imgs/15/01/02/reference/kollapstradixionales-reference.png\n",
        "imgs/15/01/02/reference/ultimate_hedonist-reference.png\n",
        "imgs/15/01/02/reference/leeleechanda-reference.png\n",
        "imgs/15/01/02/reference/PoseidonsTrident-reference.png\n",
        "imgs/15/01/02/reference/TheDarlis-reference.png\n",
        "imgs/15/01/02/reference/mrz5000-reference.png\n"
       ]
      }
     ],
     "prompt_number": 639
    },
    {
     "cell_type": "code",
     "collapsed": true,
     "input": [
      "docre = doc.render()"
     ],
     "language": "python",
     "metadata": {},
     "outputs": [],
     "prompt_number": 640
    },
    {
     "cell_type": "code",
     "collapsed": true,
     "input": [
      "#s = docre.decode('ascii', 'ignore')"
     ],
     "language": "python",
     "metadata": {},
     "outputs": [],
     "prompt_number": 641
    },
    {
     "cell_type": "code",
     "collapsed": true,
     "input": [
      "yourstring = docre.encode('ascii', 'ignore').decode('ascii')"
     ],
     "language": "python",
     "metadata": {},
     "outputs": [],
     "prompt_number": 642
    },
    {
     "cell_type": "code",
     "collapsed": true,
     "input": [
      "indfil = ('/home/wcmckee/getsdrawndotcom/index.html')"
     ],
     "language": "python",
     "metadata": {},
     "outputs": [],
     "prompt_number": 643
    },
    {
     "cell_type": "code",
     "collapsed": true,
     "input": [
      "mkind = open(indfil, 'w')\n",
      "mkind.write(yourstring)\n",
      "mkind.close()"
     ],
     "language": "python",
     "metadata": {},
     "outputs": [],
     "prompt_number": 644
    },
    {
     "cell_type": "code",
     "collapsed": true,
     "input": [
      "#os.system('scp -r /home/wcmckee/getsdrawndotcom/ wcmckee@getsdrawn.com:/home/wcmckee/getsdrawndotcom')"
     ],
     "language": "python",
     "metadata": {},
     "outputs": [],
     "prompt_number": 645
    },
    {
     "cell_type": "code",
     "collapsed": true,
     "input": [
      "#rsync -azP source destination"
     ],
     "language": "python",
     "metadata": {},
     "outputs": [],
     "prompt_number": 646
    },
    {
     "cell_type": "code",
     "collapsed": true,
     "input": [
      "#updatehtm = raw_input('Update index? Y/n')\n",
      "#updateref = raw_input('Update reference? Y/n')\n",
      "\n",
      "#if 'y' or '' in updatehtm:\n",
      "#    os.system('scp -r /home/wcmckee/getsdrawndotcom/index.html wcmckee@getsdrawn.com:/home/wcmckee/getsdrawndotcom/index.html')\n",
      "#elif 'n' in updatehtm:\n",
      "#    print 'not uploading'\n",
      "#if 'y' or '' in updateref:\n",
      "#    os.system('rsync -azP /home/wcmckee/getsdrawndotcom/ wcmckee@getsdrawn.com:/home/wcmckee/getsdrawndotcom/')"
     ],
     "language": "python",
     "metadata": {},
     "outputs": [],
     "prompt_number": 647
    },
    {
     "cell_type": "code",
     "collapsed": true,
     "input": [
      "os.system('scp -r /home/wcmckee/getsdrawndotcom/index.html wcmckee@getsdrawn.com:/home/wcmckee/getsdrawndotcom/index.html')"
     ],
     "language": "python",
     "metadata": {},
     "outputs": [
      {
       "metadata": {},
       "output_type": "pyout",
       "prompt_number": 554,
       "text": [
        "0"
       ]
      }
     ],
     "prompt_number": 554
    },
    {
     "cell_type": "code",
     "collapsed": true,
     "input": [
      "#os.system('scp -r /home/wcmckee/getsdrawndotcom/style.css wcmckee@getsdrawn.com:/home/wcmckee/getsdrawndotcom/style.css')"
     ],
     "language": "python",
     "metadata": {},
     "outputs": [],
     "prompt_number": 553
    },
    {
     "cell_type": "code",
     "collapsed": true,
     "input": [],
     "language": "python",
     "metadata": {},
     "outputs": [],
     "prompt_number": 553
    },
    {
     "cell_type": "code",
     "collapsed": true,
     "input": [],
     "language": "python",
     "metadata": {},
     "outputs": [],
     "prompt_number": 321
    },
    {
     "cell_type": "code",
     "collapsed": true,
     "input": [],
     "language": "python",
     "metadata": {},
     "outputs": [],
     "prompt_number": 138
    },
    {
     "cell_type": "code",
     "collapsed": true,
     "input": [],
     "language": "python",
     "metadata": {},
     "outputs": [],
     "prompt_number": 138
    },
    {
     "cell_type": "code",
     "collapsed": true,
     "input": [],
     "language": "python",
     "metadata": {},
     "outputs": []
    }
   ],
   "metadata": {}
  }
 ]
}