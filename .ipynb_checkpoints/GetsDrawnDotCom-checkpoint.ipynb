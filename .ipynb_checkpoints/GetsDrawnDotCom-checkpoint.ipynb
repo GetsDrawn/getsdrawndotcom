{
 "metadata": {
  "name": "",
  "signature": "sha256:598ef3ad13cbfb0ef0acc975c835e5c6592e994e422f6fcc6c7aabc6ca6ef6ed"
 },
 "nbformat": 3,
 "nbformat_minor": 0,
 "worksheets": [
  {
   "cells": [
    {
     "cell_type": "markdown",
     "metadata": {},
     "source": [
      "<h1>GetsDrawn DotCom</h1>"
     ]
    },
    {
     "cell_type": "markdown",
     "metadata": {},
     "source": [
      "This is a python script to generate the website GetsDrawn. It takes data from /r/RedditGetsDrawn and makes something awesome.\n",
      "\n",
      "The script has envolved and been rewritten several times. \n",
      "\n",
      "The first script for rgdsnatch was written after I got banned from posting my artwork on /r/RedditGetsDrawn. The plan was to create a new site that displayed stuff from /r/RedditGetsDrawn. \n",
      "\n",
      "Currently it only displays the most recent 25 items on redditgetsdrawn.\n",
      "\n",
      "This is moving forward from rgdsnatch.py because I am stuck on it.  \n",
      "\n",
      "TODO\n",
      "\n",
      "Fix the links that don't link to png/jpeg and link to webaddress. \n",
      "Needs to get the images that are at that web address and embed them.\n",
      "\n",
      "Display artwork submitted under the images. \n",
      "\n",
      "Upload artwork to user. Sends them a message on redditgetsdrawn with links. \n",
      "\n",
      "More pandas\n",
      "\n",
      "Saves reference images to imgs/year/month/day/reference/username-reference.png\n",
      "\n",
      "Saves art images to imgs/year/month/day/art/username-line-bw-colour.png \n",
      "\n",
      "Creates index.html file with:\n",
      "Title of site and logo: GetsDrawn\n",
      "Last updated date and time. \n",
      "\n",
      "Path of image file /imgs/year/month/day/username-reference.png. \n",
      "(This needs changed to just their username).\n",
      "\n",
      "Save off .meta data from reddit of each photo, saving it to reference folder.\n",
      "username-yrmnthday.meta - contains info such as author, title, upvotes, downvotes.\n",
      "\n",
      "Currently saves username-line-bw-colour.png to imgs folder. Instead get it to save to imgs/year/month/day/usernames.png.\n",
      "Script checks the year/month/day and if folder isnt created, it creates it. If folder is there, exit. \n",
      "Maybe get the reference image and save it with the line/bw/color.pngs\n",
      "\n",
      "The script now filters the jpeg and png image and skips links to imgur pages. This needs to be fixed by getting the images from the imgur pages.\n",
      "It renames the image files to the redditor username followed by a -reference tag (and ending with png of course).\n",
      "It opens these files up with PIL and checks the sizes. \n",
      "It needs to resize the images that are larger than 800px to 800px.\n",
      "These images need to be linked in the index.html instead of the imgur altenatives. \n",
      "\n",
      "Extending the subreddits it gets data from to cycle though a list, run script though list of subreddits.\n"
     ]
    },
    {
     "cell_type": "code",
     "collapsed": false,
     "input": [
      "import os \n",
      "import requests\n",
      "from bs4 import BeautifulSoup\n",
      "import re\n",
      "import json\n",
      "import time\n",
      "import praw\n",
      "import dominate\n",
      "from dominate.tags import * \n",
      "from time import gmtime, strftime\n",
      "#import nose\n",
      "#import unittest\n",
      "import numpy as np\n",
      "import pandas as pd\n",
      "from pandas import *\n",
      "from PIL import Image\n",
      "from pprint import pprint\n",
      "#import pyttsx\n",
      "import shutil"
     ],
     "language": "python",
     "metadata": {},
     "outputs": [],
     "prompt_number": 200
    },
    {
     "cell_type": "code",
     "collapsed": false,
     "input": [
      "gtsdrndir = ('/home/wcmckee/getsdrawndotcom')"
     ],
     "language": "python",
     "metadata": {},
     "outputs": [],
     "prompt_number": 201
    },
    {
     "cell_type": "code",
     "collapsed": false,
     "input": [
      "os.chdir(gtsdrndir)"
     ],
     "language": "python",
     "metadata": {},
     "outputs": [],
     "prompt_number": 202
    },
    {
     "cell_type": "code",
     "collapsed": false,
     "input": [
      "r = praw.Reddit(user_agent='getsdrawndotcom')"
     ],
     "language": "python",
     "metadata": {},
     "outputs": [],
     "prompt_number": 203
    },
    {
     "cell_type": "code",
     "collapsed": false,
     "input": [
      "#getmin = r.get_redditor('itwillbemine')"
     ],
     "language": "python",
     "metadata": {},
     "outputs": [],
     "prompt_number": 204
    },
    {
     "cell_type": "code",
     "collapsed": false,
     "input": [
      "#mincom = getmin.get_comments()"
     ],
     "language": "python",
     "metadata": {},
     "outputs": [],
     "prompt_number": 205
    },
    {
     "cell_type": "code",
     "collapsed": false,
     "input": [
      "#engine = pyttsx.init()\n",
      "\n",
      "#engine.say('The quick brown fox jumped over the lazy dog.')\n",
      "#engine.runAndWait()"
     ],
     "language": "python",
     "metadata": {},
     "outputs": [],
     "prompt_number": 206
    },
    {
     "cell_type": "code",
     "collapsed": false,
     "input": [
      "#shtweet = []"
     ],
     "language": "python",
     "metadata": {},
     "outputs": [],
     "prompt_number": 207
    },
    {
     "cell_type": "code",
     "collapsed": false,
     "input": [
      "#for mi in mincom:\n",
      "#    print mi\n",
      "#    shtweet.append(mi)"
     ],
     "language": "python",
     "metadata": {},
     "outputs": [],
     "prompt_number": 208
    },
    {
     "cell_type": "code",
     "collapsed": false,
     "input": [
      "bodycom = []\n",
      "bodyicv = dict()"
     ],
     "language": "python",
     "metadata": {},
     "outputs": [],
     "prompt_number": 209
    },
    {
     "cell_type": "code",
     "collapsed": false,
     "input": [
      "#beginz = pyttsx.init()"
     ],
     "language": "python",
     "metadata": {},
     "outputs": [],
     "prompt_number": 210
    },
    {
     "cell_type": "code",
     "collapsed": false,
     "input": [
      "#for shtz in shtweet:\n",
      "#    print shtz.downs\n",
      "#    print shtz.ups\n",
      "#    print shtz.body\n",
      "#    print shtz.replies\n",
      "    #beginz.say(shtz.author)\n",
      "    #beginz.say(shtz.body)\n",
      "    #beginz.runAndWait()\n",
      "    \n",
      "#    bodycom.append(shtz.body)\n",
      "    #bodyic"
     ],
     "language": "python",
     "metadata": {},
     "outputs": [],
     "prompt_number": 211
    },
    {
     "cell_type": "code",
     "collapsed": false,
     "input": [
      "#bodycom "
     ],
     "language": "python",
     "metadata": {},
     "outputs": [],
     "prompt_number": 212
    },
    {
     "cell_type": "code",
     "collapsed": false,
     "input": [
      "getnewr = r.get_subreddit('redditgetsdrawn')"
     ],
     "language": "python",
     "metadata": {},
     "outputs": [],
     "prompt_number": 213
    },
    {
     "cell_type": "code",
     "collapsed": false,
     "input": [
      "rdnew = getnewr.get_new()"
     ],
     "language": "python",
     "metadata": {},
     "outputs": [],
     "prompt_number": 214
    },
    {
     "cell_type": "code",
     "collapsed": false,
     "input": [
      "lisrgc = []\n",
      "lisauth = []"
     ],
     "language": "python",
     "metadata": {},
     "outputs": [],
     "prompt_number": 215
    },
    {
     "cell_type": "code",
     "collapsed": false,
     "input": [
      "for uz in rdnew:\n",
      "    #print uz\n",
      "    lisrgc.append(uz)"
     ],
     "language": "python",
     "metadata": {},
     "outputs": [],
     "prompt_number": 216
    },
    {
     "cell_type": "code",
     "collapsed": false,
     "input": [
      "gtdrndic = dict()"
     ],
     "language": "python",
     "metadata": {},
     "outputs": [],
     "prompt_number": 217
    },
    {
     "cell_type": "code",
     "collapsed": false,
     "input": [
      "imgdir = ('/home/wcmckee/getsdrawndotcom/imgs')"
     ],
     "language": "python",
     "metadata": {},
     "outputs": [],
     "prompt_number": 218
    },
    {
     "cell_type": "code",
     "collapsed": false,
     "input": [
      "artlist = os.listdir(imgdir)"
     ],
     "language": "python",
     "metadata": {},
     "outputs": [],
     "prompt_number": 219
    },
    {
     "cell_type": "code",
     "collapsed": false,
     "input": [
      "from time import time"
     ],
     "language": "python",
     "metadata": {},
     "outputs": [],
     "prompt_number": 220
    },
    {
     "cell_type": "code",
     "collapsed": false,
     "input": [
      "yearz = strftime(\"%y\", gmtime())\n",
      "monthz = strftime(\"%m\", gmtime())\n",
      "dayz = strftime(\"%d\", gmtime())\n",
      "\n",
      "\n",
      "#strftime(\"%y %m %d\", gmtime())\n",
      "\n"
     ],
     "language": "python",
     "metadata": {},
     "outputs": [],
     "prompt_number": 221
    },
    {
     "cell_type": "code",
     "collapsed": false,
     "input": [
      "imgzdir = ('/home/wcmckee/getsdrawndotcom/imgs/')\n",
      "yrzpat = (imgzdir + yearz)\n",
      "monzpath = (yrzpat + '/' + monthz)\n",
      "dayzpath = (monzpath + '/' + dayz)\n",
      "rmgzdays = (dayzpath + '/reference')\n",
      "imgzdays = (dayzpath + '/art')\n",
      "\n",
      "repathz = ('/imgs/' + yearz + '/' + monthz + '/' + dayz + '/')"
     ],
     "language": "python",
     "metadata": {},
     "outputs": [],
     "prompt_number": 222
    },
    {
     "cell_type": "code",
     "collapsed": false,
     "input": [
      "imgzdays"
     ],
     "language": "python",
     "metadata": {},
     "outputs": [
      {
       "metadata": {},
       "output_type": "pyout",
       "prompt_number": 223,
       "text": [
        "'/home/wcmckee/getsdrawndotcom/imgs/14/12/21/art'"
       ]
      }
     ],
     "prompt_number": 223
    },
    {
     "cell_type": "code",
     "collapsed": false,
     "input": [
      "repathz"
     ],
     "language": "python",
     "metadata": {},
     "outputs": [
      {
       "metadata": {},
       "output_type": "pyout",
       "prompt_number": 224,
       "text": [
        "'/imgs/14/12/21/'"
       ]
      }
     ],
     "prompt_number": 224
    },
    {
     "cell_type": "code",
     "collapsed": false,
     "input": [
      "def ospacheck():\n",
      "    if os.path.isdir(imgzdir + yearz) == True:\n",
      "        print 'its true'\n",
      "    else:\n",
      "        print 'its false'\n",
      "        os.mkdir(imgzdir + yearz)\n",
      "    "
     ],
     "language": "python",
     "metadata": {},
     "outputs": [],
     "prompt_number": 225
    },
    {
     "cell_type": "code",
     "collapsed": false,
     "input": [
      "ospacheck()"
     ],
     "language": "python",
     "metadata": {},
     "outputs": [
      {
       "output_type": "stream",
       "stream": "stdout",
       "text": [
        "its true\n"
       ]
      }
     ],
     "prompt_number": 226
    },
    {
     "cell_type": "code",
     "collapsed": false,
     "input": [
      "#if os.path.isdir(imgzdir + yearz) == True:\n",
      "#    print 'its true'\n",
      "#else:\n",
      "#    print 'its false'\n",
      "#    os.mkdir(imgzdir + yearz)"
     ],
     "language": "python",
     "metadata": {},
     "outputs": [],
     "prompt_number": 227
    },
    {
     "cell_type": "code",
     "collapsed": false,
     "input": [
      "if os.path.isdir(monzpath) == True:\n",
      "    print 'its true'\n",
      "else:\n",
      "    print 'its false'\n",
      "    os.mkdir(monzpath)\n",
      "\n",
      "#os.mkdir(monzpath)"
     ],
     "language": "python",
     "metadata": {},
     "outputs": [
      {
       "output_type": "stream",
       "stream": "stdout",
       "text": [
        "its true\n"
       ]
      }
     ],
     "prompt_number": 228
    },
    {
     "cell_type": "code",
     "collapsed": false,
     "input": [
      "if os.path.isdir(dayzpath) == True:\n",
      "    print 'its true'\n",
      "else:\n",
      "    print 'its false'\n",
      "    os.mkdir(dayzpath)\n",
      "\n",
      "#os.mkdir(dayzpath)"
     ],
     "language": "python",
     "metadata": {},
     "outputs": [
      {
       "output_type": "stream",
       "stream": "stdout",
       "text": [
        "its true\n"
       ]
      }
     ],
     "prompt_number": 229
    },
    {
     "cell_type": "code",
     "collapsed": true,
     "input": [
      "if os.path.isdir(imgzdays) == True:\n",
      "    print 'its true'\n",
      "else:\n",
      "    print 'its false'\n",
      "    os.mkdir(imgzdays)"
     ],
     "language": "python",
     "metadata": {},
     "outputs": [
      {
       "output_type": "stream",
       "stream": "stdout",
       "text": [
        "its true\n"
       ]
      }
     ],
     "prompt_number": 230
    },
    {
     "cell_type": "code",
     "collapsed": false,
     "input": [
      "if os.path.isdir(rmgzdays) == True:\n",
      "    print 'its true'\n",
      "else:\n",
      "    print 'its false'\n",
      "    os.mkdir(rmgzdays)"
     ],
     "language": "python",
     "metadata": {},
     "outputs": [
      {
       "output_type": "stream",
       "stream": "stdout",
       "text": [
        "its true\n"
       ]
      }
     ],
     "prompt_number": 231
    },
    {
     "cell_type": "code",
     "collapsed": false,
     "input": [
      "#artlist"
     ],
     "language": "python",
     "metadata": {},
     "outputs": [],
     "prompt_number": 232
    },
    {
     "cell_type": "code",
     "collapsed": false,
     "input": [
      "httpad = ('http://getsdrawn.com/imgs')"
     ],
     "language": "python",
     "metadata": {},
     "outputs": [],
     "prompt_number": 233
    },
    {
     "cell_type": "code",
     "collapsed": false,
     "input": [
      "#im = Image.new(\"RGB\", (512, 512), \"white\")\n",
      "#im.save(file + \".thumbnail\", \"JPEG\")"
     ],
     "language": "python",
     "metadata": {},
     "outputs": [],
     "prompt_number": 234
    },
    {
     "cell_type": "code",
     "collapsed": false,
     "input": [
      "for lisr in lisrgc:\n",
      "    gtdrndic.update({'title': lisr.title})\n",
      "    lisauth.append(str(lisr.author))\n"
     ],
     "language": "python",
     "metadata": {},
     "outputs": [],
     "prompt_number": 235
    },
    {
     "cell_type": "code",
     "collapsed": false,
     "input": [
      "rmgzdays = (dayzpath + '/reference')\n",
      "imgzdays = (dayzpath + '/art')"
     ],
     "language": "python",
     "metadata": {},
     "outputs": [],
     "prompt_number": 236
    },
    {
     "cell_type": "code",
     "collapsed": false,
     "input": [
      "os.chdir(imgzdays)"
     ],
     "language": "python",
     "metadata": {},
     "outputs": [],
     "prompt_number": 237
    },
    {
     "cell_type": "code",
     "collapsed": false,
     "input": [
      "imgzdays"
     ],
     "language": "python",
     "metadata": {},
     "outputs": [
      {
       "metadata": {},
       "output_type": "pyout",
       "prompt_number": 238,
       "text": [
        "'/home/wcmckee/getsdrawndotcom/imgs/14/12/21/art'"
       ]
      }
     ],
     "prompt_number": 238
    },
    {
     "cell_type": "code",
     "collapsed": false,
     "input": [
      "#os.listdir(dayzpath)"
     ],
     "language": "python",
     "metadata": {},
     "outputs": [],
     "prompt_number": 239
    },
    {
     "cell_type": "code",
     "collapsed": false,
     "input": [
      "for lisa in lisauth:\n",
      "    #print lisa + '-line.png'\n",
      "    im = Image.new(\"RGB\", (512, 512), \"white\")\n",
      "    im.save(lisa + '-line.png')\n",
      "    im = Image.new(\"RGB\", (512, 512), \"white\")\n",
      "    im.save(lisa + '-bw.png')\n",
      "\n",
      "    #print lisa + '-bw.png'\n",
      "    im = Image.new(\"RGB\", (512, 512), \"white\")\n",
      "    im.save(lisa + '-colour.png')\n",
      "\n",
      "    #print lisa + '-colour.png'"
     ],
     "language": "python",
     "metadata": {},
     "outputs": [],
     "prompt_number": 240
    },
    {
     "cell_type": "code",
     "collapsed": false,
     "input": [
      "os.listdir('/home/wcmckee/getsdrawndotcom/imgs')"
     ],
     "language": "python",
     "metadata": {},
     "outputs": [
      {
       "metadata": {},
       "output_type": "pyout",
       "prompt_number": 241,
       "text": [
        "['ravensymoneislife-line.png',\n",
        " 'RunOttawa613-bw.png',\n",
        " 'fuzz_e_bear-colour.png',\n",
        " 'fuzz_e_bear-bw.png',\n",
        " 'iloveariiii-line.png',\n",
        " 'plainclotheswoman-bw.png',\n",
        " 'alikonagurl83-line.png',\n",
        " 'starienite-colour.png',\n",
        " 'neszero-line.png',\n",
        " 'OrangeCloud-line.png',\n",
        " 'JEWPACOLYPSE-line.png',\n",
        " 'OhGollyG-line.png',\n",
        " 'JoisofLife-bw.png',\n",
        " 'alikonagurl83-colour.png',\n",
        " 'DemTurtlesCom-line.png',\n",
        " 'ravensymoneislife-bw.png',\n",
        " 'sirenmika-bw.png',\n",
        " 'lordneojoker-bw.png',\n",
        " 'Quackattackaggie-bw.png',\n",
        " 'youwinabagel-line.png',\n",
        " 'iloveariiii-bw.png',\n",
        " 'THORGNASH-bw.png',\n",
        " 'Salerno1717-bw.png',\n",
        " 'shripityshripit-bw.png',\n",
        " 'ofalco-colour.png',\n",
        " 'youwinabagel-colour.png',\n",
        " 'Imbie81-colour.png',\n",
        " 'Se7enOne-line.png',\n",
        " 'youwinabagel-bw.png',\n",
        " 'JEWPACOLYPSE-colour.png',\n",
        " 'seahorseVT-bw.png',\n",
        " 'celest123-line.png',\n",
        " 'The_Beaner-bw.png',\n",
        " 'arequest554-line.png',\n",
        " 'MrsEvil-bw.png',\n",
        " 'GymIsFun-bw.png',\n",
        " 'TD2705-colour.png',\n",
        " 'iamwolf777-line.png',\n",
        " 'RunOttawa613-colour.png',\n",
        " 'uhhhname-bw.png',\n",
        " 'RunOttawa613-line.png',\n",
        " 'sirenmika-colour.png',\n",
        " 'ghoztcum-line.png',\n",
        " 'labatomi-bw.png',\n",
        " 'OhGollyG-colour.png',\n",
        " 'lordneojoker-colour.png',\n",
        " 'shripityshripit-line.png',\n",
        " 'GymIsFun-line.png',\n",
        " 'BonAnchovy-bw.png',\n",
        " 'labatomi-line.png',\n",
        " 'ofalco-line.png',\n",
        " 'neszero-bw.png',\n",
        " 'BonAnchovy-colour.png',\n",
        " 'THORGNASH-line.png',\n",
        " 'Mailing_a_Bear-colour.png',\n",
        " 'REALchampagnePAPI-colour.png',\n",
        " 'REALchampagnePAPI-bw.png',\n",
        " 'JEWPACOLYPSE-bw.png',\n",
        " 'bulgarianutter-colour.png',\n",
        " 'plainclotheswoman-colour.png',\n",
        " 'GymIsFun-colour.png',\n",
        " 'LongDistanceGuyy-line.png',\n",
        " 'CapDance-bw.png',\n",
        " 'iloveariiii-colour.png',\n",
        " 'ravensymoneislife-colour.png',\n",
        " 'OhLydia-colour.png',\n",
        " 'OrangeCloud-bw.png',\n",
        " 'crayolalightblue-bw.png',\n",
        " '_jazmin-bw.png',\n",
        " 'DemTurtlesCom-bw.png',\n",
        " 'BeyondMars-colour.png',\n",
        " 'crayolalightblue-colour.png',\n",
        " 'uhhhname-line.png',\n",
        " 'The_Beaner-line.png',\n",
        " 'MrsEvil-line.png',\n",
        " 'crayolalightblue-line.png',\n",
        " 'CapDance-colour.png',\n",
        " 'JoisofLife-colour.png',\n",
        " 'BeyondMars-bw.png',\n",
        " 'Mailing_a_Bear-bw.png',\n",
        " 'THORGNASH-colour.png',\n",
        " 'MrsEvil-colour.png',\n",
        " 'iamwolf777-bw.png',\n",
        " '14',\n",
        " 'ofalco-bw.png',\n",
        " 'jerrytt-bw.png',\n",
        " 'OhGollyG-bw.png',\n",
        " 'Imbie81-bw.png',\n",
        " 'fuzz_e_bear-line.png',\n",
        " 'arequest554-bw.png',\n",
        " 'Se7enOne-colour.png',\n",
        " 'iamwolf777-colour.png',\n",
        " '12',\n",
        " 'Quackattackaggie-line.png',\n",
        " 'Jasperthecat77-bw.png',\n",
        " 'OhLydia-bw.png',\n",
        " 'Se7enOne-bw.png',\n",
        " 'sirenmika-line.png',\n",
        " 'lordneojoker-line.png',\n",
        " 'LongDistanceGuyy-colour.png',\n",
        " 'jerrytt-colour.png',\n",
        " 'Dreababii-bw.png',\n",
        " 'BeyondMars-line.png',\n",
        " 'ghoztcum-bw.png',\n",
        " 'uhhhname-colour.png',\n",
        " '_jazmin-colour.png',\n",
        " 'alikonagurl83-bw.png',\n",
        " 'AdamBarnhouse-colour.png',\n",
        " 'Quackattackaggie-colour.png',\n",
        " 'Jasperthecat77-line.png',\n",
        " 'The_Beaner-colour.png',\n",
        " 'starienite-line.png',\n",
        " 'jerrytt-line.png',\n",
        " 'Salerno1717-colour.png',\n",
        " 'Salerno1717-line.png',\n",
        " 'Dreababii-line.png',\n",
        " 'LongDistanceGuyy-bw.png',\n",
        " 'seahorseVT-line.png',\n",
        " 'OhLydia-line.png',\n",
        " 'AdamBarnhouse-bw.png',\n",
        " 'Dreababii-colour.png',\n",
        " 'celest123-bw.png',\n",
        " 'labatomi-colour.png',\n",
        " 'starienite-bw.png',\n",
        " 'OrangeCloud-colour.png',\n",
        " 'ghoztcum-colour.png',\n",
        " 'neszero-colour.png',\n",
        " 'REALchampagnePAPI-line.png',\n",
        " 'DemTurtlesCom-colour.png',\n",
        " 'BonAnchovy-line.png',\n",
        " 'bulgarianutter-line.png',\n",
        " 'TD2705-line.png',\n",
        " 'Jasperthecat77-colour.png',\n",
        " 'Imbie81-line.png',\n",
        " 'CapDance-line.png',\n",
        " 'seahorseVT-colour.png',\n",
        " 'JoisofLife-line.png',\n",
        " 'plainclotheswoman-line.png',\n",
        " '_jazmin-line.png',\n",
        " 'Mailing_a_Bear-line.png',\n",
        " 'TD2705-bw.png',\n",
        " 'arequest554-colour.png',\n",
        " 'shripityshripit-colour.png',\n",
        " 'bulgarianutter-bw.png',\n",
        " 'celest123-colour.png',\n",
        " 'AdamBarnhouse-line.png']"
       ]
      }
     ],
     "prompt_number": 241
    },
    {
     "cell_type": "code",
     "collapsed": false,
     "input": [
      "lisauth"
     ],
     "language": "python",
     "metadata": {},
     "outputs": [
      {
       "metadata": {},
       "output_type": "pyout",
       "prompt_number": 267,
       "text": [
        "['JuanZ05',\n",
        " 'Billiam426',\n",
        " 'akatheabsoluteworst',\n",
        " 'robinrotman',\n",
        " 'Barcid',\n",
        " 'RageQuitRebels',\n",
        " 'brandonkoy12',\n",
        " 'saruken',\n",
        " 'cocainemasquerade',\n",
        " 'riptide747',\n",
        " 'TJames5',\n",
        " 'HelloMeShell',\n",
        " 'FenixWings',\n",
        " 'gman12345',\n",
        " 'Yranium',\n",
        " 'patchybeard2014',\n",
        " 'tofukillerr',\n",
        " 'Tontac',\n",
        " 'hudsinimo',\n",
        " 'SimplisticBiscuit',\n",
        " 'springerfinger',\n",
        " 'Wernest',\n",
        " 'Bittz',\n",
        " 'jgarcia630',\n",
        " 'Lentil-Soup']"
       ]
      }
     ],
     "prompt_number": 267
    },
    {
     "cell_type": "markdown",
     "metadata": {},
     "source": [
      "I want to save the list of usernames that submit images as png files in a dir. \n",
      "Currently when I call the list of authors it returns Redditor(user_name='theusername'). I want to return 'theusername'.\n",
      "Once this is resolved I can add '-line.png' '-bw.png' '-colour.png' to each folder. "
     ]
    },
    {
     "cell_type": "code",
     "collapsed": false,
     "input": [
      "lisr.author"
     ],
     "language": "python",
     "metadata": {},
     "outputs": [
      {
       "metadata": {},
       "output_type": "pyout",
       "prompt_number": 268,
       "text": [
        "Redditor(user_name='Lentil-Soup')"
       ]
      }
     ],
     "prompt_number": 268
    },
    {
     "cell_type": "code",
     "collapsed": false,
     "input": [
      "namlis = []"
     ],
     "language": "python",
     "metadata": {},
     "outputs": [],
     "prompt_number": 269
    },
    {
     "cell_type": "code",
     "collapsed": false,
     "input": [
      "opsinz = open('/home/wcmckee/visignsys/index.meta', 'r')\n",
      "panz = opsinz.read()"
     ],
     "language": "python",
     "metadata": {},
     "outputs": [],
     "prompt_number": 270
    },
    {
     "cell_type": "code",
     "collapsed": false,
     "input": [
      "os.chdir(rmgzdays)"
     ],
     "language": "python",
     "metadata": {},
     "outputs": [],
     "prompt_number": 271
    },
    {
     "cell_type": "code",
     "collapsed": false,
     "input": [
      "#panz()\n",
      "for rdz in lisrgc:\n",
      "    (rdz.title)\n",
      "    #a(rdz.url)\n",
      "    if 'http://i.imgur.com' in rdz.url:\n",
      "        #print rdz.url\n",
      "        print (rdz.url)\n",
      "        url = rdz.url\n",
      "        response = requests.get(url, stream=True)\n",
      "        with open(str(rdz.author) + '-reference.png', 'wb') as out_file:\n",
      "            shutil.copyfileobj(response.raw, out_file)\n",
      "            del response"
     ],
     "language": "python",
     "metadata": {},
     "outputs": [
      {
       "output_type": "stream",
       "stream": "stdout",
       "text": [
        "http://i.imgur.com/PJcM7qJ.jpg\n",
        "http://i.imgur.com/zwNRqLJ.jpg"
       ]
      },
      {
       "output_type": "stream",
       "stream": "stdout",
       "text": [
        "\n",
        "http://i.imgur.com/aAToXoN.jpg"
       ]
      },
      {
       "output_type": "stream",
       "stream": "stdout",
       "text": [
        "\n",
        "http://i.imgur.com/AY43uQe.jpg?1"
       ]
      },
      {
       "output_type": "stream",
       "stream": "stdout",
       "text": [
        "\n",
        "http://i.imgur.com/CJC3TpW.jpg"
       ]
      },
      {
       "output_type": "stream",
       "stream": "stdout",
       "text": [
        "\n",
        "http://i.imgur.com/rvjuBog.jpg"
       ]
      },
      {
       "output_type": "stream",
       "stream": "stdout",
       "text": [
        "\n",
        "http://i.imgur.com/RQzofOJ.jpg"
       ]
      },
      {
       "output_type": "stream",
       "stream": "stdout",
       "text": [
        "\n",
        "http://i.imgur.com/uWQhwBP.jpg"
       ]
      },
      {
       "output_type": "stream",
       "stream": "stdout",
       "text": [
        "\n",
        "http://i.imgur.com/qOHqTKO.jpg"
       ]
      },
      {
       "output_type": "stream",
       "stream": "stdout",
       "text": [
        "\n",
        "http://i.imgur.com/3b0NVaZ.jpg"
       ]
      },
      {
       "output_type": "stream",
       "stream": "stdout",
       "text": [
        "\n",
        "http://i.imgur.com/RWMBFRZ.jpg"
       ]
      },
      {
       "output_type": "stream",
       "stream": "stdout",
       "text": [
        "\n",
        "http://i.imgur.com/wBYhNQT.jpg"
       ]
      },
      {
       "output_type": "stream",
       "stream": "stdout",
       "text": [
        "\n",
        "http://i.imgur.com/T1myiAk.jpg"
       ]
      },
      {
       "output_type": "stream",
       "stream": "stdout",
       "text": [
        "\n",
        "http://i.imgur.com/h1FxRmg.jpg"
       ]
      },
      {
       "output_type": "stream",
       "stream": "stdout",
       "text": [
        "\n",
        "http://i.imgur.com/VROknOO.jpg"
       ]
      },
      {
       "output_type": "stream",
       "stream": "stdout",
       "text": [
        "\n",
        "http://i.imgur.com/FyXT2MT.jpg"
       ]
      },
      {
       "output_type": "stream",
       "stream": "stdout",
       "text": [
        "\n",
        "http://i.imgur.com/NcQ0D6x.jpg"
       ]
      },
      {
       "output_type": "stream",
       "stream": "stdout",
       "text": [
        "\n"
       ]
      }
     ],
     "prompt_number": 272
    },
    {
     "cell_type": "code",
     "collapsed": false,
     "input": [
      "apsize = []"
     ],
     "language": "python",
     "metadata": {},
     "outputs": [],
     "prompt_number": 248
    },
    {
     "cell_type": "code",
     "collapsed": false,
     "input": [
      "aptype = []"
     ],
     "language": "python",
     "metadata": {},
     "outputs": [],
     "prompt_number": 249
    },
    {
     "cell_type": "code",
     "collapsed": false,
     "input": [
      "basewidth = 600"
     ],
     "language": "python",
     "metadata": {},
     "outputs": [],
     "prompt_number": 250
    },
    {
     "cell_type": "code",
     "collapsed": false,
     "input": [
      "imgdict = dict()"
     ],
     "language": "python",
     "metadata": {},
     "outputs": [],
     "prompt_number": 251
    },
    {
     "cell_type": "code",
     "collapsed": false,
     "input": [
      "for rmglis in os.listdir(rmgzdays):\n",
      "    print rmglis\n",
      "    im = Image.open(rmglis)\n",
      "    print im.size\n",
      "    imgdict.update({rmglis : im.size})\n",
      "    #im.thumbnail(size, Image.ANTIALIAS)\n",
      "    #im.save(file + \".thumbnail\", \"JPEG\")\n",
      "    apsize.append(im.size)\n",
      "    aptype.append(rmglis)"
     ],
     "language": "python",
     "metadata": {},
     "outputs": [
      {
       "output_type": "stream",
       "stream": "stdout",
       "text": [
        "hotaspuck-reference.png\n",
        "(2688, 1520)\n",
        "GrimaldiJ-reference.png\n",
        "(705, 491)\n",
        "Bittz-reference.png\n",
        "(3216, 4451)\n",
        "W1488-reference.png\n",
        "(160, 160)\n",
        "Atlas_Perpetually-reference.png\n",
        "(1920, 1920)\n",
        "cocainemasquerade-reference.png\n",
        "(540, 720)\n",
        "eatinPussy_kickinAss-reference.png\n",
        "(2048, 1536)\n",
        "SwedishPole-reference.png\n",
        "(2448, 3264)\n",
        "lockness-monster-reference.png\n",
        "(2448, 3264)\n",
        "TJames5-reference.png\n",
        "(904, 1024)\n",
        "bubbajiggens-reference.png\n",
        "(900, 1200)\n",
        "Wernest-reference.png\n",
        "(2048, 1358)\n",
        "heissen-frau-reference.png\n",
        "(540, 720)\n",
        "autumnwolfmoon89-reference.png\n",
        "(863, 720)\n",
        "Yranium-reference.png\n",
        "(1200, 1200)\n",
        "hudsinimo-reference.png\n",
        "(900, 1200)\n",
        "nightwomancometh-reference.png\n",
        "(1920, 966)\n",
        "OaklandWarrior-reference.png\n",
        "(900, 1200)\n",
        "KeithB12-reference.png\n",
        "(640, 640)\n",
        "JuanZ05-reference.png\n",
        "(900, 1200)\n",
        "becheve-reference.png\n",
        "(900, 1200)\n",
        "aintnothinbutabitch-reference.png\n",
        "(1200, 900)\n",
        "Heisenberglington-reference.png\n",
        "(3204, 2136)\n",
        "uojake-reference.png\n",
        "(1439, 960)\n",
        "that-tasted-purple-reference.png\n",
        "(540, 960)\n",
        "Stupidrhino-reference.png\n",
        "(1520, 2688)\n",
        "sueb0t-reference.png\n",
        "(1200, 1200)\n",
        "ButtKyler-reference.png\n",
        "(800, 1422)\n",
        "britnylove-reference.png\n",
        "(900, 1200)\n",
        "pandalf_the_grey-reference.png\n",
        "(640, 640)\n",
        "TakeToTheSkyNya-reference.png\n",
        "(1669, 1494)\n",
        "pahka-reference.png\n",
        "(960, 1280)\n",
        "saruken-reference.png\n",
        "(604, 453)\n",
        "okaaaythen-reference.png\n",
        "(1080, 1920)\n",
        "PanzerPhoto-reference.png\n",
        "(640, 960)\n",
        "SimplisticBiscuit-reference.png\n",
        "(2962, 1689)\n",
        "IWalkBesideYou-reference.png\n",
        "(960, 1280)\n",
        "VotreEsUneChaussure-reference.png\n",
        "(640, 480)\n",
        "turboman14-reference.png\n",
        "(566, 960)\n",
        "toes_and_bows-reference.png\n",
        "(1024, 768)\n",
        "Billiam426-reference.png\n",
        "(640, 912)"
       ]
      },
      {
       "output_type": "stream",
       "stream": "stdout",
       "text": [
        "\n",
        "tofukillerr-reference.png\n",
        "(768, 769)\n",
        "Barcid-reference.png\n",
        "(731, 376)\n",
        "SoilednSpoiled-reference.png\n",
        "(400, 400)\n",
        "jgarcia630-reference.png\n",
        "(1361, 2048)\n",
        "gman12345-reference.png\n",
        "(2148, 1958)\n",
        "3littlebirds3-reference.png\n",
        "(1200, 1200)\n",
        "LuciaVillalon-reference.png\n",
        "(1139, 1614)\n",
        "Ramonology-reference.png\n",
        "(1440, 2560)\n",
        "lovelleigh-reference.png\n",
        "(540, 755)\n",
        "socialstatus-reference.png\n",
        "(640, 425)\n",
        "DRAWKWARD79-reference.png\n",
        "(900, 1200)\n",
        "burlesquegirl-reference.png\n",
        "(640, 960)\n",
        "robinrotman-reference.png\n",
        "(816, 1088)\n",
        "Gooxe-reference.png\n",
        "(1316, 1741)\n",
        "mrsexyface32-reference.png\n",
        "(768, 1024)\n",
        "HelloMeShell-reference.png\n",
        "(960, 960)\n",
        "spencer707201-reference.png\n",
        "(1232, 1623)\n",
        "akatheabsoluteworst-reference.png\n",
        "(960, 960)\n",
        "OneTonneUnit-reference.png\n",
        "(4592, 3056)\n"
       ]
      }
     ],
     "prompt_number": 252
    },
    {
     "cell_type": "code",
     "collapsed": false,
     "input": [
      "for imdva in imgdict.values():\n",
      "    #print imdva\n",
      "    for deva in imdva:\n",
      "        #print deva\n",
      "        if deva < 1000:\n",
      "            print 'omg less than 1000'\n",
      "        else:\n",
      "            print 'omg more than 1000'\n",
      "            print deva / 2\n",
      "            #print imgdict.values\n",
      "            # Needs to update imgdict.values with this new number. Must halve height also."
     ],
     "language": "python",
     "metadata": {},
     "outputs": [
      {
       "output_type": "stream",
       "stream": "stdout",
       "text": [
        "omg less than 1000\n",
        "omg more than 1000\n",
        "711\n",
        "omg less than 1000\n",
        "omg less than 1000\n",
        "omg less than 1000\n",
        "omg less than 1000\n",
        "omg less than 1000\n",
        "omg less than 1000\n",
        "omg less than 1000\n",
        "omg less than 1000\n",
        "omg less than 1000\n",
        "omg more than 1000\n",
        "600\n",
        "omg more than 1000\n",
        "1608\n",
        "omg more than 1000\n",
        "2225\n",
        "omg more than 1000\n",
        "2296\n",
        "omg more than 1000\n",
        "1528\n",
        "omg less than 1000\n",
        "omg more than 1000\n",
        "512\n",
        "omg less than 1000\n",
        "omg less than 1000\n",
        "omg more than 1000\n",
        "680\n",
        "omg more than 1000\n",
        "1024\n",
        "omg less than 1000\n",
        "omg less than 1000\n",
        "omg less than 1000\n",
        "omg less than 1000\n",
        "omg less than 1000\n",
        "omg more than 1000\n",
        "512\n",
        "omg more than 1000\n",
        "719\n",
        "omg less than 1000\n",
        "omg less than 1000\n",
        "omg less than 1000\n",
        "omg less than 1000\n",
        "omg more than 1000\n",
        "600\n",
        "omg less than 1000\n",
        "omg more than 1000\n",
        "600\n",
        "omg less than 1000\n",
        "omg less than 1000\n",
        "omg more than 1000\n",
        "720\n",
        "omg more than 1000\n",
        "1280\n",
        "omg less than 1000\n",
        "omg less than 1000\n",
        "omg more than 1000\n",
        "1344\n",
        "omg more than 1000\n",
        "760\n",
        "omg more than 1000\n",
        "760\n",
        "omg more than 1000\n",
        "1344\n",
        "omg more than 1000\n",
        "569\n",
        "omg more than 1000\n",
        "807\n",
        "omg less than 1000\n",
        "omg less than 1000\n",
        "omg more than 1000\n",
        "1481\n",
        "omg more than 1000\n",
        "844\n",
        "omg less than 1000\n",
        "omg less than 1000\n",
        "omg more than 1000\n",
        "1224\n",
        "omg more than 1000\n",
        "1632\n",
        "omg less than 1000\n",
        "omg more than 1000\n",
        "600\n",
        "omg less than 1000\n",
        "omg more than 1000\n",
        "600\n",
        "omg less than 1000\n",
        "omg more than 1000\n",
        "640\n",
        "omg more than 1000\n",
        "960\n",
        "omg less than 1000\n",
        "omg more than 1000\n",
        "1024\n",
        "omg more than 1000\n",
        "768\n",
        "omg less than 1000\n",
        "omg less than 1000\n",
        "omg less than 1000\n",
        "omg less than 1000\n",
        "omg more than 1000\n",
        "512\n",
        "omg less than 1000\n",
        "omg more than 1000\n",
        "1024\n",
        "omg more than 1000\n",
        "679\n",
        "omg more than 1000\n",
        "960\n",
        "omg more than 1000\n",
        "960\n",
        "omg less than 1000\n",
        "omg less than 1000\n",
        "omg less than 1000\n",
        "omg less than 1000\n",
        "omg less than 1000\n",
        "omg more than 1000\n",
        "640\n",
        "omg more than 1000\n",
        "658\n",
        "omg more than 1000\n",
        "870\n",
        "omg more than 1000\n",
        "1602\n",
        "omg more than 1000\n",
        "1068\n",
        "omg more than 1000\n",
        "600\n",
        "omg more than 1000\n",
        "600\n",
        "omg less than 1000\n",
        "omg less than 1000\n",
        "omg less than 1000\n",
        "omg more than 1000\n",
        "600\n",
        "omg less than 1000\n",
        "omg less than 1000\n",
        "omg less than 1000\n",
        "omg less than 1000\n",
        "omg more than 1000\n",
        "600\n",
        "omg less than 1000\n",
        "omg less than 1000\n",
        "omg more than 1000\n",
        "600\n",
        "omg less than 1000\n",
        "omg less than 1000\n",
        "omg more than 1000\n",
        "834\n",
        "omg more than 1000\n",
        "747\n",
        "omg more than 1000\n",
        "1074\n",
        "omg more than 1000\n",
        "979\n",
        "omg more than 1000\n",
        "540\n",
        "omg more than 1000\n",
        "960\n",
        "omg less than 1000\n",
        "omg less than 1000\n",
        "omg more than 1000\n",
        "600\n",
        "omg more than 1000\n",
        "600\n",
        "omg more than 1000\n",
        "616\n",
        "omg more than 1000\n",
        "811\n",
        "omg more than 1000\n",
        "600\n",
        "omg more than 1000\n",
        "600\n",
        "omg more than 1000\n",
        "1224\n",
        "omg more than 1000\n",
        "1632\n",
        "omg less than 1000\n",
        "omg more than 1000\n",
        "544\n"
       ]
      }
     ],
     "prompt_number": 253
    },
    {
     "cell_type": "code",
     "collapsed": true,
     "input": [
      "imgdict"
     ],
     "language": "python",
     "metadata": {},
     "outputs": [
      {
       "metadata": {},
       "output_type": "pyout",
       "prompt_number": 254,
       "text": [
        "{'3littlebirds3-reference.png': (1200, 1200),\n",
        " 'Atlas_Perpetually-reference.png': (1920, 1920),\n",
        " 'Barcid-reference.png': (731, 376),\n",
        " 'Billiam426-reference.png': (640, 912),\n",
        " 'Bittz-reference.png': (3216, 4451),\n",
        " 'ButtKyler-reference.png': (800, 1422),\n",
        " 'DRAWKWARD79-reference.png': (900, 1200),\n",
        " 'Gooxe-reference.png': (1316, 1741),\n",
        " 'GrimaldiJ-reference.png': (705, 491),\n",
        " 'Heisenberglington-reference.png': (3204, 2136),\n",
        " 'HelloMeShell-reference.png': (960, 960),\n",
        " 'IWalkBesideYou-reference.png': (960, 1280),\n",
        " 'JuanZ05-reference.png': (900, 1200),\n",
        " 'KeithB12-reference.png': (640, 640),\n",
        " 'LuciaVillalon-reference.png': (1139, 1614),\n",
        " 'OaklandWarrior-reference.png': (900, 1200),\n",
        " 'OneTonneUnit-reference.png': (4592, 3056),\n",
        " 'PanzerPhoto-reference.png': (640, 960),\n",
        " 'Ramonology-reference.png': (1440, 2560),\n",
        " 'SimplisticBiscuit-reference.png': (2962, 1689),\n",
        " 'SoilednSpoiled-reference.png': (400, 400),\n",
        " 'Stupidrhino-reference.png': (1520, 2688),\n",
        " 'SwedishPole-reference.png': (2448, 3264),\n",
        " 'TJames5-reference.png': (904, 1024),\n",
        " 'TakeToTheSkyNya-reference.png': (1669, 1494),\n",
        " 'VotreEsUneChaussure-reference.png': (640, 480),\n",
        " 'W1488-reference.png': (160, 160),\n",
        " 'Wernest-reference.png': (2048, 1358),\n",
        " 'Yranium-reference.png': (1200, 1200),\n",
        " 'aintnothinbutabitch-reference.png': (1200, 900),\n",
        " 'akatheabsoluteworst-reference.png': (960, 960),\n",
        " 'autumnwolfmoon89-reference.png': (863, 720),\n",
        " 'becheve-reference.png': (900, 1200),\n",
        " 'britnylove-reference.png': (900, 1200),\n",
        " 'bubbajiggens-reference.png': (900, 1200),\n",
        " 'burlesquegirl-reference.png': (640, 960),\n",
        " 'cocainemasquerade-reference.png': (540, 720),\n",
        " 'eatinPussy_kickinAss-reference.png': (2048, 1536),\n",
        " 'gman12345-reference.png': (2148, 1958),\n",
        " 'heissen-frau-reference.png': (540, 720),\n",
        " 'hotaspuck-reference.png': (2688, 1520),\n",
        " 'hudsinimo-reference.png': (900, 1200),\n",
        " 'jgarcia630-reference.png': (1361, 2048),\n",
        " 'lockness-monster-reference.png': (2448, 3264),\n",
        " 'lovelleigh-reference.png': (540, 755),\n",
        " 'mrsexyface32-reference.png': (768, 1024),\n",
        " 'nightwomancometh-reference.png': (1920, 966),\n",
        " 'okaaaythen-reference.png': (1080, 1920),\n",
        " 'pahka-reference.png': (960, 1280),\n",
        " 'pandalf_the_grey-reference.png': (640, 640),\n",
        " 'robinrotman-reference.png': (816, 1088),\n",
        " 'saruken-reference.png': (604, 453),\n",
        " 'socialstatus-reference.png': (640, 425),\n",
        " 'spencer707201-reference.png': (1232, 1623),\n",
        " 'sueb0t-reference.png': (1200, 1200),\n",
        " 'that-tasted-purple-reference.png': (540, 960),\n",
        " 'toes_and_bows-reference.png': (1024, 768),\n",
        " 'tofukillerr-reference.png': (768, 769),\n",
        " 'turboman14-reference.png': (566, 960),\n",
        " 'uojake-reference.png': (1439, 960)}"
       ]
      }
     ],
     "prompt_number": 254
    },
    {
     "cell_type": "code",
     "collapsed": false,
     "input": [
      "#basewidth = 300\n",
      "#img = Image.open('somepic.jpg')\n",
      "#wpercent = (basewidth/float(img.size[0]))\n",
      "#hsize = int((float(img.size[1])*float(wpercent)))\n",
      "#img = img.resize((basewidth,hsize), PIL.Image.ANTIALIAS)\n",
      "#img.save('sompic.jpg')"
     ],
     "language": "python",
     "metadata": {},
     "outputs": [],
     "prompt_number": 255
    },
    {
     "cell_type": "code",
     "collapsed": false,
     "input": [
      "for numz in apsize:\n",
      "    print numz[0]\n",
      "    if numz[0] > 800:\n",
      "        print ('greater than 800')\n",
      "    else:\n",
      "        print ('less than 800!')"
     ],
     "language": "python",
     "metadata": {},
     "outputs": [
      {
       "output_type": "stream",
       "stream": "stdout",
       "text": [
        "2688\n",
        "greater than 800\n",
        "705\n",
        "less than 800!\n",
        "3216\n",
        "greater than 800\n",
        "160\n",
        "less than 800!\n",
        "1920\n",
        "greater than 800\n",
        "540\n",
        "less than 800!\n",
        "2048\n",
        "greater than 800\n",
        "2448\n",
        "greater than 800\n",
        "2448\n",
        "greater than 800\n",
        "904\n",
        "greater than 800\n",
        "900\n",
        "greater than 800\n",
        "2048\n",
        "greater than 800\n",
        "540\n",
        "less than 800!\n",
        "863\n",
        "greater than 800\n",
        "1200\n",
        "greater than 800\n",
        "900\n",
        "greater than 800\n",
        "1920\n",
        "greater than 800\n",
        "900\n",
        "greater than 800\n",
        "640\n",
        "less than 800!\n",
        "900\n",
        "greater than 800\n",
        "900\n",
        "greater than 800\n",
        "1200\n",
        "greater than 800\n",
        "3204\n",
        "greater than 800\n",
        "1439\n",
        "greater than 800\n",
        "540\n",
        "less than 800!\n",
        "1520\n",
        "greater than 800\n",
        "1200\n",
        "greater than 800\n",
        "800\n",
        "less than 800!\n",
        "900\n",
        "greater than 800\n",
        "640\n",
        "less than 800!\n",
        "1669\n",
        "greater than 800\n",
        "960\n",
        "greater than 800\n",
        "604\n",
        "less than 800!\n",
        "1080\n",
        "greater than 800\n",
        "640\n",
        "less than 800!\n",
        "2962\n",
        "greater than 800\n",
        "960\n",
        "greater than 800\n",
        "640\n",
        "less than 800!\n",
        "566\n",
        "less than 800!\n",
        "1024\n",
        "greater than 800\n",
        "640\n",
        "less than 800!\n",
        "768\n",
        "less than 800!\n",
        "731\n",
        "less than 800!\n",
        "400\n",
        "less than 800!\n",
        "1361\n",
        "greater than 800\n",
        "2148\n",
        "greater than 800\n",
        "1200\n",
        "greater than 800\n",
        "1139\n",
        "greater than 800\n",
        "1440\n",
        "greater than 800\n",
        "540\n",
        "less than 800!\n",
        "640\n",
        "less than 800!\n",
        "900\n",
        "greater than 800\n",
        "640\n",
        "less than 800!\n",
        "816\n",
        "greater than 800\n",
        "1316\n",
        "greater than 800\n",
        "768\n",
        "less than 800!\n",
        "960\n",
        "greater than 800\n",
        "1232\n",
        "greater than 800\n",
        "960\n",
        "greater than 800\n",
        "4592\n",
        "greater than 800\n"
       ]
      }
     ],
     "prompt_number": 256
    },
    {
     "cell_type": "code",
     "collapsed": false,
     "input": [
      "reliz = []"
     ],
     "language": "python",
     "metadata": {},
     "outputs": [],
     "prompt_number": 257
    },
    {
     "cell_type": "code",
     "collapsed": false,
     "input": [
      "for refls in os.listdir(rmgzdays):\n",
      "    #print rmgzdays + refls\n",
      "    reliz.append(repathz + refls)"
     ],
     "language": "python",
     "metadata": {},
     "outputs": [],
     "prompt_number": 258
    },
    {
     "cell_type": "code",
     "collapsed": false,
     "input": [],
     "language": "python",
     "metadata": {},
     "outputs": [],
     "prompt_number": 258
    },
    {
     "cell_type": "code",
     "collapsed": false,
     "input": [
      "reliz"
     ],
     "language": "python",
     "metadata": {},
     "outputs": [
      {
       "metadata": {},
       "output_type": "pyout",
       "prompt_number": 259,
       "text": [
        "['/imgs/14/12/21/hotaspuck-reference.png',\n",
        " '/imgs/14/12/21/GrimaldiJ-reference.png',\n",
        " '/imgs/14/12/21/Bittz-reference.png',\n",
        " '/imgs/14/12/21/W1488-reference.png',\n",
        " '/imgs/14/12/21/Atlas_Perpetually-reference.png',\n",
        " '/imgs/14/12/21/cocainemasquerade-reference.png',\n",
        " '/imgs/14/12/21/eatinPussy_kickinAss-reference.png',\n",
        " '/imgs/14/12/21/SwedishPole-reference.png',\n",
        " '/imgs/14/12/21/lockness-monster-reference.png',\n",
        " '/imgs/14/12/21/TJames5-reference.png',\n",
        " '/imgs/14/12/21/bubbajiggens-reference.png',\n",
        " '/imgs/14/12/21/Wernest-reference.png',\n",
        " '/imgs/14/12/21/heissen-frau-reference.png',\n",
        " '/imgs/14/12/21/autumnwolfmoon89-reference.png',\n",
        " '/imgs/14/12/21/Yranium-reference.png',\n",
        " '/imgs/14/12/21/hudsinimo-reference.png',\n",
        " '/imgs/14/12/21/nightwomancometh-reference.png',\n",
        " '/imgs/14/12/21/OaklandWarrior-reference.png',\n",
        " '/imgs/14/12/21/KeithB12-reference.png',\n",
        " '/imgs/14/12/21/JuanZ05-reference.png',\n",
        " '/imgs/14/12/21/becheve-reference.png',\n",
        " '/imgs/14/12/21/aintnothinbutabitch-reference.png',\n",
        " '/imgs/14/12/21/Heisenberglington-reference.png',\n",
        " '/imgs/14/12/21/uojake-reference.png',\n",
        " '/imgs/14/12/21/that-tasted-purple-reference.png',\n",
        " '/imgs/14/12/21/Stupidrhino-reference.png',\n",
        " '/imgs/14/12/21/sueb0t-reference.png',\n",
        " '/imgs/14/12/21/ButtKyler-reference.png',\n",
        " '/imgs/14/12/21/britnylove-reference.png',\n",
        " '/imgs/14/12/21/pandalf_the_grey-reference.png',\n",
        " '/imgs/14/12/21/TakeToTheSkyNya-reference.png',\n",
        " '/imgs/14/12/21/pahka-reference.png',\n",
        " '/imgs/14/12/21/saruken-reference.png',\n",
        " '/imgs/14/12/21/okaaaythen-reference.png',\n",
        " '/imgs/14/12/21/PanzerPhoto-reference.png',\n",
        " '/imgs/14/12/21/SimplisticBiscuit-reference.png',\n",
        " '/imgs/14/12/21/IWalkBesideYou-reference.png',\n",
        " '/imgs/14/12/21/VotreEsUneChaussure-reference.png',\n",
        " '/imgs/14/12/21/turboman14-reference.png',\n",
        " '/imgs/14/12/21/toes_and_bows-reference.png',\n",
        " '/imgs/14/12/21/Billiam426-reference.png',\n",
        " '/imgs/14/12/21/tofukillerr-reference.png',\n",
        " '/imgs/14/12/21/Barcid-reference.png',\n",
        " '/imgs/14/12/21/SoilednSpoiled-reference.png',\n",
        " '/imgs/14/12/21/jgarcia630-reference.png',\n",
        " '/imgs/14/12/21/gman12345-reference.png',\n",
        " '/imgs/14/12/21/3littlebirds3-reference.png',\n",
        " '/imgs/14/12/21/LuciaVillalon-reference.png',\n",
        " '/imgs/14/12/21/Ramonology-reference.png',\n",
        " '/imgs/14/12/21/lovelleigh-reference.png',\n",
        " '/imgs/14/12/21/socialstatus-reference.png',\n",
        " '/imgs/14/12/21/DRAWKWARD79-reference.png',\n",
        " '/imgs/14/12/21/burlesquegirl-reference.png',\n",
        " '/imgs/14/12/21/robinrotman-reference.png',\n",
        " '/imgs/14/12/21/Gooxe-reference.png',\n",
        " '/imgs/14/12/21/mrsexyface32-reference.png',\n",
        " '/imgs/14/12/21/HelloMeShell-reference.png',\n",
        " '/imgs/14/12/21/spencer707201-reference.png',\n",
        " '/imgs/14/12/21/akatheabsoluteworst-reference.png',\n",
        " '/imgs/14/12/21/OneTonneUnit-reference.png']"
       ]
      }
     ],
     "prompt_number": 259
    },
    {
     "cell_type": "code",
     "collapsed": false,
     "input": [
      "aptype"
     ],
     "language": "python",
     "metadata": {},
     "outputs": [
      {
       "metadata": {},
       "output_type": "pyout",
       "prompt_number": 260,
       "text": [
        "['hotaspuck-reference.png',\n",
        " 'GrimaldiJ-reference.png',\n",
        " 'Bittz-reference.png',\n",
        " 'W1488-reference.png',\n",
        " 'Atlas_Perpetually-reference.png',\n",
        " 'cocainemasquerade-reference.png',\n",
        " 'eatinPussy_kickinAss-reference.png',\n",
        " 'SwedishPole-reference.png',\n",
        " 'lockness-monster-reference.png',\n",
        " 'TJames5-reference.png',\n",
        " 'bubbajiggens-reference.png',\n",
        " 'Wernest-reference.png',\n",
        " 'heissen-frau-reference.png',\n",
        " 'autumnwolfmoon89-reference.png',\n",
        " 'Yranium-reference.png',\n",
        " 'hudsinimo-reference.png',\n",
        " 'nightwomancometh-reference.png',\n",
        " 'OaklandWarrior-reference.png',\n",
        " 'KeithB12-reference.png',\n",
        " 'JuanZ05-reference.png',\n",
        " 'becheve-reference.png',\n",
        " 'aintnothinbutabitch-reference.png',\n",
        " 'Heisenberglington-reference.png',\n",
        " 'uojake-reference.png',\n",
        " 'that-tasted-purple-reference.png',\n",
        " 'Stupidrhino-reference.png',\n",
        " 'sueb0t-reference.png',\n",
        " 'ButtKyler-reference.png',\n",
        " 'britnylove-reference.png',\n",
        " 'pandalf_the_grey-reference.png',\n",
        " 'TakeToTheSkyNya-reference.png',\n",
        " 'pahka-reference.png',\n",
        " 'saruken-reference.png',\n",
        " 'okaaaythen-reference.png',\n",
        " 'PanzerPhoto-reference.png',\n",
        " 'SimplisticBiscuit-reference.png',\n",
        " 'IWalkBesideYou-reference.png',\n",
        " 'VotreEsUneChaussure-reference.png',\n",
        " 'turboman14-reference.png',\n",
        " 'toes_and_bows-reference.png',\n",
        " 'Billiam426-reference.png',\n",
        " 'tofukillerr-reference.png',\n",
        " 'Barcid-reference.png',\n",
        " 'SoilednSpoiled-reference.png',\n",
        " 'jgarcia630-reference.png',\n",
        " 'gman12345-reference.png',\n",
        " '3littlebirds3-reference.png',\n",
        " 'LuciaVillalon-reference.png',\n",
        " 'Ramonology-reference.png',\n",
        " 'lovelleigh-reference.png',\n",
        " 'socialstatus-reference.png',\n",
        " 'DRAWKWARD79-reference.png',\n",
        " 'burlesquegirl-reference.png',\n",
        " 'robinrotman-reference.png',\n",
        " 'Gooxe-reference.png',\n",
        " 'mrsexyface32-reference.png',\n",
        " 'HelloMeShell-reference.png',\n",
        " 'spencer707201-reference.png',\n",
        " 'akatheabsoluteworst-reference.png',\n",
        " 'OneTonneUnit-reference.png']"
       ]
      }
     ],
     "prompt_number": 260
    },
    {
     "cell_type": "code",
     "collapsed": false,
     "input": [
      "doc = dominate.document(title='GetsDrawn')\n",
      "\n",
      "with doc.head:\n",
      "    link(rel='stylesheet', href='style.css')\n",
      "    script(type ='text/javascript', src='script.js')\n",
      "    \n",
      "    with div():\n",
      "        attr(cls='header')\n",
      "        h1('GetsDrawn')\n",
      "        p(img('imgs/getsdrawn-bw.png', src='imgs/getsdrawn-bw.png'))\n",
      "        h1('Updated ', strftime(\"%a, %d %b %Y %H:%M:%S +0000\", gmtime()))\n",
      "        p(panz)\n",
      "        p(bodycom)\n",
      "    \n",
      "    \n",
      "\n",
      "with doc:\n",
      "    with div(id='body').add(ol()):\n",
      "        for rdz in reliz:\n",
      "            #h1(rdz.title)\n",
      "            #a(rdz.url)\n",
      "            #p(img(rdz, src='%s' % rdz))\n",
      "            p(img(rdz, src = rdz))\n",
      "            p(rdz)\n",
      "\n",
      "\n",
      "                \n",
      "            #print rdz.url\n",
      "            #if '.jpg' in rdz.url:\n",
      "            #    img(rdz.urlz)\n",
      "            #else:\n",
      "            #    a(rdz.urlz)\n",
      "            #h1(str(rdz.author))\n",
      "            \n",
      "            #li(img(i.lower(), src='%s' % i))\n",
      "\n",
      "    with div():\n",
      "        attr(cls='body')\n",
      "        p('GetsDrawn is open source')\n",
      "        a('https://github.com/wcmckee/wcmckee')\n",
      "        a('https://reddit.com/r/redditgetsdrawn')\n",
      "\n",
      "#print doc"
     ],
     "language": "python",
     "metadata": {},
     "outputs": [],
     "prompt_number": 261
    },
    {
     "cell_type": "code",
     "collapsed": false,
     "input": [
      "docre = doc.render()"
     ],
     "language": "python",
     "metadata": {},
     "outputs": [],
     "prompt_number": 262
    },
    {
     "cell_type": "code",
     "collapsed": false,
     "input": [
      "#s = docre.decode('ascii', 'ignore')"
     ],
     "language": "python",
     "metadata": {},
     "outputs": [],
     "prompt_number": 263
    },
    {
     "cell_type": "code",
     "collapsed": false,
     "input": [
      "yourstring = docre.encode('ascii', 'ignore').decode('ascii')"
     ],
     "language": "python",
     "metadata": {},
     "outputs": [],
     "prompt_number": 264
    },
    {
     "cell_type": "code",
     "collapsed": false,
     "input": [
      "indfil = ('/home/wcmckee/getsdrawndotcom/index.html')"
     ],
     "language": "python",
     "metadata": {},
     "outputs": [],
     "prompt_number": 265
    },
    {
     "cell_type": "code",
     "collapsed": false,
     "input": [
      "mkind = open(indfil, 'w')\n",
      "mkind.write(yourstring)\n",
      "mkind.close()"
     ],
     "language": "python",
     "metadata": {},
     "outputs": [],
     "prompt_number": 266
    },
    {
     "cell_type": "code",
     "collapsed": false,
     "input": [
      "#os.system('scp -r /home/wcmckee/getsdrawndotcom/ wcmckee@getsdrawn.com:/home/wcmckee/getsdrawndotcom')"
     ],
     "language": "python",
     "metadata": {},
     "outputs": [],
     "prompt_number": 263
    },
    {
     "cell_type": "code",
     "collapsed": false,
     "input": [
      "#rsync -azP source destination"
     ],
     "language": "python",
     "metadata": {},
     "outputs": [],
     "prompt_number": 264
    },
    {
     "cell_type": "code",
     "collapsed": false,
     "input": [
      "#updatehtm = raw_input('Update index? Y/n')\n",
      "#updateref = raw_input('Update reference? Y/n')\n",
      "\n",
      "#if 'y' or '' in updatehtm:\n",
      "#    os.system('scp -r /home/wcmckee/getsdrawndotcom/index.html wcmckee@getsdrawn.com:/home/wcmckee/getsdrawndotcom/index.html')\n",
      "#elif 'n' in updatehtm:\n",
      "#    print 'not uploading'\n",
      "#if 'y' or '' in updateref:\n",
      "#    os.system('rsync -azP /home/wcmckee/getsdrawndotcom/ wcmckee@getsdrawn.com:/home/wcmckee/getsdrawndotcom/')"
     ],
     "language": "python",
     "metadata": {},
     "outputs": [],
     "prompt_number": 265
    },
    {
     "cell_type": "code",
     "collapsed": false,
     "input": [
      "#os.system('scp -r /home/wcmckee/getsdrawndotcom/index.html wcmckee@getsdrawn.com:/home/wcmckee/getsdrawndotcom/index.html')"
     ],
     "language": "python",
     "metadata": {},
     "outputs": [],
     "prompt_number": 266
    },
    {
     "cell_type": "code",
     "collapsed": false,
     "input": [
      "#os.system('scp -r /home/wcmckee/getsdrawndotcom/style.css wcmckee@getsdrawn.com:/home/wcmckee/getsdrawndotcom/style.css')"
     ],
     "language": "python",
     "metadata": {},
     "outputs": [],
     "prompt_number": 267
    },
    {
     "cell_type": "code",
     "collapsed": false,
     "input": [],
     "language": "python",
     "metadata": {},
     "outputs": [],
     "prompt_number": 138
    },
    {
     "cell_type": "code",
     "collapsed": false,
     "input": [],
     "language": "python",
     "metadata": {},
     "outputs": [],
     "prompt_number": 138
    },
    {
     "cell_type": "code",
     "collapsed": false,
     "input": [],
     "language": "python",
     "metadata": {},
     "outputs": [],
     "prompt_number": 138
    },
    {
     "cell_type": "code",
     "collapsed": false,
     "input": [],
     "language": "python",
     "metadata": {},
     "outputs": [],
     "prompt_number": 138
    },
    {
     "cell_type": "code",
     "collapsed": false,
     "input": [],
     "language": "python",
     "metadata": {},
     "outputs": []
    }
   ],
   "metadata": {}
  }
 ]
}