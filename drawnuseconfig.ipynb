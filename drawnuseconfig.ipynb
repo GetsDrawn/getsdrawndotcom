{
 "cells": [
  {
   "cell_type": "markdown",
   "metadata": {},
   "source": [
    "<h1>Drawn Use Config</h1>\n",
    "\n",
    "This script uses the config file created with configdraw to run the getsdrawndotcom script. \n",
    "\n",
    "This script must open and read the config file created with configdraw. It then uses the var in the config file to run the getsdrawndotcom script"
   ]
  },
  {
   "cell_type": "code",
   "execution_count": 65,
   "metadata": {
    "collapsed": true
   },
   "outputs": [],
   "source": [
    "import configparser\n",
    "import os \n",
    "import requests\n",
    "from bs4 import BeautifulSoup\n",
    "import re\n",
    "import json\n",
    "import time\n",
    "import praw\n",
    "import dominate\n",
    "from dominate.tags import * \n",
    "import arrow\n",
    "import getpass\n",
    "import shutil"
   ]
  },
  {
   "cell_type": "code",
   "execution_count": 40,
   "metadata": {
    "collapsed": true
   },
   "outputs": [],
   "source": [
    "confidg = configparser.RawConfigParser()"
   ]
  },
  {
   "cell_type": "code",
   "execution_count": 41,
   "metadata": {
    "collapsed": false
   },
   "outputs": [
    {
     "data": {
      "text/plain": [
       "['/home/wcmckee/gotdrawn/config.cfg']"
      ]
     },
     "execution_count": 41,
     "metadata": {},
     "output_type": "execute_result"
    }
   ],
   "source": [
    "confidg.read('/home/wcmckee/gotdrawn/config.cfg')"
   ]
  },
  {
   "cell_type": "code",
   "execution_count": 42,
   "metadata": {
    "collapsed": false
   },
   "outputs": [],
   "source": [
    "subredlookup =  confidg.get('subredinfo', 'subbreddit')"
   ]
  },
  {
   "cell_type": "code",
   "execution_count": 43,
   "metadata": {
    "collapsed": false
   },
   "outputs": [],
   "source": [
    "dirpathz = confidg.get('subredinfo', 'dirpath')"
   ]
  },
  {
   "cell_type": "code",
   "execution_count": 44,
   "metadata": {
    "collapsed": true
   },
   "outputs": [],
   "source": [
    "outputfold = confidg.get('subredinfo', 'outputfolder')"
   ]
  },
  {
   "cell_type": "code",
   "execution_count": 45,
   "metadata": {
    "collapsed": false
   },
   "outputs": [],
   "source": [
    "outputfile = confidg.get('subredinfo', 'outputfile')"
   ]
  },
  {
   "cell_type": "code",
   "execution_count": 46,
   "metadata": {
    "collapsed": false
   },
   "outputs": [],
   "source": [
    "outfoldstr = str(outputfold)\n",
    "\n",
    "#If this is true - makes/checks for date folders."
   ]
  },
  {
   "cell_type": "code",
   "execution_count": 47,
   "metadata": {
    "collapsed": true
   },
   "outputs": [],
   "source": [
    "#The value is True but it's not working. "
   ]
  },
  {
   "cell_type": "code",
   "execution_count": 48,
   "metadata": {
    "collapsed": false
   },
   "outputs": [
    {
     "name": "stdout",
     "output_type": "stream",
     "text": [
      "Not going to output folders\n"
     ]
    }
   ],
   "source": [
    "if outfoldstr == True:\n",
    "    print ('Going to output folders for imgs')\n",
    "else:\n",
    "    print ('Not going to output folders')"
   ]
  },
  {
   "cell_type": "code",
   "execution_count": 49,
   "metadata": {
    "collapsed": false
   },
   "outputs": [
    {
     "name": "stdout",
     "output_type": "stream",
     "text": [
      "Not going to output filename date\n"
     ]
    }
   ],
   "source": [
    "if outputfile == True:\n",
    "    print ('Going to output filename date')\n",
    "else:\n",
    "    print ('Not going to output filename date')"
   ]
  },
  {
   "cell_type": "code",
   "execution_count": 50,
   "metadata": {
    "collapsed": false
   },
   "outputs": [
    {
     "data": {
      "text/plain": [
       "'False'"
      ]
     },
     "execution_count": 50,
     "metadata": {},
     "output_type": "execute_result"
    }
   ],
   "source": [
    "str(outputfile)"
   ]
  },
  {
   "cell_type": "code",
   "execution_count": 51,
   "metadata": {
    "collapsed": false
   },
   "outputs": [
    {
     "data": {
      "text/plain": [
       "u'False'"
      ]
     },
     "execution_count": 51,
     "metadata": {},
     "output_type": "execute_result"
    }
   ],
   "source": [
    "outputfile\n",
    "#if this is true it just makes the files with date in \n",
    "#filename"
   ]
  },
  {
   "cell_type": "code",
   "execution_count": 52,
   "metadata": {
    "collapsed": false
   },
   "outputs": [
    {
     "data": {
      "text/plain": [
       "u'redditgetsdrawn'"
      ]
     },
     "execution_count": 52,
     "metadata": {},
     "output_type": "execute_result"
    }
   ],
   "source": [
    "subredlookup"
   ]
  },
  {
   "cell_type": "code",
   "execution_count": 53,
   "metadata": {
    "collapsed": true
   },
   "outputs": [],
   "source": [
    "hosnam = getpass.getuser()\n",
    "gtsdrndir = ('/home/' + hosnam + '/' + dirpathz)"
   ]
  },
  {
   "cell_type": "code",
   "execution_count": 54,
   "metadata": {
    "collapsed": false
   },
   "outputs": [
    {
     "name": "stdout",
     "output_type": "stream",
     "text": [
      "its true\n"
     ]
    }
   ],
   "source": [
    "if os.path.isdir(gtsdrndir) == True:\n",
    "    print 'its true'\n",
    "else:\n",
    "    print 'its false'\n",
    "    os.mkdir(gtsdrndir)"
   ]
  },
  {
   "cell_type": "code",
   "execution_count": 55,
   "metadata": {
    "collapsed": true
   },
   "outputs": [],
   "source": [
    "r = praw.Reddit(user_agent='getsdrawndotcom')"
   ]
  },
  {
   "cell_type": "code",
   "execution_count": 56,
   "metadata": {
    "collapsed": true
   },
   "outputs": [],
   "source": [
    "getnewr = r.get_subreddit(subredlookup)"
   ]
  },
  {
   "cell_type": "code",
   "execution_count": 57,
   "metadata": {
    "collapsed": true
   },
   "outputs": [],
   "source": [
    "rdnew = getnewr.get_new()"
   ]
  },
  {
   "cell_type": "code",
   "execution_count": 58,
   "metadata": {
    "collapsed": true
   },
   "outputs": [],
   "source": [
    "lisrgc = []\n",
    "lisauth = []\n"
   ]
  },
  {
   "cell_type": "code",
   "execution_count": 59,
   "metadata": {
    "collapsed": true
   },
   "outputs": [],
   "source": [
    "for uz in rdnew:\n",
    "    #print uz\n",
    "    lisrgc.append(uz)"
   ]
  },
  {
   "cell_type": "code",
   "execution_count": 60,
   "metadata": {
    "collapsed": false
   },
   "outputs": [],
   "source": [
    "gtdrndic = dict()"
   ]
  },
  {
   "cell_type": "code",
   "execution_count": 61,
   "metadata": {
    "collapsed": false
   },
   "outputs": [
    {
     "name": "stdout",
     "output_type": "stream",
     "text": [
      "1 :: I was hoping you fine people would draw me and my New Kids on the Block ...\n",
      "1 :: This is my grandma at her 90th birthday party! Would anyone like to draw...\n",
      "1 :: My friends are engaged! They were so overjoyed with love. I'd like to gi...\n",
      "1 :: My big sis' birthday is coming up.. And I know she loves this photo of u...\n",
      "1 :: Could you draw my best friend and I hanging out by the lake? Weather mad...\n",
      "8 :: Lovely photo of my sister that a good friend took :3\n",
      "5 :: Hey guys! I've been losing weight and can finally fit into this awesome ...\n",
      "1 :: Could someone draw my amazing baby momma &amp; my gorgeous daughter? Any...\n",
      "1 :: Wife snapped this photo of me on the way to the Library. Whatcha think, ...\n",
      "4 :: I'd love a drawing of my son! Any takers on this little man?\n",
      "2 :: This is my best friend in the world and her birthday is coming up. It wo...\n",
      "4 :: HEy guys! Just remembered this subreddit is a (awesome!)thing. Mind draw...\n",
      "5 :: Can someone draw my picture? This picture made me feel beautiful. :)\n",
      "0 :: Hello RGD! Our 2 year anniversary is coming up at the beginning of April...\n",
      "2 :: Would anyone be willing to draw my two favorite creatures in the world, ...\n",
      "0 :: Hi! Could anybody paint or draw a picture of my mother and I at the Brav...\n",
      "6 :: Here's me, trying to look at the eclipse in the UK. It would be cool to ...\n",
      "1 :: Would anybody like to draw me as a super hero, or just as my super aweso...\n",
      "6 :: I love this picture of my sisters and I could anyone draw us?\n",
      "3 :: Please draw my niece and nephew\n",
      "6 :: Anyone care to draw me? :) Sorry for the sepia, I can't find the original\n",
      "6 :: Hey guys, first time here, that's my gf's favorite picture of me, would ...\n",
      "4 :: Could reddit help me out? This is a good friend of mine wanting to get d...\n",
      "0 :: Can sombody please draw my beautiful wife driving? I'd love to surprise ...\n",
      "17 :: I've always adored this photo of my dad and I. Would love to see what y...\n"
     ]
    }
   ],
   "source": [
    "for itzza in lisrgc:\n",
    "    print itzza"
   ]
  },
  {
   "cell_type": "code",
   "execution_count": 62,
   "metadata": {
    "collapsed": false
   },
   "outputs": [],
   "source": [
    "fulldirz = gtsdrndir + '/'"
   ]
  },
  {
   "cell_type": "code",
   "execution_count": 71,
   "metadata": {
    "collapsed": false
   },
   "outputs": [
    {
     "data": {
      "text/plain": [
       "u'/home/wcmckee/testingdir/'"
      ]
     },
     "execution_count": 71,
     "metadata": {},
     "output_type": "execute_result"
    }
   ],
   "source": [
    "fulldirz"
   ]
  },
  {
   "cell_type": "code",
   "execution_count": 77,
   "metadata": {
    "collapsed": true
   },
   "outputs": [],
   "source": [
    "fullimgz = fulldirz + 'imgs'"
   ]
  },
  {
   "cell_type": "code",
   "execution_count": 72,
   "metadata": {
    "collapsed": true
   },
   "outputs": [],
   "source": [
    "artes = arrow.utcnow()"
   ]
  },
  {
   "cell_type": "code",
   "execution_count": 73,
   "metadata": {
    "collapsed": true
   },
   "outputs": [],
   "source": [
    "yrpath = artes.strftime('%Y')"
   ]
  },
  {
   "cell_type": "code",
   "execution_count": 79,
   "metadata": {
    "collapsed": true
   },
   "outputs": [],
   "source": [
    "fullyrz = fullimgz + '/' + yrpath"
   ]
  },
  {
   "cell_type": "code",
   "execution_count": 81,
   "metadata": {
    "collapsed": false
   },
   "outputs": [
    {
     "data": {
      "text/plain": [
       "u'/home/wcmckee/testingdir/imgs/2015'"
      ]
     },
     "execution_count": 81,
     "metadata": {},
     "output_type": "execute_result"
    }
   ],
   "source": [
    "fullyrz"
   ]
  },
  {
   "cell_type": "code",
   "execution_count": null,
   "metadata": {
    "collapsed": true
   },
   "outputs": [],
   "source": []
  },
  {
   "cell_type": "code",
   "execution_count": 82,
   "metadata": {
    "collapsed": true
   },
   "outputs": [],
   "source": [
    "mntpath = artes.strftime('%m')"
   ]
  },
  {
   "cell_type": "code",
   "execution_count": 83,
   "metadata": {
    "collapsed": true
   },
   "outputs": [],
   "source": [
    "fullmntz = fullyrz + '/' + mntpath"
   ]
  },
  {
   "cell_type": "code",
   "execution_count": 84,
   "metadata": {
    "collapsed": false
   },
   "outputs": [
    {
     "data": {
      "text/plain": [
       "u'/home/wcmckee/testingdir/imgs/2015/03'"
      ]
     },
     "execution_count": 84,
     "metadata": {},
     "output_type": "execute_result"
    }
   ],
   "source": [
    "fullmntz"
   ]
  },
  {
   "cell_type": "code",
   "execution_count": null,
   "metadata": {
    "collapsed": true
   },
   "outputs": [],
   "source": []
  },
  {
   "cell_type": "code",
   "execution_count": 85,
   "metadata": {
    "collapsed": true
   },
   "outputs": [],
   "source": [
    "dapth = artes.strftime('%d')"
   ]
  },
  {
   "cell_type": "code",
   "execution_count": 86,
   "metadata": {
    "collapsed": true
   },
   "outputs": [],
   "source": [
    "fulldayz = fullmntz + '/' + dapth"
   ]
  },
  {
   "cell_type": "code",
   "execution_count": 91,
   "metadata": {
    "collapsed": false
   },
   "outputs": [],
   "source": [
    "fulldirza = fulldayz + '/'"
   ]
  },
  {
   "cell_type": "code",
   "execution_count": 92,
   "metadata": {
    "collapsed": false
   },
   "outputs": [
    {
     "data": {
      "text/plain": [
       "u'/home/wcmckee/testingdir/imgs/2015/03/21/'"
      ]
     },
     "execution_count": 92,
     "metadata": {},
     "output_type": "execute_result"
    }
   ],
   "source": [
    "fulldirza"
   ]
  },
  {
   "cell_type": "code",
   "execution_count": 105,
   "metadata": {
    "collapsed": false
   },
   "outputs": [],
   "source": [
    "fuldaya = yrpath + '/' + mntpath + '/' + dapth"
   ]
  },
  {
   "cell_type": "code",
   "execution_count": 69,
   "metadata": {
    "collapsed": false
   },
   "outputs": [
    {
     "name": "stdout",
     "output_type": "stream",
     "text": [
      "its true\n"
     ]
    }
   ],
   "source": [
    "if os.path.isdir(fulldirz) == True:\n",
    "    print 'its true'\n",
    "else:\n",
    "    print 'its false'\n",
    "    os.mkdir(fulldirz)"
   ]
  },
  {
   "cell_type": "code",
   "execution_count": 78,
   "metadata": {
    "collapsed": false
   },
   "outputs": [
    {
     "name": "stdout",
     "output_type": "stream",
     "text": [
      "its false\n"
     ]
    }
   ],
   "source": [
    "if os.path.isdir(fullimgz) == True:\n",
    "    print ('its true')\n",
    "else:\n",
    "    print ('its false')\n",
    "    os.mkdir(fullimgz)"
   ]
  },
  {
   "cell_type": "code",
   "execution_count": 89,
   "metadata": {
    "collapsed": false
   },
   "outputs": [
    {
     "name": "stdout",
     "output_type": "stream",
     "text": [
      "its false\n",
      "its false\n",
      "its false\n"
     ]
    }
   ],
   "source": [
    "if os.path.isdir(fullyrz) == True:\n",
    "    print ('its true')\n",
    "else:\n",
    "    print ('its false')\n",
    "    os.mkdir(fullyrz)\n",
    "\n",
    "if os.path.isdir(fullmntz) == True:\n",
    "    print ('its true')\n",
    "else:\n",
    "    print ('its false')\n",
    "    os.mkdir(fullmntz)\n",
    "    \n",
    "if os.path.isdir(fulldayz) == True:\n",
    "    print ('its true')\n",
    "else:\n",
    "    print ('its false')\n",
    "    os.mkdir(fulldayz)"
   ]
  },
  {
   "cell_type": "code",
   "execution_count": 93,
   "metadata": {
    "collapsed": false
   },
   "outputs": [
    {
     "name": "stdout",
     "output_type": "stream",
     "text": [
      "http://i.imgur.com/0Y4X05A.jpg\n",
      "http://i.imgur.com/qs2sQSF.jpg\n",
      "http://i.imgur.com/CcXe9Vf.jpg\n",
      "http://i.imgur.com/DLla74g.jpg\n",
      "http://i.imgur.com/mVrm6kf.jpg\n",
      "http://i.imgur.com/kLUsVpC.jpg\n",
      "http://i.imgur.com/RESKejj.jpg\n",
      "http://i.imgur.com/4HgtOGO.jpg\n",
      "http://i.imgur.com/lShCJ0S.jpg\n",
      "http://i.imgur.com/d12DNT3.jpg\n"
     ]
    }
   ],
   "source": [
    "for rdz in lisrgc:\n",
    "    (rdz.title)\n",
    "    #a(rdz.url)\n",
    "    if 'http://i.imgur.com' in rdz.url:\n",
    "        #print rdz.url\n",
    "        print (rdz.url)\n",
    "        url = rdz.url\n",
    "        response = requests.get(url, stream=True)\n",
    "        with open(fulldirza + str(rdz.author) + '-reference.png', 'wb') as out_file:\n",
    "            shutil.copyfileobj(response.raw, out_file)\n",
    "            del response"
   ]
  },
  {
   "cell_type": "code",
   "execution_count": 95,
   "metadata": {
    "collapsed": true
   },
   "outputs": [],
   "source": [
    "dayphoto = os.listdir(fulldirza)"
   ]
  },
  {
   "cell_type": "code",
   "execution_count": 109,
   "metadata": {
    "collapsed": false
   },
   "outputs": [],
   "source": [
    "for dayph in dayphoto:\n",
    "    p(img('imgs/' + fuldaya + '/' + dayph, src= 'imgs/' + fuldaya + '/' + dayph))\n",
    "    \n",
    "    "
   ]
  },
  {
   "cell_type": "code",
   "execution_count": 106,
   "metadata": {
    "collapsed": false
   },
   "outputs": [
    {
     "data": {
      "text/plain": [
       "'2015/03/21'"
      ]
     },
     "execution_count": 106,
     "metadata": {},
     "output_type": "execute_result"
    }
   ],
   "source": [
    "p(img('imgs/' + fuldaya + '/' + dayph, src= 'imgs/' + fuldaya + '/' + dayph))\n"
   ]
  },
  {
   "cell_type": "code",
   "execution_count": 147,
   "metadata": {
    "collapsed": false
   },
   "outputs": [],
   "source": [
    "doc = dominate.document(title=subredlookup)\n",
    "\n",
    "with doc.head:\n",
    "    link(rel='stylesheet', href='style.css')\n",
    "    script(type ='text/javascript', src='script.js')\n",
    "    #str(str2)\n",
    "    \n",
    "    with div():\n",
    "        attr(cls='header')\n",
    "        h1(subredlookup)\n",
    "        p(img('/imgs/getsdrawn-bw.png', src='/imgs/getsdrawn-bw.png'))\n",
    "        #p(img('imgs/15/01/02/ReptileLover82-reference.png', src= 'imgs/15/01/02/ReptileLover82-reference.png'))\n",
    "        h1('Updated ', str(artes.datetime))\n",
    "        #p(panz)\n",
    "        #p(bodycom)\n",
    "    \n",
    "    \n",
    "\n",
    "with doc:\n",
    "    with div(id='body').add(ol()):\n",
    "        for dayph in dayphoto:\n",
    "            p(h1(dayph.title))\n",
    "            p(img('imgs/' + str(fuldaya + '/' + str(dayph)), src= str('imgs/' + str(fuldaya) + '/' + str(dayph))))\n",
    "            #p(p('imgs/' + str(fuldaya) + '/' + str(dayph))\n",
    "            p(str(('imgs/' + str(fuldaya) + '/' + str(dayph))))\n",
    "\n",
    "                #p(img(flc.url, src = flc.url))\n",
    "                #p((dayph.author))\n",
    "                #res = requests.get(flc.url, stream=True)\n",
    "                #with open(str(flc.author) + '-' + str(artes.date()) + '-reference.png', 'wb') as outfil:\n",
    "                #    shutil.copyfileobj(res.raw, outfil)\n",
    "                #    del res\n",
    "                \n",
    "                \n",
    "            \n",
    "        #for flcz in flc.comments:\n",
    "        #        p(flcz.body)\n",
    "        \n",
    "        \n",
    "        #for rdz in reliz:\n",
    "            #h1(rdz.title)\n",
    "            #a(rdz.url)\n",
    "            #p(img(rdz, src='%s' % rdz))\n",
    "            #print rdz\n",
    "            #p(img(rdz, src = rdz))\n",
    "            #p(rdz)\n",
    "\n",
    "\n",
    "                \n",
    "            #print rdz.url\n",
    "            #if '.jpg' in rdz.url:\n",
    "            #    img(rdz.urlz)\n",
    "            #else:\n",
    "            #    a(rdz.urlz)\n",
    "            #h1(str(rdz.author))\n",
    "            \n",
    "            #li(img(i.lower(), src='%s' % i))\n",
    "\n",
    "    #with div():\n",
    "    #    attr(cls='body')\n",
    "    #    p('GotDrawn is open source')\n",
    "    #    a('https://github.com/getsdrawn/getsdrawndotcom')\n",
    "    #    a('https://reddit.com/r/redditgetsdrawn')\n",
    "\n",
    "#print doc"
   ]
  },
  {
   "cell_type": "code",
   "execution_count": 148,
   "metadata": {
    "collapsed": false
   },
   "outputs": [
    {
     "name": "stdout",
     "output_type": "stream",
     "text": [
      "<!DOCTYPE html>\n",
      "<html>\n",
      "  <head>\n",
      "    <title>redditgetsdrawn</title>\n",
      "    <link href=\"style.css\" rel=\"stylesheet\"><script src=\"script.js\" type=\"text/javascript\"></script>\n",
      "    <div class=\"header\">\n",
      "      <h1>redditgetsdrawn</h1>\n",
      "      <p>\n",
      "        <img src=\"/imgs/getsdrawn-bw.png\">\n",
      "      </p>\n",
      "      <h1>Updated 2015-03-21 00:56:54.295874+00:00</h1>\n",
      "    </div>\n",
      "  </head>\n",
      "  <body>\n",
      "    <div id=\"body\">\n",
      "      <ol>\n",
      "        <p>\n",
      "          <img src=\"imgs/2015/03/21/pointlesspanda-reference.png\">\n",
      "        </p>\n",
      "        <p>imgs/2015/03/21/pointlesspanda-reference.png</p>\n",
      "        <p>\n",
      "          <img src=\"imgs/2015/03/21/kikiwest-reference.png\">\n",
      "        </p>\n",
      "        <p>imgs/2015/03/21/kikiwest-reference.png</p>\n",
      "        <p>\n",
      "          <img src=\"imgs/2015/03/21/adventurousnails-reference.png\">\n",
      "        </p>\n",
      "        <p>imgs/2015/03/21/adventurousnails-reference.png</p>\n",
      "        <p>\n",
      "          <img src=\"imgs/2015/03/21/petrichor182-reference.png\">\n",
      "        </p>\n",
      "        <p>imgs/2015/03/21/petrichor182-reference.png</p>\n",
      "        <p>\n",
      "          <img src=\"imgs/2015/03/21/mmmmpork-reference.png\">\n",
      "        </p>\n",
      "        <p>imgs/2015/03/21/mmmmpork-reference.png</p>\n",
      "        <p>\n",
      "          <img src=\"imgs/2015/03/21/roslynd_a-reference.png\">\n",
      "        </p>\n",
      "        <p>imgs/2015/03/21/roslynd_a-reference.png</p>\n",
      "        <p>\n",
      "          <img src=\"imgs/2015/03/21/bigmanute-reference.png\">\n",
      "        </p>\n",
      "        <p>imgs/2015/03/21/bigmanute-reference.png</p>\n",
      "        <p>\n",
      "          <img src=\"imgs/2015/03/21/luger718-reference.png\">\n",
      "        </p>\n",
      "        <p>imgs/2015/03/21/luger718-reference.png</p>\n",
      "        <p>\n",
      "          <img src=\"imgs/2015/03/21/I_am_Bearstronaut-reference.png\">\n",
      "        </p>\n",
      "        <p>imgs/2015/03/21/I_am_Bearstronaut-reference.png</p>\n",
      "        <p>\n",
      "          <img src=\"imgs/2015/03/21/kellerman72-reference.png\">\n",
      "        </p>\n",
      "        <p>imgs/2015/03/21/kellerman72-reference.png</p>\n",
      "      </ol>\n",
      "    </div>\n",
      "  </body>\n",
      "</html>\n"
     ]
    }
   ],
   "source": [
    "print doc"
   ]
  },
  {
   "cell_type": "code",
   "execution_count": 149,
   "metadata": {
    "collapsed": false
   },
   "outputs": [],
   "source": [
    "indexsav = open(gtsdrndir + '/index.html', 'w')\n",
    "#tsdrndir\n",
    "\n",
    "indexsav.write(str(doc))"
   ]
  },
  {
   "cell_type": "code",
   "execution_count": 150,
   "metadata": {
    "collapsed": true
   },
   "outputs": [],
   "source": [
    "indexsav.close()"
   ]
  },
  {
   "cell_type": "code",
   "execution_count": 151,
   "metadata": {
    "collapsed": false
   },
   "outputs": [
    {
     "name": "stdout",
     "output_type": "stream",
     "text": [
      "<!DOCTYPE html>\r\n",
      "<html>\r\n",
      "  <head>\r\n",
      "    <title>redditgetsdrawn</title>\r\n",
      "    <link href=\"style.css\" rel=\"stylesheet\"><script src=\"script.js\" type=\"text/javascript\"></script>\r\n",
      "    <div class=\"header\">\r\n",
      "      <h1>redditgetsdrawn</h1>\r\n",
      "      <p>\r\n",
      "        <img src=\"/imgs/getsdrawn-bw.png\">\r\n",
      "      </p>\r\n",
      "      <h1>Updated 2015-03-21 00:56:54.295874+00:00</h1>\r\n",
      "    </div>\r\n",
      "  </head>\r\n",
      "  <body>\r\n",
      "    <div id=\"body\">\r\n",
      "      <ol>\r\n",
      "        <p>\r\n",
      "          <img src=\"imgs/2015/03/21/pointlesspanda-reference.png\">\r\n",
      "        </p>\r\n",
      "        <p>imgs/2015/03/21/pointlesspanda-reference.png</p>\r\n",
      "        <p>\r\n",
      "          <img src=\"imgs/2015/03/21/kikiwest-reference.png\">\r\n",
      "        </p>\r\n",
      "        <p>imgs/2015/03/21/kikiwest-reference.png</p>\r\n",
      "        <p>\r\n",
      "          <img src=\"imgs/2015/03/21/adventurousnails-reference.png\">\r\n",
      "        </p>\r\n",
      "        <p>imgs/2015/03/21/adventurousnails-reference.png</p>\r\n",
      "        <p>\r\n",
      "          <img src=\"imgs/2015/03/21/petrichor182-reference.png\">\r\n",
      "        </p>\r\n",
      "        <p>imgs/2015/03/21/petrichor182-reference.png</p>\r\n",
      "        <p>\r\n",
      "          <img src=\"imgs/2015/03/21/mmmmpork-reference.png\">\r\n",
      "        </p>\r\n",
      "        <p>imgs/2015/03/21/mmmmpork-reference.png</p>\r\n",
      "        <p>\r\n",
      "          <img src=\"imgs/2015/03/21/roslynd_a-reference.png\">\r\n",
      "        </p>\r\n",
      "        <p>imgs/2015/03/21/roslynd_a-reference.png</p>\r\n",
      "        <p>\r\n",
      "          <img src=\"imgs/2015/03/21/bigmanute-reference.png\">\r\n",
      "        </p>\r\n",
      "        <p>imgs/2015/03/21/bigmanute-reference.png</p>\r\n",
      "        <p>\r\n",
      "          <img src=\"imgs/2015/03/21/luger718-reference.png\">\r\n",
      "        </p>\r\n",
      "        <p>imgs/2015/03/21/luger718-reference.png</p>\r\n",
      "        <p>\r\n",
      "          <img src=\"imgs/2015/03/21/I_am_Bearstronaut-reference.png\">\r\n",
      "        </p>\r\n",
      "        <p>imgs/2015/03/21/I_am_Bearstronaut-reference.png</p>\r\n",
      "        <p>\r\n",
      "          <img src=\"imgs/2015/03/21/kellerman72-reference.png\">\r\n",
      "        </p>\r\n",
      "        <p>imgs/2015/03/21/kellerman72-reference.png</p>\r\n",
      "      </ol>\r\n",
      "    </div>\r\n",
      "  </body>\r\n",
      "</html>"
     ]
    }
   ],
   "source": [
    "cat /home/wcmckee/testingdir/index.html"
   ]
  },
  {
   "cell_type": "code",
   "execution_count": 146,
   "metadata": {
    "collapsed": true
   },
   "outputs": [],
   "source": []
  },
  {
   "cell_type": "code",
   "execution_count": null,
   "metadata": {
    "collapsed": true
   },
   "outputs": [],
   "source": []
  }
 ],
 "metadata": {
  "kernelspec": {
   "display_name": "Python 2",
   "name": "python2"
  },
  "language_info": {
   "codemirror_mode": {
    "name": "ipython",
    "version": 2
   },
   "file_extension": ".py",
   "mimetype": "text/x-python",
   "name": "python",
   "nbconvert_exporter": "python",
   "pygments_lexer": "ipython2",
   "version": "2.7.9"
  }
 },
 "nbformat": 4,
 "nbformat_minor": 0
}
