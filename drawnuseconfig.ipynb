{
 "cells": [
  {
   "cell_type": "markdown",
   "metadata": {},
   "source": [
    "<h1>Drawn Use Config</h1>\n",
    "\n",
    "This script uses the config file created with configdraw to run the getsdrawndotcom script. \n",
    "\n",
    "This script must open and read the config file created with configdraw. It then uses the var in the config file to run the getsdrawndotcom script"
   ]
  },
  {
   "cell_type": "code",
   "execution_count": 78,
   "metadata": {
    "collapsed": true
   },
   "outputs": [],
   "source": [
    "import configparser\n",
    "import os \n",
    "import requests\n",
    "from bs4 import BeautifulSoup\n",
    "import re\n",
    "import json\n",
    "import time\n",
    "import praw\n",
    "import dominate\n",
    "from dominate.tags import * \n",
    "import arrow\n",
    "import getpass"
   ]
  },
  {
   "cell_type": "code",
   "execution_count": 79,
   "metadata": {
    "collapsed": true
   },
   "outputs": [],
   "source": [
    "confidg = configparser.RawConfigParser()"
   ]
  },
  {
   "cell_type": "code",
   "execution_count": 80,
   "metadata": {
    "collapsed": false
   },
   "outputs": [
    {
     "data": {
      "text/plain": [
       "['/home/wcmckee/gotdrawn/config.cfg']"
      ]
     },
     "execution_count": 80,
     "metadata": {},
     "output_type": "execute_result"
    }
   ],
   "source": [
    "confidg.read('/home/wcmckee/gotdrawn/config.cfg')"
   ]
  },
  {
   "cell_type": "code",
   "execution_count": 81,
   "metadata": {
    "collapsed": false
   },
   "outputs": [],
   "source": [
    "subredlookup =  confidg.get('subredinfo', 'subbreddit')"
   ]
  },
  {
   "cell_type": "code",
   "execution_count": 82,
   "metadata": {
    "collapsed": false
   },
   "outputs": [],
   "source": [
    "dirpathz = confidg.get('subredinfo', 'dirpath')"
   ]
  },
  {
   "cell_type": "code",
   "execution_count": 83,
   "metadata": {
    "collapsed": false
   },
   "outputs": [
    {
     "data": {
      "text/plain": [
       "u'redditgetsdrawn'"
      ]
     },
     "execution_count": 83,
     "metadata": {},
     "output_type": "execute_result"
    }
   ],
   "source": [
    "subredlookup"
   ]
  },
  {
   "cell_type": "code",
   "execution_count": 84,
   "metadata": {
    "collapsed": true
   },
   "outputs": [],
   "source": [
    "hosnam = getpass.getuser()\n",
    "gtsdrndir = ('/home/' + hosnam + '/' + dirpathz)"
   ]
  },
  {
   "cell_type": "code",
   "execution_count": 85,
   "metadata": {
    "collapsed": false
   },
   "outputs": [
    {
     "name": "stdout",
     "output_type": "stream",
     "text": [
      "its false\n"
     ]
    }
   ],
   "source": [
    "if os.path.isdir(gtsdrndir) == True:\n",
    "    print 'its true'\n",
    "else:\n",
    "    print 'its false'\n",
    "    os.mkdir(gtsdrndir)"
   ]
  },
  {
   "cell_type": "code",
   "execution_count": 86,
   "metadata": {
    "collapsed": true
   },
   "outputs": [],
   "source": [
    "r = praw.Reddit(user_agent='getsdrawndotcom')"
   ]
  },
  {
   "cell_type": "code",
   "execution_count": 87,
   "metadata": {
    "collapsed": true
   },
   "outputs": [],
   "source": [
    "getnewr = r.get_subreddit(subredlookup)"
   ]
  },
  {
   "cell_type": "code",
   "execution_count": 88,
   "metadata": {
    "collapsed": true
   },
   "outputs": [],
   "source": [
    "rdnew = getnewr.get_new()"
   ]
  },
  {
   "cell_type": "code",
   "execution_count": 89,
   "metadata": {
    "collapsed": true
   },
   "outputs": [],
   "source": [
    "lisrgc = []\n",
    "lisauth = []\n"
   ]
  },
  {
   "cell_type": "code",
   "execution_count": 90,
   "metadata": {
    "collapsed": true
   },
   "outputs": [],
   "source": [
    "for uz in rdnew:\n",
    "    #print uz\n",
    "    lisrgc.append(uz)"
   ]
  },
  {
   "cell_type": "code",
   "execution_count": 91,
   "metadata": {
    "collapsed": false
   },
   "outputs": [],
   "source": [
    "gtdrndic = dict()"
   ]
  },
  {
   "cell_type": "code",
   "execution_count": 92,
   "metadata": {
    "collapsed": false
   },
   "outputs": [
    {
     "name": "stdout",
     "output_type": "stream",
     "text": [
      "1 :: My favourite picture of me, me with a mannequin leg.\n",
      "1 :: I would love if someone could draw me doing what I love, belly dance.\n",
      "1 :: thought this was a cool picture of me. Anyone care to draw it? anyway yo...\n",
      "1 :: I was hoping someone could morph me into a \"Jake\" like character style f...\n",
      "1 :: Can someone draw my son and his crazy hair?\n",
      "2 :: me hiking in yellowstone national park\n",
      "11 :: Thought it'd be pretty cool to get a drawing of myself!\n",
      "1 :: My daughter stealing her daddy's nose.\n",
      "2 :: My daughter dressed as Cinderella!\n",
      "10 :: I'm not sure if this photosphere of my son will be a very good subject ...\n",
      "1 :: My cousin has just had a beautiful boy and I'd love to give him a gift! ...\n",
      "2 :: My brother and his fiancée are finally getting married! Does reddit want...\n",
      "1 :: I'm convinced my dog genuinely enjoys modeling for me. Any styles welcom...\n",
      "0 :: Tenny- Our Lab on High Alert\n",
      "10 :: Anyone want to draw my three roommates and I? (I'm the one with the mus...\n",
      "2 :: My girlfriend and I just got pictures taken and this is my favorite one ...\n",
      "25 :: I peaked in coolness at age 7. I'd love if you could draw me and my dog...\n",
      "1 :: This is my mother and me when I was 5 years old. I'll be there for her a...\n",
      "3 :: My soon to be wife is celebrating her birthday soon, and our 2 year anni...\n",
      "516 :: This photo always makes me laugh - my husband and his best friend/best...\n",
      "7 :: This is me and my best friend and id love to get some artwork of us toge...\n",
      "13 :: Can someone please draw my favorite pic? Me and my friends, 1st day of ...\n",
      "13 :: My dad in the most amazing setting in Scotland\n",
      "0 :: Would you please draw my best friend ;)\n",
      "2 :: If you guys drew my nephew meeting his baby sister, it would be the best...\n"
     ]
    }
   ],
   "source": [
    "for itzza in lisrgc:\n",
    "    print itzza"
   ]
  },
  {
   "cell_type": "code",
   "execution_count": 96,
   "metadata": {
    "collapsed": false
   },
   "outputs": [],
   "source": [
    "fulldirz = gtsdrndir + '/'"
   ]
  },
  {
   "cell_type": "code",
   "execution_count": 97,
   "metadata": {
    "collapsed": false
   },
   "outputs": [
    {
     "data": {
      "text/plain": [
       "u'/home/wcmckee/testingdir/'"
      ]
     },
     "execution_count": 97,
     "metadata": {},
     "output_type": "execute_result"
    }
   ],
   "source": [
    "fulldirz"
   ]
  },
  {
   "cell_type": "code",
   "execution_count": null,
   "metadata": {
    "collapsed": false
   },
   "outputs": [],
   "source": [
    "for rdz in lisrgc:\n",
    "    (rdz.title)\n",
    "    #a(rdz.url)\n",
    "    if 'http://i.imgur.com' in rdz.url:\n",
    "        #print rdz.url\n",
    "        print (rdz.url)\n",
    "        url = rdz.url\n",
    "        response = requests.get(url, stream=True)\n",
    "        with open(fulldirz + str(rdz.author) + '-reference.png', 'wb') as out_file:\n",
    "            shutil.copyfileobj(response.raw, out_file)\n",
    "            del response"
   ]
  },
  {
   "cell_type": "code",
   "execution_count": null,
   "metadata": {
    "collapsed": true
   },
   "outputs": [],
   "source": []
  }
 ],
 "metadata": {
  "kernelspec": {
   "display_name": "Python 2",
   "name": "python2"
  },
  "language_info": {
   "codemirror_mode": {
    "name": "ipython",
    "version": 2
   },
   "file_extension": ".py",
   "mimetype": "text/x-python",
   "name": "python",
   "nbconvert_exporter": "python",
   "pygments_lexer": "ipython2",
   "version": "2.7.8"
  }
 },
 "nbformat": 4,
 "nbformat_minor": 0
}
