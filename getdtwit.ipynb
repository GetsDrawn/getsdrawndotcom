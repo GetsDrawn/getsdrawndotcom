{
 "cells": [
  {
   "cell_type": "code",
   "execution_count": 2,
   "metadata": {
    "collapsed": true
   },
   "outputs": [],
   "source": [
    "from TwitterFollowBot import TwitterBot\n",
    "import time"
   ]
  },
  {
   "cell_type": "code",
   "execution_count": 3,
   "metadata": {
    "collapsed": true
   },
   "outputs": [],
   "source": [
    "my_bot = TwitterBot()"
   ]
  },
  {
   "cell_type": "code",
   "execution_count": 4,
   "metadata": {
    "collapsed": true
   },
   "outputs": [],
   "source": [
    "my_bot.sync_follows()\n"
   ]
  },
  {
   "cell_type": "code",
   "execution_count": 5,
   "metadata": {
    "collapsed": false
   },
   "outputs": [
    {
     "name": "stdout",
     "output_type": "stream",
     "text": [
      "retweeted: b'RT @KungFuUniverse: I want to build a staircase like this in my yard!\\n\\n#zen #stairs #itwillbemine #ohyesitwillbemine\\xe2\\x80\\xa6 https://t.co/iA92hsyW\\xe2\\x80\\xa6'\n",
      "retweeted: b'RT @jihankin: Photo: RGD_ItWillBeMine BANNED! http://t.co/WiTUKGGfDf'\n",
      "retweeted: b'RT @redditartnetwrk: Photo: obeymybrain: RedditGetsDrawn no. 281 for u/ItWillBeMine Speedpaint: https://t.co/TEmTI5Sucd... http://t.co/QYym\\xe2\\x80\\xa6'\n",
      "retweeted: b'RT @redditartnetwrk: Photo: defdac: RedditGetsDrawn for /u/ItWillBeMine #redditgetsdrawn #headofrgd #portrait #girl #smile... http://t.co/4\\xe2\\x80\\xa6'\n",
      "retweeted: b'RT @redditartnetwrk: Photo: jonathanhankin: RGD_ItWillBeMine http://t.co/UrY8NOIdvN'\n",
      "retweeted: b'RT @bschildt: Photo: Itwillbemine http://t.co/qHgUwUjBex'\n",
      "retweeted: b'RT @jihankin: Photo: RGD_ItWillBeMine http://t.co/7ZSt9Ps3No'\n",
      "retweeted: b'RT @defdac: RedditGetsDrawn for /u/ItWillBeMine #redditgetsdrawn #headofrgd #portrait #girl #smile #impressionism\\xe2\\x80\\xa6 https://t.co/60vLW9strF'\n",
      "retweeted: b'RT @ObeyMyBrain: #RedditGetsDrawn no. 281 for u/ItWillBeMine\\n\\n#Speedpaint: https://t.co/WqoOVOgIT2\\n\\nhttps://t.co/xsOKRkmII7 http://t.co/6xO\\xe2\\x80\\xa6'\n",
      "retweeted: b'RT @robscottbowen: Would love to have a @strymon big sky on my board! #oneday #itwillbemine'\n",
      "retweeted: b\"RT @AdorablyNuts: Double or nothing @MeanGorgeous?\\nThere's a  turtle padding pool I have my eye on.\\n#ItWillBeMine #Walmart #CallistaDidIt #\\xe2\\x80\\xa6\"\n",
      "retweeted: b'RT @wcmckeedotcom: @madmarcel I got banned from redditgetsdrawn because of my art. itwillbemine is a horrible person.'\n",
      "retweeted: b'RT @KiltedComics: @HooliganLili I must have one!!!  #itwillbemine #OHYESOHYES #itwillbemine'\n",
      "retweeted: b'RT @FenwickBOOM: @RealMickFoley where do you get that t shirt? I want it!!! #itwillbemine #ohyes'\n",
      "retweeted: b'RT @brainfreeeze: It will be mine #itwillbemine https://t.co/hCzzZoMSLQ'\n",
      "retweeted: b'RT @TheRangerTalk: I love these figure. #itwillbemine! http://t.co/5NOIww7ygX'\n",
      "error: Twitter sent status 403 for URL: 1.1/statuses/retweet/625843194958348288.json using parameters: (oauth_consumer_key=q7QVydSsMPOZywboW0yfbZlby&oauth_nonce=11176818158971751962&oauth_signature_method=HMAC-SHA1&oauth_timestamp=1438733881&oauth_token=3297558763-xye8C1ne208jaw4FM35NdtPxhiiYcXnZBSp6UbI&oauth_version=1.0&oauth_signature=nxlPa8Sl%2FkasQQE37uZ5ETWiqdk%3D)\n",
      "details: {'errors': [{'code': 327, 'message': 'You have already retweeted this tweet.'}]}\n",
      "retweeted: b'RT @laurasrms: @keeks35 that last part made me chuckle! #itwillbemine \\xf0\\x9f\\x90\\x93\\xf0\\x9f\\x90\\x94'\n"
     ]
    }
   ],
   "source": [
    "my_bot.auto_rt(\"itwillbemine\", count=1000)\n"
   ]
  },
  {
   "cell_type": "code",
   "execution_count": 6,
   "metadata": {
    "collapsed": false
   },
   "outputs": [
    {
     "name": "stdout",
     "output_type": "stream",
     "text": [
      "followed redditartnetwrk\n",
      "followed defdac\n",
      "followed KMRussellart\n",
      "followed LRMC10\n",
      "followed carterartist\n",
      "followed harrietalicefox\n",
      "followed imLauraDavis\n",
      "followed giftedstrings\n",
      "followed Tolemach\n",
      "followed VeroniqueTT1\n",
      "followed madmarcel\n",
      "followed zeruch\n",
      "followed FlappyTeam\n",
      "followed CowboyGamedevBt\n",
      "followed indiegamesdevel\n",
      "followed TheIndieSloth\n"
     ]
    }
   ],
   "source": [
    "my_bot.auto_follow(\"#redditgetsdrawn\")"
   ]
  },
  {
   "cell_type": "code",
   "execution_count": null,
   "metadata": {
    "collapsed": true
   },
   "outputs": [],
   "source": []
  }
 ],
 "metadata": {
  "kernelspec": {
   "display_name": "Python 3",
   "language": "python",
   "name": "python3"
  },
  "language_info": {
   "codemirror_mode": {
    "name": "ipython",
    "version": 3
   },
   "file_extension": ".py",
   "mimetype": "text/x-python",
   "name": "python",
   "nbconvert_exporter": "python",
   "pygments_lexer": "ipython3",
   "version": "3.4.2"
  }
 },
 "nbformat": 4,
 "nbformat_minor": 0
}
