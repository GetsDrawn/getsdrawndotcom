{
 "cells": [
  {
   "cell_type": "markdown",
   "metadata": {},
   "source": [
    "GotDrawn\n",
    "\n",
    "Taking getsdrawndotcom code and adding in features such as comments.\n",
    "Getting rid of folder structure. "
   ]
  },
  {
   "cell_type": "code",
   "execution_count": 49,
   "metadata": {
    "collapsed": true
   },
   "outputs": [],
   "source": [
    "import os\n",
    "import requests\n",
    "\n",
    "import re\n",
    "import json\n",
    "import arrow\n",
    "\n",
    "import praw\n",
    "\n",
    "import dominate\n",
    "\n",
    "from dominate.tags import * \n",
    "\n",
    "import shutil\n",
    "\n"
   ]
  },
  {
   "cell_type": "code",
   "execution_count": 28,
   "metadata": {
    "collapsed": true
   },
   "outputs": [],
   "source": [
    "gotdrndir = ('/home/wcmckee/gotdrawn')"
   ]
  },
  {
   "cell_type": "code",
   "execution_count": 29,
   "metadata": {
    "collapsed": true
   },
   "outputs": [],
   "source": [
    "r = praw.Reddit(user_agent='getsdrawndotcom')"
   ]
  },
  {
   "cell_type": "code",
   "execution_count": 30,
   "metadata": {
    "collapsed": true
   },
   "outputs": [],
   "source": [
    "fulcom = []\n",
    "fuldic = dict()"
   ]
  },
  {
   "cell_type": "code",
   "execution_count": 31,
   "metadata": {
    "collapsed": true
   },
   "outputs": [],
   "source": [
    "getrn = r.get_subreddit('redditgetsdrawn')"
   ]
  },
  {
   "cell_type": "code",
   "execution_count": 32,
   "metadata": {
    "collapsed": true
   },
   "outputs": [],
   "source": [
    "rnew = getrn.get_new()"
   ]
  },
  {
   "cell_type": "code",
   "execution_count": 42,
   "metadata": {
    "collapsed": false
   },
   "outputs": [],
   "source": [
    "for rnc in rnew:\n",
    "    fulcom.append(rnc)"
   ]
  },
  {
   "cell_type": "code",
   "execution_count": 44,
   "metadata": {
    "collapsed": false
   },
   "outputs": [],
   "source": [
    "artes = arrow.utcnow()"
   ]
  },
  {
   "cell_type": "code",
   "execution_count": 48,
   "metadata": {
    "collapsed": false
   },
   "outputs": [
    {
     "name": "stdout",
     "output_type": "stream",
     "text": [
      "2015-02-20\n"
     ]
    }
   ],
   "source": [
    "print artes.date()"
   ]
  },
  {
   "cell_type": "code",
   "execution_count": 51,
   "metadata": {
    "collapsed": true
   },
   "outputs": [],
   "source": [
    "os.chdir('/home/wcmckee/gotdrawn/')"
   ]
  },
  {
   "cell_type": "code",
   "execution_count": 54,
   "metadata": {
    "collapsed": false
   },
   "outputs": [
    {
     "name": "stdout",
     "output_type": "stream",
     "text": [
      "Would you be willing to draw my cousin and her husband for his birthday? I know they'd love it! :)\n",
      "http://i.imgur.com/T7HXEBg.jpg\n",
      "ram1n\n",
      "My wife almost 19 years of marriage, can someone draw her?\n",
      "http://i.imgur.com/WGBgq9V.jpg\n",
      "tubarao2002\n",
      "Can anyone draw this photo of my grandma taken when she was dating my grandpa?\n",
      "http://i.imgur.com/c6OkHru.jpg\n",
      "sailorchell\n",
      "[link](http://i.imgur.com/OJb0KU1.png)\n",
      "\n",
      "Quick little digital sketch :)\n",
      "http://imgur.com/iAqHIdM\n",
      "You will have to settle for a white board drawing wh...\n",
      "here's a [colored pencil](http://i.imgur.com/YjfBTQ6.jpg) sketch for ya\n",
      "\n",
      "[sketch!  ](http://imgur.com/t2xzHOi.jpg)\n",
      "\n",
      "edit: [worked on it more](http://...\n",
      "Care to draw me viewing the White Cliffs of Dover?\n",
      "http://i.imgur.com/X8s3IjD.jpg\n",
      "sentimentation\n",
      "My sister, unaware she had sniffed the flowers so closely. I thought it might be fun to draw.\n",
      "http://i.imgur.com/htDfAdx.jpg\n",
      "moulinroux\n",
      "Good thing we know where pollen comes from. http://i.imgur.com/ulHswb8.png\n",
      "I'd love to see you guys draw my son in some cool outfits! (any and all styles welcome!)\n",
      "http://i.imgur.com/2xYauWV.jpg\n",
      "seriousherenow\n",
      "Can someone draw this older photo of my daughter?\n",
      "http://i.imgur.com/FY8PMO1.jpg\n",
      "zombreness\n",
      "Can anyone draw my neice? So cute we put her in the bin (not a real bin)\n",
      "http://i.imgur.com/pogoa6j.jpg\n",
      "emotionalbeever\n",
      "Hey RGD! I would love to have my beautiful bestfriend drawn. It would make an amazing gift. Thanks. :)\n",
      "http://i.imgur.com/OMO6GPc.jpg\n",
      "Dispersonated\n",
      "[Imgur](http://i.imgur.com/7SKIKrA.png)\n",
      "[deleted]\n",
      "My first time trying to draw a person.\n",
      "[Reddit Girl](http://imgur.com/gallery...\n",
      "It's lambing season! Here's me and yesterday's newborn!\n",
      "http://i.imgur.com/pVC2HLZ.jpg\n",
      "obsessedwithmydog\n",
      "Here's a quick sketch :P\n",
      "\n",
      "http://i.imgur.com/XC5ByjD.jpg\n",
      "[Bahh :3](http://ycsketch.blogspot.com/2015/02/rredditgetsdrawn-uobsessedwith...\n"
     ]
    }
   ],
   "source": [
    "for flc in fulcom:\n",
    "    if 'http://i.imgur.com' in flc.url:\n",
    "        print flc.title\n",
    "        print flc.url\n",
    "        print flc.author\n",
    "        res = requests.get(flc.url, stream=True)\n",
    "        with open(str(flc.author) + '-' + str(artes.date()) + '-reference.png', 'wb') as outfil:\n",
    "            shutil.copyfileobj(res.raw, outfil)\n",
    "            del res\n",
    "            \n",
    "        for flcz in flc.comments:\n",
    "            print flcz"
   ]
  },
  {
   "cell_type": "code",
   "execution_count": null,
   "metadata": {
    "collapsed": true
   },
   "outputs": [],
   "source": []
  },
  {
   "cell_type": "code",
   "execution_count": null,
   "metadata": {
    "collapsed": true
   },
   "outputs": [],
   "source": []
  },
  {
   "cell_type": "code",
   "execution_count": null,
   "metadata": {
    "collapsed": true
   },
   "outputs": [],
   "source": []
  },
  {
   "cell_type": "code",
   "execution_count": null,
   "metadata": {
    "collapsed": true
   },
   "outputs": [],
   "source": []
  }
 ],
 "metadata": {
  "kernelspec": {
   "display_name": "Python 2",
   "name": "python2"
  },
  "language_info": {
   "codemirror_mode": {
    "name": "ipython",
    "version": 2
   },
   "file_extension": ".py",
   "mimetype": "text/x-python",
   "name": "python",
   "nbconvert_exporter": "python",
   "pygments_lexer": "ipython2",
   "version": "2.7.8"
  }
 },
 "nbformat": 4,
 "nbformat_minor": 0
}
