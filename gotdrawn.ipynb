{
 "cells": [
  {
   "cell_type": "markdown",
   "metadata": {},
   "source": [
    "GotDrawn\n",
    "\n",
    "Updating GetsDrawnDotCom with title feature.\n",
    "\n",
    "Taking getsdrawndotcom code and adding in features such as comments.\n",
    "Getting rid of folder structure. "
   ]
  },
  {
   "cell_type": "code",
   "execution_count": 159,
   "metadata": {
    "collapsed": true
   },
   "outputs": [],
   "source": []
  },
  {
   "cell_type": "code",
   "execution_count": 217,
   "metadata": {
    "collapsed": false
   },
   "outputs": [],
   "source": [
    "import os\n",
    "import requests\n",
    "\n",
    "import re\n",
    "import json\n",
    "import arrow\n",
    "\n",
    "import praw\n",
    "\n",
    "import dominate\n",
    "\n",
    "from dominate.tags import * \n",
    "\n",
    "import shutil\n",
    "\n",
    "from time import gmtime, strftime\n"
   ]
  },
  {
   "cell_type": "code",
   "execution_count": 217,
   "metadata": {
    "collapsed": true
   },
   "outputs": [],
   "source": []
  },
  {
   "cell_type": "code",
   "execution_count": 217,
   "metadata": {
    "collapsed": true
   },
   "outputs": [],
   "source": []
  },
  {
   "cell_type": "code",
   "execution_count": 217,
   "metadata": {
    "collapsed": true
   },
   "outputs": [],
   "source": []
  },
  {
   "cell_type": "code",
   "execution_count": 217,
   "metadata": {
    "collapsed": true
   },
   "outputs": [],
   "source": []
  },
  {
   "cell_type": "code",
   "execution_count": 218,
   "metadata": {
    "collapsed": true
   },
   "outputs": [],
   "source": [
    "gotdrndir = ('/home/wcmckee/gotdrawn/imgs')"
   ]
  },
  {
   "cell_type": "code",
   "execution_count": 220,
   "metadata": {
    "collapsed": false
   },
   "outputs": [
    {
     "name": "stdout",
     "output_type": "stream",
     "text": [
      "Version 2.1.19 of praw is outdated. Version 2.1.20 was released Friday January 23, 2015.\n"
     ]
    }
   ],
   "source": [
    "r = praw.Reddit(user_agent='getsdrawndotcom')"
   ]
  },
  {
   "cell_type": "code",
   "execution_count": 221,
   "metadata": {
    "collapsed": true
   },
   "outputs": [],
   "source": [
    "fulcom = []\n",
    "fuldic = dict()"
   ]
  },
  {
   "cell_type": "code",
   "execution_count": 222,
   "metadata": {
    "collapsed": true
   },
   "outputs": [],
   "source": [
    "getrn = r.get_subreddit('redditgetsdrawn')"
   ]
  },
  {
   "cell_type": "code",
   "execution_count": 223,
   "metadata": {
    "collapsed": true
   },
   "outputs": [],
   "source": [
    "rnew = getrn.get_new()"
   ]
  },
  {
   "cell_type": "code",
   "execution_count": 224,
   "metadata": {
    "collapsed": false
   },
   "outputs": [],
   "source": [
    "for rnc in rnew:\n",
    "    fulcom.append(rnc)"
   ]
  },
  {
   "cell_type": "code",
   "execution_count": 225,
   "metadata": {
    "collapsed": false
   },
   "outputs": [],
   "source": [
    "artes = arrow.utcnow()"
   ]
  },
  {
   "cell_type": "code",
   "execution_count": 226,
   "metadata": {
    "collapsed": false
   },
   "outputs": [],
   "source": [
    "yrpath = artes.strftime('%Y')"
   ]
  },
  {
   "cell_type": "code",
   "execution_count": 226,
   "metadata": {
    "collapsed": true
   },
   "outputs": [],
   "source": []
  },
  {
   "cell_type": "code",
   "execution_count": 227,
   "metadata": {
    "collapsed": false
   },
   "outputs": [],
   "source": [
    "mntpath = artes.strftime('%m')"
   ]
  },
  {
   "cell_type": "code",
   "execution_count": 228,
   "metadata": {
    "collapsed": false
   },
   "outputs": [],
   "source": [
    "dapth = artes.strftime('%d')"
   ]
  },
  {
   "cell_type": "code",
   "execution_count": 229,
   "metadata": {
    "collapsed": false
   },
   "outputs": [
    {
     "name": "stdout",
     "output_type": "stream",
     "text": [
      "its true\n"
     ]
    }
   ],
   "source": [
    "if os.path.isdir(gotdrndir) == True:\n",
    "    print 'its true'\n",
    "else:\n",
    "    print 'its false'\n",
    "    os.mkdir(gotdrndir)"
   ]
  },
  {
   "cell_type": "code",
   "execution_count": 230,
   "metadata": {
    "collapsed": false
   },
   "outputs": [],
   "source": [
    "imgszpath = (gotdrndir)\n",
    "yrzpat = (imgszpath + '/' + yrpath)\n",
    "mntzpat = (yrzpat + '/' + mntpath)\n",
    "datzpat = (mntzpat + '/' + dapth)"
   ]
  },
  {
   "cell_type": "code",
   "execution_count": 230,
   "metadata": {
    "collapsed": true
   },
   "outputs": [],
   "source": []
  },
  {
   "cell_type": "code",
   "execution_count": 231,
   "metadata": {
    "collapsed": false
   },
   "outputs": [
    {
     "data": {
      "text/plain": [
       "'/home/wcmckee/gotdrawn/imgs'"
      ]
     },
     "execution_count": 231,
     "metadata": {},
     "output_type": "execute_result"
    }
   ],
   "source": [
    "imgszpath"
   ]
  },
  {
   "cell_type": "code",
   "execution_count": 265,
   "metadata": {
    "collapsed": false
   },
   "outputs": [],
   "source": [
    "dayform = ('/imgs/' + yrpath + '/' + mntpath + '/' + dapth)"
   ]
  },
  {
   "cell_type": "code",
   "execution_count": 233,
   "metadata": {
    "collapsed": false
   },
   "outputs": [
    {
     "data": {
      "text/plain": [
       "'imgs/2015/02/22'"
      ]
     },
     "execution_count": 233,
     "metadata": {},
     "output_type": "execute_result"
    }
   ],
   "source": [
    "dayform"
   ]
  },
  {
   "cell_type": "code",
   "execution_count": 233,
   "metadata": {
    "collapsed": true
   },
   "outputs": [],
   "source": []
  },
  {
   "cell_type": "code",
   "execution_count": 234,
   "metadata": {
    "collapsed": false
   },
   "outputs": [
    {
     "name": "stdout",
     "output_type": "stream",
     "text": [
      "its true\n"
     ]
    }
   ],
   "source": [
    "if os.path.isdir(yrzpat) == True:\n",
    "    print 'its true'\n",
    "else:\n",
    "    print 'its false'\n",
    "    os.mkdir(yrzpat)"
   ]
  },
  {
   "cell_type": "code",
   "execution_count": 235,
   "metadata": {
    "collapsed": false
   },
   "outputs": [
    {
     "name": "stdout",
     "output_type": "stream",
     "text": [
      "its true\n"
     ]
    }
   ],
   "source": [
    "if os.path.isdir(mntzpat) == True:\n",
    "    print 'its true'\n",
    "else:\n",
    "    print 'its false'\n",
    "    os.mkdir(mntzpat)"
   ]
  },
  {
   "cell_type": "code",
   "execution_count": 236,
   "metadata": {
    "collapsed": false
   },
   "outputs": [
    {
     "name": "stdout",
     "output_type": "stream",
     "text": [
      "its false\n"
     ]
    }
   ],
   "source": [
    "if os.path.isdir(datzpat) == True:\n",
    "    print 'its true'\n",
    "else:\n",
    "    print 'its false'\n",
    "    os.mkdir(datzpat)"
   ]
  },
  {
   "cell_type": "code",
   "execution_count": 237,
   "metadata": {
    "collapsed": false
   },
   "outputs": [
    {
     "data": {
      "text/plain": [
       "'/home/wcmckee/gotdrawn/imgs/2015/02/22'"
      ]
     },
     "execution_count": 237,
     "metadata": {},
     "output_type": "execute_result"
    }
   ],
   "source": [
    "datzpat"
   ]
  },
  {
   "cell_type": "code",
   "execution_count": 237,
   "metadata": {
    "collapsed": true
   },
   "outputs": [],
   "source": []
  },
  {
   "cell_type": "code",
   "execution_count": 237,
   "metadata": {
    "collapsed": true
   },
   "outputs": [],
   "source": []
  },
  {
   "cell_type": "code",
   "execution_count": 238,
   "metadata": {
    "collapsed": false
   },
   "outputs": [
    {
     "data": {
      "text/plain": [
       "'/home/wcmckee/gotdrawn/imgs/2015/02'"
      ]
     },
     "execution_count": 238,
     "metadata": {},
     "output_type": "execute_result"
    }
   ],
   "source": [
    "mntzpat"
   ]
  },
  {
   "cell_type": "code",
   "execution_count": 239,
   "metadata": {
    "collapsed": false
   },
   "outputs": [
    {
     "data": {
      "text/plain": [
       "'/home/wcmckee/gotdrawn/imgs/2015/02/22'"
      ]
     },
     "execution_count": 239,
     "metadata": {},
     "output_type": "execute_result"
    }
   ],
   "source": [
    "datzpat"
   ]
  },
  {
   "cell_type": "code",
   "execution_count": 239,
   "metadata": {
    "collapsed": true
   },
   "outputs": [],
   "source": []
  },
  {
   "cell_type": "code",
   "execution_count": 239,
   "metadata": {
    "collapsed": true
   },
   "outputs": [],
   "source": []
  },
  {
   "cell_type": "code",
   "execution_count": 239,
   "metadata": {
    "collapsed": true
   },
   "outputs": [],
   "source": []
  },
  {
   "cell_type": "code",
   "execution_count": 240,
   "metadata": {
    "collapsed": false
   },
   "outputs": [
    {
     "name": "stdout",
     "output_type": "stream",
     "text": [
      "its false\n"
     ]
    }
   ],
   "source": [
    "if os.path.isdir(yrpath) == True:\n",
    "    print 'its true'\n",
    "else:\n",
    "    print 'its false'\n",
    "    os.mkdir(yrpath)"
   ]
  },
  {
   "cell_type": "code",
   "execution_count": 241,
   "metadata": {
    "collapsed": true
   },
   "outputs": [],
   "source": [
    "#mthzpath = (yrzpat + '/' + "
   ]
  },
  {
   "cell_type": "code",
   "execution_count": 242,
   "metadata": {
    "collapsed": true
   },
   "outputs": [],
   "source": [
    "#if os.path("
   ]
  },
  {
   "cell_type": "code",
   "execution_count": 242,
   "metadata": {
    "collapsed": true
   },
   "outputs": [],
   "source": []
  },
  {
   "cell_type": "code",
   "execution_count": 243,
   "metadata": {
    "collapsed": false
   },
   "outputs": [
    {
     "name": "stdout",
     "output_type": "stream",
     "text": [
      "2015-02-22\n"
     ]
    }
   ],
   "source": [
    "print artes.date()"
   ]
  },
  {
   "cell_type": "code",
   "execution_count": 244,
   "metadata": {
    "collapsed": false
   },
   "outputs": [
    {
     "name": "stdout",
     "output_type": "stream",
     "text": [
      "22:26:50.653109\n"
     ]
    }
   ],
   "source": [
    "print artes.time()"
   ]
  },
  {
   "cell_type": "code",
   "execution_count": 245,
   "metadata": {
    "collapsed": true
   },
   "outputs": [],
   "source": [
    "dati = artes.datetime"
   ]
  },
  {
   "cell_type": "code",
   "execution_count": 246,
   "metadata": {
    "collapsed": false
   },
   "outputs": [],
   "source": [
    "#Random logo from logo folder.\n",
    "#5 to choose from. import random, random choice out of a list"
   ]
  },
  {
   "cell_type": "code",
   "execution_count": 247,
   "metadata": {
    "collapsed": true
   },
   "outputs": [],
   "source": [
    "import random"
   ]
  },
  {
   "cell_type": "code",
   "execution_count": 248,
   "metadata": {
    "collapsed": true
   },
   "outputs": [],
   "source": [
    "imglis = ['img1', 'img2', 'img3', 'img4', 'img0']"
   ]
  },
  {
   "cell_type": "code",
   "execution_count": 249,
   "metadata": {
    "collapsed": false
   },
   "outputs": [
    {
     "data": {
      "text/plain": [
       "'img2'"
      ]
     },
     "execution_count": 249,
     "metadata": {},
     "output_type": "execute_result"
    }
   ],
   "source": [
    "random.choice(imglis)"
   ]
  },
  {
   "cell_type": "code",
   "execution_count": 250,
   "metadata": {
    "collapsed": false
   },
   "outputs": [
    {
     "data": {
      "text/plain": [
       "[]"
      ]
     },
     "execution_count": 250,
     "metadata": {},
     "output_type": "execute_result"
    }
   ],
   "source": [
    "os.listdir('/home/wcmckee/gotdrawn/logo')"
   ]
  },
  {
   "cell_type": "code",
   "execution_count": 251,
   "metadata": {
    "collapsed": true
   },
   "outputs": [],
   "source": [
    "import PIL"
   ]
  },
  {
   "cell_type": "code",
   "execution_count": 252,
   "metadata": {
    "collapsed": false
   },
   "outputs": [],
   "source": [
    "imed = PIL"
   ]
  },
  {
   "cell_type": "code",
   "execution_count": 253,
   "metadata": {
    "collapsed": false
   },
   "outputs": [
    {
     "data": {
      "text/plain": [
       "'2.6.1'"
      ]
     },
     "execution_count": 253,
     "metadata": {},
     "output_type": "execute_result"
    }
   ],
   "source": [
    "imed.PILLOW_VERSION"
   ]
  },
  {
   "cell_type": "code",
   "execution_count": 254,
   "metadata": {
    "collapsed": false
   },
   "outputs": [],
   "source": [
    "#import pillow"
   ]
  },
  {
   "cell_type": "code",
   "execution_count": 254,
   "metadata": {
    "collapsed": true
   },
   "outputs": [],
   "source": []
  },
  {
   "cell_type": "code",
   "execution_count": 254,
   "metadata": {
    "collapsed": true
   },
   "outputs": [],
   "source": []
  },
  {
   "cell_type": "code",
   "execution_count": 254,
   "metadata": {
    "collapsed": true
   },
   "outputs": [],
   "source": []
  },
  {
   "cell_type": "code",
   "execution_count": 255,
   "metadata": {
    "collapsed": true
   },
   "outputs": [],
   "source": [
    "os.chdir('/home/wcmckee/gotdrawn/')"
   ]
  },
  {
   "cell_type": "code",
   "execution_count": 266,
   "metadata": {
    "collapsed": true
   },
   "outputs": [],
   "source": [
    "imlocdir = (dayform + '/' + str(flc.author) + '-reference.png') "
   ]
  },
  {
   "cell_type": "code",
   "execution_count": 267,
   "metadata": {
    "collapsed": false
   },
   "outputs": [
    {
     "data": {
      "text/plain": [
       "'/imgs/2015/02/22/akaatkins-reference.png'"
      ]
     },
     "execution_count": 267,
     "metadata": {},
     "output_type": "execute_result"
    }
   ],
   "source": [
    "imlocdir"
   ]
  },
  {
   "cell_type": "code",
   "execution_count": 257,
   "metadata": {
    "collapsed": true
   },
   "outputs": [],
   "source": []
  },
  {
   "cell_type": "code",
   "execution_count": 268,
   "metadata": {
    "collapsed": false
   },
   "outputs": [],
   "source": [
    "doc = dominate.document(title='GetsDrawn')\n",
    "\n",
    "with doc.head:\n",
    "    link(rel='stylesheet', href='style.css')\n",
    "    script(type ='text/javascript', src='script.js')\n",
    "    #str(str2)\n",
    "    \n",
    "    with div():\n",
    "        attr(cls='header')\n",
    "        h1('GetsDrawn')\n",
    "        p(img('/imgs/getsdrawn-bw.png', src='/imgs/getsdrawn-bw.png'))\n",
    "        #p(img('imgs/15/01/02/ReptileLover82-reference.png', src= 'imgs/15/01/02/ReptileLover82-reference.png'))\n",
    "        h1('Updated ', str(artes.datetime))\n",
    "        #p(panz)\n",
    "        #p(bodycom)\n",
    "    \n",
    "    \n",
    "\n",
    "with doc:\n",
    "    with div(id='body').add(ol()):\n",
    "        for flc in fulcom:\n",
    "            if 'http://i.imgur.com' in flc.url:\n",
    "                p(h1(flc.title))\n",
    "                p(img(imlocdir, src= imlocdir))\n",
    "                #p(img(flc.url, src = flc.url))\n",
    "                p(str(flc.author))\n",
    "                #res = requests.get(flc.url, stream=True)\n",
    "                #with open(str(flc.author) + '-' + str(artes.date()) + '-reference.png', 'wb') as outfil:\n",
    "                #    shutil.copyfileobj(res.raw, outfil)\n",
    "                #    del res\n",
    "                \n",
    "                \n",
    "            \n",
    "        for flcz in flc.comments:\n",
    "                p(flcz.body)\n",
    "        \n",
    "        \n",
    "        #for rdz in reliz:\n",
    "            #h1(rdz.title)\n",
    "            #a(rdz.url)\n",
    "            #p(img(rdz, src='%s' % rdz))\n",
    "            #print rdz\n",
    "            #p(img(rdz, src = rdz))\n",
    "            #p(rdz)\n",
    "\n",
    "\n",
    "                \n",
    "            #print rdz.url\n",
    "            #if '.jpg' in rdz.url:\n",
    "            #    img(rdz.urlz)\n",
    "            #else:\n",
    "            #    a(rdz.urlz)\n",
    "            #h1(str(rdz.author))\n",
    "            \n",
    "            #li(img(i.lower(), src='%s' % i))\n",
    "\n",
    "    with div():\n",
    "        attr(cls='body')\n",
    "        p('GotDrawn is open source')\n",
    "        a('https://github.com/getsdrawn/getsdrawndotcom')\n",
    "        a('https://reddit.com/r/redditgetsdrawn')\n",
    "\n",
    "#print doc"
   ]
  },
  {
   "cell_type": "code",
   "execution_count": 269,
   "metadata": {
    "collapsed": false
   },
   "outputs": [],
   "source": [
    "docre = doc.render()\n",
    "#s = docre.decode('ascii', 'ignore')\n",
    "yourstring = docre.encode('ascii', 'ignore').decode('ascii')\n",
    "indfil = ('/home/wcmckee/gotdrawn/index.html')\n",
    "mkind = open(indfil, 'w')\n",
    "mkind.write(yourstring)\n",
    "mkind.close()"
   ]
  },
  {
   "cell_type": "code",
   "execution_count": 269,
   "metadata": {
    "collapsed": true
   },
   "outputs": [],
   "source": []
  },
  {
   "cell_type": "code",
   "execution_count": 269,
   "metadata": {
    "collapsed": true
   },
   "outputs": [],
   "source": []
  },
  {
   "cell_type": "code",
   "execution_count": 270,
   "metadata": {
    "collapsed": true
   },
   "outputs": [],
   "source": [
    "fertz = datzpat + '/' "
   ]
  },
  {
   "cell_type": "code",
   "execution_count": 271,
   "metadata": {
    "collapsed": false
   },
   "outputs": [
    {
     "data": {
      "text/plain": [
       "'/home/wcmckee/gotdrawn/imgs/2015/02/22/'"
      ]
     },
     "execution_count": 271,
     "metadata": {},
     "output_type": "execute_result"
    }
   ],
   "source": [
    "fertz"
   ]
  },
  {
   "cell_type": "code",
   "execution_count": 272,
   "metadata": {
    "collapsed": false
   },
   "outputs": [
    {
     "name": "stdout",
     "output_type": "stream",
     "text": [
      "<!DOCTYPE html>\n",
      "<html>\n",
      "  <head>\n",
      "    <title>GetsDrawn</title>\n",
      "    <link href=\"style.css\" rel=\"stylesheet\"><script src=\"script.js\" type=\"text/javascript\"></script>\n",
      "    <div class=\"header\">\n",
      "      <h1>GetsDrawn</h1>\n",
      "      <p>\n",
      "        <img src=\"/imgs/getsdrawn-bw.png\">\n",
      "      </p>\n",
      "      <h1>Updated 2015-02-22 22:26:50.653109+00:00</h1>\n",
      "    </div>\n",
      "  </head>\n",
      "  <body>\n",
      "    <div id=\"body\">\n",
      "      <ol>\n",
      "        <p>\n",
      "          <h1>Hello hello, I was hoping that y'all could illustrate my niece as a surprise gift to my sister!</h1>\n",
      "        </p>\n",
      "        <p>\n",
      "          <img src=\"/imgs/2015/02/22/akaatkins-reference.png\">\n",
      "        </p>\n",
      "        <p>buttercup93</p>\n",
      "        <p>\n",
      "          <h1>One of my closest friends turns 30 soon - would any of you kind artists care to draw her?</h1>\n",
      "        </p>\n",
      "        <p>\n",
      "          <img src=\"/imgs/2015/02/22/akaatkins-reference.png\">\n",
      "        </p>\n",
      "        <p>EasyTigrr</p>\n",
      "        <p>\n",
      "          <h1>Candid picture of my best friend and I in one of the most sincere expressions of happiness I have on camera. Would love to see it immortalized in drawing.</h1>\n",
      "        </p>\n",
      "        <p>\n",
      "          <img src=\"/imgs/2015/02/22/akaatkins-reference.png\">\n",
      "        </p>\n",
      "        <p>booketh</p>\n",
      "        <p>\n",
      "          <h1>Hello, would anybody mind drawing a picture of my friend and her boyfriend for her birthday? Thanks so much in advance!</h1>\n",
      "        </p>\n",
      "        <p>\n",
      "          <img src=\"/imgs/2015/02/22/akaatkins-reference.png\">\n",
      "        </p>\n",
      "        <p>cwakeford</p>\n",
      "        <p>\n",
      "          <h1>Could someone draw my 18 year old dog? Would love any style!</h1>\n",
      "        </p>\n",
      "        <p>\n",
      "          <img src=\"/imgs/2015/02/22/akaatkins-reference.png\">\n",
      "        </p>\n",
      "        <p>ahphenom</p>\n",
      "        <p>\n",
      "          <h1>Hey Reddit, I would appreciate it if you could draw my girlfriend</h1>\n",
      "        </p>\n",
      "        <p>\n",
      "          <img src=\"/imgs/2015/02/22/akaatkins-reference.png\">\n",
      "        </p>\n",
      "        <p>TheHappyCreeper</p>\n",
      "        <p>\n",
      "          <h1>Can someone draw me with my cat beard! =) lol</h1>\n",
      "        </p>\n",
      "        <p>\n",
      "          <img src=\"/imgs/2015/02/22/akaatkins-reference.png\">\n",
      "        </p>\n",
      "        <p>DauntlessStitch</p>\n",
      "        <p>\n",
      "          <h1>My girlfriend and I on a recent holiday</h1>\n",
      "        </p>\n",
      "        <p>\n",
      "          <img src=\"/imgs/2015/02/22/akaatkins-reference.png\">\n",
      "        </p>\n",
      "        <p>AnythingYouDontLike</p>\n",
      "        <p>\n",
      "          <h1>I love my silly kitten. Draw her?</h1>\n",
      "        </p>\n",
      "        <p>\n",
      "          <img src=\"/imgs/2015/02/22/akaatkins-reference.png\">\n",
      "        </p>\n",
      "        <p>iloveariiii</p>\n",
      "        <p>\n",
      "          <h1>My dad's first selfie.</h1>\n",
      "        </p>\n",
      "        <p>\n",
      "          <img src=\"/imgs/2015/02/22/akaatkins-reference.png\">\n",
      "        </p>\n",
      "        <p>slatsy</p>\n",
      "        <p>\n",
      "          <h1>My girlfriend would love it, if someone could draw her</h1>\n",
      "        </p>\n",
      "        <p>\n",
      "          <img src=\"/imgs/2015/02/22/akaatkins-reference.png\">\n",
      "        </p>\n",
      "        <p>NaviiAut</p>\n",
      "      </ol>\n",
      "    </div>\n",
      "    <div class=\"body\">\n",
      "      <p>GotDrawn is open source</p>\n",
      "      <a>https://github.com/getsdrawn/getsdrawndotcom</a>\n",
      "      <a>https://reddit.com/r/redditgetsdrawn</a>\n",
      "    </div>\n",
      "  </body>\n",
      "</html>\n"
     ]
    }
   ],
   "source": [
    "print doc"
   ]
  },
  {
   "cell_type": "code",
   "execution_count": 273,
   "metadata": {
    "collapsed": true
   },
   "outputs": [],
   "source": [
    "os.chdir(fertz)"
   ]
  },
  {
   "cell_type": "code",
   "execution_count": 274,
   "metadata": {
    "collapsed": false
   },
   "outputs": [
    {
     "name": "stdout",
     "output_type": "stream",
     "text": [
      "Hello hello, I was hoping that y'all could illustrate my niece as a surprise gift to my sister!\n",
      "http://i.imgur.com/lMX41XE.jpg\n",
      "buttercup93\n",
      "One of my closest friends turns 30 soon - would any of you kind artists care to draw her?\n",
      "http://i.imgur.com/fb1xXl0.png\n",
      "EasyTigrr\n",
      "Candid picture of my best friend and I in one of the most sincere expressions of happiness I have on camera. Would love to see it immortalized in drawing.\n",
      "http://i.imgur.com/XoTKzBo.png\n",
      "booketh\n",
      "Hello, would anybody mind drawing a picture of my friend and her boyfriend for her birthday? Thanks so much in advance!\n",
      "http://i.imgur.com/i4pOPYG.jpg\n",
      "cwakeford\n",
      "Could someone draw my 18 year old dog? Would love any style!\n",
      "http://i.imgur.com/rXjGfzD.jpg\n",
      "ahphenom\n",
      "Hey Reddit, I would appreciate it if you could draw my girlfriend\n",
      "http://i.imgur.com/LYBxrxf.jpg\n",
      "TheHappyCreeper\n",
      "Can someone draw me with my cat beard! =) lol\n",
      "http://i.imgur.com/tnLZkda.jpg\n",
      "DauntlessStitch\n",
      "http://i.imgur.com/BUsh30I.png\n",
      "\n",
      "Here's a quick sketch [Imgur](http://i.imgur.com/mB9NTeV.jpg)\n",
      "My girlfriend and I on a recent holiday\n",
      "http://i.imgur.com/qOFE41f.jpg\n",
      "AnythingYouDontLike\n",
      "I love my silly kitten. Draw her?\n",
      "http://i.imgur.com/B5wbrvm.jpg\n",
      "iloveariiii\n",
      " http://i.imgur.com/DtlYA9i.jpg \n",
      "My dad's first selfie.\n",
      "http://i.imgur.com/SWlFnC9.jpg\n",
      "slatsy\n",
      "[Hope ya like it] (http://i.imgur.com/rDw2ei2.jpg)\n",
      "\n",
      "This was a fun photo :D\n",
      "I started trying to learn to draw a few days ago. Sorry for making your dad look like a north korean leader.\n",
      "\n",
      "http://i.imgur.com/F7miAql.jpg\n",
      "\n",
      "\n",
      "\n",
      "\n",
      "[deleted]\n",
      "[deleted]\n",
      "[Whatcha looking at?](http://ycsketch.blogspot.com/2015/02/rredditgetsdrawn-uslatsy-s-dad.html)\n",
      "My girlfriend would love it, if someone could draw her\n",
      "http://i.imgur.com/MaeUtRw.jpg\n",
      "NaviiAut\n",
      "I'm not sure if it ended up looking enough like her, but still [hope ya like it] (http://i.imgur.com/qnOlg4X.jpg)\n"
     ]
    }
   ],
   "source": [
    "for flc in fulcom:\n",
    "    if 'http://i.imgur.com' in flc.url:\n",
    "        print flc.title\n",
    "        print flc.url\n",
    "        print flc.author\n",
    "        res = requests.get(flc.url, stream=True)\n",
    "        with open(str(flc.author) + '-' + str(artes.date()) + '-reference.png', 'wb') as outfil:\n",
    "            shutil.copyfileobj(res.raw, outfil)\n",
    "            del res\n",
    "            \n",
    "        for flcz in flc.comments:\n",
    "            print flcz.body"
   ]
  },
  {
   "cell_type": "code",
   "execution_count": 58,
   "metadata": {
    "collapsed": false
   },
   "outputs": [
    {
     "data": {
      "text/plain": [
       "u'[Bahh :3](http://ycsketch.blogspot.com/2015/02/rredditgetsdrawn-uobsessedwithmydog.html)'"
      ]
     },
     "execution_count": 58,
     "metadata": {},
     "output_type": "execute_result"
    }
   ],
   "source": [
    "flcz.author\n",
    "\n",
    "flcz.body"
   ]
  },
  {
   "cell_type": "code",
   "execution_count": null,
   "metadata": {
    "collapsed": true
   },
   "outputs": [],
   "source": []
  },
  {
   "cell_type": "code",
   "execution_count": null,
   "metadata": {
    "collapsed": true
   },
   "outputs": [],
   "source": []
  },
  {
   "cell_type": "code",
   "execution_count": null,
   "metadata": {
    "collapsed": true
   },
   "outputs": [],
   "source": []
  }
 ],
 "metadata": {
  "kernelspec": {
   "display_name": "Python 2",
   "name": "python2"
  },
  "language_info": {
   "codemirror_mode": {
    "name": "ipython",
    "version": 2
   },
   "file_extension": ".py",
   "mimetype": "text/x-python",
   "name": "python",
   "nbconvert_exporter": "python",
   "pygments_lexer": "ipython2",
   "version": "2.7.9"
  }
 },
 "nbformat": 4,
 "nbformat_minor": 0
}
