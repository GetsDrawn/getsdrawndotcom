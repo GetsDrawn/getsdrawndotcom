{
 "cells": [
  {
   "cell_type": "markdown",
   "metadata": {},
   "source": [
    "make rst\n",
    "\n",
    "Create GetsDrawn post of images"
   ]
  },
  {
   "cell_type": "code",
   "execution_count": 2,
   "metadata": {
    "collapsed": true
   },
   "outputs": [],
   "source": [
    "import requests\n",
    "import bs4\n",
    "import json\n",
    "import arrow\n",
    "import praw\n",
    "import os\n",
    "\n",
    "import ntpath\n"
   ]
  },
  {
   "cell_type": "code",
   "execution_count": 3,
   "metadata": {
    "collapsed": true
   },
   "outputs": [],
   "source": [
    "r = praw.Reddit(user_agent='getsdrawndotcom')"
   ]
  },
  {
   "cell_type": "code",
   "execution_count": 4,
   "metadata": {
    "collapsed": true
   },
   "outputs": [],
   "source": [
    "rsubred = r.get_subreddit('redditgetsdrawn')"
   ]
  },
  {
   "cell_type": "code",
   "execution_count": 5,
   "metadata": {
    "collapsed": false
   },
   "outputs": [],
   "source": [
    "rsunewq = rsubred.get_new()"
   ]
  },
  {
   "cell_type": "code",
   "execution_count": 6,
   "metadata": {
    "collapsed": false
   },
   "outputs": [],
   "source": [
    "#for rsubcom in rsubred.get_comments():\n",
    "#    print (rsubcom)\n",
    "    #if (rsubcom.author) != 'ItWillBeMine':\n",
    "    #    print (rsubcom)\n",
    "    #    print (rsubcom.author)\n",
    "    \n",
    "    #answer != 'hi':   # not equal\n",
    "    #   print \"no hi\"\n",
    "    #print (rsubcom.author)"
   ]
  },
  {
   "cell_type": "code",
   "execution_count": 7,
   "metadata": {
    "collapsed": false
   },
   "outputs": [],
   "source": [
    "arnowz = arrow.now()"
   ]
  },
  {
   "cell_type": "code",
   "execution_count": 8,
   "metadata": {
    "collapsed": false
   },
   "outputs": [],
   "source": [
    "ardat = arnowz.date()"
   ]
  },
  {
   "cell_type": "code",
   "execution_count": 9,
   "metadata": {
    "collapsed": false
   },
   "outputs": [
    {
     "data": {
      "text/plain": [
       "'2015-08-13'"
      ]
     },
     "execution_count": 9,
     "metadata": {},
     "output_type": "execute_result"
    }
   ],
   "source": [
    "str(ardat)"
   ]
  },
  {
   "cell_type": "code",
   "execution_count": 10,
   "metadata": {
    "collapsed": true
   },
   "outputs": [],
   "source": [
    "artim = arnowz.time()"
   ]
  },
  {
   "cell_type": "code",
   "execution_count": 11,
   "metadata": {
    "collapsed": false
   },
   "outputs": [],
   "source": [
    "regetd = requests.get('http://getsdrawn.com')"
   ]
  },
  {
   "cell_type": "code",
   "execution_count": 12,
   "metadata": {
    "collapsed": false
   },
   "outputs": [],
   "source": [
    "#requgetdrn = open('/home/wcmckee/getsdrawndotcom/index.html', 'r')"
   ]
  },
  {
   "cell_type": "code",
   "execution_count": 13,
   "metadata": {
    "collapsed": false
   },
   "outputs": [],
   "source": [
    "bst = bs4.BeautifulSoup(regetd.text)"
   ]
  },
  {
   "cell_type": "code",
   "execution_count": 49,
   "metadata": {
    "collapsed": false
   },
   "outputs": [
    {
     "data": {
      "text/plain": [
       "<!DOCTYPE html>\n",
       "<html>\n",
       "<head>\n",
       "<title>GetsDrawn</title>\n",
       "<link href=\"style.css\" rel=\"stylesheet\"/><script src=\"script.js\" type=\"text/javascript\"></script>\n",
       "</head><body><div class=\"header\">\n",
       "<h1>GetsDrawn</h1>\n",
       "<p>\n",
       "<img src=\"imgs/getsdrawn-bw.png\"/>\n",
       "</p>\n",
       "<h1>Updated Thu, 13 Aug 2015 11:00:04 +0000</h1>\n",
       "<p>GetsDrawn - Recent reference images uploaded to r/RedditGetsDrawn\n",
       "</p>\n",
       "<p></p>\n",
       "</div>\n",
       "<div id=\"body\">\n",
       "<ol>\n",
       "<p>\n",
       "<img src=\"imgs/15/08/13/reference/Zoeamae-reference.png\"/>\n",
       "</p>\n",
       "<p>\n",
       "</p><p>\n",
       "<a href=\"http://getsdrawn.com/imgs/15/08/13/reference/Zoeamae-reference.png\">imgs/15/08/13/reference/Zoeamae-reference.png</a>\n",
       "</p>\n",
       "<p>\n",
       "<img src=\"imgs/15/08/13/reference/kkoool-reference.png\"/>\n",
       "</p>\n",
       "<p>\n",
       "</p><p>\n",
       "<a href=\"http://getsdrawn.com/imgs/15/08/13/reference/kkoool-reference.png\">imgs/15/08/13/reference/kkoool-reference.png</a>\n",
       "</p>\n",
       "<p>\n",
       "<img src=\"imgs/15/08/13/reference/MattChenery11-reference.png\"/>\n",
       "</p>\n",
       "<p>\n",
       "</p><p>\n",
       "<a href=\"http://getsdrawn.com/imgs/15/08/13/reference/MattChenery11-reference.png\">imgs/15/08/13/reference/MattChenery11-reference.png</a>\n",
       "</p>\n",
       "<p>\n",
       "<img src=\"imgs/15/08/13/reference/DizKord-reference.png\"/>\n",
       "</p>\n",
       "<p>\n",
       "</p><p>\n",
       "<a href=\"http://getsdrawn.com/imgs/15/08/13/reference/DizKord-reference.png\">imgs/15/08/13/reference/DizKord-reference.png</a>\n",
       "</p>\n",
       "<p>\n",
       "<img src=\"imgs/15/08/13/reference/KegelatorChariot-reference.png\"/>\n",
       "</p>\n",
       "<p>\n",
       "</p><p>\n",
       "<a href=\"http://getsdrawn.com/imgs/15/08/13/reference/KegelatorChariot-reference.png\">imgs/15/08/13/reference/KegelatorChariot-reference.png</a>\n",
       "</p>\n",
       "<p>\n",
       "<img src=\"imgs/15/08/13/reference/TheSanelli-reference.png\"/>\n",
       "</p>\n",
       "<p>\n",
       "</p><p>\n",
       "<a href=\"http://getsdrawn.com/imgs/15/08/13/reference/TheSanelli-reference.png\">imgs/15/08/13/reference/TheSanelli-reference.png</a>\n",
       "</p>\n",
       "<p>\n",
       "<img src=\"imgs/15/08/13/reference/phallustrious-reference.png\"/>\n",
       "</p>\n",
       "<p>\n",
       "</p><p>\n",
       "<a href=\"http://getsdrawn.com/imgs/15/08/13/reference/phallustrious-reference.png\">imgs/15/08/13/reference/phallustrious-reference.png</a>\n",
       "</p>\n",
       "<p>\n",
       "<img src=\"imgs/15/08/13/reference/Anotherelephant-reference.png\"/>\n",
       "</p>\n",
       "<p>\n",
       "</p><p>\n",
       "<a href=\"http://getsdrawn.com/imgs/15/08/13/reference/Anotherelephant-reference.png\">imgs/15/08/13/reference/Anotherelephant-reference.png</a>\n",
       "</p>\n",
       "<p>\n",
       "<img src=\"imgs/15/08/13/reference/brookebaty12-reference.png\"/>\n",
       "</p>\n",
       "<p>\n",
       "</p><p>\n",
       "<a href=\"http://getsdrawn.com/imgs/15/08/13/reference/brookebaty12-reference.png\">imgs/15/08/13/reference/brookebaty12-reference.png</a>\n",
       "</p>\n",
       "<p>\n",
       "<img src=\"imgs/15/08/13/reference/lawlore-reference.png\"/>\n",
       "</p>\n",
       "<p>\n",
       "</p><p>\n",
       "<a href=\"http://getsdrawn.com/imgs/15/08/13/reference/lawlore-reference.png\">imgs/15/08/13/reference/lawlore-reference.png</a>\n",
       "</p>\n",
       "<p>\n",
       "<img src=\"imgs/15/08/13/reference/Jmertelj-reference.png\"/>\n",
       "</p>\n",
       "<p>\n",
       "</p><p>\n",
       "<a href=\"http://getsdrawn.com/imgs/15/08/13/reference/Jmertelj-reference.png\">imgs/15/08/13/reference/Jmertelj-reference.png</a>\n",
       "</p>\n",
       "<p>\n",
       "<img src=\"imgs/15/08/13/reference/Napim8-reference.png\"/>\n",
       "</p>\n",
       "<p>\n",
       "</p><p>\n",
       "<a href=\"http://getsdrawn.com/imgs/15/08/13/reference/Napim8-reference.png\">imgs/15/08/13/reference/Napim8-reference.png</a>\n",
       "</p>\n",
       "</ol>\n",
       "</div>\n",
       "<div class=\"body\">\n",
       "<p>GetsDrawn is open source</p>\n",
       "<p>\n",
       "</p><p>\n",
       "<a href=\"https://github.com/getsdrawn/\">getsdrawn - github</a>\n",
       "</p>\n",
       "<p>\n",
       "</p><p>\n",
       "<a href=\"https://reddit.com/r/redditgetsdrawn\">RedditGetsDrawn</a>\n",
       "</p>\n",
       "</div>\n",
       "</body></html>"
      ]
     },
     "execution_count": 49,
     "metadata": {},
     "output_type": "execute_result"
    }
   ],
   "source": [
    "bst"
   ]
  },
  {
   "cell_type": "code",
   "execution_count": 14,
   "metadata": {
    "collapsed": false
   },
   "outputs": [
    {
     "ename": "NameError",
     "evalue": "name 'requgetdrn' is not defined",
     "output_type": "error",
     "traceback": [
      "\u001b[1;31m---------------------------------------------------------------------------\u001b[0m",
      "\u001b[1;31mNameError\u001b[0m                                 Traceback (most recent call last)",
      "\u001b[1;32m<ipython-input-14-24c4deba2012>\u001b[0m in \u001b[0;36m<module>\u001b[1;34m()\u001b[0m\n\u001b[1;32m----> 1\u001b[1;33m \u001b[0mrequgetdrn\u001b[0m\u001b[1;33m.\u001b[0m\u001b[0mclose\u001b[0m\u001b[1;33m(\u001b[0m\u001b[1;33m)\u001b[0m\u001b[1;33m\u001b[0m\u001b[0m\n\u001b[0m",
      "\u001b[1;31mNameError\u001b[0m: name 'requgetdrn' is not defined"
     ]
    }
   ],
   "source": [
    "#requgetdrn.close()"
   ]
  },
  {
   "cell_type": "code",
   "execution_count": null,
   "metadata": {
    "collapsed": false
   },
   "outputs": [],
   "source": [
    "bst.find('a')"
   ]
  },
  {
   "cell_type": "code",
   "execution_count": 21,
   "metadata": {
    "collapsed": false
   },
   "outputs": [],
   "source": [
    "alimg = bst.find_all('a')\n",
    "    #print(bs)"
   ]
  },
  {
   "cell_type": "code",
   "execution_count": 92,
   "metadata": {
    "collapsed": true
   },
   "outputs": [],
   "source": [
    "alinkl = list()"
   ]
  },
  {
   "cell_type": "code",
   "execution_count": 93,
   "metadata": {
    "collapsed": true
   },
   "outputs": [],
   "source": [
    "namref = list()"
   ]
  },
  {
   "cell_type": "code",
   "execution_count": 97,
   "metadata": {
    "collapsed": false
   },
   "outputs": [],
   "source": [
    "import ntpath"
   ]
  },
  {
   "cell_type": "code",
   "execution_count": null,
   "metadata": {
    "collapsed": true
   },
   "outputs": [],
   "source": []
  },
  {
   "cell_type": "code",
   "execution_count": 104,
   "metadata": {
    "collapsed": false
   },
   "outputs": [
    {
     "name": "stdout",
     "output_type": "stream",
     "text": [
      "Zoeamae\n",
      "http://getsdrawn.com/imgs/15/08/13/reference/Zoeamae-reference.png\n",
      "kkoool\n",
      "http://getsdrawn.com/imgs/15/08/13/reference/kkoool-reference.png\n",
      "MattChenery11\n",
      "http://getsdrawn.com/imgs/15/08/13/reference/MattChenery11-reference.png\n",
      "DizKord\n",
      "http://getsdrawn.com/imgs/15/08/13/reference/DizKord-reference.png\n",
      "KegelatorChariot\n",
      "http://getsdrawn.com/imgs/15/08/13/reference/KegelatorChariot-reference.png\n",
      "TheSanelli\n",
      "http://getsdrawn.com/imgs/15/08/13/reference/TheSanelli-reference.png\n",
      "phallustrious\n",
      "http://getsdrawn.com/imgs/15/08/13/reference/phallustrious-reference.png\n",
      "Anotherelephant\n",
      "http://getsdrawn.com/imgs/15/08/13/reference/Anotherelephant-reference.png\n",
      "brookebaty12\n",
      "http://getsdrawn.com/imgs/15/08/13/reference/brookebaty12-reference.png\n",
      "lawlore\n",
      "http://getsdrawn.com/imgs/15/08/13/reference/lawlore-reference.png\n",
      "Jmertelj\n",
      "http://getsdrawn.com/imgs/15/08/13/reference/Jmertelj-reference.png\n",
      "Napim8\n",
      "http://getsdrawn.com/imgs/15/08/13/reference/Napim8-reference.png\n",
      "github.\n",
      "https://github.com/getsdrawn/\n",
      "r\n",
      "https://reddit.com/r/redditgetsdrawn\n"
     ]
    },
    {
     "name": "stderr",
     "output_type": "stream",
     "text": [
      "/usr/local/lib/python3.4/dist-packages/IPython/kernel/__main__.py:16: ResourceWarning: unclosed file <_io.TextIOWrapper name='/home/wcmckee/github/getsdrawnblog/posts/r.meta' mode='w' encoding='UTF-8'>\n",
      "/usr/local/lib/python3.4/dist-packages/IPython/kernel/__main__.py:16: ResourceWarning: unclosed file <_io.TextIOWrapper name='/home/wcmckee/github/getsdrawnblog/posts/Zoeamae.meta' mode='w' encoding='UTF-8'>\n",
      "/usr/local/lib/python3.4/dist-packages/IPython/kernel/__main__.py:16: ResourceWarning: unclosed file <_io.TextIOWrapper name='/home/wcmckee/github/getsdrawnblog/posts/kkoool.meta' mode='w' encoding='UTF-8'>\n",
      "/usr/local/lib/python3.4/dist-packages/IPython/kernel/__main__.py:16: ResourceWarning: unclosed file <_io.TextIOWrapper name='/home/wcmckee/github/getsdrawnblog/posts/MattChenery11.meta' mode='w' encoding='UTF-8'>\n",
      "/usr/local/lib/python3.4/dist-packages/IPython/kernel/__main__.py:16: ResourceWarning: unclosed file <_io.TextIOWrapper name='/home/wcmckee/github/getsdrawnblog/posts/DizKord.meta' mode='w' encoding='UTF-8'>\n",
      "/usr/local/lib/python3.4/dist-packages/IPython/kernel/__main__.py:16: ResourceWarning: unclosed file <_io.TextIOWrapper name='/home/wcmckee/github/getsdrawnblog/posts/KegelatorChariot.meta' mode='w' encoding='UTF-8'>\n",
      "/usr/local/lib/python3.4/dist-packages/IPython/kernel/__main__.py:16: ResourceWarning: unclosed file <_io.TextIOWrapper name='/home/wcmckee/github/getsdrawnblog/posts/TheSanelli.meta' mode='w' encoding='UTF-8'>\n",
      "/usr/local/lib/python3.4/dist-packages/IPython/kernel/__main__.py:16: ResourceWarning: unclosed file <_io.TextIOWrapper name='/home/wcmckee/github/getsdrawnblog/posts/phallustrious.meta' mode='w' encoding='UTF-8'>\n",
      "/usr/local/lib/python3.4/dist-packages/IPython/kernel/__main__.py:16: ResourceWarning: unclosed file <_io.TextIOWrapper name='/home/wcmckee/github/getsdrawnblog/posts/Anotherelephant.meta' mode='w' encoding='UTF-8'>\n",
      "/usr/local/lib/python3.4/dist-packages/IPython/kernel/__main__.py:16: ResourceWarning: unclosed file <_io.TextIOWrapper name='/home/wcmckee/github/getsdrawnblog/posts/brookebaty12.meta' mode='w' encoding='UTF-8'>\n",
      "/usr/local/lib/python3.4/dist-packages/IPython/kernel/__main__.py:16: ResourceWarning: unclosed file <_io.TextIOWrapper name='/home/wcmckee/github/getsdrawnblog/posts/lawlore.meta' mode='w' encoding='UTF-8'>\n",
      "/usr/local/lib/python3.4/dist-packages/IPython/kernel/__main__.py:16: ResourceWarning: unclosed file <_io.TextIOWrapper name='/home/wcmckee/github/getsdrawnblog/posts/Jmertelj.meta' mode='w' encoding='UTF-8'>\n",
      "/usr/local/lib/python3.4/dist-packages/IPython/kernel/__main__.py:16: ResourceWarning: unclosed file <_io.TextIOWrapper name='/home/wcmckee/github/getsdrawnblog/posts/Napim8.meta' mode='w' encoding='UTF-8'>\n",
      "/usr/local/lib/python3.4/dist-packages/IPython/kernel/__main__.py:16: ResourceWarning: unclosed file <_io.TextIOWrapper name='/home/wcmckee/github/getsdrawnblog/posts/github..meta' mode='w' encoding='UTF-8'>\n"
     ]
    }
   ],
   "source": [
    "for ali in alimg:\n",
    "    ntpa = (ntpath.basename(ali.attrs['href'][:-14]))\n",
    "    print (ntpa)\n",
    "    urlink = (ali.attrs['href'])\n",
    "    print (urlink)\n",
    "    #Need to remove https://github.com and https://reddit.com urls from the lit\n",
    "    #print (ali.attrs['href'])\n",
    "    alinkl.append((ali.attrs['href']))\n",
    "    namref.append((ali.attrs['href'][:-4]))\n",
    "    \n",
    "    \n",
    "    mkmeta = open('/home/wcmckee/github/getsdrawnblog/posts/' +  ntpa + '.rst', 'w')\n",
    "    mkmeta.write('.. image:: ' + urlink)\n",
    "    mkmeta.close()\n",
    "    \n",
    "    opmeta = open('/home/wcmckee/github/getsdrawnblog/posts/' + ntpa + '.meta', 'w')\n",
    "    \n",
    "    opmeta.write((ntpa + '\\n' + ntpa + '\\n' + str(ardat) + ' ' + str(artim)))\n",
    "    \n",
    "    #opmeta.close()\n",
    "    \n",
    "    #print(ali.text)"
   ]
  },
  {
   "cell_type": "code",
   "execution_count": null,
   "metadata": {
    "collapsed": true
   },
   "outputs": [],
   "source": [
    "    ntpa = (ntpath.basename(ali.text)[:-14])\n",
    "    print (ntpa)"
   ]
  },
  {
   "cell_type": "code",
   "execution_count": 91,
   "metadata": {
    "collapsed": false
   },
   "outputs": [
    {
     "data": {
      "text/plain": [
       "['http://getsdrawn.com/imgs/15/08/13/reference/Zoeamae-reference.p',\n",
       " 'http://getsdrawn.com/imgs/15/08/13/reference/kkoool-reference.p',\n",
       " 'http://getsdrawn.com/imgs/15/08/13/reference/MattChenery11-reference.p',\n",
       " 'http://getsdrawn.com/imgs/15/08/13/reference/DizKord-reference.p',\n",
       " 'http://getsdrawn.com/imgs/15/08/13/reference/KegelatorChariot-reference.p',\n",
       " 'http://getsdrawn.com/imgs/15/08/13/reference/TheSanelli-reference.p',\n",
       " 'http://getsdrawn.com/imgs/15/08/13/reference/phallustrious-reference.p',\n",
       " 'http://getsdrawn.com/imgs/15/08/13/reference/Anotherelephant-reference.p',\n",
       " 'http://getsdrawn.com/imgs/15/08/13/reference/brookebaty12-reference.p',\n",
       " 'http://getsdrawn.com/imgs/15/08/13/reference/lawlore-reference.p',\n",
       " 'http://getsdrawn.com/imgs/15/08/13/reference/Jmertelj-reference.p',\n",
       " 'http://getsdrawn.com/imgs/15/08/13/reference/Napim8-reference.p',\n",
       " 'https://github.com/getsdraw',\n",
       " 'https://reddit.com/r/redditgetsdra']"
      ]
     },
     "execution_count": 91,
     "metadata": {},
     "output_type": "execute_result"
    }
   ],
   "source": [
    "namref"
   ]
  },
  {
   "cell_type": "code",
   "execution_count": null,
   "metadata": {
    "collapsed": true
   },
   "outputs": [],
   "source": []
  },
  {
   "cell_type": "code",
   "execution_count": null,
   "metadata": {
    "collapsed": false
   },
   "outputs": [],
   "source": [
    "'''\n",
    "for ali in alimg:\n",
    "    ntpa = (ntpath.basename(ali.text)[:-14])\n",
    "    print (ntpa)\n",
    "\n",
    "    mkmeta = open('/home/wcmckee/github/getsdrawnblog/posts/' +  ntpa + '.rst', 'w')\n",
    "\n",
    "    mkmeta.write('.. |' + ntpa + '| image:: ' + ali.text)\n",
    "    \n",
    "    mkmeta.close()\n",
    "    \n",
    "    mkmeta = open('/home/wcmckee/github/getsdrawnblog/posts/' + ntpa + '.meta', 'w')\n",
    "\n",
    "    mkmeta.write(ntpa + '\\n' + ntpa + '\\n' + str(ardat) + ' ' + str(artim))\n",
    "\n",
    "    mkmeta.close()\n",
    "'''   "
   ]
  },
  {
   "cell_type": "code",
   "execution_count": null,
   "metadata": {
    "collapsed": true
   },
   "outputs": [],
   "source": []
  },
  {
   "cell_type": "code",
   "execution_count": null,
   "metadata": {
    "collapsed": false
   },
   "outputs": [],
   "source": [
    "for rsunw in rsunewq:\n",
    "    #print (rsunw.author)\n",
    "    #print (rsunw.author)\n",
    "    mkmeta = open('/home/wcmckee/github/getsdrawnblog/posts/' +  str(rsunw.author) + '.rst', 'w')\n",
    "    mkmeta.write('.. image:: ' + rsunw.url)\n",
    "    mkmeta.close()\n",
    "    \n",
    "    opmeta = open('/home/wcmckee/github/getsdrawnblog/posts/' + str(rsunw.author) + '.meta', 'w')\n",
    "    \n",
    "    opmeta.write((str(rsunw.author) + '\\n' + str(rsunw.author) + '\\n' + str(ardat) + ' ' + str(artim)))\n",
    "    \n",
    "    opmeta.close()"
   ]
  },
  {
   "cell_type": "code",
   "execution_count": 15,
   "metadata": {
    "collapsed": true
   },
   "outputs": [],
   "source": [
    "import os"
   ]
  },
  {
   "cell_type": "code",
   "execution_count": 16,
   "metadata": {
    "collapsed": true
   },
   "outputs": [],
   "source": [
    "os.chdir('/home/wcmckee/github/getsdrawnblog/')"
   ]
  },
  {
   "cell_type": "code",
   "execution_count": 17,
   "metadata": {
    "collapsed": false
   },
   "outputs": [
    {
     "data": {
      "text/plain": [
       "0"
      ]
     },
     "execution_count": 17,
     "metadata": {},
     "output_type": "execute_result"
    }
   ],
   "source": [
    "os.system('nikola build')"
   ]
  },
  {
   "cell_type": "code",
   "execution_count": null,
   "metadata": {
    "collapsed": true
   },
   "outputs": [],
   "source": []
  }
 ],
 "metadata": {
  "kernelspec": {
   "display_name": "Python 3",
   "language": "python",
   "name": "python3"
  },
  "language_info": {
   "codemirror_mode": {
    "name": "ipython",
    "version": 3
   },
   "file_extension": ".py",
   "mimetype": "text/x-python",
   "name": "python",
   "nbconvert_exporter": "python",
   "pygments_lexer": "ipython3",
   "version": "3.4.0"
  }
 },
 "nbformat": 4,
 "nbformat_minor": 0
}
