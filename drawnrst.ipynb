{
 "cells": [
  {
   "cell_type": "markdown",
   "metadata": {},
   "source": [
    "make rst\n",
    "\n",
    "Create GetsDrawn post of images"
   ]
  },
  {
   "cell_type": "code",
   "execution_count": 231,
   "metadata": {
    "collapsed": true
   },
   "outputs": [],
   "source": [
    "import requests\n",
    "import bs4\n",
    "import json\n",
    "import arrow\n",
    "import praw\n",
    "import os\n",
    "\n",
    "import ntpath\n"
   ]
  },
  {
   "cell_type": "code",
   "execution_count": 208,
   "metadata": {
    "collapsed": true
   },
   "outputs": [],
   "source": [
    "r = praw.Reddit(user_agent='getsdrawndotcom')"
   ]
  },
  {
   "cell_type": "code",
   "execution_count": 209,
   "metadata": {
    "collapsed": true
   },
   "outputs": [],
   "source": [
    "rsubred = r.get_subreddit('redditgetsdrawn')"
   ]
  },
  {
   "cell_type": "code",
   "execution_count": 210,
   "metadata": {
    "collapsed": false
   },
   "outputs": [],
   "source": [
    "rsunewq = rsubred.get_new()"
   ]
  },
  {
   "cell_type": "code",
   "execution_count": 211,
   "metadata": {
    "collapsed": false
   },
   "outputs": [
    {
     "name": "stdout",
     "output_type": "stream",
     "text": [
      "[It's dangerous to go alone! Take this_](http://media.giphy.com/media/3oEduTQ...\n",
      "You're very welcome! \n",
      "Thank you! \n",
      "Thanks! \n",
      "My anime/manga -ish attempt. This is a work-in progress. \n",
      "\n",
      "Will post the comp...\n",
      "Sweet pen work it looks awesome, thank you 😊 for your submission.\n",
      "Beautiful, Thank you so much\n",
      "Yay (:\n",
      "Thank you! I love the colours\n",
      "Thank you 😊 it looks awesome, it's soft and I love the hair.\n",
      "This is really well done. Thank you very much.\n",
      "I did two...kinda dislike 'em both. Does someone has tips on how to draw mout...\n",
      "http://i.imgur.com/ZQ4bnXl.jpg\n",
      "\n",
      "Forgive the poor likeness. This is the first ...\n",
      "Love this so much!  She looks so grown up and sophisticated!\n",
      "Hehe love it! Thanks!\n",
      "Woow! Hahah! Thank you! It's awesome :D\n",
      "Although the artist has already kindly granted your request, please note that...\n",
      "so good.\n",
      "these pictures are awesome! wow, this subreddit is out of control with the aw...\n",
      "You've already been warned:\n",
      "\n",
      "https://www.reddit.com/r/redditgetsdrawn/comment...\n",
      "Your comment was removed for lacking art and commenting on appearance. Please...\n",
      "I'm not sure your wife would be okay with you posting this photo on the inter...\n",
      "Your post was removed for an unclear title. Please review the rules and try a...\n",
      "Your post was removed for an unclear title. Please review the rules and try a...\n",
      "Please repost without mentioning the long distance.\n"
     ]
    }
   ],
   "source": [
    "for rsubcom in rsubred.get_comments():\n",
    "    print (rsubcom)\n",
    "    #if (rsubcom.author) != 'ItWillBeMine':\n",
    "    #    print (rsubcom)\n",
    "    #    print (rsubcom.author)\n",
    "    \n",
    "    #answer != 'hi':   # not equal\n",
    "    #   print \"no hi\"\n",
    "    #print (rsubcom.author)"
   ]
  },
  {
   "cell_type": "code",
   "execution_count": 212,
   "metadata": {
    "collapsed": false
   },
   "outputs": [],
   "source": [
    "arnowz = arrow.now()"
   ]
  },
  {
   "cell_type": "code",
   "execution_count": 213,
   "metadata": {
    "collapsed": false
   },
   "outputs": [],
   "source": [
    "ardat = arnowz.date()"
   ]
  },
  {
   "cell_type": "code",
   "execution_count": 214,
   "metadata": {
    "collapsed": false
   },
   "outputs": [
    {
     "data": {
      "text/plain": [
       "'2015-08-13'"
      ]
     },
     "execution_count": 214,
     "metadata": {},
     "output_type": "execute_result"
    }
   ],
   "source": [
    "str(ardat)"
   ]
  },
  {
   "cell_type": "code",
   "execution_count": 215,
   "metadata": {
    "collapsed": true
   },
   "outputs": [],
   "source": [
    "artim = arnowz.time()"
   ]
  },
  {
   "cell_type": "code",
   "execution_count": 216,
   "metadata": {
    "collapsed": false
   },
   "outputs": [],
   "source": [
    "#regetd = requests.get('http://getsdrawn.com')"
   ]
  },
  {
   "cell_type": "code",
   "execution_count": 217,
   "metadata": {
    "collapsed": false
   },
   "outputs": [],
   "source": [
    "requgetdrn = open('/home/wcmckee/getsdrawndotcom/index.html', 'r')"
   ]
  },
  {
   "cell_type": "code",
   "execution_count": 218,
   "metadata": {
    "collapsed": false
   },
   "outputs": [],
   "source": [
    "bst = bs4.BeautifulSoup(requgetdrn.read())"
   ]
  },
  {
   "cell_type": "code",
   "execution_count": 219,
   "metadata": {
    "collapsed": true
   },
   "outputs": [],
   "source": [
    "requgetdrn.close()"
   ]
  },
  {
   "cell_type": "code",
   "execution_count": 220,
   "metadata": {
    "collapsed": false
   },
   "outputs": [
    {
     "data": {
      "text/plain": [
       "<a>https://github.com/getsdrawn/getsdrawndotcom</a>"
      ]
     },
     "execution_count": 220,
     "metadata": {},
     "output_type": "execute_result"
    }
   ],
   "source": [
    "bst.find('a')"
   ]
  },
  {
   "cell_type": "code",
   "execution_count": 221,
   "metadata": {
    "collapsed": false
   },
   "outputs": [],
   "source": [
    "alimg = bst.find_all('a')\n",
    "    #print(bs)"
   ]
  },
  {
   "cell_type": "code",
   "execution_count": 224,
   "metadata": {
    "collapsed": false
   },
   "outputs": [
    {
     "data": {
      "text/plain": [
       "\"\\nfor ali in alimg:\\n    ntpa = (ntpath.basename(ali.text)[:-14])\\n    print (ntpa)\\n\\n    mkmeta = open('/home/wcmckee/github/getsdrawnblog/posts/' +  ntpa + '.rst', 'w')\\n\\n    mkmeta.write('.. |' + ntpa + '| image:: ' + ali.text)\\n    \\n    mkmeta.close()\\n    \\n    mkmeta = open('/home/wcmckee/github/getsdrawnblog/posts/' + ntpa + '.meta', 'w')\\n\\n    mkmeta.write(ntpa + '\\n' + ntpa + '\\n' + str(ardat) + ' ' + str(artim))\\n\\n    mkmeta.close()\\n\""
      ]
     },
     "execution_count": 224,
     "metadata": {},
     "output_type": "execute_result"
    }
   ],
   "source": [
    "'''\n",
    "for ali in alimg:\n",
    "    ntpa = (ntpath.basename(ali.text)[:-14])\n",
    "    print (ntpa)\n",
    "\n",
    "    mkmeta = open('/home/wcmckee/github/getsdrawnblog/posts/' +  ntpa + '.rst', 'w')\n",
    "\n",
    "    mkmeta.write('.. |' + ntpa + '| image:: ' + ali.text)\n",
    "    \n",
    "    mkmeta.close()\n",
    "    \n",
    "    mkmeta = open('/home/wcmckee/github/getsdrawnblog/posts/' + ntpa + '.meta', 'w')\n",
    "\n",
    "    mkmeta.write(ntpa + '\\n' + ntpa + '\\n' + str(ardat) + ' ' + str(artim))\n",
    "\n",
    "    mkmeta.close()\n",
    "'''   "
   ]
  },
  {
   "cell_type": "code",
   "execution_count": null,
   "metadata": {
    "collapsed": true
   },
   "outputs": [],
   "source": []
  },
  {
   "cell_type": "code",
   "execution_count": null,
   "metadata": {
    "collapsed": true
   },
   "outputs": [],
   "source": []
  },
  {
   "cell_type": "code",
   "execution_count": 225,
   "metadata": {
    "collapsed": false
   },
   "outputs": [
    {
     "name": "stderr",
     "output_type": "stream",
     "text": [
      "/usr/local/lib/python3.4/dist-packages/praw/objects.py:118: ResourceWarning: unclosed <socket.socket fd=39, family=AddressFamily.AF_INET, type=SocketType.SOCK_STREAM, proto=6, laddr=('192.168.42.101', 47800)>\n",
      "  object.__setattr__(self, name, value)\n"
     ]
    }
   ],
   "source": [
    "for rsunw in rsunewq:\n",
    "    #print (rsunw.author)\n",
    "    #print (rsunw.author)\n",
    "    mkmeta = open('/home/wcmckee/github/getsdrawnblog/posts/' +  str(rsunw.author) + '.rst', 'w')\n",
    "    mkmeta.write('.. image:: ' + rsunw.url)\n",
    "    mkmeta.close()\n",
    "    \n",
    "    opmeta = open('/home/wcmckee/github/getsdrawnblog/posts/' + str(rsunw.author) + '.meta', 'w')\n",
    "    \n",
    "    opmeta.write((str(rsunw.author) + '\\n' + str(rsunw.author) + '\\n' + str(ardat) + ' ' + str(artim)))\n",
    "    \n",
    "    opmeta.close()"
   ]
  },
  {
   "cell_type": "code",
   "execution_count": 228,
   "metadata": {
    "collapsed": true
   },
   "outputs": [],
   "source": [
    "import os"
   ]
  },
  {
   "cell_type": "code",
   "execution_count": 229,
   "metadata": {
    "collapsed": true
   },
   "outputs": [],
   "source": [
    "os.chdir('/home/wcmckee/github/getsdrawnblog/')"
   ]
  },
  {
   "cell_type": "code",
   "execution_count": 230,
   "metadata": {
    "collapsed": false
   },
   "outputs": [
    {
     "data": {
      "text/plain": [
       "0"
      ]
     },
     "execution_count": 230,
     "metadata": {},
     "output_type": "execute_result"
    }
   ],
   "source": [
    "os.system('nikola build')"
   ]
  },
  {
   "cell_type": "code",
   "execution_count": null,
   "metadata": {
    "collapsed": true
   },
   "outputs": [],
   "source": []
  }
 ],
 "metadata": {
  "kernelspec": {
   "display_name": "Python 3",
   "language": "python",
   "name": "python3"
  },
  "language_info": {
   "codemirror_mode": {
    "name": "ipython",
    "version": 3
   },
   "file_extension": ".py",
   "mimetype": "text/x-python",
   "name": "python",
   "nbconvert_exporter": "python",
   "pygments_lexer": "ipython3",
   "version": "3.4.0"
  }
 },
 "nbformat": 4,
 "nbformat_minor": 0
}
