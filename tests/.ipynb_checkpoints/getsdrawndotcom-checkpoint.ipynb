{
 "cells": [
  {
   "cell_type": "code",
   "execution_count": null,
   "metadata": {
    "collapsed": true
   },
   "outputs": [],
   "source": [
    "import os"
   ]
  },
  {
   "cell_type": "code",
   "execution_count": 28,
   "metadata": {
    "collapsed": false
   },
   "outputs": [],
   "source": [
    "class getsdrawn(object):\n",
    "    def __init__(self):\n",
    "        #gdimgs is a dict object of rgd data.\n",
    "        self.gdimgs = dict()\n",
    "    \n",
    "    def dictaddconts(self, username):\n",
    "        self.gdimgs.update({'username': username})\n",
    "    \n",
    "\n",
    "    def pathcheck(self, pathdirc):\n",
    "        if os.path.isdir(pathdirc) == True:\n",
    "            assert 'its true'\n",
    "        else:\n",
    "            assert 'its false'\n",
    "            os.mkdir(pathdirc)\n",
    "\n",
    "    def openmetafil(metaname):\n",
    "        with open(metaname, 'r') as indexfil:\n",
    "            return indexfil.read()\n",
    "        #panz = opsinz.read()\n",
    "    \n",
    "    #def create"
   ]
  },
  {
   "cell_type": "code",
   "execution_count": 26,
   "metadata": {
    "collapsed": false
   },
   "outputs": [
    {
     "ename": "NameError",
     "evalue": "name 'dictaddconts' is not defined",
     "output_type": "error",
     "traceback": [
      "\u001b[1;31m---------------------------------------------------------------------------\u001b[0m",
      "\u001b[1;31mNameError\u001b[0m                                 Traceback (most recent call last)",
      "\u001b[1;32m<ipython-input-26-c9d158868a57>\u001b[0m in \u001b[0;36m<module>\u001b[1;34m()\u001b[0m\n\u001b[1;32m----> 1\u001b[1;33m \u001b[0mdictaddconts\u001b[0m\u001b[1;33m\u001b[0m\u001b[0m\n\u001b[0m",
      "\u001b[1;31mNameError\u001b[0m: name 'dictaddconts' is not defined"
     ]
    }
   ],
   "source": []
  },
  {
   "cell_type": "code",
   "execution_count": 26,
   "metadata": {
    "collapsed": true
   },
   "outputs": [],
   "source": []
  },
  {
   "cell_type": "code",
   "execution_count": null,
   "metadata": {
    "collapsed": true
   },
   "outputs": [],
   "source": []
  }
 ],
 "metadata": {
  "kernelspec": {
   "display_name": "Python 2",
   "name": "python2"
  },
  "language_info": {
   "codemirror_mode": {
    "name": "ipython",
    "version": 2
   },
   "file_extension": ".py",
   "mimetype": "text/x-python",
   "name": "python",
   "nbconvert_exporter": "python",
   "pygments_lexer": "ipython2",
   "version": "2.7.9"
  }
 },
 "nbformat": 4,
 "nbformat_minor": 0
}
