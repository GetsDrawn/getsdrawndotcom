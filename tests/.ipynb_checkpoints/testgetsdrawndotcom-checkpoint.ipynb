{
 "cells": [
  {
   "cell_type": "markdown",
   "metadata": {},
   "source": [
    "These are test cases. \n",
    "\n",
    "Things I need to test.\n",
    "Opening up json data from reddit. \n",
    "converting json data to dict.\n"
   ]
  },
  {
   "cell_type": "code",
   "execution_count": 15,
   "metadata": {
    "collapsed": false
   },
   "outputs": [],
   "source": [
    "import unittest\n",
    "from mock import Mock\n",
    "import os\n",
    "import socket\n",
    "import getpass\n",
    "\n",
    "#from getsdrawndotcom import pathcheck\n",
    "\n",
    "import getsdrawndotcom\n",
    "\n",
    "#from getsdrawndotcom import "
   ]
  },
  {
   "cell_type": "code",
   "execution_count": 16,
   "metadata": {
    "collapsed": false
   },
   "outputs": [],
   "source": [
    "gdz = getsdrawndotcom.getsdrawn()"
   ]
  },
  {
   "cell_type": "code",
   "execution_count": 17,
   "metadata": {
    "collapsed": true
   },
   "outputs": [],
   "source": [
    "dictcont = gdz.dictaddconts('wcmckee')"
   ]
  },
  {
   "cell_type": "code",
   "execution_count": 18,
   "metadata": {
    "collapsed": true
   },
   "outputs": [],
   "source": [
    "dictcont"
   ]
  },
  {
   "cell_type": "code",
   "execution_count": 19,
   "metadata": {
    "collapsed": false
   },
   "outputs": [
    {
     "data": {
      "text/plain": [
       "{'username': 'wcmckee'}"
      ]
     },
     "execution_count": 19,
     "metadata": {},
     "output_type": "execute_result"
    }
   ],
   "source": [
    "##Assert this is not empty?\n",
    "gdz.gdimgs"
   ]
  },
  {
   "cell_type": "code",
   "execution_count": 20,
   "metadata": {
    "collapsed": false
   },
   "outputs": [
    {
     "ename": "NameError",
     "evalue": "global name 'os' is not defined",
     "output_type": "error",
     "traceback": [
      "\u001b[1;31m---------------------------------------------------------------------------\u001b[0m",
      "\u001b[1;31mNameError\u001b[0m                                 Traceback (most recent call last)",
      "\u001b[1;32m<ipython-input-20-d76faf07aa2a>\u001b[0m in \u001b[0;36m<module>\u001b[1;34m()\u001b[0m\n\u001b[1;32m----> 1\u001b[1;33m \u001b[0mgdz\u001b[0m\u001b[1;33m.\u001b[0m\u001b[0mpathcheck\u001b[0m\u001b[1;33m(\u001b[0m\u001b[1;34m'/home/wcmckee/github/'\u001b[0m\u001b[1;33m)\u001b[0m\u001b[1;33m\u001b[0m\u001b[0m\n\u001b[0m",
      "\u001b[1;32m/home/wcmckee/github/getsdrawn-digitalocean/getsdrawndotcom/Untitled Folder/getsdrawndotcom.py\u001b[0m in \u001b[0;36mpathcheck\u001b[1;34m(self, pathdirc)\u001b[0m\n\u001b[0;32m     14\u001b[0m         \u001b[0mself\u001b[0m\u001b[1;33m.\u001b[0m\u001b[0mgdimgs\u001b[0m \u001b[1;33m=\u001b[0m \u001b[0mdict\u001b[0m\u001b[1;33m(\u001b[0m\u001b[1;33m)\u001b[0m\u001b[1;33m\u001b[0m\u001b[0m\n\u001b[0;32m     15\u001b[0m \u001b[1;33m\u001b[0m\u001b[0m\n\u001b[1;32m---> 16\u001b[1;33m     \u001b[1;32mdef\u001b[0m \u001b[0mdictaddconts\u001b[0m\u001b[1;33m(\u001b[0m\u001b[0mself\u001b[0m\u001b[1;33m,\u001b[0m \u001b[0musername\u001b[0m\u001b[1;33m)\u001b[0m\u001b[1;33m:\u001b[0m\u001b[1;33m\u001b[0m\u001b[0m\n\u001b[0m\u001b[0;32m     17\u001b[0m         \u001b[0mself\u001b[0m\u001b[1;33m.\u001b[0m\u001b[0mgdimgs\u001b[0m\u001b[1;33m.\u001b[0m\u001b[0mupdate\u001b[0m\u001b[1;33m(\u001b[0m\u001b[1;33m{\u001b[0m\u001b[1;34m'username'\u001b[0m\u001b[1;33m:\u001b[0m \u001b[0musername\u001b[0m\u001b[1;33m}\u001b[0m\u001b[1;33m)\u001b[0m\u001b[1;33m\u001b[0m\u001b[0m\n\u001b[0;32m     18\u001b[0m \u001b[1;33m\u001b[0m\u001b[0m\n",
      "\u001b[1;31mNameError\u001b[0m: global name 'os' is not defined"
     ]
    }
   ],
   "source": [
    "gdz.pathcheck('/home/wcmckee/github/')"
   ]
  },
  {
   "cell_type": "code",
   "execution_count": null,
   "metadata": {
    "collapsed": true
   },
   "outputs": [],
   "source": []
  },
  {
   "cell_type": "code",
   "execution_count": null,
   "metadata": {
    "collapsed": true
   },
   "outputs": [],
   "source": []
  },
  {
   "cell_type": "code",
   "execution_count": 11,
   "metadata": {
    "collapsed": false
   },
   "outputs": [
    {
     "ename": "TypeError",
     "evalue": "coercing to Unicode: need string or buffer, getsdrawn found",
     "output_type": "error",
     "traceback": [
      "\u001b[1;31m---------------------------------------------------------------------------\u001b[0m",
      "\u001b[1;31mTypeError\u001b[0m                                 Traceback (most recent call last)",
      "\u001b[1;32m<ipython-input-11-ec667134a279>\u001b[0m in \u001b[0;36m<module>\u001b[1;34m()\u001b[0m\n\u001b[1;32m----> 1\u001b[1;33m \u001b[0mgdz\u001b[0m\u001b[1;33m.\u001b[0m\u001b[0mopenmetafil\u001b[0m\u001b[1;33m(\u001b[0m\u001b[1;33m)\u001b[0m\u001b[1;33m\u001b[0m\u001b[0m\n\u001b[0m",
      "\u001b[1;32m/home/wcmckee/github/getsdrawn-digitalocean/getsdrawndotcom/Untitled Folder/getsdrawndotcom.py\u001b[0m in \u001b[0;36mopenmetafil\u001b[1;34m(metaname)\u001b[0m\n\u001b[0;32m     21\u001b[0m \u001b[1;33m\u001b[0m\u001b[0m\n\u001b[0;32m     22\u001b[0m     \u001b[1;32mdef\u001b[0m \u001b[0mopenmetafil\u001b[0m\u001b[1;33m(\u001b[0m\u001b[0mmetaname\u001b[0m\u001b[1;33m)\u001b[0m\u001b[1;33m:\u001b[0m\u001b[1;33m\u001b[0m\u001b[0m\n\u001b[1;32m---> 23\u001b[1;33m         \u001b[1;32mwith\u001b[0m \u001b[0mopen\u001b[0m\u001b[1;33m(\u001b[0m\u001b[0mmetaname\u001b[0m\u001b[1;33m,\u001b[0m \u001b[1;34m'r'\u001b[0m\u001b[1;33m)\u001b[0m \u001b[1;32mas\u001b[0m \u001b[0mindexfil\u001b[0m\u001b[1;33m:\u001b[0m\u001b[1;33m\u001b[0m\u001b[0m\n\u001b[0m\u001b[0;32m     24\u001b[0m             \u001b[1;32mreturn\u001b[0m \u001b[0mindexfil\u001b[0m\u001b[1;33m.\u001b[0m\u001b[0mread\u001b[0m\u001b[1;33m(\u001b[0m\u001b[1;33m)\u001b[0m\u001b[1;33m\u001b[0m\u001b[0m\n\u001b[0;32m     25\u001b[0m         \u001b[1;31m#panz = opsinz.read()\u001b[0m\u001b[1;33m\u001b[0m\u001b[1;33m\u001b[0m\u001b[0m\n",
      "\u001b[1;31mTypeError\u001b[0m: coercing to Unicode: need string or buffer, getsdrawn found"
     ]
    }
   ],
   "source": [
    "gdz.openmetafil()"
   ]
  },
  {
   "cell_type": "code",
   "execution_count": null,
   "metadata": {
    "collapsed": true
   },
   "outputs": [],
   "source": []
  },
  {
   "cell_type": "code",
   "execution_count": 46,
   "metadata": {
    "collapsed": true
   },
   "outputs": [],
   "source": [
    "jsexam = open('/home/wcmckee/signinlca/signups.json', 'r')"
   ]
  },
  {
   "cell_type": "code",
   "execution_count": 47,
   "metadata": {
    "collapsed": true
   },
   "outputs": [],
   "source": [
    "mfunc = Mock.return_value = jsexam.read()"
   ]
  },
  {
   "cell_type": "code",
   "execution_count": 48,
   "metadata": {
    "collapsed": false
   },
   "outputs": [
    {
     "data": {
      "text/plain": [
       "'{\"username\": \"wcm\", \"lastname\": \"mckee\", \"password\": \"$pbkdf2-sha256$200000$E0IoxbhXqjUmpDSGEEKIkQ$iOhNXarV5FJ/x7Db/QtECPX2tV2yMVcCwJ5ENUiZAcw\", \"firstname\": \"will\"}{\"username\": \"qwe\", \"lastname\": \"qwe\", \"password\": \"$pbkdf2-sha256$200000$nrMW4nxvzVmr9R6j9N4bgw$TW8RQ6Z2rWRPvpSYJTIOYFu410B6Q5QRO1x2YJmB/fs\", \"firstname\": \"qwe\"}'"
      ]
     },
     "execution_count": 48,
     "metadata": {},
     "output_type": "execute_result"
    }
   ],
   "source": [
    "mfunc"
   ]
  },
  {
   "cell_type": "code",
   "execution_count": 49,
   "metadata": {
    "collapsed": true
   },
   "outputs": [],
   "source": [
    "class IntegerArithmeticTestCase(unittest.TestCase):\n",
    "    def testAdd(self):  ## test method names begin 'test*'\n",
    "        self.assertEqual((1 + 2), 3)\n",
    "        self.assertEqual(0 + 1, 1)\n",
    "        "
   ]
  },
  {
   "cell_type": "code",
   "execution_count": 50,
   "metadata": {
    "collapsed": false
   },
   "outputs": [
    {
     "ename": "SyntaxError",
     "evalue": "invalid syntax (<ipython-input-50-8fc0dc24bb73>, line 4)",
     "output_type": "error",
     "traceback": [
      "\u001b[1;36m  File \u001b[1;32m\"<ipython-input-50-8fc0dc24bb73>\"\u001b[1;36m, line \u001b[1;32m4\u001b[0m\n\u001b[1;33m    self.\u001b[0m\n\u001b[1;37m         ^\u001b[0m\n\u001b[1;31mSyntaxError\u001b[0m\u001b[1;31m:\u001b[0m invalid syntax\n"
     ]
    }
   ],
   "source": [
    "class TestPath(unittest.TestCase):\n",
    "    def set_up(self):\n",
    "        #Setup creates the json file that is tested. \n",
    "        self.\n",
    "    def test_dirc_exist(self):\n",
    "        #This test is checking the path exists.\n",
    "        self.('/home/wcmckee')\n",
    "        self.assertRaises('TypeError')\n",
    "    \n",
    "    \n",
    "    #def test_open_meta(self):\n",
    "        #This test checks it can open/read the meta file\n",
    "        #with open(getsdrawndotcom., 'r') as indexfil:\n",
    "            #assert indexfil.read()\n",
    "'''            \n",
    "    def test_create_dict(self):\n",
    "        #This tests creating dict\n",
    "        \n",
    "    def test_update_dict(self):\n",
    "        #This tests updating dict update with key title and value is the dict file title.\n",
    "        \n",
    "    def test_conv_json(self):\n",
    "        #THis tests converting the dict to a json file. \n",
    "        \n",
    "    def test_save_json(self):\n",
    "        #This tests saving the json file.\n",
    "        \n",
    "    def test_trans_json(self):\n",
    "        #This tests transfer of json file\n",
    "        \n",
    "    def test_read_json(self):\n",
    "        #This tests reading the json file. \n",
    "        \n",
    "    def test_logo_dirc(self):\n",
    "        #This tests for is there a logo in the directory. \n",
    "    \n",
    "    def test_write_logo(self):\n",
    "        #This tests creating index.html with logo.png\n",
    "        \n",
    "    \n",
    "        \n",
    "        #for lisr in lisrgc:\n",
    "        #    gtdrndic.update({'title': lisr.title})\n",
    "        #    lisauth.append(str(lisr.author))\n",
    "        #    for osliz in os.listdir(fullhom + metzdays):\n",
    "        #        with open(str(lisr.author) + '.meta', \"w\") as f:\n",
    "        #            rstrin = lisr.title.encode('ascii', 'ignore').decode('ascii')\n",
    "        #            f.write(rstrin)\n",
    "        \n",
    "'''"
   ]
  },
  {
   "cell_type": "code",
   "execution_count": null,
   "metadata": {
    "collapsed": true
   },
   "outputs": [],
   "source": [
    "if __name__ == '__main__':\n",
    "    unittest.main()\n"
   ]
  }
 ],
 "metadata": {
  "kernelspec": {
   "display_name": "Python 2",
   "name": "python2"
  },
  "language_info": {
   "codemirror_mode": {
    "name": "ipython",
    "version": 2
   },
   "file_extension": ".py",
   "mimetype": "text/x-python",
   "name": "python",
   "nbconvert_exporter": "python",
   "pygments_lexer": "ipython2",
   "version": "2.7.9"
  }
 },
 "nbformat": 4,
 "nbformat_minor": 0
}
