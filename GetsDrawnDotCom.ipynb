{
 "metadata": {
  "name": "",
  "signature": "sha256:35785950e4bb9dba7b758f773ebc2c1e646b511d4079404c4687c96969a3384f"
 },
 "nbformat": 3,
 "nbformat_minor": 0,
 "worksheets": [
  {
   "cells": [
    {
     "cell_type": "markdown",
     "metadata": {},
     "source": [
      "<h1>GetsDrawn DotCom</h1>"
     ]
    },
    {
     "cell_type": "markdown",
     "metadata": {},
     "source": [
      "This is a python script to generate the website GetsDrawn. It takes data from /r/RedditGetsDrawn and makes something awesome.\n",
      "\n",
      "The script has envolved and been rewritten several times. \n",
      "\n",
      "The first script for rgdsnatch was written after I got banned from posting my artwork on /r/RedditGetsDrawn. The plan was to create a new site that displayed stuff from /r/RedditGetsDrawn. \n",
      "\n",
      "Currently it only displays the most recent 25 items on redditgetsdrawn.\n",
      "\n",
      "This is moving forward from rgdsnatch.py because I am stuck on it.  \n",
      "\n",
      "TODO\n",
      "\n",
      "Fix the links that don't link to png/jpeg and link to webaddress. \n",
      "Needs to get the images that are at that web address and embed them.\n",
      "\n",
      "Display artwork submitted under the images. \n",
      "\n",
      "Upload artwork to user. Sends them a message on redditgetsdrawn with links. \n",
      "\n",
      "More pandas\n",
      "\n",
      "Saves reference images to imgs/year/month/day/reference/username-reference.png\n",
      "\n",
      "Saves art images to imgs/year/month/day/art/username-line-bw-colour.png \n",
      "\n",
      "Creates index.html file with:\n",
      "Title of site and logo: GetsDrawn\n",
      "Last updated date and time. \n",
      "\n",
      "Path of image file /imgs/year/month/day/username-reference.png. \n",
      "(This needs changed to just their username).\n",
      "\n",
      "Save off .meta data from reddit of each photo, saving it to reference folder.\n",
      "username-yrmnthday.meta - contains info such as author, title, upvotes, downvotes.\n",
      "\n",
      "Currently saves username-line-bw-colour.png to imgs folder. Instead get it to save to imgs/year/month/day/usernames.png.\n",
      "Script checks the year/month/day and if folder isnt created, it creates it. If folder is there, exit. \n",
      "Maybe get the reference image and save it with the line/bw/color.pngs\n",
      "\n",
      "The script now filters the jpeg and png image and skips links to imgur pages. This needs to be fixed by getting the images from the imgur pages.\n",
      "It renames the image files to the redditor username followed by a -reference tag (and ending with png of course).\n",
      "It opens these files up with PIL and checks the sizes. \n",
      "It needs to resize the images that are larger than 800px to 800px.\n",
      "These images need to be linked in the index.html instead of the imgur altenatives. \n",
      "\n",
      "Extending the subreddits it gets data from to cycle though a list, run script though list of subreddits.\n"
     ]
    },
    {
     "cell_type": "code",
     "collapsed": false,
     "input": [
      "import os \n",
      "import requests\n",
      "from bs4 import BeautifulSoup\n",
      "import re\n",
      "import json\n",
      "import time\n",
      "import praw\n",
      "import dominate\n",
      "from dominate.tags import * \n",
      "from time import gmtime, strftime\n",
      "#import nose\n",
      "#import unittest\n",
      "import numpy as np\n",
      "import pandas as pd\n",
      "from pandas import *\n",
      "from PIL import Image\n",
      "from pprint import pprint\n",
      "#import pyttsx\n",
      "import shutil"
     ],
     "language": "python",
     "metadata": {},
     "outputs": [],
     "prompt_number": 468
    },
    {
     "cell_type": "code",
     "collapsed": false,
     "input": [
      "gtsdrndir = ('/home/wcmckee/getsdrawndotcom')"
     ],
     "language": "python",
     "metadata": {},
     "outputs": [],
     "prompt_number": 469
    },
    {
     "cell_type": "code",
     "collapsed": false,
     "input": [
      "os.chdir(gtsdrndir)"
     ],
     "language": "python",
     "metadata": {},
     "outputs": [],
     "prompt_number": 470
    },
    {
     "cell_type": "code",
     "collapsed": false,
     "input": [
      "r = praw.Reddit(user_agent='getsdrawndotcom')"
     ],
     "language": "python",
     "metadata": {},
     "outputs": [],
     "prompt_number": 471
    },
    {
     "cell_type": "code",
     "collapsed": false,
     "input": [
      "#getmin = r.get_redditor('itwillbemine')"
     ],
     "language": "python",
     "metadata": {},
     "outputs": [],
     "prompt_number": 472
    },
    {
     "cell_type": "code",
     "collapsed": false,
     "input": [
      "#mincom = getmin.get_comments()"
     ],
     "language": "python",
     "metadata": {},
     "outputs": [],
     "prompt_number": 473
    },
    {
     "cell_type": "code",
     "collapsed": false,
     "input": [
      "#engine = pyttsx.init()\n",
      "\n",
      "#engine.say('The quick brown fox jumped over the lazy dog.')\n",
      "#engine.runAndWait()"
     ],
     "language": "python",
     "metadata": {},
     "outputs": [],
     "prompt_number": 474
    },
    {
     "cell_type": "code",
     "collapsed": false,
     "input": [
      "#shtweet = []"
     ],
     "language": "python",
     "metadata": {},
     "outputs": [],
     "prompt_number": 475
    },
    {
     "cell_type": "code",
     "collapsed": false,
     "input": [
      "#for mi in mincom:\n",
      "#    print mi\n",
      "#    shtweet.append(mi)"
     ],
     "language": "python",
     "metadata": {},
     "outputs": [],
     "prompt_number": 476
    },
    {
     "cell_type": "code",
     "collapsed": false,
     "input": [
      "bodycom = []\n",
      "bodyicv = dict()"
     ],
     "language": "python",
     "metadata": {},
     "outputs": [],
     "prompt_number": 477
    },
    {
     "cell_type": "code",
     "collapsed": false,
     "input": [
      "#beginz = pyttsx.init()"
     ],
     "language": "python",
     "metadata": {},
     "outputs": [],
     "prompt_number": 478
    },
    {
     "cell_type": "code",
     "collapsed": false,
     "input": [
      "#for shtz in shtweet:\n",
      "#    print shtz.downs\n",
      "#    print shtz.ups\n",
      "#    print shtz.body\n",
      "#    print shtz.replies\n",
      "    #beginz.say(shtz.author)\n",
      "    #beginz.say(shtz.body)\n",
      "    #beginz.runAndWait()\n",
      "    \n",
      "#    bodycom.append(shtz.body)\n",
      "    #bodyic"
     ],
     "language": "python",
     "metadata": {},
     "outputs": [],
     "prompt_number": 479
    },
    {
     "cell_type": "code",
     "collapsed": false,
     "input": [
      "#bodycom "
     ],
     "language": "python",
     "metadata": {},
     "outputs": [],
     "prompt_number": 480
    },
    {
     "cell_type": "code",
     "collapsed": false,
     "input": [
      "getnewr = r.get_subreddit('redditgetsdrawn')"
     ],
     "language": "python",
     "metadata": {},
     "outputs": [],
     "prompt_number": 481
    },
    {
     "cell_type": "code",
     "collapsed": false,
     "input": [
      "rdnew = getnewr.get_new()"
     ],
     "language": "python",
     "metadata": {},
     "outputs": [],
     "prompt_number": 482
    },
    {
     "cell_type": "code",
     "collapsed": false,
     "input": [
      "lisrgc = []\n",
      "lisauth = []"
     ],
     "language": "python",
     "metadata": {},
     "outputs": [],
     "prompt_number": 483
    },
    {
     "cell_type": "code",
     "collapsed": false,
     "input": [
      "for uz in rdnew:\n",
      "    #print uz\n",
      "    lisrgc.append(uz)"
     ],
     "language": "python",
     "metadata": {},
     "outputs": [],
     "prompt_number": 484
    },
    {
     "cell_type": "code",
     "collapsed": false,
     "input": [
      "gtdrndic = dict()"
     ],
     "language": "python",
     "metadata": {},
     "outputs": [],
     "prompt_number": 485
    },
    {
     "cell_type": "code",
     "collapsed": false,
     "input": [
      "imgdir = ('/home/wcmckee/getsdrawndotcom/imgs')"
     ],
     "language": "python",
     "metadata": {},
     "outputs": [],
     "prompt_number": 486
    },
    {
     "cell_type": "code",
     "collapsed": false,
     "input": [
      "artlist = os.listdir(imgdir)"
     ],
     "language": "python",
     "metadata": {},
     "outputs": [],
     "prompt_number": 487
    },
    {
     "cell_type": "code",
     "collapsed": false,
     "input": [
      "from time import time"
     ],
     "language": "python",
     "metadata": {},
     "outputs": [],
     "prompt_number": 488
    },
    {
     "cell_type": "code",
     "collapsed": false,
     "input": [
      "yearz = strftime(\"%y\", gmtime())\n",
      "monthz = strftime(\"%m\", gmtime())\n",
      "dayz = strftime(\"%d\", gmtime())\n",
      "\n",
      "\n",
      "#strftime(\"%y %m %d\", gmtime())\n",
      "\n"
     ],
     "language": "python",
     "metadata": {},
     "outputs": [],
     "prompt_number": 489
    },
    {
     "cell_type": "code",
     "collapsed": false,
     "input": [
      "imgzdir = ('imgs/')\n",
      "yrzpat = (imgzdir + yearz)\n",
      "monzpath = (yrzpat + '/' + monthz)\n",
      "dayzpath = (monzpath + '/' + dayz)\n",
      "rmgzdays = (dayzpath + '/reference')\n",
      "imgzdays = (dayzpath + '/art')\n",
      "\n",
      "repathz = ('imgs/' + yearz + '/' + monthz + '/' + dayz + '/')"
     ],
     "language": "python",
     "metadata": {},
     "outputs": [],
     "prompt_number": 490
    },
    {
     "cell_type": "code",
     "collapsed": false,
     "input": [],
     "language": "python",
     "metadata": {},
     "outputs": [],
     "prompt_number": 490
    },
    {
     "cell_type": "code",
     "collapsed": false,
     "input": [
      "imgzdays"
     ],
     "language": "python",
     "metadata": {},
     "outputs": [
      {
       "metadata": {},
       "output_type": "pyout",
       "prompt_number": 491,
       "text": [
        "'imgs/15/01/02/art'"
       ]
      }
     ],
     "prompt_number": 491
    },
    {
     "cell_type": "code",
     "collapsed": false,
     "input": [
      "repathz"
     ],
     "language": "python",
     "metadata": {},
     "outputs": [
      {
       "metadata": {},
       "output_type": "pyout",
       "prompt_number": 492,
       "text": [
        "'imgs/15/01/02/'"
       ]
      }
     ],
     "prompt_number": 492
    },
    {
     "cell_type": "code",
     "collapsed": false,
     "input": [
      "def ospacheck():\n",
      "    if os.path.isdir(imgzdir + yearz) == True:\n",
      "        print 'its true'\n",
      "    else:\n",
      "        print 'its false'\n",
      "        os.mkdir(imgzdir + yearz)\n",
      "    "
     ],
     "language": "python",
     "metadata": {},
     "outputs": [],
     "prompt_number": 493
    },
    {
     "cell_type": "code",
     "collapsed": false,
     "input": [
      "ospacheck()"
     ],
     "language": "python",
     "metadata": {},
     "outputs": [
      {
       "output_type": "stream",
       "stream": "stdout",
       "text": [
        "its true\n"
       ]
      }
     ],
     "prompt_number": 494
    },
    {
     "cell_type": "code",
     "collapsed": false,
     "input": [
      "#if os.path.isdir(imgzdir + yearz) == True:\n",
      "#    print 'its true'\n",
      "#else:\n",
      "#    print 'its false'\n",
      "#    os.mkdir(imgzdir + yearz)"
     ],
     "language": "python",
     "metadata": {},
     "outputs": [],
     "prompt_number": 495
    },
    {
     "cell_type": "code",
     "collapsed": false,
     "input": [
      "if os.path.isdir(monzpath) == True:\n",
      "    print 'its true'\n",
      "else:\n",
      "    print 'its false'\n",
      "    os.mkdir(monzpath)\n",
      "\n",
      "#os.mkdir(monzpath)"
     ],
     "language": "python",
     "metadata": {},
     "outputs": [
      {
       "output_type": "stream",
       "stream": "stdout",
       "text": [
        "its true\n"
       ]
      }
     ],
     "prompt_number": 496
    },
    {
     "cell_type": "code",
     "collapsed": false,
     "input": [
      "if os.path.isdir(dayzpath) == True:\n",
      "    print 'its true'\n",
      "else:\n",
      "    print 'its false'\n",
      "    os.mkdir(dayzpath)\n",
      "\n",
      "#os.mkdir(dayzpath)"
     ],
     "language": "python",
     "metadata": {},
     "outputs": [
      {
       "output_type": "stream",
       "stream": "stdout",
       "text": [
        "its true\n"
       ]
      }
     ],
     "prompt_number": 497
    },
    {
     "cell_type": "code",
     "collapsed": true,
     "input": [
      "if os.path.isdir(imgzdays) == True:\n",
      "    print 'its true'\n",
      "else:\n",
      "    print 'its false'\n",
      "    os.mkdir(imgzdays)"
     ],
     "language": "python",
     "metadata": {},
     "outputs": [
      {
       "output_type": "stream",
       "stream": "stdout",
       "text": [
        "its true\n"
       ]
      }
     ],
     "prompt_number": 498
    },
    {
     "cell_type": "code",
     "collapsed": false,
     "input": [
      "if os.path.isdir(rmgzdays) == True:\n",
      "    print 'its true'\n",
      "else:\n",
      "    print 'its false'\n",
      "    os.mkdir(rmgzdays)"
     ],
     "language": "python",
     "metadata": {},
     "outputs": [
      {
       "output_type": "stream",
       "stream": "stdout",
       "text": [
        "its true\n"
       ]
      }
     ],
     "prompt_number": 499
    },
    {
     "cell_type": "code",
     "collapsed": false,
     "input": [
      "#artlist"
     ],
     "language": "python",
     "metadata": {},
     "outputs": [],
     "prompt_number": 500
    },
    {
     "cell_type": "code",
     "collapsed": false,
     "input": [
      "httpad = ('http://getsdrawn.com/imgs')"
     ],
     "language": "python",
     "metadata": {},
     "outputs": [],
     "prompt_number": 501
    },
    {
     "cell_type": "code",
     "collapsed": false,
     "input": [
      "#im = Image.new(\"RGB\", (512, 512), \"white\")\n",
      "#im.save(file + \".thumbnail\", \"JPEG\")"
     ],
     "language": "python",
     "metadata": {},
     "outputs": [],
     "prompt_number": 502
    },
    {
     "cell_type": "code",
     "collapsed": false,
     "input": [
      "for lisr in lisrgc:\n",
      "    gtdrndic.update({'title': lisr.title})\n",
      "    lisauth.append(str(lisr.author))\n"
     ],
     "language": "python",
     "metadata": {},
     "outputs": [],
     "prompt_number": 503
    },
    {
     "cell_type": "code",
     "collapsed": false,
     "input": [
      "rmgzdays = (dayzpath + '/reference')\n",
      "imgzdays = (dayzpath + '/art')"
     ],
     "language": "python",
     "metadata": {},
     "outputs": [],
     "prompt_number": 504
    },
    {
     "cell_type": "code",
     "collapsed": false,
     "input": [
      "os.chdir(imgzdays)"
     ],
     "language": "python",
     "metadata": {},
     "outputs": [],
     "prompt_number": 505
    },
    {
     "cell_type": "code",
     "collapsed": false,
     "input": [
      "rmgzdays"
     ],
     "language": "python",
     "metadata": {},
     "outputs": [
      {
       "metadata": {},
       "output_type": "pyout",
       "prompt_number": 533,
       "text": [
        "'imgs/15/01/02/reference'"
       ]
      }
     ],
     "prompt_number": 533
    },
    {
     "cell_type": "code",
     "collapsed": false,
     "input": [
      "#os.listdir(dayzpath)"
     ],
     "language": "python",
     "metadata": {},
     "outputs": [],
     "prompt_number": 507
    },
    {
     "cell_type": "code",
     "collapsed": false,
     "input": [
      "for lisa in lisauth:\n",
      "    #print lisa + '-line.png'\n",
      "    im = Image.new(\"RGB\", (512, 512), \"white\")\n",
      "    im.save(lisa + '-line.png')\n",
      "    im = Image.new(\"RGB\", (512, 512), \"white\")\n",
      "    im.save(lisa + '-bw.png')\n",
      "\n",
      "    #print lisa + '-bw.png'\n",
      "    im = Image.new(\"RGB\", (512, 512), \"white\")\n",
      "    im.save(lisa + '-colour.png')\n",
      "\n",
      "    #print lisa + '-colour.png'"
     ],
     "language": "python",
     "metadata": {},
     "outputs": [],
     "prompt_number": 508
    },
    {
     "cell_type": "code",
     "collapsed": false,
     "input": [
      "os.listdir('/home/wcmckee/getsdrawndotcom/imgs')"
     ],
     "language": "python",
     "metadata": {},
     "outputs": [
      {
       "metadata": {},
       "output_type": "pyout",
       "prompt_number": 509,
       "text": [
        "['getsdrawn-bw.png', '12', '15', '14']"
       ]
      }
     ],
     "prompt_number": 509
    },
    {
     "cell_type": "code",
     "collapsed": false,
     "input": [
      "lisauth"
     ],
     "language": "python",
     "metadata": {},
     "outputs": [
      {
       "metadata": {},
       "output_type": "pyout",
       "prompt_number": 510,
       "text": [
        "['RobVegas',\n",
        " 'Plastic-Is-Fantastic',\n",
        " 'Fuck1_Marry1_Kill1',\n",
        " 'zoeypants2012',\n",
        " 'mrturdferguson',\n",
        " 'everythingiseeishere',\n",
        " 'Vangunn',\n",
        " 'RedLegsRone',\n",
        " 'Morgi_',\n",
        " 'demonicpig',\n",
        " 'kollapstradixionales',\n",
        " 'xeddier',\n",
        " 'Nakittina',\n",
        " 'Toasted_Badger',\n",
        " 'DaywalkerManifesto',\n",
        " 'HuggingTheJellyfish',\n",
        " 'PoseidonsTrident',\n",
        " 'Mooka27',\n",
        " 'benbrandt22',\n",
        " 'ultimate_hedonist',\n",
        " 'springerfinger',\n",
        " 'vicbond004',\n",
        " 'IWearPlaid',\n",
        " 'layla2189',\n",
        " '_leeza']"
       ]
      }
     ],
     "prompt_number": 510
    },
    {
     "cell_type": "markdown",
     "metadata": {},
     "source": [
      "I want to save the list of usernames that submit images as png files in a dir. \n",
      "Currently when I call the list of authors it returns Redditor(user_name='theusername'). I want to return 'theusername'.\n",
      "Once this is resolved I can add '-line.png' '-bw.png' '-colour.png' to each folder. "
     ]
    },
    {
     "cell_type": "code",
     "collapsed": false,
     "input": [
      "lisr.author"
     ],
     "language": "python",
     "metadata": {},
     "outputs": [
      {
       "metadata": {},
       "output_type": "pyout",
       "prompt_number": 511,
       "text": [
        "Redditor(user_name='_leeza')"
       ]
      }
     ],
     "prompt_number": 511
    },
    {
     "cell_type": "code",
     "collapsed": false,
     "input": [
      "namlis = []"
     ],
     "language": "python",
     "metadata": {},
     "outputs": [],
     "prompt_number": 512
    },
    {
     "cell_type": "code",
     "collapsed": false,
     "input": [
      "opsinz = open('/home/wcmckee/visignsys/index.meta', 'r')\n",
      "panz = opsinz.read()"
     ],
     "language": "python",
     "metadata": {},
     "outputs": [],
     "prompt_number": 513
    },
    {
     "cell_type": "code",
     "collapsed": false,
     "input": [
      "os.chdir('/home/wcmckee/getsdrawndotcom/' + rmgzdays)"
     ],
     "language": "python",
     "metadata": {},
     "outputs": [],
     "prompt_number": 515
    },
    {
     "cell_type": "code",
     "collapsed": false,
     "input": [
      "#panz()\n",
      "for rdz in lisrgc:\n",
      "    (rdz.title)\n",
      "    #a(rdz.url)\n",
      "    if 'http://i.imgur.com' in rdz.url:\n",
      "        #print rdz.url\n",
      "        print (rdz.url)\n",
      "        url = rdz.url\n",
      "        response = requests.get(url, stream=True)\n",
      "        with open(str(rdz.author) + '-reference.png', 'wb') as out_file:\n",
      "            shutil.copyfileobj(response.raw, out_file)\n",
      "            del response"
     ],
     "language": "python",
     "metadata": {},
     "outputs": [
      {
       "output_type": "stream",
       "stream": "stdout",
       "text": [
        "http://i.imgur.com/WrKlbmL.jpg\n",
        "http://i.imgur.com/aJLbh2u.jpg"
       ]
      },
      {
       "output_type": "stream",
       "stream": "stdout",
       "text": [
        "\n",
        "http://i.imgur.com/i3mFSUO.jpg?1"
       ]
      },
      {
       "output_type": "stream",
       "stream": "stdout",
       "text": [
        "\n",
        "http://i.imgur.com/ytCQJWb.jpg"
       ]
      },
      {
       "output_type": "stream",
       "stream": "stdout",
       "text": [
        "\n",
        "http://i.imgur.com/wHwGj0e.jpg"
       ]
      },
      {
       "output_type": "stream",
       "stream": "stdout",
       "text": [
        "\n",
        "http://i.imgur.com/j5UTWoW.jpg"
       ]
      },
      {
       "output_type": "stream",
       "stream": "stdout",
       "text": [
        "\n",
        "http://i.imgur.com/NofXPh9.png"
       ]
      },
      {
       "output_type": "stream",
       "stream": "stdout",
       "text": [
        "\n",
        "http://i.imgur.com/N9daGIP.jpg"
       ]
      },
      {
       "output_type": "stream",
       "stream": "stdout",
       "text": [
        "\n",
        "http://i.imgur.com/OdMPASg.jpg"
       ]
      },
      {
       "output_type": "stream",
       "stream": "stdout",
       "text": [
        "\n",
        "http://i.imgur.com/weweVUe.jpg"
       ]
      },
      {
       "output_type": "stream",
       "stream": "stdout",
       "text": [
        "\n",
        "http://i.imgur.com/sfdYmTk.jpg"
       ]
      },
      {
       "output_type": "stream",
       "stream": "stdout",
       "text": [
        "\n",
        "http://i.imgur.com/6qOYHoA.jpg"
       ]
      },
      {
       "output_type": "stream",
       "stream": "stdout",
       "text": [
        "\n",
        "http://i.imgur.com/MhcuFUk.jpg"
       ]
      },
      {
       "output_type": "stream",
       "stream": "stdout",
       "text": [
        "\n",
        "http://i.imgur.com/j130EXf.jpg"
       ]
      },
      {
       "output_type": "stream",
       "stream": "stdout",
       "text": [
        "\n",
        "http://i.imgur.com/1lA5XeO.jpg"
       ]
      },
      {
       "output_type": "stream",
       "stream": "stdout",
       "text": [
        "\n"
       ]
      }
     ],
     "prompt_number": 516
    },
    {
     "cell_type": "code",
     "collapsed": false,
     "input": [
      "apsize = []"
     ],
     "language": "python",
     "metadata": {},
     "outputs": [],
     "prompt_number": 517
    },
    {
     "cell_type": "code",
     "collapsed": false,
     "input": [
      "aptype = []"
     ],
     "language": "python",
     "metadata": {},
     "outputs": [],
     "prompt_number": 518
    },
    {
     "cell_type": "code",
     "collapsed": false,
     "input": [
      "basewidth = 600"
     ],
     "language": "python",
     "metadata": {},
     "outputs": [],
     "prompt_number": 519
    },
    {
     "cell_type": "code",
     "collapsed": false,
     "input": [
      "imgdict = dict()"
     ],
     "language": "python",
     "metadata": {},
     "outputs": [],
     "prompt_number": 520
    },
    {
     "cell_type": "code",
     "collapsed": false,
     "input": [
      "for rmglis in os.listdir('/home/wcmckee/getsdrawndotcom/' + rmgzdays):\n",
      "    print rmglis\n",
      "    im = Image.open(rmglis)\n",
      "    print im.size\n",
      "    imgdict.update({rmglis : im.size})\n",
      "    #im.thumbnail(size, Image.ANTIALIAS)\n",
      "    #im.save(file + \".thumbnail\", \"JPEG\")\n",
      "    apsize.append(im.size)\n",
      "    aptype.append(rmglis)"
     ],
     "language": "python",
     "metadata": {},
     "outputs": [
      {
       "output_type": "stream",
       "stream": "stdout",
       "text": [
        "Fuck1_Marry1_Kill1-reference.png\n",
        "(2448, 3264)\n",
        "ReptileLover82-reference.png\n",
        "(900, 1200)\n",
        "Vegglimer-reference.png\n",
        "(621, 861)\n",
        "ctmedic-reference.png\n",
        "(1024, 1024)\n",
        "westendbestend-reference.png\n",
        "(668, 960)\n",
        "startages-reference.png\n",
        "(1849, 1525)\n",
        "vicbond004-reference.png\n",
        "(3264, 2448)\n",
        "PolishAce-reference.png\n",
        "(1148, 1148)\n",
        "qtpie2000-reference.png\n",
        "(960, 1280)\n",
        "PitbullGirl-reference.png\n",
        "(960, 778)\n",
        "zoeypants2012-reference.png\n",
        "(720, 1280)\n",
        "ReoutS-reference.png\n",
        "(1188, 2036)\n",
        "Kritter2490-reference.png\n",
        "(1361, 2048)\n",
        "PharmerRob-reference.png\n",
        "(720, 960)\n",
        "JosephHughes-reference.png\n",
        "(581, 1032)\n",
        "Boobbuffet-reference.png\n",
        "(150, 150)\n",
        "luckybunnyhop-reference.png\n",
        "(1080, 1920)\n",
        "Toasted_Badger-reference.png\n",
        "(960, 1280)\n",
        "Pipvault-reference.png\n",
        "(2448, 3264)\n",
        "crobertt2-reference.png\n",
        "(1024, 768)\n",
        "xeddier-reference.png\n",
        "(960, 540)\n",
        "Ladyloulou-reference.png\n",
        "(819, 1024)\n",
        "Plastic-Is-Fantastic-reference.png\n",
        "(640, 640)\n",
        "3_Toed_Hooker-reference.png\n",
        "(1366, 2048)\n",
        "whizzo3031-reference.png\n",
        "(479, 356)\n",
        "iloveariiii-reference.png\n",
        "(768, 1024)\n",
        "HuggingTheJellyfish-reference.png\n",
        "(729, 1095)\n",
        "honeybri-reference.png\n",
        "(959, 538)\n",
        "mrturdferguson-reference.png\n",
        "(1861, 2687)\n",
        "themodporcupine-reference.png\n",
        "(711, 473)\n",
        "DaywalkerManifesto-reference.png\n",
        "(640, 1136)\n",
        "demonicpig-reference.png\n",
        "(2048, 1536)\n",
        "TheUnknownUsername-reference.png\n",
        "(778, 1280)\n",
        "Joefishjones-reference.png\n",
        "(1080, 720)\n",
        "Stalli0nDuck-reference.png\n",
        "(960, 640)\n",
        "Nakittina-reference.png\n",
        "(720, 1280)\n",
        "Grammatical_Aneurysm-reference.png\n",
        "(355, 473)\n",
        "Morgi_-reference.png\n",
        "(2448, 2448)\n",
        "Eneyek-reference.png\n",
        "(2048, 1366)\n",
        "Ratkus-reference.png\n",
        "(960, 960)\n",
        "gross_caricature-reference.png\n",
        "(480, 640)\n",
        "poooooooooooooo0op-reference.png\n",
        "(900, 1200)\n",
        "Dinosaurlover75-reference.png\n",
        "(4128, 2322)\n",
        "PenguinsGoMeow-reference.png\n",
        "(3110, 2073)\n",
        "mrcoplo-reference.png\n",
        "(1365, 2048)\n",
        "mad_squabbles-reference.png\n",
        "(4128, 2322)\n",
        "kollapstradixionales-reference.png\n",
        "(734, 787)\n",
        "ultimate_hedonist-reference.png\n",
        "(1080, 1920)\n",
        "leeleechanda-reference.png\n",
        "(479, 479)\n",
        "PoseidonsTrident-reference.png\n",
        "(1080, 1039)\n",
        "TheDarlis-reference.png\n",
        "(2448, 3264)\n",
        "mrz5000-reference.png\n",
        "(960, 1280)\n"
       ]
      }
     ],
     "prompt_number": 522
    },
    {
     "cell_type": "code",
     "collapsed": false,
     "input": [
      "for imdva in imgdict.values():\n",
      "    #print imdva\n",
      "    for deva in imdva:\n",
      "        #print deva\n",
      "        if deva < 1000:\n",
      "            print 'omg less than 1000'\n",
      "        else:\n",
      "            print 'omg more than 1000'\n",
      "            print deva / 2\n",
      "            #print imgdict.values\n",
      "            # Needs to update imgdict.values with this new number. Must halve height also."
     ],
     "language": "python",
     "metadata": {},
     "outputs": [
      {
       "output_type": "stream",
       "stream": "stdout",
       "text": [
        "omg more than 1000\n",
        "1632\n",
        "omg more than 1000\n",
        "1224\n",
        "omg more than 1000\n",
        "2064\n",
        "omg more than 1000\n",
        "1161\n",
        "omg less than 1000\n",
        "omg less than 1000\n",
        "omg more than 1000\n",
        "540\n",
        "omg less than 1000\n",
        "omg less than 1000\n",
        "omg more than 1000\n",
        "600\n",
        "omg more than 1000\n",
        "540\n",
        "omg more than 1000\n",
        "960\n",
        "omg more than 1000\n",
        "680\n",
        "omg more than 1000\n",
        "1024\n",
        "omg more than 1000\n",
        "540\n",
        "omg more than 1000\n",
        "519\n",
        "omg less than 1000\n",
        "omg less than 1000\n",
        "omg less than 1000\n",
        "omg less than 1000\n",
        "omg less than 1000\n",
        "omg less than 1000\n",
        "omg more than 1000\n",
        "1024\n",
        "omg more than 1000\n",
        "768\n",
        "omg less than 1000\n",
        "omg less than 1000\n",
        "omg less than 1000\n",
        "omg less than 1000\n",
        "omg more than 1000\n",
        "2064\n",
        "omg more than 1000\n",
        "1161\n",
        "omg less than 1000\n",
        "omg less than 1000\n",
        "omg less than 1000\n",
        "omg more than 1000\n",
        "640\n",
        "omg less than 1000\n",
        "omg less than 1000\n",
        "omg less than 1000\n",
        "omg less than 1000\n",
        "omg more than 1000\n",
        "1224\n",
        "omg more than 1000\n",
        "1632\n",
        "omg less than 1000\n",
        "omg less than 1000\n",
        "omg more than 1000\n",
        "1555\n",
        "omg more than 1000\n",
        "1036\n",
        "omg less than 1000\n",
        "omg less than 1000\n",
        "omg more than 1000\n",
        "540\n",
        "omg more than 1000\n",
        "960\n",
        "omg less than 1000\n",
        "omg more than 1000\n",
        "640\n",
        "omg more than 1000\n",
        "512\n",
        "omg less than 1000\n",
        "omg less than 1000\n",
        "omg less than 1000\n",
        "omg less than 1000\n",
        "omg more than 1000\n",
        "512\n",
        "omg less than 1000\n",
        "omg less than 1000\n",
        "omg less than 1000\n",
        "omg less than 1000\n",
        "omg more than 1000\n",
        "512\n",
        "omg more than 1000\n",
        "512\n",
        "omg less than 1000\n",
        "omg more than 1000\n",
        "600\n",
        "omg more than 1000\n",
        "574\n",
        "omg more than 1000\n",
        "574\n",
        "omg less than 1000\n",
        "omg more than 1000\n",
        "640\n",
        "omg less than 1000\n",
        "omg more than 1000\n",
        "640\n",
        "omg more than 1000\n",
        "594\n",
        "omg more than 1000\n",
        "1018\n",
        "omg more than 1000\n",
        "682\n",
        "omg more than 1000\n",
        "1024\n",
        "omg more than 1000\n",
        "1224\n",
        "omg more than 1000\n",
        "1632\n",
        "omg less than 1000\n",
        "omg less than 1000\n",
        "omg less than 1000\n",
        "omg more than 1000\n",
        "640\n",
        "omg more than 1000\n",
        "1224\n",
        "omg more than 1000\n",
        "1632\n",
        "omg less than 1000\n",
        "omg more than 1000\n",
        "512\n",
        "omg less than 1000\n",
        "omg more than 1000\n",
        "516\n",
        "omg more than 1000\n",
        "1224\n",
        "omg more than 1000\n",
        "1224\n",
        "omg more than 1000\n",
        "924\n",
        "omg more than 1000\n",
        "762\n",
        "omg less than 1000\n",
        "omg less than 1000\n",
        "omg more than 1000\n",
        "1024\n",
        "omg more than 1000\n",
        "683\n",
        "omg less than 1000\n",
        "omg more than 1000\n",
        "568\n",
        "omg more than 1000\n",
        "683\n",
        "omg more than 1000\n",
        "1024\n",
        "omg more than 1000\n",
        "930\n",
        "omg more than 1000\n",
        "1343\n",
        "omg less than 1000\n",
        "omg more than 1000\n",
        "547\n",
        "omg less than 1000\n",
        "omg more than 1000\n",
        "640\n"
       ]
      }
     ],
     "prompt_number": 523
    },
    {
     "cell_type": "code",
     "collapsed": false,
     "input": [
      "#basewidth = 300\n",
      "#img = Image.open('somepic.jpg')\n",
      "#wpercent = (basewidth/float(img.size[0]))\n",
      "#hsize = int((float(img.size[1])*float(wpercent)))\n",
      "#img = img.resize((basewidth,hsize), PIL.Image.ANTIALIAS)\n",
      "#img.save('sompic.jpg')"
     ],
     "language": "python",
     "metadata": {},
     "outputs": [],
     "prompt_number": 525
    },
    {
     "cell_type": "code",
     "collapsed": false,
     "input": [
      "for numz in apsize:\n",
      "    print numz[0]\n",
      "    if numz[0] > 800:\n",
      "        print ('greater than 800')\n",
      "    else:\n",
      "        print ('less than 800!')"
     ],
     "language": "python",
     "metadata": {},
     "outputs": [
      {
       "output_type": "stream",
       "stream": "stdout",
       "text": [
        "2448\n",
        "greater than 800\n",
        "900\n",
        "greater than 800\n",
        "621\n",
        "less than 800!\n",
        "1024\n",
        "greater than 800\n",
        "668\n",
        "less than 800!\n",
        "1849\n",
        "greater than 800\n",
        "3264\n",
        "greater than 800\n",
        "1148\n",
        "greater than 800\n",
        "960\n",
        "greater than 800\n",
        "960\n",
        "greater than 800\n",
        "720\n",
        "less than 800!\n",
        "1188\n",
        "greater than 800\n",
        "1361\n",
        "greater than 800\n",
        "720\n",
        "less than 800!\n",
        "581\n",
        "less than 800!\n",
        "150\n",
        "less than 800!\n",
        "1080\n",
        "greater than 800\n",
        "960\n",
        "greater than 800\n",
        "2448\n",
        "greater than 800\n",
        "1024\n",
        "greater than 800\n",
        "960\n",
        "greater than 800\n",
        "819\n",
        "greater than 800\n",
        "640\n",
        "less than 800!\n",
        "1366\n",
        "greater than 800\n",
        "479\n",
        "less than 800!\n",
        "768\n",
        "less than 800!\n",
        "729\n",
        "less than 800!\n",
        "959\n",
        "greater than 800\n",
        "1861\n",
        "greater than 800\n",
        "711\n",
        "less than 800!\n",
        "640\n",
        "less than 800!\n",
        "2048\n",
        "greater than 800\n",
        "778\n",
        "less than 800!\n",
        "1080\n",
        "greater than 800\n",
        "960\n",
        "greater than 800\n",
        "720\n",
        "less than 800!\n",
        "355\n",
        "less than 800!\n",
        "2448\n",
        "greater than 800\n",
        "2048\n",
        "greater than 800\n",
        "960\n",
        "greater than 800\n",
        "480\n",
        "less than 800!\n",
        "900\n",
        "greater than 800\n",
        "4128\n",
        "greater than 800\n",
        "3110\n",
        "greater than 800\n",
        "1365\n",
        "greater than 800\n",
        "4128\n",
        "greater than 800\n",
        "734\n",
        "less than 800!\n",
        "1080\n",
        "greater than 800\n",
        "479\n",
        "less than 800!\n",
        "1080\n",
        "greater than 800\n",
        "2448\n",
        "greater than 800\n",
        "960\n",
        "greater than 800\n"
       ]
      }
     ],
     "prompt_number": 526
    },
    {
     "cell_type": "code",
     "collapsed": false,
     "input": [
      "reliz = []"
     ],
     "language": "python",
     "metadata": {},
     "outputs": [],
     "prompt_number": 538
    },
    {
     "cell_type": "code",
     "collapsed": false,
     "input": [
      "for refls in os.listdir('/home/wcmckee/getsdrawndotcom/' + rmgzdays):\n",
      "    #print rmgzdays + refls\n",
      "    reliz.append(rmgzdays + '/' + refls)"
     ],
     "language": "python",
     "metadata": {},
     "outputs": [],
     "prompt_number": 539
    },
    {
     "cell_type": "code",
     "collapsed": false,
     "input": [],
     "language": "python",
     "metadata": {},
     "outputs": [],
     "prompt_number": 539
    },
    {
     "cell_type": "code",
     "collapsed": false,
     "input": [
      "reliz"
     ],
     "language": "python",
     "metadata": {},
     "outputs": [
      {
       "metadata": {},
       "output_type": "pyout",
       "prompt_number": 541,
       "text": [
        "['imgs/15/01/02/reference/Fuck1_Marry1_Kill1-reference.png',\n",
        " 'imgs/15/01/02/reference/ReptileLover82-reference.png',\n",
        " 'imgs/15/01/02/reference/Vegglimer-reference.png',\n",
        " 'imgs/15/01/02/reference/ctmedic-reference.png',\n",
        " 'imgs/15/01/02/reference/westendbestend-reference.png',\n",
        " 'imgs/15/01/02/reference/startages-reference.png',\n",
        " 'imgs/15/01/02/reference/vicbond004-reference.png',\n",
        " 'imgs/15/01/02/reference/PolishAce-reference.png',\n",
        " 'imgs/15/01/02/reference/qtpie2000-reference.png',\n",
        " 'imgs/15/01/02/reference/PitbullGirl-reference.png',\n",
        " 'imgs/15/01/02/reference/zoeypants2012-reference.png',\n",
        " 'imgs/15/01/02/reference/ReoutS-reference.png',\n",
        " 'imgs/15/01/02/reference/Kritter2490-reference.png',\n",
        " 'imgs/15/01/02/reference/PharmerRob-reference.png',\n",
        " 'imgs/15/01/02/reference/JosephHughes-reference.png',\n",
        " 'imgs/15/01/02/reference/Boobbuffet-reference.png',\n",
        " 'imgs/15/01/02/reference/luckybunnyhop-reference.png',\n",
        " 'imgs/15/01/02/reference/Toasted_Badger-reference.png',\n",
        " 'imgs/15/01/02/reference/Pipvault-reference.png',\n",
        " 'imgs/15/01/02/reference/crobertt2-reference.png',\n",
        " 'imgs/15/01/02/reference/xeddier-reference.png',\n",
        " 'imgs/15/01/02/reference/Ladyloulou-reference.png',\n",
        " 'imgs/15/01/02/reference/Plastic-Is-Fantastic-reference.png',\n",
        " 'imgs/15/01/02/reference/3_Toed_Hooker-reference.png',\n",
        " 'imgs/15/01/02/reference/whizzo3031-reference.png',\n",
        " 'imgs/15/01/02/reference/iloveariiii-reference.png',\n",
        " 'imgs/15/01/02/reference/HuggingTheJellyfish-reference.png',\n",
        " 'imgs/15/01/02/reference/honeybri-reference.png',\n",
        " 'imgs/15/01/02/reference/mrturdferguson-reference.png',\n",
        " 'imgs/15/01/02/reference/themodporcupine-reference.png',\n",
        " 'imgs/15/01/02/reference/DaywalkerManifesto-reference.png',\n",
        " 'imgs/15/01/02/reference/demonicpig-reference.png',\n",
        " 'imgs/15/01/02/reference/TheUnknownUsername-reference.png',\n",
        " 'imgs/15/01/02/reference/Joefishjones-reference.png',\n",
        " 'imgs/15/01/02/reference/Stalli0nDuck-reference.png',\n",
        " 'imgs/15/01/02/reference/Nakittina-reference.png',\n",
        " 'imgs/15/01/02/reference/Grammatical_Aneurysm-reference.png',\n",
        " 'imgs/15/01/02/reference/Morgi_-reference.png',\n",
        " 'imgs/15/01/02/reference/Eneyek-reference.png',\n",
        " 'imgs/15/01/02/reference/Ratkus-reference.png',\n",
        " 'imgs/15/01/02/reference/gross_caricature-reference.png',\n",
        " 'imgs/15/01/02/reference/poooooooooooooo0op-reference.png',\n",
        " 'imgs/15/01/02/reference/Dinosaurlover75-reference.png',\n",
        " 'imgs/15/01/02/reference/PenguinsGoMeow-reference.png',\n",
        " 'imgs/15/01/02/reference/mrcoplo-reference.png',\n",
        " 'imgs/15/01/02/reference/mad_squabbles-reference.png',\n",
        " 'imgs/15/01/02/reference/kollapstradixionales-reference.png',\n",
        " 'imgs/15/01/02/reference/ultimate_hedonist-reference.png',\n",
        " 'imgs/15/01/02/reference/leeleechanda-reference.png',\n",
        " 'imgs/15/01/02/reference/PoseidonsTrident-reference.png',\n",
        " 'imgs/15/01/02/reference/TheDarlis-reference.png',\n",
        " 'imgs/15/01/02/reference/mrz5000-reference.png']"
       ]
      }
     ],
     "prompt_number": 541
    },
    {
     "cell_type": "code",
     "collapsed": false,
     "input": [
      "aptype"
     ],
     "language": "python",
     "metadata": {},
     "outputs": [
      {
       "metadata": {},
       "output_type": "pyout",
       "prompt_number": 542,
       "text": [
        "['Fuck1_Marry1_Kill1-reference.png',\n",
        " 'ReptileLover82-reference.png',\n",
        " 'Vegglimer-reference.png',\n",
        " 'ctmedic-reference.png',\n",
        " 'westendbestend-reference.png',\n",
        " 'startages-reference.png',\n",
        " 'vicbond004-reference.png',\n",
        " 'PolishAce-reference.png',\n",
        " 'qtpie2000-reference.png',\n",
        " 'PitbullGirl-reference.png',\n",
        " 'zoeypants2012-reference.png',\n",
        " 'ReoutS-reference.png',\n",
        " 'Kritter2490-reference.png',\n",
        " 'PharmerRob-reference.png',\n",
        " 'JosephHughes-reference.png',\n",
        " 'Boobbuffet-reference.png',\n",
        " 'luckybunnyhop-reference.png',\n",
        " 'Toasted_Badger-reference.png',\n",
        " 'Pipvault-reference.png',\n",
        " 'crobertt2-reference.png',\n",
        " 'xeddier-reference.png',\n",
        " 'Ladyloulou-reference.png',\n",
        " 'Plastic-Is-Fantastic-reference.png',\n",
        " '3_Toed_Hooker-reference.png',\n",
        " 'whizzo3031-reference.png',\n",
        " 'iloveariiii-reference.png',\n",
        " 'HuggingTheJellyfish-reference.png',\n",
        " 'honeybri-reference.png',\n",
        " 'mrturdferguson-reference.png',\n",
        " 'themodporcupine-reference.png',\n",
        " 'DaywalkerManifesto-reference.png',\n",
        " 'demonicpig-reference.png',\n",
        " 'TheUnknownUsername-reference.png',\n",
        " 'Joefishjones-reference.png',\n",
        " 'Stalli0nDuck-reference.png',\n",
        " 'Nakittina-reference.png',\n",
        " 'Grammatical_Aneurysm-reference.png',\n",
        " 'Morgi_-reference.png',\n",
        " 'Eneyek-reference.png',\n",
        " 'Ratkus-reference.png',\n",
        " 'gross_caricature-reference.png',\n",
        " 'poooooooooooooo0op-reference.png',\n",
        " 'Dinosaurlover75-reference.png',\n",
        " 'PenguinsGoMeow-reference.png',\n",
        " 'mrcoplo-reference.png',\n",
        " 'mad_squabbles-reference.png',\n",
        " 'kollapstradixionales-reference.png',\n",
        " 'ultimate_hedonist-reference.png',\n",
        " 'leeleechanda-reference.png',\n",
        " 'PoseidonsTrident-reference.png',\n",
        " 'TheDarlis-reference.png',\n",
        " 'mrz5000-reference.png']"
       ]
      }
     ],
     "prompt_number": 542
    },
    {
     "cell_type": "code",
     "collapsed": false,
     "input": [
      "doc = dominate.document(title='GetsDrawn')\n",
      "\n",
      "with doc.head:\n",
      "    link(rel='stylesheet', href='style.css')\n",
      "    script(type ='text/javascript', src='script.js')\n",
      "    \n",
      "    with div():\n",
      "        attr(cls='header')\n",
      "        h1('GetsDrawn')\n",
      "        p(img('imgs/getsdrawn-bw.png', src='imgs/getsdrawn-bw.png'))\n",
      "        #p(img('imgs/15/01/02/ReptileLover82-reference.png', src= 'imgs/15/01/02/ReptileLover82-reference.png'))\n",
      "        h1('Updated ', strftime(\"%a, %d %b %Y %H:%M:%S +0000\", gmtime()))\n",
      "        p(panz)\n",
      "        p(bodycom)\n",
      "    \n",
      "    \n",
      "\n",
      "with doc:\n",
      "    with div(id='body').add(ol()):\n",
      "        for rdz in reliz:\n",
      "            #h1(rdz.title)\n",
      "            #a(rdz.url)\n",
      "            #p(img(rdz, src='%s' % rdz))\n",
      "            print rdz\n",
      "            p(img(rdz, src = rdz))\n",
      "            p(rdz)\n",
      "\n",
      "\n",
      "                \n",
      "            #print rdz.url\n",
      "            #if '.jpg' in rdz.url:\n",
      "            #    img(rdz.urlz)\n",
      "            #else:\n",
      "            #    a(rdz.urlz)\n",
      "            #h1(str(rdz.author))\n",
      "            \n",
      "            #li(img(i.lower(), src='%s' % i))\n",
      "\n",
      "    with div():\n",
      "        attr(cls='body')\n",
      "        p('GetsDrawn is open source')\n",
      "        a('https://github.com/wcmckee/wcmckee')\n",
      "        a('https://reddit.com/r/redditgetsdrawn')\n",
      "\n",
      "#print doc"
     ],
     "language": "python",
     "metadata": {},
     "outputs": [
      {
       "output_type": "stream",
       "stream": "stdout",
       "text": [
        "imgs/15/01/02/reference/Fuck1_Marry1_Kill1-reference.png\n",
        "imgs/15/01/02/reference/ReptileLover82-reference.png\n",
        "imgs/15/01/02/reference/Vegglimer-reference.png\n",
        "imgs/15/01/02/reference/ctmedic-reference.png\n",
        "imgs/15/01/02/reference/westendbestend-reference.png\n",
        "imgs/15/01/02/reference/startages-reference.png\n",
        "imgs/15/01/02/reference/vicbond004-reference.png\n",
        "imgs/15/01/02/reference/PolishAce-reference.png\n",
        "imgs/15/01/02/reference/qtpie2000-reference.png\n",
        "imgs/15/01/02/reference/PitbullGirl-reference.png\n",
        "imgs/15/01/02/reference/zoeypants2012-reference.png\n",
        "imgs/15/01/02/reference/ReoutS-reference.png\n",
        "imgs/15/01/02/reference/Kritter2490-reference.png\n",
        "imgs/15/01/02/reference/PharmerRob-reference.png\n",
        "imgs/15/01/02/reference/JosephHughes-reference.png\n",
        "imgs/15/01/02/reference/Boobbuffet-reference.png\n",
        "imgs/15/01/02/reference/luckybunnyhop-reference.png\n",
        "imgs/15/01/02/reference/Toasted_Badger-reference.png\n",
        "imgs/15/01/02/reference/Pipvault-reference.png\n",
        "imgs/15/01/02/reference/crobertt2-reference.png\n",
        "imgs/15/01/02/reference/xeddier-reference.png\n",
        "imgs/15/01/02/reference/Ladyloulou-reference.png\n",
        "imgs/15/01/02/reference/Plastic-Is-Fantastic-reference.png\n",
        "imgs/15/01/02/reference/3_Toed_Hooker-reference.png\n",
        "imgs/15/01/02/reference/whizzo3031-reference.png\n",
        "imgs/15/01/02/reference/iloveariiii-reference.png\n",
        "imgs/15/01/02/reference/HuggingTheJellyfish-reference.png\n",
        "imgs/15/01/02/reference/honeybri-reference.png\n",
        "imgs/15/01/02/reference/mrturdferguson-reference.png\n",
        "imgs/15/01/02/reference/themodporcupine-reference.png\n",
        "imgs/15/01/02/reference/DaywalkerManifesto-reference.png\n",
        "imgs/15/01/02/reference/demonicpig-reference.png\n",
        "imgs/15/01/02/reference/TheUnknownUsername-reference.png\n",
        "imgs/15/01/02/reference/Joefishjones-reference.png\n",
        "imgs/15/01/02/reference/Stalli0nDuck-reference.png\n",
        "imgs/15/01/02/reference/Nakittina-reference.png\n",
        "imgs/15/01/02/reference/Grammatical_Aneurysm-reference.png\n",
        "imgs/15/01/02/reference/Morgi_-reference.png\n",
        "imgs/15/01/02/reference/Eneyek-reference.png\n",
        "imgs/15/01/02/reference/Ratkus-reference.png\n",
        "imgs/15/01/02/reference/gross_caricature-reference.png\n",
        "imgs/15/01/02/reference/poooooooooooooo0op-reference.png\n",
        "imgs/15/01/02/reference/Dinosaurlover75-reference.png\n",
        "imgs/15/01/02/reference/PenguinsGoMeow-reference.png\n",
        "imgs/15/01/02/reference/mrcoplo-reference.png\n",
        "imgs/15/01/02/reference/mad_squabbles-reference.png\n",
        "imgs/15/01/02/reference/kollapstradixionales-reference.png\n",
        "imgs/15/01/02/reference/ultimate_hedonist-reference.png\n",
        "imgs/15/01/02/reference/leeleechanda-reference.png\n",
        "imgs/15/01/02/reference/PoseidonsTrident-reference.png\n",
        "imgs/15/01/02/reference/TheDarlis-reference.png\n",
        "imgs/15/01/02/reference/mrz5000-reference.png\n"
       ]
      }
     ],
     "prompt_number": 543
    },
    {
     "cell_type": "code",
     "collapsed": false,
     "input": [
      "docre = doc.render()"
     ],
     "language": "python",
     "metadata": {},
     "outputs": [],
     "prompt_number": 544
    },
    {
     "cell_type": "code",
     "collapsed": false,
     "input": [
      "#s = docre.decode('ascii', 'ignore')"
     ],
     "language": "python",
     "metadata": {},
     "outputs": [],
     "prompt_number": 545
    },
    {
     "cell_type": "code",
     "collapsed": false,
     "input": [
      "yourstring = docre.encode('ascii', 'ignore').decode('ascii')"
     ],
     "language": "python",
     "metadata": {},
     "outputs": [],
     "prompt_number": 546
    },
    {
     "cell_type": "code",
     "collapsed": false,
     "input": [
      "indfil = ('/home/wcmckee/getsdrawndotcom/index.html')"
     ],
     "language": "python",
     "metadata": {},
     "outputs": [],
     "prompt_number": 547
    },
    {
     "cell_type": "code",
     "collapsed": false,
     "input": [
      "mkind = open(indfil, 'w')\n",
      "mkind.write(yourstring)\n",
      "mkind.close()"
     ],
     "language": "python",
     "metadata": {},
     "outputs": [],
     "prompt_number": 548
    },
    {
     "cell_type": "code",
     "collapsed": false,
     "input": [
      "#os.system('scp -r /home/wcmckee/getsdrawndotcom/ wcmckee@getsdrawn.com:/home/wcmckee/getsdrawndotcom')"
     ],
     "language": "python",
     "metadata": {},
     "outputs": [],
     "prompt_number": 549
    },
    {
     "cell_type": "code",
     "collapsed": false,
     "input": [
      "#rsync -azP source destination"
     ],
     "language": "python",
     "metadata": {},
     "outputs": [],
     "prompt_number": 550
    },
    {
     "cell_type": "code",
     "collapsed": false,
     "input": [
      "#updatehtm = raw_input('Update index? Y/n')\n",
      "#updateref = raw_input('Update reference? Y/n')\n",
      "\n",
      "#if 'y' or '' in updatehtm:\n",
      "#    os.system('scp -r /home/wcmckee/getsdrawndotcom/index.html wcmckee@getsdrawn.com:/home/wcmckee/getsdrawndotcom/index.html')\n",
      "#elif 'n' in updatehtm:\n",
      "#    print 'not uploading'\n",
      "#if 'y' or '' in updateref:\n",
      "#    os.system('rsync -azP /home/wcmckee/getsdrawndotcom/ wcmckee@getsdrawn.com:/home/wcmckee/getsdrawndotcom/')"
     ],
     "language": "python",
     "metadata": {},
     "outputs": [],
     "prompt_number": 551
    },
    {
     "cell_type": "code",
     "collapsed": false,
     "input": [
      "#os.system('scp -r /home/wcmckee/getsdrawndotcom/index.html wcmckee@getsdrawn.com:/home/wcmckee/getsdrawndotcom/index.html')"
     ],
     "language": "python",
     "metadata": {},
     "outputs": [],
     "prompt_number": 552
    },
    {
     "cell_type": "code",
     "collapsed": false,
     "input": [
      "#os.system('scp -r /home/wcmckee/getsdrawndotcom/style.css wcmckee@getsdrawn.com:/home/wcmckee/getsdrawndotcom/style.css')"
     ],
     "language": "python",
     "metadata": {},
     "outputs": [],
     "prompt_number": 553
    },
    {
     "cell_type": "code",
     "collapsed": false,
     "input": [],
     "language": "python",
     "metadata": {},
     "outputs": [],
     "prompt_number": 553
    },
    {
     "cell_type": "code",
     "collapsed": false,
     "input": [],
     "language": "python",
     "metadata": {},
     "outputs": [],
     "prompt_number": 321
    },
    {
     "cell_type": "code",
     "collapsed": false,
     "input": [],
     "language": "python",
     "metadata": {},
     "outputs": [],
     "prompt_number": 138
    },
    {
     "cell_type": "code",
     "collapsed": false,
     "input": [],
     "language": "python",
     "metadata": {},
     "outputs": [],
     "prompt_number": 138
    },
    {
     "cell_type": "code",
     "collapsed": false,
     "input": [],
     "language": "python",
     "metadata": {},
     "outputs": []
    }
   ],
   "metadata": {}
  }
 ]
}