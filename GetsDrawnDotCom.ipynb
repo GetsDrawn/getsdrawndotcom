{
 "metadata": {
  "name": "",
  "signature": "sha256:914779a7d752a01161eae1e357265c3345906f1547fe47b909661920cb76a511"
 },
 "nbformat": 3,
 "nbformat_minor": 0,
 "worksheets": [
  {
   "cells": [
    {
     "cell_type": "markdown",
     "metadata": {},
     "source": [
      "<h1>GetsDrawn DotCom</h1>"
     ]
    },
    {
     "cell_type": "markdown",
     "metadata": {},
     "source": [
      "This is a python script to generate the website GetsDrawn. It takes data from /r/RedditGetsDrawn and makes something awesome.\n",
      "\n",
      "The script has envolved and been rewritten several times. \n",
      "\n",
      "The first script for rgdsnatch was written after I got banned from posting my artwork on /r/RedditGetsDrawn. The plan was to create a new site that displayed stuff from /r/RedditGetsDrawn. \n",
      "\n",
      "Currently it gets the most recent 25 items on redditgetsdrawn, and saves it to a folder.  The script looks at the newest 25 reference photos on RedditGetsDrawn. It focuses only on jpeg/png images and ignores and links to none .jpg or .png ending files. \n",
      "It is needed to instead of ignoring them files - get the image or images in some cases, from the link.\n",
      "The photos are always submitted from imgur.\n",
      "Still filter out the i.imgur files, but take the links and filter them through a python imgur module returning the .jpeg or .png files. \n",
      "\n",
      "\n",
      "This is moving forward from rgdsnatch.py because I am stuck on it.  \n",
      "\n",
      "TODO\n",
      "\n",
      "Fix the links that don't link to png/jpeg and link to webaddress. \n",
      "Needs to get the images that are at that web address and embed them.\n",
      "\n",
      "Display artwork submitted under the images. \n",
      "\n",
      "Upload artwork to user. Sends them a message on redditgetsdrawn with links. \n",
      "\n",
      "More pandas\n",
      "\n",
      "Saves reference images to imgs/year/month/day/reference/username-reference.png\n",
      "\n",
      "Saves art images to imgs/year/month/day/art/username-line-bw-colour.png \n",
      "\n",
      "Creates index.html file with:\n",
      "Title of site and logo: GetsDrawn\n",
      "Last updated date and time. \n",
      "\n",
      "Path of image file /imgs/year/month/day/username-reference.png. \n",
      "(This needs changed to just their username).\n",
      "\n",
      "Save off .meta data from reddit of each photo, saving it to reference folder.\n",
      "username-yrmnthday.meta - contains info such as author, title, upvotes, downvotes.\n",
      "Currently saving .meta files to a meta folder - along side art and reference. \n",
      "\n",
      "Folder sorting system of files. \n",
      "websitename/index.html-style.css-imgs/YEAR(15)-MONTH(2)-DAY(4)/art-reference-meta\n",
      "Inside art folder\n",
      "Currently it generates USERNAME-line/bw/colour.png 50/50 white files. Maybe should be getting art replies from reddit?\n",
      "\n",
      "Inside reference folder\n",
      "Reference fold is working decent. \n",
      "it creates USERNAME-reference.png / jpeg files. \n",
      "\n",
      "Currently saves username-line-bw-colour.png to imgs folder. Instead get it to save to imgs/year/month/day/usernames.png.\n",
      "Script checks the year/month/day and if folder isnt created, it creates it. If folder is there, exit. \n",
      "Maybe get the reference image and save it with the line/bw/color.pngs\n",
      "\n",
      "The script now filters the jpeg and png image and skips links to imgur pages. This needs to be fixed by getting the images from the imgur pages.\n",
      "It renames the image files to the redditor username followed by a -reference tag (and ending with png of course).\n",
      "It opens these files up with PIL and checks the sizes. \n",
      "It needs to resize the images that are larger than 800px to 800px.\n",
      "These images need to be linked in the index.html instead of the imgur altenatives. \n",
      "\n",
      "Instead of the jpeg/png files on imgur they are downloaded to the server with this script. \n",
      "\n",
      "Filter through as images are getting downloaded and if it has been less than certain time or if the image has been submitted before \n",
      "\n",
      "Extending the subreddits it gets data from to cycle though a list, run script though list of subreddits.\n",
      "\n",
      "Browse certain days - Current day by default but option to scroll through other days.\n",
      "\n",
      "Filters - male/female/animals/couples etc\n",
      "Function that returns only male portraits. \n",
      "tags to add to photos. \n",
      "Filter images with tags\n",
      "\n",
      "\n"
     ]
    },
    {
     "cell_type": "code",
     "collapsed": true,
     "input": [
      "import os \n",
      "import requests\n",
      "from bs4 import BeautifulSoup\n",
      "import re\n",
      "import json\n",
      "import time\n",
      "import praw\n",
      "import dominate\n",
      "from dominate.tags import * \n",
      "from time import gmtime, strftime\n",
      "#import nose\n",
      "#import unittest\n",
      "import numpy as np\n",
      "import pandas as pd\n",
      "from pandas import *\n",
      "from PIL import Image\n",
      "from pprint import pprint\n",
      "#import pyttsx\n",
      "import shutil"
     ],
     "language": "python",
     "metadata": {},
     "outputs": [],
     "prompt_number": 73
    },
    {
     "cell_type": "code",
     "collapsed": true,
     "input": [
      "gtsdrndir = ('/home/wcmckee/getsdrawndotcom/')"
     ],
     "language": "python",
     "metadata": {},
     "outputs": [],
     "prompt_number": 108
    },
    {
     "cell_type": "code",
     "collapsed": true,
     "input": [
      "os.chdir(gtsdrndir)"
     ],
     "language": "python",
     "metadata": {},
     "outputs": [],
     "prompt_number": 114
    },
    {
     "cell_type": "code",
     "collapsed": true,
     "input": [
      "r = praw.Reddit(user_agent='getsdrawndotcom')"
     ],
     "language": "python",
     "metadata": {},
     "outputs": [],
     "prompt_number": 110
    },
    {
     "cell_type": "code",
     "collapsed": true,
     "input": [
      "#getmin = r.get_redditor('itwillbemine')"
     ],
     "language": "python",
     "metadata": {},
     "outputs": [],
     "prompt_number": 111
    },
    {
     "cell_type": "code",
     "collapsed": true,
     "input": [
      "#mincom = getmin.get_comments()"
     ],
     "language": "python",
     "metadata": {},
     "outputs": [],
     "prompt_number": 112
    },
    {
     "cell_type": "code",
     "collapsed": true,
     "input": [
      "#engine = pyttsx.init()\n",
      "\n",
      "#engine.say('The quick brown fox jumped over the lazy dog.')\n",
      "#engine.runAndWait()"
     ],
     "language": "python",
     "metadata": {},
     "outputs": [],
     "prompt_number": 113
    },
    {
     "cell_type": "code",
     "collapsed": true,
     "input": [
      "#shtweet = []"
     ],
     "language": "python",
     "metadata": {},
     "outputs": [],
     "prompt_number": 99
    },
    {
     "cell_type": "code",
     "collapsed": true,
     "input": [
      "#for mi in mincom:\n",
      "#    print mi\n",
      "#    shtweet.append(mi)"
     ],
     "language": "python",
     "metadata": {},
     "outputs": [],
     "prompt_number": 100
    },
    {
     "cell_type": "code",
     "collapsed": true,
     "input": [
      "bodycom = []\n",
      "bodyicv = dict()"
     ],
     "language": "python",
     "metadata": {},
     "outputs": [],
     "prompt_number": 101
    },
    {
     "cell_type": "code",
     "collapsed": true,
     "input": [
      "#beginz = pyttsx.init()"
     ],
     "language": "python",
     "metadata": {},
     "outputs": [],
     "prompt_number": 83
    },
    {
     "cell_type": "code",
     "collapsed": true,
     "input": [
      "#for shtz in shtweet:\n",
      "#    print shtz.downs\n",
      "#    print shtz.ups\n",
      "#    print shtz.body\n",
      "#    print shtz.replies\n",
      "    #beginz.say(shtz.author)\n",
      "    #beginz.say(shtz.body)\n",
      "    #beginz.runAndWait()\n",
      "    \n",
      "#    bodycom.append(shtz.body)\n",
      "    #bodyic"
     ],
     "language": "python",
     "metadata": {},
     "outputs": [],
     "prompt_number": 84
    },
    {
     "cell_type": "code",
     "collapsed": true,
     "input": [
      "#bodycom "
     ],
     "language": "python",
     "metadata": {},
     "outputs": [],
     "prompt_number": 85
    },
    {
     "cell_type": "code",
     "collapsed": true,
     "input": [
      "getnewr = r.get_subreddit('redditgetsdrawn')"
     ],
     "language": "python",
     "metadata": {},
     "outputs": [],
     "prompt_number": 86
    },
    {
     "cell_type": "code",
     "collapsed": true,
     "input": [
      "rdnew = getnewr.get_new()"
     ],
     "language": "python",
     "metadata": {},
     "outputs": [],
     "prompt_number": 87
    },
    {
     "cell_type": "code",
     "collapsed": true,
     "input": [
      "lisrgc = []\n",
      "lisauth = []"
     ],
     "language": "python",
     "metadata": {},
     "outputs": [],
     "prompt_number": 88
    },
    {
     "cell_type": "code",
     "collapsed": true,
     "input": [
      "for uz in rdnew:\n",
      "    #print uz\n",
      "    lisrgc.append(uz)"
     ],
     "language": "python",
     "metadata": {},
     "outputs": [],
     "prompt_number": 89
    },
    {
     "cell_type": "code",
     "collapsed": true,
     "input": [
      "gtdrndic = dict()"
     ],
     "language": "python",
     "metadata": {},
     "outputs": [],
     "prompt_number": 90
    },
    {
     "cell_type": "code",
     "collapsed": true,
     "input": [
      "imgdir = ('/home/wcmckee/getsdrawndotcom/imgs')"
     ],
     "language": "python",
     "metadata": {},
     "outputs": [],
     "prompt_number": 91
    },
    {
     "cell_type": "code",
     "collapsed": true,
     "input": [
      "artlist = os.listdir(imgdir)"
     ],
     "language": "python",
     "metadata": {},
     "outputs": [],
     "prompt_number": 122
    },
    {
     "cell_type": "code",
     "collapsed": true,
     "input": [
      "from time import time"
     ],
     "language": "python",
     "metadata": {},
     "outputs": [],
     "prompt_number": 123
    },
    {
     "cell_type": "code",
     "collapsed": true,
     "input": [
      "yearz = strftime(\"%y\", gmtime())\n",
      "monthz = strftime(\"%m\", gmtime())\n",
      "dayz = strftime(\"%d\", gmtime())\n",
      "\n",
      "\n",
      "#strftime(\"%y %m %d\", gmtime())"
     ],
     "language": "python",
     "metadata": {},
     "outputs": [],
     "prompt_number": 124
    },
    {
     "cell_type": "code",
     "collapsed": true,
     "input": [
      "imgzdir = ('imgs/')\n",
      "yrzpat = (imgzdir + yearz)\n",
      "monzpath = (yrzpat + '/' + monthz)\n",
      "dayzpath = (monzpath + '/' + dayz)\n",
      "rmgzdays = (dayzpath + '/reference')\n",
      "imgzdays = (dayzpath + '/art')\n",
      "metzdays = (dayzpath + '/meta')\n",
      "\n",
      "repathz = ('imgs/' + yearz + '/' + monthz + '/' + dayz + '/')"
     ],
     "language": "python",
     "metadata": {},
     "outputs": [],
     "prompt_number": 139
    },
    {
     "cell_type": "code",
     "collapsed": true,
     "input": [
      "repathz"
     ],
     "language": "python",
     "metadata": {},
     "outputs": [
      {
       "metadata": {},
       "output_type": "pyout",
       "prompt_number": 140,
       "text": [
        "'imgs/15/01/06/'"
       ]
      }
     ],
     "prompt_number": 140
    },
    {
     "cell_type": "code",
     "collapsed": true,
     "input": [
      "imgzdays"
     ],
     "language": "python",
     "metadata": {},
     "outputs": [
      {
       "metadata": {},
       "output_type": "pyout",
       "prompt_number": 141,
       "text": [
        "'/home/wcmckee/getsdrawndotcom/imgs/15/01/06/art'"
       ]
      }
     ],
     "prompt_number": 141
    },
    {
     "cell_type": "code",
     "collapsed": true,
     "input": [
      "repathz"
     ],
     "language": "python",
     "metadata": {},
     "outputs": [
      {
       "metadata": {},
       "output_type": "pyout",
       "prompt_number": 142,
       "text": [
        "'imgs/15/01/06/'"
       ]
      }
     ],
     "prompt_number": 142
    },
    {
     "cell_type": "code",
     "collapsed": true,
     "input": [
      "def ospacheck():\n",
      "    if os.path.isdir(imgzdir + yearz) == True:\n",
      "        print 'its true'\n",
      "    else:\n",
      "        print 'its false'\n",
      "        os.mkdir(imgzdir + yearz)\n",
      "    "
     ],
     "language": "python",
     "metadata": {},
     "outputs": [],
     "prompt_number": 143
    },
    {
     "cell_type": "code",
     "collapsed": true,
     "input": [
      "ospacheck()"
     ],
     "language": "python",
     "metadata": {},
     "outputs": [
      {
       "output_type": "stream",
       "stream": "stdout",
       "text": [
        "its true\n"
       ]
      }
     ],
     "prompt_number": 144
    },
    {
     "cell_type": "code",
     "collapsed": true,
     "input": [
      "#if os.path.isdir(imgzdir + yearz) == True:\n",
      "#    print 'its true'\n",
      "#else:\n",
      "#    print 'its false'\n",
      "#    os.mkdir(imgzdir + yearz)"
     ],
     "language": "python",
     "metadata": {},
     "outputs": [],
     "prompt_number": 145
    },
    {
     "cell_type": "code",
     "collapsed": false,
     "input": [
      "lizmon = ['monzpath', 'dayzpath', 'imgzdays', 'rmgzdays', 'metzdays']"
     ],
     "language": "python",
     "metadata": {},
     "outputs": [],
     "prompt_number": 146
    },
    {
     "cell_type": "code",
     "collapsed": false,
     "input": [
      "os.chdir('/home/wcmckee/getsdrawndotcom/imgs/')"
     ],
     "language": "python",
     "metadata": {},
     "outputs": [],
     "prompt_number": 147
    },
    {
     "cell_type": "markdown",
     "metadata": {},
     "source": [
      "Something is wrong with the script and it's no longer creating these dir in the correct folder. How did this break?"
     ]
    },
    {
     "cell_type": "code",
     "collapsed": false,
     "input": [
      "if os.path.isdir(monzpath) == True:\n",
      "    print 'its true'\n",
      "else:\n",
      "    print 'its false'\n",
      "    os.mkdir(monzpath)"
     ],
     "language": "python",
     "metadata": {},
     "outputs": [
      {
       "output_type": "stream",
       "stream": "stdout",
       "text": [
        "its true\n"
       ]
      }
     ],
     "prompt_number": 155
    },
    {
     "cell_type": "code",
     "collapsed": false,
     "input": [
      "if os.path.isdir(dayzpath) == True:\n",
      "    print 'its true'\n",
      "else:\n",
      "    print 'its false'\n",
      "    os.mkdir(dayzpath)\n",
      "\n",
      "if os.path.isdir(imgzdays) == True:\n",
      "    print 'its true'\n",
      "else:\n",
      "    print 'its false'\n",
      "    os.mkdir(imgzdays)\n",
      "    \n",
      "if os.path.isdir(rmgzdays) == True:\n",
      "    print 'its true'\n",
      "else:\n",
      "    print 'its false'\n",
      "    os.mkdir(rmgzdays)\n",
      "    \n",
      "if os.path.isdir(metzdays) == True:\n",
      "    print 'its true'\n",
      "else:\n",
      "    print 'its false'\n",
      "    os.mkdir(metzdays)"
     ],
     "language": "python",
     "metadata": {},
     "outputs": [
      {
       "output_type": "stream",
       "stream": "stdout",
       "text": [
        "its true\n",
        "its true\n",
        "its true\n",
        "its true\n"
       ]
      }
     ],
     "prompt_number": 157
    },
    {
     "cell_type": "code",
     "collapsed": false,
     "input": [
      "#for liz in lizmon:\n",
      "#    if os.path.isdir(liz) == True:\n",
      "##        print 'its true'\n",
      " #   else:\n",
      "#        print 'its false'\n",
      "#        os.mkdir(liz)"
     ],
     "language": "python",
     "metadata": {},
     "outputs": [],
     "prompt_number": 158
    },
    {
     "cell_type": "code",
     "collapsed": false,
     "input": [
      "fullhom = ('/home/wcmckee/getsdrawndotcom/')"
     ],
     "language": "python",
     "metadata": {},
     "outputs": [],
     "prompt_number": 159
    },
    {
     "cell_type": "code",
     "collapsed": true,
     "input": [
      "#artlist"
     ],
     "language": "python",
     "metadata": {},
     "outputs": [],
     "prompt_number": 160
    },
    {
     "cell_type": "code",
     "collapsed": true,
     "input": [
      "httpad = ('http://getsdrawn.com/imgs')"
     ],
     "language": "python",
     "metadata": {},
     "outputs": [],
     "prompt_number": 161
    },
    {
     "cell_type": "code",
     "collapsed": true,
     "input": [
      "#im = Image.new(\"RGB\", (512, 512), \"white\")\n",
      "#im.save(file + \".thumbnail\", \"JPEG\")"
     ],
     "language": "python",
     "metadata": {},
     "outputs": [],
     "prompt_number": 162
    },
    {
     "cell_type": "code",
     "collapsed": true,
     "input": [
      "rmgzdays = (dayzpath + '/reference')\n",
      "imgzdays = (dayzpath + '/art')\n",
      "metzdays = (dayzpath + '/meta')"
     ],
     "language": "python",
     "metadata": {},
     "outputs": [],
     "prompt_number": 163
    },
    {
     "cell_type": "code",
     "collapsed": false,
     "input": [
      "os.chdir(metzdays)"
     ],
     "language": "python",
     "metadata": {},
     "outputs": [],
     "prompt_number": 165
    },
    {
     "cell_type": "code",
     "collapsed": false,
     "input": [
      "metadict = dict()"
     ],
     "language": "python",
     "metadata": {},
     "outputs": [],
     "prompt_number": 166
    },
    {
     "cell_type": "markdown",
     "metadata": {},
     "source": [
      "if i save the data to the file how am i going to get it to update as the post is archieved. Such as up and down votes. "
     ]
    },
    {
     "cell_type": "code",
     "collapsed": false,
     "input": [
      "for lisz in lisrgc:\n",
      "    metadict.update({'up': lisz.ups})\n",
      "    metadict.update({'down': lisz.downs})\n",
      "    metadict.update({'title': lisz.title})\n",
      "    metadict.update({'created': lisz.created})\n",
      "    #metadict.update({'createdutc': lisz.created_utc})\n",
      "    #print lisz.ups\n",
      "    #print lisz.downs\n",
      "    #print lisz.created\n",
      "    #print lisz.comments"
     ],
     "language": "python",
     "metadata": {},
     "outputs": [],
     "prompt_number": 167
    },
    {
     "cell_type": "code",
     "collapsed": false,
     "input": [
      "metadict"
     ],
     "language": "python",
     "metadata": {},
     "outputs": [
      {
       "metadata": {},
       "output_type": "pyout",
       "prompt_number": 168,
       "text": [
        "{'created': 1420509834.0,\n",
        " 'down': 0,\n",
        " 'title': u\"I'm getting married and would love a portrait of Myself and my Fiancee\",\n",
        " 'up': 0}"
       ]
      }
     ],
     "prompt_number": 168
    },
    {
     "cell_type": "markdown",
     "metadata": {},
     "source": [
      "Need to save json object.\n",
      "\n",
      "Dict is created but it isnt saving. Looping through lisrgc twice, should only require the one loop.\n",
      "\n",
      "Cycle through lisr and append to dict/concert to json, and also cycle through lisr.author meta folders saving the json that was created. "
     ]
    },
    {
     "cell_type": "code",
     "collapsed": true,
     "input": [
      "for lisr in lisrgc:\n",
      "    gtdrndic.update({'title': lisr.title})\n",
      "    lisauth.append(str(lisr.author))\n",
      "    for osliz in os.listdir(metzdays):\n",
      "        with open(str(lisr.author) + '.meta', \"w\") as f:\n",
      "            rstrin = lisr.title.encode('ascii', 'ignore').decode('ascii')\n",
      "            #print matdict\n",
      "            #metadict = dict()\n",
      "            #for lisz in lisrgc:\n",
      "            #    metadict.update({'up': lisz.ups})\n",
      "            #    metadict.update({'down': lisz.downs})\n",
      "            #    metadict.update({'title': lisz.title})\n",
      "            #    metadict.update({'created': lisz.created})\n",
      "            f.write(rstrin)\n"
     ],
     "language": "python",
     "metadata": {},
     "outputs": [],
     "prompt_number": 170
    },
    {
     "cell_type": "code",
     "collapsed": false,
     "input": [
      "#matdict"
     ],
     "language": "python",
     "metadata": {},
     "outputs": [],
     "prompt_number": 171
    },
    {
     "cell_type": "markdown",
     "metadata": {},
     "source": [
      "I have it creating a meta folder and creating/writing username.meta files. It wrote 'test' in each folder, but now it writes the photo author title of post.. the username/image data. It should be writing more than author title - maybe upvotes/downvotes, subreddit, time published etc.\n"
     ]
    },
    {
     "cell_type": "code",
     "collapsed": true,
     "input": [
      "#os.listdir(dayzpath)"
     ],
     "language": "python",
     "metadata": {},
     "outputs": [],
     "prompt_number": 172
    },
    {
     "cell_type": "markdown",
     "metadata": {},
     "source": [
      "Instead of creating these white images, why not download the art replies of the reference photo."
     ]
    },
    {
     "cell_type": "code",
     "collapsed": true,
     "input": [
      "#for lisa in lisauth:\n",
      "#    #print lisa + '-line.png'\n",
      "#    im = Image.new(\"RGB\", (512, 512), \"white\")\n",
      "#    im.save(lisa + '-line.png')\n",
      "#    im = Image.new(\"RGB\", (512, 512), \"white\")\n",
      "#    im.save(lisa + '-bw.png')\n",
      "\n",
      "    #print lisa + '-bw.png'\n",
      "#    im = Image.new(\"RGB\", (512, 512), \"white\")\n",
      "#    im.save(lisa + '-colour.png')\n",
      "\n",
      "    #print lisa + '-colour.png'"
     ],
     "language": "python",
     "metadata": {},
     "outputs": [],
     "prompt_number": 173
    },
    {
     "cell_type": "code",
     "collapsed": true,
     "input": [
      "os.listdir('/home/wcmckee/getsdrawndotcom/imgs')"
     ],
     "language": "python",
     "metadata": {},
     "outputs": [
      {
       "metadata": {},
       "output_type": "pyout",
       "prompt_number": 174,
       "text": [
        "['getsdrawn-bw.png', '12', '15', '14']"
       ]
      }
     ],
     "prompt_number": 174
    },
    {
     "cell_type": "code",
     "collapsed": true,
     "input": [
      "#lisauth"
     ],
     "language": "python",
     "metadata": {},
     "outputs": [],
     "prompt_number": 175
    },
    {
     "cell_type": "markdown",
     "metadata": {},
     "source": [
      "I want to save the list of usernames that submit images as png files in a dir. \n",
      "Currently when I call the list of authors it returns Redditor(user_name='theusername'). I want to return 'theusername'.\n",
      "Once this is resolved I can add '-line.png' '-bw.png' '-colour.png' to each folder. "
     ]
    },
    {
     "cell_type": "code",
     "collapsed": true,
     "input": [
      "#lisr.author"
     ],
     "language": "python",
     "metadata": {},
     "outputs": [],
     "prompt_number": 176
    },
    {
     "cell_type": "code",
     "collapsed": true,
     "input": [
      "namlis = []"
     ],
     "language": "python",
     "metadata": {},
     "outputs": [],
     "prompt_number": 177
    },
    {
     "cell_type": "code",
     "collapsed": true,
     "input": [
      "opsinz = open('/home/wcmckee/visignsys/index.meta', 'r')\n",
      "panz = opsinz.read()"
     ],
     "language": "python",
     "metadata": {},
     "outputs": [],
     "prompt_number": 178
    },
    {
     "cell_type": "code",
     "collapsed": true,
     "input": [
      "os.chdir(rmgzdays)"
     ],
     "language": "python",
     "metadata": {},
     "outputs": [],
     "prompt_number": 180
    },
    {
     "cell_type": "markdown",
     "metadata": {},
     "source": [
      "Filter the non jpeg/png links. Need to perform request or imgur api to get the jpeg/png files from the link. Hey maybe bs4?"
     ]
    },
    {
     "cell_type": "code",
     "collapsed": false,
     "input": [],
     "language": "python",
     "metadata": {},
     "outputs": [],
     "prompt_number": 180
    },
    {
     "cell_type": "code",
     "collapsed": false,
     "input": [
      "from imgurpython import ImgurClient"
     ],
     "language": "python",
     "metadata": {},
     "outputs": [],
     "prompt_number": 181
    },
    {
     "cell_type": "code",
     "collapsed": false,
     "input": [
      "opps = open('/home/wcmckee/ps.txt', 'r')\n",
      "opzs = open('/home/wcmckee/ps2.txt', 'r')\n",
      "oprd = opps.read()\n",
      "opzrd = opzs.read()"
     ],
     "language": "python",
     "metadata": {},
     "outputs": [],
     "prompt_number": 182
    },
    {
     "cell_type": "code",
     "collapsed": false,
     "input": [
      "client = ImgurClient(oprd, opzrd)\n",
      "\n",
      "# Example request\n",
      "#items = client.gallery()\n",
      "#for item in items:\n",
      "#    print(item.link)\n",
      "    \n",
      "\n",
      "#itz = client.get_album_images()"
     ],
     "language": "python",
     "metadata": {},
     "outputs": [],
     "prompt_number": 183
    },
    {
     "cell_type": "code",
     "collapsed": false,
     "input": [
      "galim = client.get_image('SBaV275')"
     ],
     "language": "python",
     "metadata": {},
     "outputs": [],
     "prompt_number": 184
    },
    {
     "cell_type": "code",
     "collapsed": false,
     "input": [
      "galim.size"
     ],
     "language": "python",
     "metadata": {},
     "outputs": [
      {
       "metadata": {},
       "output_type": "pyout",
       "prompt_number": 185,
       "text": [
        "1947098"
       ]
      }
     ],
     "prompt_number": 185
    },
    {
     "cell_type": "code",
     "collapsed": false,
     "input": [
      "gelim = client.get_album_images('LTDJ9')"
     ],
     "language": "python",
     "metadata": {},
     "outputs": [],
     "prompt_number": 186
    },
    {
     "cell_type": "code",
     "collapsed": false,
     "input": [
      "gelim"
     ],
     "language": "python",
     "metadata": {},
     "outputs": [
      {
       "metadata": {},
       "output_type": "pyout",
       "prompt_number": 187,
       "text": [
        "[<imgurpython.imgur.models.image.Image instance at 0xafa02120>,\n",
        " <imgurpython.imgur.models.image.Image instance at 0xaf9f18c8>,\n",
        " <imgurpython.imgur.models.image.Image instance at 0xaf9f1238>,\n",
        " <imgurpython.imgur.models.image.Image instance at 0xaf9f1d78>,\n",
        " <imgurpython.imgur.models.image.Image instance at 0xaf9f1b70>,\n",
        " <imgurpython.imgur.models.image.Image instance at 0xaf9f1d28>,\n",
        " <imgurpython.imgur.models.image.Image instance at 0xaf9f1a80>,\n",
        " <imgurpython.imgur.models.image.Image instance at 0xaf9f1e40>]"
       ]
      }
     ],
     "prompt_number": 187
    },
    {
     "cell_type": "code",
     "collapsed": false,
     "input": [
      "from urlparse import urlparse"
     ],
     "language": "python",
     "metadata": {},
     "outputs": [],
     "prompt_number": 188
    },
    {
     "cell_type": "code",
     "collapsed": false,
     "input": [
      "linklis = []"
     ],
     "language": "python",
     "metadata": {},
     "outputs": [],
     "prompt_number": 189
    },
    {
     "cell_type": "markdown",
     "metadata": {},
     "source": [
      "I need to get the image ids from each url. Strip the http://imgur.com/ from the string. The gallery id is the random characters after. if it's an album a is added. if multi imgs then , is used to seprate. \n",
      "\n",
      "Doesnt currently work. \n",
      "\n",
      "Having problems with mixed /a/etwet and wetfwet urls. Using .strip('/') to remove forward slash in front of path. "
     ]
    },
    {
     "cell_type": "code",
     "collapsed": false,
     "input": [
      "pathlis = []"
     ],
     "language": "python",
     "metadata": {},
     "outputs": [],
     "prompt_number": 190
    },
    {
     "cell_type": "code",
     "collapsed": false,
     "input": [
      "for rdz in lisrgc:\n",
      "    if 'http://imgur.com/' in rdz.url:\n",
      "        print rdz.url\n",
      "        parsed = urlparse(rdz.url)\n",
      "        print parsed.path.strip('/')\n",
      "        pathlis.append(parsed.path.strip('/'))\n",
      "        #for pared in parsed.path:\n",
      "        #    print pared.strip('/')\n",
      "        #itgar = client.gallery_item(parsed.path.strip('/'))\n",
      "        #itz = client.get_album_images(parsed.path.strip('a/'))\n",
      "#        reimg = requests.get(rdz.url)\n",
      "##        retxt = reimg.text\n",
      "#        souptxt = BeautifulSoup(''.join(retxt))\n",
      "#        soupurz = souptxt.findAll('img')\n",
      "#        for soupuz in soupurz:\n",
      "#            imgurl = soupuz['src']\n",
      "#            print imgurl\n",
      "#            linklis.append(imgurl)\n",
      "            \n",
      "            #try:\n",
      "            #    imzdata = requests.get(imgurl)"
     ],
     "language": "python",
     "metadata": {},
     "outputs": [
      {
       "output_type": "stream",
       "stream": "stdout",
       "text": [
        "http://imgur.com/Bmr5mit\n",
        "Bmr5mit\n",
        "http://imgur.com/putrdyx\n",
        "putrdyx\n",
        "http://imgur.com/xXI94VS\n",
        "xXI94VS\n",
        "http://imgur.com/sEJtVao\n",
        "sEJtVao\n",
        "http://imgur.com/a/h7aS9\n",
        "a/h7aS9\n",
        "http://imgur.com/m9agv3W\n",
        "m9agv3W\n",
        "http://imgur.com/a/SBSkJ\n",
        "a/SBSkJ\n",
        "http://imgur.com/OTRADPu\n",
        "OTRADPu\n",
        "http://imgur.com/Z1XdGv3\n",
        "Z1XdGv3\n",
        "http://imgur.com/pgqisMy\n",
        "pgqisMy\n",
        "http://imgur.com/9p61Jtb\n",
        "9p61Jtb\n",
        "http://imgur.com/a/IkZ37\n",
        "a/IkZ37\n",
        "http://imgur.com/Wh7hbU2\n",
        "Wh7hbU2\n",
        "http://imgur.com/Jr85F4I\n",
        "Jr85F4I\n",
        "http://imgur.com/VJOonmM\n",
        "VJOonmM\n"
       ]
      }
     ],
     "prompt_number": 191
    },
    {
     "cell_type": "code",
     "collapsed": false,
     "input": [
      "pathlis"
     ],
     "language": "python",
     "metadata": {},
     "outputs": [
      {
       "metadata": {},
       "output_type": "pyout",
       "prompt_number": 192,
       "text": [
        "[u'Bmr5mit',\n",
        " u'putrdyx',\n",
        " u'xXI94VS',\n",
        " u'sEJtVao',\n",
        " u'a/h7aS9',\n",
        " u'm9agv3W',\n",
        " u'a/SBSkJ',\n",
        " u'OTRADPu',\n",
        " u'Z1XdGv3',\n",
        " u'pgqisMy',\n",
        " u'9p61Jtb',\n",
        " u'a/IkZ37',\n",
        " u'Wh7hbU2',\n",
        " u'Jr85F4I',\n",
        " u'VJOonmM']"
       ]
      }
     ],
     "prompt_number": 192
    },
    {
     "cell_type": "code",
     "collapsed": false,
     "input": [
      "noalis = []"
     ],
     "language": "python",
     "metadata": {},
     "outputs": [],
     "prompt_number": 193
    },
    {
     "cell_type": "code",
     "collapsed": false,
     "input": [
      "for pathl in pathlis:\n",
      "    if 'a/' in pathl:\n",
      "        print 'a found'\n",
      "    else:\n",
      "        noalis.append(pathl)"
     ],
     "language": "python",
     "metadata": {},
     "outputs": [
      {
       "output_type": "stream",
       "stream": "stdout",
       "text": [
        "a found\n",
        "a found\n",
        "a found\n"
       ]
      }
     ],
     "prompt_number": 194
    },
    {
     "cell_type": "code",
     "collapsed": false,
     "input": [
      "#if 'a/' in pathlis:\n",
      "#    print 'a found'\n",
      "#else:\n",
      "#    noalis.append(pathlis)"
     ],
     "language": "python",
     "metadata": {},
     "outputs": [],
     "prompt_number": 195
    },
    {
     "cell_type": "code",
     "collapsed": false,
     "input": [
      "for noaz in noalis:\n",
      "    print noaz\n",
      "    #itgar = client.gallery_item()"
     ],
     "language": "python",
     "metadata": {},
     "outputs": [
      {
       "output_type": "stream",
       "stream": "stdout",
       "text": [
        "Bmr5mit\n",
        "putrdyx\n",
        "xXI94VS\n",
        "sEJtVao\n",
        "m9agv3W\n",
        "OTRADPu\n",
        "Z1XdGv3\n",
        "pgqisMy\n",
        "9p61Jtb\n",
        "Wh7hbU2\n",
        "Jr85F4I\n",
        "VJOonmM\n"
       ]
      }
     ],
     "prompt_number": 196
    },
    {
     "cell_type": "code",
     "collapsed": false,
     "input": [
      "linklis"
     ],
     "language": "python",
     "metadata": {},
     "outputs": [
      {
       "metadata": {},
       "output_type": "pyout",
       "prompt_number": 197,
       "text": [
        "[]"
       ]
      }
     ],
     "prompt_number": 197
    },
    {
     "cell_type": "code",
     "collapsed": false,
     "input": [
      "if '.jpg' in linklis:\n",
      "    print 'yes'\n",
      "else:\n",
      "    print 'no'"
     ],
     "language": "python",
     "metadata": {},
     "outputs": [
      {
       "output_type": "stream",
       "stream": "stdout",
       "text": [
        "no\n"
       ]
      }
     ],
     "prompt_number": 198
    },
    {
     "cell_type": "code",
     "collapsed": true,
     "input": [
      "#panz()\n",
      "for rdz in lisrgc:\n",
      "    (rdz.title)\n",
      "    #a(rdz.url)\n",
      "    if 'http://i.imgur.com' in rdz.url:\n",
      "        #print rdz.url\n",
      "        print (rdz.url)\n",
      "        url = rdz.url\n",
      "        response = requests.get(url, stream=True)\n",
      "        with open(str(rdz.author) + '-reference.png', 'wb') as out_file:\n",
      "            shutil.copyfileobj(response.raw, out_file)\n",
      "            del response"
     ],
     "language": "python",
     "metadata": {},
     "outputs": [
      {
       "output_type": "stream",
       "stream": "stdout",
       "text": [
        "http://i.imgur.com/zUmgwd7.jpg\n",
        "http://i.imgur.com/iLDvh9P.jpg?1"
       ]
      },
      {
       "output_type": "stream",
       "stream": "stdout",
       "text": [
        "\n",
        "http://i.imgur.com/kI7enKC.jpg"
       ]
      }
     ]
    },
    {
     "cell_type": "code",
     "collapsed": true,
     "input": [
      "apsize = []"
     ],
     "language": "python",
     "metadata": {},
     "outputs": []
    },
    {
     "cell_type": "code",
     "collapsed": true,
     "input": [
      "aptype = []"
     ],
     "language": "python",
     "metadata": {},
     "outputs": [],
     "prompt_number": 56
    },
    {
     "cell_type": "code",
     "collapsed": true,
     "input": [
      "basewidth = 600"
     ],
     "language": "python",
     "metadata": {},
     "outputs": [],
     "prompt_number": 57
    },
    {
     "cell_type": "code",
     "collapsed": true,
     "input": [
      "imgdict = dict()"
     ],
     "language": "python",
     "metadata": {},
     "outputs": [],
     "prompt_number": 58
    },
    {
     "cell_type": "code",
     "collapsed": true,
     "input": [
      "for rmglis in os.listdir('/home/wcmckee/getsdrawndotcom/' + rmgzdays):\n",
      "    #print rmglis\n",
      "    im = Image.open(rmglis)\n",
      "    #print im.size\n",
      "    imgdict.update({rmglis : im.size})\n",
      "    #im.thumbnail(size, Image.ANTIALIAS)\n",
      "    #im.save(file + \".thumbnail\", \"JPEG\")\n",
      "    apsize.append(im.size)\n",
      "    aptype.append(rmglis)"
     ],
     "language": "python",
     "metadata": {},
     "outputs": [],
     "prompt_number": 59
    },
    {
     "cell_type": "code",
     "collapsed": true,
     "input": [
      "#for imdva in imgdict.values():\n",
      "    #print imdva\n",
      "    #for deva in imdva:\n",
      "        #print deva\n",
      "     #   if deva < 1000:\n",
      "      #      print 'omg less than 1000'\n",
      "       # else:\n",
      "        #    print 'omg more than 1000'\n",
      "         #   print deva / 2\n",
      "            #print imgdict.values\n",
      "            # Needs to update imgdict.values with this new number. Must halve height also."
     ],
     "language": "python",
     "metadata": {},
     "outputs": [],
     "prompt_number": 60
    },
    {
     "cell_type": "code",
     "collapsed": true,
     "input": [
      "#basewidth = 300\n",
      "#img = Image.open('somepic.jpg')\n",
      "#wpercent = (basewidth/float(img.size[0]))\n",
      "#hsize = int((float(img.size[1])*float(wpercent)))\n",
      "#img = img.resize((basewidth,hsize), PIL.Image.ANTIALIAS)\n",
      "#img.save('sompic.jpg')"
     ],
     "language": "python",
     "metadata": {},
     "outputs": [],
     "prompt_number": 61
    },
    {
     "cell_type": "code",
     "collapsed": true,
     "input": [
      "#os.chdir(metzdays)"
     ],
     "language": "python",
     "metadata": {},
     "outputs": [],
     "prompt_number": 62
    },
    {
     "cell_type": "code",
     "collapsed": false,
     "input": [],
     "language": "python",
     "metadata": {},
     "outputs": [],
     "prompt_number": 62
    },
    {
     "cell_type": "code",
     "collapsed": true,
     "input": [
      "#for numz in apsize:\n",
      "#    print numz[0]\n",
      " #   if numz[0] > 800:\n",
      "#        print ('greater than 800')\n",
      "#    else:\n",
      "#        print ('less than 800!')"
     ],
     "language": "python",
     "metadata": {},
     "outputs": [],
     "prompt_number": 63
    },
    {
     "cell_type": "code",
     "collapsed": true,
     "input": [
      "reliz = []"
     ],
     "language": "python",
     "metadata": {},
     "outputs": [],
     "prompt_number": 64
    },
    {
     "cell_type": "code",
     "collapsed": true,
     "input": [
      "for refls in os.listdir('/home/wcmckee/getsdrawndotcom/' + rmgzdays):\n",
      "    #print rmgzdays + refls\n",
      "    reliz.append(rmgzdays + '/' + refls)"
     ],
     "language": "python",
     "metadata": {},
     "outputs": [],
     "prompt_number": 65
    },
    {
     "cell_type": "code",
     "collapsed": true,
     "input": [
      "reliz"
     ],
     "language": "python",
     "metadata": {},
     "outputs": [
      {
       "metadata": {},
       "output_type": "pyout",
       "prompt_number": 66,
       "text": [
        "['imgs/15/01/04/reference/clawz_nd_webz-reference.png',\n",
        " 'imgs/15/01/04/reference/Jasperthecat77-reference.png',\n",
        " 'imgs/15/01/04/reference/Xrayguy104-reference.png',\n",
        " 'imgs/15/01/04/reference/trippedwire-reference.png',\n",
        " 'imgs/15/01/04/reference/herooftime94-reference.png',\n",
        " 'imgs/15/01/04/reference/OhDeBabies-reference.png',\n",
        " 'imgs/15/01/04/reference/yumyumyoshi-reference.png',\n",
        " 'imgs/15/01/04/reference/thaisun-reference.png',\n",
        " 'imgs/15/01/04/reference/Resrey-reference.png',\n",
        " 'imgs/15/01/04/reference/SinisterCanuck-reference.png',\n",
        " 'imgs/15/01/04/reference/Marsinator-reference.png',\n",
        " 'imgs/15/01/04/reference/zakkalaska-reference.png',\n",
        " 'imgs/15/01/04/reference/jazzyghost-reference.png',\n",
        " 'imgs/15/01/04/reference/Reptilebear-reference.png',\n",
        " 'imgs/15/01/04/reference/WesternWaterTribe-reference.png',\n",
        " 'imgs/15/01/04/reference/AidenXY-reference.png',\n",
        " 'imgs/15/01/04/reference/mrsmomo-reference.png',\n",
        " 'imgs/15/01/04/reference/SpaceFeline-reference.png',\n",
        " 'imgs/15/01/04/reference/Jabald69-reference.png',\n",
        " 'imgs/15/01/04/reference/harisshahzad98-reference.png',\n",
        " 'imgs/15/01/04/reference/TinyB1-reference.png',\n",
        " 'imgs/15/01/04/reference/crackettt-reference.png',\n",
        " 'imgs/15/01/04/reference/seahorseVT-reference.png',\n",
        " 'imgs/15/01/04/reference/the_master_blaster-reference.png',\n",
        " 'imgs/15/01/04/reference/baconbreeder-reference.png']"
       ]
      }
     ],
     "prompt_number": 66
    },
    {
     "cell_type": "code",
     "collapsed": true,
     "input": [
      "aptype"
     ],
     "language": "python",
     "metadata": {},
     "outputs": [
      {
       "metadata": {},
       "output_type": "pyout",
       "prompt_number": 67,
       "text": [
        "['clawz_nd_webz-reference.png',\n",
        " 'Jasperthecat77-reference.png',\n",
        " 'Xrayguy104-reference.png',\n",
        " 'trippedwire-reference.png',\n",
        " 'herooftime94-reference.png',\n",
        " 'OhDeBabies-reference.png',\n",
        " 'yumyumyoshi-reference.png',\n",
        " 'thaisun-reference.png',\n",
        " 'Resrey-reference.png',\n",
        " 'SinisterCanuck-reference.png',\n",
        " 'Marsinator-reference.png',\n",
        " 'zakkalaska-reference.png',\n",
        " 'jazzyghost-reference.png',\n",
        " 'Reptilebear-reference.png',\n",
        " 'WesternWaterTribe-reference.png',\n",
        " 'AidenXY-reference.png',\n",
        " 'mrsmomo-reference.png',\n",
        " 'SpaceFeline-reference.png',\n",
        " 'Jabald69-reference.png',\n",
        " 'harisshahzad98-reference.png',\n",
        " 'TinyB1-reference.png',\n",
        " 'crackettt-reference.png',\n",
        " 'seahorseVT-reference.png',\n",
        " 'the_master_blaster-reference.png',\n",
        " 'baconbreeder-reference.png']"
       ]
      }
     ],
     "prompt_number": 67
    },
    {
     "cell_type": "code",
     "collapsed": true,
     "input": [
      "opad = open('/home/wcmckee/ad.html', 'r')"
     ],
     "language": "python",
     "metadata": {},
     "outputs": [],
     "prompt_number": 68
    },
    {
     "cell_type": "code",
     "collapsed": true,
     "input": [
      "opred = opad.read()"
     ],
     "language": "python",
     "metadata": {},
     "outputs": [],
     "prompt_number": 69
    },
    {
     "cell_type": "code",
     "collapsed": true,
     "input": [
      "str2 = opred.replace(\"\\n\", \"\")"
     ],
     "language": "python",
     "metadata": {},
     "outputs": [],
     "prompt_number": 70
    },
    {
     "cell_type": "code",
     "collapsed": true,
     "input": [
      "str2"
     ],
     "language": "python",
     "metadata": {},
     "outputs": [
      {
       "metadata": {},
       "output_type": "pyout",
       "prompt_number": 71,
       "text": [
        "'<script async src=\"//pagead2.googlesyndication.com/pagead/js/adsbygoogle.js\"></script><!-- header --><ins class=\"adsbygoogle\"     style=\"display:inline-block;width:970px;height:250px\"     data-ad-client=\"ca-pub-2716205862465403\"     data-ad-slot=\"3994067148\"></ins><script>(adsbygoogle = window.adsbygoogle || []).push({});</script>'"
       ]
      }
     ],
     "prompt_number": 71
    },
    {
     "cell_type": "code",
     "collapsed": true,
     "input": [
      "doc = dominate.document(title='GetsDrawn')\n",
      "\n",
      "with doc.head:\n",
      "    link(rel='stylesheet', href='style.css')\n",
      "    script(type ='text/javascript', src='script.js')\n",
      "    str(str2)\n",
      "    \n",
      "    with div():\n",
      "        attr(cls='header')\n",
      "        h1('GetsDrawn')\n",
      "        p(img('imgs/getsdrawn-bw.png', src='imgs/getsdrawn-bw.png'))\n",
      "        #p(img('imgs/15/01/02/ReptileLover82-reference.png', src= 'imgs/15/01/02/ReptileLover82-reference.png'))\n",
      "        h1('Updated ', strftime(\"%a, %d %b %Y %H:%M:%S +0000\", gmtime()))\n",
      "        p(panz)\n",
      "        p(bodycom)\n",
      "    \n",
      "    \n",
      "\n",
      "with doc:\n",
      "    with div(id='body').add(ol()):\n",
      "        for rdz in reliz:\n",
      "            #h1(rdz.title)\n",
      "            #a(rdz.url)\n",
      "            #p(img(rdz, src='%s' % rdz))\n",
      "            #print rdz\n",
      "            p(img(rdz, src = rdz))\n",
      "            p(rdz)\n",
      "\n",
      "\n",
      "                \n",
      "            #print rdz.url\n",
      "            #if '.jpg' in rdz.url:\n",
      "            #    img(rdz.urlz)\n",
      "            #else:\n",
      "            #    a(rdz.urlz)\n",
      "            #h1(str(rdz.author))\n",
      "            \n",
      "            #li(img(i.lower(), src='%s' % i))\n",
      "\n",
      "    with div():\n",
      "        attr(cls='body')\n",
      "        p('GetsDrawn is open source')\n",
      "        a('https://github.com/getsdrawn/getsdrawndotcom')\n",
      "        a('https://reddit.com/r/redditgetsdrawn')\n",
      "\n",
      "#print doc"
     ],
     "language": "python",
     "metadata": {},
     "outputs": [],
     "prompt_number": 72
    },
    {
     "cell_type": "code",
     "collapsed": true,
     "input": [
      "docre = doc.render()"
     ],
     "language": "python",
     "metadata": {},
     "outputs": [],
     "prompt_number": 73
    },
    {
     "cell_type": "code",
     "collapsed": true,
     "input": [
      "#s = docre.decode('ascii', 'ignore')"
     ],
     "language": "python",
     "metadata": {},
     "outputs": [],
     "prompt_number": 74
    },
    {
     "cell_type": "code",
     "collapsed": true,
     "input": [
      "yourstring = docre.encode('ascii', 'ignore').decode('ascii')"
     ],
     "language": "python",
     "metadata": {},
     "outputs": [],
     "prompt_number": 75
    },
    {
     "cell_type": "code",
     "collapsed": true,
     "input": [
      "indfil = ('/home/wcmckee/getsdrawndotcom/index.html')"
     ],
     "language": "python",
     "metadata": {},
     "outputs": [],
     "prompt_number": 76
    },
    {
     "cell_type": "code",
     "collapsed": true,
     "input": [
      "mkind = open(indfil, 'w')\n",
      "mkind.write(yourstring)\n",
      "mkind.close()"
     ],
     "language": "python",
     "metadata": {},
     "outputs": [],
     "prompt_number": 77
    },
    {
     "cell_type": "code",
     "collapsed": true,
     "input": [
      "#os.system('scp -r /home/wcmckee/getsdrawndotcom/ wcmckee@getsdrawn.com:/home/wcmckee/getsdrawndotcom')"
     ],
     "language": "python",
     "metadata": {},
     "outputs": [],
     "prompt_number": 78
    },
    {
     "cell_type": "code",
     "collapsed": true,
     "input": [
      "#rsync -azP source destination"
     ],
     "language": "python",
     "metadata": {},
     "outputs": [],
     "prompt_number": 79
    },
    {
     "cell_type": "code",
     "collapsed": true,
     "input": [
      "#updatehtm = raw_input('Update index? Y/n')\n",
      "#updateref = raw_input('Update reference? Y/n')\n",
      "\n",
      "#if 'y' or '' in updatehtm:\n",
      "#    os.system('scp -r /home/wcmckee/getsdrawndotcom/index.html wcmckee@getsdrawn.com:/home/wcmckee/getsdrawndotcom/index.html')\n",
      "#elif 'n' in updatehtm:\n",
      "#    print 'not uploading'\n",
      "#if 'y' or '' in updateref:\n",
      "#    os.system('rsync -azP /home/wcmckee/getsdrawndotcom/ wcmckee@getsdrawn.com:/home/wcmckee/getsdrawndotcom/')"
     ],
     "language": "python",
     "metadata": {},
     "outputs": [],
     "prompt_number": 80
    },
    {
     "cell_type": "code",
     "collapsed": true,
     "input": [
      "os.system('scp -r /home/wcmckee/getsdrawndotcom/index.html wcmckee@getsdrawn.com:/home/wcmckee/getsdrawndotcom/index.html')"
     ],
     "language": "python",
     "metadata": {},
     "outputs": [
      {
       "metadata": {},
       "output_type": "pyout",
       "prompt_number": 81,
       "text": [
        "0"
       ]
      }
     ],
     "prompt_number": 81
    },
    {
     "cell_type": "code",
     "collapsed": true,
     "input": [
      "#os.system('scp -r /home/wcmckee/getsdrawndotcom/style.css wcmckee@getsdrawn.com:/home/wcmckee/getsdrawndotcom/style.css')"
     ],
     "language": "python",
     "metadata": {},
     "outputs": [],
     "prompt_number": 553
    },
    {
     "cell_type": "code",
     "collapsed": true,
     "input": [],
     "language": "python",
     "metadata": {},
     "outputs": [],
     "prompt_number": 553
    },
    {
     "cell_type": "code",
     "collapsed": true,
     "input": [],
     "language": "python",
     "metadata": {},
     "outputs": [],
     "prompt_number": 321
    },
    {
     "cell_type": "code",
     "collapsed": true,
     "input": [],
     "language": "python",
     "metadata": {},
     "outputs": [],
     "prompt_number": 138
    },
    {
     "cell_type": "code",
     "collapsed": true,
     "input": [],
     "language": "python",
     "metadata": {},
     "outputs": [],
     "prompt_number": 138
    },
    {
     "cell_type": "code",
     "collapsed": true,
     "input": [],
     "language": "python",
     "metadata": {},
     "outputs": []
    }
   ],
   "metadata": {}
  }
 ]
}