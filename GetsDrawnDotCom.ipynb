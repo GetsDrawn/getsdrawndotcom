{
 "cells": [
  {
   "cell_type": "markdown",
   "metadata": {},
   "source": [
    "<h1>GetsDrawn DotCom</h1>"
   ]
  },
  {
   "cell_type": "markdown",
   "metadata": {},
   "source": [
    "This is a python script to generate the website GetsDrawn. It takes data from /r/RedditGetsDrawn and makes something awesome.\n",
    "\n",
    "The script has envolved and been rewritten several times. \n",
    "\n",
    "The first script for rgdsnatch was written after I got banned from posting my artwork on /r/RedditGetsDrawn. The plan was to create a new site that displayed stuff from /r/RedditGetsDrawn. \n",
    "\n",
    "Currently it only displays the most recent 25 items on redditgetsdrawn. The script looks at the newest 25 reference photos on RedditGetsDrawn. It focuses only on jpeg/png images and ignores and links to none .jpg or .png ending files. \n",
    "It is needed to instead of ignoring them files - get the image or images in some cases, from the link.\n",
    "The photos are always submitted from imgur.\n",
    "Still filter out the i.imgur files, but take the links and filter them through a python imgur module returning the .jpeg or .png files. \n",
    "\n",
    "\n",
    "This is moving forward from rgdsnatch.py because I am stuck on it.  \n",
    "\n",
    "TODO\n",
    "\n",
    "Fix the links that don't link to png/jpeg and link to webaddress. \n",
    "Needs to get the images that are at that web address and embed them.\n",
    "\n",
    "Display artwork submitted under the images. \n",
    "\n",
    "Upload artwork to user. Sends them a message on redditgetsdrawn with links. \n",
    "\n",
    "More pandas\n",
    "\n",
    "Saves reference images to imgs/year/month/day/reference/username-reference.png\n",
    "\n",
    "Saves art images to imgs/year/month/day/art/username-line-bw-colour.png \n",
    "\n",
    "Creates index.html file with:\n",
    "Title of site and logo: GetsDrawn\n",
    "Last updated date and time. \n",
    "\n",
    "Path of image file /imgs/year/month/day/username-reference.png. \n",
    "(This needs changed to just their username).\n",
    "\n",
    "Save off .meta data from reddit of each photo, saving it to reference folder.\n",
    "username-yrmnthday.meta - contains info such as author, title, upvotes, downvotes.\n",
    "Currently saving .meta files to a meta folder - along side art and reference. \n",
    "\n",
    "Folder sorting system of files. \n",
    "websitename/index.html-style.css-imgs/YEAR(15)-MONTH(2)-DAY(4)/art-reference-meta\n",
    "Inside art folder\n",
    "Currently it generates USERNAME-line/bw/colour.png 50/50 white files. Maybe should be getting art replies from reddit?\n",
    "\n",
    "Inside reference folder\n",
    "Reference fold is working decent. \n",
    "it creates USERNAME-reference.png / jpeg files. \n",
    "\n",
    "Currently saves username-line-bw-colour.png to imgs folder. Instead get it to save to imgs/year/month/day/usernames.png.\n",
    "Script checks the year/month/day and if folder isnt created, it creates it. If folder is there, exit. \n",
    "Maybe get the reference image and save it with the line/bw/color.pngs\n",
    "\n",
    "The script now filters the jpeg and png image and skips links to imgur pages. This needs to be fixed by getting the images from the imgur pages.\n",
    "It renames the image files to the redditor username followed by a -reference tag (and ending with png of course).\n",
    "It opens these files up with PIL and checks the sizes. \n",
    "It needs to resize the images that are larger than 800px to 800px.\n",
    "These images need to be linked in the index.html instead of the imgur altenatives. \n",
    "\n",
    "Instead of the jpeg/png files on imgur they are downloaded to the server with this script. \n",
    "\n",
    "Filter through as images are getting downloaded and if it has been less than certain time or if the image has been submitted before \n",
    "\n",
    "Extending the subreddits it gets data from to cycle though a list, run script though list of subreddits.\n",
    "\n",
    "Browse certain days - Current day by default but option to scroll through other days.\n",
    "\n",
    "Filters - male/female/animals/couples etc\n",
    "Function that returns only male portraits. \n",
    "tags to add to photos. \n",
    "Filter images with tags\n",
    "\n",
    "\n"
   ]
  },
  {
   "cell_type": "code",
   "execution_count": 199,
   "metadata": {
    "collapsed": true
   },
   "outputs": [],
   "source": [
    "import os \n",
    "import requests\n",
    "from bs4 import BeautifulSoup\n",
    "import re\n",
    "import json\n",
    "import time\n",
    "import praw\n",
    "import dominate\n",
    "from dominate.tags import * \n",
    "from time import gmtime, strftime\n",
    "#import nose\n",
    "#import unittest\n",
    "#import numpy as np\n",
    "#import pandas as pd\n",
    "#from pandas import *\n",
    "from PIL import Image\n",
    "from pprint import pprint\n",
    "#import pyttsx\n",
    "import shutil"
   ]
  },
  {
   "cell_type": "code",
   "execution_count": 200,
   "metadata": {
    "collapsed": true
   },
   "outputs": [],
   "source": [
    "gtsdrndir = ('/home/wcmckee/getsdrawndotcom')"
   ]
  },
  {
   "cell_type": "code",
   "execution_count": 201,
   "metadata": {
    "collapsed": true
   },
   "outputs": [],
   "source": [
    "os.chdir(gtsdrndir)"
   ]
  },
  {
   "cell_type": "code",
   "execution_count": 202,
   "metadata": {
    "collapsed": false
   },
   "outputs": [],
   "source": [
    "r = praw.Reddit(user_agent='getsdrawndotcom')"
   ]
  },
  {
   "cell_type": "code",
   "execution_count": 203,
   "metadata": {
    "collapsed": true
   },
   "outputs": [],
   "source": [
    "#getmin = r.get_redditor('itwillbemine')"
   ]
  },
  {
   "cell_type": "code",
   "execution_count": 204,
   "metadata": {
    "collapsed": true
   },
   "outputs": [],
   "source": [
    "#mincom = getmin.get_comments()"
   ]
  },
  {
   "cell_type": "code",
   "execution_count": 205,
   "metadata": {
    "collapsed": true
   },
   "outputs": [],
   "source": [
    "#engine = pyttsx.init()\n",
    "\n",
    "#engine.say('The quick brown fox jumped over the lazy dog.')\n",
    "#engine.runAndWait()"
   ]
  },
  {
   "cell_type": "code",
   "execution_count": 206,
   "metadata": {
    "collapsed": true
   },
   "outputs": [],
   "source": [
    "#shtweet = []"
   ]
  },
  {
   "cell_type": "code",
   "execution_count": 207,
   "metadata": {
    "collapsed": true
   },
   "outputs": [],
   "source": [
    "#for mi in mincom:\n",
    "#    print mi\n",
    "#    shtweet.append(mi)"
   ]
  },
  {
   "cell_type": "code",
   "execution_count": 208,
   "metadata": {
    "collapsed": true
   },
   "outputs": [],
   "source": [
    "bodycom = []\n",
    "bodyicv = dict()"
   ]
  },
  {
   "cell_type": "code",
   "execution_count": 209,
   "metadata": {
    "collapsed": true
   },
   "outputs": [],
   "source": [
    "#beginz = pyttsx.init()"
   ]
  },
  {
   "cell_type": "code",
   "execution_count": 210,
   "metadata": {
    "collapsed": true
   },
   "outputs": [],
   "source": [
    "#for shtz in shtweet:\n",
    "#    print shtz.downs\n",
    "#    print shtz.ups\n",
    "#    print shtz.body\n",
    "#    print shtz.replies\n",
    "    #beginz.say(shtz.author)\n",
    "    #beginz.say(shtz.body)\n",
    "    #beginz.runAndWait()\n",
    "    \n",
    "#    bodycom.append(shtz.body)\n",
    "    #bodyic"
   ]
  },
  {
   "cell_type": "code",
   "execution_count": 211,
   "metadata": {
    "collapsed": true
   },
   "outputs": [],
   "source": [
    "#bodycom "
   ]
  },
  {
   "cell_type": "code",
   "execution_count": 212,
   "metadata": {
    "collapsed": true
   },
   "outputs": [],
   "source": [
    "getnewr = r.get_subreddit('redditgetsdrawn')"
   ]
  },
  {
   "cell_type": "code",
   "execution_count": 213,
   "metadata": {
    "collapsed": true
   },
   "outputs": [],
   "source": [
    "rdnew = getnewr.get_new()"
   ]
  },
  {
   "cell_type": "code",
   "execution_count": 214,
   "metadata": {
    "collapsed": true
   },
   "outputs": [],
   "source": [
    "lisrgc = []\n",
    "lisauth = []"
   ]
  },
  {
   "cell_type": "code",
   "execution_count": 215,
   "metadata": {
    "collapsed": false
   },
   "outputs": [
    {
     "ename": "ConnectionError",
     "evalue": "('Connection aborted.', gaierror(-2, 'Name or service not known'))",
     "output_type": "error",
     "traceback": [
      "\u001b[1;31m---------------------------------------------------------------------------\u001b[0m",
      "\u001b[1;31mConnectionError\u001b[0m                           Traceback (most recent call last)",
      "\u001b[1;32m<ipython-input-215-b94ae06d6afa>\u001b[0m in \u001b[0;36m<module>\u001b[1;34m()\u001b[0m\n\u001b[1;32m----> 1\u001b[1;33m \u001b[1;32mfor\u001b[0m \u001b[0muz\u001b[0m \u001b[1;32min\u001b[0m \u001b[0mrdnew\u001b[0m\u001b[1;33m:\u001b[0m\u001b[1;33m\u001b[0m\u001b[0m\n\u001b[0m\u001b[0;32m      2\u001b[0m     \u001b[1;31m#print uz\u001b[0m\u001b[1;33m\u001b[0m\u001b[1;33m\u001b[0m\u001b[0m\n\u001b[0;32m      3\u001b[0m     \u001b[0mlisrgc\u001b[0m\u001b[1;33m.\u001b[0m\u001b[0mappend\u001b[0m\u001b[1;33m(\u001b[0m\u001b[0muz\u001b[0m\u001b[1;33m)\u001b[0m\u001b[1;33m\u001b[0m\u001b[0m\n",
      "\u001b[1;32m/usr/local/lib/python2.7/dist-packages/praw/__init__.pyc\u001b[0m in \u001b[0;36mget_content\u001b[1;34m(self, url, params, limit, place_holder, root_field, thing_field, after_field, _use_oauth, object_filter)\u001b[0m\n\u001b[0;32m    502\u001b[0m                 \u001b[0mself\u001b[0m\u001b[1;33m.\u001b[0m\u001b[0m_use_oauth\u001b[0m \u001b[1;33m=\u001b[0m \u001b[0m_use_oauth\u001b[0m  \u001b[1;31m# pylint: disable-msg=W0201\u001b[0m\u001b[1;33m\u001b[0m\u001b[0m\n\u001b[0;32m    503\u001b[0m             \u001b[1;32mtry\u001b[0m\u001b[1;33m:\u001b[0m\u001b[1;33m\u001b[0m\u001b[0m\n\u001b[1;32m--> 504\u001b[1;33m                 \u001b[0mpage_data\u001b[0m \u001b[1;33m=\u001b[0m \u001b[0mself\u001b[0m\u001b[1;33m.\u001b[0m\u001b[0mrequest_json\u001b[0m\u001b[1;33m(\u001b[0m\u001b[0murl\u001b[0m\u001b[1;33m,\u001b[0m \u001b[0mparams\u001b[0m\u001b[1;33m=\u001b[0m\u001b[0mparams\u001b[0m\u001b[1;33m)\u001b[0m\u001b[1;33m\u001b[0m\u001b[0m\n\u001b[0m\u001b[0;32m    505\u001b[0m                 \u001b[1;32mif\u001b[0m \u001b[0mobject_filter\u001b[0m\u001b[1;33m:\u001b[0m\u001b[1;33m\u001b[0m\u001b[0m\n\u001b[0;32m    506\u001b[0m                     \u001b[0mpage_data\u001b[0m \u001b[1;33m=\u001b[0m \u001b[0mpage_data\u001b[0m\u001b[1;33m[\u001b[0m\u001b[0mobject_filter\u001b[0m\u001b[1;33m]\u001b[0m\u001b[1;33m\u001b[0m\u001b[0m\n",
      "\u001b[1;32m/usr/local/lib/python2.7/dist-packages/praw/decorators.pyc\u001b[0m in \u001b[0;36mwrapped\u001b[1;34m(reddit_session, *args, **kwargs)\u001b[0m\n\u001b[0;32m    161\u001b[0m     \u001b[1;32mdef\u001b[0m \u001b[0mwrapped\u001b[0m\u001b[1;33m(\u001b[0m\u001b[0mreddit_session\u001b[0m\u001b[1;33m,\u001b[0m \u001b[1;33m*\u001b[0m\u001b[0margs\u001b[0m\u001b[1;33m,\u001b[0m \u001b[1;33m**\u001b[0m\u001b[0mkwargs\u001b[0m\u001b[1;33m)\u001b[0m\u001b[1;33m:\u001b[0m\u001b[1;33m\u001b[0m\u001b[0m\n\u001b[0;32m    162\u001b[0m         \u001b[1;32mtry\u001b[0m\u001b[1;33m:\u001b[0m\u001b[1;33m\u001b[0m\u001b[0m\n\u001b[1;32m--> 163\u001b[1;33m             \u001b[0mreturn_value\u001b[0m \u001b[1;33m=\u001b[0m \u001b[0mfunction\u001b[0m\u001b[1;33m(\u001b[0m\u001b[0mreddit_session\u001b[0m\u001b[1;33m,\u001b[0m \u001b[1;33m*\u001b[0m\u001b[0margs\u001b[0m\u001b[1;33m,\u001b[0m \u001b[1;33m**\u001b[0m\u001b[0mkwargs\u001b[0m\u001b[1;33m)\u001b[0m\u001b[1;33m\u001b[0m\u001b[0m\n\u001b[0m\u001b[0;32m    164\u001b[0m         \u001b[1;32mexcept\u001b[0m \u001b[0mHTTPError\u001b[0m \u001b[1;32mas\u001b[0m \u001b[0mexc\u001b[0m\u001b[1;33m:\u001b[0m\u001b[1;33m\u001b[0m\u001b[0m\n\u001b[0;32m    165\u001b[0m             \u001b[1;32mif\u001b[0m \u001b[0mexc\u001b[0m\u001b[1;33m.\u001b[0m\u001b[0mresponse\u001b[0m\u001b[1;33m.\u001b[0m\u001b[0mstatus_code\u001b[0m \u001b[1;33m!=\u001b[0m \u001b[1;36m400\u001b[0m\u001b[1;33m:\u001b[0m\u001b[1;33m\u001b[0m\u001b[0m\n",
      "\u001b[1;32m/usr/local/lib/python2.7/dist-packages/praw/__init__.pyc\u001b[0m in \u001b[0;36mrequest_json\u001b[1;34m(self, url, params, data, as_objects, retry_on_error)\u001b[0m\n\u001b[0;32m    555\u001b[0m             \u001b[0murl\u001b[0m \u001b[1;33m+=\u001b[0m \u001b[1;34m'.json'\u001b[0m\u001b[1;33m\u001b[0m\u001b[0m\n\u001b[0;32m    556\u001b[0m         response = self._request(url, params, data,\n\u001b[1;32m--> 557\u001b[1;33m                                  retry_on_error=retry_on_error)\n\u001b[0m\u001b[0;32m    558\u001b[0m         \u001b[0mhook\u001b[0m \u001b[1;33m=\u001b[0m \u001b[0mself\u001b[0m\u001b[1;33m.\u001b[0m\u001b[0m_json_reddit_objecter\u001b[0m \u001b[1;32mif\u001b[0m \u001b[0mas_objects\u001b[0m \u001b[1;32melse\u001b[0m \u001b[0mNone\u001b[0m\u001b[1;33m\u001b[0m\u001b[0m\n\u001b[0;32m    559\u001b[0m         \u001b[1;31m# Request url just needs to be available for the objecter to use\u001b[0m\u001b[1;33m\u001b[0m\u001b[1;33m\u001b[0m\u001b[0m\n",
      "\u001b[1;32m/usr/local/lib/python2.7/dist-packages/praw/__init__.pyc\u001b[0m in \u001b[0;36m_request\u001b[1;34m(self, url, params, data, files, auth, timeout, raw_response, retry_on_error)\u001b[0m\n\u001b[0;32m    396\u001b[0m         \u001b[1;32mwhile\u001b[0m \u001b[0mTrue\u001b[0m\u001b[1;33m:\u001b[0m\u001b[1;33m\u001b[0m\u001b[0m\n\u001b[0;32m    397\u001b[0m             \u001b[1;32mtry\u001b[0m\u001b[1;33m:\u001b[0m\u001b[1;33m\u001b[0m\u001b[0m\n\u001b[1;32m--> 398\u001b[1;33m                 \u001b[0mresponse\u001b[0m \u001b[1;33m=\u001b[0m \u001b[0mhandle_redirect\u001b[0m\u001b[1;33m(\u001b[0m\u001b[1;33m)\u001b[0m\u001b[1;33m\u001b[0m\u001b[0m\n\u001b[0m\u001b[0;32m    399\u001b[0m                 \u001b[0m_raise_response_exceptions\u001b[0m\u001b[1;33m(\u001b[0m\u001b[0mresponse\u001b[0m\u001b[1;33m)\u001b[0m\u001b[1;33m\u001b[0m\u001b[0m\n\u001b[0;32m    400\u001b[0m                 \u001b[0mself\u001b[0m\u001b[1;33m.\u001b[0m\u001b[0mhttp\u001b[0m\u001b[1;33m.\u001b[0m\u001b[0mcookies\u001b[0m\u001b[1;33m.\u001b[0m\u001b[0mupdate\u001b[0m\u001b[1;33m(\u001b[0m\u001b[0mresponse\u001b[0m\u001b[1;33m.\u001b[0m\u001b[0mcookies\u001b[0m\u001b[1;33m)\u001b[0m\u001b[1;33m\u001b[0m\u001b[0m\n",
      "\u001b[1;32m/usr/local/lib/python2.7/dist-packages/praw/__init__.pyc\u001b[0m in \u001b[0;36mhandle_redirect\u001b[1;34m()\u001b[0m\n\u001b[0;32m    369\u001b[0m                 response = self.handler.request(request=request.prepare(),\n\u001b[0;32m    370\u001b[0m                                                 \u001b[0mproxies\u001b[0m\u001b[1;33m=\u001b[0m\u001b[0mself\u001b[0m\u001b[1;33m.\u001b[0m\u001b[0mhttp\u001b[0m\u001b[1;33m.\u001b[0m\u001b[0mproxies\u001b[0m\u001b[1;33m,\u001b[0m\u001b[1;33m\u001b[0m\u001b[0m\n\u001b[1;32m--> 371\u001b[1;33m                                                 timeout=timeout, **kwargs)\n\u001b[0m\u001b[0;32m    372\u001b[0m                 \u001b[0murl\u001b[0m \u001b[1;33m=\u001b[0m \u001b[0m_raise_redirect_exceptions\u001b[0m\u001b[1;33m(\u001b[0m\u001b[0mresponse\u001b[0m\u001b[1;33m)\u001b[0m\u001b[1;33m\u001b[0m\u001b[0m\n\u001b[0;32m    373\u001b[0m             \u001b[1;32mreturn\u001b[0m \u001b[0mresponse\u001b[0m\u001b[1;33m\u001b[0m\u001b[0m\n",
      "\u001b[1;32m/usr/local/lib/python2.7/dist-packages/praw/handlers.pyc\u001b[0m in \u001b[0;36mwrapped\u001b[1;34m(cls, _cache_key, _cache_ignore, _cache_timeout, **kwargs)\u001b[0m\n\u001b[0;32m    143\u001b[0m             \u001b[1;31m# assumption only one request to a domain can be made at a\u001b[0m\u001b[1;33m\u001b[0m\u001b[1;33m\u001b[0m\u001b[0m\n\u001b[0;32m    144\u001b[0m             \u001b[1;31m# time), there isn't a better way to handle this.\u001b[0m\u001b[1;33m\u001b[0m\u001b[1;33m\u001b[0m\u001b[0m\n\u001b[1;32m--> 145\u001b[1;33m             \u001b[0mresult\u001b[0m \u001b[1;33m=\u001b[0m \u001b[0mfunction\u001b[0m\u001b[1;33m(\u001b[0m\u001b[0mcls\u001b[0m\u001b[1;33m,\u001b[0m \u001b[1;33m**\u001b[0m\u001b[0mkwargs\u001b[0m\u001b[1;33m)\u001b[0m\u001b[1;33m\u001b[0m\u001b[0m\n\u001b[0m\u001b[0;32m    146\u001b[0m             \u001b[1;31m# The handlers don't call `raise_for_status` so we need to ignore\u001b[0m\u001b[1;33m\u001b[0m\u001b[1;33m\u001b[0m\u001b[0m\n\u001b[0;32m    147\u001b[0m             \u001b[1;31m# status codes that will result in an exception that should not be\u001b[0m\u001b[1;33m\u001b[0m\u001b[1;33m\u001b[0m\u001b[0m\n",
      "\u001b[1;32m/usr/local/lib/python2.7/dist-packages/praw/handlers.pyc\u001b[0m in \u001b[0;36mwrapped\u001b[1;34m(cls, _rate_domain, _rate_delay, **kwargs)\u001b[0m\n\u001b[0;32m     53\u001b[0m                     \u001b[0mtime\u001b[0m\u001b[1;33m.\u001b[0m\u001b[0msleep\u001b[0m\u001b[1;33m(\u001b[0m\u001b[0mdelay\u001b[0m\u001b[1;33m)\u001b[0m\u001b[1;33m\u001b[0m\u001b[0m\n\u001b[0;32m     54\u001b[0m                 \u001b[0mlock_last\u001b[0m\u001b[1;33m[\u001b[0m\u001b[1;36m1\u001b[0m\u001b[1;33m]\u001b[0m \u001b[1;33m=\u001b[0m \u001b[0mnow\u001b[0m\u001b[1;33m\u001b[0m\u001b[0m\n\u001b[1;32m---> 55\u001b[1;33m                 \u001b[1;32mreturn\u001b[0m \u001b[0mfunction\u001b[0m\u001b[1;33m(\u001b[0m\u001b[0mcls\u001b[0m\u001b[1;33m,\u001b[0m \u001b[1;33m**\u001b[0m\u001b[0mkwargs\u001b[0m\u001b[1;33m)\u001b[0m\u001b[1;33m\u001b[0m\u001b[0m\n\u001b[0m\u001b[0;32m     56\u001b[0m         \u001b[1;32mreturn\u001b[0m \u001b[0mwrapped\u001b[0m\u001b[1;33m\u001b[0m\u001b[0m\n\u001b[0;32m     57\u001b[0m \u001b[1;33m\u001b[0m\u001b[0m\n",
      "\u001b[1;32m/usr/local/lib/python2.7/dist-packages/praw/handlers.pyc\u001b[0m in \u001b[0;36mrequest\u001b[1;34m(self, request, proxies, timeout, **_)\u001b[0m\n\u001b[0;32m     98\u001b[0m         \"\"\"\n\u001b[0;32m     99\u001b[0m         return self.http.send(request, proxies=proxies, timeout=timeout,\n\u001b[1;32m--> 100\u001b[1;33m                               allow_redirects=False)\n\u001b[0m\u001b[0;32m    101\u001b[0m RateLimitHandler.request = RateLimitHandler.rate_limit(\n\u001b[0;32m    102\u001b[0m     RateLimitHandler.request)\n",
      "\u001b[1;32m/usr/local/lib/python2.7/dist-packages/requests/sessions.pyc\u001b[0m in \u001b[0;36msend\u001b[1;34m(self, request, **kwargs)\u001b[0m\n\u001b[0;32m    571\u001b[0m \u001b[1;33m\u001b[0m\u001b[0m\n\u001b[0;32m    572\u001b[0m         \u001b[1;31m# Send the request\u001b[0m\u001b[1;33m\u001b[0m\u001b[1;33m\u001b[0m\u001b[0m\n\u001b[1;32m--> 573\u001b[1;33m         \u001b[0mr\u001b[0m \u001b[1;33m=\u001b[0m \u001b[0madapter\u001b[0m\u001b[1;33m.\u001b[0m\u001b[0msend\u001b[0m\u001b[1;33m(\u001b[0m\u001b[0mrequest\u001b[0m\u001b[1;33m,\u001b[0m \u001b[1;33m**\u001b[0m\u001b[0mkwargs\u001b[0m\u001b[1;33m)\u001b[0m\u001b[1;33m\u001b[0m\u001b[0m\n\u001b[0m\u001b[0;32m    574\u001b[0m \u001b[1;33m\u001b[0m\u001b[0m\n\u001b[0;32m    575\u001b[0m         \u001b[1;31m# Total elapsed time of the request (approximately)\u001b[0m\u001b[1;33m\u001b[0m\u001b[1;33m\u001b[0m\u001b[0m\n",
      "\u001b[1;32m/usr/local/lib/python2.7/dist-packages/requests/adapters.pyc\u001b[0m in \u001b[0;36msend\u001b[1;34m(self, request, stream, timeout, verify, cert, proxies)\u001b[0m\n\u001b[0;32m    413\u001b[0m \u001b[1;33m\u001b[0m\u001b[0m\n\u001b[0;32m    414\u001b[0m         \u001b[1;32mexcept\u001b[0m \u001b[1;33m(\u001b[0m\u001b[0mProtocolError\u001b[0m\u001b[1;33m,\u001b[0m \u001b[0msocket\u001b[0m\u001b[1;33m.\u001b[0m\u001b[0merror\u001b[0m\u001b[1;33m)\u001b[0m \u001b[1;32mas\u001b[0m \u001b[0merr\u001b[0m\u001b[1;33m:\u001b[0m\u001b[1;33m\u001b[0m\u001b[0m\n\u001b[1;32m--> 415\u001b[1;33m             \u001b[1;32mraise\u001b[0m \u001b[0mConnectionError\u001b[0m\u001b[1;33m(\u001b[0m\u001b[0merr\u001b[0m\u001b[1;33m,\u001b[0m \u001b[0mrequest\u001b[0m\u001b[1;33m=\u001b[0m\u001b[0mrequest\u001b[0m\u001b[1;33m)\u001b[0m\u001b[1;33m\u001b[0m\u001b[0m\n\u001b[0m\u001b[0;32m    416\u001b[0m \u001b[1;33m\u001b[0m\u001b[0m\n\u001b[0;32m    417\u001b[0m         \u001b[1;32mexcept\u001b[0m \u001b[0mMaxRetryError\u001b[0m \u001b[1;32mas\u001b[0m \u001b[0me\u001b[0m\u001b[1;33m:\u001b[0m\u001b[1;33m\u001b[0m\u001b[0m\n",
      "\u001b[1;31mConnectionError\u001b[0m: ('Connection aborted.', gaierror(-2, 'Name or service not known'))"
     ]
    }
   ],
   "source": [
    "for uz in rdnew:\n",
    "    #print uz\n",
    "    lisrgc.append(uz)"
   ]
  },
  {
   "cell_type": "code",
   "execution_count": null,
   "metadata": {
    "collapsed": true
   },
   "outputs": [],
   "source": [
    "gtdrndic = dict()"
   ]
  },
  {
   "cell_type": "code",
   "execution_count": null,
   "metadata": {
    "collapsed": true
   },
   "outputs": [],
   "source": [
    "imgdir = ('/home/wcmckee/getsdrawndotcom/imgs')"
   ]
  },
  {
   "cell_type": "code",
   "execution_count": null,
   "metadata": {
    "collapsed": true
   },
   "outputs": [],
   "source": [
    "artlist = os.listdir(imgdir)"
   ]
  },
  {
   "cell_type": "code",
   "execution_count": null,
   "metadata": {
    "collapsed": true
   },
   "outputs": [],
   "source": [
    "from time import time"
   ]
  },
  {
   "cell_type": "code",
   "execution_count": null,
   "metadata": {
    "collapsed": true
   },
   "outputs": [],
   "source": [
    "yearz = strftime(\"%y\", gmtime())\n",
    "monthz = strftime(\"%m\", gmtime())\n",
    "dayz = strftime(\"%d\", gmtime())\n",
    "\n",
    "\n",
    "#strftime(\"%y %m %d\", gmtime())\n",
    "\n"
   ]
  },
  {
   "cell_type": "code",
   "execution_count": null,
   "metadata": {
    "collapsed": true
   },
   "outputs": [],
   "source": [
    "imgzdir = ('imgs/')\n",
    "yrzpat = (imgzdir + yearz)\n",
    "monzpath = (yrzpat + '/' + monthz)\n",
    "dayzpath = (monzpath + '/' + dayz)\n",
    "rmgzdays = (dayzpath + '/reference')\n",
    "#imgzdays = (dayzpath + '/art')\n",
    "#metzdays = (dayzpath + '/meta')\n",
    "\n",
    "repathz = ('imgs/' + yearz + '/' + monthz + '/' + dayz + '/')"
   ]
  },
  {
   "cell_type": "code",
   "execution_count": null,
   "metadata": {
    "collapsed": false
   },
   "outputs": [],
   "source": [
    "#metzdays"
   ]
  },
  {
   "cell_type": "code",
   "execution_count": null,
   "metadata": {
    "collapsed": false
   },
   "outputs": [],
   "source": [
    "#imgzdays"
   ]
  },
  {
   "cell_type": "code",
   "execution_count": 33,
   "metadata": {
    "collapsed": false
   },
   "outputs": [
    {
     "data": {
      "text/plain": [
       "'imgs/15/05/05/'"
      ]
     },
     "execution_count": 33,
     "metadata": {},
     "output_type": "execute_result"
    }
   ],
   "source": [
    "#repathz"
   ]
  },
  {
   "cell_type": "code",
   "execution_count": 34,
   "metadata": {
    "collapsed": true
   },
   "outputs": [],
   "source": [
    "def ospacheck():\n",
    "    if os.path.isdir(imgzdir + yearz) == True:\n",
    "        print 'its true'\n",
    "    else:\n",
    "        print 'its false'\n",
    "        os.mkdir(imgzdir + yearz)\n",
    "    "
   ]
  },
  {
   "cell_type": "code",
   "execution_count": 35,
   "metadata": {
    "collapsed": false
   },
   "outputs": [
    {
     "name": "stdout",
     "output_type": "stream",
     "text": [
      "its true\n"
     ]
    }
   ],
   "source": [
    "ospacheck()"
   ]
  },
  {
   "cell_type": "code",
   "execution_count": 36,
   "metadata": {
    "collapsed": true
   },
   "outputs": [],
   "source": [
    "#if os.path.isdir(imgzdir + yearz) == True:\n",
    "#    print 'its true'\n",
    "#else:\n",
    "#    print 'its false'\n",
    "#    os.mkdir(imgzdir + yearz)"
   ]
  },
  {
   "cell_type": "code",
   "execution_count": 37,
   "metadata": {
    "collapsed": false
   },
   "outputs": [
    {
     "name": "stdout",
     "output_type": "stream",
     "text": [
      "its true\n"
     ]
    }
   ],
   "source": [
    "if os.path.isdir(monzpath) == True:\n",
    "    print 'its true'\n",
    "else:\n",
    "    print 'its false'\n",
    "    os.mkdir(monzpath)\n",
    "\n",
    "#os.mkdir(monzpath)"
   ]
  },
  {
   "cell_type": "code",
   "execution_count": 38,
   "metadata": {
    "collapsed": false
   },
   "outputs": [
    {
     "name": "stdout",
     "output_type": "stream",
     "text": [
      "its true\n"
     ]
    }
   ],
   "source": [
    "if os.path.isdir(dayzpath) == True:\n",
    "    print 'its true'\n",
    "else:\n",
    "    print 'its false'\n",
    "    os.mkdir(dayzpath)\n",
    "\n",
    "#os.mkdir(dayzpath)"
   ]
  },
  {
   "cell_type": "code",
   "execution_count": 39,
   "metadata": {
    "collapsed": false
   },
   "outputs": [
    {
     "name": "stdout",
     "output_type": "stream",
     "text": [
      "its true\n"
     ]
    }
   ],
   "source": [
    "#if os.path.isdir(imgzdays) == True:\n",
    "#    print 'its true'\n",
    "#else:\n",
    "#    print 'its false'\n",
    "#    os.mkdir(imgzdays)"
   ]
  },
  {
   "cell_type": "code",
   "execution_count": 40,
   "metadata": {
    "collapsed": false
   },
   "outputs": [
    {
     "name": "stdout",
     "output_type": "stream",
     "text": [
      "its true\n"
     ]
    }
   ],
   "source": [
    "if os.path.isdir(rmgzdays) == True:\n",
    "    print 'its true'\n",
    "else:\n",
    "    print 'its false'\n",
    "    os.mkdir(rmgzdays)"
   ]
  },
  {
   "cell_type": "code",
   "execution_count": 41,
   "metadata": {
    "collapsed": false
   },
   "outputs": [
    {
     "name": "stdout",
     "output_type": "stream",
     "text": [
      "its true\n"
     ]
    }
   ],
   "source": [
    "#if os.path.isdir(metzdays)  == True:\n",
    "#    print 'its true'\n",
    "#else:\n",
    "#    print 'its failse'\n",
    "#    os.mkdir(metzdays)"
   ]
  },
  {
   "cell_type": "code",
   "execution_count": 42,
   "metadata": {
    "collapsed": false
   },
   "outputs": [],
   "source": [
    "fullhom = ('/home/wcmckee/getsdrawndotcom/')"
   ]
  },
  {
   "cell_type": "code",
   "execution_count": 43,
   "metadata": {
    "collapsed": false
   },
   "outputs": [
    {
     "data": {
      "text/plain": [
       "[]"
      ]
     },
     "execution_count": 43,
     "metadata": {},
     "output_type": "execute_result"
    }
   ],
   "source": [
    "#os.listdir(fullhom + metzdays)"
   ]
  },
  {
   "cell_type": "code",
   "execution_count": 44,
   "metadata": {
    "collapsed": true
   },
   "outputs": [],
   "source": [
    "#artlist"
   ]
  },
  {
   "cell_type": "code",
   "execution_count": 45,
   "metadata": {
    "collapsed": true
   },
   "outputs": [],
   "source": [
    "httpad = ('http://getsdrawn.com/imgs')"
   ]
  },
  {
   "cell_type": "code",
   "execution_count": 46,
   "metadata": {
    "collapsed": true
   },
   "outputs": [],
   "source": [
    "#im = Image.new(\"RGB\", (512, 512), \"white\")\n",
    "#im.save(file + \".thumbnail\", \"JPEG\")"
   ]
  },
  {
   "cell_type": "code",
   "execution_count": 47,
   "metadata": {
    "collapsed": true
   },
   "outputs": [],
   "source": [
    "rmgzdays = (dayzpath + '/reference')\n",
    "#imgzdays = (dayzpath + '/art')\n",
    "metzdays = (dayzpath + '/meta')"
   ]
  },
  {
   "cell_type": "code",
   "execution_count": 48,
   "metadata": {
    "collapsed": false
   },
   "outputs": [],
   "source": [
    "os.chdir(fullhom + metzdays)"
   ]
  },
  {
   "cell_type": "code",
   "execution_count": 49,
   "metadata": {
    "collapsed": false
   },
   "outputs": [
    {
     "data": {
      "text/plain": [
       "{}"
      ]
     },
     "execution_count": 49,
     "metadata": {},
     "output_type": "execute_result"
    }
   ],
   "source": [
    "gtdrndic"
   ]
  },
  {
   "cell_type": "code",
   "execution_count": 50,
   "metadata": {
    "collapsed": true
   },
   "outputs": [],
   "source": [
    "#for lisr in lisrgc:\n",
    "#    gtdrndic.update({'title': lisr.title})\n",
    "#    lisauth.append(str(lisr.author))\n",
    "#    for osliz in os.listdir(fullhom + metzdays):\n",
    "#        with open(str(lisr.author) + '.meta', \"w\") as f:\n",
    "#            rstrin = lisr.title.encode('ascii', 'ignore').decode('ascii')\n",
    "#            f.write(rstrin)\n"
   ]
  },
  {
   "cell_type": "markdown",
   "metadata": {},
   "source": [
    "I have it creating a meta folder and creating/writing username.meta files. It wrote 'test' in each folder, but now it writes the photo author title of post.. the username/image data. "
   ]
  },
  {
   "cell_type": "code",
   "execution_count": 51,
   "metadata": {
    "collapsed": true
   },
   "outputs": [],
   "source": [
    "#os.listdir(dayzpath)"
   ]
  },
  {
   "cell_type": "markdown",
   "metadata": {},
   "source": [
    "Instead of creating these white images, why not download the art replies of the reference photo."
   ]
  },
  {
   "cell_type": "code",
   "execution_count": 52,
   "metadata": {
    "collapsed": true
   },
   "outputs": [],
   "source": [
    "#for lisa in lisauth:\n",
    "#    #print lisa + '-line.png'\n",
    "#    im = Image.new(\"RGB\", (512, 512), \"white\")\n",
    "#    im.save(lisa + '-line.png')\n",
    "#    im = Image.new(\"RGB\", (512, 512), \"white\")\n",
    "#    im.save(lisa + '-bw.png')\n",
    "\n",
    "    #print lisa + '-bw.png'\n",
    "#    im = Image.new(\"RGB\", (512, 512), \"white\")\n",
    "#    im.save(lisa + '-colour.png')\n",
    "\n",
    "    #print lisa + '-colour.png'"
   ]
  },
  {
   "cell_type": "code",
   "execution_count": 53,
   "metadata": {
    "collapsed": false
   },
   "outputs": [
    {
     "data": {
      "text/plain": [
       "['15']"
      ]
     },
     "execution_count": 53,
     "metadata": {},
     "output_type": "execute_result"
    }
   ],
   "source": [
    "os.listdir('/home/wcmckee/getsdrawndotcom/imgs')"
   ]
  },
  {
   "cell_type": "code",
   "execution_count": 54,
   "metadata": {
    "collapsed": true
   },
   "outputs": [],
   "source": [
    "#lisauth"
   ]
  },
  {
   "cell_type": "markdown",
   "metadata": {},
   "source": [
    "I want to save the list of usernames that submit images as png files in a dir. \n",
    "Currently when I call the list of authors it returns Redditor(user_name='theusername'). I want to return 'theusername'.\n",
    "Once this is resolved I can add '-line.png' '-bw.png' '-colour.png' to each folder. "
   ]
  },
  {
   "cell_type": "code",
   "execution_count": 55,
   "metadata": {
    "collapsed": true
   },
   "outputs": [],
   "source": [
    "#lisr.author"
   ]
  },
  {
   "cell_type": "code",
   "execution_count": 56,
   "metadata": {
    "collapsed": true
   },
   "outputs": [],
   "source": [
    "namlis = []"
   ]
  },
  {
   "cell_type": "code",
   "execution_count": 57,
   "metadata": {
    "collapsed": true
   },
   "outputs": [],
   "source": [
    "opsinz = open('/home/wcmckee/visignsys/index.meta', 'r')\n",
    "panz = opsinz.read()"
   ]
  },
  {
   "cell_type": "code",
   "execution_count": 58,
   "metadata": {
    "collapsed": true
   },
   "outputs": [],
   "source": [
    "os.chdir('/home/wcmckee/getsdrawndotcom/' + rmgzdays)"
   ]
  },
  {
   "cell_type": "code",
   "execution_count": 59,
   "metadata": {
    "collapsed": true
   },
   "outputs": [],
   "source": [
    "#panz()\n",
    "for rdz in lisrgc:\n",
    "    (rdz.title)\n",
    "    #a(rdz.url)\n",
    "    if 'http://i.imgur.com' in rdz.url:\n",
    "        #print rdz.url\n",
    "        print (rdz.url)\n",
    "        url = rdz.url\n",
    "        response = requests.get(url, stream=True)\n",
    "        with open(str(rdz.author) + '-reference.png', 'wb') as out_file:\n",
    "            shutil.copyfileobj(response.raw, out_file)\n",
    "            del response"
   ]
  },
  {
   "cell_type": "code",
   "execution_count": 60,
   "metadata": {
    "collapsed": true
   },
   "outputs": [],
   "source": [
    "apsize = []"
   ]
  },
  {
   "cell_type": "code",
   "execution_count": 61,
   "metadata": {
    "collapsed": true
   },
   "outputs": [],
   "source": [
    "aptype = []"
   ]
  },
  {
   "cell_type": "code",
   "execution_count": 62,
   "metadata": {
    "collapsed": true
   },
   "outputs": [],
   "source": [
    "basewidth = 600"
   ]
  },
  {
   "cell_type": "code",
   "execution_count": 63,
   "metadata": {
    "collapsed": true
   },
   "outputs": [],
   "source": [
    "imgdict = dict()"
   ]
  },
  {
   "cell_type": "code",
   "execution_count": 67,
   "metadata": {
    "collapsed": false
   },
   "outputs": [],
   "source": [
    "for rmglis in os.listdir('/home/wcmckee/getsdrawndotcom/' + rmgzdays):\n",
    "    #print rmglis\n",
    "    im = Image.open(rmglis)\n",
    "    #print im.size\n",
    "    imgdict.update({rmglis : im.size})\n",
    "    #im.thumbnail(size, Image.ANTIALIAS)\n",
    "    #im.save(file + \".thumbnail\", \"JPEG\")\n",
    "    apsize.append(im.size)\n",
    "    aptype.append(rmglis)"
   ]
  },
  {
   "cell_type": "code",
   "execution_count": 70,
   "metadata": {
    "collapsed": false
   },
   "outputs": [
    {
     "name": "stdout",
     "output_type": "stream",
     "text": [
      "<ul>\n",
      "  <li>\n",
      "    <a href=\"http://brobeur.com/\">brobeur</a>\n",
      "  </li>\n",
      "</ul>\n"
     ]
    }
   ],
   "source": [
    "print ul(li(a('brobeur', href='http://brobeur.com/')))"
   ]
  },
  {
   "cell_type": "code",
   "execution_count": 69,
   "metadata": {
    "collapsed": false
   },
   "outputs": [
    {
     "data": {
      "text/plain": [
       "['halupki-reference.png',\n",
       " 'Passaro-reference.png',\n",
       " 'zewvlf-reference.png',\n",
       " 'Aloridge-reference.png']"
      ]
     },
     "execution_count": 69,
     "metadata": {},
     "output_type": "execute_result"
    }
   ],
   "source": [
    "aptype"
   ]
  },
  {
   "cell_type": "code",
   "execution_count": 65,
   "metadata": {
    "collapsed": true
   },
   "outputs": [],
   "source": [
    "#for imdva in imgdict.values():\n",
    "    #print imdva\n",
    "    #for deva in imdva:\n",
    "        #print deva\n",
    "     #   if deva < 1000:\n",
    "      #      print 'omg less than 1000'\n",
    "       # else:\n",
    "        #    print 'omg more than 1000'\n",
    "         #   print deva / 2\n",
    "            #print imgdict.values\n",
    "            # Needs to update imgdict.values with this new number. Must halve height also."
   ]
  },
  {
   "cell_type": "code",
   "execution_count": 73,
   "metadata": {
    "collapsed": true
   },
   "outputs": [],
   "source": [
    "#basewidth = 300\n",
    "#img = Image.open('somepic.jpg')\n",
    "#wpercent = (basewidth/float(img.size[0]))\n",
    "#hsize = int((float(img.size[1])*float(wpercent)))\n",
    "#img = img.resize((basewidth,hsize), PIL.Image.ANTIALIAS)\n",
    "#img.save('sompic.jpg')"
   ]
  },
  {
   "cell_type": "code",
   "execution_count": 74,
   "metadata": {
    "collapsed": true
   },
   "outputs": [],
   "source": [
    "#os.chdir(metzdays)"
   ]
  },
  {
   "cell_type": "code",
   "execution_count": 74,
   "metadata": {
    "collapsed": false
   },
   "outputs": [],
   "source": []
  },
  {
   "cell_type": "code",
   "execution_count": 75,
   "metadata": {
    "collapsed": true
   },
   "outputs": [],
   "source": [
    "#for numz in apsize:\n",
    "#    print numz[0]\n",
    " #   if numz[0] > 800:\n",
    "#        print ('greater than 800')\n",
    "#    else:\n",
    "#        print ('less than 800!')"
   ]
  },
  {
   "cell_type": "code",
   "execution_count": 76,
   "metadata": {
    "collapsed": true
   },
   "outputs": [],
   "source": [
    "reliz = []"
   ]
  },
  {
   "cell_type": "code",
   "execution_count": 77,
   "metadata": {
    "collapsed": true
   },
   "outputs": [],
   "source": [
    "for refls in os.listdir('/home/wcmckee/getsdrawndotcom/' + rmgzdays):\n",
    "    #print rmgzdays + refls\n",
    "    reliz.append(rmgzdays + '/' + refls)"
   ]
  },
  {
   "cell_type": "code",
   "execution_count": 78,
   "metadata": {
    "collapsed": false
   },
   "outputs": [
    {
     "data": {
      "text/plain": [
       "['imgs/15/05/05/reference/halupki-reference.png',\n",
       " 'imgs/15/05/05/reference/Passaro-reference.png',\n",
       " 'imgs/15/05/05/reference/zewvlf-reference.png',\n",
       " 'imgs/15/05/05/reference/Aloridge-reference.png']"
      ]
     },
     "execution_count": 78,
     "metadata": {},
     "output_type": "execute_result"
    }
   ],
   "source": [
    "reliz"
   ]
  },
  {
   "cell_type": "code",
   "execution_count": 79,
   "metadata": {
    "collapsed": false
   },
   "outputs": [
    {
     "data": {
      "text/plain": [
       "['halupki-reference.png',\n",
       " 'Passaro-reference.png',\n",
       " 'zewvlf-reference.png',\n",
       " 'Aloridge-reference.png']"
      ]
     },
     "execution_count": 79,
     "metadata": {},
     "output_type": "execute_result"
    }
   ],
   "source": [
    "aptype"
   ]
  },
  {
   "cell_type": "code",
   "execution_count": 82,
   "metadata": {
    "collapsed": false
   },
   "outputs": [],
   "source": [
    "#opad = open('/home/wcmckee/ad.html', 'r')"
   ]
  },
  {
   "cell_type": "code",
   "execution_count": 83,
   "metadata": {
    "collapsed": false
   },
   "outputs": [],
   "source": [
    "#opred = opad.read()"
   ]
  },
  {
   "cell_type": "code",
   "execution_count": null,
   "metadata": {
    "collapsed": true
   },
   "outputs": [],
   "source": [
    "#str2 = opred.replace(\"\\n\", \"\")"
   ]
  },
  {
   "cell_type": "code",
   "execution_count": null,
   "metadata": {
    "collapsed": true
   },
   "outputs": [],
   "source": [
    "#str2"
   ]
  },
  {
   "cell_type": "code",
   "execution_count": 192,
   "metadata": {
    "collapsed": false
   },
   "outputs": [],
   "source": [
    "doc = dominate.document(title='GetsDrawn')\n",
    "\n",
    "with doc.head:\n",
    "    link(rel='stylesheet', href='style.css')\n",
    "    script(type ='text/javascript', src='script.js')\n",
    "    \n",
    "    with div():\n",
    "        attr(cls='header')\n",
    "        h1('GetsDrawn')\n",
    "        p(img('imgs/getsdrawn-bw.png', src='imgs/getsdrawn-bw.png'))\n",
    "        #p(img('imgs/15/01/02/ReptileLover82-reference.png', src= 'imgs/15/01/02/ReptileLover82-reference.png'))\n",
    "        h1('Updated ', strftime(\"%a, %d %b %Y %H:%M:%S +0000\", gmtime()))\n",
    "        p(panz)\n",
    "        p(bodycom)\n",
    "    \n",
    "    \n",
    "\n",
    "with doc:\n",
    "    with div(id='body').add(ol()):\n",
    "        for rdz in reliz:\n",
    "            #h1(rdz.title)\n",
    "            #a(rdz.url)\n",
    "            #p(img(rdz, src='%s' % rdz))\n",
    "            #print rdz\n",
    "            p(img(rdz, src = rdz))\n",
    "            #p(rdz)\n",
    "            p(p(a(rdz, href= ('http://getsdrawn.com/' + rdz))))\n",
    "\n",
    "\n",
    "\n",
    "                \n",
    "            #print rdz.url\n",
    "            #if '.jpg' in rdz.url:\n",
    "            #    img(rdz.urlz)\n",
    "            #else:\n",
    "            #    a(rdz.urlz)\n",
    "            #h1(str(rdz.author))\n",
    "            \n",
    "            #li(img(i.lower(), src='%s' % i))\n",
    "\n",
    "    with div():\n",
    "        attr(cls='body')\n",
    "        dominate.tags.p('GetsDrawn is open source')\n",
    "        #ul('getsdrawn - github', href='https://github.com/getsdrawn/')\n",
    "        p(p(a('getsdrawn - github', href='https://github.com/getsdrawn/')))\n",
    "        p(p(a('RedditGetsDrawn', href='https://reddit.com/r/redditgetsdrawn')))"
   ]
  },
  {
   "cell_type": "code",
   "execution_count": 193,
   "metadata": {
    "collapsed": true
   },
   "outputs": [],
   "source": [
    "docre = doc.render()"
   ]
  },
  {
   "cell_type": "code",
   "execution_count": 194,
   "metadata": {
    "collapsed": true
   },
   "outputs": [],
   "source": [
    "#s = docre.decode('ascii', 'ignore')"
   ]
  },
  {
   "cell_type": "code",
   "execution_count": 195,
   "metadata": {
    "collapsed": true
   },
   "outputs": [],
   "source": [
    "yourstring = docre.encode('ascii', 'ignore').decode('ascii')"
   ]
  },
  {
   "cell_type": "code",
   "execution_count": 196,
   "metadata": {
    "collapsed": true
   },
   "outputs": [],
   "source": [
    "indfil = ('/home/wcmckee/getsdrawndotcom/index.html')"
   ]
  },
  {
   "cell_type": "code",
   "execution_count": 197,
   "metadata": {
    "collapsed": true
   },
   "outputs": [],
   "source": [
    "mkind = open(indfil, 'w')\n",
    "mkind.write(yourstring)\n",
    "mkind.close()"
   ]
  },
  {
   "cell_type": "code",
   "execution_count": 198,
   "metadata": {
    "collapsed": true
   },
   "outputs": [],
   "source": [
    "#os.system('scp -r /home/wcmckee/getsdrawndotcom/ wcmckee@getsdrawn.com:/home/wcmckee/getsdrawndotcom')"
   ]
  },
  {
   "cell_type": "code",
   "execution_count": 191,
   "metadata": {
    "collapsed": true
   },
   "outputs": [],
   "source": [
    "#rsync -azP source destination"
   ]
  },
  {
   "cell_type": "code",
   "execution_count": 128,
   "metadata": {
    "collapsed": true
   },
   "outputs": [],
   "source": [
    "#updatehtm = raw_input('Update index? Y/n')\n",
    "#updateref = raw_input('Update reference? Y/n')\n",
    "\n",
    "#if 'y' or '' in updatehtm:\n",
    "#    os.system('scp -r /home/wcmckee/getsdrawndotcom/index.html wcmckee@getsdrawn.com:/home/wcmckee/getsdrawndotcom/index.html')\n",
    "#elif 'n' in updatehtm:\n",
    "#    print 'not uploading'\n",
    "#if 'y' or '' in updateref:\n",
    "#    os.system('rsync -azP /home/wcmckee/getsdrawndotcom/ wcmckee@getsdrawn.com:/home/wcmckee/getsdrawndotcom/')"
   ]
  },
  {
   "cell_type": "code",
   "execution_count": null,
   "metadata": {
    "collapsed": true
   },
   "outputs": [],
   "source": [
    "#os.system('scp -r /home/wcmckee/getsdrawndotcom/index.html wcmckee@getsdrawn.com:/home/wcmckee/getsdrawndotcom/index.html')"
   ]
  },
  {
   "cell_type": "code",
   "execution_count": 553,
   "metadata": {
    "collapsed": true
   },
   "outputs": [],
   "source": [
    "#os.system('scp -r /home/wcmckee/getsdrawndotcom/style.css wcmckee@getsdrawn.com:/home/wcmckee/getsdrawndotcom/style.css')"
   ]
  },
  {
   "cell_type": "code",
   "execution_count": 553,
   "metadata": {
    "collapsed": true
   },
   "outputs": [],
   "source": []
  },
  {
   "cell_type": "code",
   "execution_count": 321,
   "metadata": {
    "collapsed": true
   },
   "outputs": [],
   "source": []
  },
  {
   "cell_type": "code",
   "execution_count": 138,
   "metadata": {
    "collapsed": true
   },
   "outputs": [],
   "source": []
  },
  {
   "cell_type": "code",
   "execution_count": 138,
   "metadata": {
    "collapsed": true
   },
   "outputs": [],
   "source": []
  },
  {
   "cell_type": "code",
   "execution_count": null,
   "metadata": {
    "collapsed": true
   },
   "outputs": [],
   "source": []
  }
 ],
 "metadata": {
  "kernelspec": {
   "display_name": "Python 2",
   "name": "python2"
  },
  "language_info": {
   "codemirror_mode": {
    "name": "ipython",
    "version": 2
   },
   "file_extension": ".py",
   "mimetype": "text/x-python",
   "name": "python",
   "nbconvert_exporter": "python",
   "pygments_lexer": "ipython2",
   "version": "2.7.9"
  }
 },
 "nbformat": 4,
 "nbformat_minor": 0
}
