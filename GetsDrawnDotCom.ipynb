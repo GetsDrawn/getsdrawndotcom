{
 "cells": [
  {
   "cell_type": "markdown",
   "metadata": {},
   "source": [
    "<h1>GetsDrawn DotCom</h1>"
   ]
  },
  {
   "cell_type": "markdown",
   "metadata": {},
   "source": [
    "This is a python script to generate the website GetsDrawn. It takes data from /r/RedditGetsDrawn and makes something awesome.\n",
    "\n",
    "The script has envolved and been rewritten several times. \n",
    "\n",
    "The first script for rgdsnatch was written after I got banned from posting my artwork on /r/RedditGetsDrawn. The plan was to create a new site that displayed stuff from /r/RedditGetsDrawn. \n",
    "\n",
    "Currently it gets the most recent 25 items on redditgetsdrawn, and saves it to a folder.  The script looks at the newest 25 reference photos on RedditGetsDrawn. It focuses only on jpeg/png images and ignores and links to none .jpg or .png ending files. \n",
    "It is needed to instead of ignoring them files - get the image or images in some cases, from the link.\n",
    "The photos are always submitted from imgur.\n",
    "Still filter out the i.imgur files, but take the links and filter them through a python imgur module returning the .jpeg or .png files. \n",
    "\n",
    "\n",
    "This is moving forward from rgdsnatch.py because I am stuck on it.  \n",
    "\n",
    "TODO\n",
    "\n",
    "Fix the links that don't link to png/jpeg and link to webaddress. \n",
    "Needs to get the images that are at that web address and embed them.\n",
    "\n",
    "Display artwork submitted under the images. \n",
    "\n",
    "Upload artwork to user. Sends them a message on redditgetsdrawn with links. \n",
    "\n",
    "More pandas\n",
    "\n",
    "Saves reference images to imgs/year/month/day/reference/username-reference.png\n",
    "\n",
    "Saves art images to imgs/year/month/day/art/username-line-bw-colour.png \n",
    "\n",
    "Creates index.html file with:\n",
    "Title of site and logo: GetsDrawn\n",
    "Last updated date and time. \n",
    "\n",
    "Path of image file /imgs/year/month/day/username-reference.png. \n",
    "(This needs changed to just their username).\n",
    "\n",
    "Save off .meta data from reddit of each photo, saving it to reference folder.\n",
    "username-yrmnthday.meta - contains info such as author, title, upvotes, downvotes.\n",
    "Currently saving .meta files to a meta folder - along side art and reference. \n",
    "\n",
    "Folder sorting system of files. \n",
    "websitename/index.html-style.css-imgs/YEAR(15)-MONTH(2)-DAY(4)/art-reference-meta\n",
    "Inside art folder\n",
    "Currently it generates USERNAME-line/bw/colour.png 50/50 white files. Maybe should be getting art replies from reddit?\n",
    "\n",
    "Inside reference folder\n",
    "Reference fold is working decent. \n",
    "it creates USERNAME-reference.png / jpeg files. \n",
    "\n",
    "Currently saves username-line-bw-colour.png to imgs folder. Instead get it to save to imgs/year/month/day/usernames.png.\n",
    "Script checks the year/month/day and if folder isnt created, it creates it. If folder is there, exit. \n",
    "Maybe get the reference image and save it with the line/bw/color.pngs\n",
    "\n",
    "The script now filters the jpeg and png image and skips links to imgur pages. This needs to be fixed by getting the images from the imgur pages.\n",
    "It renames the image files to the redditor username followed by a -reference tag (and ending with png of course).\n",
    "It opens these files up with PIL and checks the sizes. \n",
    "It needs to resize the images that are larger than 800px to 800px.\n",
    "These images need to be linked in the index.html instead of the imgur altenatives. \n",
    "\n",
    "Instead of the jpeg/png files on imgur they are downloaded to the server with this script. \n",
    "\n",
    "Filter through as images are getting downloaded and if it has been less than certain time or if the image has been submitted before \n",
    "\n",
    "Extending the subreddits it gets data from to cycle though a list, run script though list of subreddits.\n",
    "\n",
    "Browse certain days - Current day by default but option to scroll through other days.\n",
    "\n",
    "Filters - male/female/animals/couples etc\n",
    "Function that returns only male portraits. \n",
    "tags to add to photos. \n",
    "Filter images with tags\n",
    "\n",
    "\n"
   ]
  },
  {
   "cell_type": "code",
   "execution_count": 1,
   "metadata": {
    "collapsed": true
   },
   "outputs": [],
   "source": [
    "import os \n",
    "import requests\n",
    "from bs4 import BeautifulSoup\n",
    "import re\n",
    "import json\n",
    "import time\n",
    "import praw\n",
    "import dominate\n",
    "from dominate.tags import * \n",
    "from time import gmtime, strftime\n",
    "#import nose\n",
    "#import unittest\n",
    "import numpy as np\n",
    "import pandas as pd\n",
    "from pandas import *\n",
    "from PIL import Image\n",
    "from pprint import pprint\n",
    "#import pyttsx\n",
    "import shutil\n",
    "import getpass"
   ]
  },
  {
   "cell_type": "code",
   "execution_count": 2,
   "metadata": {
    "collapsed": false
   },
   "outputs": [],
   "source": [
    "hosnam = getpass.getuser()"
   ]
  },
  {
   "cell_type": "code",
   "execution_count": 3,
   "metadata": {
    "collapsed": true
   },
   "outputs": [],
   "source": [
    "gtsdrndir = ('/home/' + hosnam + '/getsdrawndotcom/')"
   ]
  },
  {
   "cell_type": "code",
   "execution_count": 4,
   "metadata": {
    "collapsed": false
   },
   "outputs": [
    {
     "data": {
      "text/plain": [
       "'/home/wcmckee/getsdrawndotcom/'"
      ]
     },
     "execution_count": 4,
     "metadata": {},
     "output_type": "execute_result"
    }
   ],
   "source": [
    "gtsdrndir"
   ]
  },
  {
   "cell_type": "code",
   "execution_count": 5,
   "metadata": {
    "collapsed": false
   },
   "outputs": [
    {
     "name": "stdout",
     "output_type": "stream",
     "text": [
      "its true\n"
     ]
    }
   ],
   "source": [
    "if os.path.isdir(gtsdrndir) == True:\n",
    "    print 'its true'\n",
    "else:\n",
    "    print 'its false'\n",
    "    os.mkdir(gtsdrndir)"
   ]
  },
  {
   "cell_type": "code",
   "execution_count": 6,
   "metadata": {
    "collapsed": false
   },
   "outputs": [],
   "source": [
    "os.chdir(gtsdrndir)"
   ]
  },
  {
   "cell_type": "code",
   "execution_count": 7,
   "metadata": {
    "collapsed": false
   },
   "outputs": [],
   "source": [
    "r = praw.Reddit(user_agent='getsdrawndotcom')"
   ]
  },
  {
   "cell_type": "code",
   "execution_count": 8,
   "metadata": {
    "collapsed": true
   },
   "outputs": [],
   "source": [
    "#getmin = r.get_redditor('itwillbemine')"
   ]
  },
  {
   "cell_type": "code",
   "execution_count": 9,
   "metadata": {
    "collapsed": true
   },
   "outputs": [],
   "source": [
    "#mincom = getmin.get_comments()"
   ]
  },
  {
   "cell_type": "code",
   "execution_count": 10,
   "metadata": {
    "collapsed": true
   },
   "outputs": [],
   "source": [
    "#engine = pyttsx.init()\n",
    "\n",
    "#engine.say('The quick brown fox jumped over the lazy dog.')\n",
    "#engine.runAndWait()"
   ]
  },
  {
   "cell_type": "code",
   "execution_count": 11,
   "metadata": {
    "collapsed": true
   },
   "outputs": [],
   "source": [
    "#shtweet = []"
   ]
  },
  {
   "cell_type": "code",
   "execution_count": 12,
   "metadata": {
    "collapsed": true
   },
   "outputs": [],
   "source": [
    "#for mi in mincom:\n",
    "#    print mi\n",
    "#    shtweet.append(mi)"
   ]
  },
  {
   "cell_type": "code",
   "execution_count": 13,
   "metadata": {
    "collapsed": true
   },
   "outputs": [],
   "source": [
    "bodycom = []\n",
    "bodyicv = dict()"
   ]
  },
  {
   "cell_type": "code",
   "execution_count": 14,
   "metadata": {
    "collapsed": true
   },
   "outputs": [],
   "source": [
    "#beginz = pyttsx.init()"
   ]
  },
  {
   "cell_type": "code",
   "execution_count": 15,
   "metadata": {
    "collapsed": true
   },
   "outputs": [],
   "source": [
    "#for shtz in shtweet:\n",
    "#    print shtz.downs\n",
    "#    print shtz.ups\n",
    "#    print shtz.body\n",
    "#    print shtz.replies\n",
    "    #beginz.say(shtz.author)\n",
    "    #beginz.say(shtz.body)\n",
    "    #beginz.runAndWait()\n",
    "    \n",
    "#    bodycom.append(shtz.body)\n",
    "    #bodyic"
   ]
  },
  {
   "cell_type": "code",
   "execution_count": 16,
   "metadata": {
    "collapsed": true
   },
   "outputs": [],
   "source": [
    "#bodycom "
   ]
  },
  {
   "cell_type": "code",
   "execution_count": 17,
   "metadata": {
    "collapsed": true
   },
   "outputs": [],
   "source": [
    "getnewr = r.get_subreddit('redditgetsdrawn')"
   ]
  },
  {
   "cell_type": "code",
   "execution_count": 18,
   "metadata": {
    "collapsed": true
   },
   "outputs": [],
   "source": [
    "rdnew = getnewr.get_new()"
   ]
  },
  {
   "cell_type": "code",
   "execution_count": 19,
   "metadata": {
    "collapsed": true
   },
   "outputs": [],
   "source": [
    "lisrgc = []\n",
    "lisauth = []"
   ]
  },
  {
   "cell_type": "code",
   "execution_count": 20,
   "metadata": {
    "collapsed": false
   },
   "outputs": [],
   "source": [
    "for uz in rdnew:\n",
    "    #print uz\n",
    "    lisrgc.append(uz)"
   ]
  },
  {
   "cell_type": "code",
   "execution_count": 21,
   "metadata": {
    "collapsed": true
   },
   "outputs": [],
   "source": [
    "gtdrndic = dict()"
   ]
  },
  {
   "cell_type": "code",
   "execution_count": 22,
   "metadata": {
    "collapsed": true
   },
   "outputs": [],
   "source": [
    "imgdir = (gtsdrndir + 'imgs')"
   ]
  },
  {
   "cell_type": "code",
   "execution_count": 23,
   "metadata": {
    "collapsed": false
   },
   "outputs": [
    {
     "data": {
      "text/plain": [
       "'/home/wcmckee/getsdrawndotcom/imgs'"
      ]
     },
     "execution_count": 23,
     "metadata": {},
     "output_type": "execute_result"
    }
   ],
   "source": [
    "imgdir"
   ]
  },
  {
   "cell_type": "code",
   "execution_count": 24,
   "metadata": {
    "collapsed": false
   },
   "outputs": [
    {
     "name": "stdout",
     "output_type": "stream",
     "text": [
      "its true\n"
     ]
    }
   ],
   "source": [
    "if os.path.isdir(imgdir) == True:\n",
    "    print 'its true'\n",
    "else:\n",
    "    print 'its false'\n",
    "    os.mkdir(imgdir)"
   ]
  },
  {
   "cell_type": "code",
   "execution_count": 25,
   "metadata": {
    "collapsed": false
   },
   "outputs": [],
   "source": [
    "artlist = os.listdir(imgdir)"
   ]
  },
  {
   "cell_type": "code",
   "execution_count": 26,
   "metadata": {
    "collapsed": true
   },
   "outputs": [],
   "source": [
    "from time import time"
   ]
  },
  {
   "cell_type": "code",
   "execution_count": 27,
   "metadata": {
    "collapsed": true
   },
   "outputs": [],
   "source": [
    "yearz = strftime(\"%y\", gmtime())\n",
    "monthz = strftime(\"%m\", gmtime())\n",
    "dayz = strftime(\"%d\", gmtime())\n",
    "\n",
    "\n",
    "#strftime(\"%y %m %d\", gmtime())"
   ]
  },
  {
   "cell_type": "code",
   "execution_count": 28,
   "metadata": {
    "collapsed": true
   },
   "outputs": [],
   "source": [
    "yrzpat = (imgdir + '/' + yearz)\n",
    "monzpath = (yrzpat + '/' + monthz)\n",
    "dayzpath = (monzpath + '/' + dayz)\n",
    "rmgzdays = (dayzpath + '/reference')\n",
    "imgzdays = (dayzpath + '/art')\n",
    "metzdays = (dayzpath + '/meta')\n",
    "\n",
    "repathz = (imgdir + '/' + yearz + '/' + monthz + '/' + dayz + '/')"
   ]
  },
  {
   "cell_type": "code",
   "execution_count": 29,
   "metadata": {
    "collapsed": false
   },
   "outputs": [
    {
     "data": {
      "text/plain": [
       "'/home/wcmckee/getsdrawndotcom/imgs/15/02/06/'"
      ]
     },
     "execution_count": 29,
     "metadata": {},
     "output_type": "execute_result"
    }
   ],
   "source": [
    "repathz"
   ]
  },
  {
   "cell_type": "code",
   "execution_count": 30,
   "metadata": {
    "collapsed": false
   },
   "outputs": [
    {
     "data": {
      "text/plain": [
       "'/home/wcmckee/getsdrawndotcom/imgs/15/02/06'"
      ]
     },
     "execution_count": 30,
     "metadata": {},
     "output_type": "execute_result"
    }
   ],
   "source": [
    "dayzpath"
   ]
  },
  {
   "cell_type": "code",
   "execution_count": 31,
   "metadata": {
    "collapsed": false
   },
   "outputs": [
    {
     "data": {
      "text/plain": [
       "'/home/wcmckee/getsdrawndotcom/imgs/15/02/06/art'"
      ]
     },
     "execution_count": 31,
     "metadata": {},
     "output_type": "execute_result"
    }
   ],
   "source": [
    "imgzdays"
   ]
  },
  {
   "cell_type": "code",
   "execution_count": 32,
   "metadata": {
    "collapsed": false
   },
   "outputs": [
    {
     "data": {
      "text/plain": [
       "'/home/wcmckee/getsdrawndotcom/imgs/15/02/06/'"
      ]
     },
     "execution_count": 32,
     "metadata": {},
     "output_type": "execute_result"
    }
   ],
   "source": [
    "repathz"
   ]
  },
  {
   "cell_type": "code",
   "execution_count": 33,
   "metadata": {
    "collapsed": true
   },
   "outputs": [],
   "source": [
    "def ospacheck():\n",
    "    if os.path.isdir(imgdir + yearz) == True:\n",
    "        print 'its true'\n",
    "    else:\n",
    "        print 'its false'\n",
    "        os.mkdir(imgdir + yearz)\n",
    "    "
   ]
  },
  {
   "cell_type": "code",
   "execution_count": 34,
   "metadata": {
    "collapsed": false
   },
   "outputs": [
    {
     "name": "stdout",
     "output_type": "stream",
     "text": [
      "its true\n"
     ]
    }
   ],
   "source": [
    "ospacheck()"
   ]
  },
  {
   "cell_type": "code",
   "execution_count": 35,
   "metadata": {
    "collapsed": true
   },
   "outputs": [],
   "source": [
    "#if os.path.isdir(imgzdir + yearz) == True:\n",
    "#    print 'its true'\n",
    "#else:\n",
    "#    print 'its false'\n",
    "#    os.mkdir(imgzdir + yearz)"
   ]
  },
  {
   "cell_type": "code",
   "execution_count": 36,
   "metadata": {
    "collapsed": false
   },
   "outputs": [],
   "source": [
    "lizmon = ['monzpath', 'dayzpath', 'imgzdays', 'rmgzdays', 'metzdays']"
   ]
  },
  {
   "cell_type": "markdown",
   "metadata": {},
   "source": [
    "Something is wrong with the script and it's no longer creating these dir in the correct folder. How did this break?\n",
    "Fixed that but problems with it\n",
    "Getting error:\n",
    "OSError: [Errno 17] File exists: '/home/wcmckee/getsdrawndotcom/imgs/15/01'\n",
    "If the file exists it should be skipping over it, thats why it has the os.path.isdir == True:\n",
    " print its true\n",
    "else \n",
    " print its false, and make the dir"
   ]
  },
  {
   "cell_type": "code",
   "execution_count": 37,
   "metadata": {
    "collapsed": false
   },
   "outputs": [
    {
     "name": "stdout",
     "output_type": "stream",
     "text": [
      "its true\n"
     ]
    }
   ],
   "source": [
    "if os.path.isdir(monzpath) == True:\n",
    "    print 'its true'\n",
    "else:\n",
    "    print 'its false'\n",
    "    #os.mkdir('/home/wcmckee/getsdrawndotcom/' + monzpath)"
   ]
  },
  {
   "cell_type": "code",
   "execution_count": 38,
   "metadata": {
    "collapsed": false
   },
   "outputs": [
    {
     "name": "stdout",
     "output_type": "stream",
     "text": [
      "its false\n",
      "its false\n",
      "its false\n",
      "its false\n"
     ]
    }
   ],
   "source": [
    "if os.path.isdir(dayzpath) == True:\n",
    "    print 'its true'\n",
    "else:\n",
    "    print 'its false'\n",
    "    os.mkdir(dayzpath)\n",
    "\n",
    "if os.path.isdir(imgzdays) == True:\n",
    "    print 'its true'\n",
    "else:\n",
    "    print 'its false'\n",
    "    os.mkdir(imgzdays)\n",
    "    \n",
    "if os.path.isdir(rmgzdays) == True:\n",
    "    print 'its true'\n",
    "else:\n",
    "    print 'its false'\n",
    "    os.mkdir(rmgzdays)\n",
    "    \n",
    "if os.path.isdir(metzdays) == True:\n",
    "    print 'its true'\n",
    "else:\n",
    "    print 'its false'\n",
    "    os.mkdir(metzdays)"
   ]
  },
  {
   "cell_type": "markdown",
   "metadata": {},
   "source": [
    "Need to fix dir to just have /imgs/15/02/reference/imgnam-reference.jpg"
   ]
  },
  {
   "cell_type": "code",
   "execution_count": 110,
   "metadata": {
    "collapsed": false
   },
   "outputs": [
    {
     "data": {
      "text/plain": [
       "'/home/wcmckee/getsdrawndotcom/imgs/15/02'"
      ]
     },
     "execution_count": 110,
     "metadata": {},
     "output_type": "execute_result"
    }
   ],
   "source": [
    "monzpath"
   ]
  },
  {
   "cell_type": "code",
   "execution_count": 116,
   "metadata": {
    "collapsed": true
   },
   "outputs": [],
   "source": [
    "iwcpath = 'imgs/' + yearz + '/' + monthz + '/' + dayz + '/reference'\n",
    "\n",
    "#monzpath = (yrzpat + '/' + monthz)\n",
    "#dayzpath = (monzpath + '/' + dayz)\n",
    "#rmgzdays = (dayzpath + '/reference')"
   ]
  },
  {
   "cell_type": "code",
   "execution_count": 117,
   "metadata": {
    "collapsed": false
   },
   "outputs": [
    {
     "data": {
      "text/plain": [
       "'imgs/15/02/06/reference'"
      ]
     },
     "execution_count": 117,
     "metadata": {},
     "output_type": "execute_result"
    }
   ],
   "source": [
    "iwcpath"
   ]
  },
  {
   "cell_type": "code",
   "execution_count": 113,
   "metadata": {
    "collapsed": false
   },
   "outputs": [
    {
     "data": {
      "text/plain": [
       "'imgs//home/wcmckee/getsdrawndotcom/imgs/15'"
      ]
     },
     "execution_count": 113,
     "metadata": {},
     "output_type": "execute_result"
    }
   ],
   "source": [
    "iwcpath"
   ]
  },
  {
   "cell_type": "code",
   "execution_count": 39,
   "metadata": {
    "collapsed": false
   },
   "outputs": [],
   "source": [
    "#for liz in lizmon:\n",
    "#    if os.path.isdir(liz) == True:\n",
    "##        print 'its true'\n",
    " #   else:\n",
    "#        print 'its false'\n",
    "#        os.mkdir(liz)"
   ]
  },
  {
   "cell_type": "code",
   "execution_count": 40,
   "metadata": {
    "collapsed": false
   },
   "outputs": [],
   "source": [
    "fullhom = ('/home/wcmckee/getsdrawndotcom/')"
   ]
  },
  {
   "cell_type": "code",
   "execution_count": 41,
   "metadata": {
    "collapsed": true
   },
   "outputs": [],
   "source": [
    "#artlist"
   ]
  },
  {
   "cell_type": "code",
   "execution_count": 42,
   "metadata": {
    "collapsed": true
   },
   "outputs": [],
   "source": [
    "httpad = ('http://getsdrawn.com/imgs')"
   ]
  },
  {
   "cell_type": "code",
   "execution_count": 43,
   "metadata": {
    "collapsed": true
   },
   "outputs": [],
   "source": [
    "#im = Image.new(\"RGB\", (512, 512), \"white\")\n",
    "#im.save(file + \".thumbnail\", \"JPEG\")"
   ]
  },
  {
   "cell_type": "code",
   "execution_count": 44,
   "metadata": {
    "collapsed": true
   },
   "outputs": [],
   "source": [
    "rmgzdays = (dayzpath + '/reference')\n",
    "imgzdays = (dayzpath + '/art')\n",
    "metzdays = (dayzpath + '/meta')"
   ]
  },
  {
   "cell_type": "code",
   "execution_count": 45,
   "metadata": {
    "collapsed": false
   },
   "outputs": [],
   "source": [
    "os.chdir(metzdays)"
   ]
  },
  {
   "cell_type": "code",
   "execution_count": 46,
   "metadata": {
    "collapsed": false
   },
   "outputs": [],
   "source": [
    "metadict = dict()"
   ]
  },
  {
   "cell_type": "markdown",
   "metadata": {},
   "source": [
    "if i save the data to the file how am i going to get it to update as the post is archieved. Such as up and down votes. "
   ]
  },
  {
   "cell_type": "code",
   "execution_count": 47,
   "metadata": {
    "collapsed": false
   },
   "outputs": [],
   "source": [
    "for lisz in lisrgc:\n",
    "    metadict.update({'up': lisz.ups})\n",
    "    metadict.update({'down': lisz.downs})\n",
    "    metadict.update({'title': lisz.title})\n",
    "    metadict.update({'created': lisz.created})\n",
    "    #metadict.update({'createdutc': lisz.created_utc})\n",
    "    #print lisz.ups\n",
    "    #print lisz.downs\n",
    "    #print lisz.created\n",
    "    #print lisz.comments"
   ]
  },
  {
   "cell_type": "code",
   "execution_count": 48,
   "metadata": {
    "collapsed": false
   },
   "outputs": [
    {
     "data": {
      "text/plain": [
       "{'created': 1423239947.0, 'down': 0, 'title': u'Draw my beard', 'up': 33}"
      ]
     },
     "execution_count": 48,
     "metadata": {},
     "output_type": "execute_result"
    }
   ],
   "source": [
    "metadict"
   ]
  },
  {
   "cell_type": "markdown",
   "metadata": {},
   "source": [
    "Need to save json object.\n",
    "\n",
    "Dict is created but it isnt saving. Looping through lisrgc twice, should only require the one loop.\n",
    "\n",
    "Cycle through lisr and append to dict/concert to json, and also cycle through lisr.author meta folders saving the json that was created. "
   ]
  },
  {
   "cell_type": "code",
   "execution_count": 49,
   "metadata": {
    "collapsed": true
   },
   "outputs": [],
   "source": [
    "for lisr in lisrgc:\n",
    "    gtdrndic.update({'title': lisr.title})\n",
    "    lisauth.append(str(lisr.author))\n",
    "    for osliz in os.listdir(metzdays):\n",
    "        with open(str(lisr.author) + '.meta', \"w\") as f:\n",
    "            rstrin = lisr.title.encode('ascii', 'ignore').decode('ascii')\n",
    "            #print matdict\n",
    "            #metadict = dict()\n",
    "            #for lisz in lisrgc:\n",
    "            #    metadict.update({'up': lisz.ups})\n",
    "            #    metadict.update({'down': lisz.downs})\n",
    "            #    metadict.update({'title': lisz.title})\n",
    "            #    metadict.update({'created': lisz.created})\n",
    "            f.write(rstrin)\n"
   ]
  },
  {
   "cell_type": "code",
   "execution_count": 50,
   "metadata": {
    "collapsed": false
   },
   "outputs": [],
   "source": [
    "#matdict"
   ]
  },
  {
   "cell_type": "markdown",
   "metadata": {},
   "source": [
    "I have it creating a meta folder and creating/writing username.meta files. It wrote 'test' in each folder, but now it writes the photo author title of post.. the username/image data. It should be writing more than author title - maybe upvotes/downvotes, subreddit, time published etc.\n"
   ]
  },
  {
   "cell_type": "code",
   "execution_count": 51,
   "metadata": {
    "collapsed": true
   },
   "outputs": [],
   "source": [
    "#os.listdir(dayzpath)"
   ]
  },
  {
   "cell_type": "markdown",
   "metadata": {},
   "source": [
    "Instead of creating these white images, why not download the art replies of the reference photo."
   ]
  },
  {
   "cell_type": "code",
   "execution_count": 52,
   "metadata": {
    "collapsed": true
   },
   "outputs": [],
   "source": [
    "#for lisa in lisauth:\n",
    "#    #print lisa + '-line.png'\n",
    "#    im = Image.new(\"RGB\", (512, 512), \"white\")\n",
    "#    im.save(lisa + '-line.png')\n",
    "#    im = Image.new(\"RGB\", (512, 512), \"white\")\n",
    "#    im.save(lisa + '-bw.png')\n",
    "\n",
    "    #print lisa + '-bw.png'\n",
    "#    im = Image.new(\"RGB\", (512, 512), \"white\")\n",
    "#    im.save(lisa + '-colour.png')\n",
    "\n",
    "    #print lisa + '-colour.png'"
   ]
  },
  {
   "cell_type": "code",
   "execution_count": 53,
   "metadata": {
    "collapsed": false
   },
   "outputs": [
    {
     "data": {
      "text/plain": [
       "['15']"
      ]
     },
     "execution_count": 53,
     "metadata": {},
     "output_type": "execute_result"
    }
   ],
   "source": [
    "os.listdir('/home/wcmckee/getsdrawndotcom/imgs')"
   ]
  },
  {
   "cell_type": "code",
   "execution_count": 54,
   "metadata": {
    "collapsed": true
   },
   "outputs": [],
   "source": [
    "#lisauth"
   ]
  },
  {
   "cell_type": "markdown",
   "metadata": {},
   "source": [
    "I want to save the list of usernames that submit images as png files in a dir. \n",
    "Currently when I call the list of authors it returns Redditor(user_name='theusername'). I want to return 'theusername'.\n",
    "Once this is resolved I can add '-line.png' '-bw.png' '-colour.png' to each folder. "
   ]
  },
  {
   "cell_type": "code",
   "execution_count": 55,
   "metadata": {
    "collapsed": true
   },
   "outputs": [],
   "source": [
    "#lisr.author"
   ]
  },
  {
   "cell_type": "code",
   "execution_count": 56,
   "metadata": {
    "collapsed": true
   },
   "outputs": [],
   "source": [
    "namlis = []"
   ]
  },
  {
   "cell_type": "code",
   "execution_count": 57,
   "metadata": {
    "collapsed": false
   },
   "outputs": [],
   "source": [
    "#opsinz = open('/home/wcmckee/visignsys/index.meta', 'r')\n",
    "#panz = opsinz.read()"
   ]
  },
  {
   "cell_type": "code",
   "execution_count": 58,
   "metadata": {
    "collapsed": true
   },
   "outputs": [],
   "source": [
    "os.chdir(rmgzdays)"
   ]
  },
  {
   "cell_type": "markdown",
   "metadata": {},
   "source": [
    "Filter the non jpeg/png links. Need to perform request or imgur api to get the jpeg/png files from the link. Hey maybe bs4?"
   ]
  },
  {
   "cell_type": "code",
   "execution_count": 58,
   "metadata": {
    "collapsed": false
   },
   "outputs": [],
   "source": []
  },
  {
   "cell_type": "code",
   "execution_count": 59,
   "metadata": {
    "collapsed": false
   },
   "outputs": [],
   "source": [
    "#from imgurpython import ImgurClient"
   ]
  },
  {
   "cell_type": "code",
   "execution_count": 60,
   "metadata": {
    "collapsed": false
   },
   "outputs": [],
   "source": [
    "#opps = open('/home/wcmckee/ps.txt', 'r')\n",
    "#opzs = open('/home/wcmckee/ps2.txt', 'r')\n",
    "#oprd = opps.read()\n",
    "#opzrd = opzs.read()"
   ]
  },
  {
   "cell_type": "code",
   "execution_count": 61,
   "metadata": {
    "collapsed": false
   },
   "outputs": [],
   "source": [
    "#client = ImgurClient(oprd, opzrd)\n",
    "\n",
    "# Example request\n",
    "#items = client.gallery()\n",
    "#for item in items:\n",
    "#    print(item.link)\n",
    "    \n",
    "\n",
    "#itz = client.get_album_images()"
   ]
  },
  {
   "cell_type": "code",
   "execution_count": 62,
   "metadata": {
    "collapsed": false
   },
   "outputs": [],
   "source": [
    "#galim = client.get_image('SBaV275')"
   ]
  },
  {
   "cell_type": "code",
   "execution_count": 63,
   "metadata": {
    "collapsed": false
   },
   "outputs": [],
   "source": [
    "#galim.size"
   ]
  },
  {
   "cell_type": "code",
   "execution_count": 64,
   "metadata": {
    "collapsed": false
   },
   "outputs": [],
   "source": [
    "#gelim = client.get_album_images('LTDJ9')"
   ]
  },
  {
   "cell_type": "code",
   "execution_count": 65,
   "metadata": {
    "collapsed": false
   },
   "outputs": [],
   "source": [
    "#gelim"
   ]
  },
  {
   "cell_type": "code",
   "execution_count": 66,
   "metadata": {
    "collapsed": false
   },
   "outputs": [],
   "source": [
    "#from urlparse import urlparse"
   ]
  },
  {
   "cell_type": "code",
   "execution_count": 67,
   "metadata": {
    "collapsed": false
   },
   "outputs": [],
   "source": [
    "#linklis = []"
   ]
  },
  {
   "cell_type": "markdown",
   "metadata": {},
   "source": [
    "I need to get the image ids from each url. Strip the http://imgur.com/ from the string. The gallery id is the random characters after. if it's an album a is added. if multi imgs then , is used to seprate. \n",
    "\n",
    "Doesnt currently work. \n",
    "\n",
    "Having problems with mixed /a/etwet and wetfwet urls. Using .strip('/') to remove forward slash in front of path. "
   ]
  },
  {
   "cell_type": "code",
   "execution_count": 68,
   "metadata": {
    "collapsed": false
   },
   "outputs": [],
   "source": [
    "#pathlis = []"
   ]
  },
  {
   "cell_type": "code",
   "execution_count": 69,
   "metadata": {
    "collapsed": false
   },
   "outputs": [],
   "source": [
    "#for rdz in lisrgc:\n",
    "#    if 'http://imgur.com/' in rdz.url:\n",
    "#        print rdz.url\n",
    "#        parsed = urlparse(rdz.url)\n",
    "##        print parsed.path.strip('/')\n",
    " #       pathlis.append(parsed.path.strip('/'))\n",
    "        #for pared in parsed.path:\n",
    "        #    print pared.strip('/')\n",
    "        #itgar = client.gallery_item(parsed.path.strip('/'))\n",
    "        #itz = client.get_album_images(parsed.path.strip('a/'))\n",
    "#        reimg = requests.get(rdz.url)\n",
    "##        retxt = reimg.text\n",
    "#        souptxt = BeautifulSoup(''.join(retxt))\n",
    "#        soupurz = souptxt.findAll('img')\n",
    "#        for soupuz in soupurz:\n",
    "#            imgurl = soupuz['src']\n",
    "#            print imgurl\n",
    "#            linklis.append(imgurl)\n",
    "            \n",
    "            #try:\n",
    "            #    imzdata = requests.get(imgurl)"
   ]
  },
  {
   "cell_type": "code",
   "execution_count": 70,
   "metadata": {
    "collapsed": false
   },
   "outputs": [],
   "source": [
    "#pathlis"
   ]
  },
  {
   "cell_type": "code",
   "execution_count": 71,
   "metadata": {
    "collapsed": false
   },
   "outputs": [],
   "source": [
    "#noalis = []"
   ]
  },
  {
   "cell_type": "code",
   "execution_count": 72,
   "metadata": {
    "collapsed": false
   },
   "outputs": [],
   "source": [
    "#for pathl in pathlis:\n",
    "#    if 'a/' in pathl:\n",
    "#        print 'a found'\n",
    "#    else:\n",
    "#        noalis.append(pathl)"
   ]
  },
  {
   "cell_type": "code",
   "execution_count": 73,
   "metadata": {
    "collapsed": false
   },
   "outputs": [],
   "source": [
    "#if 'a/' in pathlis:\n",
    "#    print 'a found'\n",
    "#else:\n",
    "#    noalis.append(pathlis)"
   ]
  },
  {
   "cell_type": "code",
   "execution_count": 74,
   "metadata": {
    "collapsed": false
   },
   "outputs": [],
   "source": [
    "#for noaz in noalis:\n",
    "#    print noaz\n",
    "    #itgar = client.gallery_item()"
   ]
  },
  {
   "cell_type": "code",
   "execution_count": 75,
   "metadata": {
    "collapsed": false
   },
   "outputs": [],
   "source": [
    "#linklis"
   ]
  },
  {
   "cell_type": "code",
   "execution_count": 76,
   "metadata": {
    "collapsed": false
   },
   "outputs": [],
   "source": [
    "#if '.jpg' in linklis:\n",
    "#    print 'yes'\n",
    "#else:\n",
    "#    print 'no'"
   ]
  },
  {
   "cell_type": "code",
   "execution_count": 77,
   "metadata": {
    "collapsed": false
   },
   "outputs": [
    {
     "name": "stdout",
     "output_type": "stream",
     "text": [
      "http://i.imgur.com/RfIHXaJ.jpg\n",
      "http://i.imgur.com/a5oZn4s.jpg\n",
      "http://i.imgur.com/WFLaeYD.png\n",
      "http://i.imgur.com/GWQfYhQ.jpg\n",
      "http://i.imgur.com/J0G6o06.jpg\n",
      "http://i.imgur.com/iLPCA9H.jpg\n",
      "http://i.imgur.com/Cx7Yyw0.jpg\n",
      "http://i.imgur.com/x4Lzs0S.jpg\n",
      "http://i.imgur.com/xOtF6sQ.jpg\n",
      "http://i.imgur.com/Z5u00ai.jpg\n",
      "http://i.imgur.com/X40coAd.jpg\n",
      "http://i.imgur.com/bkGAF6O.jpg\n"
     ]
    }
   ],
   "source": [
    "#panz()\n",
    "for rdz in lisrgc:\n",
    "    (rdz.title)\n",
    "    #a(rdz.url)\n",
    "    if 'http://i.imgur.com' in rdz.url:\n",
    "        #print rdz.url\n",
    "        print (rdz.url)\n",
    "        url = rdz.url\n",
    "        response = requests.get(url, stream=True)\n",
    "        with open(str(rdz.author) + '-reference.png', 'wb') as out_file:\n",
    "            shutil.copyfileobj(response.raw, out_file)\n",
    "            del response"
   ]
  },
  {
   "cell_type": "code",
   "execution_count": 78,
   "metadata": {
    "collapsed": true
   },
   "outputs": [],
   "source": [
    "apsize = []"
   ]
  },
  {
   "cell_type": "code",
   "execution_count": 79,
   "metadata": {
    "collapsed": true
   },
   "outputs": [],
   "source": [
    "aptype = []"
   ]
  },
  {
   "cell_type": "code",
   "execution_count": 80,
   "metadata": {
    "collapsed": true
   },
   "outputs": [],
   "source": [
    "basewidth = 600"
   ]
  },
  {
   "cell_type": "code",
   "execution_count": 81,
   "metadata": {
    "collapsed": true
   },
   "outputs": [],
   "source": [
    "imgdict = dict()"
   ]
  },
  {
   "cell_type": "code",
   "execution_count": 82,
   "metadata": {
    "collapsed": true
   },
   "outputs": [],
   "source": [
    "for rmglis in os.listdir(rmgzdays):\n",
    "    #print rmglis\n",
    "    im = Image.open(rmglis)\n",
    "    #print im.size\n",
    "    imgdict.update({rmglis : im.size})\n",
    "    #im.thumbnail(size, Image.ANTIALIAS)\n",
    "    #im.save(file + \".thumbnail\", \"JPEG\")\n",
    "    apsize.append(im.size)\n",
    "    aptype.append(rmglis)"
   ]
  },
  {
   "cell_type": "code",
   "execution_count": 83,
   "metadata": {
    "collapsed": true
   },
   "outputs": [],
   "source": [
    "#for imdva in imgdict.values():\n",
    "    #print imdva\n",
    "    #for deva in imdva:\n",
    "        #print deva\n",
    "     #   if deva < 1000:\n",
    "      #      print 'omg less than 1000'\n",
    "       # else:\n",
    "        #    print 'omg more than 1000'\n",
    "         #   print deva / 2\n",
    "            #print imgdict.values\n",
    "            # Needs to update imgdict.values with this new number. Must halve height also."
   ]
  },
  {
   "cell_type": "code",
   "execution_count": 84,
   "metadata": {
    "collapsed": true
   },
   "outputs": [],
   "source": [
    "#basewidth = 300\n",
    "#img = Image.open('somepic.jpg')\n",
    "#wpercent = (basewidth/float(img.size[0]))\n",
    "#hsize = int((float(img.size[1])*float(wpercent)))\n",
    "#img = img.resize((basewidth,hsize), PIL.Image.ANTIALIAS)\n",
    "#img.save('sompic.jpg')"
   ]
  },
  {
   "cell_type": "code",
   "execution_count": 85,
   "metadata": {
    "collapsed": true
   },
   "outputs": [],
   "source": [
    "#os.chdir(metzdays)"
   ]
  },
  {
   "cell_type": "code",
   "execution_count": 85,
   "metadata": {
    "collapsed": false
   },
   "outputs": [],
   "source": []
  },
  {
   "cell_type": "code",
   "execution_count": 86,
   "metadata": {
    "collapsed": true
   },
   "outputs": [],
   "source": [
    "#for numz in apsize:\n",
    "#    print numz[0]\n",
    " #   if numz[0] > 800:\n",
    "#        print ('greater than 800')\n",
    "#    else:\n",
    "#        print ('less than 800!')"
   ]
  },
  {
   "cell_type": "code",
   "execution_count": 120,
   "metadata": {
    "collapsed": true
   },
   "outputs": [],
   "source": [
    "reliz = []"
   ]
  },
  {
   "cell_type": "code",
   "execution_count": 121,
   "metadata": {
    "collapsed": true
   },
   "outputs": [],
   "source": [
    "for refls in os.listdir(rmgzdays):\n",
    "    #print rmgzdays + refls\n",
    "    reliz.append(iwcpath + '/' + refls)"
   ]
  },
  {
   "cell_type": "code",
   "execution_count": 125,
   "metadata": {
    "collapsed": false
   },
   "outputs": [
    {
     "data": {
      "text/plain": [
       "['imgs/15/02/06/reference/robb911-reference.png',\n",
       " 'imgs/15/02/06/reference/2PumpChamp-reference.png',\n",
       " 'imgs/15/02/06/reference/hairinthewind-reference.png',\n",
       " 'imgs/15/02/06/reference/LhandChuke-reference.png',\n",
       " 'imgs/15/02/06/reference/WalkermanlilyQ-reference.png',\n",
       " 'imgs/15/02/06/reference/El-Dino-reference.png',\n",
       " 'imgs/15/02/06/reference/SwarthyTheGiant-reference.png',\n",
       " 'imgs/15/02/06/reference/Derptardaction-reference.png',\n",
       " 'imgs/15/02/06/reference/vanspark777-reference.png',\n",
       " 'imgs/15/02/06/reference/vaNestor-reference.png',\n",
       " 'imgs/15/02/06/reference/tdcman-reference.png',\n",
       " 'imgs/15/02/06/reference/FromTheId-reference.png']"
      ]
     },
     "execution_count": 125,
     "metadata": {},
     "output_type": "execute_result"
    }
   ],
   "source": [
    "reliz"
   ]
  },
  {
   "cell_type": "code",
   "execution_count": 126,
   "metadata": {
    "collapsed": false
   },
   "outputs": [
    {
     "data": {
      "text/plain": [
       "['robb911-reference.png',\n",
       " '2PumpChamp-reference.png',\n",
       " 'hairinthewind-reference.png',\n",
       " 'LhandChuke-reference.png',\n",
       " 'WalkermanlilyQ-reference.png',\n",
       " 'El-Dino-reference.png',\n",
       " 'SwarthyTheGiant-reference.png',\n",
       " 'Derptardaction-reference.png',\n",
       " 'vanspark777-reference.png',\n",
       " 'vaNestor-reference.png',\n",
       " 'tdcman-reference.png',\n",
       " 'FromTheId-reference.png']"
      ]
     },
     "execution_count": 126,
     "metadata": {},
     "output_type": "execute_result"
    }
   ],
   "source": [
    "aptype"
   ]
  },
  {
   "cell_type": "code",
   "execution_count": 127,
   "metadata": {
    "collapsed": false
   },
   "outputs": [],
   "source": [
    "#opad = open('/home/wcmckee/ad.html', 'r')"
   ]
  },
  {
   "cell_type": "code",
   "execution_count": 128,
   "metadata": {
    "collapsed": false
   },
   "outputs": [],
   "source": [
    "#opred = opad.read()"
   ]
  },
  {
   "cell_type": "code",
   "execution_count": 129,
   "metadata": {
    "collapsed": true
   },
   "outputs": [],
   "source": [
    "#str2 = opred.replace(\"\\n\", \"\")"
   ]
  },
  {
   "cell_type": "code",
   "execution_count": 130,
   "metadata": {
    "collapsed": true
   },
   "outputs": [],
   "source": [
    "#str2"
   ]
  },
  {
   "cell_type": "code",
   "execution_count": null,
   "metadata": {
    "collapsed": true
   },
   "outputs": [],
   "source": []
  },
  {
   "cell_type": "code",
   "execution_count": 131,
   "metadata": {
    "collapsed": false
   },
   "outputs": [],
   "source": [
    "doc = dominate.document(title='GetsDrawn')\n",
    "\n",
    "with doc.head:\n",
    "    link(rel='stylesheet', href='style.css')\n",
    "    script(type ='text/javascript', src='script.js')\n",
    "    #str(str2)\n",
    "    \n",
    "    with div():\n",
    "        attr(cls='header')\n",
    "        h1('GetsDrawn')\n",
    "        p(img('imgs/getsdrawn-bw.png', src='imgs/getsdrawn-bw.png'))\n",
    "        #p(img('imgs/15/01/02/ReptileLover82-reference.png', src= 'imgs/15/01/02/ReptileLover82-reference.png'))\n",
    "        h1('Updated ', strftime(\"%a, %d %b %Y %H:%M:%S +0000\", gmtime()))\n",
    "        #p(panz)\n",
    "        p(bodycom)\n",
    "    \n",
    "    \n",
    "\n",
    "with doc:\n",
    "    with div(id='body').add(ol()):\n",
    "        for rdz in reliz:\n",
    "            #h1(rdz.title)\n",
    "            #a(rdz.url)\n",
    "            #p(img(rdz, src='%s' % rdz))\n",
    "            #print rdz\n",
    "            p(img(rdz, src = rdz))\n",
    "            p(rdz)\n",
    "\n",
    "\n",
    "                \n",
    "            #print rdz.url\n",
    "            #if '.jpg' in rdz.url:\n",
    "            #    img(rdz.urlz)\n",
    "            #else:\n",
    "            #    a(rdz.urlz)\n",
    "            #h1(str(rdz.author))\n",
    "            \n",
    "            #li(img(i.lower(), src='%s' % i))\n",
    "\n",
    "    with div():\n",
    "        attr(cls='body')\n",
    "        p('GetsDrawn is open source')\n",
    "        a('https://github.com/getsdrawn/getsdrawndotcom')\n",
    "        a('https://reddit.com/r/redditgetsdrawn')\n",
    "\n",
    "#print doc"
   ]
  },
  {
   "cell_type": "code",
   "execution_count": 132,
   "metadata": {
    "collapsed": true
   },
   "outputs": [],
   "source": [
    "docre = doc.render()"
   ]
  },
  {
   "cell_type": "code",
   "execution_count": 133,
   "metadata": {
    "collapsed": true
   },
   "outputs": [],
   "source": [
    "#s = docre.decode('ascii', 'ignore')"
   ]
  },
  {
   "cell_type": "code",
   "execution_count": 134,
   "metadata": {
    "collapsed": true
   },
   "outputs": [],
   "source": [
    "yourstring = docre.encode('ascii', 'ignore').decode('ascii')"
   ]
  },
  {
   "cell_type": "code",
   "execution_count": 135,
   "metadata": {
    "collapsed": true
   },
   "outputs": [],
   "source": [
    "indfil = ('/home/wcmckee/getsdrawndotcom/index.html')"
   ]
  },
  {
   "cell_type": "code",
   "execution_count": 136,
   "metadata": {
    "collapsed": true
   },
   "outputs": [],
   "source": [
    "mkind = open(indfil, 'w')\n",
    "mkind.write(yourstring)\n",
    "mkind.close()"
   ]
  },
  {
   "cell_type": "code",
   "execution_count": 101,
   "metadata": {
    "collapsed": true
   },
   "outputs": [],
   "source": [
    "#os.system('scp -r /home/wcmckee/getsdrawndotcom/ wcmckee@getsdrawn.com:/home/wcmckee/getsdrawndotcom')"
   ]
  },
  {
   "cell_type": "code",
   "execution_count": 102,
   "metadata": {
    "collapsed": true
   },
   "outputs": [],
   "source": [
    "#rsync -azP source destination"
   ]
  },
  {
   "cell_type": "code",
   "execution_count": 103,
   "metadata": {
    "collapsed": true
   },
   "outputs": [],
   "source": [
    "#updatehtm = raw_input('Update index? Y/n')\n",
    "#updateref = raw_input('Update reference? Y/n')\n",
    "\n",
    "#if 'y' or '' in updatehtm:\n",
    "#    os.system('scp -r /home/wcmckee/getsdrawndotcom/index.html wcmckee@getsdrawn.com:/home/wcmckee/getsdrawndotcom/index.html')\n",
    "#elif 'n' in updatehtm:\n",
    "#    print 'not uploading'\n",
    "#if 'y' or '' in updateref:\n",
    "#    os.system('rsync -azP /home/wcmckee/getsdrawndotcom/ wcmckee@getsdrawn.com:/home/wcmckee/getsdrawndotcom/')"
   ]
  },
  {
   "cell_type": "code",
   "execution_count": 104,
   "metadata": {
    "collapsed": true
   },
   "outputs": [],
   "source": [
    "#os.system('scp -r /home/wcmckee/getsdrawndotcom/index.html wcmckee@getsdrawn.com:/home/wcmckee/getsdrawndotcom/index.html')"
   ]
  },
  {
   "cell_type": "code",
   "execution_count": 105,
   "metadata": {
    "collapsed": true
   },
   "outputs": [],
   "source": [
    "#os.system('scp -r /home/wcmckee/getsdrawndotcom/style.css wcmckee@getsdrawn.com:/home/wcmckee/getsdrawndotcom/style.css')"
   ]
  },
  {
   "cell_type": "code",
   "execution_count": 553,
   "metadata": {
    "collapsed": true
   },
   "outputs": [],
   "source": []
  },
  {
   "cell_type": "code",
   "execution_count": 321,
   "metadata": {
    "collapsed": true
   },
   "outputs": [],
   "source": []
  },
  {
   "cell_type": "code",
   "execution_count": 138,
   "metadata": {
    "collapsed": true
   },
   "outputs": [],
   "source": []
  },
  {
   "cell_type": "code",
   "execution_count": 138,
   "metadata": {
    "collapsed": true
   },
   "outputs": [],
   "source": []
  },
  {
   "cell_type": "code",
   "execution_count": null,
   "metadata": {
    "collapsed": true
   },
   "outputs": [],
   "source": []
  }
 ],
 "metadata": {
  "kernelspec": {
   "display_name": "Python 2",
   "name": "python2"
  },
  "language_info": {
   "codemirror_mode": {
    "name": "ipython",
    "version": 2
   },
   "file_extension": ".py",
   "mimetype": "text/x-python",
   "name": "python",
   "nbconvert_exporter": "python",
   "pygments_lexer": "ipython2",
   "version": "2.7.8"
  }
 },
 "nbformat": 4,
 "nbformat_minor": 0
}
