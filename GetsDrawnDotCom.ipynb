{
 "cells": [
  {
   "cell_type": "markdown",
   "metadata": {},
   "source": [
    "<h1>GetsDrawn DotCom</h1>"
   ]
  },
  {
   "cell_type": "markdown",
   "metadata": {},
   "source": [
    "This is a python script to generate the website GetsDrawn. It takes data from /r/RedditGetsDrawn and makes something awesome.\n",
    "\n",
    "The script has envolved and been rewritten several times. \n",
    "\n",
    "The first script for rgdsnatch was written after I got banned from posting my artwork on /r/RedditGetsDrawn. The plan was to create a new site that displayed stuff from /r/RedditGetsDrawn. \n",
    "\n",
    "Currently it only displays the most recent 25 items on redditgetsdrawn. The script looks at the newest 25 reference photos on RedditGetsDrawn. It focuses only on jpeg/png images and ignores and links to none .jpg or .png ending files. \n",
    "It is needed to instead of ignoring them files - get the image or images in some cases, from the link.\n",
    "The photos are always submitted from imgur.\n",
    "Still filter out the i.imgur files, but take the links and filter them through a python imgur module returning the .jpeg or .png files. \n",
    "\n",
    "\n",
    "This is moving forward from rgdsnatch.py because I am stuck on it.  \n",
    "\n",
    "TODO\n",
    "\n",
    "Fix the links that don't link to png/jpeg and link to webaddress. \n",
    "Needs to get the images that are at that web address and embed them.\n",
    "\n",
    "Display artwork submitted under the images. \n",
    "\n",
    "Upload artwork to user. Sends them a message on redditgetsdrawn with links. \n",
    "\n",
    "More pandas\n",
    "\n",
    "Saves reference images to imgs/year/month/day/reference/username-reference.png\n",
    "\n",
    "Saves art images to imgs/year/month/day/art/username-line-bw-colour.png \n",
    "\n",
    "Creates index.html file with:\n",
    "Title of site and logo: GetsDrawn\n",
    "Last updated date and time. \n",
    "\n",
    "Path of image file /imgs/year/month/day/username-reference.png. \n",
    "(This needs changed to just their username).\n",
    "\n",
    "Save off .meta data from reddit of each photo, saving it to reference folder.\n",
    "username-yrmnthday.meta - contains info such as author, title, upvotes, downvotes.\n",
    "Currently saving .meta files to a meta folder - along side art and reference. \n",
    "\n",
    "Folder sorting system of files. \n",
    "websitename/index.html-style.css-imgs/YEAR(15)-MONTH(2)-DAY(4)/art-reference-meta\n",
    "Inside art folder\n",
    "Currently it generates USERNAME-line/bw/colour.png 50/50 white files. Maybe should be getting art replies from reddit?\n",
    "\n",
    "Inside reference folder\n",
    "Reference fold is working decent. \n",
    "it creates USERNAME-reference.png / jpeg files. \n",
    "\n",
    "Currently saves username-line-bw-colour.png to imgs folder. Instead get it to save to imgs/year/month/day/usernames.png.\n",
    "Script checks the year/month/day and if folder isnt created, it creates it. If folder is there, exit. \n",
    "Maybe get the reference image and save it with the line/bw/color.pngs\n",
    "\n",
    "The script now filters the jpeg and png image and skips links to imgur pages. This needs to be fixed by getting the images from the imgur pages.\n",
    "It renames the image files to the redditor username followed by a -reference tag (and ending with png of course).\n",
    "It opens these files up with PIL and checks the sizes. \n",
    "It needs to resize the images that are larger than 800px to 800px.\n",
    "These images need to be linked in the index.html instead of the imgur altenatives. \n",
    "\n",
    "Instead of the jpeg/png files on imgur they are downloaded to the server with this script. \n",
    "\n",
    "Filter through as images are getting downloaded and if it has been less than certain time or if the image has been submitted before \n",
    "\n",
    "Extending the subreddits it gets data from to cycle though a list, run script though list of subreddits.\n",
    "\n",
    "Browse certain days - Current day by default but option to scroll through other days.\n",
    "\n",
    "Filters - male/female/animals/couples etc\n",
    "Function that returns only male portraits. \n",
    "tags to add to photos. \n",
    "Filter images with tags\n",
    "\n",
    "\n"
   ]
  },
  {
   "cell_type": "code",
   "execution_count": 2,
   "metadata": {
    "collapsed": false
   },
   "outputs": [],
   "source": [
    "import os \n",
    "import requests\n",
    "from bs4 import BeautifulSoup\n",
    "import re\n",
    "import json\n",
    "import time\n",
    "import praw\n",
    "import dominate\n",
    "from dominate.tags import * \n",
    "from time import gmtime, strftime\n",
    "#import nose\n",
    "#import unittest\n",
    "import numpy as np\n",
    "import pandas as pd\n",
    "from pandas import *\n",
    "from PIL import Image\n",
    "from pprint import pprint\n",
    "#import pyttsx\n",
    "import shutil\n",
    "\n",
    "import arrow"
   ]
  },
  {
   "cell_type": "code",
   "execution_count": 3,
   "metadata": {
    "collapsed": true
   },
   "outputs": [],
   "source": [
    "gtsdrndir = ('/home/wcmckee/getsdrawndotcom')"
   ]
  },
  {
   "cell_type": "code",
   "execution_count": 4,
   "metadata": {
    "collapsed": true
   },
   "outputs": [],
   "source": [
    "os.chdir(gtsdrndir)"
   ]
  },
  {
   "cell_type": "code",
   "execution_count": 5,
   "metadata": {
    "collapsed": true
   },
   "outputs": [],
   "source": [
    "r = praw.Reddit(user_agent='getsdrawndotcom')"
   ]
  },
  {
   "cell_type": "code",
   "execution_count": 6,
   "metadata": {
    "collapsed": true
   },
   "outputs": [],
   "source": [
    "#getmin = r.get_redditor('itwillbemine')"
   ]
  },
  {
   "cell_type": "code",
   "execution_count": 7,
   "metadata": {
    "collapsed": true
   },
   "outputs": [],
   "source": [
    "#mincom = getmin.get_comments()"
   ]
  },
  {
   "cell_type": "code",
   "execution_count": 8,
   "metadata": {
    "collapsed": true
   },
   "outputs": [],
   "source": [
    "#engine = pyttsx.init()\n",
    "\n",
    "#engine.say('The quick brown fox jumped over the lazy dog.')\n",
    "#engine.runAndWait()"
   ]
  },
  {
   "cell_type": "code",
   "execution_count": 9,
   "metadata": {
    "collapsed": true
   },
   "outputs": [],
   "source": [
    "#shtweet = []"
   ]
  },
  {
   "cell_type": "code",
   "execution_count": 10,
   "metadata": {
    "collapsed": true
   },
   "outputs": [],
   "source": [
    "#for mi in mincom:\n",
    "#    print mi\n",
    "#    shtweet.append(mi)"
   ]
  },
  {
   "cell_type": "code",
   "execution_count": 11,
   "metadata": {
    "collapsed": true
   },
   "outputs": [],
   "source": [
    "bodycom = []\n",
    "bodyicv = dict()"
   ]
  },
  {
   "cell_type": "code",
   "execution_count": 12,
   "metadata": {
    "collapsed": true
   },
   "outputs": [],
   "source": [
    "#beginz = pyttsx.init()"
   ]
  },
  {
   "cell_type": "code",
   "execution_count": 13,
   "metadata": {
    "collapsed": true
   },
   "outputs": [],
   "source": [
    "#for shtz in shtweet:\n",
    "#    print shtz.downs\n",
    "#    print shtz.ups\n",
    "#    print shtz.body\n",
    "#    print shtz.replies\n",
    "    #beginz.say(shtz.author)\n",
    "    #beginz.say(shtz.body)\n",
    "    #beginz.runAndWait()\n",
    "    \n",
    "#    bodycom.append(shtz.body)\n",
    "    #bodyic"
   ]
  },
  {
   "cell_type": "code",
   "execution_count": 14,
   "metadata": {
    "collapsed": true
   },
   "outputs": [],
   "source": [
    "#bodycom "
   ]
  },
  {
   "cell_type": "code",
   "execution_count": 15,
   "metadata": {
    "collapsed": true
   },
   "outputs": [],
   "source": [
    "getnewr = r.get_subreddit('redditgetsdrawn')"
   ]
  },
  {
   "cell_type": "code",
   "execution_count": 16,
   "metadata": {
    "collapsed": true
   },
   "outputs": [],
   "source": [
    "rdnew = getnewr.get_new()"
   ]
  },
  {
   "cell_type": "code",
   "execution_count": 17,
   "metadata": {
    "collapsed": true
   },
   "outputs": [],
   "source": [
    "lisrgc = []\n",
    "lisauth = []"
   ]
  },
  {
   "cell_type": "code",
   "execution_count": 18,
   "metadata": {
    "collapsed": true
   },
   "outputs": [],
   "source": [
    "for uz in rdnew:\n",
    "    #print uz\n",
    "    lisrgc.append(uz)"
   ]
  },
  {
   "cell_type": "code",
   "execution_count": 19,
   "metadata": {
    "collapsed": true
   },
   "outputs": [],
   "source": [
    "gtdrndic = dict()"
   ]
  },
  {
   "cell_type": "code",
   "execution_count": 20,
   "metadata": {
    "collapsed": true
   },
   "outputs": [],
   "source": [
    "imgdir = ('/home/wcmckee/getsdrawndotcom/imgs')"
   ]
  },
  {
   "cell_type": "code",
   "execution_count": 21,
   "metadata": {
    "collapsed": true
   },
   "outputs": [],
   "source": [
    "artlist = os.listdir(imgdir)"
   ]
  },
  {
   "cell_type": "code",
   "execution_count": 22,
   "metadata": {
    "collapsed": true
   },
   "outputs": [],
   "source": [
    "from time import time"
   ]
  },
  {
   "cell_type": "code",
   "execution_count": 23,
   "metadata": {
    "collapsed": true
   },
   "outputs": [],
   "source": [
    "yearz = strftime(\"%y\", gmtime())\n",
    "monthz = strftime(\"%m\", gmtime())\n",
    "dayz = strftime(\"%d\", gmtime())\n",
    "\n",
    "\n",
    "#strftime(\"%y %m %d\", gmtime())\n",
    "\n"
   ]
  },
  {
   "cell_type": "code",
   "execution_count": 24,
   "metadata": {
    "collapsed": true
   },
   "outputs": [],
   "source": [
    "imgzdir = ('imgs/')\n",
    "yrzpat = (imgzdir + yearz)\n",
    "monzpath = (yrzpat + '/' + monthz)\n",
    "dayzpath = (monzpath + '/' + dayz)\n",
    "rmgzdays = (dayzpath + '/reference')\n",
    "imgzdays = (dayzpath + '/art')\n",
    "metzdays = (dayzpath + '/meta')\n",
    "\n",
    "repathz = ('imgs/' + yearz + '/' + monthz + '/' + dayz + '/')"
   ]
  },
  {
   "cell_type": "code",
   "execution_count": 25,
   "metadata": {
    "collapsed": false
   },
   "outputs": [
    {
     "data": {
      "text/plain": [
       "'imgs/15/02/09/meta'"
      ]
     },
     "execution_count": 25,
     "metadata": {},
     "output_type": "execute_result"
    }
   ],
   "source": [
    "metzdays"
   ]
  },
  {
   "cell_type": "code",
   "execution_count": 26,
   "metadata": {
    "collapsed": false
   },
   "outputs": [
    {
     "data": {
      "text/plain": [
       "'imgs/15/02/09/art'"
      ]
     },
     "execution_count": 26,
     "metadata": {},
     "output_type": "execute_result"
    }
   ],
   "source": [
    "imgzdays"
   ]
  },
  {
   "cell_type": "code",
   "execution_count": 27,
   "metadata": {
    "collapsed": false
   },
   "outputs": [
    {
     "data": {
      "text/plain": [
       "'imgs/15/02/09/'"
      ]
     },
     "execution_count": 27,
     "metadata": {},
     "output_type": "execute_result"
    }
   ],
   "source": [
    "repathz"
   ]
  },
  {
   "cell_type": "code",
   "execution_count": 28,
   "metadata": {
    "collapsed": true
   },
   "outputs": [],
   "source": [
    "def ospacheck():\n",
    "    if os.path.isdir(imgzdir + yearz) == True:\n",
    "        print 'its true'\n",
    "    else:\n",
    "        print 'its false'\n",
    "        os.mkdir(imgzdir + yearz)\n",
    "    "
   ]
  },
  {
   "cell_type": "code",
   "execution_count": 29,
   "metadata": {
    "collapsed": false
   },
   "outputs": [
    {
     "name": "stdout",
     "output_type": "stream",
     "text": [
      "its false\n"
     ]
    }
   ],
   "source": [
    "ospacheck()"
   ]
  },
  {
   "cell_type": "code",
   "execution_count": 30,
   "metadata": {
    "collapsed": true
   },
   "outputs": [],
   "source": [
    "#if os.path.isdir(imgzdir + yearz) == True:\n",
    "#    print 'its true'\n",
    "#else:\n",
    "#    print 'its false'\n",
    "#    os.mkdir(imgzdir + yearz)"
   ]
  },
  {
   "cell_type": "code",
   "execution_count": 31,
   "metadata": {
    "collapsed": false
   },
   "outputs": [
    {
     "name": "stdout",
     "output_type": "stream",
     "text": [
      "its false\n"
     ]
    }
   ],
   "source": [
    "if os.path.isdir(monzpath) == True:\n",
    "    print 'its true'\n",
    "else:\n",
    "    print 'its false'\n",
    "    os.mkdir(monzpath)\n",
    "\n",
    "#os.mkdir(monzpath)"
   ]
  },
  {
   "cell_type": "code",
   "execution_count": 32,
   "metadata": {
    "collapsed": false
   },
   "outputs": [
    {
     "name": "stdout",
     "output_type": "stream",
     "text": [
      "its false\n"
     ]
    }
   ],
   "source": [
    "if os.path.isdir(dayzpath) == True:\n",
    "    print 'its true'\n",
    "else:\n",
    "    print 'its false'\n",
    "    os.mkdir(dayzpath)\n",
    "\n",
    "#os.mkdir(dayzpath)"
   ]
  },
  {
   "cell_type": "code",
   "execution_count": 33,
   "metadata": {
    "collapsed": false
   },
   "outputs": [
    {
     "name": "stdout",
     "output_type": "stream",
     "text": [
      "its false\n"
     ]
    }
   ],
   "source": [
    "if os.path.isdir(imgzdays) == True:\n",
    "    print 'its true'\n",
    "else:\n",
    "    print 'its false'\n",
    "    os.mkdir(imgzdays)"
   ]
  },
  {
   "cell_type": "code",
   "execution_count": 34,
   "metadata": {
    "collapsed": false
   },
   "outputs": [
    {
     "name": "stdout",
     "output_type": "stream",
     "text": [
      "its false\n"
     ]
    }
   ],
   "source": [
    "if os.path.isdir(rmgzdays) == True:\n",
    "    print 'its true'\n",
    "else:\n",
    "    print 'its false'\n",
    "    os.mkdir(rmgzdays)"
   ]
  },
  {
   "cell_type": "code",
   "execution_count": 35,
   "metadata": {
    "collapsed": false
   },
   "outputs": [
    {
     "name": "stdout",
     "output_type": "stream",
     "text": [
      "its failse\n"
     ]
    }
   ],
   "source": [
    "if os.path.isdir(metzdays)  == True:\n",
    "    print 'its true'\n",
    "else:\n",
    "    print 'its failse'\n",
    "    os.mkdir(metzdays)"
   ]
  },
  {
   "cell_type": "code",
   "execution_count": 36,
   "metadata": {
    "collapsed": false
   },
   "outputs": [],
   "source": [
    "fullhom = ('/home/wcmckee/getsdrawndotcom/')"
   ]
  },
  {
   "cell_type": "code",
   "execution_count": 37,
   "metadata": {
    "collapsed": false
   },
   "outputs": [
    {
     "data": {
      "text/plain": [
       "[]"
      ]
     },
     "execution_count": 37,
     "metadata": {},
     "output_type": "execute_result"
    }
   ],
   "source": [
    "os.listdir(fullhom + metzdays)"
   ]
  },
  {
   "cell_type": "code",
   "execution_count": 38,
   "metadata": {
    "collapsed": true
   },
   "outputs": [],
   "source": [
    "#artlist"
   ]
  },
  {
   "cell_type": "code",
   "execution_count": 39,
   "metadata": {
    "collapsed": true
   },
   "outputs": [],
   "source": [
    "httpad = ('http://getsdrawn.com/imgs')"
   ]
  },
  {
   "cell_type": "code",
   "execution_count": 40,
   "metadata": {
    "collapsed": true
   },
   "outputs": [],
   "source": [
    "#im = Image.new(\"RGB\", (512, 512), \"white\")\n",
    "#im.save(file + \".thumbnail\", \"JPEG\")"
   ]
  },
  {
   "cell_type": "code",
   "execution_count": 41,
   "metadata": {
    "collapsed": true
   },
   "outputs": [],
   "source": [
    "rmgzdays = (dayzpath + '/reference')\n",
    "imgzdays = (dayzpath + '/art')\n",
    "metzdays = (dayzpath + '/meta')"
   ]
  },
  {
   "cell_type": "code",
   "execution_count": 42,
   "metadata": {
    "collapsed": false
   },
   "outputs": [],
   "source": [
    "os.chdir(fullhom + metzdays)"
   ]
  },
  {
   "cell_type": "code",
   "execution_count": 43,
   "metadata": {
    "collapsed": true
   },
   "outputs": [],
   "source": [
    "for lisr in lisrgc:\n",
    "    gtdrndic.update({'title': lisr.title})\n",
    "    lisauth.append(str(lisr.author))\n",
    "    for osliz in os.listdir(fullhom + metzdays):\n",
    "        with open(str(lisr.author) + '.meta', \"w\") as f:\n",
    "            rstrin = lisr.title.encode('ascii', 'ignore').decode('ascii')\n",
    "            f.write(rstrin)\n"
   ]
  },
  {
   "cell_type": "markdown",
   "metadata": {},
   "source": [
    "I have it creating a meta folder and creating/writing username.meta files. It wrote 'test' in each folder, but now it writes the photo author title of post.. the username/image data. "
   ]
  },
  {
   "cell_type": "code",
   "execution_count": 44,
   "metadata": {
    "collapsed": true
   },
   "outputs": [],
   "source": [
    "#os.listdir(dayzpath)"
   ]
  },
  {
   "cell_type": "markdown",
   "metadata": {},
   "source": [
    "Instead of creating these white images, why not download the art replies of the reference photo."
   ]
  },
  {
   "cell_type": "code",
   "execution_count": 45,
   "metadata": {
    "collapsed": true
   },
   "outputs": [],
   "source": [
    "#for lisa in lisauth:\n",
    "#    #print lisa + '-line.png'\n",
    "#    im = Image.new(\"RGB\", (512, 512), \"white\")\n",
    "#    im.save(lisa + '-line.png')\n",
    "#    im = Image.new(\"RGB\", (512, 512), \"white\")\n",
    "#    im.save(lisa + '-bw.png')\n",
    "\n",
    "    #print lisa + '-bw.png'\n",
    "#    im = Image.new(\"RGB\", (512, 512), \"white\")\n",
    "#    im.save(lisa + '-colour.png')\n",
    "\n",
    "    #print lisa + '-colour.png'"
   ]
  },
  {
   "cell_type": "code",
   "execution_count": 46,
   "metadata": {
    "collapsed": false
   },
   "outputs": [
    {
     "data": {
      "text/plain": [
       "['15']"
      ]
     },
     "execution_count": 46,
     "metadata": {},
     "output_type": "execute_result"
    }
   ],
   "source": [
    "os.listdir('/home/wcmckee/getsdrawndotcom/imgs')"
   ]
  },
  {
   "cell_type": "code",
   "execution_count": 47,
   "metadata": {
    "collapsed": true
   },
   "outputs": [],
   "source": [
    "#lisauth"
   ]
  },
  {
   "cell_type": "markdown",
   "metadata": {},
   "source": [
    "I want to save the list of usernames that submit images as png files in a dir. \n",
    "Currently when I call the list of authors it returns Redditor(user_name='theusername'). I want to return 'theusername'.\n",
    "Once this is resolved I can add '-line.png' '-bw.png' '-colour.png' to each folder. "
   ]
  },
  {
   "cell_type": "code",
   "execution_count": 48,
   "metadata": {
    "collapsed": true
   },
   "outputs": [],
   "source": [
    "#lisr.author"
   ]
  },
  {
   "cell_type": "code",
   "execution_count": 49,
   "metadata": {
    "collapsed": true
   },
   "outputs": [],
   "source": [
    "namlis = []"
   ]
  },
  {
   "cell_type": "code",
   "execution_count": 52,
   "metadata": {
    "collapsed": false
   },
   "outputs": [],
   "source": [
    "#opsinz = open('/home/wcmckee/visignsys/index.meta', 'r')\n",
    "#panz = opsinz.read()"
   ]
  },
  {
   "cell_type": "code",
   "execution_count": 53,
   "metadata": {
    "collapsed": true
   },
   "outputs": [],
   "source": [
    "os.chdir('/home/wcmckee/getsdrawndotcom/' + rmgzdays)"
   ]
  },
  {
   "cell_type": "code",
   "execution_count": 83,
   "metadata": {
    "collapsed": false
   },
   "outputs": [
    {
     "name": "stdout",
     "output_type": "stream",
     "text": [
      "http://i.imgur.com/FKPBPRb.jpg\n",
      "http://i.imgur.com/ohnGOcm.jpg\n",
      "http://i.imgur.com/J59mBW8.jpg?1\n",
      "http://i.imgur.com/XTHnseI.jpg\n",
      "http://i.imgur.com/Fw1pRL3.jpg\n",
      "http://i.imgur.com/QBoIMCZ.jpg\n",
      "http://i.imgur.com/FV6sN0H.jpg\n",
      "http://i.imgur.com/FOob1Ba.jpg\n",
      "http://i.imgur.com/UChzyK1.jpg\n",
      "http://i.imgur.com/48cSZog.jpg\n",
      "http://i.imgur.com/Fc96NII.jpg\n",
      "http://i.imgur.com/iVWyUVT.jpg\n",
      "http://i.imgur.com/TrxT5PS.jpg\n",
      "http://i.imgur.com/SAoFL50.jpg\n",
      "http://i.imgur.com/ZOQtRmq.jpg\n",
      "http://i.imgur.com/qTLlI7n.jpg\n",
      "http://i.imgur.com/fW5PuCM.jpg\n",
      "http://i.imgur.com/tTEQnA7.jpg\n"
     ]
    }
   ],
   "source": [
    "#panz()\n",
    "for rdz in lisrgc:\n",
    "    (rdz.title)\n",
    "    #a(rdz.url)\n",
    "    if 'http://i.imgur.com' in rdz.url:\n",
    "        #print rdz.url\n",
    "        print (rdz.url)\n",
    "        url = rdz.url\n",
    "        response = requests.get(url, stream=True)\n",
    "        with open(str(rdz.author) + '-reference.png', 'wb') as out_file:\n",
    "            shutil.copyfileobj(response.raw, out_file)\n",
    "            del response"
   ]
  },
  {
   "cell_type": "code",
   "execution_count": 55,
   "metadata": {
    "collapsed": true
   },
   "outputs": [],
   "source": [
    "apsize = []"
   ]
  },
  {
   "cell_type": "code",
   "execution_count": 56,
   "metadata": {
    "collapsed": true
   },
   "outputs": [],
   "source": [
    "aptype = []"
   ]
  },
  {
   "cell_type": "code",
   "execution_count": 57,
   "metadata": {
    "collapsed": true
   },
   "outputs": [],
   "source": [
    "basewidth = 600"
   ]
  },
  {
   "cell_type": "code",
   "execution_count": 58,
   "metadata": {
    "collapsed": true
   },
   "outputs": [],
   "source": [
    "imgdict = dict()"
   ]
  },
  {
   "cell_type": "code",
   "execution_count": 79,
   "metadata": {
    "collapsed": false
   },
   "outputs": [
    {
     "data": {
      "text/plain": [
       "'imgs/15/02/09/reference'"
      ]
     },
     "execution_count": 79,
     "metadata": {},
     "output_type": "execute_result"
    }
   ],
   "source": [
    "rmgzdays"
   ]
  },
  {
   "cell_type": "code",
   "execution_count": 76,
   "metadata": {
    "collapsed": false
   },
   "outputs": [],
   "source": [
    "for rmglis in os.listdir('/home/wcmckee/getsdrawndotcom/' + rmgzdays):\n",
    "    #print rmglis\n",
    "    im = Image.open(rmglis)\n",
    "    #print im.size\n",
    "    imgdict.update({rmglis : im.size})\n",
    "    #imgdict.update({rmglis : im.getcolors()})\n",
    "    #im.thumbnail(size, Image.ANTIALIAS)\n",
    "    #im.save(file + \".thumbnail\", \"JPEG\")\n",
    "    apsize.append(im.size)\n",
    "    aptype.append(rmglis)"
   ]
  },
  {
   "cell_type": "code",
   "execution_count": 77,
   "metadata": {
    "collapsed": false
   },
   "outputs": [
    {
     "data": {
      "text/plain": [
       "{'BiscuitReadit-reference.png': (1280, 960),\n",
       " 'Chiefpickle-reference.png': (960, 720),\n",
       " 'Doctorboffin-reference.png': (720, 960),\n",
       " 'Ellby-reference.png': (640, 621),\n",
       " 'ExxZero-reference.png': (960, 960),\n",
       " 'JakeTakesTheCakes-reference.png': (2048, 1536),\n",
       " 'Pandaslaper-reference.png': (960, 1280),\n",
       " 'ShiningSpirit-reference.png': (453, 604),\n",
       " 'Terreras-reference.png': (1200, 800),\n",
       " 'beeskneespat-reference.png': (1200, 900),\n",
       " 'blewfloydthebarber-reference.png': (704, 487),\n",
       " 'darkshy-reference.png': (720, 945),\n",
       " 'kerlypso-reference.png': (640, 853),\n",
       " 'kitty_lover69-reference.png': (1080, 1920),\n",
       " 'questinghuntress-reference.png': (1200, 1600),\n",
       " 'ruserious65433-reference.png': (640, 760),\n",
       " 'studio595-reference.png': (2592, 1728),\n",
       " 'tomnookswaifu-reference.png': (480, 640)}"
      ]
     },
     "execution_count": 77,
     "metadata": {},
     "output_type": "execute_result"
    }
   ],
   "source": [
    "imgdict"
   ]
  },
  {
   "cell_type": "code",
   "execution_count": 60,
   "metadata": {
    "collapsed": true
   },
   "outputs": [],
   "source": [
    "#for imdva in imgdict.values():\n",
    "    #print imdva\n",
    "    #for deva in imdva:\n",
    "        #print deva\n",
    "     #   if deva < 1000:\n",
    "      #      print 'omg less than 1000'\n",
    "       # else:\n",
    "        #    print 'omg more than 1000'\n",
    "         #   print deva / 2\n",
    "            #print imgdict.values\n",
    "            # Needs to update imgdict.values with this new number. Must halve height also."
   ]
  },
  {
   "cell_type": "code",
   "execution_count": 61,
   "metadata": {
    "collapsed": true
   },
   "outputs": [],
   "source": [
    "#basewidth = 300\n",
    "#img = Image.open('somepic.jpg')\n",
    "#wpercent = (basewidth/float(img.size[0]))\n",
    "#hsize = int((float(img.size[1])*float(wpercent)))\n",
    "#img = img.resize((basewidth,hsize), PIL.Image.ANTIALIAS)\n",
    "#img.save('sompic.jpg')"
   ]
  },
  {
   "cell_type": "code",
   "execution_count": 62,
   "metadata": {
    "collapsed": true
   },
   "outputs": [],
   "source": [
    "#os.chdir(metzdays)"
   ]
  },
  {
   "cell_type": "code",
   "execution_count": 62,
   "metadata": {
    "collapsed": false
   },
   "outputs": [],
   "source": []
  },
  {
   "cell_type": "code",
   "execution_count": 63,
   "metadata": {
    "collapsed": true
   },
   "outputs": [],
   "source": [
    "#for numz in apsize:\n",
    "#    print numz[0]\n",
    " #   if numz[0] > 800:\n",
    "#        print ('greater than 800')\n",
    "#    else:\n",
    "#        print ('less than 800!')"
   ]
  },
  {
   "cell_type": "code",
   "execution_count": 64,
   "metadata": {
    "collapsed": true
   },
   "outputs": [],
   "source": [
    "reliz = []"
   ]
  },
  {
   "cell_type": "code",
   "execution_count": 65,
   "metadata": {
    "collapsed": true
   },
   "outputs": [],
   "source": [
    "for refls in os.listdir('/home/wcmckee/getsdrawndotcom/' + rmgzdays):\n",
    "    #print rmgzdays + refls\n",
    "    reliz.append(rmgzdays + '/' + refls)"
   ]
  },
  {
   "cell_type": "code",
   "execution_count": 66,
   "metadata": {
    "collapsed": false
   },
   "outputs": [
    {
     "data": {
      "text/plain": [
       "['imgs/15/02/09/reference/ShiningSpirit-reference.png',\n",
       " 'imgs/15/02/09/reference/blewfloydthebarber-reference.png',\n",
       " 'imgs/15/02/09/reference/Doctorboffin-reference.png',\n",
       " 'imgs/15/02/09/reference/questinghuntress-reference.png',\n",
       " 'imgs/15/02/09/reference/JakeTakesTheCakes-reference.png',\n",
       " 'imgs/15/02/09/reference/Chiefpickle-reference.png',\n",
       " 'imgs/15/02/09/reference/kitty_lover69-reference.png',\n",
       " 'imgs/15/02/09/reference/BiscuitReadit-reference.png',\n",
       " 'imgs/15/02/09/reference/kerlypso-reference.png',\n",
       " 'imgs/15/02/09/reference/tomnookswaifu-reference.png',\n",
       " 'imgs/15/02/09/reference/studio595-reference.png',\n",
       " 'imgs/15/02/09/reference/beeskneespat-reference.png',\n",
       " 'imgs/15/02/09/reference/darkshy-reference.png',\n",
       " 'imgs/15/02/09/reference/Pandaslaper-reference.png',\n",
       " 'imgs/15/02/09/reference/ruserious65433-reference.png',\n",
       " 'imgs/15/02/09/reference/Ellby-reference.png',\n",
       " 'imgs/15/02/09/reference/Terreras-reference.png',\n",
       " 'imgs/15/02/09/reference/ExxZero-reference.png']"
      ]
     },
     "execution_count": 66,
     "metadata": {},
     "output_type": "execute_result"
    }
   ],
   "source": [
    "reliz"
   ]
  },
  {
   "cell_type": "code",
   "execution_count": 67,
   "metadata": {
    "collapsed": false
   },
   "outputs": [
    {
     "data": {
      "text/plain": [
       "['ShiningSpirit-reference.png',\n",
       " 'blewfloydthebarber-reference.png',\n",
       " 'Doctorboffin-reference.png',\n",
       " 'questinghuntress-reference.png',\n",
       " 'JakeTakesTheCakes-reference.png',\n",
       " 'Chiefpickle-reference.png',\n",
       " 'kitty_lover69-reference.png',\n",
       " 'BiscuitReadit-reference.png',\n",
       " 'kerlypso-reference.png',\n",
       " 'tomnookswaifu-reference.png',\n",
       " 'studio595-reference.png',\n",
       " 'beeskneespat-reference.png',\n",
       " 'darkshy-reference.png',\n",
       " 'Pandaslaper-reference.png',\n",
       " 'ruserious65433-reference.png',\n",
       " 'Ellby-reference.png',\n",
       " 'Terreras-reference.png',\n",
       " 'ExxZero-reference.png']"
      ]
     },
     "execution_count": 67,
     "metadata": {},
     "output_type": "execute_result"
    }
   ],
   "source": [
    "aptype"
   ]
  },
  {
   "cell_type": "code",
   "execution_count": 68,
   "metadata": {
    "collapsed": false
   },
   "outputs": [
    {
     "ename": "IOError",
     "evalue": "[Errno 2] No such file or directory: '/home/wcmckee/ad.html'",
     "output_type": "error",
     "traceback": [
      "\u001b[1;31m---------------------------------------------------------------------------\u001b[0m",
      "\u001b[1;31mIOError\u001b[0m                                   Traceback (most recent call last)",
      "\u001b[1;32m<ipython-input-68-09dab94fdfd0>\u001b[0m in \u001b[0;36m<module>\u001b[1;34m()\u001b[0m\n\u001b[1;32m----> 1\u001b[1;33m \u001b[0mopad\u001b[0m \u001b[1;33m=\u001b[0m \u001b[0mopen\u001b[0m\u001b[1;33m(\u001b[0m\u001b[1;34m'/home/wcmckee/ad.html'\u001b[0m\u001b[1;33m,\u001b[0m \u001b[1;34m'r'\u001b[0m\u001b[1;33m)\u001b[0m\u001b[1;33m\u001b[0m\u001b[0m\n\u001b[0m",
      "\u001b[1;31mIOError\u001b[0m: [Errno 2] No such file or directory: '/home/wcmckee/ad.html'"
     ]
    }
   ],
   "source": [
    "opad = open('/home/wcmckee/ad.html', 'r')"
   ]
  },
  {
   "cell_type": "code",
   "execution_count": null,
   "metadata": {
    "collapsed": true
   },
   "outputs": [],
   "source": [
    "opred = opad.read()"
   ]
  },
  {
   "cell_type": "code",
   "execution_count": null,
   "metadata": {
    "collapsed": true
   },
   "outputs": [],
   "source": [
    "str2 = opred.replace(\"\\n\", \"\")"
   ]
  },
  {
   "cell_type": "code",
   "execution_count": null,
   "metadata": {
    "collapsed": true
   },
   "outputs": [],
   "source": [
    "str2"
   ]
  },
  {
   "cell_type": "code",
   "execution_count": null,
   "metadata": {
    "collapsed": true
   },
   "outputs": [],
   "source": [
    "doc = dominate.document(title='GetsDrawn')\n",
    "\n",
    "with doc.head:\n",
    "    link(rel='stylesheet', href='style.css')\n",
    "    script(type ='text/javascript', src='script.js')\n",
    "    str(str2)\n",
    "    \n",
    "    with div():\n",
    "        attr(cls='header')\n",
    "        h1('GetsDrawn')\n",
    "        p(img('imgs/getsdrawn-bw.png', src='imgs/getsdrawn-bw.png'))\n",
    "        #p(img('imgs/15/01/02/ReptileLover82-reference.png', src= 'imgs/15/01/02/ReptileLover82-reference.png'))\n",
    "        h1('Updated ', strftime(\"%a, %d %b %Y %H:%M:%S +0000\", gmtime()))\n",
    "        #p(panz)\n",
    "        p(bodycom)\n",
    "    \n",
    "    \n",
    "\n",
    "with doc:\n",
    "    with div(id='body').add(ol()):\n",
    "        for rdz in reliz:\n",
    "            #h1(rdz.title)\n",
    "            #a(rdz.url)\n",
    "            #p(img(rdz, src='%s' % rdz))\n",
    "            #print rdz\n",
    "            p(img(rdz, src = rdz))\n",
    "            p(rdz)\n",
    "\n",
    "\n",
    "                \n",
    "            #print rdz.url\n",
    "            #if '.jpg' in rdz.url:\n",
    "            #    img(rdz.urlz)\n",
    "            #else:\n",
    "            #    a(rdz.urlz)\n",
    "            #h1(str(rdz.author))\n",
    "            \n",
    "            #li(img(i.lower(), src='%s' % i))\n",
    "\n",
    "    with div():\n",
    "        attr(cls='body')\n",
    "        p('GetsDrawn is open source')\n",
    "        a('https://github.com/wcmckee/wcmckee')\n",
    "        a('https://reddit.com/r/redditgetsdrawn')\n",
    "\n",
    "#print doc"
   ]
  },
  {
   "cell_type": "code",
   "execution_count": null,
   "metadata": {
    "collapsed": true
   },
   "outputs": [],
   "source": [
    "docre = doc.render()"
   ]
  },
  {
   "cell_type": "code",
   "execution_count": null,
   "metadata": {
    "collapsed": true
   },
   "outputs": [],
   "source": [
    "#s = docre.decode('ascii', 'ignore')"
   ]
  },
  {
   "cell_type": "code",
   "execution_count": null,
   "metadata": {
    "collapsed": true
   },
   "outputs": [],
   "source": [
    "yourstring = docre.encode('ascii', 'ignore').decode('ascii')"
   ]
  },
  {
   "cell_type": "code",
   "execution_count": null,
   "metadata": {
    "collapsed": true
   },
   "outputs": [],
   "source": [
    "indfil = ('/home/wcmckee/getsdrawndotcom/index.html')"
   ]
  },
  {
   "cell_type": "code",
   "execution_count": null,
   "metadata": {
    "collapsed": true
   },
   "outputs": [],
   "source": [
    "mkind = open(indfil, 'w')\n",
    "mkind.write(yourstring)\n",
    "mkind.close()"
   ]
  },
  {
   "cell_type": "code",
   "execution_count": null,
   "metadata": {
    "collapsed": true
   },
   "outputs": [],
   "source": [
    "#os.system('scp -r /home/wcmckee/getsdrawndotcom/ wcmckee@getsdrawn.com:/home/wcmckee/getsdrawndotcom')"
   ]
  },
  {
   "cell_type": "code",
   "execution_count": null,
   "metadata": {
    "collapsed": true
   },
   "outputs": [],
   "source": [
    "#rsync -azP source destination"
   ]
  },
  {
   "cell_type": "code",
   "execution_count": null,
   "metadata": {
    "collapsed": true
   },
   "outputs": [],
   "source": [
    "#updatehtm = raw_input('Update index? Y/n')\n",
    "#updateref = raw_input('Update reference? Y/n')\n",
    "\n",
    "#if 'y' or '' in updatehtm:\n",
    "#    os.system('scp -r /home/wcmckee/getsdrawndotcom/index.html wcmckee@getsdrawn.com:/home/wcmckee/getsdrawndotcom/index.html')\n",
    "#elif 'n' in updatehtm:\n",
    "#    print 'not uploading'\n",
    "#if 'y' or '' in updateref:\n",
    "#    os.system('rsync -azP /home/wcmckee/getsdrawndotcom/ wcmckee@getsdrawn.com:/home/wcmckee/getsdrawndotcom/')"
   ]
  },
  {
   "cell_type": "code",
   "execution_count": null,
   "metadata": {
    "collapsed": true
   },
   "outputs": [],
   "source": [
    "#os.system('scp -r /home/wcmckee/getsdrawndotcom/index.html wcmckee@getsdrawn.com:/home/wcmckee/getsdrawndotcom/index.html')"
   ]
  },
  {
   "cell_type": "code",
   "execution_count": null,
   "metadata": {
    "collapsed": true
   },
   "outputs": [],
   "source": [
    "#os.system('scp -r /home/wcmckee/getsdrawndotcom/style.css wcmckee@getsdrawn.com:/home/wcmckee/getsdrawndotcom/style.css')"
   ]
  },
  {
   "cell_type": "code",
   "execution_count": 88,
   "metadata": {
    "collapsed": false
   },
   "outputs": [
    {
     "data": {
      "text/plain": [
       "0"
      ]
     },
     "execution_count": 88,
     "metadata": {},
     "output_type": "execute_result"
    }
   ],
   "source": [
    "os.system(\"find /home/wcmckee/getsdrawndotcom/ -type f -name '*-reference.png'\")\n"
   ]
  },
  {
   "cell_type": "code",
   "execution_count": 97,
   "metadata": {
    "collapsed": true
   },
   "outputs": [],
   "source": [
    "lisfed = []"
   ]
  },
  {
   "cell_type": "code",
   "execution_count": 98,
   "metadata": {
    "collapsed": false
   },
   "outputs": [
    {
     "name": "stdout",
     "output_type": "stream",
     "text": [
      "('/home/wcmckee/getsdrawndotcom/', ['imgs'], ['index.html', 'sitemap.xml', 'googlebb8fa72eb382e061.html', 'style.css', 'test.txt'])\n",
      "('/home/wcmckee/getsdrawndotcom/imgs', ['12', '15', '14'], ['getsdrawn-bw.png'])\n",
      "('/home/wcmckee/getsdrawndotcom/imgs/12', [], [])\n",
      "('/home/wcmckee/getsdrawndotcom/imgs/15', ['01', '02'], [])\n",
      "('/home/wcmckee/getsdrawndotcom/imgs/15/01', ['05', '07', '10', '30', '29', '23', '13', '09', '20', '27', '24', '22', '18', '16', '03', '25', '12', '31', '21', '17', '01', '19', '15', '14', '06', '11', '28', '26', '04', '02', '08'], [])\n",
      "('/home/wcmckee/getsdrawndotcom/imgs/15/01/05', ['meta', 'art', 'reference'], [])\n",
      "('/home/wcmckee/getsdrawndotcom/imgs/15/01/05/meta', [], [])\n",
      "('/home/wcmckee/getsdrawndotcom/imgs/15/01/05/art', [], [])\n",
      "('/home/wcmckee/getsdrawndotcom/imgs/15/01/05/reference', ['imgzdays', 'metzdays', 'monzpath', 'dayzpath', 'rmgzdays'], ['ReptileLover82-reference.png', 'giddyup75-reference.png', 'arcade-water-reference.png', 'vinuash-reference.png', 'oliveoyl89-reference.png', 'iamhasana-reference.png', 'sit_wednesday-reference.png', 'theantihero88-reference.png', 'IAmANurse_BendOver-reference.png', 'CargoBlog-reference.png', 'Giupatamon-reference.png', 'SUPERBGrover-reference.png', 'Slappyy1-reference.png', 'outerspace_-reference.png', 'SqueekyMcClean-reference.png', 'butternotbutterflies-reference.png', 'blaseandrews-reference.png', 'dramaticstringtheory-reference.png', 'musnt83-reference.png', 'C4FF-reference.png', 'PixelLeaf-reference.png', 'TopTierGoat-reference.png', 'rhubarbmarmitewool-reference.png', 'timeasweknowit-reference.png', 'StuntDouble4NicCage-reference.png', 'Chokeberry-reference.png', 'miluti-reference.png', 'Maccas75-reference.png', 'phillybust3r-reference.png', 'Bean_Meen-reference.png', 'kdanger-reference.png', 'mac-cheese-reference.png', 'shadowsgrimm-reference.png', 'i-need-approval-reference.png', 'msos-reference.png', 'rowmac89-reference.png', 'superbinky-reference.png'])\n",
      "('/home/wcmckee/getsdrawndotcom/imgs/15/01/05/reference/imgzdays', [], [])\n",
      "('/home/wcmckee/getsdrawndotcom/imgs/15/01/05/reference/metzdays', [], [])\n",
      "('/home/wcmckee/getsdrawndotcom/imgs/15/01/05/reference/monzpath', [], [])\n",
      "('/home/wcmckee/getsdrawndotcom/imgs/15/01/05/reference/dayzpath', [], [])\n",
      "('/home/wcmckee/getsdrawndotcom/imgs/15/01/05/reference/rmgzdays', [], [])\n",
      "('/home/wcmckee/getsdrawndotcom/imgs/15/01/07', ['meta', 'art', 'reference'], [])\n",
      "('/home/wcmckee/getsdrawndotcom/imgs/15/01/07/meta', [], [])\n",
      "('/home/wcmckee/getsdrawndotcom/imgs/15/01/07/art', [], [])\n",
      "('/home/wcmckee/getsdrawndotcom/imgs/15/01/07/reference', [], ['nope-panda-reference.png', 'mdominique2-reference.png', 'Saccam1989-reference.png', 'drewtonkin-reference.png', 'dexteretoy-reference.png', 'moeyeska-reference.png', 'JamesPriestley-reference.png', 'euphoriaofgaul-reference.png', 'expo924-reference.png', 'himynameisneck-reference.png', 'rustyfingers-reference.png', 'ThisDudeRiteHere-reference.png', 'Ashfab-reference.png', 'Vronkuh-reference.png', 'woggymike-reference.png', 'pange6p-reference.png', 'Organicallyangel-reference.png', 'dancinginthestars-reference.png', 'artemisodin-reference.png', 'des0908-reference.png', 'SeasonofMist-reference.png', 'tatowtot-reference.png', 'Chiara5-reference.png', 'ErasedCitizen-reference.png', 'BuffHagen-reference.png', 'markthebag-reference.png', 'Skootio-reference.png', 'maisiemouse2012-reference.png', 'dangerzone133-reference.png', 'jeffisageek-reference.png'])\n",
      "('/home/wcmckee/getsdrawndotcom/imgs/15/01/10', ['meta', 'art', 'reference'], [])\n",
      "('/home/wcmckee/getsdrawndotcom/imgs/15/01/10/meta', [], [])\n",
      "('/home/wcmckee/getsdrawndotcom/imgs/15/01/10/art', [], [])\n",
      "('/home/wcmckee/getsdrawndotcom/imgs/15/01/10/reference', [], ['giddyup75-reference.png', 'rrryan3-reference.png', 'Ian28-reference.png', 'jgarcia630-reference.png', 'Aztec_Reaper-reference.png', 'Lexfarn-reference.png', 'anklefat-reference.png', 'Scl41horses-reference.png', 'alien_survivor-reference.png', 'aluap28-reference.png', 'PsiSangBoom-reference.png', 'SenanOM-reference.png', '404_Ninja_not_found-reference.png', 'coldjordan33-reference.png', 'TACaduceus-reference.png', 'habaroa-reference.png', 'utopic2-reference.png', 'Angry__Jonny-reference.png', 'Gooseygumdrops-reference.png', 'tittilizing-reference.png', 'bippal-reference.png', 'Shugumi-reference.png', 'GlassOrange-reference.png', 'datSpartan-reference.png', 'YObanana_boy-reference.png', 'aarong914-reference.png', 'undermoonandstar-reference.png', 'PM_ME_CUTE_CATS-reference.png', 'too_much_buttons-reference.png', 'stomp156-reference.png', 'keith_stone_smooth-reference.png', 'kerlypso-reference.png', 'DreamClubMurder-reference.png', 'brovbro-reference.png', 'NoraVonReddit-reference.png', 'Dudes_117-reference.png', 'alwaysreigning-reference.png', 'Thomasreefer-reference.png', 'JamesEhh-reference.png', 'MEETTHEMAN-reference.png', 'MichaelWintaker-reference.png', 'logawnio-reference.png', 'hansmane-reference.png', 'LastMinuteName-reference.png', 'Phenomena_Veronica-reference.png', 'HotDog804-reference.png', 'merenven-reference.png', 'Beatlsam1973-reference.png', 'BatzCountry-reference.png', 'DontQuoteThisComedy-reference.png', 'kbleu-reference.png', 'PhilTheGayDinosaur-reference.png', 'edgar_sbj-reference.png', 'alizardbreath-reference.png', 'SocietyG-reference.png', 'Throwawaytomorrow123-reference.png', 'alohajess-reference.png', 'mkei187-reference.png', 'harisshahzad98-reference.png', 'asliceofkiwi-reference.png', 'TheGutlessOne-reference.png', 'littlemunchkin5-reference.png'])\n",
      "('/home/wcmckee/getsdrawndotcom/imgs/15/01/30', ['meta', 'art', 'reference'], [])\n",
      "('/home/wcmckee/getsdrawndotcom/imgs/15/01/30/meta', [], [])\n",
      "('/home/wcmckee/getsdrawndotcom/imgs/15/01/30/art', [], [])\n",
      "('/home/wcmckee/getsdrawndotcom/imgs/15/01/30/reference', [], [])\n",
      "('/home/wcmckee/getsdrawndotcom/imgs/15/01/29', ['meta', 'art', 'reference'], [])\n",
      "('/home/wcmckee/getsdrawndotcom/imgs/15/01/29/meta', [], [])\n",
      "('/home/wcmckee/getsdrawndotcom/imgs/15/01/29/art', [], [])\n",
      "('/home/wcmckee/getsdrawndotcom/imgs/15/01/29/reference', [], [])\n",
      "('/home/wcmckee/getsdrawndotcom/imgs/15/01/23', ['meta', 'art', 'reference'], [])\n",
      "('/home/wcmckee/getsdrawndotcom/imgs/15/01/23/meta', [], [])\n",
      "('/home/wcmckee/getsdrawndotcom/imgs/15/01/23/art', [], [])\n",
      "('/home/wcmckee/getsdrawndotcom/imgs/15/01/23/reference', [], ['QuestionSleep-reference.png', 'Paigeisacult-reference.png', 'steadly-reference.png', 'Saccam1989-reference.png', 'ahazel2-reference.png', 'mcgroo-reference.png', 'MisterVega-reference.png', 'thebusydad-reference.png', 'silam39-reference.png', 'captainsquarters40-reference.png', 'HammersSickles-reference.png', 'SGNick-reference.png', 'fr0tch-reference.png', 'The_Taco_Face-reference.png', 'rvmour-reference.png', 'TinyBoobsFlatAss-reference.png', 'SpaceShuttleGunner-reference.png', 'GRRATU-reference.png', 'caitlinriley-reference.png', 'InfiniteThird-reference.png', 'fauxoperation-reference.png', 'KieraJo-reference.png', 'Henge-reference.png', 'dermerserers-reference.png', 'riqueterremoto-reference.png', 'jdlyons81-reference.png', 'mmmmpork-reference.png', '49494949-reference.png', 'Pure_Fucking_Death-reference.png', 'novalidexcuse-reference.png', 'Merrique84-reference.png', 'Mycomania-reference.png', 'Dingadingadi-reference.png', 'laughingLady-reference.png', 'lucaslslopes-reference.png', 'Bowen_Arrow-reference.png', 'BayInferna22-reference.png', 'quadrateful-reference.png', 'LichABoss-reference.png', 'StAnonymous-reference.png', 'Alphacuremomma-reference.png', 'dangiee-reference.png', 'veggiebutt-reference.png', 'Jifman-reference.png', 'JacobDeZoet-reference.png', 'UglyBarnacle7-reference.png', 'crazyknights-reference.png', 'fairest_of_all-reference.png', 'therantingsvede-reference.png', 'ProduktHC-reference.png'])\n",
      "('/home/wcmckee/getsdrawndotcom/imgs/15/01/13', ['meta', 'art', 'reference'], [])\n",
      "('/home/wcmckee/getsdrawndotcom/imgs/15/01/13/meta', [], [])\n",
      "('/home/wcmckee/getsdrawndotcom/imgs/15/01/13/art', [], [])\n",
      "('/home/wcmckee/getsdrawndotcom/imgs/15/01/13/reference', [], ['Eyehaveapr0blem-reference.png', 'Saccam1989-reference.png', 'ITGeekDad-reference.png', 'Turnerrr-reference.png', 'drklink-reference.png', 'Ali_mander-reference.png', 'WellBangOkay-reference.png', 'applesjgtl-reference.png', 'BadJimFred-reference.png', 'Papadubi-reference.png', 'drawitplease-reference.png', 'coltonapo-reference.png', 'guarr96-reference.png', 'BigTenFour-reference.png', 'dreadpiraterose-reference.png', 'lulutaboo-reference.png', 'PreacherIHMC-reference.png', 'beeskneespat-reference.png', 'DaywalkerManifesto-reference.png', 'YoSoyRawr-reference.png', 'alwaysreigning-reference.png', 'SofaKingSwayze-reference.png', '20WaysToEatASandwich-reference.png', 'sarahsway-reference.png', 'Thomasreefer-reference.png', 'smy3rs-reference.png', 'photohoodoo-reference.png', 'davinkane-reference.png', 'lydg91-reference.png', 'ChrisWithWings-reference.png', 'mozzie71-reference.png', 'pops4001-reference.png', 'EamesGurl94-reference.png', 'Shell14214-reference.png', 'TimeofTime-reference.png', 'MoonShard-reference.png', 'veritasi-reference.png', 'AlphaNapster-reference.png', 'mkei187-reference.png', 'TheGutlessOne-reference.png', 'Laytonmobile-reference.png', 'SchadenfreudeForTea-reference.png', 'MandiiWith2eyes-reference.png'])\n",
      "('/home/wcmckee/getsdrawndotcom/imgs/15/01/09', ['meta', 'art', 'reference'], [])\n",
      "('/home/wcmckee/getsdrawndotcom/imgs/15/01/09/meta', [], [])\n",
      "('/home/wcmckee/getsdrawndotcom/imgs/15/01/09/art', [], [])\n",
      "('/home/wcmckee/getsdrawndotcom/imgs/15/01/09/reference', [], ['giddyup75-reference.png', 'commander_seamonkey-reference.png', 'kramer0419-reference.png', 'oliveoyl89-reference.png', 'RandomActsOfParanoia-reference.png', 'coldjordan33-reference.png', 'Angry__Jonny-reference.png', 'Jamiesaurus-reference.png', 'WildSexandCigarettes-reference.png', 'datSpartan-reference.png', 'YObanana_boy-reference.png', 'aarong914-reference.png', 'PM_ME_CUTE_CATS-reference.png', 'ADogNamedPal-reference.png', 'IM_A_DIRTY_PELICAN-reference.png', 'bujitron18-reference.png', 'Benn_The_Human-reference.png', 'xzenocrimzie-reference.png', 'fiveforchaos-reference.png', 'kbleu-reference.png', 'Oscar1243-reference.png', 'Throwawaytomorrow123-reference.png', 'mkei187-reference.png', 'itzaustindawg-reference.png', 'Heretogetdownvotes-reference.png'])\n",
      "('/home/wcmckee/getsdrawndotcom/imgs/15/01/20', ['meta', 'art', 'reference'], [])\n",
      "('/home/wcmckee/getsdrawndotcom/imgs/15/01/20/meta', [], [])\n",
      "('/home/wcmckee/getsdrawndotcom/imgs/15/01/20/art', [], [])\n",
      "('/home/wcmckee/getsdrawndotcom/imgs/15/01/20/reference', [], ['fragmentaire-reference.png', 'thenekoling-reference.png', 'skivariv-reference.png', 'abpryer-reference.png', 'angelenabee-reference.png', 'AnnieOrangetree-reference.png', 'mynameisRachel-reference.png', 'Tannahg-reference.png', 'JoeBFront-reference.png', 'ibelieveinbatman-reference.png', 'shhhh_spoilers-reference.png', 'ColloquialLife-reference.png', 'Slynn0788-reference.png', 'redreplicant-reference.png', 'nakedandfun-reference.png', 'lion1991-reference.png', 'nickbeiler-reference.png', 'sjsharkgirl-reference.png', 'LJWDad-reference.png', 'xxdaniixx14-reference.png', 'honeybri-reference.png', 'Maryjane8185-reference.png', 'summertime235-reference.png', 'tacos114-reference.png', 'Cooldude100ca-reference.png', 'SinemTeksin-reference.png', 'Mudneck1-reference.png', 'Trustnobody_-reference.png', 'ytbizzle-reference.png', 'MONSTERheart-reference.png', 'Yamomsb-reference.png', 'bedem5425-reference.png', 'Texas1836-reference.png', 'la_duque-reference.png', 'wtf_wendurs-reference.png', 'deeboraw-reference.png', 'iamnotyours-reference.png'])\n",
      "('/home/wcmckee/getsdrawndotcom/imgs/15/01/27', ['meta', 'art', 'reference'], [])\n",
      "('/home/wcmckee/getsdrawndotcom/imgs/15/01/27/meta', [], [])\n",
      "('/home/wcmckee/getsdrawndotcom/imgs/15/01/27/art', [], [])\n",
      "('/home/wcmckee/getsdrawndotcom/imgs/15/01/27/reference', [], ['chiquitamichi-reference.png', 'Kung_Fu_Cowboy-reference.png', 'MortalMikey83-reference.png', 'amiller1786-reference.png', 'Danwinger-reference.png', 'callmemarcopolo-reference.png', 'ChipIsTheName-reference.png', 'OrangeYouSilly-reference.png', 'glaivethruster-reference.png', 'PhillyComedy-reference.png', 'lotusflower16-reference.png', 'PoorMansDucati-reference.png', 'the_time_keeper-reference.png', 'lrr006-reference.png', 'GobMicheal-reference.png', 'SteamBoatWilly21-reference.png', 'boobafett13-reference.png', 'unicornslovebacon-reference.png', 'Slynn0788-reference.png', 'Sinforsale-reference.png', 'KieraJo-reference.png', 'iloveariiii-reference.png', 'gumbywonton-reference.png', 'internetmaniac-reference.png', 'grannywatcher-reference.png', 'jdlyons81-reference.png', 'jersey0525-reference.png', 'sjsharkgirl-reference.png', 'jcastelletti-reference.png', 'KamehameGage-reference.png', 'cannick-reference.png', 'm15f17-reference.png', 'uncamad-reference.png', 'Gioezc-reference.png', 'llama1892-reference.png', 'DocHobbes_-reference.png', 'coleifer-reference.png', 'assliquid-reference.png', 'SIMIAN_KING-reference.png', 'WhatMichelleDoes-reference.png', 'Midgetgemmie-reference.png', 'BongDamage-reference.png', 'DoomKey-reference.png', 'rogueonomist-reference.png', 'MookHustle-reference.png', 'kinetogen-reference.png', 'markthebag-reference.png', 'pandalf_the_grey-reference.png', 'MrsWilliams-reference.png', 'OtotheHtotheItotheO-reference.png', 'SicHellraiser-reference.png', 'JaseKian-reference.png', 'SgtYarrmzer-reference.png', 'gravytrain312-reference.png', 'MrGarrison1776-reference.png', 'yeah4it_nw-reference.png', 'Shweasel-reference.png', 'SirFadakar-reference.png'])\n",
      "('/home/wcmckee/getsdrawndotcom/imgs/15/01/24', ['meta', 'art', 'reference'], [])\n",
      "('/home/wcmckee/getsdrawndotcom/imgs/15/01/24/meta', [], [])\n",
      "('/home/wcmckee/getsdrawndotcom/imgs/15/01/24/art', [], [])\n",
      "('/home/wcmckee/getsdrawndotcom/imgs/15/01/24/reference', [], ['amnuous-reference.png', 'danceswithhishands-reference.png', 'Lakz-reference.png', 'Zombifiedmarley-reference.png', 'revelryy-reference.png', 'mcgroo-reference.png', 'startages-reference.png', 'vicbond004-reference.png', 'emmgee89-reference.png', 'Elytas-reference.png', 'Fameiscomin-reference.png', 'Cptn_Hook-reference.png', 'duckduckduckmoose-reference.png', 'rickLteresa-reference.png', 'fr0tch-reference.png', 'questinghuntress-reference.png', 'Dabreezy-reference.png', 'GRRATU-reference.png', 'MightSeeHell-reference.png', 'InfiniteThird-reference.png', 'dermerserers-reference.png', 'I_am_Benjamin-reference.png', 'mu-from-deneb-reference.png', 'ahm107-reference.png', 'mmmmpork-reference.png', 'lemonthunder-reference.png', 'Damion77-reference.png', 'LotsOfFromage-reference.png', 'AnalStorage-reference.png', 'kerlypso-reference.png', 'laughingLady-reference.png', 'ImJusky-reference.png', 'P_Freckles-reference.png', 'mfranshutt-reference.png', 'riotmaker719-reference.png', 'antwonbuffeout-reference.png', 'PerkyMaggot-reference.png', 'GrandmasterSexay-reference.png', 'quadrateful-reference.png', 'Seblol-reference.png', 'rugmuncher-reference.png', 'SoulEntropy-reference.png', 'Zapp1212-reference.png', 'Sarahbelle89-reference.png', 'Jibby_von_HaHa-reference.png', 'veggiebutt-reference.png', 'oddfuture445-reference.png', 'Shell14214-reference.png', 'tekashr-reference.png', 'titsucklergirl-reference.png', 'NerdEnvy-reference.png', 'reddits_sweetheart-reference.png', 'beautifulcreature86-reference.png', 'kkasket-reference.png', 'mluu921-reference.png', 'vurtkonnegut--reference.png'])\n",
      "('/home/wcmckee/getsdrawndotcom/imgs/15/01/22', ['meta', 'art', 'reference'], [])\n",
      "('/home/wcmckee/getsdrawndotcom/imgs/15/01/22/meta', [], [])\n",
      "('/home/wcmckee/getsdrawndotcom/imgs/15/01/22/art', [], [])\n",
      "('/home/wcmckee/getsdrawndotcom/imgs/15/01/22/reference', [], ['amnuous-reference.png', 'TTG_Zebra_Donkey-reference.png', 'bearsel-reference.png', 'ahazel2-reference.png', 'Iguesssohuh-reference.png', 'wtxrobbi-reference.png', 'baxoooo-reference.png', 'karmicviolence-reference.png', 'drklink-reference.png', 'lotusflower16-reference.png', 'SGNick-reference.png', 'BettyMcrae-reference.png', 'showyouagoodtime-reference.png', 'TinyBoobsFlatAss-reference.png', 'imtrebecca-reference.png', 'PedroDelCaso-reference.png', 'hairinthewind-reference.png', 'fauxoperation-reference.png', 'KieraJo-reference.png', 'jdlyons81-reference.png', 'Jokershores-reference.png', 'HuggingTheJellyfish-reference.png', 'bewwzerton-reference.png', 'Pure_Fucking_Death-reference.png', 'NimNimPark-reference.png', 'justbrowsing90-reference.png', 'jdofasgard-reference.png', 'Brendanial-reference.png', 'ducky-box-reference.png', 'jamielens-reference.png', 'SIMIAN_KING-reference.png', 'delpaint-reference.png', 'Kiss_The_Skyy-reference.png', 'BayInferna22-reference.png', 'acrantrad-reference.png', 'IAreBlunt-reference.png', 'anneps-reference.png', 'babycakesyoujustdont-reference.png', 'LichABoss-reference.png', 'greg1998-reference.png', 'dangiee-reference.png', 'ice997-reference.png', 'Legion1x-reference.png', 'blaiserr-reference.png', 'Aeowon-reference.png', 'Tikkikun-reference.png', 'HobbsinItUp-reference.png', 'igetb0red-reference.png', 'lollipoplickers-reference.png', 'JacobDeZoet-reference.png', '83_til_infinity-reference.png', 'mickisagirlsname-reference.png', 'fairest_of_all-reference.png', 'ProduktHC-reference.png', 'RileyByrdie-reference.png', 'Rubene3-reference.png'])\n",
      "('/home/wcmckee/getsdrawndotcom/imgs/15/01/18', ['meta', 'art', 'reference'], [])\n",
      "('/home/wcmckee/getsdrawndotcom/imgs/15/01/18/meta', [], [])\n",
      "('/home/wcmckee/getsdrawndotcom/imgs/15/01/18/art', [], [])\n",
      "('/home/wcmckee/getsdrawndotcom/imgs/15/01/18/reference', [], ['SnugglyOctopus-reference.png', 'drivebytooting-reference.png', 'linedezign009-reference.png', 'patorjk---reference.png', 'LindaMargret-reference.png', 'Fuzzy_Pickles-reference.png', 'Fisherdude71-reference.png', 'awkwardtuna-reference.png', 'TabithaRose711-reference.png', 'socialdchic-reference.png', 'Amyradu16-reference.png', 'rickLteresa-reference.png', 'BananaStand07-reference.png', 'Leetard525-reference.png', 'InTheMidstOfWinter-reference.png', 'morla74-reference.png', 'walkingnat-reference.png', 'RenoIReddit-reference.png', 'deadendy-reference.png', 'merryprankster2990-reference.png', 'BigDave93-reference.png', 'ValleyOfTheWind-reference.png', 'MissApocalypse-reference.png', 'Gothgirl23-reference.png', 'Kerodohi-reference.png', 'isaiahjc-reference.png', 'flugel_horny-reference.png', 'ska_dooosh-reference.png', 'alwaysreigning-reference.png', 'Terrapin2112-reference.png', 'ontario86-reference.png', 'Matty_Ricio-reference.png', 'schadenfreudemaster-reference.png', 'babob94-reference.png', 'mookiexmac-reference.png', 'mutatedllama-reference.png', 'ariezm97-reference.png', 'chemicalexa-reference.png', 'mozzarellabacon-reference.png', 'boechan-reference.png', 'feyn-reference.png', 'davenel94-reference.png', 'kelushka-reference.png', 'ughzubat-reference.png', 'Wintaru-reference.png', 'RileyByrdie-reference.png', 'TheGutlessOne-reference.png'])\n",
      "('/home/wcmckee/getsdrawndotcom/imgs/15/01/16', ['meta', 'art', 'reference'], [])\n",
      "('/home/wcmckee/getsdrawndotcom/imgs/15/01/16/meta', [], [])\n",
      "('/home/wcmckee/getsdrawndotcom/imgs/15/01/16/art', [], [])\n",
      "('/home/wcmckee/getsdrawndotcom/imgs/15/01/16/reference', [], ['TheFox51-reference.png', 'LivingUnderATree-reference.png', 'coldghosts-reference.png', 'saguitto-reference.png', 'AnnieOrangetree-reference.png', 'stephy151-reference.png', 'PartyRocker1013-reference.png', 'vicbond004-reference.png', 'down_R_up_L_Y_B-reference.png', 'SithLordMilk-reference.png', 'batmanAPPROVED-reference.png', 'bossman74-reference.png', 'cheerycherry2501-reference.png', 'Gwell9205-reference.png', 'DivinelyMinely-reference.png', 'duckduckduckmoose-reference.png', 'Bxnyc718-reference.png', 'reefermatt-reference.png', 'PanSapien-reference.png', 'moosobay-reference.png', 'hairinthewind-reference.png', 'famousfamily7448-reference.png', 'whiskeysquid-reference.png', 'michaellapena-reference.png', 'darkplane13-reference.png', 'LotsOfFromage-reference.png', 'JuniorHockeyGoal-reference.png', 'BroShow-reference.png', 'Mikurinx-reference.png', 'Gioezc-reference.png', 'Orlando_Jones-reference.png', 'inthe_dark-reference.png', 'thadtheking-reference.png', 'dylan15766-reference.png', 'GalaxianPirate-reference.png', 'iamfriedsushi-reference.png', 'anneps-reference.png', 'MerpyP-reference.png', 'wetmoose-reference.png', 'alexandrass-reference.png', 'squalks75-reference.png', 'Hannah_paigeee-reference.png', 'maxxwolf-reference.png', 'e_bone_capone-reference.png', 'trtwn-reference.png', 'nipolas-reference.png', 'JustGimmeSomeTruth-reference.png', 'mharris0057-reference.png', 'fairest_of_all-reference.png', 'ApophisXP-reference.png'])\n",
      "('/home/wcmckee/getsdrawndotcom/imgs/15/01/03', ['meta', 'art', 'reference'], [])\n",
      "('/home/wcmckee/getsdrawndotcom/imgs/15/01/03/meta', [], ['hauntedhedgehog.meta', 'MayonParaiso.meta', 'MrSexyGoodTime.meta', 'Bayou_Mama.meta', 'hellobos.meta', 'ChanelValentine.meta', 'Organicallyangel.meta', 'joannahconda.meta', 'Glu-e.meta', 'Bananafoofoofwee.meta', 'Trustnobody_.meta', 'metal_lover1012.meta', '400hurdles4life.meta', 'JesseEichler.meta', 'Lizardking3.meta', 'alien_skillz.meta', 'royalrights.meta', 'Queiempe.meta', 'Consta135.meta', 'TheComrade.meta', 'SeriousDOOMBunny.meta', 'DatBull.meta', 'rickmeetsreddit.meta', 'mcgroo.meta', '_loadingconfidence.meta'])\n",
      "('/home/wcmckee/getsdrawndotcom/imgs/15/01/03/art', [], ['ipupiaraa-colour.png', 'RandomActPG-bw.png', 'littlemunchkin5-bw.png', 'MayonParaiso-colour.png', 'Consta135-bw.png', 'Bayou_Mama-colour.png', 'necio94-line.png', 'nicolelajones-colour.png', 'do11411-bw.png', 'FACOFACOFACO-line.png', 'Yranium-line.png', 'Littlefox7-line.png', 'krista392-bw.png', 'umbridgeisacunt-bw.png', 'khaldoonyem09-bw.png', 'sn0dig-colour.png', 'itzaustindawg-colour.png', 'blake2251-line.png', 'tensawriverjase-colour.png', 'mhaines8-colour.png', 'Queiempe-line.png', 'rickmeetsreddit-bw.png', 'Regalbass57-bw.png', 'TheComrade-colour.png', 'Lizardking3-bw.png', 'Lizardking3-line.png', 'smashingley-colour.png', 'TheComrade-bw.png', 'MrSexyGoodTime-line.png', '_loadingconfidence-colour.png', '5411416699-line.png', 'GrandmasRightNipple-colour.png', 'alien_skillz-line.png', 'dphilosaurus-line.png', 'weatherzz-bw.png', 'hellobos-bw.png', 'WhatMichelleDoes-line.png', 'blake2251-bw.png', 'WhatMichelleDoes-colour.png', 'Trustnobody_-bw.png', 'denihilistic-colour.png', 'mcgroo-line.png', 'SeriousDOOMBunny-line.png', 'crispy93-line.png', 'allergictoapples-colour.png', 'littlemunchkin5-line.png', 'I_cant_draw_-line.png', 'zenvlsco-bw.png', 'allergictoapples-bw.png', 'umbridgeisacunt-line.png', 'Organicallyangel-bw.png', 'joannahconda-colour.png', 'weatherzz-colour.png', 'Glu-e-colour.png', 'rustytoeknuckle-colour.png', 'joannahconda-bw.png', '5411416699-colour.png', 'Queiempe-bw.png', 'contentandfullyaware-bw.png', 'MrSexyGoodTime-bw.png', 'Littlefox7-bw.png', 'allergictoapples-line.png', 'cococrispy-colour.png', 'SeriousDOOMBunny-bw.png', 'jdofasgard-line.png', 'Broniba-bw.png', 'hellobos-colour.png', 'Omega562-line.png', 'babazuf-bw.png', 'melonball6-line.png', 'MossmanIII-line.png', 'itzaustindawg-line.png', 'Bananafoofoofwee-bw.png', 'rustytoeknuckle-bw.png', 'khaldoonyem09-colour.png', 'littlemunchkin5-colour.png', 'Fodgy_Div-colour.png', 'crispy93-bw.png', 'metal_lover1012-line.png', 'Fodgy_Div-line.png', 'nicolelajones-line.png', '400hurdles4life-colour.png', 'umbridgeisacunt-colour.png', 'MossmanIII-bw.png', 'Jtangel27-bw.png', 'GrizzlyVision-line.png', 'RandomActPG-line.png', 'do11411-colour.png', 'RandomActPG-colour.png', 'Jsphrtsng-bw.png', 'babazuf-line.png', 'smashingley-bw.png', 'GrandmasRightNipple-line.png', 'dphilosaurus-bw.png', 'Consta135-line.png', 'Jtangel27-colour.png', 'Secelini-bw.png', 'aus10_t8um-bw.png', 'I_cant_draw_-colour.png', 'engineeringdad-bw.png', 'Jsphrtsng-colour.png', 'spankdiazz-bw.png', 'rickmeetsreddit-colour.png', 'Glu-e-bw.png', 'spankdiazz-colour.png', 'krista392-colour.png', 'SeriousDOOMBunny-colour.png', 'Yranium-colour.png', 'royalrights-bw.png', 'DatBull-line.png', 'GrizzlyVision-bw.png', 'mhaines8-bw.png', 'sweetcheeks1607-bw.png', 'contentandfullyaware-line.png', 'Secelini-colour.png', 'Yranium-bw.png', 'Bayou_Mama-bw.png', 'spankdiazz-line.png', 'MayonParaiso-bw.png', 'hauntedhedgehog-line.png', 'Omega562-bw.png', 'aus10_t8um-colour.png', 'Queiempe-colour.png', 'nommnomm4321-colour.png', 'alien_skillz-bw.png', 'sn0dig-line.png', 'khaldoonyem09-line.png', 'Iamgoofy-colour.png', 'tensawriverjase-bw.png', 'Cefremester-bw.png', 'tensawriverjase-line.png', 'nicolelajones-bw.png', '400hurdles4life-bw.png', 'ChanelValentine-bw.png', 'RicardoSJorge-colour.png', 'Organicallyangel-line.png', 'SprayManLoveOnMe-line.png', 'hellobos-line.png', 'Trustnobody_-colour.png', 'jdofasgard-colour.png', 'hauntedhedgehog-bw.png', 'alien_skillz-colour.png', 'liaannalynne-bw.png', 'Pauldierksheide-line.png', 'ChanelValentine-colour.png', 'lnikole-bw.png', 'Pauldierksheide-colour.png', '_loadingconfidence-bw.png', 'Jtangel27-line.png', 'GrizzlyVision-colour.png', 'mcgroo-colour.png', 'rickmeetsreddit-line.png', 'MrSexyGoodTime-colour.png', 'Bananafoofoofwee-line.png', 'mhaines8-line.png', 'Bananafoofoofwee-colour.png', 'apostu-colour.png', 'Organicallyangel-colour.png', 'do11411-line.png', 'lnikole-colour.png', 'Regalbass57-line.png', 'liaannalynne-colour.png', 'amazonv-line.png', 'MossmanIII-colour.png', 'amazonv-colour.png', 'crispy93-colour.png', '400hurdles4life-line.png', 'sweetcheeks1607-line.png', 'denihilistic-bw.png', 'metal_lover1012-colour.png', 'necio94-bw.png', 'RicardoSJorge-bw.png', 'Littlefox7-colour.png', 'royalrights-colour.png', 'Lizardking3-colour.png', 'Trustnobody_-line.png', 'Glu-e-line.png', 'tmfpjones-line.png', 'JesseEichler-bw.png', 'JesseEichler-line.png', 'Omega562-colour.png', 'weatherzz-line.png', 'necio94-colour.png', 'ipupiaraa-bw.png', 'SprayManLoveOnMe-bw.png', 'Pauldierksheide-bw.png', 'Jsphrtsng-line.png', 'contentandfullyaware-colour.png', 'lnikole-line.png', 'Cefremester-colour.png', '5411416699-bw.png', 'melonball6-bw.png', 'FACOFACOFACO-colour.png', 'royalrights-line.png', 'Secelini-line.png', 'Broniba-line.png', 'ipupiaraa-line.png', 'jdofasgard-bw.png', 'nommnomm4321-bw.png', 'TheComrade-line.png', 'Broniba-colour.png', 'tmfpjones-colour.png', 'Fodgy_Div-bw.png', 'cococrispy-line.png', 'DatBull-colour.png', 'melonball6-colour.png', 'hauntedhedgehog-colour.png', 'JesseEichler-colour.png', 'apostu-bw.png', 'Iamgoofy-line.png', 'Iamgoofy-bw.png', 'sn0dig-bw.png', 'aus10_t8um-line.png', 'sweetcheeks1607-colour.png', 'tmfpjones-bw.png', '_loadingconfidence-line.png', 'apostu-line.png', 'mcgroo-bw.png', 'rustytoeknuckle-line.png', 'I_cant_draw_-bw.png', 'Shepp20-bw.png', 'dphilosaurus-colour.png', 'zenvlsco-line.png', 'babazuf-colour.png', 'itzaustindawg-bw.png', 'joannahconda-line.png', 'liaannalynne-line.png', 'denihilistic-line.png', 'GrandmasRightNipple-bw.png', 'WhatMichelleDoes-bw.png', 'krista392-line.png', 'ChanelValentine-line.png', 'Cefremester-line.png', 'FACOFACOFACO-bw.png', 'Bayou_Mama-line.png', 'smashingley-line.png', 'DatBull-bw.png', 'Shepp20-line.png', 'zenvlsco-colour.png', 'Regalbass57-colour.png', 'SprayManLoveOnMe-colour.png', 'engineeringdad-colour.png', 'nommnomm4321-line.png', 'Shepp20-colour.png', 'blake2251-colour.png', 'RicardoSJorge-line.png', 'MayonParaiso-line.png', 'amazonv-bw.png', 'metal_lover1012-bw.png', 'Consta135-colour.png', 'cococrispy-bw.png', 'engineeringdad-line.png'])\n",
      "('/home/wcmckee/getsdrawndotcom/imgs/15/01/03/reference', [], ['crispy93-reference.png', 'hauntedhedgehog-reference.png', 'Shepp20-reference.png', 'Cefremester-reference.png', 'Jtangel27-reference.png', 'Omega562-reference.png', 'mcgroo-reference.png', '5411416699-reference.png', 'metal_lover1012-reference.png', 'MrSexyGoodTime-reference.png', 'DatBull-reference.png', 'allergictoapples-reference.png', 'Yranium-reference.png', 'denihilistic-reference.png', 'engineeringdad-reference.png', 'I_cant_draw_-reference.png', 'smashingley-reference.png', 'RandomActPG-reference.png', 'Secelini-reference.png', 'contentandfullyaware-reference.png', 'tensawriverjase-reference.png', 'Organicallyangel-reference.png', 'amazonv-reference.png', 'aus10_t8um-reference.png', 'ipupiaraa-reference.png', 'GrizzlyVision-reference.png', 'Bananafoofoofwee-reference.png', 'jdofasgard-reference.png', 'mhaines8-reference.png', 'tmfpjones-reference.png', 'apostu-reference.png', 'SeriousDOOMBunny-reference.png', 'WhatMichelleDoes-reference.png', 'Glu-e-reference.png', 'Trustnobody_-reference.png', 'MossmanIII-reference.png', 'joannahconda-reference.png', 'Lizardking3-reference.png', 'TheComrade-reference.png', 'hellobos-reference.png', 'RicardoSJorge-reference.png', 'sn0dig-reference.png', 'rickmeetsreddit-reference.png', 'JesseEichler-reference.png', 'Iamgoofy-reference.png', 'lnikole-reference.png', 'dphilosaurus-reference.png', 'littlemunchkin5-reference.png'])\n",
      "('/home/wcmckee/getsdrawndotcom/imgs/15/01/25', ['meta', 'art', 'reference'], [])\n",
      "('/home/wcmckee/getsdrawndotcom/imgs/15/01/25/meta', [], [])\n",
      "('/home/wcmckee/getsdrawndotcom/imgs/15/01/25/art', [], [])\n",
      "('/home/wcmckee/getsdrawndotcom/imgs/15/01/25/reference', [], ['Lakz-reference.png', 'Cosmeoes-reference.png', 'PresidentMarston-reference.png', 'Zombifiedmarley-reference.png', 'revelryy-reference.png', 'LindaMargret-reference.png', 'vicbond004-reference.png', 'emmgee89-reference.png', 'Antije-reference.png', 'rubixscube12-reference.png', 'yelrahs-reference.png', 'elcielo17-reference.png', 'ForMyNiceThings-reference.png', 'RedYellow415-reference.png', 'Batman_Backflip-reference.png', 'Billy_Chaos-reference.png', 'Apperature-reference.png', 'MrYurMomm-reference.png', 'I_am_Benjamin-reference.png', 'TheLastTimeLord9320-reference.png', 'oicwydt27-reference.png', 'mu-from-deneb-reference.png', 'Damion77-reference.png', 'MrsPoots-reference.png', 'AnalStorage-reference.png', 'Benoza-reference.png', 'GrizzlyVision-reference.png', 'bujitron18-reference.png', 'Mostum-reference.png', 'queenoftheredvines-reference.png', 'P_Freckles-reference.png', 'daco-roman-reference.png', 'mfranshutt-reference.png', 'Joesquared-reference.png', 'crushstupid-reference.png', 'theleaveshavefallen-reference.png', 'schadenfreudemaster-reference.png', 'Celli579-reference.png', 'glazus-reference.png', 'arizonahockey-reference.png', 'SoulEntropy-reference.png', 'Dessine_MoiUnMouton-reference.png', 'CampusColt78-reference.png', 'kforrest59-reference.png', 'Sarahbelle89-reference.png', 'blaiserr-reference.png', 'SeBAGeNetiC-reference.png', 'IllBePhrank-reference.png', 'oddfuture445-reference.png', 'Hyatt03-reference.png', 'reddits_sweetheart-reference.png', 'MrGarrison1776-reference.png'])\n",
      "('/home/wcmckee/getsdrawndotcom/imgs/15/01/12', ['meta', 'art', 'reference'], [])\n",
      "('/home/wcmckee/getsdrawndotcom/imgs/15/01/12/meta', [], [])\n",
      "('/home/wcmckee/getsdrawndotcom/imgs/15/01/12/art', [], [])\n",
      "('/home/wcmckee/getsdrawndotcom/imgs/15/01/12/reference', [], ['RJinthecity-reference.png', 'Superella-reference.png', 'blandrogyny-reference.png', 'vicbond004-reference.png', 'VibeVisio-reference.png', 'romanJohnson-reference.png', 'Oxaeinaesanta-reference.png', 'elcielo17-reference.png', 'thekongninja-reference.png', 'himynameisneck-reference.png', 'lsufreak-reference.png', 'aarong914-reference.png', 'DogNamedSnuggles-reference.png', 'AzraelUaDuibhne-reference.png', 'Im_Redditing_at_work-reference.png', 'drl5140-reference.png', 'HandsomeBadger-reference.png', 'nadasabo-reference.png', 'kerlypso-reference.png', 'Cole7799-reference.png', 'SomeMomThings-reference.png', 'laughingLady-reference.png', 'KhaleesiBubblegum-reference.png', 'Sajasm-reference.png', 'yetimantra-reference.png', 'Anynomus-reference.png', 'DauntlessStitch-reference.png', 'Maccas75-reference.png', 'shepardownsnorris-reference.png', 'michaelsamcarr-reference.png', 'Hunchin-reference.png', 'Drfacialphd-reference.png', 'aussiepunkrocker-reference.png', 'karsenault-reference.png', 'stormsail-reference.png'])\n",
      "('/home/wcmckee/getsdrawndotcom/imgs/15/01/31', ['meta', 'art', 'reference'], [])\n",
      "('/home/wcmckee/getsdrawndotcom/imgs/15/01/31/meta', [], [])\n",
      "('/home/wcmckee/getsdrawndotcom/imgs/15/01/31/art', [], [])\n",
      "('/home/wcmckee/getsdrawndotcom/imgs/15/01/31/reference', [], [])\n",
      "('/home/wcmckee/getsdrawndotcom/imgs/15/01/21', ['meta', 'art', 'reference'], [])\n",
      "('/home/wcmckee/getsdrawndotcom/imgs/15/01/21/meta', [], [])\n",
      "('/home/wcmckee/getsdrawndotcom/imgs/15/01/21/art', [], [])\n",
      "('/home/wcmckee/getsdrawndotcom/imgs/15/01/21/reference', [], ['fragmentaire-reference.png', 'amnuous-reference.png', 'abpryer-reference.png', 'PresidentMarston-reference.png', 'AnnieOrangetree-reference.png', 'nyrhtak01-reference.png', 'aston6-reference.png', 'ameliamai-reference.png', 'PM_ME_UR_LEFT_HAND-reference.png', '6Red-reference.png', 'Donnol-reference.png', 'JoeBFront-reference.png', 'oneeyebear-reference.png', 'coldjordan33-reference.png', 'marnix1991-reference.png', 'mas92110-reference.png', 'Carin1790-reference.png', 'ibelieveinbatman-reference.png', 'Bozzaholic-reference.png', 'imtrebecca-reference.png', 'pahka-reference.png', 'gigabored-reference.png', 'BlackberryBiscuit-reference.png', 'Slynn0788-reference.png', 'feckyewyewfeckinfeck-reference.png', 'whatrosasaid-reference.png', 'bluematter08-reference.png', 'eeveecat-reference.png', 'Sprokster-reference.png', 'heyheymse-reference.png', 'NimNimPark-reference.png', 'honeybri-reference.png', 'NinjasStoleMyName-reference.png', 'rokusek-reference.png', 'justbrowsing90-reference.png', 'billwrugbyling-reference.png', 'Ronnisofonni-reference.png', 'Brendanial-reference.png', 'thevoodoothatyoudo-reference.png', 'oldwesty-reference.png', 'SIMIAN_KING-reference.png', 'delpaint-reference.png', 'whippmaester-reference.png', 'hercoffin-reference.png', 'anneps-reference.png', 'WeAreTheGoonies-reference.png', 'ytbizzle-reference.png', 'greg1998-reference.png', 'SkepticSwank-reference.png', '_AlGoresButthole_-reference.png', 'squalks75-reference.png', 'Dessine_MoiUnMouton-reference.png', 'Puttyx-reference.png', 'bedem5425-reference.png', 'SeBAGeNetiC-reference.png', 'seafoampurple-reference.png', 'Kuusanka-reference.png', 'lollipoplickers-reference.png', 'Noobulaiter-reference.png', 'reddits_sweetheart-reference.png', 'the_flying_almond_-reference.png', 'harisshahzad98-reference.png'])\n",
      "('/home/wcmckee/getsdrawndotcom/imgs/15/01/17', ['meta', 'art', 'reference'], [])\n",
      "('/home/wcmckee/getsdrawndotcom/imgs/15/01/17/meta', [], [])\n",
      "('/home/wcmckee/getsdrawndotcom/imgs/15/01/17/art', [], [])\n",
      "('/home/wcmckee/getsdrawndotcom/imgs/15/01/17/reference', [], ['SnugglyOctopus-reference.png', 'AnnieOrangetree-reference.png', 'NicestPersonAlive-reference.png', 'Permanent10-reference.png', 'bossman74-reference.png', 'itson_thefritz-reference.png', 'carlip-reference.png', 'socialdchic-reference.png', '_Tys1_-reference.png', 'BananaStand07-reference.png', 'Konnii-reference.png', 'kumu-reference.png', 'atlwantsmls-reference.png', 'frofromage-reference.png', 'morla74-reference.png', 'deadendy-reference.png', 'mandonthemoon-reference.png', 'famousfamily7448-reference.png', 'Katieappleseed-reference.png', 'kyhle-reference.png', 'ashleyjoy94-reference.png', 'Gothgirl23-reference.png', 'DreiaTheNeedleArtist-reference.png', 'BroShow-reference.png', 'M3thKitty-reference.png', 'Snowwhite88-reference.png', 'isaiahjc-reference.png', 'friendlymammoth-reference.png', 'I_Say_-reference.png', 'MerpyP-reference.png', 'wetmoose-reference.png', 'warriorprincessdi-reference.png', 'alexandrass-reference.png', 'squalks75-reference.png', 'Chewrenity-reference.png', 'cabarl25-reference.png', 'CallieCat14-reference.png', 'trtwn-reference.png', 'BatzCountry-reference.png', 'TheGutlessOne-reference.png', 'ManRandell-reference.png'])\n",
      "('/home/wcmckee/getsdrawndotcom/imgs/15/01/01', ['art', 'reference'], [])\n",
      "('/home/wcmckee/getsdrawndotcom/imgs/15/01/01/art', [], ['choniz1-colour.png', 'fallowpliz-line.png', 'funhouse83-colour.png', 'GreatPotato-bw.png', 'crimsonarm-bw.png', 'crimsonarm-line.png', 'THE_reverbdeluxe-colour.png', 'Dikardo-line.png', 'FloppyPenguin-bw.png', 'ThisDudeRiteHere-bw.png', 'startages-bw.png', 'but_why_is_it_itchy-line.png', 'fightingdove-colour.png', 'kullisankari-line.png', 'Laceystultz-bw.png', 'startages-line.png', 'ThisDudeRiteHere-line.png', 'JSpangDerulo-colour.png', 'rycon10-colour.png', 'Nixtron-bw.png', 'Dinosaurlover75-colour.png', 'demonicpig-colour.png', 'funhouse83-bw.png', 'Laceystultz-line.png', 'MortalMikey83-bw.png', 'THE_reverbdeluxe-bw.png', 'EricArtr-bw.png', 'MortalMikey83-colour.png', 'apdrzmom-bw.png', 'docpeterson-bw.png', 'Joefishjones-bw.png', 'TheDarlis-colour.png', 'JosephHughes-line.png', 'HarmonyHeartstrings-bw.png', 'HarmonyHeartstrings-line.png', 'hstbuff42-bw.png', 'fallowpliz-bw.png', 'MortalMikey83-line.png', 'hstbuff42-line.png', 'dabbsey-colour.png', 'apdrzmom-colour.png', 'crimsonarm-colour.png', 'Dinosaurlover75-line.png', 'Dikardo-colour.png', 'JBHIV-line.png', 'fightingdove-line.png', 'napana-line.png', 'kkaiser104-bw.png', 'CheerMom-colour.png', 'JosephHughes-colour.png', 'JSpangDerulo-line.png', 'hstbuff42-colour.png', 'imperfectpoppy-line.png', 'kullisankari-bw.png', 'EricArtr-colour.png', 'TinkTheDestroya-bw.png', 'Joefishjones-line.png', 'JSpangDerulo-bw.png', 'JBHIV-colour.png', 'Joefishjones-colour.png', 'docpeterson-colour.png', 'breeezus-colour.png', 'TinkTheDestroya-colour.png', 'kkaiser104-line.png', 'esmit438-line.png', 'Laceystultz-colour.png', 'napana-colour.png', 'dabbsey-bw.png', 'GreatPotato-colour.png', 'GreatPotato-line.png', 'imperfectpoppy-colour.png', 'whizzo3031-colour.png', 'demonicpig-bw.png', 'whizzo3031-bw.png', 'esmit438-bw.png', 'justchuck1070-bw.png', 'TheDarlis-line.png', 'shandelion-bw.png', 'ThisDudeRiteHere-colour.png', 'choniz1-bw.png', 'THE_reverbdeluxe-line.png', 'but_why_is_it_itchy-bw.png', 'Nixtron-colour.png', 'breeezus-bw.png', 'dubbleh-line.png', 'choniz1-line.png', 'napana-bw.png', 'kkaiser104-colour.png', 'shandelion-colour.png', 'JBHIV-bw.png', 'FloppyPenguin-line.png', 'ItWillBeMine-line.png', 'fallowpliz-colour.png', 'esmit438-colour.png', 'Dikardo-bw.png', 'dubbleh-bw.png', 'breeezus-line.png', 'HarmonyHeartstrings-colour.png', 'Nixtron-line.png', 'FloppyPenguin-colour.png', 'whizzo3031-line.png', 'apdrzmom-line.png', 'ItWillBeMine-bw.png', 'demonicpig-line.png', 'funhouse83-line.png', 'justchuck1070-line.png', 'JosephHughes-bw.png', 'justchuck1070-colour.png', 'CheerMom-bw.png', 'ItWillBeMine-colour.png', 'fightingdove-bw.png', 'EricArtr-line.png', 'TheDarlis-bw.png', 'dubbleh-colour.png', 'imperfectpoppy-bw.png', 'CheerMom-line.png', 'dabbsey-line.png', 'shandelion-line.png', 'kullisankari-colour.png', 'rycon10-line.png', 'startages-colour.png', 'docpeterson-line.png', 'Dinosaurlover75-bw.png', 'but_why_is_it_itchy-colour.png', 'rycon10-bw.png', 'TinkTheDestroya-line.png'])\n",
      "('/home/wcmckee/getsdrawndotcom/imgs/15/01/01/reference', [], ['MortalMikey83-reference.png', 'startages-reference.png', 'docpeterson-reference.png', 'apdrzmom-reference.png', 'JosephHughes-reference.png', 'kkaiser104-reference.png', 'dubbleh-reference.png', 'ThisDudeRiteHere-reference.png', 'justchuck1070-reference.png', 'whizzo3031-reference.png', 'fightingdove-reference.png', 'Joefishjones-reference.png', 'Nixtron-reference.png', 'shandelion-reference.png', 'JSpangDerulo-reference.png', 'Dinosaurlover75-reference.png', 'breeezus-reference.png', 'but_why_is_it_itchy-reference.png', 'Dikardo-reference.png', 'TheDarlis-reference.png'])\n",
      "('/home/wcmckee/getsdrawndotcom/imgs/15/01/19', ['meta', 'art', 'reference'], [])\n",
      "('/home/wcmckee/getsdrawndotcom/imgs/15/01/19/meta', [], [])\n",
      "('/home/wcmckee/getsdrawndotcom/imgs/15/01/19/art', [], [])\n",
      "('/home/wcmckee/getsdrawndotcom/imgs/15/01/19/reference', [], ['patorjk---reference.png', 'peetieswie-reference.png', 'angelenabee-reference.png', 'Brooketheblonde-reference.png', 'petitsfilous-reference.png', 'seriouslyraee-reference.png', 'emilymonroe_-reference.png', 'esmit438-reference.png', 'HuckleberryHound-reference.png', 'Heisenberglington-reference.png', 'Tannahg-reference.png', 'SasquatchTrap-reference.png', '-trisarahtops--reference.png', 'WellBangOkay-reference.png', 'coldjordan33-reference.png', 'questinghuntress-reference.png', 'Chairmanmeowx-reference.png', 'shhhh_spoilers-reference.png', 'thestinkyturnip-reference.png', 'theonlychaos-reference.png', 'autumnwolfmoon89-reference.png', 'ColloquialLife-reference.png', 'MoldyLunchFoxx-reference.png', 'redreplicant-reference.png', 'lion1991-reference.png', 'Mathayus-reference.png', 'Slampieces-reference.png', 'Steeleface-reference.png', 'marshmallowpillow-reference.png', 'Maryjane8185-reference.png', 'kerlypso-reference.png', 'linuxpenguins-reference.png', 'rockytheboxer-reference.png', 'EmAgainstHumanity-reference.png', 'flugel_horny-reference.png', 'Cooldude100ca-reference.png', 'boobiesiheart-reference.png', 'BlindStark-reference.png', 'FraischNation-reference.png', 'radio_voice-reference.png', 'LizLush-reference.png', 'ontario86-reference.png', 'Nakittina-reference.png', 'davinkane-reference.png', 'Franchize88-reference.png', 'arttie-reference.png', 'brandonkoy12-reference.png', 'tpw0713-reference.png', 'mutatedllama-reference.png', 'dday0002-reference.png', 'leobrand-reference.png', 'Tristes-reference.png', 'shadowsgrimm-reference.png', 'erinmac514-reference.png', 'inputfail-reference.png', 'meowmeowlove-reference.png', 'thebloodybaroness-reference.png', 'la_duque-reference.png', 'wtf_wendurs-reference.png', 'AkiraCW-reference.png', 'TangibleAwkward-reference.png', 'DanteVSTheWorld-reference.png', 'deeboraw-reference.png', 'iamnotyours-reference.png'])\n",
      "('/home/wcmckee/getsdrawndotcom/imgs/15/01/15', ['meta', 'art', 'reference'], [])\n",
      "('/home/wcmckee/getsdrawndotcom/imgs/15/01/15/meta', [], [])\n",
      "('/home/wcmckee/getsdrawndotcom/imgs/15/01/15/art', [], [])\n",
      "('/home/wcmckee/getsdrawndotcom/imgs/15/01/15/reference', [], ['LivingUnderATree-reference.png', 'coldghosts-reference.png', 'PartyRocker1013-reference.png', 'gotrich-reference.png', 'superbird11-reference.png', 'emotionalbeever-reference.png', 'oliveoyl89-reference.png', 'usedsocks01-reference.png', 'HuckleberryHound-reference.png', 'Donnol-reference.png', 'DivinelyMinely-reference.png', 'Charlie_Raped_Me-reference.png', 'sphygit-reference.png', 'staceyhataier-reference.png', 'schmittyschmat-reference.png', 'questinghuntress-reference.png', 'xjman349-reference.png', 'Joelou123-reference.png', 'tfc324-reference.png', 'TheSolitaryCucumber-reference.png', 'walkingnat-reference.png', 'ADogNamedPal-reference.png', 'holocene21-reference.png', 'Mag3nd3f-reference.png', 'Euclidding_Me-reference.png', 'michaellapena-reference.png', '-happyrocker--reference.png', 'Seiran_ZA-reference.png', 'bgkarma-reference.png', 'sotomaque-reference.png', 'kerlypso-reference.png', 'coolthejordan-reference.png', 'MyPinkElephants-reference.png', 'gaaia-reference.png', 'miluti-reference.png', 'DauntlessStitch-reference.png', 'just-batman-reference.png', 'Radical_guy-reference.png', 'furry_lolly-reference.png', 'tormerritt-reference.png', 'Hannah_paigeee-reference.png', 'seepigeonfly-reference.png', '5heela-reference.png', 'letsflyawayyy-reference.png', 'tekashr-reference.png', 'jasonbourne0305-reference.png', 'pottymouthgrl-reference.png', 'absolutelynoshame-reference.png', 'Dikardo-reference.png', 'RileyByrdie-reference.png', 'aztechristian-reference.png', 'mluu921-reference.png', 'MuffinGypsy-reference.png'])\n",
      "('/home/wcmckee/getsdrawndotcom/imgs/15/01/14', ['meta', 'art', 'reference'], [])\n",
      "('/home/wcmckee/getsdrawndotcom/imgs/15/01/14/meta', [], [])\n",
      "('/home/wcmckee/getsdrawndotcom/imgs/15/01/14/art', [], [])\n",
      "('/home/wcmckee/getsdrawndotcom/imgs/15/01/14/reference', [], ['Saccam1989-reference.png', 'ITGeekDad-reference.png', 'Zinbadd-reference.png', 'Donnol-reference.png', 'Heisenberglington-reference.png', 'lucy_locket-reference.png', 'TheBlastedCannon-reference.png', 'loserville1-reference.png', 'Ali_mander-reference.png', 'staceyhataier-reference.png', 'BadJimFred-reference.png', 'sincerelycjones-reference.png', 'coltonapo-reference.png', 'thestinkyturnip-reference.png', 'walkingnat-reference.png', 'KieraJo-reference.png', 'chain_shot_chuck-reference.png', 'pange6p-reference.png', 'Thecraneman-reference.png', 'Seiran_ZA-reference.png', 'isaiahjc-reference.png', 'MyPinkElephants-reference.png', 'alwaysreigning-reference.png', 'SofaKingSwayze-reference.png', 'Thomasreefer-reference.png', 'smy3rs-reference.png', 'photohoodoo-reference.png', 'rezbeats-reference.png', 'Nakittina-reference.png', 'Mrswhatsherface-reference.png', 'gudmundurgg-reference.png', 'furry_lolly-reference.png', 'ChrisWithWings-reference.png', 'jds13X-reference.png', 'tpw0713-reference.png', '5heela-reference.png', 'EamesGurl94-reference.png', 'MrsWilliams-reference.png', 'Shell14214-reference.png', 'beardedguytx-reference.png', '_CHURDT_-reference.png', 'MuffinGypsy-reference.png', 'lonelyplutonian-reference.png', 'Laytonmobile-reference.png', 'MandiiWith2eyes-reference.png'])\n",
      "('/home/wcmckee/getsdrawndotcom/imgs/15/01/06', ['meta', 'art', 'reference'], [])\n",
      "('/home/wcmckee/getsdrawndotcom/imgs/15/01/06/meta', [], [])\n",
      "('/home/wcmckee/getsdrawndotcom/imgs/15/01/06/art', [], [])\n",
      "('/home/wcmckee/getsdrawndotcom/imgs/15/01/06/reference', [], ['nope-panda-reference.png', 'equinox5005-reference.png', 'arcade-water-reference.png', 'drewtonkin-reference.png', 'dexteretoy-reference.png', 'DatBull-reference.png', 'glamgeek77-reference.png', 'sit_wednesday-reference.png', 'euphoriaofgaul-reference.png', 'knigoliza-reference.png', 'himynameisneck-reference.png', 'lchapmann-reference.png', 'pdavid93x-reference.png', 'AzraelUaDuibhne-reference.png', 'woggymike-reference.png', 'dancinginthestars-reference.png', 'suckonmyflag-reference.png', 'lennon3862-reference.png', 'musnt83-reference.png', 'C4FF-reference.png', 'PixelLeaf-reference.png', 'TopTierGoat-reference.png', 'banditsVSbears-reference.png', 'artemisodin-reference.png', 'alwaysreigning-reference.png', 'redbeav-reference.png', 'Bitches_BeCrazy-reference.png', 'ErasedCitizen-reference.png', 'alexandrass-reference.png', 'phillybust3r-reference.png', 'stackedpancakes-reference.png', 'nurselyf-reference.png', 'maisiemouse2012-reference.png', 'missdanielleloves-reference.png'])\n",
      "('/home/wcmckee/getsdrawndotcom/imgs/15/01/11', ['meta', 'art', 'reference'], [])\n",
      "('/home/wcmckee/getsdrawndotcom/imgs/15/01/11/meta', [], [])\n",
      "('/home/wcmckee/getsdrawndotcom/imgs/15/01/11/art', [], [])\n",
      "('/home/wcmckee/getsdrawndotcom/imgs/15/01/11/reference', [], ['RJinthecity-reference.png', 'BoneCarlos-reference.png', 'Amateur_Overlord-reference.png', 'SilkRoadVirgin-reference.png', 'vicbond004-reference.png', 'Itato-reference.png', 'Aztec_Reaper-reference.png', 'frankenbeams-reference.png', 'thebusydad-reference.png', 'ocelotsketches-reference.png', 'renopants-reference.png', 'aluap28-reference.png', 'roi-sans-couronne-reference.png', 'sifat3d-reference.png', 'habaroa-reference.png', 'I_cant_draw_-reference.png', 'bippal-reference.png', 'danivd960-reference.png', 'aarong914-reference.png', 'hairinthewind-reference.png', 'AzraelUaDuibhne-reference.png', 'RachelACC-reference.png', 'LotsOfFromage-reference.png', 'drl5140-reference.png', 'neremiss-reference.png', 'kerlypso-reference.png', 'Cole7799-reference.png', 'SomeMomThings-reference.png', 'Joefishjones-reference.png', 'MEETTHEMAN-reference.png', 'DauntlessStitch-reference.png', 'Maccas75-reference.png', 'Daltonman45-reference.png', 'WhyNona-reference.png', 'OnnieCheesin11-reference.png', 'Beatlsam1973-reference.png', 'Anathema785-reference.png', 'Hunchin-reference.png', 'BrodieTheWhale-reference.png', 'SwedeDoesMakeup-reference.png', 'Drfacialphd-reference.png', 'aussiepunkrocker-reference.png', 'PhilTheGayDinosaur-reference.png', 'edgar_sbj-reference.png', 'harisshahzad98-reference.png', 'asliceofkiwi-reference.png', 'kkasket-reference.png'])\n",
      "('/home/wcmckee/getsdrawndotcom/imgs/15/01/28', ['meta', 'art', 'reference'], [])\n",
      "('/home/wcmckee/getsdrawndotcom/imgs/15/01/28/meta', [], [])\n",
      "('/home/wcmckee/getsdrawndotcom/imgs/15/01/28/art', [], [])\n",
      "('/home/wcmckee/getsdrawndotcom/imgs/15/01/28/reference', [], ['Danwinger-reference.png', 'callmemarcopolo-reference.png', 'StacheKetchum-reference.png', 'OrangeYouSilly-reference.png', 'curiousnonsense-reference.png', 'GobMicheal-reference.png', 'boobafett13-reference.png', 'PrincessAloria-reference.png', 'bfg24-reference.png', 'AreYouStillThEere-reference.png', 'bourkleton-reference.png', '.frankrizzo24-reference.png.NjAFqt', '2000YearOldRoman-reference.png', 'cannick-reference.png', 'DocHobbes_-reference.png', 'coleifer-reference.png', 'Jisifus-reference.png', 'Br0adzilla-reference.png', 'HuggingSarah-reference.png', 'Omarrocksyoursocks-reference.png', 'DoomKey-reference.png', 'brazilianboundboy-reference.png', 'MookHustle-reference.png', 'Nvr2funny-reference.png', 'JoseNotHose-reference.png', 'breeezus-reference.png', 'b_house-reference.png', 'ehmeralds-reference.png', 'BatzCountry-reference.png', 'Pinkstruck-reference.png', 'TheMadeline-reference.png'])\n",
      "('/home/wcmckee/getsdrawndotcom/imgs/15/01/26', ['meta', 'art', 'reference'], [])\n",
      "('/home/wcmckee/getsdrawndotcom/imgs/15/01/26/meta', [], [])\n",
      "('/home/wcmckee/getsdrawndotcom/imgs/15/01/26/art', [], [])\n",
      "('/home/wcmckee/getsdrawndotcom/imgs/15/01/26/reference', [], ['chiquitamichi-reference.png', 'Part_Time_Terrorist-reference.png', 'amiller1786-reference.png', 'fingaa-reference.png', 'RosiePalahniuk-reference.png', 'PhillyComedy-reference.png', 'GhostThatWeKnew-reference.png', 'LindaMargret-reference.png', 'ZachWhoAttacks-reference.png', 'Kaytea422-reference.png', 'the_time_keeper-reference.png', 'driiana-reference.png', 'elcielo17-reference.png', 'cr7project77-reference.png', 'RedYellow415-reference.png', 'Batman_Backflip-reference.png', 'Billy_Chaos-reference.png', 'loganwebby-reference.png', 'ShawnDawn-reference.png', 'grannywatcher-reference.png', 'Apperature-reference.png', 'MrYurMomm-reference.png', 'T4llAgent-reference.png', 'sjsharkgirl-reference.png', 'HeyRayDaily-reference.png', 'honeybri-reference.png', 'm15f17-reference.png', 'llama1892-reference.png', 'GrizzlyVision-reference.png', 'assliquid-reference.png', 'oldwesty-reference.png', 'daco-roman-reference.png', 'crushstupid-reference.png', 'theleaveshavefallen-reference.png', 'jerseydeadhead-reference.png', 'anneps-reference.png', 'BongDamage-reference.png', 'schadenfreudemaster-reference.png', 'Celli579-reference.png', 'L3gionHD-reference.png', 'seeka84-reference.png', 'Dessine_MoiUnMouton-reference.png', 'CampusColt78-reference.png', 'kforrest59-reference.png', 'raychul78-reference.png', 'peroxide_kitty-reference.png', 'kinetogen-reference.png', 'markthebag-reference.png', 'lollipoplickers-reference.png', 'meowmeowlove-reference.png', 'coco-monster-reference.png', 'DaisyLayz-reference.png', 'rainyquinn-reference.png', 'asliceofkiwi-reference.png', 'Shweasel-reference.png'])\n",
      "('/home/wcmckee/getsdrawndotcom/imgs/15/01/04', ['meta', 'art', 'reference'], [])\n",
      "('/home/wcmckee/getsdrawndotcom/imgs/15/01/04/meta', [], ['texsurfin.meta', 'theurgist5.meta', 'herooftime94.meta', 'Drawn-And-QuARTered.meta', 'cuwboys123.meta', 'hupacmoneybags.meta', 'Xrayguy104.meta', 'panini257.meta', 'SinisterCanuck.meta', 'lotttiiee.meta', 'Jasperthecat77.meta', 'WesternWaterTribe.meta', 'ambrdst.meta', 'Nappiest.meta', 'butternotbutterflies.meta', 'kerlypso.meta', 'hogslaper.meta', 'esmit438.meta', 'DellaMorteArts.meta', 'TinyB1.meta', 'Permanent10.meta', 'b18ch1ck.meta', 'crackettt.meta', 'westopher718.meta', 'ApolloX-2.meta', 'MariaArcher.meta', 'GooDuck.meta', 'giddyup75.meta', 'Hejoha.meta', 'GrandmasRightNipple.meta', 'shadelz.meta', 'zakkalaska.meta', 'harisshahzad98.meta', 'charinard.meta', 'UninvitedHGuest.meta', 'neo-ninja.meta', 'thaisun.meta', 'brohovas-witness.meta', 'Resrey.meta', 'the_master_blaster.meta', 'kittercall.meta', 'yumyumyoshi.meta', 'SpaceFeline.meta', 'Ivytortoise.meta', 'BrandonWow1988.meta', 'pepperonik.meta', 'Jabald69.meta', 'Giupatamon.meta', 'Pinky135.meta', 'Your_Antithesis.meta', 'Donna_Freaking_Noble.meta', 'xixoxixa.meta', 'Marsinator.meta', 'jazzyghost.meta', 'trippedwire.meta', 'OhDeBabies.meta', 'Reptilebear.meta', 'amberino1.meta', 'ShannonVogel.meta', 'miluti.meta', 'littlefoxwood.meta', 'LieutenantDavid.meta', 'dramaticstringtheory.meta', 'clawz_nd_webz.meta', 'TheTrueWalker.meta', 'ilikeroastpotatoes.meta', 'iamhasana.meta', 'MemphisWill.meta', 'seahorseVT.meta', 'baconbreeder.meta', 'darrenturnip.meta', 'AidenXY.meta', 'ameliamai.meta', 'xxdaniixx14.meta', 'mrsmomo.meta', 'timeasweknowit.meta'])\n",
      "('/home/wcmckee/getsdrawndotcom/imgs/15/01/04/art', [], ['kerlypso-colour.png', 'thaisun-bw.png', 'TheTrueWalker-line.png', 'MayonParaiso-colour.png', 'Consta135-bw.png', 'SpaceFeline-line.png', 'brohovas-witness-colour.png', 'Bayou_Mama-colour.png', 'Marsinator-colour.png', 'xxdaniixx14-colour.png', 'shadelz-bw.png', 'Coolnara-colour.png', 'amberino1-bw.png', 'Queiempe-line.png', 'rickmeetsreddit-bw.png', 'seahorseVT-colour.png', 'pepperonik-bw.png', 'ameliamai-colour.png', 'TheComrade-colour.png', 'Lizardking3-bw.png', 'Lizardking3-line.png', 'smashingley-colour.png', 'TheComrade-bw.png', 'MrSexyGoodTime-line.png', 'cuwboys123-line.png', '_loadingconfidence-colour.png', 'catlefey-line.png', 'UninvitedHGuest-bw.png', 'westopher718-bw.png', 'alien_skillz-line.png', 'catlefey-colour.png', 'WesternWaterTribe-colour.png', 'hellobos-bw.png', 'charinard-line.png', 'GooDuck-bw.png', 'Trustnobody_-bw.png', 'Resrey-bw.png', 'mcgroo-line.png', 'SeriousDOOMBunny-line.png', 'lotttiiee-colour.png', 'jazzyghost-colour.png', 'BrandonWow1988-colour.png', 'Organicallyangel-bw.png', 'joannahconda-colour.png', 'Jasperthecat77-colour.png', 'shadelz-line.png', 'Glu-e-colour.png', 'Resrey-colour.png', 'harisshahzad98-colour.png', 'thaisun-colour.png', 'SinisterCanuck-bw.png', 'joannahconda-bw.png', 'Queiempe-bw.png', 'littlefoxwood-colour.png', 'MrSexyGoodTime-bw.png', 'SeriousDOOMBunny-bw.png', 'ameliamai-bw.png', 'Reptilebear-bw.png', 'hellobos-colour.png', 'GooDuck-colour.png', 'SinisterCanuck-colour.png', 'amberino1-colour.png', 'littlefoxwood-line.png', 'brohovas-witness-bw.png', 'Bananafoofoofwee-bw.png', 'metal_lover1012-line.png', 'UninvitedHGuest-line.png', 'westopher718-line.png', 'Marsinator-bw.png', 'GooDuck-line.png', 'the_master_blaster-line.png', '400hurdles4life-colour.png', 'herooftime94-bw.png', 'SinisterCanuck-line.png', 'xxdaniixx14-line.png', 'smashingley-bw.png', 'Consta135-line.png', 'ZeusThunderClap-colour.png', 'TheTrueWalker-colour.png', 'mrsmomo-bw.png', 'WesternWaterTribe-bw.png', 'Coolnara-line.png', 'cuwboys123-colour.png', 'harisshahzad98-line.png', 'cuwboys123-bw.png', 'kerlypso-line.png', 'rickmeetsreddit-colour.png', 'Glu-e-bw.png', 'jazzyghost-bw.png', 'littlefoxwood-bw.png', 'SeriousDOOMBunny-colour.png', 'royalrights-bw.png', 'DatBull-line.png', 'zakkalaska-bw.png', 'yumyumyoshi-line.png', 'the_master_blaster-bw.png', 'Bayou_Mama-bw.png', 'MayonParaiso-bw.png', 'hauntedhedgehog-line.png', 'BrandonWow1988-line.png', 'westopher718-colour.png', 'Queiempe-colour.png', 'alien_skillz-bw.png', '400hurdles4life-bw.png', 'texsurfin-bw.png', 'xxdaniixx14-bw.png', 'shadelz-colour.png', 'amberino1-line.png', 'ChanelValentine-bw.png', 'Organicallyangel-line.png', 'charinard-colour.png', 'texsurfin-line.png', 'hellobos-line.png', 'Trustnobody_-colour.png', 'hauntedhedgehog-bw.png', 'alien_skillz-colour.png', 'Pauldierksheide-line.png', 'ChanelValentine-colour.png', 'Pauldierksheide-colour.png', '_loadingconfidence-bw.png', 'yumyumyoshi-colour.png', 'mcgroo-colour.png', 'Reptilebear-colour.png', 'crackettt-colour.png', 'Reptilebear-line.png', 'rickmeetsreddit-line.png', 'MrSexyGoodTime-colour.png', 'AidenXY-colour.png', 'ZeusThunderClap-bw.png', 'Bananafoofoofwee-line.png', 'Bananafoofoofwee-colour.png', 'Organicallyangel-colour.png', 'crackettt-line.png', '400hurdles4life-line.png', 'metal_lover1012-colour.png', 'kerlypso-bw.png', 'herooftime94-line.png', 'TheTrueWalker-bw.png', 'mariohuana-bw.png', 'jazzyghost-line.png', 'seahorseVT-bw.png', 'seahorseVT-line.png', 'royalrights-colour.png', 'Lizardking3-colour.png', 'Trustnobody_-line.png', 'Glu-e-line.png', 'JesseEichler-bw.png', 'JesseEichler-line.png', 'Pauldierksheide-bw.png', 'lotttiiee-bw.png', 'Coolnara-bw.png', 'zakkalaska-line.png', 'BrandonWow1988-bw.png', 'WesternWaterTribe-line.png', 'brohovas-witness-line.png', 'lotttiiee-line.png', 'DellaMorteArts-line.png', 'mrsmomo-line.png', 'mrsmomo-colour.png', 'royalrights-line.png', 'herooftime94-colour.png', 'DellaMorteArts-colour.png', 'TheComrade-line.png', 'Jasperthecat77-line.png', 'mariohuana-line.png', 'crackettt-bw.png', 'DatBull-colour.png', 'DellaMorteArts-bw.png', 'pepperonik-line.png', 'hauntedhedgehog-colour.png', 'charinard-bw.png', 'JesseEichler-colour.png', 'harisshahzad98-bw.png', 'AidenXY-bw.png', 'texsurfin-colour.png', '_loadingconfidence-line.png', 'UninvitedHGuest-colour.png', 'mcgroo-bw.png', 'pepperonik-colour.png', 'SpaceFeline-bw.png', 'the_master_blaster-colour.png', 'joannahconda-line.png', 'zakkalaska-colour.png', 'yumyumyoshi-bw.png', 'ChanelValentine-line.png', 'Bayou_Mama-line.png', 'smashingley-line.png', 'DatBull-bw.png', 'Jasperthecat77-bw.png', 'Resrey-line.png', 'ameliamai-line.png', 'catlefey-bw.png', 'AidenXY-line.png', 'Marsinator-line.png', 'SpaceFeline-colour.png', 'MayonParaiso-line.png', 'mariohuana-colour.png', 'metal_lover1012-bw.png', 'Consta135-colour.png', 'ZeusThunderClap-line.png', 'thaisun-line.png'])\n",
      "('/home/wcmckee/getsdrawndotcom/imgs/15/01/04/reference', [], ['clawz_nd_webz-reference.png', 'hauntedhedgehog-reference.png', 'giddyup75-reference.png', 'mcgroo-reference.png', 'Permanent10-reference.png', 'metal_lover1012-reference.png', 'Donna_Freaking_Noble-reference.png', 'MrSexyGoodTime-reference.png', 'DatBull-reference.png', 'iamhasana-reference.png', 'Jasperthecat77-reference.png', 'Xrayguy104-reference.png', 'Giupatamon-reference.png', 'smashingley-reference.png', 'butternotbutterflies-reference.png', 'Organicallyangel-reference.png', 'trippedwire-reference.png', 'herooftime94-reference.png', 'dramaticstringtheory-reference.png', 'OhDeBabies-reference.png', 'yumyumyoshi-reference.png', 'thaisun-reference.png', 'Resrey-reference.png', 'timeasweknowit-reference.png', 'Bananafoofoofwee-reference.png', 'SinisterCanuck-reference.png', 'SeriousDOOMBunny-reference.png', 'Marsinator-reference.png', 'Glu-e-reference.png', 'miluti-reference.png', 'zakkalaska-reference.png', 'neo-ninja-reference.png', 'Trustnobody_-reference.png', 'jazzyghost-reference.png', 'Reptilebear-reference.png', 'joannahconda-reference.png', 'WesternWaterTribe-reference.png', 'Lizardking3-reference.png', 'TheComrade-reference.png', 'AidenXY-reference.png', 'hellobos-reference.png', 'mrsmomo-reference.png', 'SpaceFeline-reference.png', 'rickmeetsreddit-reference.png', 'JesseEichler-reference.png', 'Jabald69-reference.png', 'harisshahzad98-reference.png', 'b18ch1ck-reference.png', 'TinyB1-reference.png', 'crackettt-reference.png', 'seahorseVT-reference.png', 'the_master_blaster-reference.png', 'baconbreeder-reference.png'])\n",
      "('/home/wcmckee/getsdrawndotcom/imgs/15/01/02', ['art', 'reference'], [])\n",
      "('/home/wcmckee/getsdrawndotcom/imgs/15/01/02/art', [], ['gross_caricature-bw.png', 'Vegglimer-bw.png', 'JennBella-bw.png', 'Boobbuffet-bw.png', 'PitbullGirl-line.png', 'layla2189-line.png', 'benbrandt22-colour.png', 'MrVonBuren-bw.png', 'Eneyek-colour.png', 'ultimate_hedonist-colour.png', 'fallowpliz-line.png', '_leeza-line.png', 'Grammatical_Aneurysm-bw.png', 'babydaisy611-colour.png', 'crobertt2-line.png', 'RachelSays--bw.png', 'Vangunn-colour.png', 'Mooka27-bw.png', 'sifodeas-bw.png', '3_Toed_Hooker-line.png', 'FloppyPenguin-bw.png', 'ultimate_hedonist-bw.png', 'Kritter2490-line.png', 'startages-bw.png', 'HuggingTheJellyfish-line.png', 'ReptileLover82-bw.png', 'leeleechanda-colour.png', 'Nakittina-bw.png', 'RainbowMeg-bw.png', 'Pipvault-colour.png', 'PharmerRob-bw.png', 'mad_squabbles-colour.png', 'ctmedic-bw.png', 'Vangunn-line.png', 'PenguinsGoMeow-colour.png', 'PharmerRob-line.png', 'JennBella-line.png', 'zoeypants2012-colour.png', 'rookabird-bw.png', '3_Toed_Hooker-bw.png', 'Ani_Pie-bw.png', 'startages-line.png', 'mrz5000-bw.png', 'IAMATrainer-colour.png', 'springerfinger-colour.png', 'rikarae-bw.png', 'RachelSays--colour.png', 'layla2189-colour.png', 'ultimate_hedonist-line.png', 'rookabird-colour.png', 'blizzardinaugust-bw.png', 'doitfordjango-line.png', 'monsoon42-colour.png', 'RedLegsRone-line.png', 'Ladyloulou-colour.png', 'zoeypants2012-bw.png', 'sifodeas-colour.png', 'RachelSays--line.png', 'Vegglimer-colour.png', 'iloveariiii-line.png', 'Dinosaurlover75-colour.png', 'demonicpig-colour.png', 'Plastic-Is-Fantastic-bw.png', 'luckybunnyhop-colour.png', 'PitbullGirl-colour.png', 'crobertt2-bw.png', 'taylor10529-colour.png', 'IWearPlaid-bw.png', 'Ladyloulou-bw.png', 'rikarae-line.png', 'MariaArcher-colour.png', 'omgkev-line.png', 'mrz5000-line.png', 'Joefishjones-bw.png', 'DaywalkerManifesto-line.png', 'TheDarlis-colour.png', 'Nattyzee3-line.png', 'JosephHughes-line.png', 'fallowpliz-bw.png', 'VotreEsUneChaussure-colour.png', 'xeddier-colour.png', 'FrenchQuarterBreaux-bw.png', 'babydaisy611-bw.png', 'layla2189-bw.png', 'vicbond004-colour.png', 'socram0906-bw.png', 'Pipvault-bw.png', 'Dinosaurlover75-line.png', 'westendbestend-line.png', 'jadely-line.png', 'Nattyzee3-bw.png', 'sifodeas-line.png', 'Mr_Gusty-colour.png', 'Emcee1226-line.png', 'JBHIV-line.png', 'Clanker123-colour.png', 'Pipvault-line.png', 'FrenchQuarterBreaux-line.png', 'Fuerte1316-bw.png', 'mrz5000-colour.png', 'Emcee1226-colour.png', 'Fuck1_Marry1_Kill1-colour.png', 'JosephHughes-colour.png', 'Plastic-Is-Fantastic-colour.png', 'mjbatt-line.png', 'DropjeKim-colour.png', 'HuggingTheJellyfish-colour.png', 'kollapstradixionales-line.png', 'BamaBeana-bw.png', 'Ladyloulou-line.png', 'omgkev-bw.png', 'Kritter2490-bw.png', 'PitbullGirl-bw.png', 'Clanker123-bw.png', 'IAMATrainer-bw.png', 'BamaBeana-colour.png', 'doitfordjango-bw.png', 'Vangunn-bw.png', 'MrVonBuren-line.png', 'imperfectpoppy-line.png', 'paulccole-line.png', 'zoeypants2012-line.png', 'blizzardinaugust-colour.png', 'Ratkus-line.png', 'mad_squabbles-line.png', 'leeleechanda-line.png', 'Joefishjones-line.png', 'Eneyek-bw.png', 'vicbond004-bw.png', 'MariaArcher-line.png', 'PoseidonsTrident-colour.png', 'rookabird-line.png', 'artymads-colour.png', 'Fuerte1316-line.png', 'ctmedic-colour.png', 'mjbatt-colour.png', 'JBHIV-colour.png', 'bad-lemon-no-hope-bw.png', 'mrturdferguson-bw.png', 'mad_squabbles-bw.png', 'Joefishjones-colour.png', 'Grammatical_Aneurysm-line.png', 'Toasted_Badger-bw.png', 'bad-lemon-no-hope-line.png', 'DaywalkerManifesto-colour.png', 'vicbond004-line.png', 'ReoutS-line.png', 'themodporcupine-line.png', 'PolishAce-line.png', 'DaywalkerManifesto-bw.png', 'benbrandt22-bw.png', 'crobertt2-colour.png', 'may-girl-line.png', 'monsoon42-line.png', 'Eneyek-line.png', 'FrenchQuarterBreaux-colour.png', 'JustinKSU-bw.png', 'artymads-bw.png', 'westendbestend-colour.png', 'qtpie2000-colour.png', 'VotreEsUneChaussure-line.png', 'Mr_Gusty-line.png', 'RobVegas-line.png', 'Ardorouseyes-line.png', 'esmit438-line.png', '2real4sheeple-bw.png', 'ReoutS-colour.png', 'Emcee1226-bw.png', 'PolishAce-colour.png', 'Mr_Gusty-bw.png', 'poooooooooooooo0op-bw.png', 'taylor10529-line.png', 'Fuck1_Marry1_Kill1-bw.png', 'IWearPlaid-line.png', '2real4sheeple-line.png', 'ctmedic-line.png', 'omgkev-colour.png', 'DropjeKim-bw.png', 'westendbestend-bw.png', 'imperfectpoppy-colour.png', 'springerfinger-bw.png', 'springerfinger-line.png', 'xeddier-line.png', '_leeza-bw.png', 'doitfordjango-colour.png', 'ReptileLover82-colour.png', 'whizzo3031-colour.png', 'demonicpig-bw.png', 'whizzo3031-bw.png', 'may-girl-bw.png', 'SarahPortrey-colour.png', 'mrturdferguson-colour.png', 'TheUnknownUsername-bw.png', 'Boobbuffet-line.png', 'esmit438-bw.png', 'TheDarlis-line.png', 'Morgi_-colour.png', 'Mooka27-line.png', 'Toasted_Badger-colour.png', 'TheUnknownUsername-colour.png', 'rikarae-colour.png', 'Ardorouseyes-colour.png', 'RobVegas-bw.png', 'Fuerte1316-colour.png', 'blizzardinaugust-line.png', 'Ratkus-bw.png', 'Boobbuffet-colour.png', 'honeybri-line.png', 'bad-lemon-no-hope-colour.png', 'SarahPortrey-bw.png', '_leeza-colour.png', 'leeleechanda-bw.png', 'PharmerRob-colour.png', 'Kritter2490-colour.png', 'PolishAce-bw.png', 'Ani_Pie-line.png', 'Plastic-Is-Fantastic-line.png', 'BamaBeana-line.png', 'Nakittina-line.png', 'kollapstradixionales-colour.png', 'everythingiseeishere-line.png', 'qtpie2000-bw.png', 'Stalli0nDuck-line.png', 'JBHIV-bw.png', 'FloppyPenguin-line.png', 'VotreEsUneChaussure-bw.png', 'Morgi_-bw.png', 'JennBella-colour.png', 'RobVegas-colour.png', 'ItWillBeMine-line.png', 'Toasted_Badger-line.png', '2real4sheeple-colour.png', 'RainbowMeg-colour.png', 'Nakittina-colour.png', 'socram0906-line.png', 'fallowpliz-colour.png', 'MariaArcher-bw.png', 'xeddier-bw.png', 'Stalli0nDuck-bw.png', 'themodporcupine-bw.png', 'artymads-line.png', 'esmit438-colour.png', 'iloveariiii-bw.png', 'RedLegsRone-bw.png', 'PoseidonsTrident-bw.png', 'socram0906-colour.png', 'PenguinsGoMeow-line.png', 'may-girl-colour.png', 'everythingiseeishere-colour.png', 'Ani_Pie-colour.png', 'RainbowMeg-line.png', 'Grammatical_Aneurysm-colour.png', 'MrVonBuren-colour.png', 'jadely-colour.png', 'themodporcupine-colour.png', 'honeybri-bw.png', 'mrcoplo-bw.png', 'alwaysreigning-line.png', 'FloppyPenguin-colour.png', 'luckybunnyhop-bw.png', 'whizzo3031-line.png', 'paulccole-bw.png', 'mrcoplo-line.png', 'IWearPlaid-colour.png', 'luckybunnyhop-line.png', 'honeybri-colour.png', 'SarahPortrey-line.png', 'gross_caricature-line.png', 'alwaysreigning-colour.png', 'JustinKSU-line.png', 'ItWillBeMine-bw.png', 'poooooooooooooo0op-colour.png', 'monsoon42-bw.png', 'TheUnknownUsername-line.png', 'Morgi_-line.png', 'demonicpig-line.png', 'mrcoplo-colour.png', 'kollapstradixionales-bw.png', 'RedLegsRone-colour.png', 'ReptileLover82-line.png', 'everythingiseeishere-bw.png', 'HuggingTheJellyfish-bw.png', 'JosephHughes-bw.png', 'jadely-bw.png', 'qtpie2000-line.png', 'ItWillBeMine-colour.png', 'ReoutS-bw.png', '3_Toed_Hooker-colour.png', 'Vegglimer-line.png', 'Nattyzee3-colour.png', 'JustinKSU-colour.png', 'DropjeKim-line.png', 'babydaisy611-line.png', 'Clanker123-line.png', 'paulccole-colour.png', 'Ardorouseyes-bw.png', 'iloveariiii-colour.png', 'IAMATrainer-line.png', 'mjbatt-bw.png', 'TheDarlis-bw.png', 'Fuck1_Marry1_Kill1-line.png', 'imperfectpoppy-bw.png', 'benbrandt22-line.png', 'PoseidonsTrident-line.png', 'PenguinsGoMeow-bw.png', 'mrturdferguson-line.png', 'Ratkus-colour.png', 'startages-colour.png', 'Mooka27-colour.png', 'alwaysreigning-bw.png', 'Dinosaurlover75-bw.png', 'poooooooooooooo0op-line.png', 'taylor10529-bw.png', 'gross_caricature-colour.png', 'Stalli0nDuck-colour.png'])\n",
      "('/home/wcmckee/getsdrawndotcom/imgs/15/01/02/reference', [], ['Fuck1_Marry1_Kill1-reference.png', 'ReptileLover82-reference.png', 'Vegglimer-reference.png', 'ctmedic-reference.png', 'westendbestend-reference.png', 'startages-reference.png', 'vicbond004-reference.png', 'PolishAce-reference.png', 'qtpie2000-reference.png', 'PitbullGirl-reference.png', 'zoeypants2012-reference.png', 'ReoutS-reference.png', 'Kritter2490-reference.png', 'PharmerRob-reference.png', 'JosephHughes-reference.png', 'Boobbuffet-reference.png', 'luckybunnyhop-reference.png', 'Toasted_Badger-reference.png', 'Pipvault-reference.png', 'crobertt2-reference.png', 'xeddier-reference.png', 'Ladyloulou-reference.png', 'Plastic-Is-Fantastic-reference.png', '3_Toed_Hooker-reference.png', 'whizzo3031-reference.png', 'iloveariiii-reference.png', 'HuggingTheJellyfish-reference.png', 'honeybri-reference.png', 'mrturdferguson-reference.png', 'VotreEsUneChaussure-reference.png', 'themodporcupine-reference.png', 'DaywalkerManifesto-reference.png', 'Ardorouseyes-reference.png', 'demonicpig-reference.png', 'alwaysreigning-reference.png', 'TheUnknownUsername-reference.png', 'Joefishjones-reference.png', 'Stalli0nDuck-reference.png', 'Nakittina-reference.png', 'Grammatical_Aneurysm-reference.png', 'Morgi_-reference.png', 'Eneyek-reference.png', 'Ratkus-reference.png', 'gross_caricature-reference.png', 'poooooooooooooo0op-reference.png', 'Dinosaurlover75-reference.png', 'PenguinsGoMeow-reference.png', 'mrcoplo-reference.png', 'mad_squabbles-reference.png', 'kollapstradixionales-reference.png', 'ultimate_hedonist-reference.png', 'leeleechanda-reference.png', 'PoseidonsTrident-reference.png', 'TheDarlis-reference.png', 'mrz5000-reference.png'])\n",
      "('/home/wcmckee/getsdrawndotcom/imgs/15/01/08', ['meta', 'art', 'reference'], [])\n",
      "('/home/wcmckee/getsdrawndotcom/imgs/15/01/08/meta', [], [])\n",
      "('/home/wcmckee/getsdrawndotcom/imgs/15/01/08/art', [], [])\n",
      "('/home/wcmckee/getsdrawndotcom/imgs/15/01/08/reference', [], ['Saccam1989-reference.png', 'Badactis-reference.png', 'IAmDaleGribble-reference.png', 'moeyeska-reference.png', 'andelacin-reference.png', 'TheElusiveElephant-reference.png', 'DatBull-reference.png', 'mpbosco11-reference.png', 'x_xdoodlex_x-reference.png', 'skylarwolfe97-reference.png', 'bikepsycho-reference.png', 'rickLteresa-reference.png', 'MikeLuttmann-reference.png', '1nf1del-reference.png', 'VaginalHubris86-reference.png', 'himynameisneck-reference.png', 'rustyfingers-reference.png', 'GoForAU-reference.png', 'yayforholly-reference.png', 'justchuck1070-reference.png', 'Obtuse-harp-reference.png', 'VeritablyClean-reference.png', 'mrjb3-reference.png', 'Ashfab-reference.png', 'soapyfork-reference.png', 'Vronkuh-reference.png', 'pange6p-reference.png', 'jcastelletti-reference.png', 'yumyumyoshi-reference.png', '-happyrocker--reference.png', 'BroShow-reference.png', 'kerlypso-reference.png', 'justbrowsing90-reference.png', 'vioLynn_94-reference.png', 'des0908-reference.png', 'PerkyMaggot-reference.png', 'BuffHagen-reference.png', 'vlaura-reference.png', 'alytkitteh-reference.png', 'yanivro-reference.png', 'Sloths_and_palmtrees-reference.png', 'Fashish-reference.png', 'Eriathork-reference.png', 'Opalyoyo-reference.png', 'Skootio-reference.png', 'bgiu-reference.png', 'dangerzone133-reference.png', 'b18ch1ck-reference.png', 'curliexox-reference.png', 'paulccole-reference.png', 'Feezed-reference.png', 'jeffisageek-reference.png', 'meiows-reference.png', 'ThisGuyOnEarth-reference.png'])\n",
      "('/home/wcmckee/getsdrawndotcom/imgs/15/02', ['05', '07', '10', '09', '03', '01', '06', '04', '02', '08'], [])\n",
      "('/home/wcmckee/getsdrawndotcom/imgs/15/02/05', ['meta', 'art', 'reference'], [])\n",
      "('/home/wcmckee/getsdrawndotcom/imgs/15/02/05/meta', [], [])\n",
      "('/home/wcmckee/getsdrawndotcom/imgs/15/02/05/art', [], [])\n",
      "('/home/wcmckee/getsdrawndotcom/imgs/15/02/05/reference', [], [])\n",
      "('/home/wcmckee/getsdrawndotcom/imgs/15/02/07', ['meta', 'art', 'reference'], [])\n",
      "('/home/wcmckee/getsdrawndotcom/imgs/15/02/07/meta', [], [])\n",
      "('/home/wcmckee/getsdrawndotcom/imgs/15/02/07/art', [], [])\n",
      "('/home/wcmckee/getsdrawndotcom/imgs/15/02/07/reference', [], [])\n",
      "('/home/wcmckee/getsdrawndotcom/imgs/15/02/10', ['meta', 'art', 'reference'], [])\n",
      "('/home/wcmckee/getsdrawndotcom/imgs/15/02/10/meta', [], [])\n",
      "('/home/wcmckee/getsdrawndotcom/imgs/15/02/10/art', [], [])\n",
      "('/home/wcmckee/getsdrawndotcom/imgs/15/02/10/reference', [], [])\n",
      "('/home/wcmckee/getsdrawndotcom/imgs/15/02/09', ['meta', 'art', 'reference'], [])\n",
      "('/home/wcmckee/getsdrawndotcom/imgs/15/02/09/meta', [], [])\n",
      "('/home/wcmckee/getsdrawndotcom/imgs/15/02/09/art', [], [])\n",
      "('/home/wcmckee/getsdrawndotcom/imgs/15/02/09/reference', [], ['ShiningSpirit-reference.png', 'blewfloydthebarber-reference.png', 'Doctorboffin-reference.png', 'questinghuntress-reference.png', 'JakeTakesTheCakes-reference.png', 'Chiefpickle-reference.png', 'kitty_lover69-reference.png', 'BiscuitReadit-reference.png', 'kerlypso-reference.png', 'tomnookswaifu-reference.png', 'studio595-reference.png', 'beeskneespat-reference.png', 'darkshy-reference.png', 'Pandaslaper-reference.png', 'ruserious65433-reference.png', 'Ellby-reference.png', 'Terreras-reference.png', 'ExxZero-reference.png'])\n",
      "('/home/wcmckee/getsdrawndotcom/imgs/15/02/03', ['meta', 'art', 'reference'], [])\n",
      "('/home/wcmckee/getsdrawndotcom/imgs/15/02/03/meta', [], [])\n",
      "('/home/wcmckee/getsdrawndotcom/imgs/15/02/03/art', [], [])\n",
      "('/home/wcmckee/getsdrawndotcom/imgs/15/02/03/reference', [], [])\n",
      "('/home/wcmckee/getsdrawndotcom/imgs/15/02/01', ['meta', 'art', 'reference'], [])\n",
      "('/home/wcmckee/getsdrawndotcom/imgs/15/02/01/meta', [], [])\n",
      "('/home/wcmckee/getsdrawndotcom/imgs/15/02/01/art', [], [])\n",
      "('/home/wcmckee/getsdrawndotcom/imgs/15/02/01/reference', [], [])\n",
      "('/home/wcmckee/getsdrawndotcom/imgs/15/02/06', ['meta', 'art', 'reference'], [])\n",
      "('/home/wcmckee/getsdrawndotcom/imgs/15/02/06/meta', [], [])\n",
      "('/home/wcmckee/getsdrawndotcom/imgs/15/02/06/art', [], [])\n",
      "('/home/wcmckee/getsdrawndotcom/imgs/15/02/06/reference', [], [])\n",
      "('/home/wcmckee/getsdrawndotcom/imgs/15/02/04', ['meta', 'art', 'reference'], [])\n",
      "('/home/wcmckee/getsdrawndotcom/imgs/15/02/04/meta', [], [])\n",
      "('/home/wcmckee/getsdrawndotcom/imgs/15/02/04/art', [], [])\n",
      "('/home/wcmckee/getsdrawndotcom/imgs/15/02/04/reference', [], [])\n",
      "('/home/wcmckee/getsdrawndotcom/imgs/15/02/02', ['meta', 'art', 'reference'], [])\n",
      "('/home/wcmckee/getsdrawndotcom/imgs/15/02/02/meta', [], [])\n",
      "('/home/wcmckee/getsdrawndotcom/imgs/15/02/02/art', [], [])\n",
      "('/home/wcmckee/getsdrawndotcom/imgs/15/02/02/reference', [], [])\n",
      "('/home/wcmckee/getsdrawndotcom/imgs/15/02/08', ['meta', 'art', 'reference'], [])\n",
      "('/home/wcmckee/getsdrawndotcom/imgs/15/02/08/meta', [], [])\n",
      "('/home/wcmckee/getsdrawndotcom/imgs/15/02/08/art', [], [])\n",
      "('/home/wcmckee/getsdrawndotcom/imgs/15/02/08/reference', [], [])\n",
      "('/home/wcmckee/getsdrawndotcom/imgs/14', ['12'], [])\n",
      "('/home/wcmckee/getsdrawndotcom/imgs/14/12', ['30', '29', '20', '27', '24', '22', '25', '21', '19', '28', '26'], [])\n",
      "('/home/wcmckee/getsdrawndotcom/imgs/14/12/30', ['art', 'reference'], [])\n",
      "('/home/wcmckee/getsdrawndotcom/imgs/14/12/30/art', [], ['Serius333-bw.png', 'Zombifiedmarley-colour.png', 'urkelcet-bw.png', 'Juddde-bw.png', 'turtles317-line.png', 'Nooneknowsoreverwill-line.png', 'baddhinky-line.png', 'Snoopy_Come_Home-line.png', 'crappysurfer-colour.png', 'Snoopy_Come_Home-bw.png', 'Serius333-colour.png', 'Zombifiedmarley-line.png', 'armless_tavern-colour.png', 'ijustdonteven-line.png', 'Cobrawolf-colour.png', 'DeepVertigo-colour.png', 'idrawhands-bw.png', 'Malifous02-bw.png', 'erolson-line.png', 'baddhinky-colour.png', 'Rinteln-bw.png', 'TheNoblePoptart-colour.png', 'TheNoblePoptart-line.png', 'Cobrawolf-line.png', '_loadingconfidence-colour.png', 'bananazamboni-colour.png', 'Annabanana931-line.png', 'TheFr3shPr1nce-bw.png', 'ohitshanem-colour.png', 'FabricationOfReality-line.png', 'FabricationOfReality-bw.png', 'Cobrawolf-bw.png', 'shittymcduck-line.png', 'terssoruisareti-colour.png', 'sjf13-bw.png', 'darkshow123-line.png', 'NMHFan-colour.png', 'terssoruisareti-line.png', 'cokobunner-bw.png', 'Snoopy_Come_Home-colour.png', 'uglygerman-line.png', 'Cobaltsaber-bw.png', 'Flobex-line.png', 'catstastic13-bw.png', 'Juddde-line.png', 'Jasperthecat77-colour.png', 'ijustdonteven-bw.png', 'urkelcet-line.png', 'vembryrsig-bw.png', 'knave01-bw.png', 'Jehnay-colour.png', 'Juddde-colour.png', 'woOt5k-line.png', 'Bubberbutt123-bw.png', 'Jonboywelsh-colour.png', 'Nooneknowsoreverwill-colour.png', 'Jehnay-line.png', 'vfcascaes-bw.png', 'vfcascaes-line.png', 'ponikweGCC-colour.png', 'Lovemelovemelove-bw.png', 'Cobaltsaber-colour.png', 'catstastic13-line.png', 'heart4world-colour.png', 'Livelylock-bw.png', 'LivingElocin-bw.png', 'extremeboogyboarder-line.png', 'helloyes_iamdog-line.png', 'theblakesheep-colour.png', 'Fodgy_Div-colour.png', 'extremeboogyboarder-colour.png', 'Fodgy_Div-line.png', '2n_Jenn-colour.png', 'Malifous02-colour.png', 'helloyes_iamdog-bw.png', 'knave01-line.png', 'Lovemelovemelove-colour.png', 'adpsih-colour.png', 'jayyuchengco-line.png', 'm1racle-bw.png', 'Jehnay-bw.png', 'BendablobMinecraft-line.png', 'TheFr3shPr1nce-line.png', 'CantStandrew-colour.png', 'reversedcoconut-bw.png', 'LivingElocin-colour.png', 'turtles317-colour.png', 'adpsih-line.png', 'Dizzy_D17-line.png', 'woodieuk-line.png', 'rickysoliman-bw.png', 'ohitshanem-bw.png', 'Rinteln-line.png', 'Genrok-line.png', 'BendablobMinecraft-bw.png', 'LivingElocin-line.png', 'erolson-bw.png', 'darkshow123-colour.png', 'Jonster123-bw.png', 'Serius333-line.png', 'Bubberbutt123-colour.png', 'woodieuk-colour.png', 'NMHFan-bw.png', 'ohitshanem-line.png', 'JrodaTx-bw.png', 'cgomezmendez-line.png', 'erolson-colour.png', 'helloyes_iamdog-colour.png', 'cokobunner-line.png', 'TheSlothGeneral-bw.png', 'cgomezmendez-bw.png', 'FabricationOfReality-colour.png', 'Not_gonna-bw.png', 'urkelcet-colour.png', 'woOt5k-colour.png', 'uglygerman-bw.png', 'JuanZ05-colour.png', 'TheNoblePoptart-bw.png', 'JrodaTx-colour.png', 'Maguirrem2010-line.png', 'shittymcduck-colour.png', 'ControlOptional-line.png', 'reversedcoconut-colour.png', 'baddhinky-bw.png', 'Annabanana931-bw.png', 'rickysoliman-line.png', 'catstastic13-colour.png', 'CantStandrew-line.png', 'Bubberbutt123-line.png', 'knave01-colour.png', 'Jonster123-colour.png', 'ssluggirl-bw.png', 'Dizzy_D17-bw.png', 'extremeboogyboarder-bw.png', 'heart4world-bw.png', 'vembryrsig-colour.png', 'photohoodoo-line.png', '_loadingconfidence-bw.png', 'armless_tavern-bw.png', 'Nooneknowsoreverwill-bw.png', 'ponikweGCC-bw.png', '2n_Jenn-line.png', 'Lovemelovemelove-line.png', 'Jonboywelsh-line.png', 'KristenApol-colour.png', 'theblakesheep-bw.png', 'woodieuk-bw.png', 'idrawhands-colour.png', 'DeepVertigo-line.png', 'jayyuchengco-colour.png', 'Genrok-colour.png', 'Flobex-bw.png', 'sjf13-line.png', 'vembryrsig-line.png', 'ControlOptional-bw.png', 'terssoruisareti-bw.png', 'BendablobMinecraft-colour.png', 'Jonboywelsh-bw.png', 'cokobunner-colour.png', 'Livelylock-colour.png', 'TheFr3shPr1nce-colour.png', 'ControlOptional-colour.png', 'cgomezmendez-colour.png', 'ssluggirl-line.png', 'photohoodoo-bw.png', 'crappysurfer-line.png', 'photohoodoo-colour.png', 'Cobaltsaber-line.png', 'fppab-bw.png', 'Jonster123-line.png', 'theblakesheep-line.png', 'C08313458-line.png', 'vfcascaes-colour.png', 'adpsih-bw.png', 'Maguirrem2010-colour.png', 'bananazamboni-bw.png', 'JuanZ05-line.png', 'uglygerman-colour.png', 'KristenApol-line.png', 'bananazamboni-line.png', 'Not_gonna-colour.png', 'JrodaTx-line.png', '2n_Jenn-bw.png', 'armless_tavern-line.png', 'NMHFan-line.png', 'rickysoliman-colour.png', 'Fodgy_Div-bw.png', 'Not_gonna-line.png', 'Jasperthecat77-line.png', 'CantStandrew-bw.png', 'ssluggirl-colour.png', 'm1racle-colour.png', '_loadingconfidence-line.png', 'idrawhands-line.png', 'fppab-line.png', 'crappysurfer-bw.png', 'DeepVertigo-bw.png', 'fppab-colour.png', 'reversedcoconut-line.png', 'shittymcduck-bw.png', 'turtles317-bw.png', 'C08313458-colour.png', 'm1racle-line.png', 'TheSlothGeneral-colour.png', 'ponikweGCC-line.png', 'Genrok-bw.png', 'KristenApol-bw.png', 'darkshow123-bw.png', 'C08313458-bw.png', 'Annabanana931-colour.png', 'Jasperthecat77-bw.png', 'Livelylock-line.png', 'Flobex-colour.png', 'Rinteln-colour.png', 'jayyuchengco-bw.png', 'ijustdonteven-colour.png', 'TheSlothGeneral-line.png', 'Dizzy_D17-colour.png', 'Malifous02-line.png', 'heart4world-line.png', 'JuanZ05-bw.png', 'Maguirrem2010-bw.png', 'woOt5k-bw.png', 'sjf13-colour.png', 'Zombifiedmarley-bw.png'])\n",
      "('/home/wcmckee/getsdrawndotcom/imgs/14/12/30/reference', [], ['Zombifiedmarley-reference.png', 'JrodaTx-reference.png', 'Jehnay-reference.png', 'Cobaltsaber-reference.png', 'Jasperthecat77-reference.png', 'baddhinky-reference.png', 'terssoruisareti-reference.png', 'fppab-reference.png', 'TheSlothGeneral-reference.png', 'Lovemelovemelove-reference.png', 'ControlOptional-reference.png', 'Snoopy_Come_Home-reference.png', 'theblakesheep-reference.png', 'turtles317-reference.png', 'crappysurfer-reference.png', 'woodieuk-reference.png', 'DeepVertigo-reference.png', 'bananazamboni-reference.png', 'uglygerman-reference.png', 'Rinteln-reference.png', 'Annabanana931-reference.png', 'TheFr3shPr1nce-reference.png', 'adpsih-reference.png', 'catstastic13-reference.png', 'knave01-reference.png', 'JuanZ05-reference.png', 'Livelylock-reference.png', 'm1racle-reference.png', 'jayyuchengco-reference.png', 'reversedcoconut-reference.png', 'Serius333-reference.png', 'urkelcet-reference.png', 'CantStandrew-reference.png', 'idrawhands-reference.png', 'NMHFan-reference.png', 'BendablobMinecraft-reference.png', 'Flobex-reference.png'])\n",
      "('/home/wcmckee/getsdrawndotcom/imgs/14/12/29', ['art', 'reference'], [])\n",
      "('/home/wcmckee/getsdrawndotcom/imgs/14/12/29/art', [], ['ohdaviing-colour.png', 'Super-Trouper-colour.png', 'TheVengefulSoul-bw.png', 'mamaje-line.png', 'totoro4-line.png', 'hjhjd-bw.png', 'brand90-colour.png', 'PoppaDR3W-bw.png', 'L1KeAB0SS559-line.png', 'babydaisy611-colour.png', 'Myl094-line.png', 'dcline319-line.png', 'logathion-line.png', 'doyouwannajump-bw.png', 'trytofucus-bw.png', 'Admiral_Amsterdam-line.png', 'Princess_Consuela_-bw.png', 'coldravioli-line.png', 'nickel45-colour.png', 'mitch2-bw.png', 'gemmgenocidexxx-bw.png', 'L1KeAB0SS559-colour.png', 'raynii054-bw.png', 'Moerp-line.png', 'EightyMercury-colour.png', 'horrodrigo-colour.png', 'regthedog-bw.png', 'SkaSC2-colour.png', 'nickel45-line.png', 'DFTBEdward-colour.png', 'johnnygolightly-line.png', 'thigh_gap-colour.png', 'Snacksmith-colour.png', 'hyrulerho-line.png', 'indibee-colour.png', 'doyouwannajump-colour.png', 'Dcornelissen-colour.png', 'Duality_-bw.png', 'Duality_-colour.png', 'PoppaDR3W-line.png', 'frogginfish-bw.png', 'Izbee-bw.png', 'Reira-Yours-colour.png', 'indibee-line.png', 'GoldenC88-line.png', 'Danwinger-line.png', 'the_bklounge-line.png', 'RobTheThief-bw.png', 'dcline319-colour.png', 'SFXkitty-line.png', 'titanium0292-bw.png', 'Lo2487-line.png', 'justalright-bw.png', 'Nattyzee3-line.png', 'SkaSC2-line.png', 'jamaicanbreezy-bw.png', 'babydaisy611-bw.png', 'Duality_-line.png', 'mamaje-bw.png', 'doyouwannajump-line.png', 'aggravatedmonkey-colour.png', 'brand90-bw.png', 'Admiral_Amsterdam-bw.png', 'Nattyzee3-bw.png', 'RobTheThief-line.png', 'Lo2487-bw.png', 'walkingnat-colour.png', 'aggravatedmonkey-line.png', 'coldravioli-colour.png', 'gemmgenocidexxx-line.png', 'justalright-colour.png', 'nickel45-bw.png', 'the_bklounge-colour.png', 'johnnygolightly-colour.png', 'DropjeKim-colour.png', 'frogginfish-line.png', 'Egeste_-line.png', 'Joy2Joy-line.png', 'coldravioli-bw.png', 'Sketchie-line.png', 'jishbrun911-colour.png', 'iwillgetyoufool-line.png', 'brand90-line.png', 'EightyMercury-bw.png', 'hjhjd-line.png', 'ProZetri-colour.png', 'frogginfish-colour.png', 'paulccole-line.png', 'spankdiazz-bw.png', 'Princess_Consuela_-line.png', 'Justwrotethis-line.png', 'spankdiazz-colour.png', 'dumpasse-bw.png', 'gemmgenocidexxx-colour.png', 'Super-Trouper-line.png', 'TheVengefulSoul-colour.png', 'aggravatedmonkey-bw.png', 'RobTheThief-colour.png', 'KieraJo-colour.png', 'zeroUSA-colour.png', 'phphphphonezone-colour.png', 'zeroUSA-line.png', 'KieraJo-line.png', 'dumpasse-colour.png', 'johnnygolightly-bw.png', 'Joy2Joy-colour.png', 'TheBaldr-line.png', 'Admiral_Amsterdam-colour.png', 'spankdiazz-line.png', 'TheresAlwaysTheMoon-line.png', 'EightyMercury-line.png', 'Super-Trouper-bw.png', 'hjhjd-colour.png', 'Princess_Consuela_-colour.png', 'mitch2-line.png', 'Reira-Yours-bw.png', 'dcline319-bw.png', 'totoro4-bw.png', 'mitch2-colour.png', 'hyrulerho-colour.png', 'trytofucus-line.png', 'esmit438-line.png', 'TheVengefulSoul-line.png', 'Egeste_-bw.png', 'Izbee-line.png', 'raynii054-colour.png', 'indibee-bw.png', 'horrodrigo-line.png', 'SkaSC2-bw.png', 'thigh_gap-bw.png', 'DropjeKim-bw.png', 'raynii054-line.png', 'iwillgetyoufool-colour.png', 'thatoneasiangirl-line.png', 'GoldenC88-colour.png', 'Myl094-colour.png', 'esmit438-bw.png', 'phphphphonezone-line.png', 'margarinized_people-colour.png', 'carbonarbonoxide-line.png', 'Moerp-colour.png', 'logathion-bw.png', 'totoro4-colour.png', 'thatoneasiangirl-colour.png', 'SFXkitty-colour.png', 'DFTBEdward-line.png', 'Sketchie-colour.png', 'logathion-colour.png', 'regthedog-line.png', 'ohdaviing-bw.png', 'Reira-Yours-line.png', 'Myl094-bw.png', 'margarinized_people-line.png', 'Snacksmith-line.png', 'Moerp-bw.png', 'TheBaldr-bw.png', 'the_bklounge-bw.png', 'ProZetri-line.png', 'Izbee-colour.png', 'regthedog-colour.png', 'walkingnat-bw.png', 'ItWillBeMine-line.png', 'jamaicanbreezy-line.png', 'thatoneasiangirl-bw.png', 'horrodrigo-bw.png', 'esmit438-colour.png', 'jamaicanbreezy-colour.png', 'zeroUSA-bw.png', 'Lo2487-colour.png', 'Snacksmith-bw.png', 'TheBaldr-colour.png', 'DFTBEdward-bw.png', 'Dcornelissen-bw.png', 'Danwinger-colour.png', 'Joy2Joy-bw.png', 'ohdaviing-line.png', 'esiedlecki-bw.png', 'KieraJo-bw.png', 'paulccole-bw.png', 'phphphphonezone-bw.png', 'trytofucus-colour.png', 'mamaje-colour.png', 'PoppaDR3W-colour.png', 'ItWillBeMine-bw.png', 'Dcornelissen-line.png', 'ProZetri-bw.png', 'thigh_gap-line.png', 'esiedlecki-line.png', 'esiedlecki-colour.png', 'titanium0292-colour.png', 'SFXkitty-bw.png', 'dumpasse-line.png', 'TheresAlwaysTheMoon-colour.png', 'justalright-line.png', 'iwillgetyoufool-bw.png', 'jishbrun911-bw.png', 'ItWillBeMine-colour.png', 'hyrulerho-bw.png', 'carbonarbonoxide-colour.png', 'titanium0292-line.png', 'Nattyzee3-colour.png', 'GoldenC88-bw.png', 'carbonarbonoxide-bw.png', 'DropjeKim-line.png', 'babydaisy611-line.png', 'paulccole-colour.png', 'walkingnat-line.png', 'jishbrun911-line.png', 'TheresAlwaysTheMoon-bw.png', 'Danwinger-bw.png', 'Justwrotethis-colour.png', 'L1KeAB0SS559-bw.png', 'margarinized_people-bw.png', 'Sketchie-bw.png', 'Egeste_-colour.png', 'Justwrotethis-bw.png'])\n",
      "('/home/wcmckee/getsdrawndotcom/imgs/14/12/29/reference', [], ['TheVengefulSoul-reference.png', 'indibee-reference.png', 'doyouwannajump-reference.png', 'Egeste_-reference.png', 'Joy2Joy-reference.png', 'titanium0292-reference.png', 'L1KeAB0SS559-reference.png', 'aggravatedmonkey-reference.png', 'thigh_gap-reference.png', 'iwillgetyoufool-reference.png', 'trytofucus-reference.png', 'Admiral_Amsterdam-reference.png', 'Princess_Consuela_-reference.png', 'SkaSC2-reference.png', 'DFTBEdward-reference.png', 'johnnygolightly-reference.png', 'Sketchie-reference.png', 'KieraJo-reference.png', 'GoldenC88-reference.png', 'Dcornelissen-reference.png', 'esiedlecki-reference.png', 'Super-Trouper-reference.png', 'jishbrun911-reference.png', 'hjhjd-reference.png', 'nickel45-reference.png', 'logathion-reference.png', 'EightyMercury-reference.png', 'Moerp-reference.png', 'Izbee-reference.png', 'the_bklounge-reference.png', 'Reira-Yours-reference.png', 'frogginfish-reference.png', 'Duality_-reference.png', 'RobTheThief-reference.png', 'hyrulerho-reference.png', 'TheresAlwaysTheMoon-reference.png'])\n",
      "('/home/wcmckee/getsdrawndotcom/imgs/14/12/20', ['art', 'reference'], ['RileyByrdie-colour.png', 'dannydeforest-colour.png', 'lockandkey23-colour.png', 'greengal500-colour.png', 'TTG_Zebra_Donkey-reference.png', 'Cfar1994-bw.png', 'gowronatemybaby7-colour.png', 'kayleemarie4386-line.png', 'HoustonSoda2-line.png', 'gvallance-line.png', 'Redchubs-reference.png', 'briba-line.png', 'EPICsandwich225-bw.png', 'makebelievepoet-colour.png', 'rj198706-line.png', 'lockandkey23-bw.png', 'Qaasm-bw.png', 'Redchubs-colour.png', 'HoustonSoda2-reference.png', 'ilzdog-bw.png', 'anatomicallystuffed-bw.png', 'buttonsthegreat-colour.png', 'rj198706-colour.png', 'Thepinkcursader-colour.png', 'PetrichorEnigma-colour.png', 'dannydeforest-line.png', 'Qaasm-colour.png', 'sundaylou-colour.png', 'greengal500-bw.png', 'sundaylou-reference.png', 'deb029-bw.png', 'Redchubs-line.png', 'DoctorCrouchJrWho-colour.png', 'DeuceIsWild-bw.png', 'RainyWeathers-reference.png', 'elcielo17-reference.png', 'TTG_Zebra_Donkey-colour.png', 'deb029-colour.png', 'DoctorCrouchJrWho-line.png', 'buttonsthegreat-bw.png', 'gvallance-colour.png', 'Joefishjones-bw.png', 'guurrllgetit-line.png', 'PetrichorEnigma-bw.png', 'Slay3rKenzie-bw.png', 'TTG_Zebra_Donkey-line.png', 'vicbond004-colour.png', 'RileyByrdie-line.png', 'davidisabeersnob-bw.png', 'RileyByrdie-bw.png', 'makebelievepoet-bw.png', 'ilzdog-reference.png', 'HoustonSoda2-bw.png', 'Slay3rKenzie-colour.png', 'tildeathdowe-bw.png', 'jpesmeraldo-bw.png', 'rh0xx0rpwn3r98-colour.png', 'RainyWeathers-colour.png', 'dr0ffig-bw.png', 'ChrisTaliaferro-reference.png', 'paulccole-line.png', 'ilzdog-line.png', 'davidisabeersnob-colour.png', 'jenniferjulieann-line.png', 'butchyjohnson-colour.png', 'chet_lemon_party-line.png', 'Joefishjones-line.png', 'vicbond004-bw.png', 'Kmo78-bw.png', 'davidisabeersnob-line.png', 'kayleemarie4386-bw.png', 'gvallance-bw.png', 'Mycatisafatty-colour.png', 'PetrichorEnigma-line.png', 'Joefishjones-colour.png', 'deb029-line.png', 'TTG_Zebra_Donkey-bw.png', 'Tjalle60-reference.png', 'vicbond004-line.png', 'guurrllgetit-colour.png', 'Tjalle60-colour.png', 'anatomicallystuffed-colour.png', 'Kmo78-colour.png', 'rh0xx0rpwn3r98-bw.png', 'esmit438-line.png', 'Bdubsss-line.png', 'RainyWeathers-line.png', 'jenniferjulieann-bw.png', 'briba-bw.png', 'dr0ffig-line.png', 'jaymenicole13-colour.png', 'img.png', 'Cfar1994-reference.png', 'chet_lemon_party-bw.png', 'esmit438-bw.png', 'Slay3rKenzie-line.png', 'CaptainReallyNigga-line.png', 'sundaylou-line.png', 'kayleemarie4386-colour.png', 'lockandkey23-line.png', 'gowronatemybaby7-line.png', 'Redchubs-bw.png', 'DoctorCrouchJrWho-bw.png', 'Kmo78-line.png', 'makebelievepoet-line.png', 'HoustonSoda2-colour.png', 'pokewneedle-reference.png', 'Bdubsss-colour.png', 'butchyjohnson-bw.png', 'Qaasm-line.png', 'Thepinkcursader-bw.png', 'ItWillBeMine-line.png', 'tildeathdowe-colour.png', 'CaptainReallyNigga-colour.png', 'greengal500-line.png', 'EPICsandwich225-line.png', 'CaptainReallyNigga-bw.png', 'ChrisTaliaferro-line.png', 'Mycatisafatty-line.png', 'ilzdog-colour.png', 'briba-colour.png', 'esmit438-colour.png', 'buttonsthegreat-line.png', 'Tjalle60-bw.png', 'Cfar1994-line.png', 'rh0xx0rpwn3r98-line.png', 'pokewneedle-colour.png', 'Bdubsss-bw.png', 'jaymenicole13-line.png', 'ChrisTaliaferro-colour.png', 'gowronatemybaby7-bw.png', 'butchyjohnson-line.png', 'paulccole-bw.png', 'DeuceIsWild-colour.png', 'guurrllgetit-bw.png', 'chet_lemon_party-colour.png', 'RainyWeathers-bw.png', 'ItWillBeMine-bw.png', 'ChrisTaliaferro-bw.png', 'rj198706-bw.png', 'elcielo17-colour.png', 'jaymenicole13-bw.png', 'anatomicallystuffed-line.png', 'pokewneedle-bw.png', 'jpesmeraldo-line.png', 'dannydeforest-bw.png', 'makebelievepoet-reference.png', 'jenniferjulieann-colour.png', 'ItWillBeMine-colour.png', 'pokewneedle-line.png', 'Thepinkcursader-line.png', 'EPICsandwich225-colour.png', 'paulccole-colour.png', 'Tjalle60-line.png', 'jpesmeraldo-colour.png', 'dr0ffig-colour.png', 'Mycatisafatty-bw.png', 'DeuceIsWild-line.png', 'Cfar1994-colour.png', 'sundaylou-bw.png', 'tildeathdowe-line.png', 'elcielo17-line.png', 'elcielo17-bw.png'])\n",
      "('/home/wcmckee/getsdrawndotcom/imgs/14/12/20/art', [], ['dannydeforest-colour.png', 'greengal500-colour.png', 'Cfar1994-bw.png', 'kayleemarie4386-line.png', 'chevyb-colour.png', 'faucheleventt-bw.png', 'HoustonSoda2-line.png', 'socialstatus-line.png', 'iamhippie-line.png', 'Stupidrhino-line.png', 'thetruehank-bw.png', 'OneTonneUnit-bw.png', 'EPICsandwich225-bw.png', 'excalibur5033-colour.png', 'faucheleventt-line.png', 'makebelievepoet-colour.png', 'Lilmarley72-line.png', 'KeithB12-bw.png', 'alien_skillz-line.png', 'Livyathan-bw.png', 'uojake-line.png', 'Qaasm-bw.png', 'nerveboy-colour.png', 'anatomicallystuffed-bw.png', 'buttonsthegreat-colour.png', 'Lilmarley72-bw.png', 'shellshearer-bw.png', 'Thepinkcursader-colour.png', 'RaymondGold-colour.png', 'AwesomePahsome-bw.png', 'dannydeforest-line.png', 'CatastrophicMeiosis-line.png', 'Qaasm-colour.png', 'monsoon42-colour.png', 'sklorum-bw.png', 'greengal500-bw.png', 'excalibur5033-bw.png', 'DoctorCrouchJrWho-colour.png', 'DJPez913-colour.png', 'thetruehank-line.png', 'TTG_Zebra_Donkey-colour.png', 'socialstatus-bw.png', 'Livyathan-colour.png', 'Stupidrhino-colour.png', 'DoctorCrouchJrWho-line.png', 'buttonsthegreat-bw.png', 'BadPokemonChoice-colour.png', 'Brainkissed-bw.png', 'Joefishjones-bw.png', 'guurrllgetit-line.png', 'becheve-line.png', 'BadPokemonChoice-bw.png', 'sherwood_bosco-bw.png', 'metal_lover1012-line.png', 'VotreEsUneChaussure-colour.png', 'TTG_Zebra_Donkey-line.png', 'CatastrophicMeiosis-colour.png', 'OneTonneUnit-colour.png', 'Ivytortoise-colour.png', 'sherwood_bosco-colour.png', 'DJPez913-bw.png', 'Megalodon1740-colour.png', 'RaymondGold-bw.png', 'makebelievepoet-bw.png', 'ZeusThunderClap-colour.png', 'upflupchuckfck-bw.png', 'autumnwolfmoon89-line.png', 'OaklandWarrior-bw.png', 'HoustonSoda2-bw.png', 'upflupchuckfck-line.png', 'rh0xx0rpwn3r98-colour.png', 'shellshearer-colour.png', 'airbrush_wizard-bw.png', 'RainyWeathers-colour.png', 'Ahbarbs-colour.png', 'Joefishjones-line.png', 'demalition90-colour.png', 'OneTonneUnit-line.png', 'Vitaliator-bw.png', 'Megalodon1740-bw.png', 'kayleemarie4386-bw.png', 'Mycatisafatty-colour.png', 'autumnwolfmoon89-colour.png', 'sklorum-colour.png', 'Devinsanders-bw.png', 'Ivytortoise-line.png', 'Joefishjones-colour.png', 'kkasket-line.png', 'Brainkissed-colour.png', 'jpcassil-bw.png', 'izzels-line.png', 'TTG_Zebra_Donkey-bw.png', 'DJPez913-line.png', 'airbrush_wizard-colour.png', 'guurrllgetit-colour.png', 'monsoon42-line.png', 'Tjalle60-colour.png', 'anatomicallystuffed-colour.png', 'AwesomePahsome-colour.png', 'rh0xx0rpwn3r98-bw.png', 'uojake-colour.png', 'kkasket-colour.png', 'alien_skillz-bw.png', 'demalition90-line.png', 'Brainkissed-line.png', 'drawingthrowway-line.png', 'VotreEsUneChaussure-line.png', 'lockness-monster-colour.png', 'sherwood_bosco-line.png', 'esmit438-line.png', 'Lilmarley72-colour.png', 'lockness-monster-bw.png', 'chevyb-bw.png', 'alien_skillz-colour.png', 'sueb0t-line.png', 'RainyWeathers-line.png', 'AwesomePahsome-line.png', 'nerveboy-line.png', '3littlebirds3-line.png', 'jaymenicole13-colour.png', 'jpcassil-colour.png', 'esmit438-bw.png', 'Stone_Cold_Faux-colour.png', 'Stone_Cold_Faux-bw.png', 'drawingthrowway-colour.png', 'uojake-bw.png', 'kayleemarie4386-colour.png', 'lockness-monster-line.png', 'ZeusThunderClap-bw.png', 'Ivytortoise-bw.png', 'becheve-colour.png', 'BadPokemonChoice-line.png', '3littlebirds3-colour.png', 'ashleemanson-bw.png', 'DoctorCrouchJrWho-bw.png', 'ashleemanson-colour.png', 'izzels-colour.png', 'sueb0t-bw.png', 'quahery-colour.png', 'metal_lover1012-colour.png', 'makebelievepoet-line.png', 'HoustonSoda2-colour.png', 'Devinsanders-line.png', 'OaklandWarrior-colour.png', 'quahery-bw.png', 'VotreEsUneChaussure-bw.png', 'ashleemanson-line.png', 'Qaasm-line.png', 'Thepinkcursader-bw.png', 'ItWillBeMine-line.png', 'airbrush_wizard-line.png', 'jpcassil-line.png', 'Livyathan-line.png', 'shellshearer-line.png', 'greengal500-line.png', 'EPICsandwich225-line.png', 'ChrisTaliaferro-line.png', 'Mycatisafatty-line.png', '3littlebirds3-bw.png', 'quahery-line.png', 'esmit438-colour.png', 'Ahbarbs-bw.png', 'SlamTheSalmon-bw.png', 'buttonsthegreat-line.png', 'chevyb-line.png', 'SlamTheSalmon-line.png', 'Tjalle60-bw.png', 'Megalodon1740-line.png', 'autumnwolfmoon89-bw.png', 'upflupchuckfck-colour.png', 'iamhippie-bw.png', 'Cfar1994-line.png', 'rh0xx0rpwn3r98-line.png', 'pokewneedle-colour.png', 'midnight1214-line.png', 'jaymenicole13-line.png', 'Vitaliator-line.png', 'ChrisTaliaferro-colour.png', 'Vitaliator-colour.png', 'midnight1214-bw.png', 'becheve-bw.png', 'OaklandWarrior-line.png', 'faucheleventt-colour.png', 'guurrllgetit-bw.png', 'Stupidrhino-bw.png', 'thetruehank-colour.png', 'RainyWeathers-bw.png', 'ItWillBeMine-bw.png', 'ChrisTaliaferro-bw.png', 'elcielo17-colour.png', 'jaymenicole13-bw.png', 'sueb0t-colour.png', 'anatomicallystuffed-line.png', 'pokewneedle-bw.png', 'monsoon42-bw.png', 'sklorum-line.png', 'dannydeforest-bw.png', 'kkasket-bw.png', 'KeithB12-line.png', 'socialstatus-colour.png', 'demalition90-bw.png', 'iamhippie-colour.png', 'ItWillBeMine-colour.png', 'nerveboy-bw.png', 'pokewneedle-line.png', 'izzels-bw.png', 'Thepinkcursader-line.png', 'Devinsanders-colour.png', 'EPICsandwich225-colour.png', 'Ahbarbs-line.png', 'Stone_Cold_Faux-line.png', 'Tjalle60-line.png', 'SlamTheSalmon-colour.png', 'midnight1214-colour.png', 'RaymondGold-line.png', 'excalibur5033-line.png', 'CatastrophicMeiosis-bw.png', 'Mycatisafatty-bw.png', 'Cfar1994-colour.png', 'KeithB12-colour.png', 'metal_lover1012-bw.png', 'drawingthrowway-bw.png', 'ZeusThunderClap-line.png', 'elcielo17-line.png', 'elcielo17-bw.png'])\n",
      "('/home/wcmckee/getsdrawndotcom/imgs/14/12/20/reference', [], ['TTG_Zebra_Donkey-reference.png', 'metal_lover1012-reference.png', 'HoustonSoda2-reference.png', 'AwesomePahsome-reference.png', 'BadPokemonChoice-reference.png', 'RainyWeathers-reference.png', 'OaklandWarrior-reference.png', 'elcielo17-reference.png', 'lockness-monster-reference.png', 'uojake-reference.png', 'autumnwolfmoon89-reference.png', 'airbrush_wizard-reference.png', 'ChrisTaliaferro-reference.png', 'socialstatus-reference.png', 'Stupidrhino-reference.png', 'VotreEsUneChaussure-reference.png', 'Tjalle60-reference.png', 'Devinsanders-reference.png', 'OneTonneUnit-reference.png', 'DJPez913-reference.png', 'Livyathan-reference.png', '3littlebirds3-reference.png', 'KeithB12-reference.png', 'Megalodon1740-reference.png', 'Cfar1994-reference.png', 'sueb0t-reference.png', 'pokewneedle-reference.png', 'becheve-reference.png', 'SlamTheSalmon-reference.png', 'makebelievepoet-reference.png', 'kkasket-reference.png'])\n",
      "('/home/wcmckee/getsdrawndotcom/imgs/14/12/27', ['art', 'reference'], [])\n",
      "('/home/wcmckee/getsdrawndotcom/imgs/14/12/27/art', [], ['deadstump-colour.png', 'echolimamike-colour.png', 'donteatbandaids-bw.png', 'vikeesi-bw.png', 'nattykin-bw.png', 'Trutte-colour.png', 'NachoFresard-bw.png', 'oliverdrab-line.png', 'Muchoblue-line.png', 'FRIENDLY_RETARD-bw.png', 'catman_luo-bw.png', 'WellBangOkay-bw.png', 'NachoFresard-colour.png', 'cash-only-line.png', 'EwoksAreAwesome-bw.png', 'Duyzbomb-colour.png', 'lightsallfade-line.png', 'WellBangOkay-colour.png', 'WellBangOkay-line.png', 'patorjk---colour.png', 'Muchoblue-bw.png', 'ericpeterson80-line.png', 'DiabolicalDee-line.png', 'minefat-colour.png', 'lightsallfade-colour.png', 'patorjk---line.png', 'vikeesi-colour.png', 'FRIENDLY_RETARD-line.png', 'lywasa-line.png', 'donteatbandaids-colour.png', 'ShaniceB-line.png', 'oblivious1-line.png', 'Duyzbomb-line.png', 'GIMME_BACK_MY_SON-colour.png', 'zavtraleto-line.png', 'poop_dyck-bw.png', 'lightsallfade-bw.png', 'poop_dyck-colour.png', 'DiabolicalDee-colour.png', 'Dexterdogdad-line.png', 'Dexterdogdad-bw.png', 'Livelylock-bw.png', 'GIMME_BACK_MY_SON-bw.png', 'ericpeterson80-colour.png', 'deadstump-bw.png', 'ClaudiainCLE-line.png', 'cash-only-colour.png', 'sherwood_bosco-bw.png', 'zavtraleto-colour.png', 'DiabolicalDee-bw.png', 'MatticusCrispy-bw.png', 'Muchoblue-colour.png', 'thetruefrozn-bw.png', 'Hot_Wasabi_Peas-line.png', 'vikeesi-line.png', 'sherwood_bosco-colour.png', 'jordanmpls-line.png', 'poop_dyck-line.png', 'purplesundaes-bw.png', 'Genrok-line.png', 'Boom_87-line.png', '94Productions-bw.png', 'purplesundaes-line.png', 'patorjk---bw.png', 'ClaudiainCLE-bw.png', 'ShaniceB-bw.png', 'Boom_87-bw.png', 'jordanmpls-bw.png', 'zavtraleto-bw.png', 'ShaniceB-colour.png', 'FRIENDLY_RETARD-colour.png', 'thetruefrozn-line.png', 'oliverdrab-colour.png', 'ericpeterson80-bw.png', 'brunogonzaga-bw.png', 'pwningod-bw.png', 'minefat-bw.png', 'purplesundaes-colour.png', 'Trutte-line.png', 'sherwood_bosco-line.png', 'NachoFresard-line.png', 'Hot_Wasabi_Peas-colour.png', 'oliverdrab-bw.png', 'liaannalynne-bw.png', 'Hot_Wasabi_Peas-bw.png', 'BagelGirl27-bw.png', 'Adroit-Tellurian-bw.png', 'DarkmanBeyond-colour.png', 'donteatbandaids-line.png', 'thetruefrozn-colour.png', 'brunogonzaga-line.png', 'Dexterdogdad-colour.png', 'liaannalynne-colour.png', 'Genrok-colour.png', 'EwoksAreAwesome-colour.png', 'nattykin-line.png', 'MatticusCrispy-line.png', 'pwningod-colour.png', 'oblivious1-colour.png', 'PixyStickFeind-bw.png', 'Livelylock-colour.png', 'lywasa-bw.png', 'brunogonzaga-colour.png', 'Boom_87-colour.png', 'EwoksAreAwesome-line.png', 'BagelGirl27-line.png', 'ClaudiainCLE-colour.png', 'PixyStickFeind-colour.png', 'deadstump-line.png', 'BagelGirl27-colour.png', 'robase81-line.png', 'CopperViking-line.png', 'CopperViking-colour.png', 'Gvernon-colour.png', 'Adroit-Tellurian-line.png', 'echolimamike-bw.png', '94Productions-line.png', 'Trutte-bw.png', 'cash-only-bw.png', 'pwningod-line.png', 'oblivious1-bw.png', 'Adroit-Tellurian-colour.png', 'nattykin-colour.png', 'catman_luo-line.png', 'LaceAndVinegar-line.png', 'LaceAndVinegar-bw.png', 'PixyStickFeind-line.png', 'jordanmpls-colour.png', 'Gvernon-bw.png', 'liaannalynne-line.png', 'lywasa-colour.png', 'Genrok-bw.png', '94Productions-colour.png', 'CopperViking-bw.png', 'GCFTHAT-line.png', 'minefat-line.png', 'Livelylock-line.png', 'GCFTHAT-colour.png', 'GIMME_BACK_MY_SON-line.png', 'LaceAndVinegar-colour.png', 'GCFTHAT-bw.png', 'Gvernon-line.png', 'echolimamike-line.png', 'DarkmanBeyond-line.png', 'DarkmanBeyond-bw.png', 'robase81-colour.png', 'Duyzbomb-bw.png', 'MatticusCrispy-colour.png', 'catman_luo-colour.png', 'robase81-bw.png'])\n",
      "('/home/wcmckee/getsdrawndotcom/imgs/14/12/27/reference', [], ['NachoFresard-reference.png', '94Productions-reference.png', 'patorjk---reference.png', 'nattykin-reference.png', 'Hot_Wasabi_Peas-reference.png', 'catman_luo-reference.png', 'GCFTHAT-reference.png', 'DiabolicalDee-reference.png', 'WellBangOkay-reference.png', 'ShaniceB-reference.png', 'MatticusCrispy-reference.png', 'donteatbandaids-reference.png', 'BagelGirl27-reference.png', 'pwningod-reference.png', 'minefat-reference.png', 'oliverdrab-reference.png', 'FRIENDLY_RETARD-reference.png', 'Duyzbomb-reference.png', 'Gvernon-reference.png', 'Livelylock-reference.png', 'thetruefrozn-reference.png', 'Genrok-reference.png', 'CopperViking-reference.png', 'poop_dyck-reference.png', 'lywasa-reference.png', 'Boom_87-reference.png', 'vikeesi-reference.png', 'purplesundaes-reference.png', 'lightsallfade-reference.png'])\n",
      "('/home/wcmckee/getsdrawndotcom/imgs/14/12/24', ['art', 'reference'], [])\n",
      "('/home/wcmckee/getsdrawndotcom/imgs/14/12/24/art', [], ['ChronicConner-bw.png', 'Astriii-bw.png', 'e6c-line.png', 'Jack2473-line.png', 'austindaley-line.png', 'Nataliej23-colour.png', 'Magicninja7-line.png', 'Rinteln-bw.png', 'Alibear-line.png', 'austindaley-bw.png', 'saxshaf-bw.png', 'shadowsgrimm-bw.png', 'raging_aphrodite-bw.png', 'iriefuse024-bw.png', 'evboat-colour.png', 'MyNameIs_Jordan-colour.png', 'PLUSsignenergy-bw.png', 'fwfww-line.png', 'Nataliej23-bw.png', 'wootkatiee-bw.png', 'Daikeong-line.png', 'uncleputts-bw.png', 'delpaint-colour.png', 'smariroach-colour.png', 'patchybeard2014-bw.png', 'I_cant_draw_-line.png', 'loran2134-line.png', 'bambrosephoto-line.png', 'r0ryfromNY-colour.png', 'delgadoalex95-line.png', 'fwfww-bw.png', 'Jabald69-colour.png', 'shadowsgrimm-colour.png', 'smariroach-bw.png', 'evboat-bw.png', 'Jack2473-colour.png', 'N-Depths-line.png', 'Katykins27-colour.png', 'max879-line.png', 'Bearah27-line.png', 'blueturkeymoon-line.png', 'ilikebloo-line.png', 'ChimpMagnet-colour.png', 'krum6678-bw.png', 'rebeccac-line.png', 'saxshaf-line.png', 'delgadoalex95-bw.png', 'Bearah27-colour.png', 'loran2134-bw.png', 'raging_aphrodite-colour.png', 'oblikious-colour.png', 'Nataliej23-line.png', 'dethmoff12-line.png', 'ChimpMagnet-bw.png', 'bluesuedecreep-bw.png', 'MyNameIs_Jordan-bw.png', 'greenmonsterzarg-bw.png', 'Rinteln-line.png', 'iriefuse024-line.png', 'N-Depths-bw.png', 'I_cant_draw_-colour.png', 'delgadoalex95-colour.png', 'imperfectpoppy-line.png', 'paulccole-line.png', 'Bearah27-bw.png', 'dethmoff12-bw.png', 'evboat-line.png', 'uncleputts-line.png', 'shadowsgrimm-line.png', 'e6c-bw.png', 'oblikious-line.png', 'r0ryfromNY-bw.png', 'r0ryfromNY-line.png', 'krum6678-line.png', 'Cheezdoodlekid-bw.png', 'krum6678-colour.png', 'delpaint-line.png', 'N-Depths-colour.png', 'rebeccac-bw.png', 'Maguirrem2010-line.png', 'max879-colour.png', 'bambrosephoto-colour.png', 'oblikious-bw.png', 'Magicninja7-colour.png', 'smariroach-line.png', 'Hotelcalie-colour.png', 'ChimpMagnet-line.png', 'imperfectpoppy-colour.png', 'iriefuse024-colour.png', 'patchybeard2014-colour.png', 'Jabald69-line.png', 'Katykins27-bw.png', 'raging_aphrodite-line.png', 'PLUSsignenergy-colour.png', 'uncleputts-colour.png', 'ChronicConner-line.png', 'blueturkeymoon-colour.png', 'Katykins27-line.png', 'greenmonsterzarg-colour.png', 'bluesuedecreep-colour.png', 'Jack2473-bw.png', 'quahery-colour.png', 'ilikebloo-colour.png', 'quahery-bw.png', 'Jabald69-bw.png', 'bambrosephoto-bw.png', 'greenmonsterzarg-line.png', 'dethmoff12-colour.png', 'PLUSsignenergy-line.png', 'Cheezdoodlekid-line.png', 'ItWillBeMine-line.png', 'Maguirrem2010-colour.png', 'quahery-line.png', 'loran2134-colour.png', 'Daikeong-bw.png', 'patchybeard2014-line.png', 'Astriii-colour.png', 'wootkatiee-line.png', 'wootkatiee-colour.png', 'MyNameIs_Jordan-line.png', 'Thumpar-bw.png', 'blueturkeymoon-bw.png', 'Hotelcalie-line.png', 'paulccole-bw.png', 'max879-bw.png', 'bluesuedecreep-line.png', 'Hotelcalie-bw.png', 'austindaley-colour.png', 'Thumpar-colour.png', 'saxshaf-colour.png', 'ChronicConner-colour.png', 'I_cant_draw_-bw.png', 'ItWillBeMine-bw.png', 'fwfww-colour.png', 'Magicninja7-bw.png', 'Thumpar-line.png', 'delpaint-bw.png', 'e6c-colour.png', 'ItWillBeMine-colour.png', 'Alibear-bw.png', 'Cheezdoodlekid-colour.png', 'Astriii-line.png', 'paulccole-colour.png', 'ilikebloo-bw.png', 'Rinteln-colour.png', 'imperfectpoppy-bw.png', 'Daikeong-colour.png', 'Alibear-colour.png', 'Maguirrem2010-bw.png', 'rebeccac-colour.png'])\n",
      "('/home/wcmckee/getsdrawndotcom/imgs/14/12/24/reference', [], ['smariroach-reference.png', 'wootkatiee-reference.png', 'Astriii-reference.png', 'Hotelcalie-reference.png', 'ChimpMagnet-reference.png', 'bambrosephoto-reference.png', 'MyNameIs_Jordan-reference.png', 'dethmoff12-reference.png', 'Rinteln-reference.png', 'blueturkeymoon-reference.png', 'delpaint-reference.png', 'rebeccac-reference.png', 'ilikebloo-reference.png', 'Alibear-reference.png', 'shadowsgrimm-reference.png', 'Katykins27-reference.png', 'Jabald69-reference.png', 'ChronicConner-reference.png', 'oblikious-reference.png', 'fwfww-reference.png', 'delgadoalex95-reference.png'])\n",
      "('/home/wcmckee/getsdrawndotcom/imgs/14/12/22', ['art', 'reference'], [])\n",
      "('/home/wcmckee/getsdrawndotcom/imgs/14/12/22/art', [], ['bklightshow-colour.png', 'pyxis-colour.png', 'garythecoconut-line.png', 'TriumphAndTragedy-bw.png', 'down_R_up_L_Y_B-bw.png', 'FFBarton-colour.png', 'MegantheMomma-bw.png', 'sigurdboe-line.png', 'k1rby33-colour.png', 'EvelinLy-line.png', 'katiemiker-bw.png', 'dphilosaurus-line.png', 'just_some_math_major-colour.png', 'AlexTJones-colour.png', 'EvelinLy-colour.png', 'xsarahwhitex-line.png', 'MegantheMomma-colour.png', 'thacker222-bw.png', 'fatblacklines-colour.png', 'xsarahwhitex-colour.png', 'TriumphAndTragedy-colour.png', 'daoriginalchef-line.png', 'bklightshow-bw.png', 'flowersandstuff-colour.png', 'cupcakewin-colour.png', 'emz98-bw.png', 'thacker222-colour.png', 'flowersandstuff-bw.png', 'flowersandstuff-line.png', 'JukeLord-line.png', 'daoriginalchef-colour.png', 'lbuiatti-line.png', 'IanThePanda-colour.png', 'MachReverb-colour.png', 'thacker222-line.png', 'iamnosaj-colour.png', 'lbuiatti-bw.png', 'TriumphAndTragedy-line.png', 'seven_wings-colour.png', 'iamnosaj-line.png', 'cupcakewin-line.png', 'scubaforlife-bw.png', 'unicornsodapants-line.png', 'Tenacskills-colour.png', 'PICKLED_KITTENS-bw.png', 'PICKLED_KITTENS-line.png', 'jordanmpls-line.png', 'chris_mt-line.png', 'fatblacklines-line.png', 'IanThePanda-bw.png', 'Autrel-line.png', 'dphilosaurus-bw.png', 'DragonMeme-bw.png', 'PotatoesAndPancakes-line.png', 'DISCSnDOGS-bw.png', 'cupcakewin-bw.png', 'emz98-line.png', 'EvelinLy-bw.png', 'HeyWudJeBlowMe-bw.png', 'joybrd-bw.png', 'lol-god-bw.png', 'down_R_up_L_Y_B-colour.png', 'imperfectpoppy-line.png', 'seven_wings-line.png', 'pyxis-bw.png', 'jordanmpls-bw.png', 'scubaforlife-line.png', 'doyouknowwatiamsayin-bw.png', 'HeyWudJeBlowMe-line.png', 'Tenacskills-bw.png', 'katiemiker-line.png', 'bklightshow-line.png', 'PICKLED_KITTENS-colour.png', 'emz98-colour.png', 'MegantheMomma-line.png', 'joybrd-line.png', 'FFBarton-bw.png', 'AlexTJones-line.png', 'garythecoconut-bw.png', 'doyouknowwatiamsayin-colour.png', 'FFBarton-line.png', 'DragonMeme-line.png', 'joybrd-colour.png', 'daoriginalchef-bw.png', 'just_some_math_major-line.png', 'fatblacklines-bw.png', 'imperfectpoppy-colour.png', 'unicornsodapants-colour.png', 'ptrkhggns-bw.png', 'Autrel-colour.png', 'IanThePanda-line.png', 'down_R_up_L_Y_B-line.png', 'seven_wings-bw.png', 'justchuck1070-bw.png', 'hunterlew28-bw.png', 'hunterlew28-colour.png', 'PotatoesAndPancakes-bw.png', 'hunterlew28-line.png', 'MachReverb-line.png', 'lbuiatti-colour.png', 'DISCSnDOGS-line.png', 'just_some_math_major-bw.png', 'k1rby33-line.png', 'chris_mt-colour.png', 'Autrel-bw.png', 'ItWillBeMine-line.png', 'sigurdboe-bw.png', 'k1rby33-bw.png', 'ezzypezzy-line.png', 'HeyWudJeBlowMe-colour.png', 'MachReverb-bw.png', 'AlexTJones-bw.png', 'lol-god-line.png', 'JukeLord-bw.png', 'chris_mt-bw.png', 'DISCSnDOGS-colour.png', 'doyouknowwatiamsayin-line.png', 'sigurdboe-colour.png', 'iamnosaj-bw.png', 'katiemiker-colour.png', 'scubaforlife-colour.png', 'ptrkhggns-line.png', 'jordanmpls-colour.png', 'sequihua-line.png', 'DragonMeme-colour.png', 'ItWillBeMine-bw.png', 'elcielo17-colour.png', 'dphilosaurus-colour.png', 'xsarahwhitex-bw.png', 'ptrkhggns-colour.png', 'sequihua-bw.png', 'justchuck1070-line.png', 'justchuck1070-colour.png', 'PotatoesAndPancakes-colour.png', 'Travellinround-colour.png', 'ItWillBeMine-colour.png', 'Travellinround-line.png', 'ezzypezzy-colour.png', 'lol-god-colour.png', 'imperfectpoppy-bw.png', 'Tenacskills-line.png', 'pyxis-line.png', 'Travellinround-bw.png', 'ezzypezzy-bw.png', 'unicornsodapants-bw.png', 'JukeLord-colour.png', 'garythecoconut-colour.png', 'elcielo17-line.png', 'sequihua-colour.png', 'elcielo17-bw.png'])\n",
      "('/home/wcmckee/getsdrawndotcom/imgs/14/12/22/reference', [], ['seven_wings-reference.png', 'down_R_up_L_Y_B-reference.png', 'DragonMeme-reference.png', 'sequihua-reference.png', 'elcielo17-reference.png', 'MachReverb-reference.png', 'justchuck1070-reference.png', 'sigurdboe-reference.png', 'joybrd-reference.png', 'AlexTJones-reference.png', 'cupcakewin-reference.png', 'PotatoesAndPancakes-reference.png', 'Autrel-reference.png', 'bklightshow-reference.png', 'scubaforlife-reference.png', 'IanThePanda-reference.png', 'garythecoconut-reference.png', 'xsarahwhitex-reference.png', 'thacker222-reference.png', 'iamnosaj-reference.png', 'emz98-reference.png', 'dphilosaurus-reference.png', 'katiemiker-reference.png'])\n",
      "('/home/wcmckee/getsdrawndotcom/imgs/14/12/25', ['art', 'reference'], [])\n",
      "('/home/wcmckee/getsdrawndotcom/imgs/14/12/25/art', [], ['ChronicConner-bw.png', 'Danimaltanimal-line.png', 'YoureDoingThatWrong-line.png', 'e6c-line.png', 'Dontcallmeliz-line.png', 'Coolnara-colour.png', 'onthesly18-line.png', 'Rinteln-bw.png', 'Alibear-line.png', 'msos-line.png', 'wootkatiee-bw.png', 'delpaint-colour.png', 'pwnyvo-colour.png', 'patchybeard2014-bw.png', 'loran2134-line.png', 'marissanicolee15-line.png', 'delgadoalex95-line.png', 'SecretLipService-line.png', 'marissanicolee15-colour.png', 'Mendican-bw.png', 'SecretLipService-bw.png', 'mickeys_bee_sting-colour.png', 'chantyman-bw.png', 'SecretLipService-colour.png', 'throwawizzleyadizzle-colour.png', 'theSteeev-bw.png', 'max879-line.png', 'MariaArcher-colour.png', 'Mendican-colour.png', 'RotorNurse-line.png', 'TheOtherWinchester-colour.png', 'mamoorlook-colour.png', 'krum6678-bw.png', 'tribal2-line.png', 'heart4world-colour.png', 'mickeys_bee_sting-line.png', 'throwawizzleyadizzle-bw.png', 'TheOtherWinchester-line.png', 'delgadoalex95-bw.png', 'RotorNurse-bw.png', 'Lkvb-colour.png', 'YoureDoingThatWrong-colour.png', 'pwnyvo-line.png', 'loran2134-bw.png', 'britttanyx-bw.png', 'Hairdresseronfire-bw.png', 'oblikious-colour.png', 'pwnyvo-bw.png', 'Dontcallmeliz-bw.png', 'Mendican-line.png', 'Coolnara-line.png', 'KlaraBlitzkrieg-line.png', 'MohawkAlbannach-colour.png', 'woodieuk-line.png', 'czarcasm_-colour.png', 'Rinteln-line.png', 'delgadoalex95-colour.png', 'mamoorlook-bw.png', 'woodieuk-colour.png', 'iamagingercake-colour.png', 'e6c-bw.png', 'oblikious-line.png', 'MariaArcher-line.png', 'TurdHerder66-colour.png', 'reallyGOODatit-colour.png', 'iamagingercake-line.png', 'JohnTan32-line.png', 'mickeys_bee_sting-bw.png', 'Lkvb-bw.png', 'msos-colour.png', 'krum6678-line.png', 'RotorNurse-colour.png', 'krum6678-colour.png', 'delpaint-line.png', 'Danimaltanimal-colour.png', 'Maguirrem2010-line.png', 'max879-colour.png', 'mamoorlook-line.png', 'Danimaltanimal-bw.png', 'czarcasm_-line.png', 'reallyGOODatit-line.png', 'MohawkAlbannach-bw.png', 'oblikious-bw.png', 'onthesly18-bw.png', 'msos-bw.png', 'heart4world-bw.png', 'yebss-line.png', 'patchybeard2014-colour.png', 'Hairdresseronfire-line.png', 'KlaraBlitzkrieg-bw.png', 'theSteeev-line.png', 'ChronicConner-line.png', 'woodieuk-bw.png', 'czarcasm_-bw.png', 'YoureDoingThatWrong-bw.png', 'JohnTan32-colour.png', 'throwawizzleyadizzle-line.png', 'chantyman-colour.png', 'yebss-bw.png', 'yebss-colour.png', 'TurdHerder66-bw.png', 'Coolnara-bw.png', 'MariaArcher-bw.png', 'Maguirrem2010-colour.png', 'tribal2-colour.png', 'loran2134-colour.png', 'patchybeard2014-line.png', 'wootkatiee-line.png', 'marissanicolee15-bw.png', 'Lkvb-line.png', 'wootkatiee-colour.png', 'chantyman-line.png', 'TheOtherWinchester-bw.png', 'max879-bw.png', 'onthesly18-colour.png', 'ChronicConner-colour.png', 'reallyGOODatit-bw.png', 'theSteeev-colour.png', 'KlaraBlitzkrieg-colour.png', 'delpaint-bw.png', 'e6c-colour.png', 'MohawkAlbannach-line.png', 'JohnTan32-bw.png', 'britttanyx-line.png', 'Alibear-bw.png', 'Dontcallmeliz-colour.png', 'iamagingercake-bw.png', 'Rinteln-colour.png', 'Alibear-colour.png', 'heart4world-line.png', 'Hairdresseronfire-colour.png', 'TurdHerder66-line.png', 'Maguirrem2010-bw.png', 'tribal2-bw.png', 'britttanyx-colour.png'])\n",
      "('/home/wcmckee/getsdrawndotcom/imgs/14/12/25/reference', [], ['heart4world-reference.png', 'pwnyvo-reference.png', 'chantyman-reference.png', 'Danimaltanimal-reference.png', 'wootkatiee-reference.png', 'Lkvb-reference.png', 'tribal2-reference.png', 'woodieuk-reference.png', 'YoureDoingThatWrong-reference.png', 'Rinteln-reference.png', 'mickeys_bee_sting-reference.png', 'delpaint-reference.png', 'Alibear-reference.png', 'marissanicolee15-reference.png', 'MohawkAlbannach-reference.png', 'msos-reference.png', 'RotorNurse-reference.png', 'TheOtherWinchester-reference.png', 'SecretLipService-reference.png', 'ChronicConner-reference.png', 'TurdHerder66-reference.png', 'oblikious-reference.png', 'delgadoalex95-reference.png'])\n",
      "('/home/wcmckee/getsdrawndotcom/imgs/14/12/21', ['art', 'reference'], [])\n",
      "('/home/wcmckee/getsdrawndotcom/imgs/14/12/21/art', [], ['guyanonymous-bw.png', 'SoilednSpoiled-bw.png', 'aintnothinbutabitch-bw.png', 'rockurbodyya-colour.png', 'thepikey7-line.png', 'The_Potato_Dude-colour.png', 'DRAWKWARD79-colour.png', 'heissen-frau-line.png', 'king-of-the-beach-colour.png', 'guyanonymous-line.png', 'Mfatima20-line.png', 'riptide747-line.png', 'Aandm1202-line.png', 'turboman14-line.png', 'PanzerPhoto-bw.png', 'fallowpliz-line.png', 'thepikey7-bw.png', 'Sarahbelle89-line.png', 'ButtKyler-bw.png', 'Melodytrix-line.png', 'tofukillerr-bw.png', 'Yranium-line.png', 'toes_and_bows-colour.png', 'socialstatus-line.png', 'roodus-line.png', 'lovelleigh-line.png', 'Stupidrhino-line.png', 'okaaaythen-colour.png', 'that-tasted-purple-colour.png', 'IWalkBesideYou-line.png', 'OneTonneUnit-bw.png', 'Stephaniebryce-line.png', 'excalibur5033-colour.png', 'pahka-bw.png', 'aintnothinbutabitch-line.png', 'pandalf_the_grey-line.png', 'SwedishPole-line.png', 'hotaspuck-colour.png', 'leakyvinyl-colour.png', 'Heisenberglington-colour.png', 'Billiam426-bw.png', 'Lentil-Soup-line.png', 'TheNewPlague666-colour.png', 'KeithB12-bw.png', 'dreamsofher-line.png', 'zebra0320-bw.png', 'mrsexyface32-bw.png', 'liv_andletlive-bw.png', 'blackheartedlady-line.png', 'Heisenberglington-bw.png', 'alien_skillz-line.png', 'uojake-line.png', 'dr-dana-scully-colour.png', 'burlesquegirl-bw.png', 'SoilednSpoiled-colour.png', 'Barcid-colour.png', 'Gooxe-bw.png', 'RageQuitRebels-bw.png', 'nerveboy-colour.png', 'rockurbodyya-line.png', 'guyanonymous-colour.png', 'Tontac-bw.png', 'Ramonology-line.png', 'TakeToTheSkyNya-line.png', 'springerfinger-colour.png', 'RageQuitRebels-colour.png', 'patchybeard2014-bw.png', 'Ghostyle-bw.png', 'jgarcia630-line.png', 'riotgurl90-bw.png', 'monsoon42-colour.png', 'Squatch-Foot-bw.png', 'Gooxe-colour.png', 'robinrotman-line.png', 'that-tasted-purple-line.png', 'burlesquegirl-line.png', 'sklorum-bw.png', 'zebra0320-colour.png', 'W1488-colour.png', 'LuciaVillalon-bw.png', 'excalibur5033-bw.png', 'throwawaytamika-colour.png', 'Bittz-line.png', 'rockurbodyya-bw.png', 'Atlas_Perpetually-bw.png', 'raskolnikova-line.png', 'plo1357-line.png', 'KJHotmama37-line.png', 'clarasinger-colour.png', 'GrimaldiJ-bw.png', 'FenixWings-bw.png', 'spencer707201-bw.png', 'youmustcreate-line.png', 'okaaaythen-bw.png', 'raskolnikova-bw.png', 'burlesquegirl-colour.png', 'socialstatus-bw.png', 'brandonkoy12-colour.png', 'zebra0320-line.png', 'Stupidrhino-colour.png', 'jemboree-colour.png', 'aintnothinbutabitch-colour.png', 'cocainemasquerade-colour.png', 'eatinPussy_kickinAss-colour.png', 'Bittz-colour.png', 'thepikey7-colour.png', 'BeautifulDisaster100-colour.png', 'Brainkissed-bw.png', 'akatheabsoluteworst-line.png', 'youmustcreate-colour.png', 'liv_andletlive-colour.png', 'Kingslayher-colour.png', 'lovelleigh-bw.png', 'Mfatima20-bw.png', 'becheve-line.png', 'blackheartedlady-colour.png', 'fallowpliz-bw.png', 'BeautifulDisaster100-bw.png', 'blackheartedlady-bw.png', 'Wernest-colour.png', 'TechSis-line.png', 'VotreEsUneChaussure-colour.png', 'bubbajiggens-line.png', 'Squatch-Foot-colour.png', 'OneTonneUnit-colour.png', 'SexaholicsAnonymous-line.png', 'Ivytortoise-colour.png', 'Aimeesan-line.png', 'heissen-frau-colour.png', 'KJHotmama37-bw.png', 'bubbajiggens-bw.png', '_Questar_-line.png', 'Ramonology-bw.png', 'Wernest-line.png', 'nightwomancometh-line.png', 'upflupchuckfck-bw.png', 'W1488-bw.png', 'dreamsofher-bw.png', 'youmustcreate-bw.png', 'autumnwolfmoon89-line.png', 'throwawaytamika-line.png', 'OaklandWarrior-bw.png', 'LuciaVillalon-colour.png', 'DRAWKWARD79-line.png', 'ButtKyler-line.png', 'FenixWings-colour.png', 'okaaaythen-line.png', 'TJames5-colour.png', 'upflupchuckfck-line.png', 'Bittz-bw.png', 'Sarahbelle89-colour.png', 'ambrdst-colour.png', 'Melodytrix-colour.png', 'sixteenhands-bw.png', 'saruken-line.png', 'Kingslayher-bw.png', 'Ramonology-colour.png', 'ambrdst-bw.png', 'pahka-colour.png', 'Ghostyle-colour.png', 'Ahbarbs-colour.png', 'jessetyler1992-bw.png', 'hudsinimo-colour.png', 'jemboree-bw.png', 'tofukillerr-colour.png', 'king-of-the-beach-line.png', 'demalition90-colour.png', 'brandonkoy12-bw.png', 'KJHotmama37-colour.png', 'OneTonneUnit-line.png', 'eatinPussy_kickinAss-bw.png', 'Atlas_Perpetually-line.png', 'HelloMeShell-bw.png', 'Yranium-colour.png', 'TakeToTheSkyNya-bw.png', 'autumnwolfmoon89-colour.png', 'dr-dana-scully-line.png', 'sklorum-colour.png', 'SoilednSpoiled-line.png', 'Ivytortoise-line.png', 'that-tasted-purple-bw.png', 'liv_andletlive-line.png', 'robinrotman-colour.png', 'Brainkissed-colour.png', 'izzels-line.png', 'Yranium-bw.png', 'HelloMeShell-colour.png', 'gman12345-line.png', 'JuanZ05-colour.png', 'jessetyler1992-line.png', 'saruken-bw.png', 'gman12345-bw.png', 'sixteenhands-colour.png', 'monsoon42-line.png', 'spencer707201-line.png', 'Melodytrix-bw.png', 'Tontac-line.png', 'uojake-colour.png', 'ambrdst-line.png', 'alien_skillz-bw.png', 'heissen-frau-bw.png', 'demalition90-line.png', 'Brainkissed-line.png', 'VotreEsUneChaussure-line.png', 'lockness-monster-colour.png', 'gman12345-colour.png', 'Heisenberglington-line.png', 'Sessatt-colour.png', 'TJames5-line.png', 'Sarahbelle89-bw.png', 'SexaholicsAnonymous-bw.png', 'Aimeesan-colour.png', 'lockness-monster-bw.png', 'Aimeesan-bw.png', 'toes_and_bows-bw.png', 'alien_skillz-colour.png', 'sueb0t-line.png', 'pandalf_the_grey-colour.png', 'nerveboy-line.png', 'springerfinger-bw.png', 'springerfinger-line.png', 'Sessatt-bw.png', 'leakyvinyl-line.png', 'patchybeard2014-colour.png', 'IWalkBesideYou-colour.png', 'brandonkoy12-line.png', 'TheNewPlague666-bw.png', 'raskolnikova-colour.png', '3littlebirds3-line.png', 'GrimaldiJ-line.png', 'SwedishPole-colour.png', 'SimplisticBiscuit-colour.png', 'Stephaniebryce-bw.png', 'Stone_Cold_Faux-colour.png', '_Questar_-bw.png', 'Stone_Cold_Faux-bw.png', 'akatheabsoluteworst-colour.png', 'nightwomancometh-bw.png', 'uojake-bw.png', 'SimplisticBiscuit-bw.png', 'Kingslayher-line.png', 'lockness-monster-line.png', 'Ivytortoise-bw.png', 'cocainemasquerade-bw.png', 'becheve-colour.png', 'JRRfuckme-line.png', 'riptide747-colour.png', 'Tontac-colour.png', '3littlebirds3-colour.png', 'britnylove-colour.png', 'SexaholicsAnonymous-colour.png', 'RageQuitRebels-line.png', 'saruken-colour.png', 'plo1357-bw.png', 'izzels-colour.png', 'Mfatima20-colour.png', 'sueb0t-bw.png', 'spencer707201-colour.png', 'Wernest-bw.png', 'JRRfuckme-colour.png', 'LuciaVillalon-line.png', 'TakeToTheSkyNya-colour.png', 'OaklandWarrior-colour.png', 'FenixWings-line.png', 'SwedishPole-bw.png', 'IWalkBesideYou-bw.png', 'pandalf_the_grey-bw.png', 'SimplisticBiscuit-line.png', 'Atlas_Perpetually-colour.png', 'hotaspuck-bw.png', 'ButtKyler-colour.png', 'Aandm1202-bw.png', 'Billiam426-line.png', 'VotreEsUneChaussure-bw.png', 'The_Potato_Dude-bw.png', 'plo1357-colour.png', 'Ghostyle-line.png', 'The_Potato_Dude-line.png', 'Barcid-bw.png', 'fallowpliz-colour.png', 'sixteenhands-line.png', 'britnylove-line.png', 'TechSis-bw.png', '3littlebirds3-bw.png', 'roodus-colour.png', 'Gooxe-line.png', 'Ahbarbs-bw.png', 'JuanZ05-line.png', 'Lentil-Soup-colour.png', 'PanzerPhoto-colour.png', 'patchybeard2014-line.png', 'mrsexyface32-colour.png', 'jemboree-line.png', 'jgarcia630-colour.png', 'autumnwolfmoon89-bw.png', 'clarasinger-bw.png', 'riptide747-bw.png', 'upflupchuckfck-colour.png', 'dr-dana-scully-bw.png', 'HelloMeShell-line.png', 'jessetyler1992-colour.png', 'midnight1214-line.png', 'TechSis-colour.png', 'Billiam426-colour.png', 'W1488-line.png', 'Sessatt-line.png', 'akatheabsoluteworst-bw.png', 'Aandm1202-colour.png', 'bubbajiggens-colour.png', 'GrimaldiJ-colour.png', 'midnight1214-bw.png', 'becheve-bw.png', 'OaklandWarrior-line.png', 'TJames5-bw.png', 'turboman14-colour.png', 'Stupidrhino-bw.png', '_Questar_-colour.png', 'robinrotman-bw.png', 'nightwomancometh-colour.png', 'eatinPussy_kickinAss-line.png', 'hotaspuck-line.png', 'TheNewPlague666-line.png', 'BeautifulDisaster100-line.png', 'roodus-bw.png', 'mrsexyface32-line.png', 'toes_and_bows-line.png', 'sueb0t-colour.png', 'monsoon42-bw.png', 'PanzerPhoto-line.png', 'sklorum-line.png', 'tofukillerr-line.png', 'KeithB12-line.png', 'socialstatus-colour.png', 'Barcid-line.png', 'demalition90-bw.png', 'hudsinimo-line.png', 'nerveboy-bw.png', 'turboman14-bw.png', 'izzels-bw.png', 'riotgurl90-colour.png', 'riotgurl90-line.png', 'king-of-the-beach-bw.png', 'Lentil-Soup-bw.png', 'pahka-line.png', 'Ahbarbs-line.png', 'DRAWKWARD79-bw.png', 'dreamsofher-colour.png', 'Stone_Cold_Faux-line.png', 'hudsinimo-bw.png', 'cocainemasquerade-line.png', 'jgarcia630-bw.png', 'clarasinger-line.png', 'midnight1214-colour.png', 'Squatch-Foot-line.png', 'throwawaytamika-bw.png', 'excalibur5033-line.png', 'JRRfuckme-bw.png', 'britnylove-bw.png', 'lovelleigh-colour.png', 'JuanZ05-bw.png', 'Stephaniebryce-colour.png', 'KeithB12-colour.png', 'leakyvinyl-bw.png'])\n",
      "('/home/wcmckee/getsdrawndotcom/imgs/14/12/21/reference', [], ['ButtKyler-reference.png', 'hudsinimo-reference.png', 'jgarcia630-reference.png', 'Wernest-reference.png', 'that-tasted-purple-reference.png', 'bubbajiggens-reference.png', 'heissen-frau-reference.png', 'HelloMeShell-reference.png', 'akatheabsoluteworst-reference.png', 'Heisenberglington-reference.png', 'Yranium-reference.png', 'Gooxe-reference.png', 'robinrotman-reference.png', 'OaklandWarrior-reference.png', 'TJames5-reference.png', 'GrimaldiJ-reference.png', 'lockness-monster-reference.png', 'pahka-reference.png', 'uojake-reference.png', 'autumnwolfmoon89-reference.png', 'hotaspuck-reference.png', 'lovelleigh-reference.png', 'Atlas_Perpetually-reference.png', 'nightwomancometh-reference.png', 'Bittz-reference.png', 'toes_and_bows-reference.png', 'socialstatus-reference.png', 'spencer707201-reference.png', 'IWalkBesideYou-reference.png', 'Stupidrhino-reference.png', 'VotreEsUneChaussure-reference.png', 'OneTonneUnit-reference.png', '3littlebirds3-reference.png', 'KeithB12-reference.png', 'JuanZ05-reference.png', 'aintnothinbutabitch-reference.png', 'saruken-reference.png', 'turboman14-reference.png', 'SimplisticBiscuit-reference.png', 'sueb0t-reference.png', 'tofukillerr-reference.png', 'DRAWKWARD79-reference.png', 'W1488-reference.png', 'Billiam426-reference.png', 'cocainemasquerade-reference.png', 'okaaaythen-reference.png', 'PanzerPhoto-reference.png', 'gman12345-reference.png', 'SoilednSpoiled-reference.png', 'Barcid-reference.png', 'LuciaVillalon-reference.png', 'burlesquegirl-reference.png', 'mrsexyface32-reference.png', 'pandalf_the_grey-reference.png', 'becheve-reference.png', 'SwedishPole-reference.png', 'TakeToTheSkyNya-reference.png', 'Ramonology-reference.png', 'eatinPussy_kickinAss-reference.png', 'britnylove-reference.png'])\n",
      "('/home/wcmckee/getsdrawndotcom/imgs/14/12/19', [], ['RileyByrdie-colour.png', 'lockandkey23-colour.png', 'tejaa-line.png', 'gowronatemybaby7-colour.png', 'gvallance-line.png', 'briba-line.png', 'rj198706-line.png', 'lockandkey23-bw.png', 'rj198706-colour.png', 'PetrichorEnigma-colour.png', 'BKLC-colour.png', 'gowronatemybaby7-reference.png', 'jenniferjulieann-reference.png', 'alexdagreat15-line.png', 'BKLC-line.png', 'Billy_Chaos-bw.png', 'DeuceIsWild-bw.png', 'DeuceIsWild-reference.png', 'BigFatG-colour.png', 'gvallance-colour.png', 'Billy_Chaos-reference.png', 'PetrichorEnigma-bw.png', 'CaptainReallyNigga-reference.png', 'BigFatG-line.png', 'alexdagreat15-colour.png', 'Kmo78-reference.png', 'RileyByrdie-line.png', 'DisfunkyMonkey-colour.png', 'MadSteel-line.png', 'davidisabeersnob-bw.png', 'RileyByrdie-bw.png', 'BigFatG-bw.png', 'DisfunkyMonkey-reference.png', 'BKLC-bw.png', 'Nicole12493-line.png', 'tildeathdowe-bw.png', 'tejaa-reference.png', 'dr0ffig-bw.png', 'paulccole-line.png', 'davidisabeersnob-colour.png', 'alexdagreat15-bw.png', 'jenniferjulieann-line.png', 'butchyjohnson-colour.png', 'davidisabeersnob-reference.png', 'Kmo78-bw.png', 'davidisabeersnob-line.png', 'gvallance-bw.png', 'tejaa-colour.png', 'PetrichorEnigma-line.png', 'tejaa-bw.png', 'MadSteel-bw.png', 'Nicole12493-bw.png', 'Kmo78-colour.png', 'rj198706-reference.png', 'BKLC-reference.png', 'Bdubsss-line.png', 'jenniferjulieann-bw.png', 'briba-bw.png', 'dr0ffig-line.png', 'MadSteel-reference.png', 'CaptainReallyNigga-line.png', 'lockandkey23-line.png', 'gowronatemybaby7-line.png', 'Kmo78-line.png', 'DisfunkyMonkey-line.png', 'Bdubsss-colour.png', 'MadSteel-colour.png', 'butchyjohnson-bw.png', 'tildeathdowe-colour.png', 'CaptainReallyNigga-colour.png', 'CaptainReallyNigga-bw.png', 'briba-colour.png', 'Bdubsss-bw.png', 'Billy_Chaos-colour.png', 'alexdagreat15-reference.png', 'gowronatemybaby7-bw.png', 'butchyjohnson-line.png', 'paulccole-bw.png', 'DeuceIsWild-colour.png', 'briba-reference.png', 'rj198706-bw.png', 'Billy_Chaos-line.png', 'jenniferjulieann-colour.png', 'DisfunkyMonkey-bw.png', 'paulccole-colour.png', 'Nicole12493-colour.png', 'RileyByrdie-reference.png', 'dr0ffig-colour.png', 'DeuceIsWild-line.png', 'tildeathdowe-line.png'])\n",
      "('/home/wcmckee/getsdrawndotcom/imgs/14/12/28', ['art', 'reference'], [])\n",
      "('/home/wcmckee/getsdrawndotcom/imgs/14/12/28/art', [], ['bklightshow-colour.png', 'TheVengefulSoul-bw.png', 'wafflz-bw.png', 'totoro4-line.png', 'drawmenow-colour.png', 'hjhjd-bw.png', 'arethereanyids-line.png', 'wafflz-colour.png', 'pm27-colour.png', 'missbugg-colour.png', 'disneyduncan123-bw.png', 'L1KeAB0SS559-line.png', 'dcline319-line.png', 'KillerNurse-line.png', 'doyouwannajump-bw.png', 'missbugg-line.png', 'onthesly18-line.png', 'ingloriousmanterds-bw.png', 'NWA2192-colour.png', 'rahu_-line.png', 'rahu_-colour.png', 'L1KeAB0SS559-colour.png', 'alexandrass-line.png', 'msos-line.png', 'FoxtrotOscar23-bw.png', 'SkaSC2-colour.png', 'DFTBEdward-colour.png', 'xsarahwhitex-line.png', 'lotttiiee-colour.png', 'jcsaph-line.png', 'drawmenow-line.png', 'xsarahwhitex-colour.png', 'SwedeDoesMakeup-line.png', 'aoqtepie-colour.png', 'doyouwannajump-colour.png', 'bklightshow-bw.png', 'Kileigh-bw.png', 'Duality_-bw.png', 'JDM350GT-line.png', 'Duality_-colour.png', 'dawnHenley-colour.png', 'jpshayes-colour.png', 'Izbee-bw.png', 'luluislandgirl-line.png', 'harisshahzad98-colour.png', 'Reira-Yours-colour.png', 'GoldenC88-line.png', 'elenazelena-bw.png', 'aoqtepie-bw.png', 'the_bklounge-line.png', 'DeeJayFresh-line.png', 'RobTheThief-bw.png', 'dcline319-colour.png', 'LotsOfFromage-colour.png', 'titanium0292-bw.png', 'justalright-bw.png', 'NWA2192-line.png', 'dahliabazzaz-line.png', 'Pyrojoe333-line.png', 'jpshayes-bw.png', 'alexandrass-bw.png', 'SkaSC2-line.png', 'jamaicanbreezy-bw.png', 'cclonch44-line.png', 'dawnHenley-bw.png', 'Lankyman1-colour.png', 'Radiationcover-line.png', 'SwedeDoesMakeup-bw.png', 'FoxtrotOscar23-colour.png', 'Duality_-line.png', 'doyouwannajump-line.png', 'dahliabazzaz-bw.png', 'jb2386-line.png', 'RobTheThief-line.png', 'jpshayes-line.png', 'NWA2192-bw.png', 'Wakka_bot-colour.png', 'justalright-colour.png', 'arethereanyids-colour.png', 'jvazz56-colour.png', 'the_bklounge-colour.png', 'luluislandgirl-colour.png', 'bandofpines-colour.png', 'pm27-bw.png', 'Pyrojoe333-colour.png', 'JDM350GT-bw.png', 'elenazelena-colour.png', 'BamaBeana-bw.png', 'Joy2Joy-line.png', 'harisshahzad98-line.png', 'Sketchie-line.png', 'wafflz-line.png', 'iwillgetyoufool-line.png', 'BamaBeana-colour.png', 'dyrikaas-line.png', 'hjhjd-line.png', 'dyrikaas-colour.png', 'sjrenard-bw.png', 'paulccole-line.png', 'luluislandgirl-bw.png', 'Wakka_bot-line.png', 'pm27-line.png', 'Justwrotethis-line.png', 'dumpasse-bw.png', 'LotsOfFromage-line.png', 'missbugg-bw.png', 'msos-colour.png', 'alexandrass-colour.png', 'Kileigh-colour.png', 'TheVengefulSoul-colour.png', 'bklightshow-line.png', 'justatwitchiswear-colour.png', 'RobTheThief-colour.png', 'julia702-line.png', 'aoqtepie-line.png', 'kkasket-line.png', 'dumpasse-colour.png', 'dawnHenley-line.png', 'benjinv-colour.png', 'Joy2Joy-colour.png', 'elenazelena-line.png', 'hjhjd-colour.png', 'Reira-Yours-bw.png', 'kkasket-colour.png', 'dcline319-bw.png', 'julia702-colour.png', 'jcsaph-bw.png', 'totoro4-bw.png', 'Wakka_bot-bw.png', 'Pyrojoe333-bw.png', 'TheVengefulSoul-line.png', 'Izbee-line.png', 'disneyduncan123-line.png', 'ShitBeCrazy-bw.png', 'sjrenard-colour.png', 'jvazz56-line.png', 'onthesly18-bw.png', 'msos-bw.png', 'Radiationcover-colour.png', 'cclonch44-bw.png', 'cclonch44-colour.png', 'SkaSC2-bw.png', 'noussea-colour.png', 'iwillgetyoufool-colour.png', 'KillerNurse-colour.png', 'GoldenC88-colour.png', 'ShitBeCrazy-colour.png', 'margarinized_people-colour.png', 'noussea-line.png', 'FoxtrotOscar23-line.png', 'ShitBeCrazy-line.png', 'totoro4-colour.png', 'DFTBEdward-line.png', 'Sketchie-colour.png', 'ScutigerousPume-bw.png', 'sjrenard-line.png', 'rahu_-bw.png', 'Reira-Yours-line.png', 'jvazz56-bw.png', 'ShortHalfMoon-bw.png', 'arethereanyids-bw.png', 'margarinized_people-line.png', 'BamaBeana-line.png', 'justatwitchiswear-bw.png', 'the_bklounge-bw.png', 'KillerNurse-bw.png', 'DeeJayFresh-colour.png', 'Izbee-colour.png', 'jb2386-bw.png', 'benjinv-bw.png', 'lotttiiee-bw.png', 'ItWillBeMine-line.png', 'ShortHalfMoon-colour.png', 'bandofpines-line.png', 'jamaicanbreezy-line.png', 'Radiationcover-bw.png', 'lotttiiee-line.png', 'Kileigh-line.png', 'Kerodohi-colour.png', 'jamaicanbreezy-colour.png', 'DFTBEdward-bw.png', 'julia702-bw.png', 'SwedeDoesMakeup-colour.png', 'Joy2Joy-bw.png', 'dahliabazzaz-colour.png', 'ingloriousmanterds-colour.png', 'paulccole-bw.png', 'bandofpines-bw.png', 'harisshahzad98-bw.png', 'onthesly18-colour.png', 'jb2386-colour.png', 'Lankyman1-bw.png', 'ShortHalfMoon-line.png', 'ItWillBeMine-bw.png', 'DeeJayFresh-bw.png', 'dyrikaas-bw.png', 'xsarahwhitex-bw.png', 'titanium0292-colour.png', 'justatwitchiswear-line.png', 'dumpasse-line.png', 'ScutigerousPume-colour.png', 'kkasket-bw.png', 'justalright-line.png', 'disneyduncan123-colour.png', 'iwillgetyoufool-bw.png', 'Kerodohi-line.png', 'JDM350GT-colour.png', 'ingloriousmanterds-line.png', 'Lankyman1-line.png', 'drawmenow-bw.png', 'ItWillBeMine-colour.png', 'ScutigerousPume-line.png', 'titanium0292-line.png', 'GoldenC88-bw.png', 'paulccole-colour.png', 'LotsOfFromage-bw.png', 'Kerodohi-bw.png', 'jcsaph-colour.png', 'noussea-bw.png', 'benjinv-line.png', 'Justwrotethis-colour.png', 'L1KeAB0SS559-bw.png', 'margarinized_people-bw.png', 'Sketchie-bw.png', 'Justwrotethis-bw.png'])\n",
      "('/home/wcmckee/getsdrawndotcom/imgs/14/12/28/reference', [], ['TheVengefulSoul-reference.png', 'doyouwannajump-reference.png', 'jb2386-reference.png', 'Joy2Joy-reference.png', 'titanium0292-reference.png', 'L1KeAB0SS559-reference.png', 'iwillgetyoufool-reference.png', 'FoxtrotOscar23-reference.png', 'SkaSC2-reference.png', 'DFTBEdward-reference.png', 'Sketchie-reference.png', 'Lankyman1-reference.png', 'GoldenC88-reference.png', 'Kerodohi-reference.png', 'LotsOfFromage-reference.png', 'justatwitchiswear-reference.png', 'hjhjd-reference.png', 'wafflz-reference.png', 'disneyduncan123-reference.png', 'aoqtepie-reference.png', 'pm27-reference.png', 'Izbee-reference.png', 'the_bklounge-reference.png', 'alexandrass-reference.png', 'Reira-Yours-reference.png', 'Pyrojoe333-reference.png', 'JDM350GT-reference.png', 'Duality_-reference.png', 'msos-reference.png', 'xsarahwhitex-reference.png', 'ShitBeCrazy-reference.png', 'kkasket-reference.png'])\n",
      "('/home/wcmckee/getsdrawndotcom/imgs/14/12/26', ['art', 'reference'], [])\n",
      "('/home/wcmckee/getsdrawndotcom/imgs/14/12/26/art', [], ['upyourjuicebox-line.png', 'apinks-line.png', 'SamePaige-bw.png', 'GrnEyedGinger12-bw.png', 'sirblake1-colour.png', 'dylc-line.png', 'Jadey_babe89-line.png', 'gravyboatcaptain2-line.png', 'ee08b021-bw.png', 'spankinit2-line.png', 'OneLeggedPigeon-colour.png', 'WaterFungus-bw.png', 'WaterFungus-line.png', 'OneLeggedPigeon-bw.png', 'UppermostKhan-colour.png', 'ee08b021-colour.png', 'zavtraleto-line.png', 'UppermostKhan-line.png', 'SuspiciousTurtle-line.png', 'spankinit2-colour.png', 'zavtraleto-colour.png', 'KevinKalber-bw.png', 'atodaso-line.png', 'Aimeesan-line.png', 'UppermostKhan-bw.png', 'apinks-colour.png', 'dylc-bw.png', 'gravyboatcaptain2-bw.png', 'SamePaige-colour.png', 'Mike_Litorus22-colour.png', 'barbequebot-line.png', 'gravyboatcaptain2-colour.png', 'zavtraleto-bw.png', 'Mike_Litorus22-bw.png', 'SuspiciousTurtle-colour.png', 'KrackDC-bw.png', 'abechaz-colour.png', 'apinks-bw.png', 'upyourjuicebox-bw.png', 'dylc-colour.png', 'sirblake1-bw.png', 'ojjmyfriend-bw.png', 'WoodenWindow-line.png', 'ojjmyfriend-colour.png', 'WaterFungus-colour.png', 'KevinKalber-line.png', 'upyourjuicebox-colour.png', 'Aimeesan-colour.png', 'Aimeesan-bw.png', 'abechaz-bw.png', 'GrnEyedGinger12-line.png', 'barbequebot-bw.png', 'atodaso-bw.png', 'apostu-colour.png', 'Jadey_babe89-colour.png', 'GrnEyedGinger12-colour.png', 'spankinit2-bw.png', 'KrackDC-line.png', 'atodaso-colour.png', 'ojjmyfriend-line.png', 'barbequebot-colour.png', 'Jadey_babe89-bw.png', 'OneLeggedPigeon-line.png', 'apostu-bw.png', 'apostu-line.png', 'Mike_Litorus22-line.png', 'KrackDC-colour.png', 'ee08b021-line.png', 'abechaz-line.png', 'SuspiciousTurtle-bw.png', 'KevinKalber-colour.png', 'SamePaige-line.png', 'WoodenWindow-colour.png', 'sirblake1-line.png', 'WoodenWindow-bw.png'])\n",
      "('/home/wcmckee/getsdrawndotcom/imgs/14/12/26/reference', [], ['OneLeggedPigeon-reference.png', 'spankinit2-reference.png', 'gravyboatcaptain2-reference.png', 'Mike_Litorus22-reference.png', 'Jadey_babe89-reference.png', 'WaterFungus-reference.png', 'SamePaige-reference.png', 'abechaz-reference.png', 'UppermostKhan-reference.png', 'apostu-reference.png', 'sirblake1-reference.png', 'upyourjuicebox-reference.png', 'ojjmyfriend-reference.png', 'SuspiciousTurtle-reference.png'])\n"
     ]
    }
   ],
   "source": [
    "for oswalk in os.walk('/home/wcmckee/getsdrawndotcom/'):\n",
    "    #if '*-reference.png' in oswalk:\n",
    "    print oswalk\n",
    "    lisfed.append(oswalk)"
   ]
  },
  {
   "cell_type": "code",
   "execution_count": 99,
   "metadata": {
    "collapsed": false
   },
   "outputs": [
    {
     "data": {
      "text/plain": [
       "('/home/wcmckee/getsdrawndotcom/imgs/14/12/26/reference',\n",
       " [],\n",
       " ['OneLeggedPigeon-reference.png',\n",
       "  'spankinit2-reference.png',\n",
       "  'gravyboatcaptain2-reference.png',\n",
       "  'Mike_Litorus22-reference.png',\n",
       "  'Jadey_babe89-reference.png',\n",
       "  'WaterFungus-reference.png',\n",
       "  'SamePaige-reference.png',\n",
       "  'abechaz-reference.png',\n",
       "  'UppermostKhan-reference.png',\n",
       "  'apostu-reference.png',\n",
       "  'sirblake1-reference.png',\n",
       "  'upyourjuicebox-reference.png',\n",
       "  'ojjmyfriend-reference.png',\n",
       "  'SuspiciousTurtle-reference.png'])"
      ]
     },
     "execution_count": 99,
     "metadata": {},
     "output_type": "execute_result"
    }
   ],
   "source": [
    "oswalk"
   ]
  },
  {
   "cell_type": "code",
   "execution_count": 138,
   "metadata": {
    "collapsed": false
   },
   "outputs": [],
   "source": []
  },
  {
   "cell_type": "code",
   "execution_count": null,
   "metadata": {
    "collapsed": true
   },
   "outputs": [],
   "source": [
    "os.f"
   ]
  },
  {
   "cell_type": "code",
   "execution_count": null,
   "metadata": {
    "collapsed": true
   },
   "outputs": [],
   "source": []
  }
 ],
 "metadata": {
  "kernelspec": {
   "display_name": "Python 2",
   "name": "python2"
  },
  "language_info": {
   "codemirror_mode": {
    "name": "ipython",
    "version": 2
   },
   "file_extension": ".py",
   "mimetype": "text/x-python",
   "name": "python",
   "nbconvert_exporter": "python",
   "pygments_lexer": "ipython2",
   "version": "2.7.8"
  }
 },
 "nbformat": 4,
 "nbformat_minor": 0
}
