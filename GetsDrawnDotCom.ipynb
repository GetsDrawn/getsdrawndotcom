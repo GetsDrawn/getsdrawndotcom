{
 "cells": [
  {
   "cell_type": "markdown",
   "metadata": {},
   "source": [
    "<h1>GetsDrawn DotCom</h1>"
   ]
  },
  {
   "cell_type": "markdown",
   "metadata": {},
   "source": [
    "This is a python script to generate the website GetsDrawn. It takes data from /r/RedditGetsDrawn and makes something awesome.\n",
    "\n",
    "The script has envolved and been rewritten several times. \n",
    "\n",
    "The first script for rgdsnatch was written after I got banned from posting my artwork on /r/RedditGetsDrawn. The plan was to create a new site that displayed stuff from /r/RedditGetsDrawn. \n",
    "\n",
    "Currently it only displays the most recent 25 items on redditgetsdrawn. The script looks at the newest 25 reference photos on RedditGetsDrawn. It focuses only on jpeg/png images and ignores and links to none .jpg or .png ending files. \n",
    "It is needed to instead of ignoring them files - get the image or images in some cases, from the link.\n",
    "The photos are always submitted from imgur.\n",
    "Still filter out the i.imgur files, but take the links and filter them through a python imgur module returning the .jpeg or .png files. \n",
    "\n",
    "\n",
    "This is moving forward from rgdsnatch.py because I am stuck on it.  \n",
    "\n",
    "TODO\n",
    "\n",
    "Fix the links that don't link to png/jpeg and link to webaddress. \n",
    "Needs to get the images that are at that web address and embed them.\n",
    "\n",
    "Display artwork submitted under the images. \n",
    "\n",
    "Upload artwork to user. Sends them a message on redditgetsdrawn with links. \n",
    "\n",
    "More pandas\n",
    "\n",
    "Saves reference images to imgs/year/month/day/reference/username-reference.png\n",
    "\n",
    "Saves art images to imgs/year/month/day/art/username-line-bw-colour.png \n",
    "\n",
    "Creates index.html file with:\n",
    "Title of site and logo: GetsDrawn\n",
    "Last updated date and time. \n",
    "\n",
    "Path of image file /imgs/year/month/day/username-reference.png. \n",
    "(This needs changed to just their username).\n",
    "\n",
    "Save off .meta data from reddit of each photo, saving it to reference folder.\n",
    "username-yrmnthday.meta - contains info such as author, title, upvotes, downvotes.\n",
    "Currently saving .meta files to a meta folder - along side art and reference. \n",
    "\n",
    "Folder sorting system of files. \n",
    "websitename/index.html-style.css-imgs/YEAR(15)-MONTH(2)-DAY(4)/art-reference-meta\n",
    "Inside art folder\n",
    "Currently it generates USERNAME-line/bw/colour.png 50/50 white files. Maybe should be getting art replies from reddit?\n",
    "\n",
    "Inside reference folder\n",
    "Reference fold is working decent. \n",
    "it creates USERNAME-reference.png / jpeg files. \n",
    "\n",
    "Currently saves username-line-bw-colour.png to imgs folder. Instead get it to save to imgs/year/month/day/usernames.png.\n",
    "Script checks the year/month/day and if folder isnt created, it creates it. If folder is there, exit. \n",
    "Maybe get the reference image and save it with the line/bw/color.pngs\n",
    "\n",
    "The script now filters the jpeg and png image and skips links to imgur pages. This needs to be fixed by getting the images from the imgur pages.\n",
    "It renames the image files to the redditor username followed by a -reference tag (and ending with png of course).\n",
    "It opens these files up with PIL and checks the sizes. \n",
    "It needs to resize the images that are larger than 800px to 800px.\n",
    "These images need to be linked in the index.html instead of the imgur altenatives. \n",
    "\n",
    "Instead of the jpeg/png files on imgur they are downloaded to the server with this script. \n",
    "\n",
    "Filter through as images are getting downloaded and if it has been less than certain time or if the image has been submitted before \n",
    "\n",
    "Extending the subreddits it gets data from to cycle though a list, run script though list of subreddits.\n",
    "\n",
    "Browse certain days - Current day by default but option to scroll through other days.\n",
    "\n",
    "Filters - male/female/animals/couples etc\n",
    "Function that returns only male portraits. \n",
    "tags to add to photos. \n",
    "Filter images with tags\n",
    "\n",
    "\n"
   ]
  },
  {
   "cell_type": "markdown",
   "metadata": {},
   "source": [
    "Now saves an html page with all images embed. \n",
    "\n",
    "Create Nikola blog from each post. "
   ]
  },
  {
   "cell_type": "code",
   "execution_count": 0,
   "metadata": {
    "collapsed": true
   },
   "outputs": [],
   "source": []
  },
  {
   "cell_type": "code",
   "execution_count": 0,
   "metadata": {
    "collapsed": false
   },
   "outputs": [],
   "source": []
  },
  {
   "cell_type": "code",
   "execution_count": 1,
   "metadata": {
    "collapsed": false
   },
   "outputs": [],
   "source": [
    "import os \n",
    "import requests\n",
    "from bs4 import BeautifulSoup\n",
    "import re\n",
    "import json\n",
    "import time\n",
    "import praw\n",
    "import dominate\n",
    "from dominate.tags import * \n",
    "from time import gmtime, strftime\n",
    "#import nose\n",
    "#import unittest\n",
    "import numpy as np\n",
    "import pandas as pd\n",
    "from pandas import *\n",
    "from PIL import Image\n",
    "from pprint import pprint\n",
    "#import pyttsx\n",
    "import shutil\n",
    "\n",
    "import arrow"
   ]
  },
  {
   "cell_type": "code",
   "execution_count": 2,
   "metadata": {
    "collapsed": true
   },
   "outputs": [],
   "source": [
    "gtsdrndir = ('/home/wcmckee/getsdrawndotcom')"
   ]
  },
  {
   "cell_type": "code",
   "execution_count": 3,
   "metadata": {
    "collapsed": true
   },
   "outputs": [],
   "source": [
    "os.chdir(gtsdrndir)"
   ]
  },
  {
   "cell_type": "code",
   "execution_count": 4,
   "metadata": {
    "collapsed": true
   },
   "outputs": [],
   "source": [
    "r = praw.Reddit(user_agent='getsdrawndotcom')"
   ]
  },
  {
   "cell_type": "code",
   "execution_count": 5,
   "metadata": {
    "collapsed": true
   },
   "outputs": [],
   "source": [
    "#getmin = r.get_redditor('itwillbemine')"
   ]
  },
  {
   "cell_type": "code",
   "execution_count": 6,
   "metadata": {
    "collapsed": true
   },
   "outputs": [],
   "source": [
    "#mincom = getmin.get_comments()"
   ]
  },
  {
   "cell_type": "code",
   "execution_count": 7,
   "metadata": {
    "collapsed": true
   },
   "outputs": [],
   "source": [
    "#engine = pyttsx.init()\n",
    "\n",
    "#engine.say('The quick brown fox jumped over the lazy dog.')\n",
    "#engine.runAndWait()"
   ]
  },
  {
   "cell_type": "code",
   "execution_count": 8,
   "metadata": {
    "collapsed": true
   },
   "outputs": [],
   "source": [
    "#shtweet = []"
   ]
  },
  {
   "cell_type": "code",
   "execution_count": 9,
   "metadata": {
    "collapsed": true
   },
   "outputs": [],
   "source": [
    "#for mi in mincom:\n",
    "#    print mi\n",
    "#    shtweet.append(mi)"
   ]
  },
  {
   "cell_type": "code",
   "execution_count": 10,
   "metadata": {
    "collapsed": true
   },
   "outputs": [],
   "source": [
    "bodycom = []\n",
    "bodyicv = dict()"
   ]
  },
  {
   "cell_type": "code",
   "execution_count": 11,
   "metadata": {
    "collapsed": true
   },
   "outputs": [],
   "source": [
    "#beginz = pyttsx.init()"
   ]
  },
  {
   "cell_type": "code",
   "execution_count": 12,
   "metadata": {
    "collapsed": true
   },
   "outputs": [],
   "source": [
    "#for shtz in shtweet:\n",
    "#    print shtz.downs\n",
    "#    print shtz.ups\n",
    "#    print shtz.body\n",
    "#    print shtz.replies\n",
    "    #beginz.say(shtz.author)\n",
    "    #beginz.say(shtz.body)\n",
    "    #beginz.runAndWait()\n",
    "    \n",
    "#    bodycom.append(shtz.body)\n",
    "    #bodyic"
   ]
  },
  {
   "cell_type": "code",
   "execution_count": 13,
   "metadata": {
    "collapsed": true
   },
   "outputs": [],
   "source": [
    "#bodycom "
   ]
  },
  {
   "cell_type": "code",
   "execution_count": 14,
   "metadata": {
    "collapsed": true
   },
   "outputs": [],
   "source": [
    "getnewr = r.get_subreddit('redditgetsdrawn')"
   ]
  },
  {
   "cell_type": "code",
   "execution_count": 15,
   "metadata": {
    "collapsed": true
   },
   "outputs": [],
   "source": [
    "rdnew = getnewr.get_new()"
   ]
  },
  {
   "cell_type": "code",
   "execution_count": 16,
   "metadata": {
    "collapsed": true
   },
   "outputs": [],
   "source": [
    "lisrgc = []\n",
    "lisauth = []"
   ]
  },
  {
   "cell_type": "code",
   "execution_count": 17,
   "metadata": {
    "collapsed": false
   },
   "outputs": [],
   "source": [
    "for uz in rdnew:\n",
    "    #print uz\n",
    "    lisrgc.append(uz)"
   ]
  },
  {
   "cell_type": "code",
   "execution_count": 18,
   "metadata": {
    "collapsed": true
   },
   "outputs": [],
   "source": [
    "gtdrndic = dict()"
   ]
  },
  {
   "cell_type": "code",
   "execution_count": 19,
   "metadata": {
    "collapsed": true
   },
   "outputs": [],
   "source": [
    "imgdir = ('/home/wcmckee/getsdrawndotcom/imgs')"
   ]
  },
  {
   "cell_type": "code",
   "execution_count": 20,
   "metadata": {
    "collapsed": true
   },
   "outputs": [],
   "source": [
    "artlist = os.listdir(imgdir)"
   ]
  },
  {
   "cell_type": "code",
   "execution_count": 21,
   "metadata": {
    "collapsed": true
   },
   "outputs": [],
   "source": [
    "from time import time"
   ]
  },
  {
   "cell_type": "code",
   "execution_count": 22,
   "metadata": {
    "collapsed": true
   },
   "outputs": [],
   "source": [
    "yearz = strftime(\"%y\", gmtime())\n",
    "monthz = strftime(\"%m\", gmtime())\n",
    "dayz = strftime(\"%d\", gmtime())\n",
    "\n",
    "\n",
    "#strftime(\"%y %m %d\", gmtime())\n",
    "\n"
   ]
  },
  {
   "cell_type": "code",
   "execution_count": 23,
   "metadata": {
    "collapsed": true
   },
   "outputs": [],
   "source": [
    "imgzdir = ('imgs/')\n",
    "yrzpat = (imgzdir + yearz)\n",
    "monzpath = (yrzpat + '/' + monthz)\n",
    "dayzpath = (monzpath + '/' + dayz)\n",
    "rmgzdays = (dayzpath + '/reference')\n",
    "imgzdays = (dayzpath + '/art')\n",
    "metzdays = (dayzpath + '/meta')\n",
    "\n",
    "repathz = ('imgs/' + yearz + '/' + monthz + '/' + dayz + '/')"
   ]
  },
  {
   "cell_type": "code",
   "execution_count": 24,
   "metadata": {
    "collapsed": false
   },
   "outputs": [
    {
     "data": {
      "text/plain": [
       "'imgs/15/02/12/meta'"
      ]
     },
     "execution_count": 24,
     "metadata": {},
     "output_type": "execute_result"
    }
   ],
   "source": [
    "metzdays"
   ]
  },
  {
   "cell_type": "code",
   "execution_count": 25,
   "metadata": {
    "collapsed": false
   },
   "outputs": [
    {
     "data": {
      "text/plain": [
       "'imgs/15/02/12/art'"
      ]
     },
     "execution_count": 25,
     "metadata": {},
     "output_type": "execute_result"
    }
   ],
   "source": [
    "imgzdays"
   ]
  },
  {
   "cell_type": "code",
   "execution_count": 26,
   "metadata": {
    "collapsed": false
   },
   "outputs": [
    {
     "data": {
      "text/plain": [
       "'imgs/15/02/12/'"
      ]
     },
     "execution_count": 26,
     "metadata": {},
     "output_type": "execute_result"
    }
   ],
   "source": [
    "repathz"
   ]
  },
  {
   "cell_type": "code",
   "execution_count": 27,
   "metadata": {
    "collapsed": true
   },
   "outputs": [],
   "source": [
    "def ospacheck():\n",
    "    if os.path.isdir(imgzdir + yearz) == True:\n",
    "        print 'its true'\n",
    "    else:\n",
    "        print 'its false'\n",
    "        os.mkdir(imgzdir + yearz)\n",
    "    "
   ]
  },
  {
   "cell_type": "code",
   "execution_count": 28,
   "metadata": {
    "collapsed": false
   },
   "outputs": [
    {
     "name": "stdout",
     "output_type": "stream",
     "text": [
      "its true\n"
     ]
    }
   ],
   "source": [
    "ospacheck()"
   ]
  },
  {
   "cell_type": "code",
   "execution_count": 29,
   "metadata": {
    "collapsed": true
   },
   "outputs": [],
   "source": [
    "#if os.path.isdir(imgzdir + yearz) == True:\n",
    "#    print 'its true'\n",
    "#else:\n",
    "#    print 'its false'\n",
    "#    os.mkdir(imgzdir + yearz)"
   ]
  },
  {
   "cell_type": "code",
   "execution_count": 30,
   "metadata": {
    "collapsed": false
   },
   "outputs": [
    {
     "name": "stdout",
     "output_type": "stream",
     "text": [
      "its true\n"
     ]
    }
   ],
   "source": [
    "if os.path.isdir(monzpath) == True:\n",
    "    print 'its true'\n",
    "else:\n",
    "    print 'its false'\n",
    "    os.mkdir(monzpath)\n",
    "\n",
    "#os.mkdir(monzpath)"
   ]
  },
  {
   "cell_type": "code",
   "execution_count": 31,
   "metadata": {
    "collapsed": false
   },
   "outputs": [
    {
     "name": "stdout",
     "output_type": "stream",
     "text": [
      "its false\n"
     ]
    }
   ],
   "source": [
    "if os.path.isdir(dayzpath) == True:\n",
    "    print 'its true'\n",
    "else:\n",
    "    print 'its false'\n",
    "    os.mkdir(dayzpath)\n",
    "\n",
    "#os.mkdir(dayzpath)"
   ]
  },
  {
   "cell_type": "code",
   "execution_count": 32,
   "metadata": {
    "collapsed": false
   },
   "outputs": [
    {
     "name": "stdout",
     "output_type": "stream",
     "text": [
      "its false\n"
     ]
    }
   ],
   "source": [
    "if os.path.isdir(imgzdays) == True:\n",
    "    print 'its true'\n",
    "else:\n",
    "    print 'its false'\n",
    "    os.mkdir(imgzdays)"
   ]
  },
  {
   "cell_type": "code",
   "execution_count": 33,
   "metadata": {
    "collapsed": false
   },
   "outputs": [
    {
     "name": "stdout",
     "output_type": "stream",
     "text": [
      "its false\n"
     ]
    }
   ],
   "source": [
    "if os.path.isdir(rmgzdays) == True:\n",
    "    print 'its true'\n",
    "else:\n",
    "    print 'its false'\n",
    "    os.mkdir(rmgzdays)"
   ]
  },
  {
   "cell_type": "code",
   "execution_count": 34,
   "metadata": {
    "collapsed": false
   },
   "outputs": [
    {
     "name": "stdout",
     "output_type": "stream",
     "text": [
      "its failse\n"
     ]
    }
   ],
   "source": [
    "if os.path.isdir(metzdays)  == True:\n",
    "    print 'its true'\n",
    "else:\n",
    "    print 'its failse'\n",
    "    os.mkdir(metzdays)"
   ]
  },
  {
   "cell_type": "code",
   "execution_count": 35,
   "metadata": {
    "collapsed": false
   },
   "outputs": [],
   "source": [
    "fullhom = ('/home/wcmckee/getsdrawndotcom/')"
   ]
  },
  {
   "cell_type": "code",
   "execution_count": 36,
   "metadata": {
    "collapsed": false
   },
   "outputs": [
    {
     "data": {
      "text/plain": [
       "[]"
      ]
     },
     "execution_count": 36,
     "metadata": {},
     "output_type": "execute_result"
    }
   ],
   "source": [
    "os.listdir(fullhom + metzdays)"
   ]
  },
  {
   "cell_type": "code",
   "execution_count": 37,
   "metadata": {
    "collapsed": true
   },
   "outputs": [],
   "source": [
    "#artlist"
   ]
  },
  {
   "cell_type": "code",
   "execution_count": 38,
   "metadata": {
    "collapsed": true
   },
   "outputs": [],
   "source": [
    "httpad = ('http://getsdrawn.com/imgs')"
   ]
  },
  {
   "cell_type": "code",
   "execution_count": 39,
   "metadata": {
    "collapsed": true
   },
   "outputs": [],
   "source": [
    "#im = Image.new(\"RGB\", (512, 512), \"white\")\n",
    "#im.save(file + \".thumbnail\", \"JPEG\")"
   ]
  },
  {
   "cell_type": "code",
   "execution_count": 40,
   "metadata": {
    "collapsed": true
   },
   "outputs": [],
   "source": [
    "rmgzdays = (dayzpath + '/reference')\n",
    "imgzdays = (dayzpath + '/art')\n",
    "metzdays = (dayzpath + '/meta')"
   ]
  },
  {
   "cell_type": "code",
   "execution_count": 41,
   "metadata": {
    "collapsed": false
   },
   "outputs": [],
   "source": [
    "os.chdir(fullhom + metzdays)"
   ]
  },
  {
   "cell_type": "code",
   "execution_count": 42,
   "metadata": {
    "collapsed": true
   },
   "outputs": [],
   "source": [
    "for lisr in lisrgc:\n",
    "    gtdrndic.update({'title': lisr.title})\n",
    "    lisauth.append(str(lisr.author))\n",
    "    for osliz in os.listdir(fullhom + metzdays):\n",
    "        with open(str(lisr.author) + '.meta', \"w\") as f:\n",
    "            rstrin = lisr.title.encode('ascii', 'ignore').decode('ascii')\n",
    "            f.write(rstrin)\n"
   ]
  },
  {
   "cell_type": "markdown",
   "metadata": {},
   "source": [
    "I have it creating a meta folder and creating/writing username.meta files. It wrote 'test' in each folder, but now it writes the photo author title of post.. the username/image data. "
   ]
  },
  {
   "cell_type": "code",
   "execution_count": 43,
   "metadata": {
    "collapsed": true
   },
   "outputs": [],
   "source": [
    "#os.listdir(dayzpath)"
   ]
  },
  {
   "cell_type": "markdown",
   "metadata": {},
   "source": [
    "Instead of creating these white images, why not download the art replies of the reference photo."
   ]
  },
  {
   "cell_type": "code",
   "execution_count": 44,
   "metadata": {
    "collapsed": true
   },
   "outputs": [],
   "source": [
    "#for lisa in lisauth:\n",
    "#    #print lisa + '-line.png'\n",
    "#    im = Image.new(\"RGB\", (512, 512), \"white\")\n",
    "#    im.save(lisa + '-line.png')\n",
    "#    im = Image.new(\"RGB\", (512, 512), \"white\")\n",
    "#    im.save(lisa + '-bw.png')\n",
    "\n",
    "    #print lisa + '-bw.png'\n",
    "#    im = Image.new(\"RGB\", (512, 512), \"white\")\n",
    "#    im.save(lisa + '-colour.png')\n",
    "\n",
    "    #print lisa + '-colour.png'"
   ]
  },
  {
   "cell_type": "code",
   "execution_count": 45,
   "metadata": {
    "collapsed": false
   },
   "outputs": [
    {
     "data": {
      "text/plain": [
       "['getsdrawn-bw.png', '12', '15', '14']"
      ]
     },
     "execution_count": 45,
     "metadata": {},
     "output_type": "execute_result"
    }
   ],
   "source": [
    "os.listdir('/home/wcmckee/getsdrawndotcom/imgs')"
   ]
  },
  {
   "cell_type": "code",
   "execution_count": 46,
   "metadata": {
    "collapsed": true
   },
   "outputs": [],
   "source": [
    "#lisauth"
   ]
  },
  {
   "cell_type": "markdown",
   "metadata": {},
   "source": [
    "I want to save the list of usernames that submit images as png files in a dir. \n",
    "Currently when I call the list of authors it returns Redditor(user_name='theusername'). I want to return 'theusername'.\n",
    "Once this is resolved I can add '-line.png' '-bw.png' '-colour.png' to each folder. "
   ]
  },
  {
   "cell_type": "code",
   "execution_count": 47,
   "metadata": {
    "collapsed": true
   },
   "outputs": [],
   "source": [
    "#lisr.author"
   ]
  },
  {
   "cell_type": "code",
   "execution_count": 48,
   "metadata": {
    "collapsed": true
   },
   "outputs": [],
   "source": [
    "namlis = []"
   ]
  },
  {
   "cell_type": "code",
   "execution_count": 49,
   "metadata": {
    "collapsed": false
   },
   "outputs": [],
   "source": [
    "#opsinz = open('/home/wcmckee/visignsys/index.meta', 'r')\n",
    "#panz = opsinz.read()"
   ]
  },
  {
   "cell_type": "code",
   "execution_count": 50,
   "metadata": {
    "collapsed": true
   },
   "outputs": [],
   "source": [
    "os.chdir('/home/wcmckee/getsdrawndotcom/' + rmgzdays)"
   ]
  },
  {
   "cell_type": "code",
   "execution_count": 51,
   "metadata": {
    "collapsed": false
   },
   "outputs": [
    {
     "name": "stdout",
     "output_type": "stream",
     "text": [
      "http://i.imgur.com/huDCrX8.jpg\n",
      "http://i.imgur.com/KFY29rY.jpg\n",
      "http://i.imgur.com/5jFBbmi.jpg\n",
      "http://i.imgur.com/ixXMNDb.jpg\n",
      "http://i.imgur.com/dKxtnU0.jpg\n",
      "http://i.imgur.com/Lf7rsVw.jpg\n",
      "http://i.imgur.com/wE6Yvwp.jpg\n",
      "http://i.imgur.com/Nr4gaw8.jpg\n",
      "http://i.imgur.com/rK5qKeS.jpg\n",
      "http://i.imgur.com/Ligz6uT.jpg\n",
      "http://i.imgur.com/G7aTccT.jpg\n",
      "http://i.imgur.com/WNvoCyo.jpg\n",
      "http://i.imgur.com/eYZhFj9.jpg\n",
      "http://i.imgur.com/oWaXbD5.jpg\n",
      "http://i.imgur.com/IoqC7Xj.jpg\n",
      "http://i.imgur.com/h77oFDb.jpg\n",
      "http://i.imgur.com/igbfo9K.jpg\n"
     ]
    }
   ],
   "source": [
    "#panz()\n",
    "for rdz in lisrgc:\n",
    "    (rdz.title)\n",
    "    #a(rdz.url)\n",
    "    if 'http://i.imgur.com' in rdz.url:\n",
    "        #print rdz.url\n",
    "        print (rdz.url)\n",
    "        url = rdz.url\n",
    "        response = requests.get(url, stream=True)\n",
    "        with open(str(rdz.author) + '-reference.png', 'wb') as out_file:\n",
    "            shutil.copyfileobj(response.raw, out_file)\n",
    "            del response"
   ]
  },
  {
   "cell_type": "code",
   "execution_count": 52,
   "metadata": {
    "collapsed": true
   },
   "outputs": [],
   "source": [
    "apsize = []"
   ]
  },
  {
   "cell_type": "code",
   "execution_count": 53,
   "metadata": {
    "collapsed": true
   },
   "outputs": [],
   "source": [
    "aptype = []"
   ]
  },
  {
   "cell_type": "code",
   "execution_count": 54,
   "metadata": {
    "collapsed": true
   },
   "outputs": [],
   "source": [
    "basewidth = 600"
   ]
  },
  {
   "cell_type": "code",
   "execution_count": 55,
   "metadata": {
    "collapsed": true
   },
   "outputs": [],
   "source": [
    "imgdict = dict()"
   ]
  },
  {
   "cell_type": "code",
   "execution_count": 56,
   "metadata": {
    "collapsed": false
   },
   "outputs": [
    {
     "data": {
      "text/plain": [
       "'imgs/15/02/12/reference'"
      ]
     },
     "execution_count": 56,
     "metadata": {},
     "output_type": "execute_result"
    }
   ],
   "source": [
    "rmgzdays"
   ]
  },
  {
   "cell_type": "code",
   "execution_count": 57,
   "metadata": {
    "collapsed": false
   },
   "outputs": [],
   "source": [
    "for rmglis in os.listdir('/home/wcmckee/getsdrawndotcom/' + rmgzdays):\n",
    "    #print rmglis\n",
    "    im = Image.open(rmglis)\n",
    "    #print im.size\n",
    "    imgdict.update({rmglis : im.size})\n",
    "    #imgdict.update({rmglis : im.getcolors()})\n",
    "    #im.thumbnail(size, Image.ANTIALIAS)\n",
    "    #im.save(file + \".thumbnail\", \"JPEG\")\n",
    "    apsize.append(im.size)\n",
    "    aptype.append(rmglis)"
   ]
  },
  {
   "cell_type": "markdown",
   "metadata": {},
   "source": [
    "Filter images larger than 600px and scale them down. Width needs to be 600px and height a percent. "
   ]
  },
  {
   "cell_type": "code",
   "execution_count": 58,
   "metadata": {
    "collapsed": false
   },
   "outputs": [
    {
     "data": {
      "text/plain": [
       "{'Bosley_-reference.png': (3609, 2409),\n",
       " 'Bulbous_Walrus-reference.png': (720, 488),\n",
       " 'Dessine_MoiUnMouton-reference.png': (1080, 1920),\n",
       " 'HeyRayDaily-reference.png': (1200, 800),\n",
       " 'KingGerard-reference.png': (440, 440),\n",
       " 'Melion-reference.png': (2988, 5312),\n",
       " 'Miss_Taxidermy-reference.png': (518, 846),\n",
       " '_spookie-reference.png': (720, 960),\n",
       " 'carterartist-reference.png': (417, 417),\n",
       " 'hyeledhtov-reference.png': (1836, 3264),\n",
       " 'iloveariiii-reference.png': (577, 1024),\n",
       " 'kindusdingus-reference.png': (1536, 2560),\n",
       " 'leolol16-reference.png': (640, 1136),\n",
       " 'ocelotsketches-reference.png': (900, 1200),\n",
       " 'pinkandfreckled-reference.png': (2560, 1440),\n",
       " 'sunshineatnight-reference.png': (900, 1600),\n",
       " 'zombie_bear-reference.png': (540, 960)}"
      ]
     },
     "execution_count": 58,
     "metadata": {},
     "output_type": "execute_result"
    }
   ],
   "source": [
    "imgdict"
   ]
  },
  {
   "cell_type": "code",
   "execution_count": 59,
   "metadata": {
    "collapsed": true
   },
   "outputs": [],
   "source": [
    "#for imdva in imgdict.values():\n",
    "    #print imdva\n",
    "    #for deva in imdva:\n",
    "        #print deva\n",
    "     #   if deva < 1000:\n",
    "      #      print 'omg less than 1000'\n",
    "       # else:\n",
    "        #    print 'omg more than 1000'\n",
    "         #   print deva / 2\n",
    "            #print imgdict.values\n",
    "            # Needs to update imgdict.values with this new number. Must halve height also."
   ]
  },
  {
   "cell_type": "code",
   "execution_count": 60,
   "metadata": {
    "collapsed": true
   },
   "outputs": [],
   "source": [
    "#basewidth = 300\n",
    "#img = Image.open('somepic.jpg')\n",
    "#wpercent = (basewidth/float(img.size[0]))\n",
    "#hsize = int((float(img.size[1])*float(wpercent)))\n",
    "#img = img.resize((basewidth,hsize), PIL.Image.ANTIALIAS)\n",
    "#img.save('sompic.jpg')"
   ]
  },
  {
   "cell_type": "code",
   "execution_count": 61,
   "metadata": {
    "collapsed": true
   },
   "outputs": [],
   "source": [
    "#os.chdir(metzdays)"
   ]
  },
  {
   "cell_type": "code",
   "execution_count": 61,
   "metadata": {
    "collapsed": false
   },
   "outputs": [],
   "source": []
  },
  {
   "cell_type": "code",
   "execution_count": 62,
   "metadata": {
    "collapsed": true
   },
   "outputs": [],
   "source": [
    "#for numz in apsize:\n",
    "#    print numz[0]\n",
    " #   if numz[0] > 800:\n",
    "#        print ('greater than 800')\n",
    "#    else:\n",
    "#        print ('less than 800!')"
   ]
  },
  {
   "cell_type": "code",
   "execution_count": 63,
   "metadata": {
    "collapsed": true
   },
   "outputs": [],
   "source": [
    "reliz = []"
   ]
  },
  {
   "cell_type": "code",
   "execution_count": 64,
   "metadata": {
    "collapsed": true
   },
   "outputs": [],
   "source": [
    "for refls in os.listdir('/home/wcmckee/getsdrawndotcom/' + rmgzdays):\n",
    "    #print rmgzdays + refls\n",
    "    reliz.append(rmgzdays + '/' + refls)"
   ]
  },
  {
   "cell_type": "code",
   "execution_count": 65,
   "metadata": {
    "collapsed": false
   },
   "outputs": [],
   "source": [
    "#reliz"
   ]
  },
  {
   "cell_type": "code",
   "execution_count": 66,
   "metadata": {
    "collapsed": false
   },
   "outputs": [],
   "source": [
    "#aptype"
   ]
  },
  {
   "cell_type": "code",
   "execution_count": 67,
   "metadata": {
    "collapsed": false
   },
   "outputs": [],
   "source": [
    "#opad = open('/home/wcmckee/ad.html', 'r')"
   ]
  },
  {
   "cell_type": "code",
   "execution_count": 68,
   "metadata": {
    "collapsed": false
   },
   "outputs": [],
   "source": [
    "#opred = opad.read()"
   ]
  },
  {
   "cell_type": "code",
   "execution_count": 69,
   "metadata": {
    "collapsed": true
   },
   "outputs": [],
   "source": [
    "#str2 = opred.replace(\"\\n\", \"\")"
   ]
  },
  {
   "cell_type": "code",
   "execution_count": 70,
   "metadata": {
    "collapsed": true
   },
   "outputs": [],
   "source": [
    "#str2"
   ]
  },
  {
   "cell_type": "code",
   "execution_count": 71,
   "metadata": {
    "collapsed": false
   },
   "outputs": [],
   "source": [
    "doc = dominate.document(title='GetsDrawn')\n",
    "\n",
    "with doc.head:\n",
    "    link(rel='stylesheet', href='style.css')\n",
    "    script(type ='text/javascript', src='script.js')\n",
    "    #str(str2)\n",
    "    \n",
    "    with div():\n",
    "        attr(cls='header')\n",
    "        h1('GetsDrawn')\n",
    "        p(img('imgs/getsdrawn-bw.png', src='imgs/getsdrawn-bw.png'))\n",
    "        #p(img('imgs/15/01/02/ReptileLover82-reference.png', src= 'imgs/15/01/02/ReptileLover82-reference.png'))\n",
    "        h1('Updated ', strftime(\"%a, %d %b %Y %H:%M:%S +0000\", gmtime()))\n",
    "        #p(panz)\n",
    "        p(bodycom)\n",
    "    \n",
    "    \n",
    "\n",
    "with doc:\n",
    "    with div(id='body').add(ol()):\n",
    "        for rdz in reliz:\n",
    "            #h1(rdz.title)\n",
    "            #a(rdz.url)\n",
    "            #p(img(rdz, src='%s' % rdz))\n",
    "            #print rdz\n",
    "            p(img(rdz, src = rdz))\n",
    "            p(rdz)\n",
    "\n",
    "\n",
    "                \n",
    "            #print rdz.url\n",
    "            #if '.jpg' in rdz.url:\n",
    "            #    img(rdz.urlz)\n",
    "            #else:\n",
    "            #    a(rdz.urlz)\n",
    "            #h1(str(rdz.author))\n",
    "            \n",
    "            #li(img(i.lower(), src='%s' % i))\n",
    "\n",
    "    with div():\n",
    "        attr(cls='body')\n",
    "        p('GetsDrawn is open source')\n",
    "        a('https://github.com/wcmckee/wcmckee')\n",
    "        a('https://reddit.com/r/redditgetsdrawn')\n",
    "\n",
    "#print doc"
   ]
  },
  {
   "cell_type": "code",
   "execution_count": 72,
   "metadata": {
    "collapsed": true
   },
   "outputs": [],
   "source": [
    "docre = doc.render()"
   ]
  },
  {
   "cell_type": "code",
   "execution_count": 73,
   "metadata": {
    "collapsed": true
   },
   "outputs": [],
   "source": [
    "#s = docre.decode('ascii', 'ignore')"
   ]
  },
  {
   "cell_type": "code",
   "execution_count": 74,
   "metadata": {
    "collapsed": true
   },
   "outputs": [],
   "source": [
    "yourstring = docre.encode('ascii', 'ignore').decode('ascii')"
   ]
  },
  {
   "cell_type": "code",
   "execution_count": 75,
   "metadata": {
    "collapsed": true
   },
   "outputs": [],
   "source": [
    "indfil = ('/home/wcmckee/getsdrawndotcom/index.html')"
   ]
  },
  {
   "cell_type": "code",
   "execution_count": 76,
   "metadata": {
    "collapsed": true
   },
   "outputs": [],
   "source": [
    "mkind = open(indfil, 'w')\n",
    "mkind.write(yourstring)\n",
    "mkind.close()"
   ]
  },
  {
   "cell_type": "code",
   "execution_count": 77,
   "metadata": {
    "collapsed": true
   },
   "outputs": [],
   "source": [
    "#os.system('scp -r /home/wcmckee/getsdrawndotcom/ wcmckee@getsdrawn.com:/home/wcmckee/getsdrawndotcom')"
   ]
  },
  {
   "cell_type": "code",
   "execution_count": 78,
   "metadata": {
    "collapsed": true
   },
   "outputs": [],
   "source": [
    "#rsync -azP source destination"
   ]
  },
  {
   "cell_type": "code",
   "execution_count": 79,
   "metadata": {
    "collapsed": true
   },
   "outputs": [],
   "source": [
    "#updatehtm = raw_input('Update index? Y/n')\n",
    "#updateref = raw_input('Update reference? Y/n')\n",
    "\n",
    "#if 'y' or '' in updatehtm:\n",
    "#    os.system('scp -r /home/wcmckee/getsdrawndotcom/index.html wcmckee@getsdrawn.com:/home/wcmckee/getsdrawndotcom/index.html')\n",
    "#elif 'n' in updatehtm:\n",
    "#    print 'not uploading'\n",
    "#if 'y' or '' in updateref:\n",
    "#    os.system('rsync -azP /home/wcmckee/getsdrawndotcom/ wcmckee@getsdrawn.com:/home/wcmckee/getsdrawndotcom/')"
   ]
  },
  {
   "cell_type": "code",
   "execution_count": 80,
   "metadata": {
    "collapsed": true
   },
   "outputs": [],
   "source": [
    "#os.system('scp -r /home/wcmckee/getsdrawndotcom/index.html wcmckee@getsdrawn.com:/home/wcmckee/getsdrawndotcom/index.html')"
   ]
  },
  {
   "cell_type": "code",
   "execution_count": 81,
   "metadata": {
    "collapsed": true
   },
   "outputs": [],
   "source": [
    "#os.system('scp -r /home/wcmckee/getsdrawndotcom/style.css wcmckee@getsdrawn.com:/home/wcmckee/getsdrawndotcom/style.css')"
   ]
  },
  {
   "cell_type": "code",
   "execution_count": 82,
   "metadata": {
    "collapsed": false
   },
   "outputs": [],
   "source": [
    "#os.system(\"find /home/wcmckee/getsdrawndotcom/ -type f -name '*-reference.png'\")\n"
   ]
  },
  {
   "cell_type": "code",
   "execution_count": 83,
   "metadata": {
    "collapsed": true
   },
   "outputs": [],
   "source": [
    "lisfed = []"
   ]
  },
  {
   "cell_type": "code",
   "execution_count": 84,
   "metadata": {
    "collapsed": false
   },
   "outputs": [],
   "source": [
    "#oswalk"
   ]
  },
  {
   "cell_type": "code",
   "execution_count": 85,
   "metadata": {
    "collapsed": false
   },
   "outputs": [],
   "source": [
    "getdrndir = ('/home/wcmckee/getsdrawndotcom/')"
   ]
  },
  {
   "cell_type": "code",
   "execution_count": 86,
   "metadata": {
    "collapsed": true
   },
   "outputs": [],
   "source": [
    "import walkdir "
   ]
  },
  {
   "cell_type": "code",
   "execution_count": 87,
   "metadata": {
    "collapsed": false
   },
   "outputs": [],
   "source": [
    "for oswalk in os.walk('/home/wcmckee/getsdrawndotcom/'):\n",
    "    #if '*-reference.png' in oswalk:\n",
    "    #print oswalk\n",
    "    lisfed.append(oswalk)"
   ]
  },
  {
   "cell_type": "code",
   "execution_count": 88,
   "metadata": {
    "collapsed": false
   },
   "outputs": [],
   "source": [
    "#for filz in walkdir.filtered_walk(getdrndir,  included_dirs='*-reference.png'):\n",
    " #   print filz"
   ]
  },
  {
   "cell_type": "code",
   "execution_count": 89,
   "metadata": {
    "collapsed": false
   },
   "outputs": [],
   "source": [
    "walkz = ('/home/wcmckee/getsdrawndotcom/')"
   ]
  },
  {
   "cell_type": "code",
   "execution_count": 90,
   "metadata": {
    "collapsed": false
   },
   "outputs": [
    {
     "data": {
      "text/plain": [
       "'/home/wcmckee/getsdrawndotcom/'"
      ]
     },
     "execution_count": 90,
     "metadata": {},
     "output_type": "execute_result"
    }
   ],
   "source": [
    "walkz"
   ]
  },
  {
   "cell_type": "code",
   "execution_count": 91,
   "metadata": {
    "collapsed": false
   },
   "outputs": [],
   "source": [
    "refim = []"
   ]
  },
  {
   "cell_type": "code",
   "execution_count": 92,
   "metadata": {
    "collapsed": false
   },
   "outputs": [],
   "source": [
    "from walkdir import filtered_walk, dir_paths, all_paths, file_paths\n",
    "\n",
    "files = file_paths(filtered_walk('/home/wcmckee/getsdrawndotcom/', depth=100, included_files=['*-reference.png']))"
   ]
  },
  {
   "cell_type": "code",
   "execution_count": 93,
   "metadata": {
    "collapsed": false
   },
   "outputs": [],
   "source": [
    "for fil in files:\n",
    "    #print fil\n",
    "    refim.append(fil)"
   ]
  },
  {
   "cell_type": "code",
   "execution_count": 93,
   "metadata": {
    "collapsed": false
   },
   "outputs": [],
   "source": []
  },
  {
   "cell_type": "code",
   "execution_count": 94,
   "metadata": {
    "collapsed": false
   },
   "outputs": [
    {
     "data": {
      "text/plain": [
       "2402"
      ]
     },
     "execution_count": 94,
     "metadata": {},
     "output_type": "execute_result"
    }
   ],
   "source": [
    "len(refim)"
   ]
  },
  {
   "cell_type": "code",
   "execution_count": 95,
   "metadata": {
    "collapsed": true
   },
   "outputs": [],
   "source": [
    "nalis = []\n",
    "imlis = []\n",
    "cheklis = []"
   ]
  },
  {
   "cell_type": "code",
   "execution_count": 96,
   "metadata": {
    "collapsed": false
   },
   "outputs": [],
   "source": [
    "for chet in refim:\n",
    "    cheklis.append(chet[54:-14])\n",
    "    imlis.append(chet[30:])"
   ]
  },
  {
   "cell_type": "code",
   "execution_count": 97,
   "metadata": {
    "collapsed": false
   },
   "outputs": [],
   "source": [
    "filnalis = filter(None, cheklis)"
   ]
  },
  {
   "cell_type": "code",
   "execution_count": 98,
   "metadata": {
    "collapsed": false
   },
   "outputs": [],
   "source": [
    "#def listurlz():\n",
    "#    for ref in refim:\n",
    "        #print ref[54:-14]\n",
    "#        nalis.append(ref[54:-14])\n",
    "        #imlis.append(ref[30:])\n",
    "       # return nalis"
   ]
  },
  {
   "cell_type": "code",
   "execution_count": 99,
   "metadata": {
    "collapsed": false
   },
   "outputs": [],
   "source": [
    "nelist = set(list(filnalis))"
   ]
  },
  {
   "cell_type": "code",
   "execution_count": 100,
   "metadata": {
    "collapsed": false
   },
   "outputs": [
    {
     "data": {
      "text/plain": [
       "1676"
      ]
     },
     "execution_count": 100,
     "metadata": {},
     "output_type": "execute_result"
    }
   ],
   "source": [
    "len(nelist) "
   ]
  },
  {
   "cell_type": "code",
   "execution_count": 101,
   "metadata": {
    "collapsed": true
   },
   "outputs": [],
   "source": [
    "finel = []"
   ]
  },
  {
   "cell_type": "code",
   "execution_count": 101,
   "metadata": {
    "collapsed": true
   },
   "outputs": [],
   "source": []
  },
  {
   "cell_type": "code",
   "execution_count": 102,
   "metadata": {
    "collapsed": false
   },
   "outputs": [],
   "source": [
    "#filnalis"
   ]
  },
  {
   "cell_type": "code",
   "execution_count": 103,
   "metadata": {
    "collapsed": false
   },
   "outputs": [],
   "source": [
    "for nel in nelist:\n",
    "    #print nel()\n",
    "    finel.append(nel)\n",
    "    finel.sort\n",
    "    "
   ]
  },
  {
   "cell_type": "code",
   "execution_count": 104,
   "metadata": {
    "collapsed": false
   },
   "outputs": [
    {
     "data": {
      "text/plain": [
       "<function sort>"
      ]
     },
     "execution_count": 104,
     "metadata": {},
     "output_type": "execute_result"
    }
   ],
   "source": [
    "finel.sort"
   ]
  },
  {
   "cell_type": "code",
   "execution_count": 105,
   "metadata": {
    "collapsed": true
   },
   "outputs": [],
   "source": [
    "feralis = []"
   ]
  },
  {
   "cell_type": "code",
   "execution_count": 106,
   "metadata": {
    "collapsed": false
   },
   "outputs": [],
   "source": [
    "for fil in finel:\n",
    "    #print fil\n",
    "    feralis.append(fil)"
   ]
  },
  {
   "cell_type": "code",
   "execution_count": 107,
   "metadata": {
    "collapsed": true
   },
   "outputs": [],
   "source": [
    "apzlis = []"
   ]
  },
  {
   "cell_type": "code",
   "execution_count": 108,
   "metadata": {
    "collapsed": false
   },
   "outputs": [],
   "source": [
    "for ferz in feralis:\n",
    "    #print ferz\n",
    "    for fea in ferz:\n",
    "        #print fea\n",
    "        apzlis.append(fea)"
   ]
  },
  {
   "cell_type": "code",
   "execution_count": 109,
   "metadata": {
    "collapsed": false
   },
   "outputs": [],
   "source": [
    "#sorted(feralis)"
   ]
  },
  {
   "cell_type": "code",
   "execution_count": 110,
   "metadata": {
    "collapsed": true
   },
   "outputs": [],
   "source": [
    "import random"
   ]
  },
  {
   "cell_type": "code",
   "execution_count": 111,
   "metadata": {
    "collapsed": false
   },
   "outputs": [],
   "source": [
    "randz = random.randint(0, len(nelist))"
   ]
  },
  {
   "cell_type": "code",
   "execution_count": 112,
   "metadata": {
    "collapsed": false
   },
   "outputs": [
    {
     "data": {
      "text/plain": [
       "1370"
      ]
     },
     "execution_count": 112,
     "metadata": {},
     "output_type": "execute_result"
    }
   ],
   "source": [
    "randz"
   ]
  },
  {
   "cell_type": "code",
   "execution_count": 113,
   "metadata": {
    "collapsed": false
   },
   "outputs": [],
   "source": [
    "newzlist = list(nelist)"
   ]
  },
  {
   "cell_type": "markdown",
   "metadata": {},
   "source": [
    "Getting silly error of json object not excisting. Was working before, and works if I run .py script. "
   ]
  },
  {
   "cell_type": "code",
   "execution_count": 124,
   "metadata": {
    "collapsed": false
   },
   "outputs": [],
   "source": [
    "ranred = r.get_redditor(newzlist[randz])"
   ]
  },
  {
   "cell_type": "code",
   "execution_count": 125,
   "metadata": {
    "collapsed": false
   },
   "outputs": [
    {
     "name": "stdout",
     "output_type": "stream",
     "text": [
      "<bound method Redditor._listing of Redditor(user_name='catstastic13')>\n"
     ]
    }
   ],
   "source": [
    "print ranred.get_submitted"
   ]
  },
  {
   "cell_type": "code",
   "execution_count": 126,
   "metadata": {
    "collapsed": false
   },
   "outputs": [],
   "source": [
    "comza = ranred.get_submitted()"
   ]
  },
  {
   "cell_type": "code",
   "execution_count": 127,
   "metadata": {
    "collapsed": false
   },
   "outputs": [],
   "source": [
    "ceaz = dict()"
   ]
  },
  {
   "cell_type": "code",
   "execution_count": 128,
   "metadata": {
    "collapsed": false
   },
   "outputs": [],
   "source": [
    "subdet = []"
   ]
  },
  {
   "cell_type": "code",
   "execution_count": 128,
   "metadata": {
    "collapsed": true
   },
   "outputs": [],
   "source": []
  },
  {
   "cell_type": "markdown",
   "metadata": {},
   "source": [
    "Converting the subreddit name to string allows to filter with a if loop. \n",
    "\n",
    "Would be nice to be able to filter without converting to str as it allows to see other data about the submission, such as title. \n",
    "\n",
    "What about using a dict instead of list. Value is the title, key is the subreddit. \n",
    "\n",
    "Filter the keys so only rgd shows."
   ]
  },
  {
   "cell_type": "code",
   "execution_count": 129,
   "metadata": {
    "collapsed": true
   },
   "outputs": [],
   "source": [
    "terbd = dict()"
   ]
  },
  {
   "cell_type": "code",
   "execution_count": 130,
   "metadata": {
    "collapsed": false
   },
   "outputs": [],
   "source": [
    "for rcom in comza:\n",
    "    #print rcom.subreddit\n",
    "    #print rcom.subreddit\n",
    "    subdet.append(str(rcom.subreddit))\n",
    "    terbd.update({str(rcom.title): str(rcom.subreddit)})\n",
    "    \n",
    "    \n",
    "    #if 'redditgetsdrawn' in rcom.subreddit:\n",
    "    #    print rcom\n",
    "    #print rcom.created"
   ]
  },
  {
   "cell_type": "code",
   "execution_count": 131,
   "metadata": {
    "collapsed": false
   },
   "outputs": [
    {
     "data": {
      "text/plain": [
       "{'Do Your Worst Please': 'redditgetsdrawnbadly',\n",
       " 'Does anybody want to draw me?': 'redditgetsdrawn',\n",
       " 'FOTD I did for a graduation yesterday. CCW! (:': 'youngMUA',\n",
       " 'First time using a better camera to take pictures. It still burns.': 'MakeupAddiction',\n",
       " \"I may be badly sunburnt, but that's not going to stop me from trying to look fab! Happy 4th!! (:\": 'youngMUA',\n",
       " 'Would anybody be willing to draw me in a cartoony kind of style? Thanks in advance! :)': 'redditgetsdrawn',\n",
       " 'Would somebody please draw me? :)': 'redditgetsdrawn'}"
      ]
     },
     "execution_count": 131,
     "metadata": {},
     "output_type": "execute_result"
    }
   ],
   "source": [
    "terbd"
   ]
  },
  {
   "cell_type": "code",
   "execution_count": 139,
   "metadata": {
    "collapsed": false
   },
   "outputs": [
    {
     "name": "stdout",
     "output_type": "stream",
     "text": [
      "['Would anybody be willing to draw me in a cartoony kind of style? Thanks in advance! :)', 'FOTD I did for a graduation yesterday. CCW! (:', 'Would somebody please draw me? :)', 'First time using a better camera to take pictures. It still burns.', 'Do Your Worst Please', 'Does anybody want to draw me?', \"I may be badly sunburnt, but that's not going to stop me from trying to look fab! Happy 4th!! (:\"]\n"
     ]
    }
   ],
   "source": [
    "if 'redditgetsdrawn' in str(terbd.values()):\n",
    "    print terbd.keys()\n",
    "    #print terbd"
   ]
  },
  {
   "cell_type": "code",
   "execution_count": 120,
   "metadata": {
    "collapsed": false
   },
   "outputs": [
    {
     "name": "stdout",
     "output_type": "stream",
     "text": [
      "redditgetsdrawn\n",
      "redditgetsdrawn\n",
      "redditgetsdrawn\n",
      "redditgetsdrawnbadly\n"
     ]
    }
   ],
   "source": [
    "for subd in subdet:\n",
    "    #print subd\n",
    "    if 'redditgetsdrawn' in subd:\n",
    "        print subd"
   ]
  },
  {
   "cell_type": "code",
   "execution_count": null,
   "metadata": {
    "collapsed": true
   },
   "outputs": [],
   "source": []
  },
  {
   "cell_type": "code",
   "execution_count": 492,
   "metadata": {
    "collapsed": true
   },
   "outputs": [],
   "source": [
    "deepmz = ranred.name"
   ]
  },
  {
   "cell_type": "code",
   "execution_count": 493,
   "metadata": {
    "collapsed": false
   },
   "outputs": [
    {
     "name": "stdout",
     "output_type": "stream",
     "text": [
      "s\n",
      "w\n",
      "e\n",
      "e\n",
      "t\n",
      "s\n",
      "t\n",
      "a\n",
      "c\n",
      "k\n",
      "s\n"
     ]
    }
   ],
   "source": [
    "for deep in deepmz:\n",
    "    print deep"
   ]
  },
  {
   "cell_type": "code",
   "execution_count": 494,
   "metadata": {
    "collapsed": false
   },
   "outputs": [],
   "source": [
    "rsubm = ranred.get_submitted"
   ]
  },
  {
   "cell_type": "code",
   "execution_count": 495,
   "metadata": {
    "collapsed": false
   },
   "outputs": [
    {
     "name": "stdout",
     "output_type": "stream",
     "text": [
      "2 :: I've seen a lot of amazing artist here. Could someone please draw this p...\n",
      "1 :: 19 [M4F] Texas guy looking for something to talk to. Fast reply.\n",
      "14 :: What are your best relatively cheap fun date ideas?\n",
      "2 :: Gestures?\n",
      "1 :: [Ps4] Vault of Glass hard mode.\n",
      "0 :: Life After Destiny.\n",
      "1 :: Help Wanted!\n",
      "1 :: Ps3 Level 27 Hunter looking for a Titan and a Warlock for weekly Nightfa...\n",
      "1 :: 20 [M4F] Texas/Anywhere looking for a person to talk to.:)\n",
      "2 :: Hey, Reddit. Can you find me a girlfriend?\n",
      "1 :: 19 [M4F] laid back Texas musician looking for people go talk to.\n",
      "1 :: Hey! I've seen some great artist here. Could someone have a go at me?\n",
      "1 :: Black ops Zombies easter eggs. (Ps3)\n",
      "1 :: What are the best riddles you know?\n",
      "0 :: Looking for RP. PS3 guy here.\n",
      "2 :: 19/M/Texas. M4F. let's chat!\n",
      "1 :: NPC death help?\n",
      "0 :: Possible recommendations? Help on build ideas?\n",
      "1 :: 19 M4F\n",
      "0 :: 19 [M4F] looking to meet some new people!\n",
      "1 :: 19 m4f looking to meet new people!\n",
      "2 :: Question to creators.\n",
      "4 :: What's your best drunk story?\n",
      "1 :: How do I get senpai to notice me? Pls help.\n",
      "22 :: How about this?\n"
     ]
    }
   ],
   "source": [
    "for rsm in rsubm():\n",
    "    print rsm"
   ]
  },
  {
   "cell_type": "code",
   "execution_count": 496,
   "metadata": {
    "collapsed": true
   },
   "outputs": [],
   "source": [
    "ozalis = []"
   ]
  },
  {
   "cell_type": "code",
   "execution_count": 515,
   "metadata": {
    "collapsed": false
   },
   "outputs": [],
   "source": [
    "for fera in feralis:\n",
    "    #print len(fera)\n",
    "    randz = random.randint(0, len(fera))\n",
    "    for fea in fera:\n",
    "        #print fea\n",
    "        ozalis.append(fea)\n",
    "        "
   ]
  },
  {
   "cell_type": "code",
   "execution_count": 516,
   "metadata": {
    "collapsed": false
   },
   "outputs": [],
   "source": [
    "#randz"
   ]
  },
  {
   "cell_type": "code",
   "execution_count": 517,
   "metadata": {
    "collapsed": false
   },
   "outputs": [],
   "source": [
    "#listurlz()"
   ]
  },
  {
   "cell_type": "code",
   "execution_count": 518,
   "metadata": {
    "collapsed": false
   },
   "outputs": [],
   "source": [
    "for ref in refim:\n",
    "    #print ref[54:-14]\n",
    "    nalis.append(ref[54:-14])\n",
    "    imlis.append(ref[30:])\n",
    "#54"
   ]
  },
  {
   "cell_type": "code",
   "execution_count": 519,
   "metadata": {
    "collapsed": false
   },
   "outputs": [
    {
     "data": {
      "text/plain": [
       "'imgs/15/01/05/reference/ReptileLover82-reference.png'"
      ]
     },
     "execution_count": 519,
     "metadata": {},
     "output_type": "execute_result"
    }
   ],
   "source": [
    "imlis[0]"
   ]
  },
  {
   "cell_type": "code",
   "execution_count": 520,
   "metadata": {
    "collapsed": true
   },
   "outputs": [],
   "source": [
    "nalis.sort()"
   ]
  },
  {
   "cell_type": "code",
   "execution_count": 521,
   "metadata": {
    "collapsed": false
   },
   "outputs": [
    {
     "data": {
      "text/plain": [
       "4770"
      ]
     },
     "execution_count": 521,
     "metadata": {},
     "output_type": "execute_result"
    }
   ],
   "source": [
    "len(nalis)"
   ]
  },
  {
   "cell_type": "code",
   "execution_count": 521,
   "metadata": {
    "collapsed": true
   },
   "outputs": [],
   "source": []
  },
  {
   "cell_type": "code",
   "execution_count": 522,
   "metadata": {
    "collapsed": false
   },
   "outputs": [],
   "source": [
    "filnalis = filter(None, nalis)"
   ]
  },
  {
   "cell_type": "markdown",
   "metadata": {},
   "source": [
    "Working good at extracting usernames from folders. Need to look up usernames on reddit. "
   ]
  },
  {
   "cell_type": "code",
   "execution_count": 523,
   "metadata": {
    "collapsed": false
   },
   "outputs": [],
   "source": [
    "#for filna in filnalis:\n",
    "#    usrz = r.get_redditor(filna)"
   ]
  },
  {
   "cell_type": "code",
   "execution_count": 524,
   "metadata": {
    "collapsed": true
   },
   "outputs": [],
   "source": [
    "#itfil = iter(filnalis)"
   ]
  },
  {
   "cell_type": "code",
   "execution_count": 525,
   "metadata": {
    "collapsed": false
   },
   "outputs": [],
   "source": [
    "#filter(itfil)"
   ]
  },
  {
   "cell_type": "code",
   "execution_count": 526,
   "metadata": {
    "collapsed": false
   },
   "outputs": [],
   "source": [
    "#for itz in itfil:\n",
    "#    print itz"
   ]
  },
  {
   "cell_type": "code",
   "execution_count": 533,
   "metadata": {
    "collapsed": false
   },
   "outputs": [],
   "source": [
    "#for filn in filnalis:\n",
    "#    print filn"
   ]
  },
  {
   "cell_type": "code",
   "execution_count": 528,
   "metadata": {
    "collapsed": true
   },
   "outputs": [],
   "source": [
    "docall = dominate.document(title='GetsDrawnAll')\n",
    "\n",
    "with docall.head:\n",
    "    link(rel='stylesheet', href='style.css')\n",
    "    script(type ='text/javascript', src='script.js')\n",
    "    #str(str2)\n",
    "    \n",
    "    with div():\n",
    "        attr(cls='header')\n",
    "        h1('GetsDrawnAll')\n",
    "        p(img('imgs/getsdrawn-bw.png', src='imgs/getsdrawn-bw.png'))\n",
    "        #p(img('imgs/15/01/02/ReptileLover82-reference.png', src= 'imgs/15/01/02/ReptileLover82-reference.png'))\n",
    "        h1('Updated ', strftime(\"%a, %d %b %Y %H:%M:%S +0000\", gmtime()))\n",
    "        #p(panz)\n",
    "        p(bodycom)\n",
    "    \n",
    "    \n",
    "\n",
    "with docall:\n",
    "    with div(id='body').add(ol()):\n",
    "        for refz in imlis:\n",
    "            #h1(rdz.title)\n",
    "            #a(rdz.url)\n",
    "            #p(img(rdz, src='%s' % rdz))\n",
    "            #print rdz\n",
    "            p(img(refz, src = refz))\n",
    "            p(refz)\n",
    "\n",
    "\n",
    "                \n",
    "            #print rdz.url\n",
    "            #if '.jpg' in rdz.url:\n",
    "            #    img(rdz.urlz)\n",
    "            #else:\n",
    "            #    a(rdz.urlz)\n",
    "            #h1(str(rdz.author))\n",
    "            \n",
    "            #li(img(i.lower(), src='%s' % i))\n",
    "\n",
    "    with div():\n",
    "        attr(cls='body')\n",
    "        p('GetsDrawn is open source')\n",
    "        a('https://github.com/wcmckee/wcmckee')\n",
    "        a('https://reddit.com/r/redditgetsdrawn')\n",
    "\n",
    "#print doc"
   ]
  },
  {
   "cell_type": "code",
   "execution_count": 529,
   "metadata": {
    "collapsed": false
   },
   "outputs": [],
   "source": [
    "doctea = docall.render()"
   ]
  },
  {
   "cell_type": "code",
   "execution_count": 530,
   "metadata": {
    "collapsed": true
   },
   "outputs": [],
   "source": [
    "strng = doctea.encode('ascii', 'ignore').decode('ascii')"
   ]
  },
  {
   "cell_type": "code",
   "execution_count": 531,
   "metadata": {
    "collapsed": true
   },
   "outputs": [],
   "source": [
    "getdall = ('/home/wcmckee/getsdrawnall/index.html')"
   ]
  },
  {
   "cell_type": "code",
   "execution_count": 532,
   "metadata": {
    "collapsed": false
   },
   "outputs": [],
   "source": [
    "msav = open(getdall, 'w')\n",
    "msav.write(strng)\n",
    "msav.close()"
   ]
  },
  {
   "cell_type": "code",
   "execution_count": 514,
   "metadata": {
    "collapsed": true
   },
   "outputs": [],
   "source": []
  },
  {
   "cell_type": "code",
   "execution_count": 514,
   "metadata": {
    "collapsed": true
   },
   "outputs": [],
   "source": []
  },
  {
   "cell_type": "code",
   "execution_count": 514,
   "metadata": {
    "collapsed": true
   },
   "outputs": [],
   "source": []
  },
  {
   "cell_type": "code",
   "execution_count": 514,
   "metadata": {
    "collapsed": true
   },
   "outputs": [],
   "source": []
  },
  {
   "cell_type": "code",
   "execution_count": null,
   "metadata": {
    "collapsed": true
   },
   "outputs": [],
   "source": []
  }
 ],
 "metadata": {
  "kernelspec": {
   "display_name": "Python 2",
   "name": "python2"
  },
  "language_info": {
   "codemirror_mode": {
    "name": "ipython",
    "version": 2
   },
   "file_extension": ".py",
   "mimetype": "text/x-python",
   "name": "python",
   "nbconvert_exporter": "python",
   "pygments_lexer": "ipython2",
   "version": "2.7.8"
  }
 },
 "nbformat": 4,
 "nbformat_minor": 0
}
